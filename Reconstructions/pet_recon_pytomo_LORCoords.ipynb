{
 "cells": [
  {
   "cell_type": "code",
   "execution_count": 2,
   "id": "5b2618e5",
   "metadata": {},
   "outputs": [
    {
     "name": "stdout",
     "output_type": "stream",
     "text": [
      "CUDA available: False\n",
      "Current device: cpu\n"
     ]
    }
   ],
   "source": [
    "# IMPORTS\n",
    "# A TOF coords adaptation of the listmode PET scan reconstruction from: https://pytomography.readthedocs.io/en/latest/notebooks/t_PETGATE_scat_lm.html\n",
    "\n",
    "from __future__ import annotations\n",
    "import torch\n",
    "import pytomography\n",
    "from pytomography.metadata import ObjectMeta\n",
    "from pytomography.metadata.PET import PETLMProjMeta\n",
    "from pytomography.projectors.PET import PETLMSystemMatrix\n",
    "from pytomography.algorithms import OSEM, MLEM\n",
    "from pytomography.io.PET import gate, shared\n",
    "from pytomography.likelihoods import PoissonLogLikelihood\n",
    "import os\n",
    "from pytomography.transforms.shared import GaussianFilter\n",
    "import matplotlib.pyplot as plt\n",
    "from pytomography.utils import sss\n",
    "\n",
    "import os\n",
    "os.environ['KMP_DUPLICATE_LIB_OK'] = 'TRUE'\n",
    "\n",
    "# torch.cuda.is_available = lambda: False\n",
    "print(f\"CUDA available: {torch.cuda.is_available()}\")\n",
    "# pytomography.device = 'cpu'\n",
    "print(f\"Current device: {pytomography.device}\")\n",
    "torch.cuda.empty_cache()"
   ]
  },
  {
   "cell_type": "code",
   "execution_count": 5,
   "id": "fef607c5",
   "metadata": {},
   "outputs": [],
   "source": [
    "# # Visualisation Functions\n",
    "import plotly.graph_objects as go\n",
    "import plotly.express as px\n",
    "import numpy as np\n",
    "from ipywidgets import interact, IntSlider, FloatSlider\n",
    "\n",
    "\n",
    "def visualize_voxel_tensor_3d(voxel_tensor, initial_min_threshold=None, initial_max_threshold=None, \n",
    "                               voxel_size_mm=1.0, world_origin=None, min_threshold=None, max_threshold=None):\n",
    "    \"\"\"\n",
    "    Interactive 3D visualization of voxel tensor with dual threshold sliders.\n",
    "\n",
    "    Args:\n",
    "        voxel_tensor: (nx, ny, nz) numpy array with voxel counts\n",
    "        initial_min_threshold: Initial minimum threshold value for the slider (default: min_val)\n",
    "        initial_max_threshold: Initial maximum threshold value for the slider (default: max_val)\n",
    "        voxel_size_mm: Size of each voxel in mm (default: 1.0mm)\n",
    "        world_origin: (x_min, y_min, z_min) world coordinates of voxel (0,0,0) (optional)\n",
    "        min_threshold: Minimum threshold value for slider range (optional)\n",
    "        max_threshold: Maximum threshold value for slider range (optional)\n",
    "    \"\"\"\n",
    "    # Extract non-zero voxel coordinates and values\n",
    "    coords = np.where(voxel_tensor > 0)\n",
    "    x_coords, y_coords, z_coords = coords\n",
    "    values = voxel_tensor[coords]\n",
    "\n",
    "    # Convert voxel indices to world coordinates if world_origin provided\n",
    "    if world_origin is not None:\n",
    "        x_min, y_min, z_min = world_origin\n",
    "        x_coords_world = x_coords * voxel_size_mm + x_min\n",
    "        y_coords_world = y_coords * voxel_size_mm + y_min\n",
    "        z_coords_world = z_coords * voxel_size_mm + z_min\n",
    "        coord_suffix = \" (mm)\"\n",
    "    else:\n",
    "        x_coords_world = x_coords * voxel_size_mm\n",
    "        y_coords_world = y_coords * voxel_size_mm\n",
    "        z_coords_world = z_coords * voxel_size_mm\n",
    "        coord_suffix = f\" (×{voxel_size_mm}mm)\"\n",
    "\n",
    "    # Get value range for sliders\n",
    "    min_val = float(np.min(values))\n",
    "    max_val = float(np.max(values))\n",
    "\n",
    "    # Use user-specified min/max threshold range if provided\n",
    "    slider_min = min_threshold if min_threshold is not None else min_val\n",
    "    slider_max = max_threshold if max_threshold is not None else max_val\n",
    "\n",
    "    # Set initial thresholds with defaults\n",
    "    if initial_min_threshold is None:\n",
    "        initial_min_threshold = slider_min\n",
    "    else:\n",
    "        initial_min_threshold = max(slider_min, min(slider_max, float(initial_min_threshold)))\n",
    "    \n",
    "    if initial_max_threshold is None:\n",
    "        initial_max_threshold = slider_max\n",
    "    else:\n",
    "        initial_max_threshold = max(slider_min, min(slider_max, float(initial_max_threshold)))\n",
    "\n",
    "    # Ensure min <= max\n",
    "    if initial_min_threshold > initial_max_threshold:\n",
    "        initial_min_threshold, initial_max_threshold = initial_max_threshold, initial_min_threshold\n",
    "\n",
    "    print(f\"Voxel value range: {min_val} to {max_val}\")\n",
    "    print(f\"Total non-zero voxels: {len(values)}\")\n",
    "    print(f\"Initial thresholds: {initial_min_threshold} to {initial_max_threshold}\")\n",
    "    print(f\"Slider range: {slider_min} to {slider_max}\")\n",
    "    print(f\"Voxel resolution: {voxel_size_mm}mm\")\n",
    "\n",
    "    def update_plot(min_thresh, max_thresh):\n",
    "        # Ensure min <= max\n",
    "        if min_thresh > max_thresh:\n",
    "            min_thresh, max_thresh = max_thresh, min_thresh\n",
    "\n",
    "        # Filter voxels within threshold range\n",
    "        mask = (values >= min_thresh) & (values <= max_thresh)\n",
    "        if not np.any(mask):\n",
    "            print(f\"No voxels in threshold range [{min_thresh}, {max_thresh}]\")\n",
    "            return\n",
    "\n",
    "        filtered_x = x_coords_world[mask]\n",
    "        filtered_y = y_coords_world[mask]\n",
    "        filtered_z = z_coords_world[mask]\n",
    "        filtered_values = values[mask]\n",
    "\n",
    "        # Create 3D scatter plot\n",
    "        fig = go.Figure(data=go.Scatter3d(\n",
    "            x=filtered_x,\n",
    "            y=filtered_y,\n",
    "            z=filtered_z,\n",
    "            mode='markers',\n",
    "            marker=dict(\n",
    "                size=1,\n",
    "                color=filtered_values,\n",
    "                colorscale='Viridis',\n",
    "                opacity=0.8,\n",
    "                colorbar=dict(title=\"Voxel Count\"),\n",
    "                line=dict(width=0)\n",
    "            ),\n",
    "            text=[f'Count: {v}' for v in filtered_values],\n",
    "            hovertemplate='<b>Voxel (%{x:.1f}, %{y:.1f}, %{z:.1f})</b><br>%{text}<extra></extra>'\n",
    "        ))\n",
    "\n",
    "        fig.update_layout(\n",
    "            title=f'3D Voxel Visualization (Range: [{min_thresh:.6f}, {max_thresh:.6f}], Showing: {len(filtered_values)} voxels)',\n",
    "            scene=dict(\n",
    "                xaxis_title=f'X{coord_suffix}',\n",
    "                yaxis_title=f'Y{coord_suffix}',\n",
    "                zaxis_title=f'Z{coord_suffix}',\n",
    "                camera=dict(\n",
    "                    eye=dict(x=1.5, y=1.5, z=1.5)\n",
    "                ),\n",
    "                aspectmode='cube'\n",
    "            ),\n",
    "            width=800,\n",
    "            height=600\n",
    "        )\n",
    "\n",
    "        fig.show()\n",
    "\n",
    "    # Create interactive sliders with linked constraints\n",
    "    min_threshold_slider = FloatSlider(\n",
    "        value=initial_min_threshold,\n",
    "        min=slider_min,\n",
    "        max=slider_max,\n",
    "        step=0.01,\n",
    "        description='Min Threshold:',\n",
    "        continuous_update=False,\n",
    "        style={'description_width': 'initial'}\n",
    "    )\n",
    "\n",
    "    max_threshold_slider = FloatSlider(\n",
    "        value=initial_max_threshold,\n",
    "        min=slider_min,\n",
    "        max=slider_max,\n",
    "        step=0.01,\n",
    "        description='Max Threshold:',\n",
    "        continuous_update=False,\n",
    "        style={'description_width': 'initial'}\n",
    "    )\n",
    "\n",
    "    # Link sliders to maintain min <= max constraint\n",
    "    def on_min_change(change):\n",
    "        if change['new'] > max_threshold_slider.value:\n",
    "            max_threshold_slider.value = change['new']\n",
    "\n",
    "    def on_max_change(change):\n",
    "        if change['new'] < min_threshold_slider.value:\n",
    "            min_threshold_slider.value = change['new']\n",
    "\n",
    "    min_threshold_slider.observe(on_min_change, names='value')\n",
    "    max_threshold_slider.observe(on_max_change, names='value')\n",
    "\n",
    "    interact(update_plot, \n",
    "             min_thresh=min_threshold_slider, \n",
    "             max_thresh=max_threshold_slider)\n",
    "\n",
    "\n",
    "from plotly.subplots import make_subplots\n",
    "import numpy as np\n",
    "import plotly.graph_objects as go\n",
    "from plotly.subplots import make_subplots\n",
    "from ipywidgets import interact, IntSlider, FloatSlider\n",
    "\n",
    "def plot_cross_sections_interactive(numpy_array, vmax=None, title=\"Orthogonal Cross Sections\"):\n",
    "    \"\"\"\n",
    "    Create an interactive 3D cross-section viewer for a 3D numpy array.\n",
    "    \n",
    "    Parameters:\n",
    "    -----------\n",
    "    numpy_array : np.ndarray\n",
    "        3D numpy array to visualize (shape: nx, ny, nz)\n",
    "    vmax : float, optional\n",
    "        Maximum value for color scale. If None, uses array maximum\n",
    "    title : str, optional\n",
    "        Title for the plot\n",
    "    \"\"\"\n",
    "    \n",
    "    # Ensure input is numpy array\n",
    "    if not isinstance(numpy_array, np.ndarray):\n",
    "        raise ValueError(\"Input must be a numpy array\")\n",
    "    \n",
    "    if numpy_array.ndim != 3:\n",
    "        raise ValueError(\"Input must be a 3D array\")\n",
    "    \n",
    "    nx, ny, nz = numpy_array.shape\n",
    "    \n",
    "    # Set default vmax if not provided\n",
    "    if vmax is None:\n",
    "        vmax = numpy_array.max()\n",
    "    \n",
    "    def plot_cross_sections_horizontal(x_idx=nx//2, y_idx=ny//2, z_idx=nz//2, \n",
    "                                     vmax_slider=vmax, cmap='Magma'):\n",
    "        fig = make_subplots(rows=1, cols=3, subplot_titles=[\n",
    "            f'XY plane @ z={z_idx}',\n",
    "            f'XZ plane @ y={y_idx}',\n",
    "            f'YZ plane @ x={x_idx}'\n",
    "        ])\n",
    "\n",
    "        # XY plane at z=z_idx\n",
    "        fig.add_trace(go.Heatmap(\n",
    "            z=numpy_array[:, :, z_idx].T,\n",
    "            colorscale=cmap,\n",
    "            zmax=vmax_slider,\n",
    "            zmin=0,\n",
    "            showscale=True,\n",
    "            name=f'XY @ z={z_idx}'\n",
    "        ), row=1, col=1)\n",
    "\n",
    "        # XZ plane at y=y_idx\n",
    "        fig.add_trace(go.Heatmap(\n",
    "            z=numpy_array[:, y_idx, :].T,\n",
    "            colorscale=cmap,\n",
    "            zmax=vmax_slider,\n",
    "            zmin=0,\n",
    "            showscale=True,\n",
    "            name=f'XZ @ y={y_idx}'\n",
    "        ), row=1, col=2)\n",
    "\n",
    "        # YZ plane at x=x_idx\n",
    "        fig.add_trace(go.Heatmap(\n",
    "            z=numpy_array[x_idx, :, :].T,\n",
    "            colorscale=cmap,\n",
    "            zmax=vmax_slider,\n",
    "            zmin=0,\n",
    "            showscale=True,\n",
    "            name=f'YZ @ x={x_idx}'\n",
    "        ), row=1, col=3)\n",
    "\n",
    "        fig.update_layout(\n",
    "            width=1200,\n",
    "            height=400,\n",
    "            title_text=title\n",
    "        )\n",
    "        fig.show()\n",
    "\n",
    "    # Create interactive widget\n",
    "    interact(\n",
    "        plot_cross_sections_horizontal,\n",
    "        x_idx=IntSlider(min=0, max=nx-1, step=1, value=nx//2, description='X index'),\n",
    "        y_idx=IntSlider(min=0, max=ny-1, step=1, value=ny//2, description='Y index'),\n",
    "        z_idx=IntSlider(min=0, max=nz-1, step=1, value=nz//2, description='Z index'),\n",
    "        vmax_slider=FloatSlider(min=0, max=numpy_array.max(), step=0.01, value=vmax, description='vmax'),\n",
    "        cmap=['Magma','Greys', 'Viridis', 'Cividis', 'Plasma']\n",
    "    )\n"
   ]
  },
  {
   "cell_type": "code",
   "execution_count": 6,
   "id": "cbcf8277",
   "metadata": {},
   "outputs": [
    {
     "name": "stdout",
     "output_type": "stream",
     "text": [
      "\n",
      "Data Shape (pairs, coords) : (173953, 6)\n",
      "\n",
      "Filtered shape: torch.Size([42640, 6])\n",
      "\n",
      "x range: min=-277.8960876464844, max=278.1202392578125\n",
      "y range: min=-278.1751403808594, max=277.7425842285156\n",
      "z range: min=-147.99990844726562, max=148.13735961914062\n"
     ]
    }
   ],
   "source": [
    "# Initial Loading, Filtering, and Coordinate Range Calculation\n",
    "import numpy as np\n",
    "\n",
    "# Load coordinates\n",
    "# coordinates = np.load(fr\"C:\\Users\\h\\Desktop\\PET_Recons\\Data\\ground_truth.npy\")\n",
    "coordinates = np.load(fr\"C:\\Users\\h\\Desktop\\PET_Recons\\Data\\ground_truth1.npy\")\n",
    "\n",
    "# Confirm shape should be (pairs, coords=6), coords are (x1, y1, z1, x2, y2, z2)\n",
    "print(f\"\\nData Shape (pairs, coords) : {coordinates.shape}\\n\")  \n",
    "\n",
    "# Remove pairs where any coordinate value is exactly 0\n",
    "filtered_coordinates = coordinates[~np.any(coordinates == 0, axis=1)]\n",
    "filtered_coordinates = torch.from_numpy(filtered_coordinates).float()\n",
    "# filtered_coordinates = filtered_coordinates[:100,:]\n",
    "print(f\"Filtered shape: {filtered_coordinates.shape}\\n\")\n",
    "\n",
    "# Extract all x, y, z pairs - Coordinates are in the order (x1, y1, z1, x2, y2, z2)\n",
    "all_xyz = filtered_coordinates.reshape(-1, 3) # Reshape to (pairs, 3) for (x, y, z)\n",
    "x_vals, y_vals, z_vals = all_xyz[:, 0], all_xyz[:, 1], all_xyz[:, 2]\n",
    "print(f\"x range: min={x_vals.min()}, max={x_vals.max()}\")\n",
    "print(f\"y range: min={y_vals.min()}, max={y_vals.max()}\")\n",
    "print(f\"z range: min={z_vals.min()}, max={z_vals.max()}\")"
   ]
  },
  {
   "cell_type": "code",
   "execution_count": 7,
   "id": "2adf1478",
   "metadata": {},
   "outputs": [],
   "source": [
    "import torch\n",
    "import math\n",
    "\n",
    "def create_intersecting_lines(counts=1000, intersection_point=(0, 0, 0), coord_range=(100, 100, 100)):\n",
    "    \"\"\"\n",
    "    Create a torch tensor of shape (counts, 6) containing lines that all intersect EXACTLY at a specified point.\n",
    "    \n",
    "    Args:\n",
    "        counts: Number of lines to generate\n",
    "        intersection_point: (x, y, z) coordinates where all lines intersect\n",
    "        coord_range: (x_range, y_range, z_range) maximum absolute values for coordinates\n",
    "    \n",
    "    Returns:\n",
    "        torch.Tensor: Shape (counts, 6) with format [x1, y1, z1, x2, y2, z2] per row\n",
    "    \"\"\"\n",
    "    \n",
    "    # Convert to tensors\n",
    "    intersection = torch.tensor(intersection_point, dtype=torch.float32)\n",
    "    ranges = torch.tensor(coord_range, dtype=torch.float32)\n",
    "    \n",
    "    # Generate random unit directions for each line\n",
    "    directions = torch.randn(counts, 3)\n",
    "    directions = directions / torch.norm(directions, dim=1, keepdim=True)\n",
    "    \n",
    "    lines = torch.zeros(counts, 6, dtype=torch.float32)\n",
    "    \n",
    "    for i in range(counts):\n",
    "        direction = directions[i]\n",
    "        \n",
    "        # Calculate maximum possible distances in positive and negative directions\n",
    "        # while staying within coordinate bounds\n",
    "        pos_distances = torch.where(direction > 0, \n",
    "                                  (ranges - intersection) / direction,\n",
    "                                  torch.where(direction < 0,\n",
    "                                            (intersection + ranges) / (-direction),\n",
    "                                            torch.tensor(float('inf'))))\n",
    "        \n",
    "        neg_distances = torch.where(direction < 0,\n",
    "                                  (ranges - intersection) / (-direction),\n",
    "                                  torch.where(direction > 0,\n",
    "                                            (intersection + ranges) / direction,\n",
    "                                            torch.tensor(float('inf'))))\n",
    "        \n",
    "        # Use the minimum constraint for each direction\n",
    "        max_pos_distance = torch.min(pos_distances)\n",
    "        max_neg_distance = torch.min(neg_distances)\n",
    "        \n",
    "        # Generate random distances within valid bounds\n",
    "        # Ensure we don't go to zero distance (which would make both endpoints the same)\n",
    "        min_distance = 0.1  # Small minimum distance to avoid degenerate lines\n",
    "        \n",
    "        if max_pos_distance > min_distance:\n",
    "            pos_distance = torch.rand(1) * (max_pos_distance - min_distance) + min_distance\n",
    "        else:\n",
    "            pos_distance = torch.tensor([min_distance])\n",
    "            \n",
    "        if max_neg_distance > min_distance:\n",
    "            neg_distance = torch.rand(1) * (max_neg_distance - min_distance) + min_distance\n",
    "        else:\n",
    "            neg_distance = torch.tensor([min_distance])\n",
    "        \n",
    "        # Calculate endpoints\n",
    "        endpoint1 = intersection + pos_distance * direction\n",
    "        endpoint2 = intersection - neg_distance * direction\n",
    "        \n",
    "        # Store in tensor\n",
    "        lines[i, :3] = endpoint1\n",
    "        lines[i, 3:] = endpoint2\n",
    "    \n",
    "    return lines\n",
    "\n",
    "def verify_intersection(lines, intersection_point=(0, 0, 0), tolerance=1e-6):\n",
    "    \"\"\"\n",
    "    Verify that lines pass EXACTLY through the intersection point\n",
    "    \"\"\"\n",
    "    intersection = torch.tensor(intersection_point, dtype=torch.float32)\n",
    "    \n",
    "    max_error = 0.0\n",
    "    for i in range(len(lines)):\n",
    "        p1 = lines[i, :3]\n",
    "        p2 = lines[i, 3:]\n",
    "        \n",
    "        # Parametric line equation: point = p1 + t*(p2-p1)\n",
    "        # Find t where line passes through intersection\n",
    "        direction = p2 - p1\n",
    "        to_intersection = intersection - p1\n",
    "        \n",
    "        # Solve: p1 + t*(p2-p1) = intersection\n",
    "        # t = dot(to_intersection, direction) / dot(direction, direction)\n",
    "        t = torch.dot(to_intersection, direction) / torch.dot(direction, direction)\n",
    "        point_on_line = p1 + t * direction\n",
    "        \n",
    "        error = torch.norm(point_on_line - intersection).item()\n",
    "        max_error = max(max_error, error)\n",
    "        \n",
    "        if i < 5:  # Print first 5 for verification\n",
    "            print(f\"Line {i}: error = {error:.10f}, t = {t:.6f}\")\n",
    "    \n",
    "    print(f\"Maximum error across all lines: {max_error:.10f}\")\n",
    "    print(f\"All lines pass through intersection: {max_error < tolerance}\")\n",
    "    return max_error < tolerance\n",
    "\n",
    "# intersection_point=(100, 100, 100)\n",
    "\n",
    "# custom_lines = create_intersecting_lines(\n",
    "#     counts=5000, \n",
    "#     intersection_point=intersection_point, \n",
    "#     coord_range=(150, 175, 130)\n",
    "# )\n",
    "# print(f\"Custom tensor shape: {custom_lines.shape}\")\n",
    "\n",
    "# verify_intersection(custom_lines, intersection_point=intersection_point)\n",
    "# filtered_coordinates = custom_lines"
   ]
  },
  {
   "cell_type": "code",
   "execution_count": 8,
   "id": "19b0f363",
   "metadata": {},
   "outputs": [
    {
     "name": "stdout",
     "output_type": "stream",
     "text": [
      "Voxel size: 5.0mm\n",
      "Voxel shape: (112, 112, 60) (nx, ny, nz)\n",
      "Voxel tensor shape: (112, 112, 60)\n"
     ]
    }
   ],
   "source": [
    "# Data shape extraction and basic 3d backprojection\n",
    "voxel_size = 5.0\n",
    "\n",
    "def binary_rasterize_lors_3d_dda(pairs_coords, voxel_size_mm=1.0):\n",
    "    \"\"\"\n",
    "    Rasterize lines of response into 3D voxel space using exact 3D DDA traversal.\n",
    "    \n",
    "    Args:\n",
    "        pairs_coords: (N, 6) array where each row is [x1,y1,z1,x2,y2,z2]\n",
    "        voxel_size_mm: Size of each voxel in mm (default: 1.0mm)\n",
    "    \n",
    "    Returns:\n",
    "        voxel_tensor: (nx, ny, nz) array with line traversal counts\n",
    "    \"\"\"\n",
    "    # World coordinate ranges (mm)\n",
    "    all_xyz = pairs_coords.reshape(-1, 3) # Reshape to (pairs, 3) for (x, y, z)\n",
    "    x_vals, y_vals, z_vals = all_xyz[:, 0], all_xyz[:, 1], all_xyz[:, 2]\n",
    "\n",
    "    x_min = x_vals.min()\n",
    "    x_max = x_vals.max()\n",
    "    y_min = y_vals.min()\n",
    "    y_max = y_vals.max()\n",
    "    z_min = z_vals.min()\n",
    "    z_max = z_vals.max()\n",
    "\n",
    "    # Round the min and max values to voxel boundaries\n",
    "    x_min = np.floor(x_min / voxel_size_mm) * voxel_size_mm\n",
    "    x_max = np.ceil(x_max / voxel_size_mm) * voxel_size_mm\n",
    "    y_min = np.floor(y_min / voxel_size_mm) * voxel_size_mm\n",
    "    y_max = np.ceil(y_max / voxel_size_mm) * voxel_size_mm\n",
    "    z_min = np.floor(z_min / voxel_size_mm) * voxel_size_mm\n",
    "    z_max = np.ceil(z_max / voxel_size_mm) * voxel_size_mm\n",
    "\n",
    "    # Calculate voxel tensor shape based on resolution\n",
    "    nx = int((x_max - x_min) / voxel_size_mm)\n",
    "    ny = int((y_max - y_min) / voxel_size_mm)\n",
    "    nz = int((z_max - z_min) / voxel_size_mm)\n",
    "    \n",
    "    voxel_shape = (nx, ny, nz)\n",
    "    print(f\"Voxel size: {voxel_size_mm}mm\")\n",
    "    print(f\"Voxel shape: {voxel_shape} (nx, ny, nz)\")\n",
    "    \n",
    "    voxel_tensor = np.zeros(voxel_shape, dtype=np.int32)\n",
    "    \n",
    "    # Coordinate transformation: world -> voxel indices\n",
    "    def world_to_voxel(coords):\n",
    "        x, y, z = coords[:, 0], coords[:, 1], coords[:, 2]\n",
    "        vx = (x - x_min) / voxel_size_mm\n",
    "        vy = (y - y_min) / voxel_size_mm\n",
    "        vz = (z - z_min) / voxel_size_mm\n",
    "        return np.column_stack([vx, vy, vz])\n",
    "    \n",
    "    def dda_3d(p1, p2):\n",
    "        \"\"\"3D DDA algorithm - returns list of (x,y,z) voxel indices along line\"\"\"\n",
    "        x1, y1, z1 = p1\n",
    "        x2, y2, z2 = p2\n",
    "        \n",
    "        # Direction and step sizes\n",
    "        dx = x2 - x1\n",
    "        dy = y2 - y1\n",
    "        dz = z2 - z1\n",
    "        \n",
    "        # Number of steps is maximum of absolute differences\n",
    "        steps = int(max(abs(dx), abs(dy), abs(dz)))\n",
    "        if steps == 0:\n",
    "            return [(int(round(x1)), int(round(y1)), int(round(z1)))]\n",
    "        \n",
    "        # Step increments\n",
    "        x_inc = dx / steps\n",
    "        y_inc = dy / steps\n",
    "        z_inc = dz / steps\n",
    "        \n",
    "        voxels = []\n",
    "        x, y, z = x1, y1, z1\n",
    "        \n",
    "        for _ in range(steps + 1):\n",
    "            vx, vy, vz = int(round(x)), int(round(y)), int(round(z))\n",
    "            \n",
    "            # Check bounds\n",
    "            if 0 <= vx < nx and 0 <= vy < ny and 0 <= vz < nz:\n",
    "                voxels.append((vx, vy, vz))\n",
    "            \n",
    "            x += x_inc\n",
    "            y += y_inc\n",
    "            z += z_inc\n",
    "        \n",
    "        return voxels\n",
    "    \n",
    "    # Transform all coordinates to voxel space\n",
    "    points1 = world_to_voxel(pairs_coords[:, :3])  # First points\n",
    "    points2 = world_to_voxel(pairs_coords[:, 3:])  # Second points\n",
    "    \n",
    "    # Process each LOR\n",
    "    for i in range(len(pairs_coords)):\n",
    "        p1 = points1[i]\n",
    "        p2 = points2[i]\n",
    "        \n",
    "        # Get voxels along this line\n",
    "        voxels = dda_3d(p1, p2)\n",
    "        \n",
    "        # Increment voxel counts\n",
    "        for vx, vy, vz in voxels:\n",
    "            voxel_tensor[vx, vy, vz] += 1\n",
    "    \n",
    "    return voxel_tensor\n",
    "\n",
    "voxel_tensor = binary_rasterize_lors_3d_dda(filtered_coordinates, voxel_size_mm=voxel_size)\n",
    "print(f\"Voxel tensor shape: {voxel_tensor.shape}\")\n",
    "\n",
    "# Specify object space for reconstruction\n",
    "# voxel_space = voxel_tensor.shape # voxels\n",
    "voxel_space = voxel_tensor.shape # voxels"
   ]
  },
  {
   "cell_type": "code",
   "execution_count": 9,
   "id": "99a187f2",
   "metadata": {},
   "outputs": [
    {
     "name": "stdout",
     "output_type": "stream",
     "text": [
      "Visualizing all 42640 LORs\n",
      "No scanner_info provided - visualizing LOR endpoints only\n",
      "\n",
      "Interactive slider created for LOR indices 0-42639\n"
     ]
    },
    {
     "data": {
      "application/vnd.jupyter.widget-view+json": {
       "model_id": "6b004fa4dbf94811895ea590ef3795e5",
       "version_major": 2,
       "version_minor": 0
      },
      "text/plain": [
       "VBox(children=(IntSlider(value=0, description='LOR Index:', layout=Layout(width='400px'), max=42639, style=Sli…"
      ]
     },
     "metadata": {},
     "output_type": "display_data"
    }
   ],
   "source": [
    "import plotly.graph_objects as go\n",
    "from plotly.graph_objs import FigureWidget\n",
    "import numpy as np\n",
    "from scipy.spatial import cKDTree\n",
    "from ipywidgets import interact, IntSlider, VBox\n",
    "from IPython.display import display\n",
    "\n",
    "def visualize_lors_and_detectors_3d(coordinates, scanner_info=None, sample_lors=None, \n",
    "                                   highlight_detector_ids=None, highlight_color='green',\n",
    "                                   validate_lor_index=None, verbose=True, \n",
    "                                   distance_threshold=5.0):\n",
    "    \"\"\"\n",
    "    3D visualization of LOR endpoints and PET detector positions with interactive slider for LOR validation.\n",
    "    Camera orientation is preserved during slider interactions.\n",
    "    \n",
    "    Parameters:\n",
    "    -----------\n",
    "    coordinates : numpy.ndarray\n",
    "        Shape (n_lors, 6) containing [x1, y1, z1, x2, y2, z2] for each LOR\n",
    "    scanner_info : dict, optional\n",
    "        Dictionary containing scanner geometry parameters. If None, only LOR endpoints are visualized.\n",
    "    sample_lors : int, optional\n",
    "        Number of LORs to sample for visualization (default: all)\n",
    "    highlight_detector_ids : list or set, optional\n",
    "        Detector IDs to highlight with different color (ignored if scanner_info is None)\n",
    "    highlight_color : str, optional\n",
    "        Color for highlighted detectors (default: 'green')\n",
    "    validate_lor_index : int, optional\n",
    "        Initial LOR index to display in the slider (default: 0)\n",
    "    verbose : bool, optional\n",
    "        If False, suppresses all print outputs (default: True)\n",
    "    distance_threshold : float, optional\n",
    "        Maximum allowed distance (in mm) between extended endpoints and assigned detectors.\n",
    "        LOR pairs where either endpoint exceeds this distance are excluded (default: 5.0)\n",
    "        Only used if scanner_info is provided.\n",
    "        \n",
    "    Returns:\n",
    "    --------\n",
    "    tuple\n",
    "        If scanner_info provided: (full_detector_id_pairs, valid_detector_id_pairs, valid_lor_indices)\n",
    "        If scanner_info is None: (None, None, None)\n",
    "    \"\"\"\n",
    "    \n",
    "    def extend_endpoints_to_radius(endpoints1, endpoints2, target_radius):\n",
    "        \"\"\"\n",
    "        Extend LOR endpoints along the LOR direction until they reach the target radius.\n",
    "        \"\"\"\n",
    "        # Calculate LOR direction vectors (from endpoint1 to endpoint2)\n",
    "        lor_directions = endpoints2 - endpoints1\n",
    "        lor_lengths = np.linalg.norm(lor_directions, axis=1, keepdims=True)\n",
    "        \n",
    "        # Avoid division by zero\n",
    "        lor_lengths = np.where(lor_lengths == 0, 1e-10, lor_lengths)\n",
    "        lor_unit_vectors = lor_directions / lor_lengths\n",
    "        \n",
    "        def find_radius_intersection(start_point, direction, target_radius):\n",
    "            \"\"\"Find where a ray intersects the cylinder at target_radius.\"\"\"\n",
    "            x0, y0, z0 = start_point.T\n",
    "            dx, dy, dz = direction.T\n",
    "            \n",
    "            # Quadratic equation coefficients: at² + bt + c = 0\n",
    "            a = dx**2 + dy**2\n",
    "            b = 2 * (x0 * dx + y0 * dy)\n",
    "            c = x0**2 + y0**2 - target_radius**2\n",
    "            \n",
    "            # Solve quadratic equation\n",
    "            valid_mask = np.abs(a) > 1e-10  # Direction has xy component\n",
    "            result = start_point.copy()\n",
    "            \n",
    "            if np.any(valid_mask):\n",
    "                a_valid = a[valid_mask]\n",
    "                b_valid = b[valid_mask]\n",
    "                c_valid = c[valid_mask]\n",
    "                \n",
    "                discriminant = b_valid**2 - 4 * a_valid * c_valid\n",
    "                solvable_mask = discriminant >= 0\n",
    "                \n",
    "                if np.any(solvable_mask):\n",
    "                    sqrt_disc = np.sqrt(discriminant[solvable_mask])\n",
    "                    t1 = (-b_valid[solvable_mask] + sqrt_disc) / (2 * a_valid[solvable_mask])\n",
    "                    t2 = (-b_valid[solvable_mask] - sqrt_disc) / (2 * a_valid[solvable_mask])\n",
    "                    \n",
    "                    # Choose the positive t value\n",
    "                    t_chosen = np.where(\n",
    "                        (t1 > 0) & (t2 > 0), np.minimum(t1, t2),\n",
    "                        np.where(t1 > 0, t1, \n",
    "                                np.where(t2 > 0, t2, np.maximum(t1, t2)))\n",
    "                    )\n",
    "                    \n",
    "                    # Calculate intersection points\n",
    "                    valid_indices = np.where(valid_mask)[0]\n",
    "                    solvable_indices = valid_indices[solvable_mask]\n",
    "                    \n",
    "                    result[solvable_indices] = (start_point[solvable_indices] + \n",
    "                                            t_chosen.reshape(-1, 1) * direction[solvable_indices])\n",
    "            \n",
    "            return result\n",
    "        \n",
    "        # Extend endpoints in OPPOSITE directions along the LOR line\n",
    "        extended_endpoints1 = find_radius_intersection(endpoints1, -lor_unit_vectors, target_radius)\n",
    "        extended_endpoints2 = find_radius_intersection(endpoints2, lor_unit_vectors, target_radius)\n",
    "        \n",
    "        return extended_endpoints1, extended_endpoints2\n",
    "    \n",
    "    # Sample LORs if specified\n",
    "    if sample_lors is not None and sample_lors < coordinates.shape[0]:\n",
    "        indices = np.random.choice(coordinates.shape[0], sample_lors, replace=False)\n",
    "        coordinates_sample = coordinates[indices]\n",
    "        if verbose:\n",
    "            print(f\"Sampling {sample_lors} LORs out of {coordinates.shape[0]} total\")\n",
    "    else:\n",
    "        coordinates_sample = coordinates\n",
    "        if verbose:\n",
    "            print(f\"Visualizing all {coordinates.shape[0]} LORs\")\n",
    "    \n",
    "    # Extract LOR endpoints\n",
    "    n_lors = coordinates_sample.shape[0]\n",
    "    endpoint1 = coordinates_sample[:, :3]  # [x1, y1, z1]\n",
    "    endpoint2 = coordinates_sample[:, 3:]  # [x2, y2, z2]\n",
    "    \n",
    "    # Initialize variables for detector analysis (will remain None if no scanner_info)\n",
    "    detector_positions = None\n",
    "    detector_ids = None\n",
    "    full_detector_id_pairs = None\n",
    "    valid_detector_id_pairs = None\n",
    "    valid_lor_indices = None\n",
    "    extended_endpoint1 = None\n",
    "    extended_endpoint2 = None\n",
    "    distances1 = None\n",
    "    distances2 = None\n",
    "    \n",
    "    # Only perform detector analysis if scanner_info is provided\n",
    "    if scanner_info is not None:\n",
    "        # Generate detector positions and IDs\n",
    "        radius = scanner_info['radius']\n",
    "        crystals_per_ring = scanner_info['NrCrystalsPerRing']\n",
    "        n_rings = scanner_info['NrRings']\n",
    "        crystal_axial_spacing = scanner_info['crystalAxialSpacing']\n",
    "        module_axial_spacing = scanner_info['moduleAxialSpacing']\n",
    "        module_axial_nr = scanner_info['moduleAxialNr']\n",
    "        crystals_axial_per_module = scanner_info['crystalAxialNr']\n",
    "        \n",
    "        # Calculate total axial extent\n",
    "        crystals_per_module_axial = crystals_axial_per_module\n",
    "        modules_span = (module_axial_nr - 1) * module_axial_spacing\n",
    "        crystals_within_modules_span = (crystals_per_module_axial - 1) * crystal_axial_spacing * module_axial_nr\n",
    "        total_axial_extent = modules_span + crystals_within_modules_span\n",
    "        \n",
    "        # Generate detector positions and IDs\n",
    "        detector_positions = []\n",
    "        detector_ids = []\n",
    "        \n",
    "        for ring in range(n_rings):\n",
    "            # Calculate z position for this ring\n",
    "            if n_rings == 1:\n",
    "                z_pos = 0.0\n",
    "            else:\n",
    "                z_pos = -total_axial_extent/2 + ring * (total_axial_extent / (n_rings - 1))\n",
    "            \n",
    "            for crystal in range(crystals_per_ring):\n",
    "                # Calculate angular position\n",
    "                angle = 2 * np.pi * crystal / crystals_per_ring\n",
    "                \n",
    "                # Convert to Cartesian coordinates\n",
    "                x_pos = radius * np.cos(angle)\n",
    "                y_pos = radius * np.sin(angle)\n",
    "                \n",
    "                detector_positions.append([x_pos, y_pos, z_pos])\n",
    "                detector_id = ring * crystals_per_ring + crystal\n",
    "                detector_ids.append(detector_id)\n",
    "        \n",
    "        detector_positions = np.array(detector_positions)\n",
    "        detector_ids = np.array(detector_ids)\n",
    "        \n",
    "        # Calculate detector assignments for all LORs\n",
    "        extended_endpoint1, extended_endpoint2 = extend_endpoints_to_radius(endpoint1, endpoint2, radius)\n",
    "        \n",
    "        # Build KDTree for efficient nearest neighbor search\n",
    "        kdtree = cKDTree(detector_positions)\n",
    "        \n",
    "        # Find nearest detector for each extended endpoint\n",
    "        _, nearest_indices1 = kdtree.query(extended_endpoint1)\n",
    "        _, nearest_indices2 = kdtree.query(extended_endpoint2)\n",
    "        \n",
    "        # Convert to detector IDs\n",
    "        full_detector_id_pairs = np.column_stack([\n",
    "            detector_ids[nearest_indices1],\n",
    "            detector_ids[nearest_indices2]\n",
    "        ])\n",
    "        \n",
    "        # Calculate distances and apply filtering\n",
    "        distances1 = np.linalg.norm(extended_endpoint1 - detector_positions[nearest_indices1], axis=1)\n",
    "        distances2 = np.linalg.norm(extended_endpoint2 - detector_positions[nearest_indices2], axis=1)\n",
    "        valid_mask = (distances1 <= distance_threshold) & (distances2 <= distance_threshold)\n",
    "        \n",
    "        valid_detector_id_pairs = full_detector_id_pairs[valid_mask]\n",
    "        valid_lor_indices = np.where(valid_mask)[0]\n",
    "        \n",
    "        # Print initial statistics\n",
    "        if verbose:\n",
    "            print(f\"\\nDistance Filtering (threshold: {distance_threshold} mm):\")\n",
    "            print(f\"Original LORs: {len(full_detector_id_pairs)}\")\n",
    "            print(f\"Valid LORs: {len(valid_detector_id_pairs)}\")\n",
    "            print(f\"Filtered out: {len(full_detector_id_pairs) - len(valid_detector_id_pairs)}\")\n",
    "            print(f\"Filtering efficiency: {len(valid_detector_id_pairs)/len(full_detector_id_pairs)*100:.1f}%\")\n",
    "    else:\n",
    "        if verbose:\n",
    "            print(\"No scanner_info provided - visualizing LOR endpoints only\")\n",
    "    \n",
    "    # Create the persistent FigureWidget\n",
    "    fig = FigureWidget()\n",
    "    \n",
    "    # Add static background elements that don't change with slider\n",
    "    all_lor_points = np.vstack([endpoint1, endpoint2])\n",
    "    bg_opacity = 0.3\n",
    "    detector_opacity = 0.4\n",
    "    \n",
    "    # Add ALL LOR endpoints (static background)\n",
    "    fig.add_trace(go.Scatter3d(\n",
    "        x=all_lor_points[:, 0],\n",
    "        y=all_lor_points[:, 1],\n",
    "        z=all_lor_points[:, 2],\n",
    "        mode='markers',\n",
    "        marker=dict(\n",
    "            size=2,\n",
    "            color='red',\n",
    "            opacity=bg_opacity,\n",
    "            line=dict(width=0)\n",
    "        ),\n",
    "        name=f'All LOR Endpoints',\n",
    "        hovertemplate='<b>LOR Endpoint</b><br>' +\n",
    "                      'X: %{x:.1f} mm<br>' +\n",
    "                      'Y: %{y:.1f} mm<br>' +\n",
    "                      'Z: %{z:.1f} mm<extra></extra>'\n",
    "    ))\n",
    "    \n",
    "    # Add detector traces only if scanner_info is provided\n",
    "    if scanner_info is not None:\n",
    "        # Prepare detector colors\n",
    "        if highlight_detector_ids is not None:\n",
    "            highlight_set = set(highlight_detector_ids)\n",
    "            highlight_mask = np.isin(detector_ids, list(highlight_set))\n",
    "            regular_mask = ~highlight_mask\n",
    "            regular_positions = detector_positions[regular_mask]\n",
    "            highlight_positions = detector_positions[highlight_mask]\n",
    "            regular_ids = detector_ids[regular_mask]\n",
    "            highlight_ids = detector_ids[highlight_mask]\n",
    "            \n",
    "            if verbose:\n",
    "                print(f\"Highlighting {len(highlight_positions)} detectors: {sorted(highlight_set)}\")\n",
    "        else:\n",
    "            regular_positions = detector_positions\n",
    "            highlight_positions = np.array([]).reshape(0, 3)\n",
    "            regular_ids = detector_ids\n",
    "            highlight_ids = np.array([])\n",
    "        \n",
    "        # Add regular detectors (static)\n",
    "        if len(regular_positions) > 0:\n",
    "            fig.add_trace(go.Scatter3d(\n",
    "                x=regular_positions[:, 0],\n",
    "                y=regular_positions[:, 1],\n",
    "                z=regular_positions[:, 2],\n",
    "                mode='markers',\n",
    "                marker=dict(\n",
    "                    size=3,\n",
    "                    color='blue',\n",
    "                    opacity=detector_opacity,\n",
    "                    symbol='diamond',\n",
    "                    line=dict(width=0)\n",
    "                ),\n",
    "                name='Regular Detectors',\n",
    "                customdata=regular_ids,\n",
    "                hovertemplate='<b>Detector ID: %{customdata}</b><br>' +\n",
    "                              'X: %{x:.1f} mm<br>' +\n",
    "                              'Y: %{y:.1f} mm<br>' +\n",
    "                              'Z: %{z:.1f} mm<extra></extra>'\n",
    "            ))\n",
    "        \n",
    "        # Add highlighted detectors (static)\n",
    "        if len(highlight_positions) > 0:\n",
    "            fig.add_trace(go.Scatter3d(\n",
    "                x=highlight_positions[:, 0],\n",
    "                y=highlight_positions[:, 1],\n",
    "                z=highlight_positions[:, 2],\n",
    "                mode='markers',\n",
    "                marker=dict(\n",
    "                    size=5,\n",
    "                    color=highlight_color,\n",
    "                    opacity=1.0,\n",
    "                    symbol='diamond',\n",
    "                    line=dict(width=1, color='black')\n",
    "                ),\n",
    "                name=f'Highlighted Detectors ({highlight_color})',\n",
    "                customdata=highlight_ids,\n",
    "                hovertemplate='<b>Highlighted Detector ID: %{customdata}</b><br>' +\n",
    "                              'X: %{x:.1f} mm<br>' +\n",
    "                              'Y: %{y:.1f} mm<br>' +\n",
    "                              'Z: %{z:.1f} mm<extra></extra>'\n",
    "            ))\n",
    "    \n",
    "    # Define trace names based on whether scanner_info is provided\n",
    "    if scanner_info is not None:\n",
    "        trace_names = [\n",
    "            'LOR - Original Endpoints',\n",
    "            'LOR - Extended Endpoints', \n",
    "            'LOR - Assigned Detectors',\n",
    "            'LOR - Original Line',\n",
    "            'Extension Path 1',\n",
    "            'Extension Path 2', \n",
    "            'Detector Assignment 1',\n",
    "            'Detector Assignment 2'\n",
    "        ]\n",
    "    else:\n",
    "        trace_names = [\n",
    "            'LOR - Original Endpoints',\n",
    "            'LOR - Original Line'\n",
    "        ]\n",
    "    \n",
    "    # Add empty traces that will be populated by slider updates\n",
    "    for i, name in enumerate(trace_names):\n",
    "        fig.add_trace(go.Scatter3d(\n",
    "            x=[], y=[], z=[],\n",
    "            mode='markers' if 'Endpoints' in name or 'Detectors' in name else 'lines',\n",
    "            name=name,\n",
    "            showlegend=True if 'Endpoints' in name or 'Detectors' in name else False\n",
    "        ))\n",
    "    \n",
    "    # Set initial layout\n",
    "    title_text = '3D LOR Validation with Persistent Camera View' if scanner_info is not None else '3D LOR Point Cloud Visualization'\n",
    "    fig.update_layout(\n",
    "        title=title_text,\n",
    "        scene=dict(\n",
    "            xaxis_title='X (mm)',\n",
    "            yaxis_title='Y (mm)',\n",
    "            zaxis_title='Z (mm)',\n",
    "            camera=dict(\n",
    "                eye=dict(x=1.5, y=1.5, z=1.5),\n",
    "                center=dict(x=0, y=0, z=0),\n",
    "                up=dict(x=0, y=0, z=1)\n",
    "            ),\n",
    "            aspectmode='cube'\n",
    "        ),\n",
    "        width=900,\n",
    "        height=700,\n",
    "        legend=dict(\n",
    "            x=0.02,\n",
    "            y=0.98,\n",
    "            bgcolor='rgba(255,255,255,0.8)'\n",
    "        )\n",
    "    )\n",
    "    \n",
    "    def update_lor_visualization(lor_index):\n",
    "        \"\"\"Update only the LOR-specific traces without recreating the entire plot\"\"\"\n",
    "        \n",
    "        if lor_index >= coordinates_sample.shape[0]:\n",
    "            # Clear all dynamic traces if invalid index\n",
    "            static_traces_count = 1  # All LOR endpoints\n",
    "            if scanner_info is not None:\n",
    "                static_traces_count += 1  # Regular detectors\n",
    "                if highlight_detector_ids is not None:\n",
    "                    static_traces_count += 1  # Highlighted detectors\n",
    "            \n",
    "            with fig.batch_update():\n",
    "                for i in range(len(trace_names)):\n",
    "                    fig.data[static_traces_count + i].update(x=[], y=[], z=[])\n",
    "                title_suffix = 'LOR Validation' if scanner_info is not None else 'LOR Point Cloud Visualization'\n",
    "                fig.layout.title.text = f'3D {title_suffix}: LOR {lor_index} (INVALID INDEX)'\n",
    "            return\n",
    "        \n",
    "        # Get the specific LOR's data\n",
    "        val_endpoint1 = coordinates_sample[lor_index, :3]\n",
    "        val_endpoint2 = coordinates_sample[lor_index, 3:]\n",
    "        \n",
    "        # Calculate how many static traces we have\n",
    "        static_traces_count = 1  # All LOR endpoints\n",
    "        if scanner_info is not None:\n",
    "            static_traces_count += 1  # Regular detectors\n",
    "            if highlight_detector_ids is not None:\n",
    "                static_traces_count += 1  # Highlighted detectors\n",
    "        \n",
    "        with fig.batch_update():\n",
    "            if scanner_info is not None:\n",
    "                # Get validation data for the selected LOR\n",
    "                original_lor_survived = lor_index in valid_lor_indices\n",
    "                val_extended1 = extended_endpoint1[lor_index]\n",
    "                val_extended2 = extended_endpoint2[lor_index]\n",
    "                \n",
    "                # Get detector assignments\n",
    "                val_detector1_id = full_detector_id_pairs[lor_index, 0]\n",
    "                val_detector2_id = full_detector_id_pairs[lor_index, 1]\n",
    "                \n",
    "                # Find detector positions\n",
    "                det_idx1 = np.where(detector_ids == val_detector1_id)[0][0]\n",
    "                det_idx2 = np.where(detector_ids == val_detector2_id)[0][0]\n",
    "                val_detector1_pos = detector_positions[det_idx1]\n",
    "                val_detector2_pos = detector_positions[det_idx2]\n",
    "                \n",
    "                dist1, dist2 = distances1[lor_index], distances2[lor_index]\n",
    "                \n",
    "                # Color coding based on validity\n",
    "                endpoint_color = 'orange' if original_lor_survived else 'red'\n",
    "                extended_color = 'purple' if original_lor_survived else 'magenta'\n",
    "                detector_color = 'yellow' if original_lor_survived else 'pink'\n",
    "                line_color_1 = 'orange' if original_lor_survived else 'red'\n",
    "                line_color_2 = 'purple' if original_lor_survived else 'magenta'\n",
    "                \n",
    "                status_text = f\"VALID (≤{distance_threshold}mm)\" if original_lor_survived else f\"FILTERED (>{distance_threshold}mm)\"\n",
    "                \n",
    "                # Update traces in the exact order they were created in trace_names:\n",
    "                # 0: 'LOR - Original Endpoints'\n",
    "                fig.data[static_traces_count + 0].update(\n",
    "                    x=[val_endpoint1[0], val_endpoint2[0]],\n",
    "                    y=[val_endpoint1[1], val_endpoint2[1]],\n",
    "                    z=[val_endpoint1[2], val_endpoint2[2]],\n",
    "                    marker=dict(\n",
    "                        size=8,\n",
    "                        color=endpoint_color,\n",
    "                        opacity=1.0,\n",
    "                        symbol='circle',\n",
    "                        line=dict(width=2, color='black')\n",
    "                    ),\n",
    "                    name=f'LOR {lor_index} - Original Endpoints ({status_text})',\n",
    "                    hovertemplate='<b>Original Endpoint</b><br>' +\n",
    "                                  'X: %{x:.1f} mm<br>' +\n",
    "                                  'Y: %{y:.1f} mm<br>' +\n",
    "                                  'Z: %{z:.1f} mm<extra></extra>'\n",
    "                )\n",
    "                \n",
    "                # 1: 'LOR - Extended Endpoints'\n",
    "                fig.data[static_traces_count + 1].update(\n",
    "                    x=[val_extended1[0], val_extended2[0]],\n",
    "                    y=[val_extended1[1], val_extended2[1]],\n",
    "                    z=[val_extended1[2], val_extended2[2]],\n",
    "                    marker=dict(\n",
    "                        size=6,\n",
    "                        color=extended_color,\n",
    "                        opacity=1.0,\n",
    "                        symbol='square',\n",
    "                        line=dict(width=2, color='black')\n",
    "                    ),\n",
    "                    name=f'LOR {lor_index} - Extended Endpoints',\n",
    "                    hovertemplate='<b>Extended Endpoint</b><br>' +\n",
    "                                  'X: %{x:.1f} mm<br>' +\n",
    "                                  'Y: %{y:.1f} mm<br>' +\n",
    "                                  'Z: %{z:.1f} mm<extra></extra>'\n",
    "                )\n",
    "                \n",
    "                # 2: 'LOR - Assigned Detectors'\n",
    "                fig.data[static_traces_count + 2].update(\n",
    "                    x=[val_detector1_pos[0], val_detector2_pos[0]],\n",
    "                    y=[val_detector1_pos[1], val_detector2_pos[1]],\n",
    "                    z=[val_detector1_pos[2], val_detector2_pos[2]],\n",
    "                    marker=dict(\n",
    "                        size=8,\n",
    "                        color=detector_color,\n",
    "                        opacity=1.0,\n",
    "                        symbol='diamond-open',\n",
    "                        line=dict(width=2, color='black')\n",
    "                    ),\n",
    "                    name=f'LOR {lor_index} - Assigned Detectors (d1:{dist1:.1f}mm, d2:{dist2:.1f}mm)',\n",
    "                    customdata=[val_detector1_id, val_detector2_id],\n",
    "                    hovertemplate='<b>Assigned Detector ID: %{customdata}</b><br>' +\n",
    "                                  'X: %{x:.1f} mm<br>' +\n",
    "                                  'Y: %{y:.1f} mm<br>' +\n",
    "                                  'Z: %{z:.1f} mm<extra></extra>'\n",
    "                )\n",
    "                \n",
    "                # 3: 'LOR - Original Line'\n",
    "                fig.data[static_traces_count + 3].update(\n",
    "                    x=[val_endpoint1[0], val_endpoint2[0]],\n",
    "                    y=[val_endpoint1[1], val_endpoint2[1]],\n",
    "                    z=[val_endpoint1[2], val_endpoint2[2]],\n",
    "                    line=dict(color='black', width=6),\n",
    "                    name=f'LOR {lor_index} - Original LOR Line'\n",
    "                )\n",
    "                \n",
    "                # 4: 'Extension Path 1'\n",
    "                fig.data[static_traces_count + 4].update(\n",
    "                    x=[val_endpoint1[0], val_extended1[0]],\n",
    "                    y=[val_endpoint1[1], val_extended1[1]],\n",
    "                    z=[val_endpoint1[2], val_extended1[2]],\n",
    "                    line=dict(color=line_color_1, width=4, dash='dash')\n",
    "                )\n",
    "                \n",
    "                # 5: 'Extension Path 2'\n",
    "                fig.data[static_traces_count + 5].update(\n",
    "                    x=[val_endpoint2[0], val_extended2[0]],\n",
    "                    y=[val_endpoint2[1], val_extended2[1]],\n",
    "                    z=[val_endpoint2[2], val_extended2[2]],\n",
    "                    line=dict(color=line_color_1, width=4, dash='dash')\n",
    "                )\n",
    "                \n",
    "                # 6: 'Detector Assignment 1'\n",
    "                fig.data[static_traces_count + 6].update(\n",
    "                    x=[val_extended1[0], val_detector1_pos[0]],\n",
    "                    y=[val_extended1[1], val_detector1_pos[1]],\n",
    "                    z=[val_extended1[2], val_detector1_pos[2]],\n",
    "                    line=dict(color=line_color_2, width=4, dash='dot')\n",
    "                )\n",
    "                \n",
    "                # 7: 'Detector Assignment 2'\n",
    "                fig.data[static_traces_count + 7].update(\n",
    "                    x=[val_extended2[0], val_detector2_pos[0]],\n",
    "                    y=[val_extended2[1], val_detector2_pos[1]],\n",
    "                    z=[val_extended2[2], val_detector2_pos[2]],\n",
    "                    line=dict(color=line_color_2, width=4, dash='dot')\n",
    "                )\n",
    "                \n",
    "                # Update title\n",
    "                fig.layout.title.text = f'3D LOR Validation: LOR {lor_index} ({status_text})'\n",
    "                \n",
    "            else:\n",
    "                # Point cloud mode - only update original endpoints and line\n",
    "                # 0: 'LOR - Original Endpoints'\n",
    "                fig.data[static_traces_count + 0].update(\n",
    "                    x=[val_endpoint1[0], val_endpoint2[0]],\n",
    "                    y=[val_endpoint1[1], val_endpoint2[1]],\n",
    "                    z=[val_endpoint1[2], val_endpoint2[2]],\n",
    "                    marker=dict(\n",
    "                        size=8,\n",
    "                        color='orange',\n",
    "                        opacity=1.0,\n",
    "                        symbol='circle',\n",
    "                        line=dict(width=2, color='black')\n",
    "                    ),\n",
    "                    name=f'LOR {lor_index} - Original Endpoints',\n",
    "                    hovertemplate='<b>Original Endpoint</b><br>' +\n",
    "                                  'X: %{x:.1f} mm<br>' +\n",
    "                                  'Y: %{y:.1f} mm<br>' +\n",
    "                                  'Z: %{z:.1f} mm<extra></extra>'\n",
    "                )\n",
    "                \n",
    "                # 1: 'LOR - Original Line'\n",
    "                fig.data[static_traces_count + 1].update(\n",
    "                    x=[val_endpoint1[0], val_endpoint2[0]],\n",
    "                    y=[val_endpoint1[1], val_endpoint2[1]],\n",
    "                    z=[val_endpoint1[2], val_endpoint2[2]],\n",
    "                    line=dict(color='black', width=6),\n",
    "                    name=f'LOR {lor_index} - Original LOR Line'\n",
    "                )\n",
    "                \n",
    "                # Update title for point cloud mode\n",
    "                fig.layout.title.text = f'3D LOR Point Cloud: LOR {lor_index}'\n",
    "    \n",
    "    # Set up the interactive slider\n",
    "    max_lor_index = coordinates_sample.shape[0] - 1\n",
    "    initial_lor_index = validate_lor_index if validate_lor_index is not None else 0\n",
    "    \n",
    "    slider = IntSlider(\n",
    "        value=initial_lor_index,\n",
    "        min=0,\n",
    "        max=max_lor_index,\n",
    "        step=1,\n",
    "        description='LOR Index:',\n",
    "        style={'description_width': 'initial'},\n",
    "        layout={'width': '400px'}\n",
    "    )\n",
    "    \n",
    "    if verbose:\n",
    "        print(f\"\\nInteractive slider created for LOR indices 0-{max_lor_index}\")\n",
    "        if scanner_info is not None:\n",
    "            print(f\"Distance threshold: {distance_threshold} mm\")\n",
    "    \n",
    "    # Connect slider to update function\n",
    "    def on_slider_change(change):\n",
    "        if change['type'] == 'change' and change['name'] == 'value':\n",
    "            update_lor_visualization(change['new'])\n",
    "    \n",
    "    slider.observe(on_slider_change)\n",
    "    \n",
    "    # Initialize with the starting LOR\n",
    "    update_lor_visualization(initial_lor_index)\n",
    "    \n",
    "    # Display the widget and figure\n",
    "    display(VBox([slider, fig]))\n",
    "    \n",
    "    return full_detector_id_pairs, valid_detector_id_pairs, valid_lor_indices\n",
    "\n",
    "full_detector_ids, valid_detector_ids, valid_indices = visualize_lors_and_detectors_3d(\n",
    "                                                    filtered_coordinates.numpy(),\n",
    "                                                    # info,\n",
    "                                                    #  highlight_detector_ids=[0, 1, 5, 4370],\n",
    "                                                     verbose=True,\n",
    "                                                    #  verbose=False,\n",
    "                                                    #  validate_lor_index=13,\n",
    "                                                     distance_threshold=5.0,)\n"
   ]
  },
  {
   "cell_type": "code",
   "execution_count": 10,
   "id": "ac155435",
   "metadata": {},
   "outputs": [
    {
     "data": {
      "application/vnd.plotly.v1+json": {
       "config": {
        "plotlyServerURL": "https://plot.ly"
       },
       "data": [
        {
         "colorbar": {
          "len": 0.8,
          "title": {
           "text": "Counts"
          },
          "x": 0.42
         },
         "hovertemplate": "<b>Azimuthal Angle: %{x:.1f}°</b><br><b>Radial Distance: %{y:.1f} mm</b><br><b>Count: %{z:.3f}</b><extra></extra>",
         "showscale": true,
         "type": "heatmap",
         "x": {
          "bdata": "AAAAABC3gD8QtwBAmRJBQBC3gEDU5KBAmRLBQFxA4UAQtwBB8s0QQdTkIEG2+zBBmRJBQXspUUFcQGFBPldxQRC3gEGBwohB8s2QQWPZmEHU5KBBRfCoQbb7sEEnB7lBmRLBQQkeyUF7KdFB7DTZQVxA4UHMS+lBPlfxQa5i+UEQtwBCybwEQoHCCEI6yAxC8s0QQqvTFEJj2RhCHN8cQtTkIEKM6iRCRfAoQv71LEK2+zBCbwE1QicHOULgDD1CmRJBQlAYRUIJHklCwiNNQnspUUIzL1VC7DRZQqM6XUJcQGFCFUZlQsxLaUKFUW1CPldxQvdcdUKuYnlCZ2h9QhC3gELtuYJCybyEQqS/hkKBwohCXcWKQjrIjEIWy45C8s2QQs/QkkKr05RChtaWQmPZmEI/3JpCHN+cQvjhnkLU5KBCsOeiQozqpEJp7aZCRfCoQiLzqkL+9axC2/iuQrb7sEKS/rJCbgG1QkoEt0IlB7lCAgq7Qt4MvUK7D79ClxLBQnQVw0JQGMVCLRvHQgkeyULkIMtCwSPNQp0mz0J6KdFCVSzTQjEv1UIOMtdC6jTZQsY320KiOt1Cfz3fQltA4UI4Q+NCFEblQu9I50LMS+lCqk7rQoNR7UJhVO9CPlfxQhpa80L1XPVC01/3Qq5i+UKKZftCZ2j9QkJr/0IPtwBDfrgBQ+u5AkNauwNDyLwEQze+BUOkvwZDE8EHQ4HCCEPvwwlDXcUKQ8vGC0M5yAxDp8kNQxbLDkODzA9D8c0QQ2DPEUPN0BJDPNITQ6rTFEMZ1RVDhtYWQ/TXF0Nj2RhD0doZQz/cGkOt3RtDG98cQ4rgHUP44R5DZeMfQ9TkIENC5iFDsOciQx/pI0OM6iRD+uslQ2ntJkPW7idDRfAoQ7PxKUMi8ypDj/QrQ/31LENs9y1D2fguQ0f6L0O2+zBDJP0xQ5L+MkMAADRD",
          "dtype": "f4"
         },
         "xaxis": "x",
         "y": {
          "bdata": "dCuXw5f6lMO7yZLD3piQwwJojsMlN4zDSAaKw2zVh8OPpIXDs3ODw9ZCgcPzI37DOsJ5w4FgdcPI/nDDDp1sw1Y7aMOc2WPD43dfwyoWW8NxtFbDuFJSw/7wTcNGj0nDjC1Fw9PLQMMaajzDYQg4w6imM8PuRC/DNeMqw3yBJsPDHyLDCr4dw1FcGcOY+hTD3pgQwyU3DMNs1QfDs3MDw/Qj/sKCYPXCDp3swpzZ48IqFtvCuFLSwkaPycLUy8DCYAi4wu5Er8J8gabCCr6dwpj6lMImN4zCtHODwoBgdcKc2WPCuFJSwtTLQMLwRC/CCL4dwig3DMKAYPXBwFLSwfBEr8EgN4zBwFJSwSA3DMFAN4zAAAAAAEA3jEAgNwxBwFJSQSA3jEHwRK9BwFLSQYBg9UEoNwxCCL4dQvBEL0LUy0BCuFJSQpzZY0KAYHVCtHODQiY3jEKY+pRCCr6dQnyBpkLuRK9CYAi4QtTLwEJGj8lCuFLSQioW20Kc2eNCDp3sQoJg9UL0I/5Cs3MDQ2zVB0MlNwxD3pgQQ5j6FENRXBlDCr4dQ8MfIkN8gSZDNeMqQ+5EL0OopjNDYQg4QxpqPEPTy0BDjC1FQ0aPSUP+8E1DuFJSQ3G0VkMqFltD43dfQ5zZY0NWO2hDDp1sQ8j+cEOBYHVDOsJ5Q/MjfkPWQoFDs3ODQ4+khUNs1YdDSAaKQyU3jEMCaI5D3piQQ7vJkkOX+pRDdCuXQw==",
          "dtype": "f4"
         },
         "yaxis": "y",
         "z": {
          "bdata": "AAAAAAAAAAAAAAAAAAAAAAAAAAAAAAAAAAAAAAAAAAAAAAAAAAAAAAAAAAAAAAAAAAAAAAAAAAAAAAAAAAAAAAAAAAAAAAAAAAAAAAAAAAAAAAAAAAAAAAAAAAAAAAAAAAAAAAAAAAAAAAAAAAAAAAAAAAAAAAAAAAAAAAAAAAAAAAAAAAAAAAAAAAAAAAAAAAAAAAAAAAAAAAAAAAAAAAAAAAAAAAAAAAAAAAAAAAAAAAAAAAAAAAAAAAAAAAAAAAAAAAAAAAAAAAAAAAAAAAAAAAAAAAAAAAAAAAAAAAAAAAAAAAAAAAAAAAAAAAAAAAAAAAAAAAAAAAAAAAAAAAAAAAAAAAAAAAAAAAAAAAAAAAAAAAAAAAAAAAAAAAAAAAAAAAAAAAAAAAAAAAAAAAAAAAAAAAAAAAAAAAAAAAAAAAAAAAAAAAAAAAAAAAAAAAAAAAAAAAAAAAAAAAAAAAAAAAAAAAAAAAAAAAAAAAAAAAAAAAAAAAAAAAAAAAAAAAAAAAAAAAAAAAAAAAAAAAAAAAAAAAAAAAAAAAAAAAAAAAAAAAAAAAAAAAAAAAAAAAAAAAAAAAAAAAAAAAAAAAAAAAAAAAAAAAAAAAAAAAAAAAAAAAAAAAAAAAAAAAAAAAAAAAAAAAAAAAAAAAAAAAAAAAAAAAAAAAAAAAAAAAAAAAAAAAAAAAAAAAAAAAAAAAAAAAAAAAAAAAAAAAAAAAAAAAAAAAAAAAAAAAAAAAAAAAAAAAAAAAAAAAAAAAAAAAAAAAAAAAAAAAAAAAAAAAAAAAAAAAAAAAAAAAAAAAAAAAAAAAAAAAAAAAAAAAAAAAAAAAAAAAAAAAAAAAAAAAAAAAAAAAAAAAAAAAAAAAAAAAAAAAAAAAAAAAAAAAAAAAAAAAAAAAAAAAAAAAAAAAAAAAAAAAAAAAAAAAAAAAAAAAAAAAAAAAAAAAAAAAAAAAAAAAAAAAAAAAAAAAAAAAAAAAAAAAAAAAAAAAAAAAAAAAAAAAAAAAAAAAAAAAAAAAAAAAAAAAAAAAAAAAAAAAAAAAAAAAAAAAAAAAAAAAAAAAAAAAAAAAAAAAAAAAAAAAAAAAAAAAAAAAAAAAAAAAAAAAAAAAAAAAAAAAAAAAAAAAAAAAAAAAAAAAAAAAAAAAAAAAAAAAAAAAAAAAAAAAAAAAAAAAAAAAAAAAAAAAAAAAAAAAAAAAAAAAAAAAAAAAAAAAAAAAAAAAAAAAAAAAAAAAAAAAAAAAAAAAAAAAAAAAAAAAAAAAAAAAAAAAAAAAAAAAAAAAAAAAAAAAAAAAAAAAAAAAAAAAAAAAAAAAAAAAAAAAAAAAAAAAAAAAAAAAAAAAAAAAAAAAAAAAAAAAAAAAAAAAAAAAAAAAAAAAAAAAAAAAAAAAAAAAAAAAAAAAAAAAAAAAAAAAAAAAAAAAAAAAAAAAAAAAAAAAAAAAAAAAAAAAAAAAAAAAAAAAAAAAAAAAAAAAAAAAAAAAAAAAAAAAAAAAAAAAAAAAAAAAAAAAAAAAAAAAAAAAAAAAAAAAAAAAAAAAAAAAAAAAAAAAAAAAAAAAAAAAAAAAAAAAAAAAAAAAAAAAAAAAAAAAAAAAAAAAAAAAAAAAAAAAAAAAAAAAAAAAAAAAAAAAAAAAAAAAAAAAAAAAAAAAAAAAAAAAAAAAAAAAAAAAAAAAAAAAAAAAAAAAAAAAAAAAAAAAAAAAAAAAAAAAAAAAAAAAAAAAAAAAAAAAAAAAAAAAAAAAAAAAAAAAAAAAAAAAAAAAAAAAAAAAAAAAAAAAAAAAAAAAAAAAAAAAAAAAAAAAAAAAAAAAAAAAAAAAAAAAAAAAAAAAAAAAAAAAAAAAAAAAAAAAAAAAAAAAAAAAAAAAAAAAAAAAAAAAAAAAAAAAAAAAAAAAAAAAAAAAAAAAAAAAAAAAAAAAAAAAAAAAAAAAAAAAAAAAAAAAAAAAAAAAAAAAAAAAAAAAAAAAAAAAAAAAAAAAAAAAAAAAAAAAAAAAAAAAAAAAAAAAAAAAAAAAAAAAAAAAAAAAAAAAAAAAAAAAAAAAAAAAAAAAAAAAAAAAAAAAAAAAAAAAAAAAAAAAAAAAAAAAAAAAAAAAAAAAAAAAAAAAAAAAAAAAAAAAAAAAAAAAAAAAAAAAAAAAAAAAAAAAAAAAAAAAAAAAAAAAAAAAAAAAAAAAAAAAAAAAAAAAAAAAAAAAAAAAAAAAAAAAAAAAAAAAAAAAAAAAAAAAAAAAAAAAAAAAAAAAAAAAAAAAAAAAAAAAAAAAAAAAAAAAAAAAAAAAAAAAAAAAAAAAAAAAAAAAAAAAAAAAAAAAAAAAAAAAAAAAAAAAAAAAAAAAAAAAAAAAAAAAAAAAAAAAAAAAAAAAAAAAAAAAAAAAAAAAAAAAAAAAAAAAAAAAAAAAAAAAAAAAAAAAAAAAAAAAAAAAAAAAAAAAAAAAAAAAAAAAAAAAAAAAAAAAAAAAAAAAAAAAAAAAAAAAAAAAAAAAAAAAAAAAAAAAAAAAAAAAAAAAAAAAAAAAAAAAAAAAAAAAAAAAAAAAAAAAAAAAAAAAAAAAAAAAAAAAAAAAAAAAAAAAAAAAAAAAAAAAAAAAAAAAAAAAAAAAAAAAAAAAAAAAAAAAAAAAAAAAAAAAAAAAAAAAAAAAAAAAAAAAAAAAAAAAAAAAAAAAAAAAAAAAAAAAAAAAAAAAAAAAAAAAAAAAAAAAAAAAAAAAAAAAAAAAAAAAAAAAAAAAAAAAAAAAAAAAAAAAAAAAAAAAAAAAAAAAAAAAAAAAAAAAAAAAAAAAAAAAAAAAAAAAAAAAAAAAAAAAAAAAAAAAAAAAAAAAAAAAAAAAAAAAAAAAAAAAAAAAAAAAAAAAAAAAAAAAAAAAAAAAAAAAAAAAAAAAAAAAAAAAAAAAAAAAAAAAAAAAAAAAAAAAAAAAAAAAAAAAAAAAAAAAAAAAAAAAAAAAAAAAAAAAAAAAAAAAAAAAAAAAAAAAAAAAAAAAAAAAAAAAAAAAAAAAAAAAAAAAAAAAAAAAAAAAAAAAAAAAAAAAAAAAAAAAAAAAAAAAAAAAAAAAAAAAAAAAAAAAAAAAAAAAAAAAAAAAAAAAAAAAAAAAAAAAAAAAAAAAAAAAAAAAAAAAAAAAAAAAAAAAAAAAAAAAAAAAAAAAAAAAAAAAAAAAAAAAAAAAAAAAAAAAAAAAAAAAAAAAAAAAAAAAAAAAAAAAAAAAAAAAAAAAAAAAAAAAAAAAAAAAAAAAAAAAAAAAAAAAAAAAAAAAAAAAAAAAAAAAAAAAAAAAAAAAAAAAAAAAAAAAAAAAAAAAAAAAAAAAAAAAAAAAAAAAAAAAAAAAAAAAAAAAAAAAAAAAAAAAAAAAAAAAAAAAAAAAAAAAAAAAAAAAAAAAAAAAAAAAAAAAAAAAAAAAAAAAAAAAAAAAAAAAAAAAAAAAAAAAAAAAAAAAAAAAAAAAAAAAAAAAAAAAAAAAAAAAAAAAAAAAAAAAAAAAAAAAAAAAAAAAAAAAAAAAAAAAAAAAAAAAAAAAAAAAAAAAAAAAAAAAAAAAAAAAAAAAAAAAAAAAAAAAAAAAAAAAAAAAAAAAAAAAAAAAAAAAAAAAAAAAAAAAAAAAAAAAAAAAAAAAAAAAAAAAAAAAAAAAAAAAAAAAAAAAAAAAAAAAAAAAAAAAAAAAAAAAAAAAAAAAAAAAAAAAAAAAAAAAAAAAAAAAAAAAAAAAAAAAAAAAAAAAAAAAAAAAAAAAAAAAAAAAAAAAAAAAAAAAAAAAAAAAAAAAAAAAAAAAAAAAAAAAAAAAAAAAAAAAAAAAAAAAAAAAAAAAAAAAAAAAAAAAAAAAAAAAAAAAAAAAAAAAAAAAAAAAAAAAAAAAAAAAAAAAAAAAAAAAAAAAAAAAAAAAAAAAAAAAAAAAAAAAAAAAAAAAAAAAAAAAAAAAAAAAAAAAAAAAAAAAAAAAAAAAAAAAAAAAAAAAAAAAAAAAAAAAAAAAAAAAAAAAAAAAAAAAAAAAAAAAAAAAAAAAAAAAAAAAAAAAAAAAAAAAAAAAAAAAAAAAAAAAAAAAAAAAAAAAAAAAAAAAAAAAAAAAAAAAAAAAAAAAAAAAAAAAAAAAAAAAAAAAAAAAAAAAAAAAAAAAAAAAAAAAAAAAAAAAAAAAAAAAAAAAAAAAAAAAAAAAAAAAAAAAAAAAAAAAAAAAAAAAAAAAAAAAAAAAAAAAAAAAAAAAAAAAAAAAAAAAAAAAAAAAAAAAAAAAAAAAAAAAAAAAAAAAAAAAAAAAAAAAAAAAAAAAAAAAAAAAAAAAAAAAAAAAAAAAAAAAAAAAAAAAAAAAAAAAAAAAAAAAAAAAAAAAAAAAAAAAAAAAAAAAAAAAAAAAAAAAAAAAAAAAAAAAAAAAAAAAAAAAAAAAAAAAAAAAAAAAAAAAAAAAAAAAAAAAAAAAAAAAAAAAAAAAAAAAAAAAAAAAAAAAAAAAAAAAAAAAAAAAAAAAAAAAAAAAAAAAAAAAAAAAAAAAAAAAAAAAAAAAAAAAAAAAAAAAAAAAAAAAAAAAAAAAAAAAAAAAAAAAAAAAAAAAAAAAAAAAAAAAAAAAAAAAAAAAAAAAAAAAAAAAAAAAAAAAAAAAAAAAAAAAAAAAAAAAAAAAAAAAAAAAAAAAAAAAAAAAAAAAAAAAAAAAAAAAAAAAAAAAAAAAAAAAAAAAAAAAAAAAAAAAAAAAAAAAAAAAAAAAAAAAAAAAAAAAAAAAAAAAAAAAAAAAAAAAAAAAAAAAAAAAAAAAAAAAAAAAAAAAAAAAAAAAAAAAAAAAAAAAAAAAAAAAAAAAAAAAAAAAAAAAAAAAAAAAAAAAAAAAAAAAAAAAAAAAAAAAAAAAAAAAAAAAAAAAAAAAAAAAAAAAAAAAAAAAAAAAAAAAAAAAAAAAAAAAAAAAAAAAAAAAAAAAAAAAAAAAAAAAAAAAAAAAAAAAAAAAAAAAAAAAAAAAAAAAAAAAAAAAAAAAAAAAAAAAAAAAAAAAAAAAAAAAAAAAAAAAAAAAAAAAAAAAAAAAAAAAAAAAAAAAAAAAAAAAAAAAAAAAAAAAAAAAAAAAAAAAAAAAAAAAAAAAAAAAAAAAAAAAAAAAAAAAAAAAAAAAAAAAAAAAAAAAAAAAAAAAAAAAAAAAAAAAAAAAAAAAAAAAAAAAAAAAAAAAAAAAAAAAAAAAAAAAAAAAAAAAAAAAAAAAAAAAAAAAAAAAAAAAAAAAAAAAAAAAAAAAAAAAAAAAAAAAAAAAAAAAAAAAAAAAAAAAAAAAAAAAAAAAAAAAAAAAAAAAAAAAAAAAAAAAAAAAAAAAAAAAAAAAAAAAAAAAAAAAAAAAAAAAAAAAAAAAAAAAAAAAAAAAAAAAAAAAAAAAAAAAAAAAAAAAAAAAAAAAAAAAAAAAAAAAAAAAAAAAAAAAAAAAAAAAAAAAAAAAAAAAAAAAAAAAAAAAAAAAAAAAAAAAAAAAAAAAAAAAAAAAAAAAAAAAAAAAAAAAAAAAAAAAAAAAAAAAAAAAAAAAAAAAAAAAAAAAAAAAAAAAAAAAAAAAAAAAAAAAAAAAAAAAAAAAAAAAAAAAAAAAAAAAAAAAAAAAAAAAAAAAAAAAAAAAAAAAAAAAAAAAAAAAAAAAAAAAAAAAAAAAAAAAAAAAAAAAAAAAAAAAAAAAAAAAAAAAAAAAAAAAAAAAAAAAAAAAAAAAAAAAAAAAAAAAAAAAAAAAAAAAAAAAAAAAAAAAAAAAAAAAAAAAAAAAAAAAAAAAAAAAAAAAAAAAAAAAAAAAAAAAAAAAAAAAAAAAAAAAAAAAAAAAAAAAAAAAAAAAAAAAAAAAAAAAAAAAAAAAAAAAAAAAAAAAAAAAAAAAAAAAAAAAAAAAAAAAAAAAAAAAAAAAAAAAAAAAAAAAAAAAAAAAAAAAAAAAAAAAAAAAAAAAAAAAAAAAAAAAAAAAAAAAAAAAAAAAAAAAAAAAAAAAAAAAAAAAAAAAAAAAAAAAAAAAAAAAAAAAAAAAAAAAAAAAAAAAAAAAAAAAAAAAAAAAAAAAAAAAAAAAAAAAAAAAAAAAAAAAAAAAAAAAAAAAAAAAAAAAAAAAAAAAAAAAAAAAAAAAAAAAAAAAAAAAAAAAAAAAAAAAAAAAAAAAAAAAAAAAAAAAAAAAAAAAAAAAAAAAAAAAAAAAAAAAAAAAAAAAAAAAAAAAAAAAAAAAAAAAAAAAAAAAAAAAAAAAAAAAAAAAAAAAAAAAAAAAAAAAAAAAAAAAAAAAAAAAAAAAAAAAAAAAAAAAAAAAAAAAAAAAAAAAAAAAAAAAAAAAAAAAAAAAAAAAAAAAAAAAAAAAAAAAAAAIA/AAAAAAAAAAAAAAAAAAAAAAAAAAAAAAAAAAAAAAAAAAAAAAAAAAAAAAAAAAAAAAAAAAAAAAAAAAAAAAAAAAAAAAAAAAAAAAAAAAAAAAAAAAAAAAAAAAAAAAAAAAAAAAAAAAAAAAAAAAAAAAAAAAAAAAAAAAAAAAAAAAAAAAAAAAAAAAAAAAAAAAAAAAAAAAAAAAAAAAAAAAAAAAAAAAAAAAAAAAAAAAAAAAAAAAAAAAAAAAAAAAAAAAAAAAAAAAAAAAAAAAAAAAAAAAAAAAAAAAAAAAAAAAAAAAAAAAAAAAAAAAAAAAAAAAAAAAAAAAAAAAAAAAAAAAAAAAAAAAAAAAAAAAAAAAAAAAAAAAAAAAAAAAAAAAAAAAAAAAAAAAAAAAAAAAAAAAAAAAAAAAAAAAAAAAAAAAAAAAAAAAAAAAAAAAAAAAAAAAAAAAAAAAAAAAAAAAAAAAAAAAAAAAAAAAAAAAAAAAAAAAAAAAAAAAAAAAAAAACAPwAAAAAAAAAAAAAAAAAAAAAAAAAAAAAAAAAAAAAAAAAAAAAAAAAAAAAAAAAAAAAAAAAAAAAAAAAAAAAAAAAAAAAAAAAAAAAAAAAAAAAAAAAAAAAAAAAAAAAAAAAAAAAAAAAAAAAAAAAAAAAAAAAAAAAAAAAAAAAAAAAAAAAAAAAAAAAAAAAAAAAAAAAAAAAAAAAAAAAAAAAAAAAAAAAAAAAAAAAAAAAAAAAAAAAAAAAAAAAAAAAAAAAAAAAAAAAAAAAAAAAAAAAAAAAAAAAAAAAAAAAAAAAAAAAAAAAAAAAAAAAAAAAAAAAAAAAAAAAAAAAAAAAAAAAAAAAAAAAAAAAAAAAAAAAAAAAAAAAAAAAAAACAPwAAgD8AAIA/AAAAAAAAAAAAAAAAAAAAAAAAAAAAAAAAAAAAAAAAAAAAAAAAAAAAAAAAAAAAAAAAAAAAAAAAAAAAAAAAAAAAAAAAAAAAAAAAAAAAAAAAAAAAAAAAAAAAAAAAAAAAAAAAAAAAAAAAAAAAAAAAAAAAAAAAAAAAAAAAAAAAAAAAAAAAAAAAAAAAAAAAAAAAAAAAAAAAAAAAAAAAAAAAAAAAAAAAAAAAAAAAAAAAAAAAAAAAAAAAAAAAAAAAAAAAAAAAAAAAAAAAAAAAAAAAAAAAAAAAAAAAAAAAAAAAAAAAAAAAAAAAAAAAAAAAAAAAAAAAAAAAAAAAAAAAAAAAAAAAAAAAAAAAAAAAAAAAAAAAAAAAAAAAAAAAAAAAAAAAAAAAAAAAAAAAAAAAAAAAAAAAAAAAAAAAAAAAAAAAAAAAAAAAAAAAAAAAAAAAAAAAAAAAAACAPwAAAAAAAAAAAAAAAAAAAAAAAAAAAAAAAAAAAAAAAAAAAAAAAAAAAAAAAIA/AAAAAAAAAAAAAAAAAAAAAAAAAAAAAAAAAAAAAAAAAAAAAAAAAAAAAAAAAAAAAIA/AAAAAAAAAAAAAAAAAAAAAAAAAAAAAAAAAAAAAAAAAAAAAAAAAAAAAAAAAAAAAAAAAAAAAAAAAAAAAIA/AAAAAAAAAAAAAIA/AAAAAAAAAAAAAAAAAAAAAAAAAAAAAAAAAAAAAAAAAAAAAAAAAAAAAAAAAAAAAAAAAAAAAAAAAAAAAAAAAACAPwAAAAAAAAAAAAAAAAAAAAAAAAAAAAAAAAAAAAAAAAAAAAAAAAAAAAAAAAAAAAAAAAAAAAAAAAAAAAAAAAAAAAAAAAAAAAAAAAAAAAAAAAAAAAAAAAAAAAAAAAAAAAAAAAAAAAAAAAAAAAAAAAAAAAAAAAAAAAAAAAAAAAAAAAAAAAAAAAAAgD8AAAAAAAAAAAAAAAAAAAAAAAAAAAAAAAAAAAAAAAAAAAAAAAAAAAAAAAAAAAAAAAAAAAAAAAAAAAAAAAAAAAAAAAAAAAAAAAAAAAAAAAAAAAAAAAAAAAAAAAAAAAAAAAAAAAAAAAAAAAAAAAAAAAAAAAAAAAAAAAAAAAAAAAAAAAAAAAAAAAAAAAAAAAAAAAAAAAAAAAAAAAAAAAAAAAAAAAAAAAAAgD8AAAAAAAAAAAAAAAAAAAAAAAAAAAAAAAAAAAAAAAAAAAAAAAAAAAAAAAAAAAAAAAAAAAAAAAAAAAAAAAAAAAAAAAAAAAAAAAAAAAAAAAAAAAAAAAAAAAAAAAAAAAAAAAAAAAAAAAAAAAAAAAAAAAAAAAAAAAAAAAAAAAAAAACAPwAAAAAAAAAAAAAAAAAAAAAAAAAAAAAAAAAAAAAAAAAAAAAAAAAAAAAAAAAAAAAAAAAAAAAAAAAAAAAAAAAAAAAAAAAAAAAAAAAAAAAAAAAAAAAAAAAAgD8AAAAAAAAAAAAAAAAAAAAAAACAPwAAAAAAAAAAAAAAAAAAAAAAAAAAAAAAAAAAAAAAAAAAAAAAAAAAgD8AAIA/AAAAAAAAAAAAAAAAAAAAAAAAAAAAAAAAAAAAAAAAAAAAAAAAAAAAAAAAAAAAAAAAAAAAAAAAAAAAAAAAAACAPwAAAAAAAAAAAAAAAAAAgD8AAAAAAAAAAAAAAAAAAAAAAAAAAAAAAAAAAAAAAAAAAAAAAAAAAAAAAAAAAAAAAAAAAAAAAAAAAAAAAAAAAAAAAAAAAAAAAAAAAIA/AAAAAAAAAAAAAAAAAACAPwAAAAAAAAAAAAAAAAAAAAAAAAAAAAAAAAAAAAAAAAAAAAAAAAAAgD8AAAAAAAAAAAAAAAAAAAAAAAAAAAAAAAAAAAAAAAAAAAAAAAAAAAAAAAAAAAAAAAAAAAAAAAAAAAAAAAAAAAAAAAAAAAAAAAAAAAAAAAAAAAAAAAAAAAAAAAAAAAAAAAAAAAAAAAAAAAAAAAAAAAAAAAAAAAAAgD8AAAAAAAAAAAAAAAAAAAAAAAAAAAAAAAAAAAAAAAAAAAAAAAAAAAAAAAAAAAAAAAAAAAAAAAAAAAAAAAAAAAAAAAAAAAAAAAAAAAAAAAAAAAAAAAAAAAAAAAAAAAAAAAAAAAAAAAAAAAAAAAAAAAAAAAAAAAAAgD8AAAAAAAAAAAAAAAAAAAAAAACAPwAAAAAAAAAAAAAAAAAAAAAAAAAAAAAAAAAAAAAAAAAAAAAAAAAAAAAAAAAAAAAAAAAAgD8AAAAAAAAAAAAAAAAAAAAAAAAAAAAAAAAAAAAAAACAPwAAgD8AAAAAAAAAAAAAgD8AAAAAAAAAAAAAgD8AAAAAAAAAAAAAAAAAAAAAAAAAAAAAAAAAAAAAAAAAAAAAAAAAAAAAAAAAAAAAgD8AAAAAAAAAAAAAAAAAAAAAAAAAAAAAAAAAAAAAAAAAAAAAAAAAAAAAAAAAAAAAgD8AAIA/AAAAAAAAgD8AAAAAAAAAAAAAgD8AAAAAAAAAAAAAgD8AAIA/AAAAAAAAAAAAAAAAAAAAAAAAAAAAAAAAAAAAAAAAgD8AAAAAAAAAAAAAAAAAAAAAAACAPwAAAAAAAIA/AAAAAAAAgD8AAAAAAAAAAAAAgD8AAAAAAACAPwAAAAAAAAAAAAAAAAAAAAAAAAAAAAAAAAAAAAAAAIA/AAAAAAAAAAAAAAAAAAAAAAAAAAAAAAAAAAAAAAAAAAAAAAAAAAAAAAAAAAAAAAAAAAAAAAAAAAAAAIA/AAAAAAAAAAAAAAAAAAAAAAAAAAAAAAAAAAAAAAAAAAAAAAAAAAAAQAAAAAAAAAAAAACAPwAAAAAAAAAAAACAPwAAAAAAAAAAAAAAAAAAAAAAAAAAAAAAAAAAAAAAAAAAAAAAAAAAAAAAAAAAAAAAAAAAAAAAAAAAAAAAAAAAAAAAAAAAAAAAAAAAAAAAAAAAAAAAAAAAAAAAAAAAAAAAAAAAAAAAAAAAAAAAAAAAAEAAAAAAAAAAAAAAAAAAAAAAAACAPwAAAAAAAAAAAAAAAAAAAAAAAAAAAAAAAAAAAAAAAAAAAAAAAAAAAAAAAAAAAACAPwAAAAAAAAAAAAAAAAAAAAAAAAAAAACAPwAAAAAAAIA/AACAPwAAgD8AAAAAAAAAAAAAAAAAAAAAAACAPwAAAAAAAAAAAAAAAAAAAAAAAAAAAAAAAAAAAAAAAAAAAAAAAAAAAAAAAAAAAAAAAAAAAAAAAAAAAACAPwAAAAAAAAAAAAAAAAAAAAAAAAAAAAAAAAAAAAAAAAAAAAAAAAAAAAAAAAAAAAAAAAAAAAAAAIA/AAAAAAAAAAAAAAAAAAAAAAAAAAAAAAAAAAAAAAAAAAAAAIA/AAAAQAAAAAAAAAAAAAAAAAAAAAAAAAAAAACAPwAAAAAAAAAAAACAPwAAAAAAAAAAAAAAAAAAAAAAAAAAAACAPwAAAAAAAIA/AAAAAAAAAAAAAAAAAAAAAAAAAAAAAAAAAACAPwAAAAAAAAAAAACAPwAAAAAAAAAAAACAPwAAAAAAAAAAAACAPwAAAAAAAAAAAAAAAAAAgD8AAAAAAACAPwAAAAAAAAAAAAAAAAAAgD8AAAAAAAAAAAAAgD8AAIA/AACAPwAAAEAAAIA/AAAAAAAAAAAAAAAAAAAAAAAAAEAAAAAAAAAAAAAAgD8AAIA/AAAAAAAAAAAAAAAAAAAAQAAAgD8AAAAAAACAPwAAAAAAAIA/AACAPwAAgD8AAABAAAAAAAAAgD8AAIA/AACAPwAAgD8AAAAAAAAAAAAAgD8AAAAAAACAPwAAAAAAAIA/AAAAAAAAAAAAAEBAAAAAAAAAAAAAAIA/AAAAAAAAAAAAAAAAAAAAQAAAgD8AAAAAAAAAAAAAAAAAAAAAAAAAAAAAgD8AAAAAAAAAAAAAAAAAAAAAAAAAAAAAAAAAAAAAAAAAAAAAAEAAAAAAAAAAAAAAAAAAAAAAAAAAAAAAAAAAAAAAAAAAAAAAgD8AAAAAAAAAAAAAAAAAAAAAAAAAAAAAAAAAAAAAAAAAAAAAAAAAAAAAAAAAAAAAAAAAAAAAAAAAAAAAgD8AAIA/AACAPwAAAAAAAABAAAAAAAAAAAAAAAAAAACAPwAAgD8AAAAAAAAAAAAAgD8AAABAAACAPwAAgD8AAIA/AAAAAAAAAAAAAIA/AAAAAAAAgD8AAAAAAACAPwAAgD8AAAAAAAAAQAAAAAAAAAAAAACAPwAAgD8AAAAAAAAAQAAAgD8AAAAAAACAPwAAAAAAAAAAAACAPwAAAAAAAIA/AAAAAAAAAEAAAAAAAAAAAAAAAAAAAAAAAAAAAAAAgD8AAAAAAAAAAAAAAAAAAAAAAACAPwAAgD8AAIA/AAAAQAAAAEAAAABAAAAAAAAAgEAAAIA/AABAQAAAgD8AAABAAAAAQAAAgD8AAIA/AACAPwAAgD8AAAAAAAAAAAAAAAAAAAAAAABAQAAAAAAAAAAAAAAAAAAAAAAAAIA/AACAPwAAgD8AAEBAAACAPwAAAAAAAIA/AACAPwAAAAAAAIA/AAAAAAAAQEAAAIA/AAAAQAAAgD8AAIA/AACAPwAAAAAAAAAAAAAAQAAAgD8AAAAAAACAPwAAAAAAAAAAAAAAQAAAAAAAAAAAAAAAAAAAgD8AAIA/AAAAAAAAAEAAAIA/AACAPwAAgD8AAAAAAAAAAAAAAEAAAABAAAAAAAAAQEAAAABAAAAAAAAAAAAAAEBAAAAAAAAAgD8AAIA/AAAAAAAAAEAAAABAAABAQAAAAAAAAIA/AAAAAAAAgD8AAAAAAAAAAAAAAEAAAIA/AAAAAAAAgD8AAEBAAAAAQAAAgEAAAIA/AAAAAAAAAEAAAAAAAACAPwAAgD8AAIA/AAAAAAAAAEAAAKBAAACAPwAAAEAAAIA/AACAQAAAAAAAAABAAAAAAAAAAAAAAAAAAABAQAAAAEAAAIA/AAAAAAAAQEAAAIA/AAAAAAAAAEAAAAAAAAAAAAAAAAAAAAAAAAAAQAAAAAAAAIA/AACAPwAAAEAAAIBAAACAPwAAgD8AAAAAAACAPwAAAEAAAAAAAAAAQAAAAAAAAIA/AAAAAAAAAAAAAAAAAAAAQAAAAAAAAIA/AACAPwAAAAAAAIBAAACAPwAAAEAAAABAAACAPwAAgD8AAAAAAACAPwAAAAAAAIA/AABAQAAAgD8AAIA/AABAQAAAQEAAAAAAAACAPwAAAEAAAEBAAAAAQAAAAEAAAIA/AAAAAAAAAAAAAABAAAAAAAAAAEAAAAAAAACAPwAAAAAAAIA/AAAAAAAAgD8AAAAAAACAQAAAQEAAAEBAAACAQAAAgD8AAIA/AAAAQAAAAAAAAIBAAACAQAAAgEAAAIA/AACAQAAAAEAAAIA/AABAQAAAAEAAAIA/AACAQAAAgD8AAABAAACAQAAAAEAAAEBAAAAAQAAAgEAAAEBAAAAAQAAAgEAAAOBAAACAPwAAgD8AAIBAAABAQAAAgD8AAEBAAACAPwAAgEAAAIBAAAAAQAAAAEAAAIA/AACAQAAAAEAAAABAAABAQAAAgEAAAIA/AAAAQAAAQEAAAIBAAAAAAAAAAEAAAIBAAACAPwAAoEAAAEBAAACgQAAAQEAAAEBAAACAPwAAQEAAAEBAAABAQAAAgD8AAMBAAABAQAAAQEAAAABAAACAPwAAgD8AAIBAAAAAQAAA4EAAAABAAAAAAAAAgD8AAIBAAAAAQAAAQEAAAABAAACAPwAAgD8AAIBAAABAQAAAgD8AAAAAAACAPwAAAEAAAABAAAAAAAAAQEAAAABAAABAQAAAAEAAAAAAAACAQAAAQEAAAIA/AACgQAAAwEAAAABAAAAAQAAAoEAAAIBAAACAQAAAAEAAAABAAAAAQAAAgEAAAMBAAAAAQAAAAEAAAEBAAABAQAAAAEAAAEBAAACgQAAAQEAAAAAAAABAQAAAgEAAAAAAAACAPwAAQEAAAMBAAABAQAAAAEAAAKBAAABAQAAAAAAAAKBAAAAAQAAAAEAAAABAAACAQAAAAAAAAAAAAAAAAAAAAEAAAIA/AABAQAAAAEAAAIA/AABAQAAAAEAAAABAAACAQAAAgD8AAEBAAACgQAAAgD8AAEBAAAAAQAAAQEAAAIBAAACAQAAAQEAAAABAAAAAQAAAAEAAAABAAAAAQAAAAEAAAIBAAAAAQAAAgEAAAEBAAAAAAAAA4EAAAIBAAAAAQAAAQEAAAIBAAAAAQAAAAEAAAEBAAACAPwAAgD8AAIBAAAAwQQAAoEAAAIBAAAAAQQAA4EAAAABBAADgQAAA4EAAAIBAAABAQQAA4EAAAABBAACAQAAA4EAAABBBAAAAQAAAMEEAAFBBAABgQQAAYEEAACBBAADgQAAAIEEAABBBAAAQQQAAgEAAADBBAAAwQQAAAEEAABBBAADgQAAAMEEAAMBAAADgQAAAwEAAAMBAAACAQAAAAEEAAOBAAACAQQAAwEAAAABBAADgQAAAwEAAAKBAAAAAQQAAAEEAAABBAAAwQQAAwEAAABBBAABAQAAAEEEAAOBAAABAQAAA4EAAAABBAACgQAAAwEAAAOBAAAAQQQAAEEEAABBBAACgQAAAgEAAAABAAAAwQQAAAEEAABBBAADgQAAA4EAAAIBAAADAQAAAQEEAACBBAADgQAAAMEEAADBBAADAQAAAEEEAAOBAAADgQAAAMEEAAIBAAADAQAAA4EAAACBBAACgQAAAEEEAAIBAAADgQAAAAEEAACBBAAAwQQAA4EAAAMBAAACgQAAAQEEAABBBAACAQAAAAEAAACBBAADAQAAAAEEAABBBAADgQAAAQEAAABBBAADAQAAAAEEAAMBAAAAAQQAAcEEAAOBAAACgQAAAMEEAAFBBAAAQQQAAwEAAAKBAAADAQAAAoEAAAOBAAAAAQAAA4EAAAABBAACAQAAAUEEAAMBAAACgQAAA4EAAAMBAAACgQAAAEEEAABBBAADAQAAAQEAAAABBAADAQAAAQEEAAKBAAABAQAAAYEEAAABBAACgQAAAQEAAAFBBAAAgQQAA4EAAAOBAAACgQAAAAEEAAOBAAAAwQQAAQEEAAKBAAAAAQQAAgEAAADBBAACgQAAAIEEAAIBAAACAQAAAIEEAAABBAACgQAAAEEEAAABBAAAAQQAAQEAAAKBAAABAQAAAEEEAAOBAAACgQAAAwEAAAKBAAADAQAAAoEAAADBBAADIQQAAmEEAALhBAACwQQAAiEEAALhBAABQQQAAoEEAAIhBAACQQQAAsEEAAKBBAADAQQAAuEEAAGBBAACAQQAAcEEAAKhBAABwQQAAcEEAAIBBAADQQQAAmEEAAJBBAABAQQAAcEEAALBBAACAQQAAcEEAAKBBAACAQQAAwEEAAJhBAADoQQAAgEEAAMhBAACAQQAAwEEAAIBBAACYQQAAuEEAAIBBAADYQQAAkEEAADBBAACIQQAAuEEAAIhBAAAgQQAAsEEAAJBBAADAQQAAiEEAAIBBAACgQQAAuEEAAHBBAACYQQAAiEEAAJBBAACIQQAA2EEAADBBAACoQQAAQEEAAKhBAADAQQAAgEEAAFBBAACAQQAAwEEAAKBBAACoQQAAcEEAAJhBAACgQQAA+EEAAIhBAABQQQAAiEEAALBBAABgQQAAmEEAANBBAACYQQAAgEEAAJhBAADgQQAAoEEAANhBAACYQQAAsEEAAMhBAABwQQAAiEEAAFBBAACIQQAAkEEAAHBBAACIQQAAoEEAAKhBAACoQQAAqEEAALhBAACgQQAAgEEAANBBAADQQQAAiEEAAFBBAAC4QQAAqEEAAIhBAAAwQQAAkEEAAKhBAACgQQAAuEEAAEBBAACYQQAAAEIAAMBBAACAQQAAoEEAAIhBAACgQQAAwEEAAHBBAADIQQAAmEEAAOBBAABwQQAAUEEAAKhBAACIQQAAyEEAADBBAACIQQAAYEEAAMhBAACIQQAAiEEAALBBAADYQQAAsEEAAIBBAACwQQAAkEEAAIBBAACQQQAAmEEAAKhBAADQQQAAoEEAAMBBAABgQQAAiEEAAJBBAACwQQAAiEEAALBBAACYQQAAoEEAAKBBAACQQQAAqEEAANhBAABQQQAAkEEAAIBBAAC4QQAA0EEAAJhBAACQQQAAUEEAAKBBAACAQQAAqEEAAIhBAABAQQAAEEEAAIhBAAAQQQAAwEAAAMBAAABAQQAAQEEAACBBAACAQQAAEEEAAEBBAAAwQQAAoEEAACBBAAAAQQAAMEEAAIhBAAAwQQAAoEAAAABBAABAQAAAEEEAAEBBAAAwQQAAwEAAACBBAAAgQQAAMEEAADBBAAAwQQAAwEAAACBBAABAQQAAgEEAADBBAACgQAAAQEEAABBBAAAgQQAAYEEAAABBAADAQAAAMEEAADBBAAAwQQAAEEEAADBBAADgQAAAAEEAAMBAAACAQAAAoEAAAIBAAABwQQAAUEEAAHBBAABgQQAAoEAAAIBBAABAQQAAcEEAAEBBAABAQAAAAEEAAGBBAADgQAAAEEEAADBBAAAAQQAA4EAAABBBAADgQAAAQEEAACBBAABQQQAAiEEAAEBBAAAQQQAAIEEAABBBAABAQQAAQEEAAABBAAAwQQAAcEEAABBBAADAQAAAQEAAAGBBAAAQQQAAEEEAAEBBAAAQQQAAgEAAAEBBAAAQQQAAoEAAABBBAABQQQAAoEAAADBBAAAgQQAAIEEAACBBAAAAQQAA4EAAAKBAAAAQQQAAEEEAABBBAABAQQAAoEAAAFBBAADAQAAAYEEAACBBAAAgQQAAQEEAAKBAAAAAQQAAIEEAAGBBAABQQQAAEEEAAMBAAABgQQAAEEEAABBBAAAgQQAAUEEAAFBBAABgQQAAEEEAAOBAAAAQQQAAQEEAADBBAAAgQQAAMEEAAMBAAADgQAAAIEEAAEBBAAAQQQAA4EAAABBBAABgQQAAUEEAABBBAADgQAAAMEEAAEBBAAAQQQAAMEEAACBBAABgQQAAAEEAAFBBAACAQAAAUEEAACBBAAAAQQAAIEEAADBBAADgQAAAMEEAADBBAADAQAAAAEEAAEBBAACgQAAAoEAAAABBAADAQAAAIEEAACBBAAAQQQAA4EAAAEBBAADAQAAAIEEAAOBAAAAAQQAAEEEAAMBAAAAwQQAAEEEAAOBAAAAQQQAAgEAAAOBAAACgQAAAIEEAAABBAAAQQQAAAEEAAMBAAAAAQQAAEEEAAMBAAADgQAAAEEEAABBBAACAQAAAAEEAABBBAAAAQQAAoEAAAIBAAADgQAAAIEEAAOBAAAAAQAAAwEAAAKBAAADgQAAAoEAAABBBAAAQQQAAwEAAACBBAABAQQAAQEAAAIBAAAAAQQAAIEEAACBBAACgQAAAoEAAAOBAAABAQAAAEEEAAABBAADAQAAAMEEAAABBAAAwQQAAQEAAAOBAAADgQAAAIEEAAMBAAADAQAAAIEEAAFBBAAAwQQAAIEEAAMBAAAAwQQAAoEAAAKBAAABAQAAAwEAAAOBAAACAQAAAAEEAACBBAACgQAAAwEAAAOBAAAAQQQAAwEAAABBBAAAAQQAAoEAAAOBAAADAQAAAoEAAAABBAABQQQAAwEAAACBBAADAQAAAAEEAACBBAAAAQQAAwEAAACBBAACAQAAAoEAAAIBAAABAQAAAoEAAAKBAAADgQAAAwEAAACBBAAAAQQAA4EAAABBBAABAQAAAEEEAAEBAAAAQQQAA4EAAACBBAACAQAAA4EAAACBBAADAQAAA4EAAABBBAAAQQQAAQEAAAOBAAADgQAAAEEEAAMBAAABAQAAAoEAAABBBAADgQAAAoEAAADBBAAAQQQAAEEEAAMBAAADgQAAAwEAAACBBAADgQAAAwEAAAIBAAABQQQAAEEEAAOBAAACAQAAAIEEAAMBAAABAQQAA4EAAAIBAAABQQQAAQEAAADBBAADgQAAAwEAAAIBAAAAQQQAAEEEAAIBAAADAQAAAQEEAABBBAAAQQQAAgEAAAABBAACgQAAAAEEAAKBAAACgQAAAgEAAAKBAAAAQQQAA4EAAAKBAAACAQAAA4EAAABBBAACgQAAA4EAAAKBAAAAAQQAAQEAAAKBAAADAQAAAgEAAAOBAAACAQAAAwEAAACBBAACgQAAAQEAAAEBAAADgQAAAAEAAADBBAACAQAAA4EAAAMBAAACAQAAA4EAAAKBAAAAAQQAAEEEAAOBAAADAQAAAoEAAAMBAAAAAQAAAIEEAABBBAACgQAAAgEAAAABBAAAAQQAAoEAAAMBAAAAgQQAAwEAAAIA/AAAAQAAAAEEAAKBAAAAAQQAAAEEAAEBAAADgQAAAwEAAAKBAAACAQAAAgEAAAABAAACgQAAAoEAAAEBAAACgQAAAoEAAAABBAACAPwAAoEAAAEBAAADAQAAA4EAAABBBAACAQAAAgD8AACBBAABAQAAAEEEAAOBAAADgQAAAQEAAAFBBAACgQAAAoEAAAKBAAADAQAAAQEAAAEBAAACAQAAAgEAAAIBAAAAAQQAAMEEAAMBAAACgQAAAwEAAAHBBAADAQAAAwEAAAOBAAAAAQAAAgEAAAABAAADgQAAAAEAAACBBAABAQAAAoEAAAIBAAACAPwAAQEAAAMBAAADgQAAAoEAAAIBAAAAAQAAA4EAAAKBAAABAQAAAoEAAAMBAAADAQAAAwEAAAMBAAADAQAAAEEEAAOBAAACAQAAA4EAAAIBAAADAQAAAoEAAAMBAAABAQAAA4EAAAMBAAAAQQQAAwEAAAEBAAADAQAAAwEAAAKBAAAAAQAAAoEAAABBBAADAQAAAwEAAAABBAADAQAAAgEAAAMBAAAAAQQAA4EAAAIBAAADgQAAAoEAAAIBAAADAQAAAAEAAAMBAAABAQAAAgEAAAMBAAAAwQQAA4EAAAEBAAACAQAAAQEAAAOBAAACgQAAAoEAAAMBAAADAQAAAQEAAAEBAAADAQAAAgEAAAIBAAACAPwAAgEAAAKBAAAAAQAAAgEAAAIBAAADAQAAAwEAAAIBAAADAQAAAAEAAAABBAABAQAAAoEAAAIBAAACgQAAAQEAAAOBAAACAQAAA4EAAAMBAAACgQAAA4EAAAEBAAACAQAAAAEAAAKBAAACAQAAA4EAAAABAAADgQAAAgD8AAIBAAADAQAAAQEAAAMBAAADAQAAAgEAAAABBAADAQAAAoEAAAIBAAACAQAAA4EAAAOBAAADAQAAAgEAAAIBAAACgQAAAwEAAAIBAAABAQAAA4EAAAKBAAADgQAAAQEAAAKBAAACAQAAAQEAAAIBAAABAQAAAwEAAAIBAAAAAQAAAgD8AAKBAAACAQAAAAEAAAOBAAABAQAAAAEEAAKBAAADAQAAAoEAAAKBAAACgQAAAgEAAAMBAAACAQAAAgD8AAIBAAACAQAAAgD8AAMBAAACgQAAA4EAAAIBAAAAAQAAAgEAAAIBAAACgQAAAoEAAAEBAAACgQAAAAEEAAIBAAAAAQAAAgEAAAIBAAACgQAAAoEAAACBBAACgQAAAAEAAAKBAAAAgQQAAQEAAAKBAAAAAQAAAAEEAAKBAAADAQAAA4EAAAEBAAAAQQQAAoEAAAEBAAACgQAAAwEAAAKBAAACAQAAAAEAAAEBAAACAQAAAgEAAAMBAAADAQAAAoEAAAIBAAACAQAAAQEAAAOBAAAAAQAAAgD8AAEBAAAAAQQAAQEAAAKBAAACgQAAA4EAAAMBAAAAAAAAAoEAAAMBAAADAQAAAoEAAAIA/AAAAQAAAAEAAAEBAAACgQAAAoEAAAEBAAACgQAAA4EAAAIBAAAAAQAAAoEAAAIBAAACgQAAAAEEAAEBAAACAQAAAAEAAAIBAAADAQAAAAEAAAIBAAACgQAAAgD8AAMBAAACAPwAAAEAAAABAAAAAQAAAEEEAAEBAAACAQAAAgD8AAMBAAACgQAAAgEAAAKBAAACAPwAAwEAAAIBAAADgQAAA4EAAAMBAAADAQAAAMEEAAKBAAABAQAAAQEAAAKBAAADAQAAAgEAAAEBAAAAAQAAAwEAAAABBAACgQAAAQEAAAKBAAACAQAAAgEAAAMBAAACAQAAAAEAAAIA/AACAQAAAoEAAAIBAAAAAQAAAgEAAAIBAAAAAQAAAQEAAAABAAAAQQQAAwEAAAABAAABAQAAAwEAAAABBAAAAQAAAAEAAAIA/AABAQAAAAEAAAOBAAACgQAAAgD8AAEBAAAAAQAAAwEAAAMBAAABAQAAAAAAAAMBAAACgQAAAoEAAAEBAAACgQAAAAEAAAABAAACAPwAAoEAAAKBAAACAPwAAwEAAAEBAAABAQAAAgEAAAKBAAACgQAAAoEAAAOBAAACgQAAAgEAAAKBAAACgQAAAgEAAAMBAAACAPwAAgEAAAKBAAADgQAAAgEAAAABAAAAAQQAAAAAAAEBAAACgQAAAQEAAAKBAAACgQAAAQEAAAIA/AACAQAAAQEAAAIBAAABAQAAAAEAAAKBAAACAPwAA4EAAAIBAAABAQAAAAEAAAABAAACgQAAAQEAAAMBAAABAQAAAgEAAAMBAAADgQAAAgEAAAIA/AAAAAAAAwEAAAKBAAACgQAAAoEAAAIA/AACAPwAAQEAAAEBAAAAAQAAAwEAAAEBAAABAQAAA4EAAAKBAAACAQAAAoEAAAIBAAACAPwAAQEAAAEBAAACgQAAAwEAAAKBAAACAQAAAgEAAAKBAAACgQAAAoEAAAIBAAAAAQAAAoEAAAKBAAADAQAAAAEAAAKBAAACgQAAA4EAAAIA/AABAQAAAoEAAAIBAAACgQAAAAEAAAKBAAAAAQAAAQEAAAKBAAADAQAAAAEAAAKBAAACAQAAA4EAAAIBAAAAAQAAAAEAAAABAAACAQAAAoEAAAOBAAACAQAAAoEAAAKBAAACgQAAAgEAAAIBAAADAQAAAQEAAAEBAAAAAQAAAgEAAAEBAAACAQAAAgEAAAIA/AACAQAAAAEAAAIA/AACAPwAAAEAAAIA/AABAQAAAQEAAAEBAAAAAQAAAgEAAAIBAAACAQAAAgD8AAKBAAACgQAAAoEAAAEBAAACAPwAAQEAAAEBAAACAPwAAwEAAAABAAABAQAAAoEAAAABAAADAQAAAoEAAAIA/AABAQAAAQEAAAKBAAACAQAAAEEEAAIBAAADgQAAAQEAAAABAAACAPwAAgD8AAABAAADAQAAAoEAAAEBAAACgQAAAAEEAAMBAAACAPwAAAEEAAIBAAACAQAAAgEAAAKBAAABAQAAAAEAAAEBAAACAQAAAAEEAAABAAABAQAAAAAAAAIA/AAAAQAAAoEAAAMBAAACAQAAAQEAAAIA/AAAAQAAAoEAAAABAAACAPwAAQEAAAIBAAACAQAAAwEAAAMBAAAAAQAAAoEAAAABBAACgQAAAAEAAAKBAAACAPwAAAAAAAABAAACAQAAAgEAAAIBAAAAAQAAAAEAAAABAAACgQAAAgEAAAIA/AACAQAAAwEAAAKBAAACAPwAAoEAAAEBAAACAPwAAoEAAAEBAAACAQAAAwEAAAKBAAACgQAAAgD8AAABAAABAQAAAoEAAAMBAAABAQAAAgD8AAIA/AABAQAAAoEAAAKBAAABAQAAAgD8AAIA/AACgQAAAgEAAAKBAAACAQAAAAEAAAIBAAACAPwAAoEAAAOBAAACgQAAAoEAAAEBAAAAAQAAAgEAAAKBAAACAQAAAAEAAAKBAAACAPwAAgEAAAEBAAABAQAAAwEAAAABAAAAAQAAAgD8AAIBAAADAQAAA4EAAAIBAAACAQAAAAAAAAIBAAACgQAAAgD8AAIA/AACAQAAAoEAAAKBAAABAQAAAAEAAAEBAAACAPwAAgEAAAIBAAABAQAAAAEAAAKBAAACAQAAAAEAAAIA/AAAAQAAAgD8AAEBAAAAAAAAAAEAAAEBAAACAQAAAQEAAAIA/AABAQAAAAEEAAKBAAADAQAAAQEAAAABAAAAAQAAAAEAAAEBAAAAAQAAAoEAAAIA/AABAQAAAMEEAAIA/AACgQAAAgD8AAAAAAACgQAAAAEAAAKBAAACAQAAAgD8AAKBAAACgQAAAoEAAAEBAAAAAQAAAEEEAAEBAAACgQAAAAEAAAABAAAAAQAAAwEAAAABAAABAQAAAAEAAAKBAAAAAQAAAgD8AAAAAAAAAQAAAAEAAAKBAAACAPwAAQEAAAIBAAAAAQAAAgEAAAOBAAABAQAAAQEAAAABAAAAAAAAAAEAAAABAAABAQAAAQEAAAAAAAABAQAAAAAAAAIA/AACAQAAAgEAAAEBAAABAQAAAQEAAAKBAAABAQAAAQEAAAABAAACAPwAAQEAAAIA/AABAQAAAgEAAAIBAAACgQAAAgEAAAIA/AADgQAAAgEAAAMBAAAAAQAAAwEAAAIA/AADAQAAAQEAAAIA/AABAQAAAAEAAAMBAAABAQAAAQEAAAOBAAACgQAAAQEAAAEBAAAAAQAAAQEAAAABAAADAQAAAgD8AAEBAAABAQAAAgD8AAIA/AABAQAAAQEAAAIA/AABAQAAAgEAAAABAAACAQAAAgEAAAIA/AABAQAAAgEAAAABAAAAAQAAAQEAAAIA/AACgQAAAAEAAAEBAAACAPwAAoEAAAMBAAACgQAAAgD8AAMBAAACAPwAAAEAAAMBAAAAAAAAAAEAAAABAAAAAQAAAgEAAAOBAAACgQAAAgD8AAOBAAACAQAAAgEAAAIBAAACAQAAAQEAAAEBAAAAAQAAAoEAAAAAAAABAQAAAQEAAAMBAAABAQAAAAAAAAKBAAACAPwAAgD8AAAAAAABAQAAAgEAAAIA/AACgQAAAoEAAAABAAACgQAAAgD8AAMBAAABAQAAAAEAAAIA/AAAAQAAAQEAAAIA/AACAQAAAQEAAAABAAACAQAAAgEAAAEBAAADgQAAAAEEAAMBAAADAQAAAAEAAAABAAACgQAAAgD8AAIA/AADAQAAAAEAAAIBAAAAAQAAAAAAAAABAAABAQAAA4EAAAEBAAAAAQAAAAAAAAEBAAACAQAAAQEAAAIBAAAAAQAAAwEAAAAAAAABAQAAAAEAAAEBAAAAAQAAAQEAAAIBAAABAQAAAAAAAAEBAAACgQAAAAEAAAABAAACAPwAAAAAAAABAAACAPwAAQEAAAABAAACAQAAAgEAAAIA/AAAAQAAAoEAAAIBAAACAQAAAAEAAAABAAABAQAAAgD8AAEBAAADgQAAAwEAAAIA/AACAPwAAwEAAAABAAACgQAAAoEAAAABAAABAQAAAAEAAAEBAAAAAAAAAgD8AAIA/AACAPwAAgD8AAABAAACAQAAAQEAAAABAAABAQAAAoEAAAIBAAAAAQAAAoEAAAIBAAAAAQAAAAEAAAIBAAACAPwAAAEAAAMBAAABAQAAAQEAAAIA/AABAQAAAgD8AAEBAAACAPwAAgD8AAIBAAABAQAAAgD8AAKBAAACAPwAA4EAAAABAAACAPwAAQEAAAABAAAAQQQAAwEAAAIA/AACAPwAAQEAAAIBAAABAQAAAQEAAAAAAAAAAQAAAgD8AAABBAACAPwAAQEAAAIA/AAAAQAAA4EAAAABAAAAAAAAAgEAAAAAAAACAQAAAgD8AAKBAAABAQAAAQEAAAABAAABAQAAAgD8AAKBAAACgQAAAQEAAAKBAAABAQAAAQEAAAABAAABAQAAAgEAAAEBAAACAPwAAAAAAAIBAAAAAAAAAgD8AAEBAAACgQAAAAEAAAOBAAAAAAAAAAEAAAEBAAAAAQAAAgD8AAOBAAACAPwAAgEAAAAAAAACAQAAAQEAAAEBAAACAQAAAAEAAAEBAAABAQAAAAEAAAKBAAABAQAAAAEAAAIA/AABAQAAAAAAAAIA/AAAAQAAAgD8AAEBAAABAQAAAAEAAAKBAAAAAQAAAAEAAAIA/AAAAQAAAoEAAAEBAAACAQAAAQEAAAIA/AACgQAAA4EAAAIBAAACAPwAAgEAAAIBAAACAPwAAAEAAAABAAAAAQAAAoEAAAEBAAACAQAAAAEAAAAAAAABAQAAAAEAAAABAAABAQAAAQEAAAEBAAAAQQQAAgD8AAKBAAABAQAAAAEAAAAAAAACAPwAAAEAAAIA/AAAAQAAAQEAAAEBAAAAAQAAAAEAAAIBAAACgQAAAAEAAAABAAACAQAAAAEAAAABAAABAQAAAQEAAAIA/AACAPwAAgEAAAIBAAACAPwAAAEAAAABAAACAPwAAAAAAAEBAAACAPwAAwEAAAABAAABAQAAAoEAAAABBAABAQAAAgEAAAEBAAACAPwAAAEAAAABAAAAAQAAAoEAAAMBAAABAQAAAoEAAAIBAAABAQAAAQEAAAEBAAACgQAAAAEAAAABAAACAQAAAAEAAAIBAAACgQAAAgEAAAEBAAAAAQAAAQEAAAABAAAAAQAAAQEAAAMBAAACAQAAAAEAAAABAAACAQAAAAEAAAABAAABAQAAAAEAAAABAAACAPwAAQEAAAABAAAAAAAAAQEAAAEBAAACAPwAAQEAAAABAAACAQAAAAEAAAKBAAABAQAAAAAAAAIA/AACAPwAAgEAAAABAAABAQAAAQEAAAKBAAACAPwAAgD8AAABAAAAAQAAAQEAAAKBAAAAAQAAAAEAAAIBAAADAQAAAQEAAAAAAAAAAQAAAgEAAAABAAADAQAAAgD8AAAAAAACAPwAAgD8AAIBAAADgQAAAgD8AAAAAAAAAQAAAAEAAAIA/AACAPwAAQEAAAKBAAACAPwAAQEAAAABAAACAPwAAAEAAAIBAAAAAAAAAgD8AAABAAAAAQAAAAAAAAEBAAABAQAAAQEAAAABAAAAAQAAAAEAAAABAAACAQAAAgD8AAEBAAAAAAAAAgEAAAEBAAACAPwAAgD8AAEBAAACgQAAAAEAAAABAAACgQAAAQEAAAEBAAAAAAAAAQEAAAEBAAACAQAAAAAAAAIA/AACgQAAAAEAAAEBAAABAQAAAgD8AAIA/AAAAQAAAoEAAAAAAAAAAQAAAQEAAAAAAAABAQAAAgD8AAIA/AACAQAAAAEAAAABAAAAAQAAAwEAAAAAAAACAPwAAgD8AAABAAAAAQAAAAAAAAIA/AABAQAAAgD8AAIA/AACAPwAAgD8AAAAAAACAQAAAgD8AAIA/AAAAQAAAAAAAAIA/AABAQAAAAEAAAABAAACAPwAAQEAAAIA/AAAAAAAAgD8AAKBAAAAAQAAAgD8AAOBAAABAQAAAgEAAAIA/AAAAQAAAAEAAAABAAACgQAAAQEAAAEBAAACAPwAAQEAAAIA/AACgQAAAgEAAAEBAAACAQAAAgD8AAIA/AAAAQAAAAAAAAABAAACAPwAAgD8AAIBAAAAAQAAAQEAAAAAAAACAQAAAoEAAAABAAACAQAAA4EAAAEBAAACAPwAAAEAAAABAAAAAAAAAAEAAAIA/AAAAQAAAgEAAAEBAAAAAQAAAgEAAAEBAAAAAQAAAAEAAAEBAAACAPwAAgEAAAEBAAACAPwAAQEAAAABAAACAQAAAQEAAAABAAACAPwAAQEAAAKBAAACAQAAAgD8AAABAAAAAQAAAAAAAAIA/AACgQAAAAAAAAABAAAAAAAAAoEAAAABAAACAPwAAQEAAAEBAAABAQAAAAEAAAIA/AABAQAAAgD8AAIA/AABAQAAAgD8AAKBAAAAAAAAAAEAAAABAAABAQAAAgD8AAIA/AACAQAAAAEAAAEBAAAAAQAAAAEAAAIA/AAAAQAAAAEAAAAAAAABAQAAAAEAAAABAAACAPwAAAEAAAIA/AACgQAAAgD8AAKBAAACAPwAAgEAAAIA/AAAAQAAAgEAAAIA/AAAAAAAAgD8AAABAAACAPwAAAEAAAIA/AABAQAAAoEAAAAAAAAAAQAAAAAAAAEBAAACAQAAAAEAAAIBAAACAQAAAAAAAAAAAAACAPwAAgD8AAABAAAAAQAAAAEAAAABAAAAAAAAAAEAAAEBAAACAQAAAAEAAAEBAAAAAAAAAAEAAAMBAAAAAQAAAAEAAAABAAACAPwAAgEAAAIBAAACAPwAAAEAAAEBAAAAAQAAAAAAAAABAAAAAQAAAAEAAAIBAAAAAQAAAoEAAAABAAAAAAAAAAAAAAMBAAAAAQAAAAEAAAAAAAAAAAAAAAAAAAABAAABAQAAAAEAAAIBAAAAAQAAAgD8AAABAAACAQAAAgD8AAKBAAACAPwAAgEAAAABAAAAAQAAAgEAAAMBAAAAAAAAAgD8AAIBAAAAAQAAAoEAAAIBAAABAQAAAAEAAAEBAAAAAQAAAQEAAAMBAAAAAAAAAgEAAAMBAAACAPwAAQEAAAIBAAACAQAAAgD8AAIA/AABAQAAAAEAAAIA/AAAAAAAAQEAAAABAAAAAQAAAQEAAAIA/AAAAQAAAAAAAAABAAACgQAAAoEAAAEBAAACAPwAAAAAAAABAAAAAQAAAgD8AAEBAAABAQAAAAEAAAABAAACAQAAAAAAAAIBAAACAPwAAAEAAAEBAAACAPwAAQEAAAEBAAACgQAAAgEAAAABAAACAQAAAAEAAAKBAAAAAQAAAAEAAAEBAAACAPwAAAAAAAABAAACAPwAAAAAAAABAAACgQAAAAEAAAABAAACAPwAAAEAAAEBAAAAAQAAAgD8AAAAAAAAAQAAAQEAAAIBAAACAPwAAAAAAAABAAABAQAAAAAAAAABAAABAQAAAAEAAAIA/AACAPwAAQEAAAIA/AAAAQQAAAAAAAIA/AACAPwAAAAAAAIBAAAAAAAAAAAAAAABAAACAPwAAQEAAAKBAAACAPwAAgEAAAIA/AAAAQAAAAEAAAABAAAAAQAAAAEAAAIA/AABAQAAAQEAAAIA/AACAPwAAoEAAAEBAAAAAQAAAAEAAAABAAAAAQAAAAEAAAIA/AABAQAAAAEAAAIA/AACAQAAAgEAAAIA/AAAAQAAAgEAAAKBAAACAPwAAAEAAAABAAAAAQAAAAEAAAABAAACAPwAAgD8AAABAAAAAQAAAAAAAAABAAAAAQAAAQEAAAABAAACAPwAAAEAAAEBAAACgQAAAQEAAAABAAAAAAAAAQEAAAABAAABAQAAAAEAAAAAAAACAPwAAAEAAAABAAABAQAAAAEAAAABAAAAAQAAAgD8AAKBAAAAAAAAAAEAAAABAAAAAQAAAgD8AAABAAAAAQAAAAEAAAIA/AAAAAAAAoEAAAEBAAACAPwAAgEAAAABAAACAQAAAAAAAAEBAAACAPwAAgD8AAIA/AAAAQAAAgD8AAIA/AAAAAAAAAAAAAAAAAACAPwAAAEAAAAAAAABAQAAAAEAAAAAAAACAPwAAAEAAAAAAAACAPwAAAEAAAEBAAACAPwAAAAAAAAAAAAAAQAAAAEAAAABAAABAQAAAoEAAAEBAAACgQAAAQEAAAIA/AACAQAAAgD8AAEBAAABAQAAAQEAAAKBAAACAQAAAAEAAAAAAAACAPwAAgD8AAAAAAABAQAAAAAAAAIA/AAAAQAAAgD8AAIA/AACAPwAAgD8AAABAAAAAAAAAAEAAAEBAAAAAQAAAAAAAAIA/AAAAAAAAAAAAAIA/AACAPwAAQEAAAABAAACAQAAAoEAAAEBAAAAAAAAAAEAAAABAAAAAAAAAgEAAAKBAAABAQAAAAEAAAKBAAAAAQAAAAAAAAEBAAACAPwAAQEAAAIA/AAAAQAAAQEAAAAAAAACAPwAAgD8AAIA/AAAAQAAAAAAAAAAAAAAAQAAAAAAAAABAAACgQAAAQEAAAIA/AAAAQAAAAEAAAIA/AAAAAAAAgD8AAAAAAABAQAAAAEAAAIBAAACAQAAAAEAAAIA/AAAAAAAAAEAAAIA/AAAAQAAAgEAAAAAAAAAAQAAAQEAAAAAAAACAQAAAAAAAAEBAAABAQAAAgD8AAAAAAAAAAAAAgEAAAABAAAAAQAAAgD8AAEBAAAAAQAAAQEAAAIA/AAAAQAAAAAAAAIA/AACgQAAAAEAAAABAAACAPwAAAAAAAABAAACAPwAAgD8AAIA/AAAAQAAAAEAAAABAAAAAQAAAAEAAAABAAACAPwAAgD8AAABAAABAQAAAAEAAAEBAAAAAAAAAAAAAAABAAAAAAAAAQEAAAAAAAACAQAAAQEAAAKBAAACAQAAAgD8AAIA/AAAAAAAAAAAAAAAAAACAPwAAAAAAAIA/AACAPwAAoEAAAIA/AABAQAAAAAAAAIA/AAAAQAAAQEAAAAAAAACAPwAAAEAAAIBAAACAPwAAAEAAAEBAAAAAQAAAgD8AAKBAAAAAQAAAgD8AAIA/AAAAQAAAgD8AAAAAAAAAQAAAgD8AAABAAACAPwAAAEAAAEBAAABAQAAAgD8AAAAAAACAPwAAgD8AAABAAAAAQAAAAEAAAEBAAACAPwAAAEAAAIA/AABAQAAAgD8AAIA/AACAPwAAgD8AAAAAAAAAQAAAgD8AAAAAAACAPwAAAAAAAEBAAABAQAAAgD8AAIA/AAAAQAAAQEAAAAAAAAAAAAAAAEAAAABAAAAAQAAAQEAAAIA/AABAQAAAgD8AAIA/AACAPwAAAEAAAIA/AABAQAAAgD8AAAAAAAAAQAAAgD8AAEBAAAAAQAAAgD8AAIA/AAAAQAAAgD8AAABAAACAQAAAAAAAAEBAAABAQAAAgD8AAIA/AAAAQAAAQEAAAIA/AACAPwAAoEAAAEBAAAAAQAAAAAAAAIA/AAAAQAAAAEAAAIA/AAAAAAAAAAAAAIA/AAAAQAAAgD8AAAAAAAAAQAAAQEAAAIA/AAAAQAAAAEAAAABAAABAQAAAAAAAAABAAACAPwAAAEAAAABAAACAPwAAgD8AAABAAABAQAAAgD8AAAAAAACgQAAAAAAAAEBAAAAAQAAAAEAAAABAAACAPwAAAEAAAAAAAAAAQAAAgD8AAIA/AAAAQAAAgD8AAAAAAAAAQAAAAEAAAAAAAACAPwAAAAAAAABAAACAQAAAQEAAAIA/AAAAQAAAgD8AAIA/AAAAQAAAAAAAAIA/AACAQAAAgD8AAABAAABAQAAAgD8AAIA/AACAQAAAAEAAAIBAAACAPwAAgD8AAIA/AABAQAAAgD8AAIA/AABAQAAAQEAAAIA/AAAAAAAAAEAAAABAAAAAQAAAgD8AAKBAAAAAAAAAgD8AAIA/AACAQAAAgD8AAABAAABAQAAAgD8AAIBAAACAPwAAQEAAAAAAAACAQAAAgEAAAMBAAAAAAAAAgD8AAIA/AACAPwAAAAAAAIA/AAAAQAAAQEAAAAAAAAAAAAAAAAAAAAAAAAAAAAAAQEAAAAAAAAAAAAAAgD8AAAAAAAAAAAAAAEAAAAAAAABAQAAAQEAAAABAAAAAAAAAAAAAAIA/AACAPwAAgD8AAEBAAADAQAAAgD8AAEBAAAAAAAAAAEAAAABAAAAAAAAAAEAAAIA/AABAQAAAAAAAAABAAABAQAAAAEAAAIA/AAAAAAAAgD8AAAAAAACAPwAAgD8AAIA/AAAAQAAAgEAAAIA/AACAPwAAAEAAAIA/AAAAQAAAgD8AAAAAAABAQAAAgD8AAABAAABAQAAAgD8AAEBAAACAPwAAAAAAAEBAAAAAQAAAAEAAAEBAAACAQAAAAEAAAKBAAACAPwAAgD8AAIA/AABAQAAAAEAAAAAAAAAAAAAAAEAAAAAAAAAAQAAAAEAAAEBAAACAPwAAAEAAAEBAAAAAQAAAAAAAAEBAAAAAQAAAAEAAAABAAABAQAAAgD8AAEBAAACAPwAAAAAAAEBAAAAAAAAAAAAAAIBAAABAQAAAAAAAAIA/AAAAAAAAgD8AAIA/AACAPwAAgD8AAAAAAABAQAAAgEAAAABAAAAAAAAAAEAAAABAAABAQAAAgD8AAABAAACAPwAAgEAAAIA/AABAQAAAAAAAAABAAABAQAAAAEAAAIA/AAAAAAAAgD8AAAAAAACAPwAAAAAAAIA/AACAPwAAgEAAAEBAAACAPwAAAEAAAABAAACAPwAAgD8AAIBAAAAAQAAAAEAAAAAAAAAAAAAAAEAAAAAAAABAQAAAgD8AAIA/AACAPwAAAEAAAIBAAACAPwAAQEAAAABAAACAQAAAgD8AAEBAAAAAAAAAAAAAAAAAAAAAAAAAAEAAAEBAAACAPwAAgD8AAABAAACAPwAAAAAAAABAAAAAQAAAAEAAAAAAAAAAAAAAAEAAAABAAABAQAAAgD8AAIA/AAAAAAAAgD8AAABAAABAQAAAgD8AAIA/AACAPwAAAEAAAEBAAAAAAAAAAEAAAABAAABAQAAAAAAAAIBAAAAAQAAAgD8AAAAAAACAPwAAAEAAAIA/AACAPwAAAEAAAABAAAAAAAAAQEAAAIA/AACAPwAAQEAAAAAAAACAPwAAAEAAAIA/AACAPwAAgD8AAAAAAAAAQAAAAAAAAIA/AAAAQAAAAEAAAIA/AAAAQAAAgD8AAIBAAABAQAAAgD8AAAAAAAAAAAAAAEAAAABAAAAAAAAAAEAAAAAAAAAAAAAAgD8AAEBAAACAPwAAAEAAAIA/AAAAAAAAAAAAAAAAAAAAAAAAAAAAAAAAAACAPwAAgD8AAIA/AACAQAAAAAAAAIA/AACAPwAAQEAAAEBAAABAQAAAAAAAAABAAAAAAAAAoEAAAABAAAAAQAAAAEAAAIA/AABAQAAAgD8AAIA/AACAPwAAQEAAAIA/AAAAAAAAAEAAAEBAAAAAAAAAQEAAAIA/AAAAQAAAgD8AAABAAACAPwAAgD8AAAAAAAAAAAAAAEAAAABAAABAQAAAAAAAAIA/AAAAAAAAAEAAAAAAAACAPwAAgD8AAABAAAAAQAAAgEAAAIA/AAAAAAAAAAAAAIA/AAAAQAAAAEAAAEBAAABAQAAAQEAAAIA/AADAQAAAAEAAAABAAACAQAAAgD8AAEBAAAAAQAAAAAAAAABAAAAAQAAAAAAAAIBAAAAAQAAAAEAAAAAAAACAPwAAAEAAAABAAACAPwAAAEAAAAAAAACAPwAAgD8AAIA/AACgQAAAoEAAAEBAAABAQAAAQEAAAAAAAACgQAAAgD8AAEBAAAAAAAAAAEAAAIA/AACAPwAAAEAAAAAAAAAAQAAAAAAAAIA/AABAQAAAAEAAAAAAAACAPwAAQEAAAIA/AACAPwAAgEAAAABAAACAPwAAQEAAAEBAAACAQAAAgD8AAIBAAACAQAAAgD8AAEBAAACAPwAAAEAAAAAAAAAAQAAAgD8AAABAAACAPwAAgD8AAIBAAACAPwAAAEAAAIA/AAAAQAAAAAAAAIA/AAAAAAAAQEAAAEBAAACAPwAAAEAAAEBAAAAAQAAAoEAAAAAAAAAAQAAAAEAAAKBAAACAPwAAgEAAAEBAAACAPwAAAEAAAIA/AACAPwAAAEAAAAAAAACAPwAAQEAAAAAAAABAQAAAAEAAAABAAAAAQAAAgD8AAABAAACAPwAAgD8AAABAAACAPwAAAEAAAAAAAAAAAAAAAAAAAIA/AABAQAAAgD8AAAAAAAAAQAAAAEAAAIA/AACAPwAAAAAAAAAAAAAAAAAAgD8AAIA/AAAAAAAAgEAAAABAAAAAAAAAgD8AAEBAAABAQAAAAAAAAEBAAACAPwAAgD8AAAAAAABAQAAAgD8AAEBAAACAPwAAAAAAAABAAAAAAAAAAEAAAIA/AAAAAAAAgD8AAEBAAAAAQAAAgEAAAIA/AACAPwAAgD8AAAAAAACAPwAAgD8AAABBAACAPwAAAAAAAIA/AAAAAAAAAEAAAAAAAACAPwAAAEAAAIA/AACAPwAAAAAAAEBAAACAPwAAAAAAAAAAAACAQAAAgD8AAIBAAACAPwAAAAAAAIA/AACAPwAAAEAAAIA/AACAPwAAAEAAAAAAAACAPwAAgD8AAIA/AABAQAAAAAAAAIA/AAAAAAAAAAAAAIA/AAAAAAAAQEAAAIA/AACAPwAAAAAAAIBAAAAAAAAAgD8AAIA/AAAAQAAAAAAAAIA/AACAPwAAAEAAAIA/AACAPwAAAAAAAAAAAAAAAAAAAEAAAABAAAAAQAAAAAAAAABAAACAPwAAgD8AAIBAAACAPwAAQEAAAEBAAAAAQAAAQEAAAABAAAAAQAAAgD8AAIA/AAAAAAAAgD8AAIBAAABAQAAAgD8AAIA/AAAAQAAAAEAAAEBAAAAAQAAAQEAAAIA/AAAAQAAAAAAAAAAAAAAAAAAAAEAAAEBAAACAPwAAAAAAAABAAABAQAAAQEAAAIBAAACAPwAAAAAAAAAAAACAPwAAgD8AAIA/AACAPwAAQEAAAABAAACAPwAAQEAAAABAAACgQAAAgD8AAAAAAACAPwAAAAAAAIA/AACAQAAAgD8AAAAAAACAQAAAAAAAAABAAAAAQAAAAEAAAIA/AABAQAAAgD8AAAAAAACAPwAAAEAAAIA/AACAPwAAgD8AAABAAABAQAAAAAAAAIA/AAAAQAAAgD8AAEBAAACAPwAAgEAAAEBAAACAQAAAAEAAAAAAAACAPwAAgD8AAABAAACAPwAAAAAAAAAAAAAAQAAAgD8AAIA/AABAQAAAgD8AAIA/AAAAAAAAQEAAAABAAACAPwAAgD8AAAAAAAAAQAAAAEAAAIA/AAAAQAAAAAAAAEBAAACAPwAAAEAAAAAAAAAAAAAAgD8AAIA/AABAQAAAgD8AAAAAAAAAAAAAAEAAAIA/AAAAAAAAQEAAAIA/AAAAQAAAAAAAAKBAAAAAAAAAAAAAAAAAAAAAQAAAgD8AAAAAAAAAAAAAgD8AAABAAACAPwAAgD8AAIA/AACAPwAAQEAAAIA/AAAAAAAAAEAAAABAAAAAQAAAgD8AAAAAAACAPwAAQEAAAABAAACAPwAAgD8AAIA/AAAAAAAAAAAAAIA/AACAPwAAQEAAAEBAAAAAQAAAAEAAAEBAAAAAAAAAAAAAAEBAAAAAQAAAQEAAAABAAACAPwAAgD8AAIA/AACAQAAAgD8AAABAAAAAAAAAAAAAAAAAAAAAQAAAAEAAAEBAAACgQAAAgD8AAIA/AAAAAAAAAEAAAAAAAAAAAAAAAAAAAIA/AABAQAAAQEAAAABAAABAQAAAAEAAAABAAAAAAAAAQEAAAAAAAAAAAAAAgD8AAIA/AAAAQAAAgD8AAEBAAAAAQAAAAAAAAABAAACAPwAAAEAAAIA/AAAAAAAAgD8AAIA/AACAPwAAgD8AAAAAAACAPwAAgD8AAEBAAACAPwAAAAAAAIA/AACAPwAAAEAAAEBAAAAAQAAAgD8AAIA/AAAAQAAAAAAAAABAAAAAQAAAAAAAAAAAAAAAQAAAAAAAAIA/AAAAQAAAAEAAAIA/AAAAAAAAAEAAAIBAAACAPwAAgD8AAAAAAAAAAAAAAEAAAAAAAAAAAAAAgD8AAIA/AAAAAAAAgD8AAIA/AAAAQAAAgEAAAAAAAAAAAAAAAEAAAIA/AACAPwAAAEAAAAAAAACAPwAAgD8AAIA/AAAAQAAAgD8AAABAAACAQAAAgD8AAABAAACAPwAAgEAAAEBAAACAQAAAAEAAAIA/AACAPwAAAAAAAEBAAABAQAAAAAAAAABAAAAAQAAAAAAAAIA/AAAAAAAAAEAAAIA/AAAAAAAAAEAAAIA/AACAPwAAgD8AAIBAAAAAAAAAwEAAAAAAAAAAAAAAgEAAAABAAAAAAAAAQEAAAIA/AACAPwAAAAAAAAAAAAAAAAAAgEAAAIA/AAAAAAAAAEAAAABAAAAAQAAAAAAAAABAAAAAAAAAAEAAAAAAAAAAQAAAgD8AAIA/AAAAAAAAgD8AAAAAAAAAAAAAAEAAAIA/AAAAAAAAAEAAAAAAAACAPwAAgD8AAKBAAAAAAAAAgD8AAABAAACgQAAAAEAAAIA/AAAAAAAAAAAAAIA/AAAAQAAAAEAAAAAAAACAPwAAgD8AAEBAAACAPwAAgD8AAEBAAAAAAAAAAAAAAIA/AAAAAAAAAEAAAAAAAAAAQAAAgD8AAAAAAACAPwAAgD8AAAAAAACAPwAAAAAAAIA/AAAAAAAAAEAAAKBAAACAQAAAAEAAAAAAAAAAQAAAgD8AAABAAAAAQAAAAAAAAIA/AAAAAAAAgD8AAABAAACAPwAAgD8AAIA/AAAAQAAAAAAAAIA/AAAAQAAAQEAAAAAAAAAAQAAAAEAAAIA/AACAPwAAgD8AAAAAAAAAAAAAAEAAAIA/AACAPwAAAEAAAAAAAACAPwAAgD8AAEBAAAAAAAAAgD8AAAAAAAAAAAAAQEAAAEBAAAAAQAAAAEAAAEBAAAAAAAAAgD8AAIA/AAAAQAAAAEAAAAAAAACAQAAAQEAAAIA/AAAAQAAAAAAAAIA/AACAPwAAAAAAAAAAAAAAAAAAAAAAAIA/AAAAQAAAgD8AAABAAAAAAAAAAEAAAAAAAACAPwAAAAAAAABAAAAAQAAAAEAAAIA/AAAAQAAAAAAAAIA/AAAAQAAAQEAAAIA/AACAPwAAAAAAAIA/AAAAQAAAgD8AAAAAAAAAAAAAAAAAAIA/AACAPwAAgD8AAAAAAACAPwAAAEAAAIA/AACAPwAAgD8AAEBAAABAQAAAAAAAAIA/AACAPwAAgD8AAABAAAAAAAAAAEAAAABAAACAPwAAAEAAAIA/AABAQAAAAEAAAAAAAAAAAAAAAAAAAABAAACAPwAAAEAAAABAAAAAQAAAgD8AAEBAAAAAAAAAAEAAAAAAAAAAQAAAAEAAAIA/AAAAAAAAAEAAAIA/AAAAQAAAgD8AAIA/AACAPwAAAAAAAAAAAACAPwAAAAAAAABAAACgQAAAgD8AAIA/AAAAAAAAgD8AAIA/AAAAQAAAgD8AAIA/AAAAQAAAAEAAAABAAAAAAAAAgD8AAABAAAAAAAAAQEAAAIA/AABAQAAAAEAAAABAAACAPwAAgD8AAIA/AACAPwAAgD8AAABAAAAAQAAAAAAAAIA/AACAPwAAAAAAAAAAAACAPwAAgD8AAAAAAACAPwAAAAAAAABAAAAAAAAAAEAAAEBAAAAAAAAAgD8AAIA/AACAPwAAAAAAAAAAAAAAAAAAAEAAAIA/AACAPwAAQEAAAABAAAAAAAAAAAAAAIA/AACAPwAAAAAAAAAAAAAAQAAAgD8AAIA/AAAAQAAAgD8AAABAAACAPwAAAEAAAIA/AAAAAAAAAAAAAIA/AAAAAAAAAAAAAAAAAACAPwAAAEAAAIA/AACAPwAAgD8AAABAAACAPwAAgD8AAAAAAAAAAAAAgEAAAAAAAAAAAAAAgD8AAAAAAACAPwAAgD8AAIA/AACAPwAAgD8AAABAAAAAAAAAAAAAAAAAAACAPwAAAAAAAABAAACAPwAAgD8AAEBAAAAAAAAAQEAAAIA/AACAPwAAgD8AAIBAAAAAQAAAAAAAAIA/AAAAAAAAAAAAAABAAAAAAAAAAAAAAIA/AAAAQAAAgD8AAABAAABAQAAAAEAAAIA/AAAAQAAAAAAAAEBAAACAPwAAgEAAAEBAAAAAQAAAAAAAAAAAAAAAQAAAAAAAAIBAAACAPwAAgD8AAIA/AACAPwAAgD8AAIA/AAAAQAAAAAAAAIA/AAAAAAAAgEAAAIA/AAAAAAAAAAAAAAAAAACAPwAAAEAAAIBAAACAPwAAAEAAAEBAAAAAAAAAgD8AAIA/AAAAQAAAAAAAAAAAAAAAQAAAAEAAAIA/AAAAAAAAAEAAAABAAACAPwAAgD8AAAAAAAAAQAAAAEAAAABAAAAAAAAAQEAAAIA/AAAAAAAAgD8AAABAAACAPwAAgD8AAIA/AAAAAAAAAAAAAIA/AAAAAAAAAEAAAAAAAAAAQAAAAEAAAABAAABAQAAAAAAAAAAAAACAPwAAgD8AAIA/AACAPwAAAAAAAIA/AACAPwAAAEAAAEBAAAAAAAAAAAAAAAAAAACAPwAAAEAAAIBAAAAAQAAAAAAAAKBAAAAAAAAAAAAAAIA/AAAAQAAAAEAAAEBAAAAAQAAAgD8AAAAAAACAPwAAAAAAAAAAAAAAAAAAQEAAAABAAACAPwAAAEAAAIA/AACAPwAAAAAAAIA/AABAQAAAAAAAAAAAAACAPwAAAAAAAABAAAAAQAAAAEAAAIA/AACAPwAAAAAAAIA/AAAAQAAAAAAAAIA/AAAAAAAAAEAAAAAAAACAPwAAgD8AAIA/AAAAQAAAAAAAAIA/AAAAQAAAgEAAAAAAAAAAQAAAAEAAAIBAAABAQAAAgEAAAIA/AACAPwAAAAAAAAAAAACAQAAAAAAAAIA/AACAPwAAQEAAAABAAABAQAAAgD8AAAAAAACAPwAAAEAAAIA/AAAAAAAAgD8AAABAAAAAAAAAQEAAAIA/AACAPwAAQEAAAKBAAAAAAAAAgD8AAABAAABAQAAAQEAAAIA/AAAAAAAAAEAAAAAAAACAPwAAgD8AAIA/AABAQAAAAAAAAAAAAAAAAAAAAAAAAAAAAACAPwAAAAAAAAAAAAAAAAAAgD8AAABAAAAAAAAAAEAAAIBAAAAAAAAAgD8AAIA/AACAPwAAAEAAAAAAAAAAAAAAAEAAAAAAAACAPwAAAAAAAAAAAAAAQAAAgD8AAIA/AACAPwAAAAAAAEBAAACAPwAAgD8AAIA/AACAPwAAQEAAAIA/AAAAQAAAAEAAAIA/AAAAQAAAAEAAAAAAAAAAQAAAQEAAAAAAAAAAAAAAQEAAAEBAAACAPwAAAAAAAIA/AACAPwAAAAAAAAAAAAAAQAAAAAAAAABAAABAQAAAgD8AAEBAAACAPwAAAAAAAABAAAAAQAAAQEAAAAAAAABAQAAAgD8AAIA/AACAPwAAAAAAAIA/AAAAAAAAQEAAAEBAAACAPwAAAAAAAIA/AACAPwAAAEAAAAAAAAAAQAAAAEAAAIA/AACAPwAAAEAAAABAAAAAAAAAAEAAAAAAAACAQAAAgD8AAABAAAAAAAAAQEAAAIA/AACAPwAAAAAAAAAAAACAPwAAAAAAAIA/AAAAQAAAgD8AAAAAAAAAAAAAAAAAAAAAAAAAAAAAAEAAAABAAAAAAAAAgD8AAAAAAAAAQAAAAAAAAAAAAABAQAAAAEAAAABAAACAPwAAgD8AAIA/AAAAQAAAAAAAAIA/AAAAAAAAAAAAAAAAAAAAQAAAAAAAAEBAAACAPwAAgD8AAIA/AACAPwAAAAAAAAAAAAAAAAAAAEAAAAAAAAAAAAAAgD8AAAAAAAAAQAAAAEAAAIA/AAAAAAAAgD8AAAAAAACAPwAAgD8AAIA/AAAAQAAAAAAAAIA/AAAAAAAAAEAAAIA/AABAQAAAQEAAAAAAAAAAQAAAgD8AAIA/AACAPwAAAEAAAIA/AAAAAAAAgD8AAAAAAACAPwAAAEAAAIA/AAAAAAAAgD8AAIA/AAAAAAAAgD8AAIA/AAAAQAAAAAAAAIA/AAAAAAAAAEAAAAAAAAAAAAAAgD8AAABAAACAPwAAAAAAAABAAABAQAAAgD8AAAAAAAAAQAAAQEAAAIA/AACAQAAAAEAAAAAAAAAAQAAAAEAAAAAAAAAAAAAAAAAAAEBAAAAAQAAAgD8AAIA/AABAQAAAQEAAAABAAAAAAAAAgD8AAAAAAAAAQAAAgD8AAABAAAAAQAAAAAAAAAAAAACAPwAAAAAAAAAAAACAPwAAgD8AAIA/AACAPwAAAEAAAIA/AACAPwAAAAAAAIA/AACAPwAAAAAAAABAAAAAAAAAgD8AAIA/AAAAAAAAAAAAAAAAAAAAQAAAAAAAAIA/AACAPwAAAEAAAIA/AACAPwAAAEAAAEBAAACAPwAAAEAAAIA/AABAQAAAAAAAAAAAAACAPwAAAAAAAAAAAACAPwAAAEAAAIA/AACAPwAAAAAAAEBAAAAAAAAAgD8AAIA/AACAPwAAAAAAAABAAAAAAAAAAAAAAAAAAAAAAAAAAEAAAAAAAACAPwAAAAAAAAAAAAAAQAAAAEAAAAAAAAAAQAAAQEAAAIA/AACAPwAAAAAAAIA/AAAAAAAAAAAAAIA/AAAAQAAAAAAAAEBAAACAPwAAgD8AAAAAAABAQAAAAAAAAAAAAACAPwAAAAAAAAAAAAAAAAAAgD8AAABAAAAAQAAAAAAAAABAAAAAQAAAgD8AAIA/AAAAAAAAgD8AAAAAAABAQAAAgD8AAEBAAAAAAAAAAEAAAAAAAAAAQAAAQEAAAABAAAAAQAAAgD8AAAAAAACAPwAAAAAAAAAAAABAQAAAAAAAAEBAAAAAQAAAgD8AAAAAAACAPwAAAAAAAAAAAAAAQAAAgD8AAAAAAACAPwAAAAAAAEBAAAAAAAAAAAAAAIA/AABAQAAAAAAAAABAAABAQAAAAAAAAAAAAAAAAAAAgD8AAIA/AACAPwAAAEAAAABAAACAQAAAAEAAAABAAACAPwAAgD8AAEBAAACAPwAAAAAAAIA/AAAAAAAAgD8AAIA/AAAAQAAAAAAAAABAAAAAAAAAgD8AAIA/AACAPwAAAEAAAAAAAACAPwAAgD8AAAAAAABAQAAAgD8AAIA/AAAAQAAAAAAAAABAAACAPwAAgD8AAAAAAACAPwAAgD8AAABAAAAAAAAAgEAAAABAAACAQAAAAAAAAAAAAACAPwAAgD8AAAAAAACAPwAAgD8AAABAAAAAAAAAAAAAAIA/AAAAAAAAgD8AAAAAAAAAAAAAAAAAAIA/AAAAQAAAAAAAAABAAAAAAAAAgD8AAIA/AACAPwAAgD8AAAAAAAAAQAAAgD8AAAAAAACAPwAAAAAAAABAAAAAAAAAAAAAAIA/AACAPwAAgD8AAKBAAAAAQAAAgD8AAABAAAAAQAAAgD8AAABAAAAAQAAAAEAAAAAAAAAAAAAAgD8AAAAAAACAPwAAgD8AAAAAAAAAQAAAAAAAAAAAAAAAAAAAAEAAAIA/AACAPwAAAAAAAABAAAAAAAAAgD8AAIA/AACAPwAAAAAAAIA/AACAPwAAQEAAAAAAAACAPwAAgD8AAAAAAABAQAAAgD8AAIA/AAAAAAAAAAAAAEBAAAAAAAAAAAAAAABAAAAAAAAAgD8AAIA/AAAAAAAAgD8AAAAAAAAAAAAAgD8AAEBAAACAPwAAAAAAAIA/AABAQAAAAAAAAABAAACAPwAAgD8AAAAAAAAAAAAAAEAAAABAAAAAQAAAgD8AAIA/AAAAQAAAAAAAAAAAAACAPwAAAEAAAAAAAACAPwAAgD8AAABAAACAPwAAgD8AAABAAACAPwAAAEAAAAAAAAAAAAAAgD8AAAAAAACAPwAAAAAAAIA/AACAPwAAgD8AAABAAACAPwAAAEAAAABAAACAPwAAgD8AAIA/AACAPwAAAAAAAAAAAACAPwAAgD8AAIA/AAAAQAAAAEAAAAAAAAAAAAAAQEAAAEBAAACAPwAAAAAAAABAAACAPwAAAAAAAIBAAAAAAAAAQEAAAIA/AAAAQAAAAAAAAIA/AAAAQAAAAAAAAIA/AAAAAAAAAEAAAABAAACAPwAAgD8AAAAAAAAAAAAAAAAAAIA/AACAPwAAAEAAAABAAAAAAAAAgD8AAIA/AACAPwAAAAAAAIA/AAAAAAAAgD8AAABAAAAAQAAAAAAAAIA/AAAAQAAAgD8AAIA/AAAAAAAAAEAAAIA/AAAAQAAAAAAAAABAAACAPwAAQEAAAAAAAACAPwAAQEAAAIA/AAAAAAAAAEAAAAAAAAAAAAAAAAAAAAAAAACAPwAAAAAAAABAAACAPwAAgD8AAIA/AACAPwAAAEAAAABAAABAQAAAAAAAAAAAAAAAQAAAgD8AAAAAAAAAAAAAAAAAAIA/AACAPwAAAAAAAEBAAAAAAAAAgD8AAIA/AACAPwAAgD8AAAAAAABAQAAAgD8AAAAAAAAAQAAAgEAAAIA/AAAAAAAAAAAAAIA/AACAPwAAQEAAAABAAACAPwAAgD8AAAAAAABAQAAAAAAAAAAAAACAPwAAAAAAAIA/AAAAAAAAgD8AAIA/AAAAQAAAAEAAAIBAAAAAAAAAgD8AAAAAAAAAAAAAAAAAAIA/AAAAAAAAgD8AAIA/AACAPwAAAAAAAAAAAAAAAAAAgEAAAAAAAAAAAAAAAAAAAABAAAAAAAAAAAAAAIA/AACAPwAAgD8AAAAAAACAPwAAAAAAAAAAAAAAQAAAgD8AAAAAAAAAQAAAAEAAAAAAAAAAQAAAgD8AAIA/AAAAQAAAAAAAAAAAAAAAAAAAAAAAAIA/AAAAQAAAgD8AAAAAAAAAQAAAgD8AAIA/AAAAQAAAAEAAAABAAAAAAAAAgD8AAAAAAACAPwAAAAAAAABAAAAAAAAAAAAAAIA/AAAAAAAAgD8AAIA/AAAAAAAAgD8AAIA/AACAPwAAAAAAAIA/AAAAQAAAAEAAAAAAAAAAAAAAAEAAAAAAAAAAQAAAgD8AAEBAAACAPwAAAEAAAEBAAAAAAAAAAAAAAIA/AAAAQAAAgEAAAIA/AACAPwAAgD8AAIA/AAAAQAAAgEAAAIA/AAAAAAAAAEAAAAAAAACAPwAAAAAAAIA/AACAPwAAgD8AAABAAACAPwAAAAAAAABAAAAAAAAAgD8AAAAAAAAAAAAAAAAAAABAAAAAAAAAAAAAAIA/AACAPwAAgD8AAIA/AACAPwAAAAAAAIA/AAAAAAAAAAAAAIA/AACAPwAAgD8AAABAAAAAAAAAAAAAAAAAAACAPwAAQEAAAIA/AACAPwAAgD8AAABAAACAPwAAgD8AAIA/AACAPwAAAAAAAIA/AACAPwAAAAAAAABAAAAAQAAAgD8AAEBAAACAPwAAAAAAAAAAAACAPwAAAEAAAEBAAAAAAAAAAAAAAAAAAACAPwAAAEAAAAAAAABAQAAAAEAAAAAAAAAAQAAAAAAAAAAAAAAAAAAAAAAAAIA/AAAAAAAAAAAAAABAAAAAAAAAAAAAAIA/AACAQAAAAAAAAAAAAAAAAAAAAEAAAIA/AACAPwAAAAAAAIA/AAAAAAAAAAAAAEBAAAAAAAAAAEAAAEBAAACAPwAAgD8AAAAAAAAAAAAAgD8AAIA/AAAAQAAAAAAAAABAAAAAAAAAQEAAAAAAAAAAAAAAgD8AAIA/AAAAQAAAAAAAAAAAAAAAQAAAAAAAAAAAAAAAAAAAgD8AAIA/AAAAQAAAgD8AAIA/AACAPwAAAAAAAIA/AAAAQAAAAAAAAABAAAAAAAAAAAAAAIBAAACAPwAAQEAAAABAAAAAQAAAgD8AAAAAAAAAQAAAgD8AAAAAAAAAAAAAgD8AAAAAAAAAQAAAgD8AAIA/AAAAAAAAQEAAAAAAAACAPwAAAAAAAIA/AAAAQAAAAAAAAABAAAAAAAAAAAAAAIA/AAAAQAAAAEAAAABAAAAAAAAAAEAAAIA/AABAQAAAAEAAAABAAAAAQAAAgD8AAIA/AACAPwAAgD8AAIA/AAAAAAAAQEAAAIA/AABAQAAAAAAAAAAAAAAAAAAAAAAAAAAAAACAPwAAgD8AAEBAAACAPwAAAEAAAIA/AAAAAAAAAAAAAIA/AACAPwAAgD8AAIA/AAAAAAAAgD8AAIA/AACAPwAAgD8AAAAAAAAAAAAAgD8AAABAAACAPwAAgD8AAABAAACAPwAAAEAAAAAAAAAAAAAAgD8AAABAAAAAAAAAAAAAAIA/AACAPwAAAAAAAAAAAABAQAAAAEAAAAAAAACAPwAAAEAAAABAAAAAAAAAgD8AAAAAAACAPwAAAAAAAIA/AACAPwAAgD8AAABAAAAAAAAAgD8AAABAAACAPwAAAAAAAIA/AAAAAAAAgD8AAAAAAAAAQAAAAAAAAAAAAAAAAAAAAAAAAIA/AAAAAAAAQEAAAIA/AACAPwAAgD8AAAAAAACAPwAAgD8AAAAAAACAQAAAQEAAAIA/AACAQAAAAAAAAAAAAAAAQAAAgD8AAIA/AAAAAAAAAAAAAIA/AACAPwAAgD8AAAAAAAAAAAAAAEAAAIA/AAAAQAAAAAAAAABAAAAAAAAAAAAAAABAAAAAAAAAgD8AAABAAACAPwAAAAAAAAAAAACAPwAAAAAAAIA/AACAQAAAgD8AAABAAAAAQAAAAAAAAIBAAABAQAAAAAAAAAAAAAAAAAAAgD8AAIA/AAAAAAAAoEAAAEBAAABAQAAAAEAAAAAAAACAPwAAAAAAAIA/AACAPwAAgD8AAIA/AAAAAAAAAAAAAAAAAAAAAAAAAEAAAIA/AAAAAAAAgD8AAAAAAAAAAAAAAAAAAAAAAACAPwAAAAAAAEBAAAAAAAAAAEAAAIA/AAAAQAAAgD8AAAAAAACAPwAAAAAAAAAAAACAPwAAgD8AAIA/AACAPwAAAEAAAIA/AAAAAAAAgD8AAIA/AAAAAAAAgD8AAAAAAACAPwAAAEAAAIA/AACAPwAAAAAAAAAAAACAPwAAAAAAAAAAAAAAAAAAAEAAAABAAAAAAAAAAAAAAIA/AACAPwAAgD8AAIA/AACAPwAAgD8AAAAAAACAPwAAgD8AAIA/AAAAAAAAAEAAAIA/AACAPwAAgD8AAAAAAAAAAAAAAAAAAAAAAAAAQAAAAAAAAEBAAAAAAAAAAAAAAAAAAACAPwAAgD8AAIA/AAAAAAAAAAAAAAAAAACAPwAAgD8AAIA/AAAAAAAAAAAAAIA/AACAPwAAAAAAAAAAAABAQAAAQEAAAAAAAAAAAAAAAAAAAABAAAAAAAAAAAAAAAAAAACAPwAAgD8AAAAAAACAPwAAgD8AAIA/AAAAAAAAAAAAAIA/AAAAAAAAQEAAAIA/AACAPwAAgD8AAAAAAACAPwAAgD8AAABAAACAPwAAAEAAAIA/AAAAQAAAAAAAAAAAAACAPwAAAAAAAAAAAAAAQAAAgD8AAABAAAAAQAAAgD8AAAAAAAAAAAAAAAAAAAAAAACAPwAAAEAAAAAAAAAAQAAAoEAAAAAAAACAPwAAgD8AAAAAAAAAQAAAAAAAAAAAAAAAQAAAAAAAAIA/AAAAAAAAgD8AAEBAAAAAAAAAgD8AAIA/AABAQAAAgD8AAIA/AAAAQAAAAAAAAIA/AAAAAAAAgD8AAAAAAAAAAAAAAAAAAIBAAACAPwAAAAAAAEBAAAAAAAAAAAAAAAAAAACAPwAAAEAAAAAAAAAAAAAAAAAAAIA/AABAQAAAgD8AAABAAAAAAAAAgD8AAABAAACAPwAAgD8AAIA/AAAAAAAAQEAAAIA/AABAQAAAAEAAAAAAAACAPwAAgD8AAAAAAACAPwAAQEAAAIA/AACAPwAAAAAAAIA/AAAAAAAAAAAAAAAAAAAAAAAAAEAAAAAAAACAPwAAAAAAAIA/AAAAAAAAAAAAAEBAAACAPwAAAAAAAAAAAACAPwAAAAAAAIA/AACAPwAAQEAAAIA/AAAAAAAAAAAAAAAAAAAAQAAAgD8AAIA/AAAAQAAAAAAAAIA/AAAAAAAAgD8AAIA/AACAPwAAgD8AAAAAAAAAAAAAgD8AAIA/AAAAAAAAAAAAAABAAAAAQAAAgD8AAABAAAAAAAAAAAAAAABAAAAAAAAAAAAAAABAAAAAQAAAAEAAAIA/AAAAAAAAAAAAAABAAAAAAAAAgD8AAAAAAACAPwAAAAAAAAAAAACAPwAAgD8AAIA/AAAAAAAAAAAAAIA/AAAAQAAAAAAAAAAAAAAAAAAAAEAAAIA/AACAPwAAgD8AAABAAAAAQAAAgD8AAAAAAAAAQAAAQEAAAAAAAACAPwAAAAAAAIA/AAAAQAAAAAAAAAAAAAAAAAAAgD8AAIA/AACAPwAAAAAAAABAAACAPwAAgD8AAEBAAAAAAAAAgD8AAAAAAAAAQAAAAAAAAIA/AAAAQAAAgD8AAEBAAACAPwAAgD8AAEBAAAAAAAAAAAAAAIA/AAAAAAAAgD8AAABAAACAPwAAgD8AAAAAAACgQAAAAEAAAAAAAACAPwAAgD8AAAAAAAAAAAAAgD8AAAAAAACAPwAAAEAAAAAAAAAAAAAAAAAAAAAAAAAAQAAAAAAAAIA/AACAPwAAAAAAAAAAAABAQAAAgD8AAIA/AAAAAAAAgD8AAAAAAAAAQAAAAAAAAAAAAAAAQAAAgD8AAIA/AACAPwAAAEAAAAAAAAAAAAAAAAAAAAAAAAAAAAAAgD8AAIA/AAAAQAAAgD8AAAAAAAAAAAAAAAAAAAAAAABAQAAAAAAAAAAAAAAAQAAAgD8AAAAAAAAAQAAAAAAAAABAAACAPwAAQEAAAAAAAAAAQAAAgD8AAAAAAABAQAAAAAAAAAAAAAAAAAAAAAAAAAAAAACAPwAAAAAAAAAAAAAAAAAAAEAAAIA/AAAAAAAAgD8AAAAAAAAAAAAAAAAAAAAAAACAPwAAAAAAAIA/AACAPwAAAAAAAIA/AAAAAAAAAAAAAABAAAAAAAAAgD8AAABAAACgQAAAAAAAAAAAAAAAAAAAgD8AAABAAAAAAAAAgD8AAEBAAACAPwAAAAAAAEBAAABAQAAAAAAAAABAAAAAAAAAAAAAAAAAAAAAAAAAAEAAAAAAAAAAAAAAAAAAAIA/AACAPwAAAAAAAAAAAACAPwAAAEAAAAAAAAAAQAAAQEAAAAAAAAAAAAAAAEAAAAAAAACAPwAAAAAAAAAAAACAPwAAAAAAAAAAAAAAAAAAAAAAAABAAAAAAAAAAAAAAAAAAABAQAAAgD8AAAAAAACAPwAAAAAAAIA/AACAPwAAAAAAAIA/AACAPwAAAAAAAIA/AAAAAAAAgD8AAIA/AABAQAAAAAAAAAAAAAAAAAAAAAAAAABAAAAAAAAAgD8AAABAAAAAAAAAAAAAAIA/AACAPwAAAAAAAAAAAACAPwAAAEAAAABAAACAPwAAAEAAAEBAAAAAAAAAAAAAAAAAAACAPwAAAAAAAIA/AAAAAAAAgD8AAABAAAAAAAAAgD8AAAAAAABAQAAAAEAAAAAAAAAAAAAAgD8AAAAAAAAAQAAAAAAAAIA/AAAAAAAAAAAAAAAAAAAAQAAAgD8AAAAAAACAPwAAgD8AAABAAAAAAAAAgD8AAAAAAAAAAAAAAAAAAAAAAAAAAAAAAAAAAIA/AACAPwAAAEAAAIA/AACAPwAAAAAAAIA/AACAPwAAAAAAAIBAAAAAAAAAAAAAAEBAAACAPwAAAAAAAAAAAAAAAAAAgD8AAAAAAACAPwAAgD8AAAAAAACAPwAAgD8AAABAAAAAAAAAAAAAAABAAACAPwAAAAAAAAAAAAAAAAAAgD8AAIA/AACAPwAAAEAAAAAAAACAPwAAgD8AAIA/AAAAAAAAgD8AAIA/AACAPwAAgD8AAIA/AACAPwAAAAAAAAAAAAAAAAAAgD8AAAAAAACAPwAAQEAAAAAAAACAPwAAAAAAAAAAAAAAAAAAAEAAAIA/AAAAAAAAAAAAAAAAAAAAQAAAAAAAAABAAAAAAAAAAAAAAIA/AAAAAAAAAAAAAAAAAAAAQAAAAEAAAIA/AAAAQAAAgD8AAIA/AAAAAAAAgD8AAAAAAACAPwAAAAAAAIA/AAAAQAAAgD8AAIA/AAAAAAAAgD8AAAAAAABAQAAAgD8AAAAAAAAAQAAAgD8AAAAAAACAPwAAAEAAAAAAAACAPwAAAAAAAIA/AAAAAAAAgD8AAAAAAACAPwAAAAAAAAAAAACAPwAAgD8AAAAAAAAAQAAAAEAAAIA/AACAPwAAAAAAAAAAAACAPwAAAAAAAAAAAAAAAAAAAAAAAAAAAAAAAAAAAAAAAABAAAAAQAAAAAAAAAAAAAAAAAAAAAAAAIA/AACAPwAAgD8AAABAAACAPwAAAAAAAAAAAACAPwAAAAAAAEBAAAAAAAAAQEAAAAAAAAAAQAAAgD8AAABAAACAPwAAgD8AAAAAAAAAQAAAgD8AAAAAAAAAAAAAAAAAAIA/AAAAAAAAgD8AAIA/AACAPwAAgD8AAABAAACAQAAAQEAAAABAAAAAAAAAQEAAAIA/AACAPwAAgD8AAAAAAACAPwAAgD8AAEBAAAAAAAAAAAAAAAAAAAAAAAAAQEAAAIA/AAAAQAAAgD8AAABAAACAPwAAAAAAAAAAAAAAAAAAAAAAAABAAAAAAAAAAAAAAIA/AACAPwAAAAAAAIA/AAAAAAAAQEAAAIA/AAAAQAAAgD8AAEBAAAAAAAAAAEAAAIA/AAAAAAAAgD8AAAAAAAAAQAAAgD8AAIA/AAAAAAAAAAAAAAAAAAAAAAAAAAAAAAAAAAAAAAAAAAAAAIA/AAAAQAAAAEAAAABAAAAAAAAAgD8AAABAAAAAAAAAgD8AAIA/AAAAAAAAgD8AAABAAAAAQAAAQEAAAAAAAAAAAAAAAAAAAIA/AACAPwAAAAAAAAAAAAAAAAAAAAAAAABAAAAAAAAAgD8AAABAAAAAAAAAAAAAAIA/AAAAAAAAQEAAAIA/AACAPwAAAAAAAABAAAAAQAAAAAAAAAAAAACAPwAAgD8AAAAAAAAAAAAAAEAAAIA/AACAPwAAAAAAAAAAAAAAAAAAgEAAAIA/AAAAAAAAgD8AAABAAAAAAAAAgD8AAAAAAACAPwAAAAAAAABAAAAAAAAAgD8AAIA/AAAAAAAAAAAAAIA/AACAPwAAAEAAAIA/AACAPwAAAAAAAAAAAAAAQAAAAAAAAEBAAAAAAAAAgD8AAIA/AAAAAAAAAAAAAABAAAAAAAAAAAAAAIA/AAAAAAAAgD8AAAAAAAAAAAAAAAAAAAAAAAAAQAAAgD8AAABAAAAAAAAAgD8AAEBAAACAPwAAgD8AAIA/AAAAAAAAgD8AAAAAAAAAAAAAAEAAAAAAAACAPwAAgD8AAIA/AACAPwAAAAAAAAAAAACAPwAAgD8AAIA/AACAPwAAgD8AAABAAACAPwAAAAAAAIA/AAAAAAAAAAAAAIA/AAAAAAAAAAAAAAAAAACAPwAAgD8AAAAAAAAAAAAAAEAAAIA/AACAQAAAAAAAAIA/AAAAQAAAAAAAAIA/AAAAAAAAgD8AAIA/AAAAAAAAAAAAAIA/AAAAAAAAAAAAAIA/AACAPwAAAAAAAIA/AAAAQAAAAAAAAIA/AACAPwAAAAAAAAAAAABAQAAAgD8AAIA/AAAAAAAAgD8AAAAAAAAAAAAAAAAAAAAAAACAPwAAAAAAAIA/AAAAAAAAAAAAAIA/AACAPwAAAEAAAAAAAAAAQAAAgD8AAAAAAACAPwAAAAAAAAAAAACAPwAAAAAAAAAAAACAPwAAAAAAAAAAAACAPwAAgD8AAABAAACAPwAAgD8AAIA/AAAAQAAAgD8AAAAAAAAAQAAAgD8AAABAAAAAQAAAgD8AAAAAAACAPwAAQEAAAAAAAAAAAAAAAAAAAIA/AAAAAAAAgD8AAABAAACAPwAAAAAAAABAAACAPwAAAEAAAABAAAAAAAAAAAAAAIA/AAAAAAAAAAAAAAAAAAAAQAAAAEAAAAAAAAAAAAAAAAAAAAAAAAAAAAAAAEAAAAAAAAAAAAAAAAAAAAAAAACAPwAAAAAAAAAAAACAPwAAAAAAAAAAAAAAQAAAQEAAAAAAAAAAQAAAAAAAAAAAAAAAAAAAAAAAAIA/AAAAQAAAgD8AAIA/AACAPwAAAEAAAAAAAAAAAAAAAAAAAAAAAACAPwAAAAAAAAAAAACAPwAAAAAAAIA/AACAPwAAoEAAAIA/AACAPwAAgD8AAABAAAAAQAAAAAAAAIA/AACAPwAAgD8AAIA/AACAPwAAgD8AAAAAAACAPwAAAEAAAIA/AAAAAAAAgD8AAIA/AACAPwAAgD8AAEBAAAAAAAAAAAAAAAAAAACAPwAAAAAAAABAAACAPwAAAAAAAAAAAAAAAAAAAAAAAIA/AAAAAAAAAEAAAAAAAAAAAAAAgD8AAAAAAAAAAAAAgD8AAEBAAAAAAAAAAAAAAAAAAACAPwAAgD8AAAAAAAAAAAAAAAAAAAAAAACAPwAAgD8AAAAAAAAAAAAAgD8AAEBAAACAPwAAgD8AAEBAAAAAQAAAAAAAAIA/AACAPwAAgD8AAABAAAAAAAAAgD8AAEBAAAAAAAAAgD8AAIA/AAAAAAAAgD8AAAAAAAAAQAAAgD8AAIA/AAAAAAAAgD8AAIA/AAAAAAAAAEAAAAAAAACAPwAAgD8AAAAAAAAAQAAAgD8AAIA/AAAAQAAAgD8AAIA/AACAPwAAAAAAAIA/AAAAAAAAAAAAAABAAACAPwAAAAAAAAAAAACAPwAAAAAAAAAAAACAQAAAgD8AAAAAAAAAAAAAAAAAAAAAAAAAAAAAAAAAAIA/AACAPwAAAAAAAIA/AAAAAAAAAAAAAAAAAACAPwAAAAAAAIA/AABAQAAAgD8AAABAAAAAQAAAAAAAAIA/AAAAAAAAgD8AAAAAAAAAAAAAAAAAAAAAAACAPwAAgD8AAAAAAACAPwAAgD8AAAAAAACAPwAAAAAAAIA/AAAAAAAAgD8AAAAAAACAPwAAAAAAAAAAAAAAAAAAAEAAAIA/AAAAAAAAAAAAAAAAAAAAAAAAgD8AAIA/AACAPwAAAAAAAAAAAACAPwAAAAAAAIA/AAAAAAAAAAAAAIA/AACAPwAAAAAAAIA/AAAAAAAAgD8AAAAAAAAAQAAAAAAAAIA/AACAPwAAgD8AAAAAAAAAAAAAgD8AAAAAAAAAAAAAgD8AAIA/AAAAAAAAgD8AAIA/AACAPwAAgD8AAAAAAAAAAAAAAEAAAIA/AACAPwAAQEAAAIA/AACAPwAAAEAAAABAAABAQAAAAAAAAAAAAAAAAAAAgD8AAAAAAAAAAAAAgD8AAIA/AAAAAAAAQEAAAIA/AAAAAAAAAAAAAAAAAACAPwAAAEAAAABAAACAPwAAgD8AAABAAAAAAAAAgD8AAIA/AACAPwAAAEAAAIA/AAAAAAAAgD8AAAAAAAAAAAAAAAAAAAAAAAAAAAAAAAAAAABAAAAAAAAAgD8AAAAAAAAAAAAAgD8AAAAAAAAAAAAAgEAAAAAAAAAAAAAAgD8AAAAAAAAAAAAAAAAAAAAAAACAPwAAgD8AAIA/AACAPwAAAEAAAIA/AAAAAAAAgD8AAABAAAAAAAAAAAAAAABAAAAAQAAAAEAAAIA/AACAQAAAgD8AAAAAAAAAAAAAAAAAAIA/AAAAAAAAgD8AAAAAAAAAAAAAAAAAAIA/AAAAAAAAAAAAAABAAAAAAAAAAAAAAAAAAAAAAAAAAEAAAIA/AACAPwAAgD8AAIA/AACAPwAAAAAAAAAAAACAPwAAAAAAAAAAAACAPwAAgD8AAAAAAAAAAAAAAAAAAIA/AAAAAAAAAAAAAIA/AAAAQAAAgD8AAAAAAACAPwAAQEAAAABAAAAAAAAAAAAAAEBAAAAAQAAAAAAAAAAAAACAPwAAAAAAAAAAAAAAAAAAAEAAAAAAAAAAAAAAAAAAAEBAAACAPwAAgD8AAAAAAAAAQAAAAAAAAAAAAACAPwAAAAAAAAAAAAAAQAAAAAAAAAAAAAAAQAAAAAAAAAAAAAAAAAAAAAAAAAAAAAAAAAAAgD8AAAAAAAAAAAAAgD8AAIA/AAAAAAAAAAAAAAAAAAAAAAAAAAAAAAAAAAAAAAAAAAAAAABAAAAAQAAAgD8AAAAAAAAAQAAAAAAAAAAAAAAAAAAAgD8AAAAAAAAAQAAAAAAAAIA/AACAPwAAgD8AAAAAAAAAAAAAgD8AAIBAAACAPwAAAAAAAIA/AACAPwAAgD8AAAAAAAAAAAAAAAAAAIA/AAAAAAAAAAAAAIA/AAAAAAAAAAAAAIA/AACAPwAAAAAAAIA/AAAAAAAAAEAAAAAAAACAPwAAgD8AAIA/AACAPwAAAEAAAAAAAAAAAAAAAAAAAAAAAACAPwAAgEAAAAAAAACAPwAAAAAAAAAAAAAAAAAAAAAAAAAAAAAAAAAAAAAAAIA/AACAPwAAAAAAAAAAAACAPwAAgD8AAAAAAAAAQAAAAAAAAAAAAAAAAAAAgD8AAAAAAAAAAAAAAAAAAAAAAACAPwAAAAAAAAAAAAAAAAAAAAAAAIA/AAAAAAAAAEAAAAAAAAAAQAAAAAAAAABAAAAAAAAAAAAAAAAAAAAAAAAAgD8AAIA/AACAQAAAAAAAAIA/AACAPwAAgD8AAABAAAAAAAAAAAAAAAAAAACAPwAAAAAAAEBAAAAAQAAAgD8AAAAAAACAPwAAAAAAAIA/AACAPwAAAAAAAEBAAACAPwAAgD8AAAAAAACAPwAAQEAAAAAAAAAAAAAAgD8AAIA/AAAAAAAAgD8AAIA/AACAPwAAgD8AAAAAAAAAAAAAAAAAAAAAAACAPwAAgD8AAABAAACAPwAAAAAAAABAAAAAQAAAAAAAAIA/AAAAAAAAgD8AAIA/AABAQAAAAAAAAIA/AAAAAAAAQEAAAIA/AAAAQAAAAAAAAAAAAAAAAAAAAAAAAIA/AACAPwAAAAAAAAAAAAAAAAAAgD8AAIA/AAAAQAAAgD8AAAAAAAAAAAAAAEAAAABAAAAAQAAAAAAAAIA/AAAAAAAAAAAAAIA/AAAAAAAAgD8AAEBAAAAAAAAAgD8AAIA/AAAAAAAAgD8AAIA/AAAAQAAAgD8AAAAAAACAPwAAAAAAAAAAAAAAQAAAAAAAAAAAAAAAAAAAAAAAAABAAACAPwAAAAAAAAAAAACAPwAAAAAAAIA/AAAAAAAAAAAAAABAAAAAAAAAAAAAAIA/AACAPwAAAAAAAIA/AAAAAAAAAAAAAEBAAAAAQAAAAEAAAAAAAAAAQAAAAAAAAIA/AAAAAAAAAEAAAAAAAAAAAAAAQEAAAIA/AAAAAAAAAAAAAAAAAAAAQAAAAEAAAAAAAAAAQAAAAEAAAABAAACAPwAAAAAAAAAAAAAAQAAAgD8AAABAAACAPwAAAAAAAAAAAACAPwAAgD8AAIA/AAAAAAAAAAAAAAAAAAAAAAAAgD8AAAAAAACAPwAAgD8AAABAAAAAAAAAAAAAAAAAAAAAAAAAQEAAAIA/AACAPwAAAEAAAIA/AAAAAAAAAAAAAAAAAABAQAAAgD8AAAAAAAAAAAAAAAAAAAAAAAAAAAAAAEAAAIA/AACAPwAAAAAAAAAAAAAAAAAAAAAAAAAAAACAPwAAAAAAAIA/AACAPwAAAAAAAIA/AACAPwAAAEAAAAAAAACAPwAAAAAAAIA/AAAAAAAAAAAAAIA/AAAAAAAAAAAAAAAAAAAAAAAAAEAAAIA/AACAPwAAAAAAAAAAAAAAAAAAgD8AAIA/AAAAAAAAgD8AAAAAAAAAAAAAgD8AAIA/AAAAAAAAAAAAAIA/AAAAAAAAAEAAAABAAAAAAAAAAAAAAAAAAAAAAAAAAAAAAIA/AAAAAAAAAAAAAIA/AAAAAAAAAAAAAIA/AACAPwAAAAAAAEBAAACAPwAAAAAAAIA/AABAQAAAAEAAAIA/AACAPwAAAAAAAAAAAAAAAAAAAAAAAAAAAACAPwAAAAAAAAAAAAAAAAAAAAAAAAAAAAAAAAAAgD8AAIA/AAAAAAAAgD8AAAAAAAAAAAAAAAAAAAAAAAAAAAAAgD8AAIA/AACAPwAAAAAAAIA/AACAQAAAgD8AAAAAAAAAQAAAAEAAAIA/AACAPwAAAEAAAAAAAACAPwAAgD8AAAAAAACAPwAAgD8AAABAAAAAQAAAAAAAAIA/AACAPwAAgD8AAAAAAAAAAAAAAAAAAIBAAACAPwAAAAAAAIA/AAAAAAAAAAAAAABAAAAAQAAAAAAAAAAAAACAPwAAgD8AAAAAAACAPwAAAEAAAIA/AAAAAAAAAAAAAAAAAABAQAAAAAAAAAAAAACAPwAAAAAAAEBAAAAAAAAAQEAAAAAAAABAQAAAgD8AAABAAAAAAAAAAAAAAAAAAAAAAAAAAAAAAAAAAACAPwAAAAAAAIA/AAAAQAAAAAAAAAAAAABAQAAAgD8AAIA/AAAAAAAAgD8AAAAAAAAAAAAAAAAAAAAAAAAAQAAAAAAAAAAAAAAAAAAAAEAAAIA/AAAAAAAAAAAAAAAAAAAAQAAAAAAAAABAAACAPwAAgD8AAAAAAAAAAAAAgD8AAAAAAAAAAAAAAEAAAIA/AACAPwAAAAAAAIA/AAAAAAAAgD8AAAAAAAAAAAAAAEAAAIA/AACAPwAAAAAAAABAAAAAAAAAgD8AAAAAAAAAQAAAgD8AAAAAAACAPwAAgD8AAAAAAACAPwAAgD8AAAAAAACAPwAAAAAAAAAAAACAPwAAAAAAAAAAAAAAAAAAAAAAAAAAAACAPwAAAAAAAIA/AAAAAAAAAAAAAABAAAAAAAAAgD8AAAAAAAAAAAAAAAAAAABAAAAAAAAAgD8AAAAAAAAAAAAAAEAAAAAAAAAAAAAAAAAAAIA/AAAAQAAAAAAAAAAAAACAPwAAAAAAAABAAAAAAAAAAAAAAAAAAAAAQAAAgD8AAAAAAACAPwAAAAAAAABAAAAAAAAAAAAAAIA/AAAAAAAAgD8AAAAAAACAPwAAgD8AAIA/AAAAAAAAAAAAAAAAAAAAAAAAAAAAAAAAAACAPwAAAAAAAIA/AAAAAAAAAAAAAAAAAAAAAAAAgD8AAAAAAACAPwAAAAAAAAAAAAAAAAAAAEAAAIA/AAAAAAAAAAAAAABAAAAAAAAAAAAAAABAAAAAQAAAgD8AAIA/AAAAAAAAgD8AAAAAAAAAAAAAgD8AAAAAAACAPwAAgD8AAAAAAAAAQAAAAAAAAAAAAAAAQAAAAAAAAIA/AAAAAAAAgD8AAAAAAAAAAAAAgD8AAAAAAAAAAAAAgD8AAAAAAAAAAAAAgD8AAAAAAACAPwAAgD8AAIA/AAAAAAAAAAAAAAAAAACAPwAAAAAAAIA/AAAAQAAAgD8AAIA/AAAAAAAAAAAAAABAAAAAQAAAgEAAAIA/AAAAAAAAAEAAAIA/AAAAAAAAAAAAAAAAAAAAQAAAAAAAAIA/AAAAAAAAAAAAAAAAAAAAAAAAAEAAAAAAAAAAAAAAgD8AAEBAAAAAQAAAgD8AAAAAAAAAAAAAAAAAAABAAAAAAAAAAAAAAAAAAAAAAAAAoEAAAIA/AABAQAAAgD8AAAAAAAAAAAAAgD8AAEBAAACAPwAAAAAAAAAAAAAAQAAAgD8AAAAAAACAPwAAgD8AAAAAAAAAAAAAAAAAAIA/AACAPwAAgD8AAABAAACAPwAAAAAAAAAAAACAPwAAgD8AAIA/AAAAAAAAgD8AAAAAAAAAAAAAAAAAAAAAAAAAAAAAgD8AAAAAAAAAAAAAAAAAAIA/AAAAQAAAAAAAAABAAACAPwAAAAAAAIA/AABAQAAAAEAAAIA/AACAPwAAAEAAAAAAAAAAQAAAgD8AAAAAAAAAAAAAgD8AAAAAAAAAAAAAAAAAAIA/AACAPwAAAAAAAAAAAAAAQAAAgD8AAAAAAACAPwAAgD8AAAAAAACAPwAAAEAAAAAAAAAAAAAAgD8AAAAAAABAQAAAgD8AAAAAAAAAQAAAgD8AAAAAAAAAAAAAAEAAAAAAAACAPwAAAAAAAAAAAACAPwAAgD8AAIA/AAAAAAAAAAAAAAAAAAAAAAAAgD8AAAAAAAAAAAAAgD8AAEBAAACAPwAAAAAAAIA/AAAAAAAAgD8AAAAAAAAAAAAAAAAAAAAAAACAPwAAAAAAAIA/AAAAAAAAAAAAAAAAAABAQAAAgD8AAABAAAAAAAAAgD8AAAAAAAAAAAAAAAAAAABAAAAAQAAAgD8AAIA/AACAPwAAgD8AAAAAAAAAAAAAAAAAAIA/AAAAAAAAgD8AAIA/AAAAAAAAAAAAAAAAAAAAAAAAAAAAAAAAAAAAQAAAAAAAAIA/AAAAAAAAgD8AAAAAAAAAAAAAgD8AAIA/AAAAAAAAAAAAAABAAAAAAAAAgD8AAAAAAAAAAAAAgD8AAABAAACAPwAAAAAAAIA/AACAPwAAAAAAAABAAAAAAAAAAAAAAAAAAACAPwAAgD8AAAAAAACAPwAAAAAAAIA/AAAAAAAAAAAAAAAAAAAAAAAAgD8AAAAAAACAPwAAAAAAAAAAAAAAAAAAAAAAAAAAAAAAQAAAAAAAAAAAAAAAAAAAAAAAAAAAAAAAAAAAAAAAAABAAAAAAAAAgD8AAABAAACAPwAAgD8AAIA/AAAAAAAAAAAAAAAAAACAPwAAgD8AAAAAAABAQAAAAAAAAABAAACAPwAAAAAAAAAAAABAQAAAgD8AAAAAAAAAAAAAAAAAAAAAAACAPwAAAAAAAAAAAAAAQAAAAAAAAIA/AACAPwAAAAAAAIA/AACAPwAAAAAAAIA/AAAAAAAAAAAAAABAAAAAQAAAAAAAAIA/AAAAAAAAAAAAAAAAAAAAAAAAAAAAAIA/AACAPwAAgD8AAAAAAACAPwAAAAAAAIA/AAAAAAAAAAAAAABAAACAPwAAAAAAAABAAAAAQAAAAAAAAAAAAACAPwAAgD8AAAAAAAAAAAAAAEAAAIA/AAAAAAAAAAAAAAAAAACAPwAAAAAAAAAAAAAAAAAAgD8AAAAAAAAAAAAAAEAAAAAAAAAAAAAAQEAAAAAAAAAAAAAAAAAAAAAAAAAAAAAAAAAAAAAAAAAAAAAAAAAAAIA/AAAAAAAAgD8AAAAAAACAPwAAgD8AAABAAACAPwAAgD8AAAAAAAAAAAAAAEAAAAAAAAAAAAAAAAAAAIA/AAAAQAAAAEAAAAAAAABAQAAAgD8AAABAAACAPwAAAAAAAAAAAAAAAAAAAAAAAAAAAAAAQAAAAAAAAABAAACAPwAAAAAAAAAAAACAPwAAgD8AAAAAAAAAAAAAAAAAAIA/AACAPwAAAAAAAIA/AABAQAAAAAAAAAAAAAAAQAAAgD8AAAAAAAAAAAAAAAAAAAAAAACAPwAAgD8AAAAAAACAPwAAgD8AAIA/AAAAAAAAAAAAAAAAAAAAAAAAgD8AAAAAAAAAAAAAAAAAAAAAAACAPwAAAAAAAIA/AAAAAAAAAAAAAIA/AAAAAAAAAAAAAIA/AAAAAAAAAAAAAEBAAABAQAAAgD8AAAAAAACAPwAAAAAAAABAAACAPwAAgD8AAABAAACAPwAAAAAAAIA/AAAAQAAAAAAAAIA/AACAPwAAAAAAAIA/AAAAAAAAAAAAAABAAAAAAAAAAAAAAAAAAAAAAAAAgD8AAAAAAACAPwAAAAAAAIA/AAAAAAAAgD8AAABAAAAAAAAAAEAAAIA/AAAAAAAAAAAAAAAAAAAAQAAAgD8AAABAAAAAAAAAAAAAAIA/AAAAAAAAAAAAAIA/AACAPwAAAEAAAIA/AACAPwAAAAAAAAAAAACAPwAAAAAAAIA/AAAAAAAAAEAAAIA/AACAPwAAgD8AAAAAAACAPwAAAAAAAABAAAAAAAAAAAAAAAAAAAAAAAAAgD8AAAAAAAAAAAAAAAAAAABAAAAAAAAAgD8AAAAAAAAAQAAAgD8AAAAAAACAPwAAAAAAAIA/AACAPwAAAEAAAIA/AACAPwAAAAAAAIA/AAAAAAAAAAAAAAAAAAAAAAAAgD8AAAAAAAAAAAAAgD8AAAAAAACAPwAAAAAAAIA/AAAAAAAAAAAAAAAAAAAAAAAAAAAAAAAAAAAAQAAAAAAAAAAAAAAAQAAAgD8AAIA/AAAAAAAAAAAAAIA/AAAAAAAAAAAAAAAAAAAAAAAAAEAAAIA/AAAAAAAAAAAAAAAAAAAAQAAAgD8AAAAAAAAAAAAAAAAAAABAAACAPwAAAEAAAEBAAAAAAAAAgD8AAAAAAABAQAAAgD8AAAAAAAAAAAAAgD8AAAAAAACAPwAAAAAAAAAAAAAAAAAAgD8AAIA/AAAAQAAAAEAAAAAAAABAQAAAAAAAAAAAAAAAAAAAAAAAAAAAAACAPwAAAAAAAAAAAAAAAAAAAAAAAAAAAACAPwAAAAAAAABAAACAPwAAAAAAAAAAAAAAQAAAAAAAAABAAACAPwAAAAAAAAAAAAAAAAAAAAAAAAAAAAAAAAAAAAAAAIA/AAAAAAAAgD8AAABAAAAAAAAAAAAAAIA/AACAPwAAAEAAAAAAAACAPwAAgD8AAAAAAAAAQAAAgD8AAIA/AAAAAAAAAAAAAEBAAACAPwAAAEAAAAAAAAAAAAAAgD8AAIBAAAAAAAAAAAAAAAAAAACAPwAAAAAAAAAAAAAAAAAAAEAAAIA/AACAPwAAAAAAAIA/AAAAAAAAAAAAAAAAAAAAAAAAAAAAAAAAAAAAAAAAAAAAAIA/AAAAAAAAAAAAAIA/AAAAAAAAAEAAAAAAAACAPwAAAAAAAAAAAACAPwAAAAAAAIA/AACAPwAAgD8AAAAAAACAPwAAAAAAAIA/AACAPwAAAAAAAAAAAACAPwAAAAAAAAAAAACAPwAAgD8AAAAAAACAPwAAAAAAAABAAAAAAAAAgD8AAABAAAAAAAAAAEAAAABAAAAAAAAAAEAAAAAAAAAAAAAAgD8AAAAAAAAAQAAAAAAAAABAAAAAAAAAAAAAAABAAAAAQAAAAAAAAAAAAAAAAAAAQEAAAAAAAACAPwAAAAAAAAAAAACAPwAAgD8AAAAAAACAPwAAQEAAAEBAAAAAAAAAgD8AAAAAAAAAAAAAAAAAAAAAAACAPwAAgD8AAAAAAACAPwAAgD8AAIA/AAAAAAAAAAAAAIA/AACAPwAAAAAAAAAAAACAPwAAgD8AAAAAAACAPwAAAAAAAIA/AAAAAAAAAAAAAAAAAACAPwAAgD8AAIA/AACAPwAAAAAAAIA/AAAAAAAAAEAAAAAAAACAPwAAAAAAAIA/AACAPwAAAAAAAAAAAACAPwAAAAAAAIA/AAAAAAAAgD8AAIA/AACAPwAAAAAAAAAAAAAAAAAAAEAAAIA/AAAAQAAAAAAAAABAAACAPwAAgD8AAAAAAAAAQAAAAAAAAAAAAAAAAAAAAAAAAAAAAAAAAAAAAAAAAABAAAAAAAAAAAAAAABAAAAAQAAAAEAAAAAAAAAAAAAAAAAAAIA/AACAPwAAAAAAAIA/AAAAAAAAAAAAAIA/AAAAAAAAgD8AAAAAAAAAQAAAgD8AAIA/AAAAQAAAAEAAAIA/AAAAAAAAAAAAAIA/AAAAAAAAAAAAAAAAAAAAAAAAgD8AAIA/AAAAAAAAAAAAAAAAAACAPwAAAAAAAIA/AAAAAAAAAAAAAIA/AACAPwAAAAAAAAAAAAAAAAAAgD8AAAAAAACAPwAAAAAAAAAAAABAQAAAgD8AAAAAAAAAAAAAgD8AAIA/AACgQAAAAAAAAAAAAAAAAAAAAAAAAAAAAAAAQAAAgD8AAAAAAAAAAAAAgD8AAEBAAAAAAAAAAAAAAIA/AACAPwAAgD8AAAAAAAAAAAAAAAAAAAAAAAAAAAAAAAAAAIA/AAAAAAAAAEAAAAAAAAAAAAAAAAAAAIA/AAAAAAAAgD8AAIA/AAAAQAAAAAAAAAAAAACAPwAAAAAAAAAAAAAAAAAAgD8AAABAAAAAQAAAAEAAAEBAAACAPwAAgD8AAIA/AACAPwAAAAAAAAAAAAAAAAAAAEAAAIA/AAAAAAAAQEAAAABAAACAPwAAQEAAAAAAAAAAQAAAgD8AAIA/AACAPwAAgD8AAAAAAAAAAAAAAAAAAIA/AAAAAAAAgD8AAIA/AAAAAAAAAAAAAAAAAAAAAAAAgD8AAIA/AAAAAAAAAAAAAIA/AACAPwAAgD8AAAAAAAAAAAAAgD8AAAAAAAAAAAAAgD8AAAAAAAAAAAAAgD8AAIA/AAAAAAAAgD8AAIA/AAAAAAAAgD8AAIA/AACAPwAAAAAAAIA/AAAAQAAAgD8AAAAAAAAAAAAAAEAAAAAAAAAAAAAAgD8AAIA/AABAQAAAAEAAAIA/AAAAAAAAAAAAAABAAACAPwAAAAAAAAAAAACAPwAAgD8AAAAAAAAAAAAAAAAAAAAAAAAAAAAAAAAAAABAAAAAAAAAQEAAAAAAAACAPwAAgD8AAAAAAACAPwAAAAAAAAAAAACAPwAAgD8AAAAAAACAPwAAAAAAAIA/AACAPwAAAAAAAIA/AAAAAAAAAAAAAIA/AAAAAAAAgD8AAIA/AACAPwAAAAAAAIA/AACAPwAAgD8AAAAAAACAPwAAAAAAAAAAAACAPwAAgD8AAAAAAAAAAAAAAAAAAIA/AACAPwAAAAAAAAAAAACAPwAAgD8AAAAAAAAAAAAAgD8AAIA/AAAAAAAAAAAAAAAAAAAAAAAAAEAAAABAAAAAAAAAAAAAAIA/AACAPwAAAAAAAABAAAAAAAAAAEAAAAAAAABAQAAAgD8AAAAAAACAPwAAgD8AAIA/AACAPwAAAAAAAIA/AAAAAAAAAAAAAAAAAACAPwAAgD8AAIA/AAAAAAAAgD8AAAAAAAAAAAAAgD8AAIA/AAAAAAAAAEAAAABAAAAAAAAAAAAAAAAAAACAPwAAAAAAAIA/AAAAAAAAAAAAAAAAAACAPwAAAAAAAIA/AACAPwAAgD8AAEBAAAAAAAAAgD8AAAAAAAAAAAAAgD8AAAAAAAAAQAAAgD8AAIA/AAAAQAAAAEAAAAAAAACAPwAAgD8AAIA/AAAAAAAAgD8AAAAAAACAPwAAAAAAAAAAAAAAAAAAgD8AAAAAAAAAAAAAgD8AAAAAAAAAAAAAAAAAAIA/AACAPwAAAAAAAIA/AAAAAAAAAEAAAAAAAAAAAAAAAAAAAIA/AAAAAAAAAAAAAIA/AACAPwAAAAAAAABAAAAAAAAAAAAAAAAAAAAAAAAAAAAAAAAAAAAAAAAAgD8AAAAAAAAAAAAAAEAAAAAAAAAAAAAAAAAAAABAAACAPwAAAAAAAAAAAAAAAAAAAAAAAIA/AAAAAAAAAEAAAAAAAACAPwAAgD8AAAAAAACAPwAAAAAAAAAAAAAAAAAAAAAAAIA/AAAAAAAAAAAAAIA/AACAPwAAAEAAAAAAAAAAAAAAAEAAAIA/AACAPwAAgD8AAABAAACAPwAAAAAAAIA/AAAAQAAAgD8AAAAAAACAPwAAAAAAAIA/AAAAQAAAAAAAAIA/AAAAAAAAAAAAAEBAAACAPwAAAAAAAAAAAAAAAAAAgD8AAAAAAACAPwAAAAAAAAAAAAAAAAAAgD8AAAAAAAAAAAAAAAAAAABAAAAAQAAAAAAAAAAAAACAPwAAAAAAAIA/AAAAAAAAAAAAAAAAAACAPwAAAAAAAAAAAACAPwAAAAAAAIA/AAAAAAAAAAAAAIA/AAAAAAAAgD8AAIA/AAAAQAAAAAAAAIA/AAAAAAAAQEAAAABAAAAAAAAAAEAAAABAAACAPwAAgD8AAAAAAAAAAAAAQEAAAAAAAAAAQAAAAAAAAIA/AAAAAAAAgD8AAIA/AAAAAAAAAAAAAAAAAAAAAAAAAAAAAAAAAAAAAAAAAEAAAIA/AAAAAAAAgD8AAABAAAAAQAAAAAAAAIA/AAAAAAAAAAAAAAAAAAAAQAAAgD8AAIA/AACAPwAAAAAAAAAAAACAPwAAAAAAAAAAAAAAAAAAAEAAAAAAAAAAAAAAAEAAAAAAAAAAAAAAAAAAAAAAAACAPwAAgD8AAABAAAAAAAAAAAAAAIA/AAAAAAAAAAAAAAAAAAAAAAAAAAAAAIA/AAAAAAAAAAAAAAAAAACAPwAAAAAAAAAAAAAAQAAAgD8AAAAAAAAAAAAAgD8AAIA/AAAAAAAAAAAAAIA/AAAAAAAAAAAAAAAAAAAAAAAAgD8AAAAAAAAAAAAAAAAAAABAAAAAAAAAgD8AAIA/AAAAAAAAgD8AAIA/AAAAQAAAQEAAAAAAAAAAQAAAAAAAAAAAAAAAQAAAAAAAAAAAAACAPwAAAAAAAAAAAAAAAAAAgD8AAIA/AAAAAAAAAAAAAABAAAAAAAAAgD8AAAAAAAAAQAAAQEAAAAAAAAAAAAAAgD8AAIA/AACAPwAAAEAAAAAAAACAPwAAAAAAAAAAAAAAAAAAAAAAAAAAAAAAAAAAAAAAAAAAAACAPwAAAEAAAIA/AAAAQAAAAAAAAAAAAAAAAAAAAAAAAIA/AACAPwAAgD8AAAAAAACAPwAAgD8AAIA/AAAAAAAAAAAAAIA/AACAPwAAAAAAAAAAAAAAAAAAAAAAAAAAAAAAAAAAAEAAAIA/AAAAAAAAAAAAAAAAAACAPwAAAAAAAIA/AAAAAAAAgD8AAEBAAAAAAAAAAAAAAIA/AAAAAAAAAEAAAIA/AACAPwAAAAAAAAAAAACAPwAAAAAAAAAAAAAAAAAAAEAAAIA/AACAPwAAgD8AAABAAAAAQAAAAAAAAIA/AACAPwAAgD8AAIA/AAAAQAAAAAAAAABAAAAAAAAAgD8AAIA/AAAAQAAAAEAAAAAAAAAAAAAAAAAAAAAAAAAAAAAAgD8AAIA/AAAAQAAAAAAAAABAAAAAQAAAgD8AAAAAAACAPwAAAAAAAAAAAACAPwAAAAAAAIA/AAAAAAAAAAAAAABAAAAAAAAAgD8AAAAAAAAAAAAAAAAAAAAAAACAPwAAAEAAAIA/AAAAAAAAAAAAAIA/AACAPwAAgD8AAAAAAAAAQAAAAAAAAIA/AAAAAAAAAAAAAIA/AACAPwAAAEAAAAAAAAAAAAAAAAAAAAAAAACAPwAAAAAAAAAAAAAAAAAAAEAAAAAAAACAPwAAgD8AAIA/AACAPwAAAAAAAIA/AACAPwAAgD8AAAAAAAAAAAAAAAAAAAAAAACAPwAAgD8AAIA/AACAPwAAgD8AAIA/AACAPwAAAEAAAAAAAAAAAAAAAAAAAAAAAAAAAAAAAEAAAAAAAACAPwAAAAAAAAAAAAAAAAAAAAAAAIA/AACAPwAAAAAAAAAAAAAAQAAAAAAAAIA/AACAPwAAgD8AAIA/AACAPwAAAAAAAIA/AACAPwAAAAAAAAAAAAAAAAAAAAAAAAAAAACAPwAAAAAAAIA/AAAAQAAAgD8AAABAAAAAAAAAgD8AAIA/AAAAAAAAAEAAAIA/AAAAAAAAgD8AAABAAACAPwAAAEAAAAAAAACAPwAAAAAAAAAAAACAPwAAgD8AAIA/AAAAAAAAAEAAAAAAAAAAQAAAAAAAAIA/AAAAAAAAgD8AAAAAAAAAAAAAAEAAAAAAAAAAQAAAAEAAAIA/AACAPwAAAAAAAAAAAACAPwAAAAAAAIA/AAAAQAAAgD8AAAAAAACAPwAAgD8AAAAAAAAAAAAAAAAAAAAAAAAAAAAAAAAAAIA/AAAAAAAAAAAAAAAAAAAAAAAAAAAAAIA/AACAPwAAAAAAAABAAAAAAAAAAAAAAABAAAAAQAAAAAAAAAAAAAAAQAAAgD8AAIA/AACAPwAAgD8AAAAAAAAAAAAAgD8AAEBAAAAAAAAAgD8AAAAAAAAAAAAAgD8AAAAAAAAAQAAAAAAAAAAAAACAPwAAAAAAAIA/AABAQAAAAAAAAAAAAAAAAAAAAAAAAAAAAAAAAAAAgD8AAAAAAAAAAAAAQEAAAAAAAACAPwAAAAAAAAAAAAAAAAAAgD8AAABAAAAAAAAAgD8AAAAAAAAAAAAAgD8AAIA/AACAPwAAAAAAAABAAAAAQAAAgD8AAAAAAAAAAAAAgD8AAAAAAACAPwAAAEAAAIA/AACAPwAAAAAAAAAAAAAAAAAAAAAAAAAAAAAAAAAAAAAAAAAAAAAAAAAAgD8AAAAAAACAPwAAAAAAAEBAAAAAAAAAAAAAAIA/AAAAQAAAgD8AAAAAAACAPwAAAEAAAAAAAACAPwAAgD8AAAAAAAAAAAAAgD8AAAAAAAAAAAAAAAAAAAAAAAAAAAAAgD8AAABAAAAAAAAAAAAAAAAAAAAAQAAAAAAAAIA/AAAAAAAAAAAAAIBAAACAPwAAAAAAAIA/AAAAQAAAAAAAAAAAAAAAAAAAAAAAAAAAAACAPwAAAAAAAAAAAACAPwAAAAAAAAAAAAAAQAAAAAAAAAAAAAAAAAAAAAAAAIA/AAAAQAAAAAAAAAAAAAAAAAAAAAAAAAAAAACAPwAAAAAAAIA/AAAAAAAAAAAAAIA/AACAPwAAAEAAAIA/AAAAAAAAgD8AAAAAAAAAAAAAAEAAAAAAAAAAAAAAAAAAAAAAAACAPwAAAEAAAAAAAAAAQAAAgD8AAAAAAAAAQAAAAAAAAAAAAAAAAAAAAAAAAIA/AAAAAAAAAAAAAAAAAACAPwAAAAAAAIA/AAAAAAAAAAAAAAAAAAAAAAAAAAAAAIA/AAAAAAAAAAAAAAAAAAAAAAAAAAAAAAAAAACgQAAAAAAAAAAAAAAAQAAAAAAAAAAAAAAAAAAAgD8AAIA/AAAAAAAAAAAAAAAAAACAPwAAAAAAAIBAAACAPwAAAAAAAAAAAACAPwAAgD8AAIA/AACAPwAAAAAAAIA/AACAPwAAgD8AAAAAAAAAAAAAAAAAAIA/AACAPwAAAAAAAIA/AACAPwAAgD8AAABAAACAPwAAAAAAAAAAAACAPwAAAAAAAAAAAACAQAAAgD8AAIA/AAAAAAAAAEAAAIA/AAAAAAAAAAAAAAAAAAAAAAAAgD8AAIA/AAAAAAAAAAAAAAAAAAAAAAAAAAAAAAAAAACAPwAAAAAAAABAAACAPwAAAAAAAAAAAAAAAAAAAAAAAAAAAACAPwAAAAAAAIA/AAAAAAAAAAAAAIA/AAAAAAAAAAAAAIA/AAAAAAAAgD8AAIA/AAAAAAAAgD8AAAAAAACAPwAAAAAAAIA/AAAAAAAAgD8AAAAAAAAAAAAAAAAAAIA/AACAPwAAgD8AAAAAAAAAAAAAgD8AAABAAAAAAAAAAEAAAABAAACAPwAAAAAAAABAAAAAAAAAgD8AAAAAAACAPwAAgD8AAAAAAACAPwAAAAAAAAAAAAAAAAAAAEAAAIA/AACAPwAAAAAAAAAAAACAPwAAAEAAAIA/AAAAAAAAAAAAAAAAAACAPwAAgD8AAIA/AAAAAAAAAEAAAIA/AAAAAAAAAAAAAAAAAAAAAAAAAAAAAEBAAACAPwAAgD8AAIA/AAAAAAAAgD8AAAAAAAAAAAAAAEAAAIA/AACAPwAAAAAAAIBAAAAAAAAAAAAAAIA/AAAAAAAAAAAAAAAAAAAAAAAAAAAAAIA/AAAAQAAAAAAAAAAAAACAPwAAAAAAAIA/AAAAAAAAgD8AAAAAAAAAAAAAAAAAAAAAAAAAAAAAgD8AAABAAAAAQAAAAAAAAIA/AAAAAAAAAAAAAAAAAAAAAAAAgD8AAAAAAAAAAAAAAEAAAIA/AAAAAAAAAAAAAAAAAAAAAAAAAAAAAIA/AACAPwAAgD8AAAAAAAAAAAAAAAAAAAAAAACAPwAAgD8AAAAAAAAAAAAAAEAAAAAAAAAAQAAAgD8AAAAAAAAAQAAAgD8AAIA/AAAAAAAAgD8AAAAAAAAAAAAAAAAAAABAAAAAAAAAAAAAAIA/AAAAAAAAQEAAAABAAAAAAAAAAAAAAIA/AAAAAAAAAAAAAIA/AACAPwAAAAAAAIA/AAAAQAAAgD8AAAAAAACAPwAAAAAAAABAAAAAAAAAAEAAAAAAAAAAAAAAAAAAAAAAAAAAAAAAAAAAAAAAAACAPwAAgD8AAAAAAACAPwAAgD8AAEBAAAAAAAAAAAAAAAAAAACAQAAAAAAAAIA/AAAAAAAAAAAAAIA/AACAPwAAAAAAAAAAAACAPwAAAAAAAAAAAACAPwAAgD8AAAAAAAAAAAAAgD8AAAAAAACAPwAAAAAAAAAAAAAAAAAAAAAAAAAAAAAAAAAAAAAAAABAAAAAAAAAgD8AAIA/AAAAAAAAAAAAAIA/AACAPwAAAEAAAAAAAACAPwAAAAAAAAAAAAAAAAAAgD8AAAAAAACAPwAAAAAAAIA/AACAPwAAAAAAAABAAAAAAAAAQEAAAIA/AAAAAAAAAAAAAIA/AAAAAAAAAAAAAABAAAAAAAAAAAAAAAAAAAAAAAAAgD8AAAAAAAAAAAAAgD8AAAAAAAAAAAAAgD8AAAAAAACAPwAAAAAAAEBAAACAPwAAgD8AAAAAAACAPwAAAAAAAAAAAAAAAAAAQEAAAIA/AAAAAAAAgD8AAAAAAACAPwAAAAAAAAAAAAAAAAAAgD8AAAAAAACAPwAAAEAAAIA/AACAPwAAgD8AAAAAAAAAAAAAgD8AAIA/AAAAAAAAgD8AAAAAAACAPwAAAAAAAAAAAAAAAAAAgD8AAABAAAAAAAAAgD8AAAAAAACAPwAAAAAAAAAAAAAAAAAAAAAAAIA/AAAAAAAAAAAAAIA/AACAPwAAgD8AAIA/AAAAAAAAAAAAAIA/AAAAAAAAgD8AAAAAAACAPwAAgD8AAABAAAAAAAAAgD8AAIA/AACAPwAAAEAAAAAAAAAAAAAAgD8AAAAAAABAQAAAAAAAAIA/AAAAAAAAAAAAAAAAAAAAAAAAAAAAAAAAAAAAAAAAgD8AAAAAAABAQAAAAAAAAAAAAAAAAAAAgD8AAAAAAAAAAAAAAAAAAAAAAAAAAAAAAAAAAIA/AAAAAAAAAAAAAAAAAAAAAAAAgD8AAAAAAACAPwAAgD8AAABAAAAAAAAAAAAAAIA/AAAAAAAAAEAAAABAAACAPwAAAAAAAAAAAACAPwAAgD8AAAAAAAAAAAAAAEAAAABAAACAPwAAAAAAAAAAAAAAAAAAAAAAAIA/AACAPwAAgD8AAIA/AACAPwAAAAAAAIA/AAAAAAAAAAAAAAAAAACAPwAAAAAAAAAAAACAPwAAAAAAAAAAAACAPwAAAEAAAAAAAACAPwAAAAAAAIA/AAAAAAAAAEAAAAAAAAAAAAAAAAAAAAAAAACAPwAAgD8AAIA/AAAAAAAAAAAAAAAAAAAAAAAAAAAAAIA/AAAAAAAAAAAAAAAAAAAAAAAAAAAAAABAAACAPwAAgD8AAIA/AACAPwAAAAAAAAAAAAAAAAAAgD8AAIA/AAAAAAAAAAAAAIA/AACAPwAAgD8AAAAAAAAAAAAAAAAAAAAAAACAPwAAAAAAAAAAAACAPwAAAAAAAIA/AACAPwAAgD8AAAAAAAAAAAAAAAAAAAAAAACAPwAAAEAAAAAAAAAAAAAAgD8AAAAAAACAPwAAgD8AAIA/AACAPwAAgD8AAAAAAAAAAAAAAAAAAAAAAAAAAAAAAAAAAIA/AACAPwAAAAAAAAAAAAAAQAAAAAAAAAAAAACAPwAAAAAAAABAAAAAAAAAgD8AAABAAAAAAAAAAEAAAAAAAABAQAAAgD8AAIA/AAAAAAAAAAAAAAAAAACAPwAAAAAAAAAAAAAAQAAAQEAAAIA/AAAAAAAAgD8AAAAAAACAPwAAgD8AAIA/AAAAAAAAAEAAAAAAAAAAAAAAAAAAAEBAAACAPwAAgD8AAAAAAAAAAAAAAAAAAAAAAAAAAAAAAAAAAAAAAACAPwAAAEAAAIA/AAAAAAAAAAAAAAAAAACAPwAAAAAAAEBAAAAAQAAAAEAAAAAAAAAAAAAAAAAAAAAAAAAAAAAAAAAAAAAAAACAPwAAAAAAAAAAAAAAAAAAgD8AAAAAAACAPwAAgD8AAAAAAAAAAAAAAAAAAAAAAABAQAAAAAAAAIA/AAAAQAAAAEAAAAAAAACAPwAAAAAAAAAAAAAAAAAAAAAAAAAAAAAAAAAAAAAAAAAAAAAAAAAAAEAAAAAAAACAPwAAAAAAAABAAAAAAAAAAAAAAIA/AAAAAAAAAAAAAABAAACAPwAAgD8AAAAAAAAAQAAAAAAAAAAAAAAAAAAAAAAAAABAAAAAAAAAAAAAAIA/AACAPwAAAEAAAABAAAAAAAAAAAAAAABAAAAAAAAAgD8AAAAAAACAPwAAgD8AAIA/AABAQAAAAAAAAAAAAAAAAAAAgD8AAABAAAAAAAAAgD8AAIA/AAAAAAAAAAAAAIA/AAAAAAAAAAAAAIA/AACAPwAAAAAAAAAAAAAAQAAAgD8AAAAAAAAAAAAAgD8AAAAAAAAAAAAAgD8AAABAAAAAAAAAgD8AAIA/AACAPwAAAAAAAIA/AACAPwAAAAAAAIA/AACAPwAAgD8AAAAAAAAAAAAAAAAAAIA/AAAAAAAAAAAAAAAAAAAAAAAAAAAAAAAAAAAAAAAAgD8AAAAAAAAAAAAAAEAAAAAAAACAPwAAAAAAAAAAAACAPwAAAEAAAIA/AACAPwAAgD8AAAAAAAAAAAAAAAAAAAAAAACAPwAAAAAAAIA/AAAAAAAAAAAAAAAAAAAAAAAAgD8AAEBAAAAAAAAAAAAAAAAAAACAPwAAAAAAAAAAAAAAAAAAAAAAAIA/AACAPwAAgD8AAAAAAAAAAAAAAAAAAAAAAACAPwAAAAAAAIA/AACAPwAAAAAAAABAAAAAAAAAgD8AAAAAAACAPwAAAEAAAIA/AAAAAAAAgD8AAAAAAACAPwAAgD8AAAAAAAAAAAAAAEAAAAAAAACAPwAAgD8AAABAAACAPwAAgD8AAIA/AAAAAAAAAEAAAAAAAACAPwAAgD8AAAAAAACAPwAAAAAAAAAAAAAAAAAAAEAAAIA/AAAAAAAAAAAAAAAAAAAAQAAAQEAAAAAAAAAAAAAAgD8AAAAAAACAPwAAAAAAAIA/AACAPwAAAAAAAIA/AAAAAAAAAEAAAIA/AACAPwAAAAAAAAAAAACAPwAAgD8AAIA/AACAPwAAgD8AAAAAAAAAAAAAgD8AAAAAAACAPwAAgD8AAAAAAAAAAAAAAAAAAABAAAAAQAAAgD8AAAAAAACAPwAAAEAAAABAAAAAQAAAgD8AAAAAAACAPwAAgD8AAAAAAAAAAAAAgD8AAAAAAAAAAAAAAAAAAAAAAACAPwAAAEAAAAAAAAAAAAAAgD8AAIA/AAAAAAAAAAAAAIA/AAAAAAAAAAAAAAAAAAAAAAAAAEAAAAAAAAAAAAAAAEAAAAAAAAAAAAAAAAAAAAAAAAAAAAAAgD8AAAAAAAAAAAAAgD8AAAAAAACAPwAAgD8AAAAAAAAAAAAAAAAAAABAAAAAAAAAgD8AAIA/AAAAQAAAgD8AAAAAAAAAAAAAAEAAAAAAAACAPwAAAAAAAAAAAAAAAAAAgD8AAAAAAAAAAAAAAEAAAAAAAACAPwAAgD8AAABAAAAAAAAAAAAAAIA/AACAPwAAgD8AAAAAAAAAAAAAAAAAAIA/AAAAQAAAgD8AAAAAAAAAAAAAAAAAAIA/AAAAAAAAAAAAAIA/AAAAQAAAAEAAAAAAAACAPwAAAAAAAAAAAACAPwAAAAAAAIA/AACAPwAAgD8AAIA/AAAAAAAAgD8AAIA/AACAPwAAAAAAAAAAAAAAAAAAAAAAAIA/AACAPwAAAAAAAIA/AAAAAAAAAAAAAAAAAACAPwAAgD8AAAAAAAAAAAAAgD8AAAAAAAAAAAAAAAAAAAAAAAAAQAAAAAAAAAAAAAAAAAAAAAAAAEBAAAAAAAAAAEAAAAAAAAAAAAAAAEAAAIA/AAAAAAAAAAAAAIA/AAAAAAAAAAAAAIA/AACAPwAAgD8AAIA/AACAPwAAgD8AAAAAAAAAQAAAAAAAAAAAAAAAAAAAgD8AAEBAAAAAAAAAAAAAAAAAAACAPwAAAAAAAAAAAACAPwAAAEAAAEBAAACAPwAAAAAAAAAAAAAAAAAAAAAAAAAAAACAPwAAAEAAAIA/AAAAQAAAAAAAAIA/AAAAAAAAgD8AAIA/AAAAAAAAAAAAAAAAAAAAQAAAAAAAAAAAAAAAAAAAAAAAAAAAAACAPwAAgD8AAAAAAAAAAAAAAAAAAIA/AAAAAAAAAAAAAIA/AAAAAAAAAAAAAIA/AAAAAAAAAEAAAAAAAAAAAAAAgD8AAABAAACAPwAAAAAAAAAAAAAAAAAAgD8AAEBAAACAPwAAAAAAAAAAAAAAAAAAgD8AAAAAAAAAAAAAgD8AAIA/AAAAQAAAAAAAAAAAAAAAAAAAAAAAAAAAAAAAAAAAgD8AAABAAACAPwAAAAAAAAAAAAAAAAAAgD8AAIA/AAAAQAAAAAAAAAAAAACAPwAAgD8AAAAAAAAAAAAAAAAAAAAAAAAAAAAAAAAAAIA/AAAAAAAAgD8AAAAAAAAAAAAAAAAAAIA/AAAAQAAAgD8AAAAAAACAPwAAAAAAAAAAAAAAAAAAgD8AAAAAAAAAAAAAgD8AAIA/AAAAAAAAAAAAAIA/AACAPwAAgD8AAAAAAAAAAAAAgD8AAEBAAAAAQAAAgD8AAIBAAAAAAAAAgD8AAIA/AAAAAAAAAAAAAAAAAAAAQAAAAAAAAAAAAACAPwAAgD8AAAAAAAAAAAAAgD8AAIA/AACAPwAAAAAAAAAAAACAPwAAAAAAAIA/AAAAAAAAgD8AAAAAAAAAAAAAgD8AAIA/AAAAAAAAgD8AAAAAAAAAAAAAAAAAAIA/AAAAAAAAgD8AAIA/AAAAAAAAAAAAAIA/AAAAQAAAgD8AAABAAACAPwAAAAAAAIA/AAAAAAAAgD8AAAAAAAAAAAAAAAAAAABAAAAAAAAAAAAAAAAAAAAAAAAAAEAAAIA/AAAAQAAAgD8AAIA/AAAAAAAAAAAAAAAAAAAAAAAAAAAAAIA/AAAAAAAAAAAAAABAAAAAAAAAAEAAAAAAAAAAAAAAgD8AAAAAAAAAAAAAgD8AAIA/AACAPwAAAAAAAIA/AAAAAAAAAAAAAIA/AACAPwAAAAAAAIA/AACAPwAAAAAAAAAAAACAPwAAgD8AAEBAAAAAAAAAgD8AAAAAAAAAQAAAgD8AAIA/AAAAAAAAgD8AAAAAAAAAAAAAgD8AAIA/AAAAAAAAAAAAAAAAAACAPwAAgD8AAIA/AAAAAAAAgD8AAAAAAAAAQAAAAAAAAAAAAAAAAAAAAAAAAIA/AAAAAAAAAAAAAAAAAAAAAAAAAEAAAIA/AAAAAAAAAAAAAAAAAAAAQAAAAAAAAAAAAAAAQAAAAAAAAIA/AACAPwAAgD8AAIA/AAAAAAAAAAAAAAAAAAAAQAAAAAAAAAAAAACAPwAAAAAAAIA/AAAAAAAAAAAAAABAAAAAAAAAgD8AAAAAAACAPwAAAAAAAAAAAAAAAAAAgD8AAAAAAACAPwAAAAAAAAAAAACAPwAAgD8AAIA/AAAAAAAAAAAAAIA/AAAAAAAAAEAAAIA/AACAPwAAAAAAAAAAAACAPwAAgD8AAIA/AAAAAAAAgD8AAAAAAABAQAAAgD8AAAAAAAAAAAAAAAAAAAAAAAAAQAAAgD8AAIA/AACAPwAAgD8AAAAAAACAPwAAAAAAAAAAAACAPwAAAEAAAIA/AACAPwAAAAAAAIA/AACAPwAAgD8AAAAAAAAAAAAAAEAAAAAAAACAPwAAAAAAAIA/AACAPwAAgD8AAAAAAACAPwAAAAAAAIA/AAAAAAAAgD8AAIA/AAAAAAAAAAAAAAAAAAAAAAAAAAAAAAAAAACAPwAAAEAAAAAAAAAAAAAAAAAAAAAAAAAAAAAAAAAAAAAAAACAPwAAAAAAAAAAAAAAQAAAgD8AAEBAAAAAAAAAAEAAAIA/AAAAAAAAgD8AAAAAAAAAAAAAgD8AAAAAAACAPwAAAAAAAAAAAAAAAAAAAAAAAAAAAACAPwAAAAAAAAAAAACAPwAAAAAAAAAAAAAAAAAAAAAAAIA/AACAPwAAAAAAAIA/AAAAAAAAgD8AAIA/AAAAAAAAgD8AAIA/AAAAAAAAAAAAAIA/AAAAAAAAAAAAAIA/AACAPwAAAAAAAIA/AAAAQAAAgD8AAAAAAAAAAAAAgD8AAIA/AAAAAAAAAAAAAIA/AAAAAAAAAAAAAABAAABAQAAAAAAAAIA/AAAAAAAAAEAAAAAAAAAAAAAAAAAAAABAAACAPwAAAAAAAIA/AAAAAAAAAAAAAAAAAACAPwAAgD8AAAAAAAAAAAAAgD8AAIA/AAAAQAAAAAAAAIA/AAAAQAAAAAAAAEBAAACAPwAAAAAAAAAAAACAPwAAQEAAAIA/AAAAQAAAAAAAAABAAAAAQAAAAAAAAIA/AAAAAAAAAAAAAIA/AAAAAAAAAAAAAABAAACAPwAAAEAAAAAAAAAAAAAAAAAAAIA/AAAAAAAAAAAAAAAAAACAPwAAAAAAAAAAAAAAAAAAQEAAAIA/AACAPwAAgD8AAIA/AAAAAAAAAAAAAABAAAAAAAAAgD8AAIA/AAAAAAAAgD8AAIA/AACAPwAAAAAAAAAAAAAAAAAAAAAAAIA/AACAPwAAAAAAAIA/AACAPwAAQEAAAAAAAAAAAAAAAAAAAABAAAAAAAAAgD8AAIA/AAAAAAAAAEAAAIA/AACAPwAAgD8AAABAAACAPwAAgD8AAAAAAAAAAAAAAAAAAAAAAACAPwAAAAAAAIA/AAAAAAAAAAAAAAAAAAAAAAAAAAAAAIA/AAAAAAAAAAAAAIA/AAAAAAAAAAAAAAAAAAAAAAAAgD8AAAAAAACAPwAAAAAAAAAAAAAAAAAAAEAAAAAAAACAPwAAAAAAAIA/AAAAAAAAgD8AAABAAAAAAAAAgD8AAAAAAAAAAAAAgD8AAAAAAACAPwAAAAAAAAAAAAAAAAAAgD8AAAAAAAAAAAAAAAAAAAAAAAAAAAAAAEAAAAAAAAAAQAAAgD8AAAAAAAAAAAAAgD8AAIA/AACAPwAAgD8AAIA/AABAQAAAgD8AAIA/AAAAAAAAgD8AAAAAAAAAAAAAAAAAAIA/AACAPwAAAAAAAAAAAACAPwAAAAAAAAAAAAAAAAAAAAAAAAAAAAAAAAAAgD8AAIA/AAAAAAAAAAAAAIA/AAAAAAAAgD8AAIA/AAAAAAAAAEAAAEBAAAAAAAAAgD8AAABAAAAAAAAAAAAAAAAAAACAPwAAgD8AAIA/AAAAAAAAgD8AAIA/AACAPwAAgD8AAABAAAAAAAAAAAAAAIA/AAAAAAAAAAAAAEBAAAAAAAAAAAAAAIA/AAAAQAAAAAAAAAAAAAAAAAAAAAAAAIA/AAAAAAAAAAAAAIA/AACAPwAAgD8AAAAAAABAQAAAAAAAAIA/AAAAAAAAgD8AAAAAAACAPwAAgD8AAIA/AAAAAAAAAAAAAIA/AAAAAAAAAAAAAAAAAACAPwAAAAAAAAAAAAAAAAAAgD8AAIA/AAAAAAAAAEAAAABAAAAAAAAAgD8AAIA/AACAPwAAgD8AAAAAAACAPwAAAAAAAABAAAAAAAAAAAAAAAAAAAAAAAAAgD8AAIA/AACAPwAAAAAAAAAAAAAAAAAAgD8AAAAAAAAAAAAAAEAAAIA/AACAPwAAQEAAAABAAACAPwAAAAAAAAAAAAAAAAAAAAAAAAAAAAAAAAAAgD8AAAAAAACAPwAAAEAAAAAAAACAPwAAgD8AAAAAAAAAAAAAgD8AAAAAAAAAAAAAAAAAAAAAAACAPwAAgD8AAAAAAACAPwAAgD8AAIA/AACAPwAAAAAAAIA/AACAPwAAAAAAAAAAAAAAQAAAAAAAAAAAAAAAAAAAAAAAAAAAAACAPwAAAAAAAAAAAAAAAAAAgD8AAAAAAAAAAAAAAAAAAAAAAAAAQAAAAAAAAAAAAAAAQAAAgD8AAABAAACAPwAAAAAAAIA/AACAPwAAAAAAAIA/AAAAAAAAAAAAAABAAAAAAAAAAAAAAIA/AAAAQAAAAAAAAAAAAAAAAAAAAAAAAAAAAACAPwAAAAAAAIA/AAAAAAAAAAAAAAAAAACAPwAAAAAAAAAAAAAAAAAAgD8AAAAAAAAAAAAAAAAAAAAAAAAAAAAAAAAAAAAAAAAAAAAAAEAAAAAAAAAAAAAAAAAAAABAAAAAAAAAAAAAAAAAAAAAAAAAgD8AAAAAAACAPwAAgD8AAIA/AACAPwAAAAAAAIA/AAAAQAAAgD8AAAAAAAAAAAAAAAAAAIA/AAAAAAAAgD8AAAAAAAAAAAAAAAAAAIA/AAAAAAAAAAAAAIA/AACAPwAAAAAAAIA/AABAQAAAAAAAAIA/AAAAAAAAAAAAAIA/AAAAAAAAgD8AAIA/AAAAAAAAAAAAAAAAAAAAAAAAAAAAAIA/AACAPwAAAAAAAAAAAAAAAAAAAAAAAAAAAACAPwAAgD8AAAAAAACAPwAAgD8AAAAAAAAAAAAAgD8AAIA/AAAAAAAAgD8AAAAAAAAAAAAAAEAAAAAAAACAPwAAgD8AAAAAAACAPwAAAAAAAAAAAABAQAAAAAAAAAAAAAAAAAAAAAAAAAAAAAAAAAAAgD8AAABAAAAAAAAAgD8AAABAAAAAQAAAAAAAAAAAAAAAAAAAAAAAAAAAAABAQAAAAAAAAAAAAAAAAAAAAAAAAAAAAACAPwAAAEAAAAAAAACAPwAAgD8AAAAAAAAAAAAAAEAAAAAAAACAPwAAgD8AAIA/AAAAAAAAgD8AAAAAAACAPwAAAAAAAIA/AACAPwAAgD8AAAAAAAAAQAAAgD8AAAAAAAAAAAAAAAAAAAAAAACAPwAAAAAAAIA/AAAAAAAAgD8AAAAAAAAAQAAAgD8AAAAAAACAPwAAAAAAAAAAAACAPwAAAAAAAIA/AAAAAAAAAAAAAAAAAAAAAAAAAAAAAAAAAACAPwAAgD8AAEBAAAAAQAAAAEAAAAAAAAAAAAAAAAAAAIA/AAAAQAAAAEAAAAAAAAAAQAAAgD8AAAAAAAAAAAAAAAAAAABAAACAPwAAgD8AAAAAAAAAAAAAgD8AAAAAAAAAAAAAgD8AAABAAACAPwAAAEAAAIA/AAAAAAAAAAAAAIA/AABAQAAAAAAAAIBAAAAAAAAAgD8AAAAAAAAAAAAAAAAAAAAAAACAPwAAAAAAAEBAAAAAAAAAAAAAAAAAAAAAQAAAAAAAAAAAAAAAAAAAAAAAAAAAAAAAAAAAgD8AAAAAAAAAQAAAgD8AAIA/AACAPwAAgD8AAIA/AACAPwAAAAAAAAAAAAAAQAAAAAAAAAAAAACAPwAAAAAAAEBAAACAPwAAAAAAAIA/AAAAAAAAAAAAAAAAAAAAAAAAAAAAAAAAAACAPwAAAAAAAIA/AAAAAAAAgD8AAIA/AAAAAAAAAAAAAIA/AACAPwAAgD8AAAAAAACAPwAAgD8AAAAAAACAPwAAgD8AAAAAAACAPwAAAAAAAAAAAACAPwAAgD8AAAAAAAAAAAAAgD8AAIA/AACAPwAAgD8AAAAAAAAAAAAAAAAAAAAAAACAPwAAAAAAAAAAAACAPwAAAAAAAIA/AABAQAAAAAAAAAAAAAAAAAAAAAAAAAAAAAAAAAAAAAAAAIA/AAAAQAAAAEAAAAAAAAAAAAAAAAAAAIA/AACAPwAAAAAAAAAAAAAAAAAAAAAAAIA/AAAAAAAAAAAAAAAAAACAPwAAAAAAAAAAAACAPwAAAAAAAIA/AACAPwAAgD8AAIA/AACAPwAAgD8AAABAAAAAAAAAAAAAAAAAAACAPwAAAAAAAAAAAAAAAAAAAAAAAIA/AAAAAAAAAAAAAAAAAACAPwAAAAAAAIA/AABAQAAAgD8AAABAAACAPwAAAAAAAAAAAACAPwAAgD8AAAAAAACAPwAAAAAAAAAAAAAAQAAAAEAAAIA/AAAAAAAAAAAAAIA/AACAPwAAAAAAAAAAAAAAAAAAQEAAAIA/AAAAAAAAAEAAAAAAAACAPwAAgD8AAIA/AACAPwAAAAAAAAAAAAAAAAAAgD8AAIA/AAAAAAAAgD8AAAAAAAAAAAAAAAAAAIA/AAAAQAAAAAAAAAAAAAAAQAAAAAAAAIA/AAAAAAAAQEAAAAAAAAAAQAAAAAAAAAAAAACAPwAAAAAAAABAAAAAAAAAgD8AAAAAAAAAAAAAAAAAAIA/AAAAAAAAAAAAAAAAAAAAAAAAAAAAAABAAAAAQAAAAAAAAAAAAACAPwAAAAAAAIA/AAAAAAAAAEAAAAAAAACAPwAAgD8AAIA/AACAQAAAAAAAAAAAAACAPwAAAAAAAAAAAAAAAAAAAEAAAIA/AAAAQAAAAAAAAAAAAACAPwAAAAAAAIA/AACAPwAAAAAAAAAAAAAAAAAAAAAAAAAAAAAAAAAAgD8AAAAAAACAPwAAAAAAAAAAAACAPwAAAAAAAABAAAAAAAAAgD8AAIA/AAAAAAAAAEAAAIA/AAAAAAAAAAAAAAAAAACAPwAAAAAAAAAAAABAQAAAAAAAAIA/AAAAAAAAgD8AAAAAAAAAAAAAgD8AAIA/AAAAQAAAgD8AAABAAACAPwAAgD8AAAAAAAAAQAAAgD8AAAAAAACAPwAAgD8AAIA/AAAAAAAAAAAAAIA/AAAAAAAAAEAAAAAAAAAAAAAAgD8AAAAAAAAAQAAAAAAAAAAAAACAPwAAAAAAAAAAAAAAAAAAAAAAAAAAAAAAAAAAAAAAAAAAAACAPwAAAEAAAIA/AACAPwAAAAAAAAAAAACAPwAAAAAAAIA/AAAAAAAAgD8AAAAAAACAPwAAAAAAAAAAAAAAQAAAAEAAAIA/AACAPwAAAAAAAAAAAAAAAAAAAAAAAAAAAAAAAAAAAAAAAAAAAAAAAAAAAAAAAIA/AACAPwAAAAAAAAAAAAAAAAAAAAAAAAAAAACAPwAAgD8AAIA/AAAAAAAAgD8AAIA/AAAAQAAAgD8AAIA/AACAPwAAAAAAAAAAAAAAAAAAAAAAAIA/AABAQAAAAAAAAAAAAACAPwAAgD8AAABAAACAPwAAAEAAAAAAAAAAAAAAAEAAAIA/AAAAAAAAAAAAAIA/AACAPwAAAAAAAIA/AAAAAAAAAAAAAAAAAAAAAAAAgD8AAAAAAAAAAAAAAEAAAAAAAAAAAAAAAAAAAIA/AACAPwAAAAAAAAAAAAAAAAAAAAAAAIA/AAAAAAAAgD8AAAAAAAAAQAAAAAAAAAAAAACAPwAAAEAAAAAAAACAPwAAgD8AAIA/AACAPwAAAEAAAEBAAAAAAAAAgD8AAAAAAAAAAAAAgD8AAIA/AAAAAAAAAEAAAIA/AACAPwAAgD8AAAAAAACAPwAAAAAAAAAAAAAAQAAAgD8AAABAAAAAAAAAgD8AAIA/AACAPwAAgD8AAAAAAACAPwAAQEAAAAAAAAAAQAAAgD8AAAAAAAAAAAAAgD8AAIA/AAAAAAAAgD8AAAAAAACAPwAAAEAAAIA/AACAPwAAAAAAAIA/AAAAAAAAgD8AAAAAAAAAQAAAAAAAAAAAAAAAAAAAAAAAAAAAAACAPwAAgD8AAIA/AACAPwAAAAAAAAAAAACAPwAAAAAAAAAAAACAPwAAAAAAAAAAAAAAAAAAAAAAAIA/AAAAAAAAAAAAAIA/AAAAQAAAAEAAAAAAAAAAAAAAAAAAAABAAAAAAAAAAAAAAEBAAAAAAAAAgD8AAIA/AAAAAAAAAAAAAIA/AACAPwAAgD8AAAAAAAAAAAAAAAAAAIA/AAAAQAAAgD8AAIA/AAAAAAAAAAAAAAAAAACAPwAAAAAAAAAAAAAAAAAAgD8AAAAAAAAAAAAAgD8AAAAAAAAAAAAAgD8AAAAAAABAQAAAAAAAAABAAAAAAAAAgD8AAAAAAACAPwAAAAAAAAAAAAAAAAAAgD8AAAAAAAAAAAAAAAAAAIA/AAAAQAAAAAAAAIA/AACAPwAAgD8AAABAAAAAAAAAgD8AAAAAAAAAAAAAAEAAAAAAAAAAAAAAgD8AAAAAAACAPwAAAAAAAIA/AACAPwAAAAAAAAAAAACAPwAAgD8AAAAAAAAAAAAAAAAAAEBAAAAAAAAAgD8AAAAAAAAAAAAAgD8AAIA/AAAAAAAAAAAAAAAAAAAAAAAAAAAAAABAAABAQAAAQEAAAAAAAAAAAAAAAAAAAEBAAAAAAAAAgD8AAAAAAACAPwAAAEAAAIA/AAAAAAAAAAAAAAAAAAAAAAAAAAAAAAAAAAAAAAAAAAAAAAAAAAAAAAAAAAAAAIA/AACAPwAAAAAAAAAAAAAAAAAAAAAAAIA/AACAPwAAgD8AAAAAAAAAAAAAAAAAAABAAACAPwAAAEAAAAAAAAAAAAAAgD8AAAAAAAAAAAAAgD8AAABAAACAPwAAAAAAAAAAAAAAQAAAQEAAAABAAABAQAAAgD8AAAAAAACAPwAAAAAAAIA/AAAAAAAAAAAAAIA/AACAPwAAAAAAAABAAAAAAAAAgD8AAAAAAACAPwAAAAAAAAAAAACAPwAAgD8AAAAAAAAAQAAAgD8AAAAAAAAAAAAAAAAAAAAAAACAPwAAgD8AAAAAAAAAAAAAgD8AAIA/AAAAQAAAgD8AAAAAAAAAAAAAAAAAAAAAAACAPwAAAAAAAIA/AAAAAAAAAAAAAABAAAAAAAAAAAAAAAAAAAAAQAAAgD8AAIA/AAAAAAAAAAAAAAAAAACAPwAAgD8AAIA/AAAAQAAAAEAAAIA/AAAAAAAAAEAAAABAAAAAAAAAAEAAAAAAAACAPwAAAAAAAIA/AAAAAAAAgD8AAAAAAACAPwAAAAAAAAAAAACAPwAAAAAAAAAAAACAPwAAAAAAAIA/AAAAAAAAgD8AAIA/AAAAAAAAgD8AAAAAAAAAAAAAAAAAAAAAAAAAAAAAAEAAAAAAAAAAAAAAAAAAAABAAAAAAAAAgD8AAABAAACAPwAAAAAAAAAAAAAAQAAAAAAAAIA/AAAAAAAAAAAAAIA/AACAPwAAAEAAAAAAAAAAAAAAAAAAAIA/AAAAAAAAgD8AAAAAAAAAAAAAAAAAAAAAAAAAQAAAgD8AAABAAACAPwAAAAAAAIA/AAAAAAAAQEAAAAAAAAAAAAAAAAAAAIA/AAAAAAAAAAAAAIA/AAAAAAAAgD8AAAAAAAAAAAAAAAAAAAAAAACAPwAAAAAAAIA/AACAPwAAAAAAAABAAAAAQAAAgD8AAABAAAAAAAAAAAAAAABAAAAAAAAAgD8AAIA/AAAAAAAAAAAAAEBAAAAAQAAAAAAAAAAAAAAAAAAAgD8AAAAAAAAAAAAAAAAAAIA/AACAPwAAAAAAAABAAACAPwAAgD8AAAAAAAAAAAAAgD8AAIA/AACAPwAAAAAAAAAAAAAAAAAAgD8AAAAAAAAAAAAAAAAAAAAAAAAAQAAAgD8AAIA/AAAAQAAAgD8AAIA/AACAPwAAgD8AAAAAAACAPwAAgD8AAAAAAACAPwAAgD8AAAAAAACAPwAAAAAAAABAAAAAAAAAAAAAAIA/AAAAQAAAgD8AAAAAAAAAAAAAAAAAAAAAAAAAQAAAgD8AAIA/AACAPwAAAAAAAAAAAAAAAAAAAAAAAIA/AACAPwAAgD8AAIA/AAAAQAAAAAAAAIA/AACAPwAAAAAAAABAAAAAAAAAgD8AAIA/AAAAAAAAgD8AAEBAAAAAQAAAAEAAAIA/AACAPwAAgD8AAAAAAAAAAAAAgD8AAAAAAAAAAAAAAAAAAAAAAABAQAAAAAAAAIA/AAAAAAAAgD8AAEBAAACAPwAAgD8AAAAAAACAPwAAAAAAAIA/AAAAAAAAgD8AAAAAAAAAAAAAQEAAAIA/AAAAAAAAAAAAAABAAACAPwAAgD8AAABAAAAAAAAAAAAAAEBAAAAAAAAAgD8AAIA/AAAAAAAAAAAAAAAAAACAPwAAAEAAAAAAAACAPwAAAAAAAIA/AACAPwAAAAAAAAAAAABAQAAAAAAAAIA/AABAQAAAAAAAAABAAAAAAAAAAAAAAAAAAAAAAAAAAAAAAAAAAAAAAAAAgD8AAIA/AACAPwAAgD8AAAAAAAAAAAAAAAAAAAAAAACAPwAAgD8AAAAAAAAAQAAAgD8AAIA/AACAPwAAgD8AAIA/AAAAAAAAAAAAAIA/AAAAAAAAAAAAAAAAAACAPwAAAAAAAAAAAAAAAAAAAAAAAAAAAACAPwAAAAAAAIA/AACAPwAAAAAAAIA/AACAPwAAAAAAAIA/AACAPwAAgD8AAAAAAAAAAAAAAAAAAAAAAAAAAAAAAAAAAIA/AAAAAAAAgD8AAAAAAABAQAAAAAAAAAAAAACAPwAAgD8AAIA/AAAAQAAAgD8AAAAAAAAAAAAAAAAAAAAAAAAAAAAAAAAAAAAAAAAAAAAAAAAAAABAAAAAAAAAAAAAAAAAAAAAAAAAAAAAAAAAAAAAQAAAAAAAAAAAAAAAAAAAAAAAAAAAAACAPwAAAEAAAIA/AACAPwAAAEAAAABAAACAPwAAAAAAAAAAAAAAAAAAgD8AAAAAAACAPwAAAEAAAABAAACAPwAAAAAAAAAAAAAAAAAAAAAAAIA/AAAAAAAAAAAAAAAAAACAPwAAAAAAAIA/AABAQAAAAAAAAAAAAAAAAAAAAAAAAAAAAAAAAAAAAAAAAIA/AAAAAAAAAAAAAEBAAAAAAAAAgD8AAAAAAACAPwAAgD8AAAAAAACAPwAAAAAAAAAAAACAPwAAAAAAAIA/AAAAAAAAAAAAAAAAAAAAAAAAgD8AAAAAAAAAAAAAAAAAAIA/AAAAQAAAgD8AAAAAAACAPwAAAAAAAAAAAACAPwAAAAAAAIA/AAAAQAAAgD8AAAAAAACAPwAAgD8AAABAAAAAQAAAAAAAAIA/AAAAQAAAAAAAAEBAAACAPwAAgD8AAAAAAAAAAAAAAAAAAAAAAAAAAAAAAAAAAIA/AACAPwAAAEAAAABAAAAAAAAAgEAAAAAAAAAAQAAAAAAAAMBAAACAPwAAAAAAAIA/AAAAAAAAgD8AAABAAACAPwAAAAAAAIA/AAAAQAAAAAAAAAAAAACAPwAAAAAAAIA/AAAAAAAAgD8AAAAAAAAAAAAAAAAAAAAAAAAAAAAAgD8AAIA/AAAAAAAAgD8AAABAAACAPwAAAAAAAAAAAAAAQAAAAAAAAIA/AAAAAAAAAAAAAABAAAAAQAAAAAAAAIA/AACAPwAAgD8AAAAAAACAPwAAAAAAAAAAAAAAQAAAgD8AAAAAAAAAAAAAgD8AAAAAAAAAAAAAAAAAAIA/AACAPwAAAEAAAABAAACAPwAAgD8AAAAAAACAPwAAAAAAAIA/AACAPwAAAAAAAAAAAAAAAAAAAAAAAIA/AAAAQAAAAAAAAAAAAAAAAAAAgD8AAIA/AACAPwAAAAAAAIA/AAAAAAAAgD8AAAAAAAAAQAAAAAAAAAAAAAAAAAAAAAAAAAAAAACAPwAAgD8AAAAAAAAAAAAAgD8AAAAAAAAAQAAAgD8AAIA/AACAPwAAAAAAAAAAAAAAAAAAgD8AAAAAAACAPwAAgD8AAAAAAACAPwAAgD8AAAAAAACAPwAAgD8AAIA/AACAPwAAgD8AAAAAAAAAAAAAgD8AAAAAAAAAAAAAgD8AAIA/AACAPwAAgD8AAABAAABAQAAAAAAAAAAAAAAAAAAAgD8AAIA/AAAAAAAAAAAAAAAAAACAPwAAAAAAAIA/AAAAAAAAAAAAAIA/AAAAAAAAAAAAAAAAAACAPwAAgD8AAAAAAAAAAAAAgD8AAIA/AACAPwAAAAAAAIA/AAAAAAAAAAAAAAAAAACAPwAAAEAAAAAAAAAAAAAAAAAAAAAAAABAQAAAgD8AAAAAAACAPwAAAAAAAABAAAAAAAAAgD8AAAAAAACAQAAAgD8AAIA/AAAAAAAAgD8AAAAAAAAAAAAAAAAAAIA/AAAAQAAAAAAAAIA/AAAAAAAAgD8AAIA/AAAAAAAAgD8AAAAAAACAPwAAAAAAAAAAAACAPwAAAAAAAAAAAACAPwAAAAAAAAAAAAAAAAAAgD8AAAAAAAAAAAAAAAAAAAAAAAAAAAAAgD8AAAAAAABAQAAAAEAAAAAAAAAAAAAAgD8AAIA/AACAPwAAgD8AAAAAAACAPwAAgD8AAAAAAAAAAAAAAAAAAIA/AAAAAAAAgD8AAIA/AACAPwAAgD8AAAAAAAAAAAAAAAAAAIA/AAAAAAAAAAAAAAAAAAAAAAAAAEAAAABAAAAAAAAAAAAAAIA/AACAPwAAgD8AAAAAAACAPwAAAAAAAIA/AAAAAAAAgD8AAAAAAAAAAAAAAAAAAIA/AAAAQAAAgD8AAIA/AAAAAAAAAEAAAAAAAAAAAAAAAEAAAAAAAACAPwAAAAAAAABAAACAPwAAAAAAAIA/AAAAAAAAAAAAAABAAAAAAAAAAAAAAAAAAACAPwAAgD8AAAAAAACAPwAAgD8AAIA/AAAAAAAAgD8AAIA/AACAPwAAAAAAAABAAACAPwAAAAAAAAAAAACAPwAAgD8AAAAAAAAAAAAAAAAAAIA/AABAQAAAgD8AAIA/AAAAAAAAAAAAAAAAAACAPwAAAAAAAIA/AACAPwAAgD8AAIA/AACAPwAAgD8AAEBAAAAAAAAAgD8AAIA/AAAAAAAAAAAAAABAAACAPwAAAEAAAIA/AAAAAAAAAAAAAAAAAAAAAAAAgD8AAAAAAAAAAAAAgD8AAAAAAAAAAAAAgD8AAIA/AAAAAAAAgD8AAAAAAACAPwAAgD8AAAAAAAAAAAAAAEAAAIA/AAAAQAAAgD8AAAAAAACAQAAAAAAAAABAAAAAAAAAAAAAAAAAAACAPwAAAAAAAAAAAACAPwAAAAAAAEBAAAAAAAAAgD8AAIA/AACAPwAAAAAAAIA/AACAPwAAAAAAAAAAAAAAQAAAgD8AAIA/AAAAAAAAgD8AAIA/AAAAQAAAAAAAAIA/AACAPwAAgD8AAEBAAACAPwAAAAAAAAAAAACAPwAAAEAAAIA/AAAAQAAAgD8AAAAAAACAPwAAQEAAAIA/AACAPwAAgD8AAIA/AAAAAAAAAAAAAAAAAAAAAAAAAAAAAABAAAAAQAAAAAAAAIA/AACAPwAAAEAAAAAAAAAAAAAAgD8AAIA/AAAAQAAAAAAAAAAAAAAAQAAAgD8AAAAAAACAPwAAAEAAAAAAAAAAAAAAAAAAAABAAAAAAAAAAAAAAABAAABAQAAAgD8AAIA/AAAAAAAAgD8AAAAAAAAAAAAAgD8AAABAAAAAAAAAAAAAAABAAAAAAAAAAAAAAIA/AAAAAAAAgD8AAIA/AACAPwAAgD8AAAAAAAAAAAAAAAAAAIA/AAAAAAAAgD8AAAAAAACAPwAAAAAAAIA/AAAAAAAAAAAAAIA/AAAAAAAAAAAAAAAAAACAPwAAAAAAAAAAAACAPwAAAAAAAAAAAACAPwAAAAAAAAAAAAAAQAAAAAAAAABAAAAAAAAAAAAAAABAAACAPwAAAAAAAAAAAAAAAAAAAAAAAIA/AAAAAAAAgD8AAIA/AAAAAAAAAAAAAAAAAAAAAAAAAAAAAIA/AAAAAAAAQEAAAAAAAAAAAAAAgD8AAABAAACAPwAAgD8AAEBAAAAAAAAAgD8AAAAAAAAAAAAAAAAAAIA/AACAPwAAAAAAAAAAAAAAAAAAgD8AAIA/AAAAAAAAAEAAAABAAABAQAAAAEAAAAAAAAAAQAAAAAAAAAAAAAAAQAAAAAAAAIA/AAAAAAAAgD8AAIA/AACAPwAAgD8AAAAAAAAAAAAAgEAAAAAAAAAAAAAAgD8AAAAAAACAPwAAAAAAAAAAAAAAQAAAAAAAAAAAAAAAAAAAAAAAAAAAAACAPwAAgD8AAIA/AAAAAAAAgD8AAAAAAACAPwAAAAAAAEBAAAAAAAAAAAAAAIA/AACAPwAAgD8AAIA/AAAAAAAAAAAAAABAAAAAAAAAgD8AAAAAAAAAAAAAgD8AAAAAAABAQAAAgD8AAAAAAAAAQAAAgD8AAAAAAAAAAAAAAAAAAAAAAAAAAAAAgD8AAAAAAAAAAAAAgD8AAIA/AACAPwAAAAAAAIA/AAAAAAAAAAAAAAAAAAAAAAAAAAAAAAAAAACAPwAAAEAAAABAAAAAAAAAAAAAAIA/AAAAAAAAAEAAAAAAAAAAAAAAgD8AAAAAAACAPwAAAAAAAAAAAAAAAAAAgD8AAAAAAACAPwAAAEAAAAAAAACAPwAAgD8AAAAAAABAQAAAAEAAAAAAAAAAQAAAgD8AAAAAAABAQAAAAAAAAAAAAAAAQAAAgD8AAABAAAAAAAAAAEAAAIA/AACAPwAAAAAAAIA/AACAPwAAAAAAAIA/AAAAAAAAAEAAAIA/AAAAAAAAAEAAAAAAAACAPwAAAEAAAIA/AACAPwAAgD8AAIA/AACAPwAAgD8AAIA/AAAAAAAAAAAAAIA/AAAAAAAAAEAAAAAAAAAAAAAAAAAAAABAAACAPwAAAAAAAAAAAAAAAAAAAAAAAAAAAACAPwAAAEAAAAAAAAAAAAAAAAAAAAAAAAAAAAAAAAAAAIA/AABAQAAAAAAAAAAAAAAAAAAAgD8AAAAAAACAPwAAgD8AAAAAAAAAAAAAAEAAAIA/AAAAAAAAAAAAAIA/AAAAAAAAAAAAAIA/AACAPwAAAAAAAABAAACAPwAAAAAAAAAAAACAPwAAAAAAAAAAAAAAQAAAgD8AAAAAAACAPwAAAAAAAIA/AAAAAAAAAAAAAAAAAAAAAAAAAAAAAAAAAACAPwAAAAAAAIA/AACAPwAAAAAAAAAAAAAAAAAAgD8AAIA/AAAAAAAAAAAAAAAAAAAAAAAAAAAAAAAAAACAQAAAgD8AAABAAACAPwAAgD8AAIA/AABAQAAAAEAAAAAAAAAAQAAAAEAAAABAAAAAAAAAAAAAAAAAAAAAAAAAgD8AAIA/AAAAQAAAAAAAAIA/AAAAQAAAgD8AAABAAACAPwAAAAAAAAAAAAAAAAAAgD8AAIA/AAAAAAAAAAAAAIA/AACAPwAAgD8AAAAAAAAAAAAAAAAAAIA/AACAPwAAAAAAAAAAAAAAAAAAAAAAAIA/AACAPwAAAAAAAABAAAAAAAAAQEAAAIA/AACAPwAAAAAAAIA/AAAAAAAAgD8AAIA/AAAAAAAAAAAAAABAAACAPwAAAAAAAAAAAACAPwAAAAAAAABAAACAPwAAQEAAAAAAAACAPwAAgD8AAABAAAAAAAAAgD8AAIA/AAAAAAAAAEAAAAAAAAAAQAAAAAAAAAAAAAAAAAAAgD8AAAAAAACAPwAAAEAAAAAAAAAAAAAAgD8AAAAAAAAAAAAAAEAAAIA/AAAAQAAAAAAAAAAAAACAPwAAgD8AAIA/AACAPwAAAAAAAAAAAABAQAAAQEAAAIA/AAAAAAAAAAAAAIA/AAAAAAAAgD8AAAAAAAAAAAAAgD8AAAAAAACAPwAAgD8AAIA/AABAQAAAAEAAAIA/AAAAAAAAAEAAAIA/AAAAAAAAgD8AAABAAAAAQAAAgD8AAEBAAAAAAAAAAEAAAABAAACAPwAAAAAAAIA/AAAAAAAAAAAAAIA/AAAAAAAAgD8AAAAAAAAAAAAAAAAAAAAAAAAAAAAAgD8AAAAAAACAPwAAAAAAAAAAAAAAQAAAAAAAAAAAAACAPwAAgD8AAIA/AAAAAAAAgD8AAIA/AAAAAAAAAAAAAAAAAAAAAAAAAAAAAIA/AAAAAAAAAAAAAAAAAACAPwAAgD8AAEBAAACAPwAAgD8AAAAAAAAAAAAAAEAAAAAAAAAAAAAAAAAAAABAAAAAAAAAgD8AAIA/AACAPwAAAAAAAAAAAACAPwAAgD8AAAAAAAAAAAAAAAAAAAAAAACAPwAAAAAAAIA/AACAPwAAAAAAAAAAAACAPwAAAAAAAAAAAACAPwAAQEAAAIA/AAAAQAAAgD8AAAAAAAAAAAAAAAAAAABAAAAAAAAAQEAAAAAAAACAPwAAgD8AAAAAAAAAAAAAgD8AAAAAAAAAQAAAAAAAAABAAACAPwAAAEAAAAAAAAAAQAAAAEAAAIA/AACAPwAAAAAAAAAAAACAPwAAgD8AAAAAAAAAAAAAAAAAAAAAAABAQAAAAAAAAAAAAACAQAAAAAAAAAAAAAAAAAAAgD8AAAAAAAAAAAAAAAAAAABAAAAAAAAAAAAAAABAAAAAAAAAAAAAAIA/AACAPwAAgD8AAIA/AAAAAAAAAAAAAIA/AAAAQAAAAAAAAIA/AAAAAAAAAAAAAABAAACAPwAAQEAAAAAAAAAAAAAAgD8AAAAAAAAAAAAAAEAAAAAAAAAAAAAAgEAAAAAAAAAAQAAAAAAAAEBAAAAAAAAAAAAAAAAAAACAQAAAAAAAAIA/AAAAAAAAgD8AAIA/AAAAQAAAAAAAAAAAAAAAAAAAAAAAAABAAAAAAAAAgD8AAAAAAAAAQAAAAAAAAAAAAACAPwAAgD8AAAAAAAAAAAAAgD8AAAAAAAAAAAAAAAAAAAAAAACAPwAAAAAAAAAAAACAPwAAgD8AAIA/AAAAQAAAgD8AAEBAAAAAAAAAgD8AAIA/AAAAAAAAgD8AAAAAAACAPwAAQEAAAAAAAACAPwAAAAAAAAAAAAAAAAAAgD8AAAAAAAAAAAAAgD8AAIA/AACAPwAAAAAAAIA/AAAAAAAAgD8AAAAAAAAAAAAAgD8AAAAAAABAQAAAAAAAAAAAAAAAAAAAAEAAAAAAAACAPwAAAEAAAAAAAAAAAAAAgD8AAAAAAAAAAAAAAAAAAAAAAAAAAAAAAEAAAIA/AACAPwAAQEAAAIA/AAAAAAAAAAAAAAAAAAAAAAAAgD8AAAAAAAAAQAAAAAAAAIA/AABAQAAAAAAAAABAAAAAQAAAgD8AAABAAACAPwAAgD8AAAAAAAAAQAAAAEAAAIA/AAAAAAAAAEAAAABAAAAAAAAAgD8AAAAAAAAAQAAAAAAAAABAAAAAAAAAAAAAAAAAAAAAAAAAAAAAAABAAAAAAAAAAAAAAIA/AAAAQAAAgD8AAABAAAAAAAAAgD8AAIA/AACAPwAAAAAAAAAAAAAAAAAAAAAAAIA/AACAPwAAQEAAAIA/AACAPwAAAAAAAAAAAAAAQAAAAAAAAIA/AAAAAAAAgD8AAIA/AAAAQAAAQEAAAEBAAAAAAAAAAAAAAABAAACAPwAAAAAAAAAAAACAPwAAAAAAAABAAAAAQAAAAAAAAAAAAAAAAAAAAAAAAIA/AAAAAAAAAAAAAAAAAAAAAAAAAAAAAABAAAAAAAAAgD8AAIA/AAAAAAAAAAAAAIA/AAAAAAAAgD8AAAAAAAAAAAAAAAAAAIA/AAAAQAAAgD8AAABAAAAAAAAAAAAAAIA/AAAAAAAAAAAAAIA/AACAPwAAgD8AAAAAAAAAAAAAAEAAAABAAACAPwAAgD8AAIA/AACAPwAAAAAAAIA/AACAPwAAgD8AAAAAAAAAAAAAgD8AAAAAAAAAAAAAgD8AAAAAAAAAAAAAgD8AAABAAACAPwAAgD8AAIA/AACAPwAAAEAAAIA/AABAQAAAAAAAAAAAAAAAAAAAAAAAAAAAAAAAQAAAAAAAAAAAAAAAAAAAAAAAAIA/AAAAAAAAgD8AAAAAAACAQAAAAAAAAIA/AABAQAAAAAAAAIA/AACAPwAAAAAAAAAAAACAPwAAAEAAAAAAAAAAAAAAgD8AAIA/AAAAAAAAAAAAAAAAAACAPwAAAAAAAIA/AACAPwAAAEAAAIA/AAAAAAAAgD8AAABAAAAAAAAAgD8AAAAAAAAAAAAAAAAAAAAAAAAAAAAAgD8AAAAAAACAPwAAAEAAAAAAAACAPwAAAAAAAAAAAACAPwAAQEAAAAAAAAAAQAAAAAAAAAAAAAAAAAAAQEAAAAAAAAAAAAAAAAAAAIA/AAAAAAAAAAAAAIA/AAAAAAAAgD8AAIA/AABAQAAAgEAAAAAAAAAAAAAAAEAAAAAAAACAPwAAAAAAAAAAAAAAAAAAgD8AAAAAAACAPwAAAEAAAAAAAAAAAAAAAAAAAAAAAAAAAAAAQEAAAAAAAAAAAAAAAAAAAAAAAAAAAAAAAAAAAABAAAAAQAAAAAAAAAAAAAAAAAAAAAAAAAAAAAAAQAAAgD8AAAAAAAAAAAAAgD8AAABAAAAAAAAAgD8AAABAAAAAQAAAgD8AAABAAAAAAAAAAAAAAIA/AAAAAAAAAAAAAAAAAAAAQAAAgD8AAABAAAAAAAAAAAAAAIA/AACAPwAAgD8AAAAAAAAAAAAAAAAAAIA/AACAPwAAAAAAAAAAAACAQAAAgD8AAIA/AAAAAAAAgD8AAAAAAACAPwAAgD8AAAAAAAAAAAAAgD8AAAAAAAAAQAAAgD8AAAAAAABAQAAAAAAAAAAAAACAPwAAAAAAAAAAAAAAAAAAAAAAAIA/AAAAAAAAAAAAAAAAAAAAQAAAAAAAAIA/AACAPwAAAAAAAAAAAAAAAAAAgD8AAIA/AACAPwAAAAAAAIA/AAAAAAAAAAAAAIA/AACAPwAAAAAAAAAAAACAPwAAgD8AAIA/AACAPwAAgD8AAIA/AACAPwAAAAAAAIA/AACAPwAAgD8AAAAAAACAPwAAAAAAAIA/AAAAQAAAAEAAAAAAAAAAAAAAAAAAAAAAAAAAAAAAAEAAAAAAAAAAQAAAAAAAAAAAAACAPwAAgD8AAAAAAACAPwAAAAAAAIA/AAAAAAAAAAAAAAAAAAAAAAAAAEAAAAAAAAAAAAAAAAAAAIA/AAAAAAAAgD8AAAAAAAAAAAAAAAAAAIA/AACAPwAAAAAAAAAAAACAPwAAAAAAAIA/AAAAQAAAgD8AAAAAAAAAAAAAAAAAAABAAAAAAAAAgEAAAABAAACAPwAAAAAAAIA/AAAAQAAAAAAAAAAAAAAAAAAAAEAAAIA/AAAAAAAAAEAAAAAAAAAAAAAAAAAAAAAAAACAPwAAAEAAAIA/AAAAAAAAAAAAAIA/AAAAQAAAgD8AAIA/AACAPwAAAAAAAAAAAAAAQAAAQEAAAIA/AAAAAAAAAAAAAAAAAACAPwAAAAAAAAAAAAAAAAAAAAAAAIA/AAAAQAAAAAAAAAAAAAAAAAAAAAAAAAAAAAAAAAAAgD8AAAAAAACAPwAAQEAAAIA/AAAAAAAAAAAAAIA/AAAAQAAAgD8AAIA/AAAAAAAAgD8AAAAAAAAAQAAAAAAAAIA/AAAAAAAAAAAAAIA/AABAQAAAAAAAAAAAAAAAAAAAAAAAAAAAAACAPwAAAAAAAABAAAAAAAAAgD8AAIA/AACAPwAAQEAAAAAAAACAPwAAAAAAAIA/AAAAQAAAgD8AAAAAAAAAAAAAgD8AAAAAAACAPwAAgD8AAAAAAAAAAAAAAAAAAAAAAACAPwAAgD8AAIA/AAAAQAAAQEAAAABAAAAAQAAAgD8AAIA/AACAPwAAgD8AAIA/AAAAAAAAAAAAAAAAAACAPwAAAAAAAABAAAAAAAAAAAAAAABAAABAQAAAAEAAAIA/AAAAAAAAAAAAAIA/AAAAAAAAgD8AAABAAAAAAAAAgD8AAABAAACAPwAAAEAAAIA/AAAAQAAAAAAAAAAAAACAPwAAAAAAAAAAAACAPwAAAAAAAIA/AAAAAAAAAAAAAIA/AAAAAAAAAAAAAAAAAAAAAAAAAAAAAAAAAAAAQAAAAAAAAIA/AACAPwAAAEAAAAAAAACAPwAAgD8AAIA/AAAAQAAAAAAAAAAAAAAAAAAAgD8AAAAAAAAAQAAAAAAAAEBAAAAAAAAAAEAAAIA/AACAPwAAAAAAAAAAAAAAAAAAAAAAAIA/AAAAAAAAgD8AAAAAAAAAQAAAAAAAAIA/AAAAAAAAgD8AAAAAAACAPwAAgD8AAAAAAAAAQAAAAEAAAAAAAAAAAAAAAAAAAIA/AAAAAAAAgD8AAAAAAACAPwAAgD8AAAAAAAAAAAAAAAAAAAAAAAAAAAAAgD8AAAAAAAAAQAAAAAAAAAAAAAAAQAAAAAAAAIA/AACAPwAAAAAAAAAAAAAAAAAAAEAAAABAAAAAQAAAAAAAAIA/AACAPwAAgD8AAABAAACAPwAAgD8AAAAAAAAAQAAAAAAAAIA/AACAQAAAAAAAAIA/AAAAAAAAAEAAAAAAAAAAAAAAgD8AAIA/AAAAAAAAAAAAAAAAAACAPwAAAAAAAAAAAABAQAAAgD8AAAAAAACAPwAAAAAAAAAAAACAPwAAAAAAAABAAAAAAAAAgD8AAIA/AAAAAAAAgD8AAIA/AACAPwAAAAAAAIA/AACAPwAAAAAAAAAAAAAAAAAAAAAAAAAAAAAAAAAAAAAAAAAAAAAAQAAAAAAAAAAAAAAAQAAAgD8AAAAAAAAAAAAAAEAAAAAAAAAAQAAAAAAAAIA/AAAAAAAAAAAAAAAAAAAAAAAAAAAAAAAAAACAPwAAAAAAAAAAAAAAAAAAAAAAAIA/AAAAAAAAgD8AAABAAAAAAAAAgD8AAABAAACAPwAAAEAAAAAAAAAAAAAAQEAAAIA/AAAAQAAAgD8AAABAAAAAAAAAAAAAAAAAAAAAAAAAAAAAAIA/AACAQAAAAAAAAAAAAAAAAAAAAAAAAIA/AAAAAAAAAAAAAIA/AACAPwAAAAAAAIA/AACAPwAAAAAAAABAAAAAAAAAAAAAAABAAAAAQAAAAAAAAABAAACAPwAAAAAAAIA/AAAAAAAAgD8AAAAAAAAAAAAAAAAAAABAAACAQAAAgD8AAIA/AAAAQAAAgD8AAAAAAAAAAAAAAAAAAAAAAAAAAAAAgD8AAAAAAAAAQAAAgD8AAIA/AAAAAAAAAAAAAIA/AAAAQAAAgD8AAIA/AAAAAAAAAAAAAIA/AAAAAAAAgD8AAABAAAAAQAAAgD8AAIA/AAAAAAAAgD8AAABAAACAPwAAgD8AAAAAAAAAAAAAAAAAAAAAAACAPwAAgD8AAAAAAABAQAAAAAAAAIA/AAAAAAAAAAAAAIA/AAAAAAAAgD8AAAAAAACAPwAAgD8AAAAAAAAAAAAAAAAAAAAAAAAAAAAAgD8AAAAAAAAAAAAAAEAAAABAAACAPwAAgD8AAABAAAAAQAAAAEAAAIA/AACAPwAAAAAAAIA/AAAAAAAAAAAAAAAAAAAAAAAAAEAAAIA/AAAAAAAAAAAAAAAAAACAPwAAgD8AAIA/AABAQAAAAEAAAAAAAACAPwAAAEAAAIA/AAAAAAAAgD8AAAAAAAAAQAAAAAAAAEBAAAAAAAAAAAAAAIA/AACAPwAAAAAAAABAAACAPwAAgD8AAIA/AAAAAAAAAAAAAABAAAAAQAAAAAAAAIA/AACAPwAAAAAAAIA/AAAAAAAAgD8AAIA/AAAAAAAAAAAAAABAAAAAQAAAgD8AAABAAAAAAAAAgD8AAAAAAAAAQAAAgD8AAIA/AAAAQAAAgD8AAAAAAACAPwAAAAAAAIA/AAAAAAAAgD8AAAAAAACAPwAAAAAAAAAAAAAAAAAAAAAAAABAAAAAQAAAAEAAAIA/AABAQAAAQEAAAIA/AAAAAAAAAAAAAIA/AAAAAAAAgD8AAAAAAAAAAAAAAAAAAAAAAAAAAAAAAAAAAABAAAAAQAAAgD8AAAAAAACAPwAAAAAAAAAAAACAPwAAQEAAAAAAAACAPwAAgD8AAAAAAAAAAAAAgD8AAAAAAACAQAAAAAAAAAAAAACAPwAAgD8AAEBAAAAAAAAAgD8AAEBAAAAAQAAAgD8AAABAAAAAAAAAgD8AAIA/AAAAAAAAAAAAAIA/AACAPwAAAAAAAIA/AACAPwAAAAAAAAAAAAAAAAAAAEAAAABAAACAPwAAgD8AAABAAAAAQAAAgD8AAAAAAAAAAAAAAAAAAAAAAACAQAAAAEAAAIA/AAAAAAAAAEAAAABAAACAPwAAAAAAAIA/AAAAAAAAAAAAAAAAAAAAAAAAAAAAAIA/AAAAAAAAgD8AAAAAAAAAAAAAgD8AAAAAAACAPwAAAEAAAIA/AAAAAAAAAAAAAIA/AACAPwAAgD8AAAAAAACAPwAAgD8AAAAAAAAAAAAAAAAAAAAAAACAPwAAQEAAAIA/AAAAQAAAgD8AAABAAAAAAAAAgD8AAAAAAAAAQAAAAEAAAIA/AAAAAAAAAEAAAAAAAACAPwAAgD8AAIA/AACAPwAAgD8AAAAAAAAAAAAAAEAAAIA/AAAAAAAAAAAAAEBAAACAPwAAAAAAAAAAAAAAAAAAgD8AAIA/AACAPwAAAAAAAAAAAACAPwAAAEAAAABAAACAPwAAgD8AAAAAAAAAAAAAQEAAAAAAAABAQAAAAAAAAAAAAAAAAAAAAAAAAAAAAACAPwAAAAAAAAAAAAAAAAAAgD8AAAAAAAAAAAAAgD8AAIA/AAAAAAAAAAAAAAAAAAAAAAAAgD8AAABAAACAPwAAgD8AAABAAAAAQAAAAAAAAAAAAABAQAAAgD8AAIA/AACAPwAAAAAAAABAAACAPwAAAAAAAAAAAACAPwAAgD8AAABAAACAPwAAgD8AAAAAAAAAAAAAAEAAAAAAAACAPwAAAEAAAAAAAAAAAAAAgD8AAAAAAAAAAAAAgD8AAAAAAAAAAAAAgD8AAIA/AAAAAAAAAAAAAIA/AACAPwAAAAAAAIA/AAAAAAAAgD8AAIA/AAAAAAAAAAAAAAAAAACAPwAAAEAAAAAAAAAAAAAAgD8AAIA/AABAQAAAgD8AAIA/AACAPwAAAEAAAABAAAAAAAAAgD8AAIA/AAAAAAAAAEAAAAAAAACAPwAAAEAAAIA/AABAQAAAAEAAAABAAACAPwAAAAAAAAAAAAAAAAAAgD8AAAAAAAAAAAAAgD8AAAAAAAAAAAAAAAAAAAAAAAAAAAAAgD8AAIA/AACAPwAAAAAAAAAAAAAAAAAAgD8AAIA/AACAPwAAgD8AAIA/AAAAQAAAAEAAAEBAAACAPwAAAAAAAIA/AACAPwAAQEAAAABAAAAAAAAAAAAAAIA/AACAPwAAgD8AAAAAAAAAAAAAAAAAAAAAAACAPwAAAAAAAIA/AAAAQAAAQEAAAAAAAAAAQAAAgD8AAAAAAACAPwAAAAAAAIA/AAAAAAAAAAAAAIA/AACAPwAAAAAAAAAAAAAAQAAAgD8AAIA/AAAAAAAAgD8AAIA/AACAPwAAAAAAAAAAAAAAAAAAgD8AAIA/AAAAAAAAgD8AAIA/AACAPwAAgD8AAIA/AACAPwAAAAAAAAAAAACAPwAAgD8AAIA/AACAPwAAgD8AAIA/AAAAAAAAgD8AAABAAACAPwAAAAAAAABAAABAQAAAgD8AAEBAAAAAAAAAAAAAAAAAAAAAQAAAgD8AAAAAAAAAAAAAAEAAAIA/AACAPwAAgD8AAAAAAAAAAAAAAAAAAABAAABAQAAAgD8AAIA/AAAAAAAAAEAAAABAAAAAAAAAAAAAAABAAAAAAAAAgD8AAAAAAACAPwAAgD8AAAAAAACAPwAAAAAAAIA/AAAAAAAAAAAAAIA/AACAPwAAAAAAAAAAAAAAQAAAAAAAAIA/AAAAAAAAAAAAAABAAAAAAAAAAAAAAIA/AACAPwAAAEAAAAAAAACAPwAAAAAAAIA/AAAAQAAAAAAAAAAAAACAPwAAAAAAAAAAAAAAAAAAAAAAAAAAAACAPwAAgD8AAIA/AAAAQAAAgD8AAAAAAAAAAAAAgD8AAAAAAAAAAAAAQEAAAIA/AAAAAAAAgD8AAAAAAAAAAAAAgD8AAIA/AAAAAAAAAAAAAABAAAAAAAAAgD8AAAAAAAAAAAAAAAAAAIA/AAAAQAAAAAAAAIA/AAAAAAAAAAAAAAAAAAAAAAAAgD8AAIA/AACAPwAAAAAAAIA/AACAPwAAAAAAAAAAAACAQAAAAAAAAIA/AAAAAAAAAAAAAABAAAAAQAAAAAAAAIA/AACAPwAAQEAAAABAAACAQAAAAAAAAIA/AACAQAAAAAAAAABAAAAAAAAAAAAAAAAAAAAAAAAAAEAAAAAAAAAAQAAAgD8AAAAAAAAAAAAAAAAAAIA/AAAAQAAAAAAAAIA/AAAAAAAAAAAAAIA/AAAAAAAAAAAAAAAAAACAPwAAAEAAAIA/AAAAAAAAAAAAAEBAAACAPwAAAAAAAABAAACAPwAAgD8AAIBAAACAPwAAAAAAAAAAAACAPwAAgD8AAAAAAACAPwAAAEAAAIA/AABAQAAAgD8AAAAAAACAPwAAAAAAAIA/AACAPwAAgD8AAIA/AAAAAAAAgD8AAIA/AACAPwAAgD8AAABAAACAPwAAAAAAAIA/AAAAAAAAQEAAAIA/AAAAQAAAAAAAAIA/AACAPwAAAAAAAAAAAACAPwAAgD8AAIA/AAAAAAAAAEAAAIA/AACAPwAAgEAAAIA/AACAPwAAgD8AAAAAAACAPwAAgD8AAIA/AACAPwAAgD8AAAAAAACAPwAAAEAAAEBAAAAAQAAAAAAAAAAAAACAPwAAAEAAAIA/AAAAAAAAAAAAAIA/AACAPwAAAEAAAIA/AAAAAAAAAEAAAABAAAAAAAAAAAAAAIA/AACAPwAAAEAAAIA/AAAAAAAAAEAAAABAAACAPwAAgD8AAAAAAACAPwAAgEAAAIA/AAAAAAAAAAAAAABAAAAAQAAAAAAAAAAAAAAAQAAAgD8AAIA/AABAQAAAgD8AAABAAACAPwAAAEAAAIA/AAAAAAAAAAAAAAAAAACAPwAAgD8AAAAAAACAPwAAAAAAAABAAAAAAAAAAAAAAAAAAAAAAAAAAEAAAIA/AACAPwAAAEAAAIA/AACAPwAAgD8AAABAAACAQAAAgD8AAIA/AACAPwAAAAAAAAAAAAAAQAAAgD8AAIA/AACAPwAAgD8AAABAAAAAAAAAAAAAAAAAAACAPwAAgD8AAIA/AAAAQAAAAEAAAIA/AAAAAAAAAEAAAIA/AACAPwAAgD8AAIA/AACAPwAAQEAAAAAAAACAPwAAgD8AAIA/AAAAQAAAgD8AAABAAACgQAAAgD8AAIA/AAAAAAAAAAAAAAAAAAAAAAAAAEAAAABAAAAAAAAAgD8AAIA/AAAAAAAAgD8AAAAAAAAAAAAAgD8AAAAAAAAAAAAAgD8AAIA/AAAAAAAAAAAAAAAAAACAPwAAgEAAAABAAAAAAAAAgD8AAABAAACAPwAAAAAAAIA/AACAPwAAAAAAAABAAACAPwAAAEAAAAAAAAAAAAAAAAAAAABAAABAQAAAAEAAAABAAACAPwAAQEAAAIA/AAAAAAAAAAAAAIA/AACAPwAAgD8AAAAAAAAAAAAAAAAAAAAAAAAAAAAAgD8AAAAAAAAAQAAAgD8AAAAAAAAAAAAAAAAAAIA/AACAPwAAAAAAAAAAAACAPwAAgD8AAABAAAAAAAAAAEAAAAAAAAAAQAAAAAAAAIA/AAAAQAAAAAAAAIA/AACAPwAAgD8AAAAAAAAAAAAAAAAAAIBAAAAAAAAAgD8AAIA/AACAPwAAAAAAAAAAAAAAQAAAgD8AAABAAACgQAAAAAAAAIA/AAAAQAAAAAAAAIA/AACAPwAAAAAAAAAAAAAAAAAAAEAAAAAAAACAPwAAAEAAAAAAAACAPwAAgD8AAIA/AACAPwAAAAAAAABAAAAAAAAAAAAAAIA/AACAPwAAAAAAAEBAAAAAAAAAAAAAAAAAAAAAAAAAAEAAAAAAAAAAQAAAAEAAAIA/AACAPwAAAAAAAIA/AACAPwAAAAAAAAAAAACAPwAAgD8AAABAAAAAQAAAgD8AAIA/AACAPwAAgD8AAAAAAACAPwAAgD8AAIA/AACAPwAAgD8AAAAAAAAAAAAAAAAAAAAAAABAQAAAgD8AAIA/AAAAAAAAgD8AAIA/AACAPwAAgD8AAAAAAACAPwAAAAAAAAAAAABAQAAAgD8AAAAAAACAPwAAgD8AAIA/AACAPwAAgD8AAIA/AAAAAAAAAEAAAABAAACAPwAAgD8AAAAAAAAAQAAAgD8AAIA/AACAPwAAAEAAAAAAAAAAAAAAgD8AAIA/AABAQAAAAAAAAAAAAAAAAAAAAEAAAAAAAAAAAAAAgD8AAIA/AAAAAAAAAEAAAABAAAAAQAAAAAAAAAAAAACAPwAAgD8AAEBAAACAPwAAgD8AAIA/AACAPwAAAAAAAAAAAAAAAAAAgD8AAIA/AAAAAAAAgD8AAIA/AACAPwAAgD8AAAAAAACAPwAAAAAAAAAAAAAAAAAAgD8AAIA/AAAAAAAAgD8AAIA/AACAPwAAAAAAAABAAAAAAAAAgD8AAAAAAAAAAAAAgD8AAAAAAAAAAAAAgD8AAAAAAAAAQAAAAEAAAAAAAAAAAAAAgD8AAIA/AAAAAAAAgD8AAIA/AAAAAAAAQEAAAAAAAACAPwAAgD8AAABAAABAQAAAgD8AAIA/AAAAAAAAgD8AAAAAAAAAAAAAgD8AAABAAAAAQAAAAAAAAEBAAACAPwAAgD8AAEBAAAAAQAAAAAAAAABAAACAPwAAAEAAAAAAAAAAAAAAgD8AAABAAAAAAAAAAAAAAIBAAACAPwAAgD8AAAAAAACAPwAAgD8AAIA/AAAAAAAAAAAAAEBAAAAAAAAAAAAAAAAAAAAAQAAAAEAAAIBAAACAPwAAQEAAAIA/AACAPwAAAAAAAABAAAAAAAAAAEAAAAAAAAAAQAAAAAAAAAAAAAAAAAAAgD8AAAAAAACAPwAAAEAAAIA/AAAAAAAAAEAAAABAAAAAQAAAgD8AAIA/AAAAAAAAgD8AAIA/AACAPwAAgD8AAAAAAACAPwAAgD8AAIA/AACAPwAAgD8AAAAAAAAAAAAAAAAAAIA/AAAAAAAAAAAAAAAAAACAPwAAAEAAAIA/AACAPwAAAAAAAIA/AABAQAAAAEAAAIA/AAAAQAAAAAAAAAAAAAAAAAAAAEAAAAAAAAAAAAAAAAAAAIA/AABAQAAAAAAAAAAAAACAPwAAAAAAAIA/AAAAAAAAAAAAAABAAACAPwAAgD8AAAAAAAAAQAAAAAAAAAAAAACAPwAAAAAAAIA/AAAAAAAAAEAAAIA/AABAQAAAgD8AAIA/AACAPwAAgD8AAABAAACAPwAAgD8AAAAAAACAPwAAAEAAAAAAAAAAQAAAAAAAAABAAAAAAAAAgD8AAIA/AACAPwAAAEAAAAAAAACAPwAAAAAAAEBAAAAAAAAAAAAAAIA/AACAPwAAgD8AAAAAAAAAAAAAAAAAAAAAAAAAQAAAAAAAAABAAACAPwAAgD8AAABAAABAQAAAgD8AAIA/AACAPwAAAAAAAIA/AAAAAAAAAAAAAABAAAAAAAAAAAAAAAAAAABAQAAAAEAAAAAAAAAAAAAAgD8AAIA/AAAAAAAAAEAAAAAAAAAAAAAAAAAAAIBAAACAPwAAAAAAAAAAAACAPwAAgD8AAIA/AAAAAAAAAAAAAAAAAACAPwAAgD8AAAAAAAAAAAAAgD8AAIA/AACAPwAAAAAAAABAAAAAAAAAAAAAAAAAAAAAAAAAQEAAAAAAAAAAAAAAgD8AAAAAAACAQAAAgEAAAAAAAAAAAAAAgD8AAAAAAAAAAAAAgD8AAAAAAACAPwAAgD8AAIA/AACAPwAAgD8AAAAAAACAPwAAAEAAAEBAAAAAAAAAAAAAAIA/AACAPwAAAEAAAAAAAACAPwAAAAAAAAAAAACAPwAAgEAAAAAAAACAPwAAgD8AAABAAACAPwAAAAAAAAAAAAAAAAAAAAAAAAAAAACAPwAAAAAAAABAAABAQAAAAAAAAAAAAABAQAAAAEAAAIA/AACAPwAAgEAAAIA/AACAPwAAAAAAAABAAAAAAAAAQEAAAIA/AACAPwAAgD8AAIA/AAAAQAAAAAAAAAAAAACAPwAAAAAAAIA/AAAAQAAAgD8AAAAAAACAPwAAAAAAAABAAABAQAAAgD8AAIA/AAAAAAAAAEAAAAAAAAAAAAAAAEAAAIA/AACAPwAAgD8AAIA/AABAQAAAAAAAAEBAAAAAQAAAAAAAAAAAAACAPwAAAEAAAABAAACAPwAAAEAAAIA/AACAPwAAAEAAAAAAAAAAAAAAAEAAAAAAAACAPwAAgD8AAEBAAACAPwAAAAAAAAAAAACAPwAAQEAAAAAAAAAAAAAAAAAAAAAAAACAPwAAgD8AAIA/AACAPwAAgD8AAIA/AAAAAAAAAEAAAAAAAAAAQAAAAEAAAAAAAAAAAAAAgD8AAAAAAAAAAAAAgD8AAIA/AAAAQAAAAEAAAIA/AACAPwAAAAAAAAAAAAAAQAAAgD8AAIA/AAAAQAAAAAAAAABAAAAAAAAAgD8AAAAAAACAPwAAAAAAAAAAAAAAQAAAQEAAAAAAAACAPwAAAAAAAAAAAACAPwAAgD8AAABAAACAPwAAQEAAAEBAAAAAQAAAgEAAAIA/AAAAAAAAAEAAAAAAAAAAAAAAAEAAAIA/AABAQAAAAAAAAAAAAAAAAAAAgD8AAIA/AACAPwAAAAAAAABAAACAPwAAgD8AAAAAAAAAAAAAgD8AAABAAACAPwAAAEAAAEBAAACAPwAAgD8AAIA/AAAAQAAAAAAAAIA/AACAPwAAgD8AAABAAACAPwAAgD8AAIA/AAAAQAAAAAAAAIA/AACAPwAAgEAAAABAAACAPwAAgD8AAAAAAAAAQAAAAAAAAIA/AAAAAAAAAAAAAABAAAAAAAAAgD8AAIA/AACAPwAAAAAAAAAAAACAPwAAgD8AAABAAAAAQAAAAAAAAAAAAACAPwAAAAAAAABAAAAAAAAAgD8AAAAAAACAPwAAAEAAAEBAAAAAQAAAAAAAAABAAAAAAAAAgD8AAAAAAAAAAAAAAAAAAAAAAACAPwAAgD8AAEBAAACAPwAAgD8AAABAAAAAAAAAgEAAAIA/AACAPwAAgD8AAIA/AACAPwAAAAAAAAAAAAAAQAAAAEAAAABAAAAAAAAAgD8AAAAAAAAAQAAAQEAAAAAAAAAAAAAAAAAAAIA/AACAPwAAgD8AAIA/AACAPwAAgD8AAIA/AACAPwAAAAAAAIA/AAAAQAAAAAAAAIA/AAAAAAAAgD8AAABAAAAAQAAAgD8AAIA/AAAAAAAAgD8AAIA/AACAPwAAAAAAAAAAAACAPwAAgEAAAIA/AABAQAAAAAAAAAAAAAAAQAAAAAAAAEBAAAAAAAAAgD8AAIA/AACAPwAAgD8AAABAAAAAAAAAAAAAAIA/AAAAAAAAAEAAAABAAAAAAAAAAAAAAIA/AAAAAAAAgD8AAIA/AACAPwAAgD8AAABAAAAAAAAAAEAAAAAAAACAPwAAgD8AAABAAABAQAAAAAAAAAAAAACAPwAAAAAAAABAAAAAAAAAAEAAAIA/AACAPwAAAAAAAABAAAAAAAAAAAAAAAAAAAAAAAAAAEAAAABAAACAPwAAAAAAAAAAAAAAQAAAAEAAAEBAAAAAAAAAgEAAAIA/AAAAQAAAAAAAAAAAAAAAAAAAAEAAAIA/AAAAAAAAgD8AAAAAAACAPwAAgD8AAABAAABAQAAAAAAAAAAAAAAAAAAAgD8AAIA/AACAPwAAgD8AAAAAAAAAAAAAAAAAAIA/AACAPwAAAAAAAIA/AAAAQAAAgD8AAIA/AAAAQAAAAAAAAIBAAAAAAAAAAAAAAAAAAACAPwAAAAAAAABAAACAPwAAAEAAAABAAACAPwAAAEAAAIA/AAAAAAAAgEAAAABAAAAAQAAAgD8AAAAAAAAAAAAAQEAAAABAAAAAQAAAAAAAAIA/AACAPwAAAAAAAAAAAACAPwAAAAAAAIA/AAAAAAAAAEAAAAAAAAAAQAAAgD8AAIA/AAAAAAAAQEAAAABAAACAPwAAQEAAAAAAAABAQAAAAAAAAEBAAAAAQAAAgD8AAABAAAAAQAAAAEAAAIA/AACAPwAAgEAAAAAAAACAPwAAgD8AAAAAAAAAQAAAAAAAAAAAAAAAAAAAQEAAAABAAAAAAAAAgD8AAAAAAAAAAAAAAEAAAAAAAACAPwAAAAAAAABAAAAAAAAAgD8AAIA/AACAPwAAAAAAAAAAAABAQAAAAAAAAIA/AACAPwAAAEAAAAAAAAAAAAAAgD8AAIA/AAAAAAAAgD8AAIBAAAAAQAAAAEAAAAAAAAAAAAAAAEAAAIA/AAAAAAAAgD8AAAAAAAAAQAAAgD8AAEBAAAAAAAAAAEAAAABAAAAAQAAAgD8AAAAAAAAAAAAAAAAAAIA/AAAAAAAAQEAAAIA/AABAQAAAgD8AAAAAAACAPwAAAAAAAAAAAAAAAAAAAEAAAABAAAAAAAAAAEAAAAAAAAAAAAAAAEAAAEBAAADAQAAAAAAAAAAAAAAAQAAAAAAAAABAAACAPwAAAEAAAABAAAAAAAAAgD8AAEBAAAAAQAAAgD8AAIA/AAAAQAAAgD8AAAAAAACAPwAAAEAAAEBAAAAAAAAAAEAAAABAAAAAAAAAgD8AAAAAAACAPwAAAEAAAIA/AACAPwAAQEAAAIA/AACAPwAAAEAAAIA/AAAAQAAAAEAAAEBAAACAPwAAQEAAAAAAAACAPwAAgD8AAEBAAAAAAAAAAEAAAIA/AAAAQAAAAEAAAEBAAACAPwAAgD8AAAAAAAAAQAAAgEAAAIA/AAAAAAAAAAAAAAAAAAAAAAAAAAAAAIA/AAAAQAAAgD8AAAAAAACgQAAAAAAAAIA/AACAPwAAgD8AAABAAACAPwAAgD8AAEBAAACAPwAAgD8AAIBAAACAPwAAgD8AAIA/AAAAQAAAgD8AAIA/AAAAQAAAQEAAAIA/AAAAAAAAQEAAAIA/AACAPwAAAAAAAEBAAAAAAAAAAEAAAABAAAAAQAAAAAAAAEBAAAAAQAAAAAAAAIA/AAAAAAAAgD8AAKBAAAAAAAAAgD8AAIA/AAAAAAAAgD8AAABAAAAAAAAAgD8AAIA/AACAPwAAgD8AAAAAAACAPwAAgEAAAEBAAACAPwAAAEAAAAAAAAAAAAAAAAAAAAAAAAAAAAAAAAAAAIA/AAAAAAAAgD8AAIA/AAAAAAAAAEAAAABAAACAPwAAQEAAAIA/AAAAAAAAQEAAAEBAAAAAAAAAgD8AAEBAAACAQAAAgD8AAABAAACAPwAAgD8AAIA/AACAPwAAgD8AAAAAAABAQAAAgD8AAABAAACAPwAAgD8AAAAAAACAPwAAAAAAAIA/AACAPwAAAAAAAABAAACAPwAAgD8AAIA/AABAQAAAgD8AAIA/AACAPwAAAEAAAIA/AAAAAAAAAAAAAIA/AACAPwAAgD8AAIA/AACAQAAAAAAAAIA/AAAAQAAAgD8AAIA/AAAAAAAAAAAAAABAAAAAQAAAgD8AAABAAAAAAAAAAEAAAIA/AACAQAAAgD8AAAAAAAAAAAAAQEAAAAAAAAAAAAAAgD8AAIA/AAAAQAAAgD8AAIA/AAAAQAAAgD8AAAAAAAAAAAAAAEAAAAAAAAAAAAAAgD8AAABAAAAAAAAAAAAAAIA/AAAAAAAAgD8AAIA/AAAAAAAAAAAAAEBAAAAAAAAAgD8AAEBAAACAPwAAQEAAAIA/AAAAAAAAgD8AAABAAACAPwAAAEAAAAAAAAAAAAAAAEAAAAAAAAAAAAAAgD8AAIA/AAAAQAAAAEAAAEBAAAAAAAAAAEAAAAAAAABAQAAAQEAAAIA/AAAAAAAAgD8AAIA/AAAAQAAAAAAAAIA/AAAAQAAAAEAAAAAAAACAPwAAAAAAAABAAAAAAAAAAAAAAABAAAAAQAAAgD8AAIA/AACAPwAAgD8AAIA/AABAQAAAAAAAAAAAAACAPwAAgD8AAIA/AAAAAAAAAAAAAAAAAABAQAAAAEAAAIA/AAAAQAAAAEAAAABAAAAAAAAAAEAAAAAAAAAAAAAAgD8AAAAAAAAAQAAAAAAAAABAAAAAAAAAAEAAAAAAAAAAAAAAAAAAAIA/AAAAQAAAAAAAAAAAAAAAQAAAAAAAAAAAAACAPwAAAEAAAAAAAACAPwAAAAAAAIA/AAAAQAAAAAAAAEBAAAAAAAAAgD8AAIA/AACAPwAAgD8AAAAAAAAAAAAAAAAAAEBAAAAAQAAAgD8AAAAAAAAAAAAAgD8AAIA/AACAPwAAAAAAAIA/AACAPwAAAAAAAIA/AAAAQAAAAAAAAEBAAABAQAAAgD8AAEBAAACAPwAAAAAAAABAAACAPwAAgEAAAIA/AABAQAAAgD8AAABAAABAQAAAAEAAAIA/AAAAAAAAAEAAAIA/AAAAQAAAAAAAAIA/AAAAQAAAAAAAAIA/AACAPwAAAEAAAIA/AAAAQAAAAEAAAAAAAACAPwAAgEAAAIA/AACAQAAAQEAAAAAAAACAPwAAAAAAAIBAAAAAAAAAQEAAAIA/AACAPwAAAAAAAAAAAAAAQAAAAAAAAABAAAAAQAAAAEAAAIA/AACAPwAAAAAAAIA/AACAPwAAgD8AAAAAAAAAAAAAgD8AAAAAAACAPwAAgD8AAAAAAACAPwAAAAAAAIA/AAAAQAAAgD8AAAAAAAAAQAAAQEAAAAAAAACAPwAAgD8AAIA/AAAAAAAAAEAAAIA/AAAAAAAAAAAAAIBAAACAPwAAQEAAAAAAAAAAAAAAAEAAAAAAAACAPwAAAAAAAAAAAACAPwAAgD8AAIA/AABAQAAAAAAAAIA/AACAPwAAgD8AAABAAAAAQAAAAAAAAEBAAAAAAAAAAAAAAIA/AAAAAAAAAAAAAAAAAAAAAAAAgD8AAIA/AAAAQAAAgD8AAEBAAACAPwAAgD8AAAAAAACAPwAAgD8AAAAAAACAQAAAAAAAAABAAACAPwAAAAAAAAAAAAAAAAAAAAAAAAAAAABAQAAAAAAAAIA/AACAPwAAgD8AAIA/AACAPwAAgD8AAEBAAAAAAAAAAEAAAAAAAACAPwAAAEAAAIA/AAAAAAAAgD8AAIA/AACAPwAAAAAAAIA/AACAQAAAAAAAAIA/AACAPwAAgD8AAIA/AABAQAAAgD8AAKBAAAAAAAAAgD8AAIBAAACAPwAAgD8AAABAAAAAQAAAQEAAAABAAAAAAAAAAAAAAAAAAAAAAAAAQEAAAIA/AAAAAAAAgD8AAIA/AADAQAAAgD8AAAAAAABAQAAAgD8AAIA/AACAPwAAAEAAAABAAAAAQAAAAEAAAABAAAAAQAAAAAAAAABAAAAAAAAAAEAAAAAAAAAAQAAAAAAAAIA/AAAAAAAAgD8AAABAAAAAQAAAgD8AAAAAAAAAAAAAAEAAAAAAAACAPwAAAAAAAABAAABAQAAAAEAAAIA/AABAQAAAAAAAAAAAAACAPwAAAAAAAAAAAACAPwAAgD8AAABAAACAPwAAAAAAAIA/AAAAQAAAAAAAAIA/AAAAQAAAgD8AAAAAAACAPwAAAAAAAIA/AAAAQAAAgEAAAABAAACAPwAAAEAAAABAAACAPwAAAEAAAIA/AABAQAAAgD8AAABAAAAAQAAAgD8AAABAAAAAQAAAAEAAAIA/AAAAQAAAAEAAAIA/AAAAAAAAAEAAAEBAAACAPwAAQEAAAABAAACAQAAAQEAAAIA/AACAPwAAAEAAAAAAAAAAQAAAAEAAAAAAAACAPwAAAAAAAABAAAAAAAAAgD8AAIBAAACAPwAAAEAAAIA/AABAQAAAQEAAAEBAAAAAQAAAgD8AAAAAAAAAQAAAAAAAAABAAAAAAAAAAAAAAEBAAAAAAAAAAAAAAABAAACAPwAAAEAAAEBAAACAPwAAgD8AAAAAAABAQAAAAEAAAIA/AAAAQAAAQEAAAIA/AAAAAAAAAEAAAABAAACAPwAAgD8AAIA/AAAAQAAAgD8AAAAAAAAAAAAAgD8AAIA/AAAAAAAAAAAAAAAAAAAAAAAAAEAAAABAAAAAQAAAAAAAAABAAACAPwAAAEAAAIA/AACAPwAAgD8AAABAAAAAAAAAgD8AAIA/AAAAQAAAgD8AAAAAAACAPwAAAEAAAIA/AAAAAAAAgD8AAAAAAACAPwAAgD8AAABAAAAAAAAAAAAAAAAAAACAPwAAQEAAAAAAAABAQAAAAAAAAAAAAAAAAAAAAAAAAAAAAAAAAAAAAAAAAAAAAACAPwAAgD8AAAAAAAAAAAAAAAAAAAAAAAAAQAAAgD8AAIA/AACAPwAAgD8AAABAAAAAQAAAAAAAAABAAABAQAAAgD8AAIBAAAAAQAAAAAAAAEBAAAAAQAAAAEAAAIA/AAAAQAAAAAAAAABAAACAPwAAAAAAAEBAAACAPwAAAEAAAEBAAAAAQAAAgD8AAAAAAABAQAAAAEAAAAAAAAAAQAAAAAAAAIA/AACAPwAAAEAAAABAAAAAQAAAgD8AAEBAAACAPwAAAEAAAABAAAAAQAAAgD8AAIA/AABAQAAAAAAAAABAAAAAQAAAgD8AAIA/AAAAAAAAgD8AAAAAAAAAQAAAoEAAAAAAAACAPwAAAAAAAAAAAAAAAAAAAEAAAIA/AAAAAAAAAAAAAABAAAAAQAAAQEAAAIA/AACAPwAAAAAAAAAAAACgQAAAgD8AAAAAAABAQAAAgD8AAIBAAAAAQAAAAAAAAAAAAABAQAAAAEAAAIA/AAAAAAAAgD8AAIA/AAAAAAAAAEAAAAAAAABAQAAAgD8AAAAAAAAAAAAAAAAAAIA/AAAAAAAAgD8AAAAAAAAAAAAAgD8AAIA/AAAAQAAAAEAAAABAAAAAQAAAgD8AAAAAAACAPwAAgD8AAAAAAABAQAAAAAAAAABAAAAAAAAAAEAAAAAAAABAQAAAAAAAAEBAAACAPwAAAEAAAKBAAACAPwAAAEAAAIA/AAAAAAAAQEAAAABAAACAQAAAAAAAAIA/AAAAQAAAAEAAAIA/AABAQAAAAAAAAAAAAACAPwAAAAAAAAAAAABAQAAAgD8AAAAAAACAPwAAgD8AAIA/AAAAAAAAgD8AAAAAAACAPwAAAEAAAIA/AABAQAAAgD8AAAAAAABAQAAAgD8AAAAAAAAAQAAAAAAAAIA/AAAAQAAAgD8AAABAAAAAAAAAgD8AAIA/AACAPwAAAAAAAIA/AABAQAAAgD8AAAAAAAAAAAAAQEAAAABAAACAPwAAAEAAAAAAAACAPwAAAEAAAAAAAACAPwAAAAAAAIA/AAAAQAAAAEAAAIA/AAAAAAAAQEAAAABAAAAAAAAAAEAAAABAAAAAAAAAAEAAAIA/AAAAQAAAAAAAAABAAACAPwAAQEAAAIA/AAAAQAAAAAAAAIA/AABAQAAAgD8AAIA/AAAAQAAAQEAAAEBAAACAPwAAAAAAAIA/AACAQAAAAEAAAIA/AACAPwAAgD8AAEBAAACAPwAAQEAAAIA/AAAAQAAAQEAAAAAAAACAPwAAAAAAAEBAAACAPwAAgEAAAABAAACAPwAAAAAAAAAAAACAPwAAgEAAAEBAAAAAAAAAAAAAAABAAAAAAAAAAEAAAIA/AABAQAAAAAAAAABAAAAAQAAAAEAAAKBAAAAAQAAAgEAAAIA/AAAAAAAAgD8AAABAAACAPwAAAEAAAIA/AACAQAAAAAAAAIA/AACAPwAAAEAAAABAAAAAQAAAgD8AAIA/AAAAAAAAQEAAAABAAABAQAAAAAAAAABAAACAPwAAgD8AAIBAAACAQAAAgD8AAABAAAAAQAAAAEAAAABAAACAPwAAgD8AAAAAAACAPwAAAEAAAABAAAAAQAAAgD8AAIA/AACAPwAAAEAAAIA/AACAPwAAAEAAAABAAAAAQAAAAEAAAMBAAAAAAAAAAEAAAEBAAAAAQAAAgD8AAIA/AAAAQAAAAAAAAEBAAAAAAAAAAAAAAIA/AACAPwAAgD8AAEBAAAAAAAAAQEAAAABAAACAPwAAAAAAAEBAAAAAQAAAgD8AAABAAAAAAAAAAEAAAIA/AACAPwAAgD8AAAAAAABAQAAAgD8AAAAAAABAQAAAgD8AAIA/AACAPwAAAEAAAKBAAABAQAAAAAAAAAAAAACAPwAAgD8AAABAAAAAQAAAQEAAAAAAAAAAAAAAgD8AAABAAACAPwAAgD8AAKBAAACAPwAAQEAAAEBAAAAAAAAAAEAAAIBAAABAQAAAQEAAAIA/AACAPwAAgD8AAIA/AAAAAAAAgD8AAIA/AAAAAAAAQEAAAABAAAAAAAAAQEAAAABAAABAQAAAgD8AAEBAAAAAAAAAAEAAAIA/AACAPwAAgEAAAIA/AACAPwAAAAAAAEBAAABAQAAAQEAAAKBAAACAPwAAAEAAAIA/AABAQAAAgD8AAIA/AABAQAAAAAAAAIA/AAAAQAAAQEAAAAAAAAAAAAAAQEAAAIA/AAAAAAAAgD8AAEBAAACAQAAAAAAAAIA/AAAAAAAAgD8AAABAAAAAQAAAAEAAAIA/AACAPwAAAEAAAABAAACAPwAAAEAAAIBAAACgQAAAgD8AAABAAACAPwAAQEAAAIA/AACAPwAAAAAAAIA/AABAQAAAAAAAAAAAAAAAAAAAgD8AAAAAAACAPwAAQEAAAAAAAAAAQAAAQEAAAAAAAACAPwAAQEAAAIA/AACAPwAAoEAAAIA/AAAAAAAAAEAAAIA/AACAPwAAAAAAAEBAAABAQAAAgD8AAIA/AAAAAAAAAEAAAIA/AAAAQAAAAEAAAAAAAABAQAAAgD8AAAAAAABAQAAAAEAAAABAAAAAQAAAAEAAAIA/AAAAAAAAAEAAAAAAAAAAQAAAAAAAAIA/AACAQAAAAAAAAAAAAABAQAAAAEAAAEBAAACAPwAAAEAAAIA/AACAQAAAAEAAAEBAAAAAQAAAgD8AAIA/AABAQAAAAEAAAIA/AACAQAAAgD8AAKBAAACAPwAAgD8AAABAAAAAAAAAgD8AAABAAACAPwAAgD8AAABAAACAPwAAgD8AAABAAABAQAAAgD8AAABAAAAAAAAAAEAAAAAAAAAAQAAAgD8AAEBAAAAAAAAAAEAAAIA/AAAAAAAAAEAAAABAAACAPwAAgD8AAIA/AACAPwAAgD8AAIA/AACAPwAAAAAAAAAAAACAPwAAgD8AAAAAAACAQAAAgD8AAIA/AABAQAAAgD8AAABAAAAAAAAAgD8AAIA/AACAPwAAgD8AAEBAAACAPwAAAAAAAAAAAAAAQAAAQEAAAEBAAACAPwAAQEAAAABAAAAAQAAAgD8AAABAAAAAQAAAgD8AAABAAAAAAAAAAEAAAAAAAAAAQAAAAEAAAABAAAAAQAAAAEAAAIA/AAAAAAAAAAAAAABAAACAPwAAAAAAAIA/AACAPwAAQEAAAIA/AABAQAAAAEAAAIA/AACAQAAAgD8AAABAAABAQAAAAEAAAAAAAABAQAAAAEAAAAAAAACAPwAAAEAAAAAAAACAPwAAAEAAAIA/AACAPwAAAEAAAAAAAAAAAAAAgD8AAAAAAAAAQAAAAEAAAABAAACAPwAAgD8AAAAAAACAPwAAQEAAAAAAAABAQAAAgD8AAIBAAACAPwAAgD8AAIA/AAAAQAAAAEAAAKBAAACAPwAAAAAAAIA/AACAPwAAAEAAAABAAACAPwAAAEAAAAAAAACAPwAAQEAAAAAAAACAPwAAAEAAAKBAAAAAQAAAQEAAAIA/AABAQAAAgD8AAIA/AAAAQAAAAAAAAAAAAACAPwAAgD8AAABAAAAAAAAAAEAAAIBAAACAPwAAgEAAAIA/AACAPwAAgD8AAKBAAACgQAAAgD8AAEBAAAAAAAAAAAAAAABAAACAPwAAAEAAAEBAAACAQAAAgD8AAIA/AADAQAAAgD8AAIA/AAAAQAAAgD8AAAAAAACAPwAAgD8AAABAAAAAAAAAQEAAAIA/AAAAAAAAAEAAAAAAAABAQAAAgD8AAABAAABAQAAAgD8AAIA/AACAPwAAgD8AAAAAAAAAQAAAAEAAAIA/AAAAAAAAAEAAAIA/AACAPwAAAAAAAABAAACAPwAAAEAAAAAAAAAAAAAAgEAAAABAAABAQAAAQEAAAIA/AAAAAAAAgD8AAAAAAABAQAAAgD8AAIBAAACAPwAAQEAAAAAAAABAQAAAAEAAAIA/AAAAQAAAAEAAAABAAACgQAAAgEAAAIBAAACAPwAAAEAAAABAAAAAQAAAQEAAAIA/AAAAAAAAAEAAAIBAAACAPwAAgEAAAABAAACAQAAAQEAAAIA/AABAQAAAgD8AAKBAAABAQAAAAEAAAMBAAACAPwAAAAAAAIA/AAAAQAAAAEAAAAAAAAAAQAAAgEAAAABAAACAPwAAAEAAAIA/AACAPwAAQEAAAABAAABAQAAAAEAAAEBAAAAAQAAAAAAAAIA/AAAAAAAAgD8AAAAAAACAPwAAgD8AAABAAACAPwAAAAAAAIA/AACAPwAAAEAAAABAAACAPwAAAAAAAAAAAAAAAAAAgD8AAIA/AAAAAAAAgD8AAIBAAAAAAAAAQEAAAAAAAACAPwAAAEAAAABAAACAPwAAQEAAAABAAACAPwAAQEAAAAAAAACAPwAAAEAAAEBAAABAQAAAAEAAAABAAAAAAAAAAAAAAAAAAACAPwAAQEAAAIA/AACAPwAAgD8AAABAAABAQAAAgD8AAEBAAAAAAAAAAEAAAABAAACAPwAAAEAAAIA/AAAAQAAAAEAAAIA/AACAPwAAQEAAAEBAAAAAQAAAQEAAAEBAAABAQAAAAEAAAAAAAACgQAAAAEAAAABAAAAAQAAAQEAAAIA/AACAPwAAAAAAAABAAACAPwAAgD8AAABAAAAAQAAAAEAAAABAAACAQAAAAAAAAIA/AACAQAAAAAAAAABAAACAPwAAgEAAAIA/AAAAAAAAAAAAAIA/AABAQAAAgD8AAIBAAAAAQAAAQEAAAIA/AAAAQAAAgD8AAAAAAAAAQAAAAAAAAAAAAABAQAAAgEAAAIA/AABAQAAAAEAAAAAAAAAAAAAAAEAAAAAAAAAAQAAAQEAAAAAAAACAQAAAgD8AAMBAAAAAQAAAgD8AAIA/AADAQAAAgD8AAABAAAAAQAAAAEAAAABAAABAQAAAgEAAAIA/AACAPwAAgD8AAIA/AACAPwAAgD8AAIA/AACAPwAAgD8AAAAAAAAAQAAAgD8AAABAAAAAQAAAQEAAAIA/AAAAQAAAgD8AAIA/AABAQAAAQEAAAKBAAAAAQAAAAEAAAIA/AACgQAAAAEAAAIA/AAAAAAAAAEAAAIA/AACAQAAAgD8AAABAAAAAQAAAQEAAAAAAAAAAQAAAgD8AAIBAAAAAQAAAgEAAAAAAAAAAQAAAgD8AAAAAAACAPwAAAEAAAAAAAAAAQAAAgD8AAABAAAAAAAAAAEAAAKBAAAAAQAAAAEAAAABAAABAQAAAgD8AAIA/AACAPwAAgD8AAIA/AACAPwAAQEAAAIA/AABAQAAAAEAAAEBAAACAQAAAAAAAAAAAAACAPwAAgD8AAIA/AAAAQAAAAAAAAAAAAAAAAAAAQEAAAABAAAAAAAAAoEAAAIA/AACAPwAAgEAAAEBAAACgQAAAAEAAAABAAAAAQAAAgEAAAIA/AABAQAAAgEAAAIA/AAAAAAAAAAAAAIA/AADAQAAAAEAAAABAAAAAAAAAAAAAAAAAAACAQAAAoEAAAIA/AAAAAAAAAAAAAEBAAAAAQAAAAAAAAIBAAACAQAAAgD8AAABAAACAPwAAQEAAAIBAAABAQAAAAEAAAEBAAACAPwAAgD8AAKBAAAAAQAAAAEAAAABAAAAAAAAAAAAAAIA/AACAPwAAAAAAAABAAAAAQAAAQEAAAIA/AACAPwAAAAAAAIBAAACAPwAAAEAAAAAAAACAPwAAgD8AAEBAAAAAQAAAoEAAAABAAAAAQAAAAEAAAEBAAACAQAAAQEAAAABAAABAQAAAAEAAAIA/AAAAQAAAgD8AAKBAAACgQAAAQEAAAABAAAAAQAAAgEAAAABAAAAAAAAAgD8AAABAAABAQAAAQEAAAABAAAAAQAAAAEAAAABAAADAQAAAAAAAAABAAAAAQAAAgD8AAIA/AACAPwAAAEAAAABAAACAPwAAAEAAAAAAAAAAQAAAAEAAAEBAAADAQAAAAAAAAAAAAAAAQAAA4EAAAIA/AAAAQAAAAAAAAABAAACAPwAAgD8AAIBAAAAAAAAAAAAAAIBAAAAAQAAAAEAAAIA/AACAPwAAQEAAAEBAAABAQAAAgD8AAABAAAAAAAAAwEAAAABAAACAPwAAgD8AAIBAAABAQAAAgD8AAKBAAABAQAAAgEAAAIA/AAAAQAAAAAAAAMBAAAAAQAAAAEAAAOBAAACAPwAAgEAAAEBAAACAQAAAAAAAAEBAAACAQAAAgD8AAABAAAAAQAAAgD8AAABAAABAQAAAoEAAAABAAACAQAAAoEAAAIA/AAAAQAAAgD8AAEBAAAAAAAAAQEAAAEBAAACAPwAAgD8AAIA/AAAAAAAAAAAAAMBAAAAAQAAAgD8AAIA/AACAPwAAgD8AAAAAAAAAQAAAAEAAAEBAAACAPwAAAAAAAIBAAAAAQAAAgD8AAIA/AACAQAAAgD8AAAAAAAAAAAAAQEAAAABAAACgQAAAAAAAAABAAAAAQAAAAEAAAAAAAAAAQAAAgEAAAEBAAAAAAAAAgD8AAIA/AAAAQAAAgD8AAABAAAAAAAAAgD8AAIBAAACAPwAAgD8AAIA/AACAQAAAQEAAAIA/AAAAAAAAgD8AAIBAAAAAQAAAgD8AAAAAAABAQAAAgD8AAIA/AAAAAAAAgEAAAABAAAAAQAAAAEAAAIA/AABAQAAAoEAAAAAAAABAQAAAQEAAAEBAAADAQAAAgD8AAIA/AADgQAAAAEAAAIA/AACgQAAAAEAAAABAAACAPwAAAEAAAABAAAAAQAAAAAAAAEBAAABAQAAAwEAAAABAAABAQAAAgD8AAABAAACAPwAAgD8AAABAAABAQAAAAEAAAAAAAADgQAAAQEAAAABAAABAQAAAAEAAAEBAAABAQAAAgEAAAEBAAAAAQAAAoEAAAEBAAAAAAAAAAAAAAIA/AABAQAAAAEAAAEBAAACAPwAAAEAAAIA/AACAPwAAAAAAAABAAABAQAAAgD8AAEBAAADAQAAAQEAAAEBAAABAQAAAAEAAAABAAABAQAAAAAAAAAAAAACgQAAAAEAAAIBAAAAAQAAAgEAAAABAAAAAAAAAgD8AAIBAAAAAAAAAgD8AAIA/AADAQAAAoEAAAIA/AACAPwAAAAAAAIA/AAAAAAAAQEAAAAAAAABAQAAAQEAAAIA/AACAPwAAgD8AAIBAAAAAQAAAAEAAAEBAAACAQAAAQEAAAABAAAAAQAAAQEAAAAAAAACAPwAAAEAAAIA/AAAAAAAAgD8AAIA/AACAQAAAgD8AAABAAACAPwAAgD8AAIA/AABAQAAAoEAAAEBAAACAPwAAQEAAAIA/AACgQAAAgD8AAIA/AAAAQAAAAEAAAIBAAABAQAAAAAAAAABAAACAQAAAQEAAAIA/AAAAQAAAQEAAAEBAAABAQAAAgEAAAEBAAAAAQAAAAAAAAEBAAAAAQAAAAAAAAIA/AAAAQAAAoEAAAEBAAACAPwAAAEAAAABAAABAQAAAAAAAAAAAAAAAQAAAgD8AAIA/AACAQAAAgD8AAIBAAACAPwAAAEAAAIA/AABAQAAAoEAAAABAAAAAQAAAAEAAAIA/AACAPwAAQEAAAIBAAAAAQAAAgD8AAEBAAAAAQAAAAEAAAEBAAACAPwAAQEAAAIA/AABAQAAAQEAAAEBAAAAAQAAAQEAAAIBAAAAAAAAAQEAAAIBAAACAPwAAAEAAAIBAAABAQAAAAEAAAIBAAAAAQAAAgD8AAABAAACAPwAAQEAAAIBAAAAAQAAAgD8AAEBAAAAAQAAAQEAAAIBAAADgQAAAAEAAAIBAAACAPwAAgD8AAIBAAACAPwAAAEAAAABAAABAQAAAQEAAAEBAAAAAQAAAAEAAAABAAADgQAAAgD8AAIA/AAAAAAAAgD8AAEBAAAAAQAAAQEAAAIBAAABAQAAAwEAAAIA/AACAPwAAgEAAAIA/AACAQAAAAEAAAAAAAABAQAAAQEAAAEBAAADAQAAAAAAAAEBAAAAAAAAAAAAAAIA/AABAQAAAgD8AAEBAAAAAQAAAgEAAAEBAAACAPwAAgD8AAABAAACAPwAAoEAAAEBAAAAAAAAAAEAAAKBAAAAAQAAAQEAAAABAAACAPwAAgD8AAKBAAACgQAAAQEAAAMBAAAAAAAAAAEAAAIA/AACAPwAAAEAAAIBAAADAQAAAgEAAAABAAABAQAAAAAAAAIBAAACgQAAAAAAAAEBAAACAQAAAgD8AAIBAAACAQAAAQEAAAABAAAAAAAAAwEAAAABAAAAAQAAAAEAAAABAAAAAQAAAoEAAAIA/AACAPwAAAAAAAIBAAAAAQAAAoEAAAABAAACAPwAAAAAAAIA/AABAQAAAgEAAAIA/AAAAAAAAgEAAAIBAAAAAQAAAAEAAAIBAAAAAQAAAAAAAAABAAACAPwAAgEAAAABAAACAPwAAQEAAAEBAAACAQAAAAAAAAEBAAABAQAAAAEAAAEBAAAAAQAAAAAAAAEBAAAAAQAAAQEAAAEBAAACgQAAAQEAAAIA/AACAPwAAAEAAAIA/AABAQAAAgD8AAABAAAAAQAAAgD8AAIA/AAAAQAAAQEAAAABAAACAPwAAAAAAAABAAAAAQAAAAEAAAIA/AAAAQAAAoEAAAEBAAAAAQAAAQEAAAEBAAACAPwAAQEAAAIA/AACAPwAAAEAAAIA/AACAQAAAgEAAAIBAAAAAAAAAQEAAAEBAAABAQAAAgD8AAIA/AAAAQAAAAEAAAIA/AACAQAAAgD8AAEBAAABAQAAAgEAAAEBAAACAQAAAgEAAAIA/AAAAQAAAgD8AAEBAAAAAAAAAAEAAAIA/AACAQAAAgD8AAABAAACgQAAAAEAAAABAAABAQAAAgD8AAEBAAAAAQAAAoEAAAKBAAACAPwAAAEAAAABAAACAPwAAgD8AAABAAAAAQAAAgD8AAEBAAACAPwAAQEAAAIA/AABAQAAAwEAAAIA/AAAAQAAAAEAAAABAAABAQAAAQEAAAABAAABAQAAAQEAAAKBAAACAPwAAAEAAAIBAAAAAQAAAAAAAAABAAADAQAAAQEAAAABAAAAAQAAAgEAAAIBAAAAAQAAAgD8AAIBAAAAAQAAA4EAAAIBAAACAPwAAAEAAAIA/AAAAQAAAgEAAAKBAAAAAAAAAgEAAAABAAAAAQAAAgD8AAEBAAAAAAAAAAEAAAEBAAACAPwAAQEAAAIA/AABAQAAAAEAAAKBAAAAAQQAAgD8AAKBAAABAQAAAgEAAAKBAAAAAQAAAAEAAAIA/AAAAQAAAQEAAAAAAAACgQAAAgEAAAIBAAABAQAAAwEAAAMBAAACgQAAAAEAAAKBAAABAQAAAQEAAAMBAAAAAQAAAgEAAAAAAAACAPwAAoEAAAEBAAAAAQAAAgD8AAKBAAAAAAAAAAEAAAEBAAABAQAAAQEAAAABAAACAQAAAQEAAAEBAAAAAAAAAAEAAAABAAABAQAAAQEAAAIBAAAAAQAAAgD8AAMBAAACAQAAAQEAAAIBAAACAPwAAgEAAAIBAAAAAQAAAQEAAAEBAAACAPwAAgD8AAAAAAAAAQAAAgD8AAABAAACAQAAAAAAAAIA/AADAQAAAgEAAAABAAACAQAAAAAAAAIBAAABAQAAAgD8AAAAAAACAQAAAgD8AAMBAAACgQAAAQEAAAKBAAAAAAAAAAEAAAKBAAABAQAAAAAAAAABAAABAQAAAgEAAAEBAAACgQAAAAEAAAIBAAACAPwAAQEAAAIBAAAAAQAAAQEAAAIBAAACAPwAAQEAAAAAAAACgQAAAAEAAAABAAAAAQAAAgEAAAABAAACAQAAAAAAAAIBAAAAAAAAAgEAAAABAAACgQAAAAEAAAEBAAACgQAAAwEAAAABAAABAQAAAgEAAAEBAAABAQAAAQEAAAEBAAABAQAAAQEAAACBBAACgQAAAQEAAAIA/AADAQAAAAEAAAIBAAAAAQAAAgEAAAAAAAAAAAAAAAEAAAABAAADAQAAAgEAAAEBAAAAAQAAAQEAAAIBAAADgQAAAQEAAAEBAAACAPwAAgEAAAIA/AADAQAAAgEAAAABAAACAQAAAAEAAAIA/AAAAAAAAgD8AAIA/AACAQAAAAEAAAABAAABAQAAAAAAAAKBAAADgQAAAgEAAAABBAAAAQAAAAAAAAEBAAACAQAAAQEAAAIBAAABAQAAAAEAAAABAAAAAQAAAAAAAAABAAABAQAAAgEAAAEBAAAAAQAAAgD8AAABAAACAPwAAgD8AAKBAAABAQAAAAEAAAEBAAACAQAAAgEAAAABAAACAPwAAgEAAAIA/AACAPwAAQEAAAABAAACAPwAAAAAAAIBAAACAPwAAgEAAAABAAAAAQAAAAEAAAKBAAACAQAAAQEAAAEBAAADAQAAAgD8AAABAAACAQAAAAAAAAIA/AACAQAAAgD8AAIBAAAAAQAAAAAAAAOBAAABAQAAAQEEAAEBAAABAQAAAAEAAAEBAAADAQAAAwEAAAIA/AACAQAAAQEAAAKBAAACgQAAAwEAAAABAAACAPwAAAEAAAIA/AACAQAAAgD8AAKBAAACgQAAAAEEAAMBAAABAQAAAAEAAAAAAAACAQAAAoEAAAIBAAACgQAAAQEAAABBBAACAPwAAgEAAAIBAAABAQAAAgEAAAEBAAAAAQAAAwEAAAABAAACgQAAAQEAAAKBAAACgQAAAQEAAAABAAABAQAAAgD8AAAAAAABAQAAAgD8AAABAAABAQAAAAAAAAIA/AACgQAAAgEAAAEBAAAAAQAAAAEAAAIBAAACgQAAAAEAAAIA/AACgQAAAAEAAAIBAAACAPwAAgD8AAAAAAACAQAAAAEAAAEBAAABAQAAAQEAAAAAAAABAQAAAwEAAAEBAAADAQAAAgEAAAABAAAAAQAAAAEAAAMBAAAAAQAAAgD8AAIBAAAAAQAAAgEAAAEBAAABAQAAAgEAAAMBAAACAPwAAQEAAAIBAAACAPwAAQEAAAIBAAACAQAAAgEAAAIA/AABAQAAAAEAAAABBAAAAQAAAQEAAAABAAACgQAAAAEAAAEBAAAAAAAAAgEAAAIA/AAAAQAAAQEAAAABAAADgQAAAwEAAAABAAABAQAAAQEAAAIA/AACAPwAAgEAAAIA/AAAAAAAAoEAAAMBAAACAPwAAAEAAAIBAAADgQAAAAEAAAIA/AACAPwAAgEAAAABAAACAQAAAoEAAAABAAACgQAAAQEAAAIBAAABAQAAAQEAAAIA/AABAQAAAAEAAAABAAACAQAAAoEAAAABAAABAQAAAAEAAAKBAAABAQAAAgD8AAEBAAABAQAAAwEAAAIA/AACAQAAAgEAAAIBAAACAQAAAAEAAAIA/AAAAQAAAAEAAAABAAABAQAAA4EAAAMBAAAAAAAAAQEAAAEBAAAAAQAAAgEAAAIBAAABAQAAAwEAAAABAAAAAAAAAQEAAAEBAAACgQAAAwEAAAKBAAAAAQAAAgEAAAEBAAADgQAAAgEAAAKBAAACAPwAAAEAAAABAAAAAQAAAAEAAAKBAAACAPwAAQEAAAEBAAACAQAAAgEAAAIA/AACgQAAAQEAAAEBAAACAPwAAgEAAAAAAAACAPwAAAEAAAKBAAAAAQAAAgEAAAABAAACAQAAAAEAAAEBAAACAPwAAAEEAAEBAAAAAQAAAoEAAAIBAAAAAQQAAAEAAAEBAAAAAQAAAgEAAAEBAAAAAQAAAgD8AAABAAAAAQAAAgD8AAEBAAACAPwAAoEAAAIBAAABAQAAAAAAAAIBAAADAQAAAAEAAAEBAAAAAQAAAAEAAAMBAAACAQAAAgEAAAOBAAABAQAAAgEAAAKBAAACAPwAAgEAAAABAAACAQAAAgEAAAIBAAAAAQAAAAEAAAOBAAACAQAAAgEAAAABAAABAQAAAAEAAAIA/AACAQAAAAEAAAEBAAAAAQAAAQEAAAIBAAAAAQQAAAEEAAEBAAAAAQAAAQEAAAEBAAACgQAAAoEAAAIBAAACAQAAAQEAAAEBAAACgQAAAgEAAAMBAAACAPwAAgD8AAIA/AAAQQQAAgD8AAOBAAAAAQAAAAEEAAIBAAACAQAAAgD8AAEBAAABAQAAAQEAAAABAAABAQAAAwEAAAIBAAAAAQAAAAEAAAAAAAACAQAAAAAAAAKBAAACAQAAAwEAAAEBAAACAPwAAAEEAAKBAAADAQAAAAEAAAABAAACAPwAAgEAAAIBAAABAQAAAAEAAAMBAAABAQAAAgEAAAIBAAAAAQAAAQEAAAEBAAAAAQAAAAEAAAIA/AACAPwAAgEAAAIBAAABAQAAAQEAAAIBAAACgQAAAoEAAAIBAAACAPwAAgD8AAKBAAACAPwAAAEAAAIBAAACgQAAAgEAAAIBAAAAAQAAAAEAAAAAAAABAQAAAwEAAAIA/AAAAQAAAAAAAAIBAAAAAAAAAQEAAAIBAAACAQAAAEEEAAABAAAAAQAAAAEAAAIBAAADAQAAAgEAAAIA/AADAQAAAwEAAAIA/AADgQAAAgEAAAKBAAADgQAAAgEAAAMBAAAAwQQAAQEAAAIBAAAAAQAAAAEEAAOBAAACgQAAAgEAAAIBAAADgQAAAoEAAAABAAAAgQQAAoEAAAIBAAABAQAAAwEAAAOBAAACAPwAAwEAAAMBAAABAQAAAwEAAAKBAAACAQAAAgEAAAIA/AACAQAAAgEAAAEBAAAAAQAAAIEEAAKBAAABAQAAAoEAAAOBAAACAPwAAQEAAAABBAACAQAAAoEAAAIBAAACAQAAAAEAAAEBAAAAAQAAAAEAAAEBAAACAQAAAwEAAAIBAAADAQAAAAEAAAIBAAACAQAAA4EAAAIBAAAAAQAAAQEAAAIBAAADgQAAAgEAAAIBAAACAQAAAAEAAAKBAAABAQAAAAEAAAABAAACgQAAAgD8AAOBAAACAQAAAQEAAAEBAAABAQAAAoEAAAKBAAACAQAAAoEAAAIBAAACgQAAAQEAAAEBAAABAQAAAgEAAAMBAAABAQAAAAEAAAKBAAACAQAAA4EAAAEBAAAAAQAAAgEAAAKBAAACgQAAAAEEAABBBAADgQAAAQEAAAEBAAACAQAAAoEAAAABAAADAQAAAgEAAAKBAAACAQAAAgEAAAIBAAACAPwAAgEAAAIBAAACAPwAAwEAAAEBAAAAAQAAAAEAAAIBAAAAQQQAAoEAAAEBAAABAQAAAAEEAAIA/AACAQAAAQEAAAABAAADgQAAAQEAAAKBAAACAQAAAwEAAAABBAACgQAAAwEAAAEBAAACAQAAAMEEAAMBAAACAQAAAwEAAAEBAAADAQAAAQEAAAIBAAAAAQAAAgEAAAEBAAACAPwAAEEEAAEBAAABAQAAAgD8AAIA/AABAQAAAQEAAAKBAAADgQAAAAEAAAABAAACAPwAAoEAAAIBAAABAQAAAQEAAAEBAAAAQQQAAQEAAAIBAAADAQAAAgEAAAKBAAACAPwAAgEAAAEBAAACgQAAAgEAAAEBAAACgQAAA4EAAAIBAAABAQAAAQEAAAEBAAABAQAAAoEAAAIBAAACAPwAA4EAAAABAAADAQAAAgEAAAIBAAAAQQQAAQEAAAEBAAADAQAAAwEAAAKBAAADAQAAAIEEAAMBAAAAAQAAAAEAAACBBAACgQAAAQEAAAIBAAACgQAAAoEAAAABAAADgQAAA4EAAAEBAAADgQAAA4EAAAABBAACAQAAAAEAAAABAAACAQAAAAEEAAKBAAADgQAAAgD8AAKBAAACgQAAAoEAAAABAAAAAAAAAoEAAAEBAAAAQQQAAwEAAAABBAAAgQQAAwEAAAEBAAACAPwAAwEAAAMBAAAAAQAAAgEAAAABBAADAQAAAQEAAAIBAAACAQAAAgEAAAKBAAADAQAAA4EAAAIBAAADAQAAAQEAAACBBAACAQAAAgEAAAAAAAABAQAAAAEEAAMBAAACgQAAAoEAAAIBAAAAAQAAAEEEAAEBAAACgQAAAgEAAAMBAAAAAQAAAwEAAAIBAAACgQAAAAAAAAMBAAAAAQAAAAEEAAIBAAACgQAAAQEAAAMBAAABAQAAAQEAAAEBAAACAPwAA4EAAAKBAAADAQAAAgEAAAIBAAACAQAAAQEAAAIBAAABAQAAAoEAAAMBAAAAAQAAAIEEAACBBAACAQAAAEEEAAABAAACAPwAAAEAAAOBAAACgQAAA4EAAAKBAAADgQAAAoEAAAOBAAADgQAAAwEAAAMBAAACAQAAAgEAAAKBAAADAQAAAgEAAAEBAAAAAQAAAQEAAAEBAAAAAQAAAQEAAAOBAAAAQQQAAgEAAAEBAAAAQQQAAoEAAAABAAABAQAAAQEAAAIA/AAAAQQAAgEAAAIA/AABAQAAAwEAAAMBAAACgQAAAQEAAAEBAAACAQAAAQEAAACBBAACAPwAAAEEAAKBAAADgQAAAoEAAAEBAAAAAQAAAoEAAAOBAAADAQAAAAEEAADBBAABAQAAAEEEAAMBAAABAQAAA4EAAAEBAAADgQAAAoEAAAIBAAAAAQQAAgEAAAMBAAABAQAAAgD8AAABBAABAQAAAoEAAAABBAADgQAAAoEAAAKBAAACAQAAA4EAAAOBAAABAQAAAwEAAAMBAAACgQAAA4EAAAIBAAAAAQQAAoEAAAOBAAACAQAAAoEAAACBBAACgQAAAwEAAAIBAAACgQAAAoEAAAEBAAACgQAAAQEAAADBBAAAAQAAAAEAAAABAAACgQAAAoEAAAIBAAAAAQQAAoEAAAOBAAADgQAAAgEAAAIBAAAAQQQAAgD8AAABBAADgQAAAIEEAAMBAAAAAQAAA4EAAAEBAAABAQAAAoEAAAKBAAAAQQQAAAEEAAOBAAACgQAAAIEEAAIBAAABAQAAAAEAAAKBAAADgQAAAIEEAAMBAAAAgQQAAwEAAAABAAAAQQQAAwEAAAABBAAAAQQAAoEAAAMBAAACAQAAAAEEAAOBAAADgQAAAgD8AAOBAAADgQAAA4EAAAABBAACAQAAAQEAAAMBAAAAAQAAAoEAAAKBAAAAAQAAAoEAAAOBAAADgQAAAAEAAAKBAAADgQAAAQEAAAMBAAACAQAAAoEAAAEBAAAAQQQAAAEAAAIBAAACgQAAAwEAAAKBAAADgQAAAgEAAAOBAAACgQAAAEEEAABBBAACAQAAAQEAAAKBAAADgQAAAgEAAAEBAAABAQAAA4EAAAMBAAADgQAAAoEAAAIA/AACAQAAAQEAAAKBAAACAQAAAgD8AAIBAAAAAQAAAMEEAAOBAAACgQAAAAEEAAMBAAAAAQAAAIEEAAMBAAACAQAAAwEAAAIBAAADAQAAA4EAAAMBAAACgQAAAEEEAADBBAACgQAAAMEEAABBBAADgQAAAQEEAAOBAAABAQAAAEEEAAKBAAACAQAAAoEAAAMBAAAAgQQAA4EAAAABAAAAwQQAAgEAAAMBAAADgQAAAgEAAAIBAAABAQQAAAEEAADBBAADgQAAAAEEAABBBAADgQAAAAEEAABBBAACgQAAAQEAAAMBAAACgQAAA4EAAAIBAAADgQAAAMEEAAMBAAAAwQQAAEEEAACBBAADgQAAAQEAAABBBAAAwQQAAwEAAAIBAAACAQAAAgEAAAOBAAADAQAAAQEEAAMBAAACgQAAAwEAAAMBAAAAAQQAAUEEAAKBAAAAwQQAAMEEAAIBAAAAQQQAAgEAAAKBAAAAQQQAAEEEAAOBAAAAQQQAAEEEAADBBAAAAQQAAAEEAAMBAAACAQQAAAEEAAIA/AAAQQQAAAEEAABBBAADgQAAAEEEAAMBAAACgQAAAwEAAAABBAACgQAAAMEEAAMBAAAAAQQAAAEEAAIBAAABAQQAAoEAAAEBAAAAgQQAAwEAAAMBAAACgQAAAEEEAAABBAADgQAAAAEEAAABBAAAAQQAAwEAAAABBAADgQAAA4EAAAABBAABQQQAAQEEAAKBAAAAwQQAAwEAAADBBAADgQAAA4EAAACBBAABAQAAAgEAAAMBAAACgQAAAEEEAAOBAAAAAQQAAQEEAABBBAAAgQQAAAEEAADBBAADAQAAAwEAAAMBAAABAQAAAgEAAAEBBAAAAQQAAEEEAADBBAAAAAAAAoEAAAMBAAACgQAAAwEAAABBBAADAQAAAwEAAAMBAAADgQAAAAEEAABBBAACAQAAAEEEAAMBAAAAAQQAAoEAAAIBAAAAQQQAAoEAAAABBAAAAQQAAwEAAAKBAAAAAQQAAQEEAAOBAAAAwQQAA4EAAAKBAAADAQAAAwEAAAMBAAAAQQQAAwEAAAKBAAAAAQQAAoEAAAOBAAAAwQQAAoEAAAOBAAABgQQAAIEEAAABBAABAQQAAIEEAADBBAABAQQAAoEAAADBBAAAQQQAAEEEAABBBAACgQAAAMEEAAIBAAAAgQQAAIEEAABBBAAAQQQAAIEEAABBBAAAAQQAA4EAAABBBAACAQQAAwEAAACBBAACAQQAA4EAAAEBBAAAgQQAAIEEAACBBAABAQQAAEEEAAEBBAABAQQAAQEEAABBBAAAAQQAAEEEAAGBBAAAwQQAAUEEAAIhBAAAQQQAAMEEAAABBAABgQQAAQEEAAIBAAAAwQQAAoEAAAJhBAADAQAAAmEEAAFBBAABAQQAAmEEAAGBBAABQQQAAMEEAACBBAAAwQQAAwEAAAEBBAAAQQQAAoEAAAGBBAAAgQQAAMEEAAABBAAAQQQAAMEEAAEBBAACAQQAA4EAAACBBAABAQQAAwEAAAEBBAADgQAAAYEEAAHBBAAAQQQAAcEEAAJhBAAAQQQAAoEAAACBBAAAwQQAAIEEAAFBBAADAQAAAwEAAAGBBAABgQQAAcEEAAIBAAABgQQAA4EAAAOBAAABQQQAAUEEAAKBAAACgQAAAYEEAAGBBAABQQQAA4EAAABBBAAAAQQAAEEEAAGBBAADgQAAAEEEAADBBAAAgQQAA4EAAAMBAAACIQQAAAEEAAABBAAAgQQAAEEEAAABBAABAQQAAMEEAAEBBAABwQQAAEEEAABBBAAAgQQAA4EAAAIBBAAAAQQAAQEEAABBBAAAQQQAAMEEAAOBAAAAgQQAAQEEAABBBAABAQQAAUEEAAFBBAABAQQAAIEEAAEBAAABAQQAAIEEAADBBAABgQQAAAEEAAHBBAAAAQQAAUEEAAABBAAAgQQAAQEEAAOBAAADgQAAAoEAAAKBAAADgQAAAEEEAAMBAAACIQQAAAEEAADBBAABQQQAAMEEAABBBAAAAQQAAgEEAAGBBAAAAQQAAQEEAAOBAAACIQQAAgEEAAOBBAACwQQAAYEEAAIhBAACIQQAAgEEAAIhBAACgQQAAqEEAAEBBAACAQQAAqEEAANhBAACwQQAAgEEAAJBBAABQQQAAmEEAALhBAABgQQAAmEEAAIhBAAAwQQAAYEEAAKBBAACAQQAAYEEAALBBAAAwQQAAwEEAAGBBAACIQQAAyEEAAIBBAACIQQAAiEEAAKhBAAC4QQAAqEEAAJhBAACoQQAAAEIAAKhBAABwQQAAsEEAAJBBAAAwQQAAqEEAAEBBAADAQQAAmEEAAIhBAACoQQAAwEEAAHBBAACQQQAAoEEAAOBBAAAwQQAAgEEAAIBBAAAMQgAA2EEAAIBBAACQQQAAgEEAAJhBAACYQQAAgEEAAJBBAADAQQAAkEEAAMhBAACgQQAAmEEAAKBBAABgQQAAsEEAAFBBAACAQQAAkEEAAEBBAACAQQAAyEEAALBBAABgQQAAoEEAAMBBAACQQQAAQEEAAGBBAACQQQAAmEEAANhBAACgQQAAgEEAAJBBAACwQQAAiEEAAIhBAACoQQAAgEEAALBBAACgQQAAoEEAAMBBAACwQQAAUEEAAKBBAABwQQAAUEEAALBBAABwQQAAkEEAAPhBAACgQQAAiEEAAOBBAABwQQAAEEEAAIhBAACQQQAAyEEAAKBBAABwQQAAkEEAAPBBAAC4QQAAcEEAAEBBAACoQQAAqEEAAMhBAACYQQAA0EEAAIBBAABgQQAAQEEAAKhBAACYQQAAiEEAAKhBAABwQQAAoEEAAIhBAACYQQAAFEIAAJBBAABAQQAAmEEAAMBBAABQQQAAkEEAAKhBAABwQQAAkEEAAKhBAACYQQAAoEEAAIBBAABwQQAAqEEAAMBBAACgQQAAwEEAAIBBAACoQQAAiEEAAHBBAAAgQQAAkEEAAIBBAACQQQAAAEEAAHBBAADgQQAAsEEAAFBBAACAQAAAQEAAABBBAAAQQQAAgEAAAABAAACAQAAAgEAAAIBAAADgQAAAAEAAAMBAAADgQAAAgEAAAEBBAAAwQQAAwEAAAOBAAAAgQQAA4EAAAOBAAADAQAAAwEAAAABBAADAQAAAgEAAAEBBAACAQAAAwEAAAABBAADAQAAAwEAAABBBAACgQAAAMEEAAMBAAAAgQQAAAEEAABBBAADAQAAAAEEAABBBAAAAQQAAAEAAAABBAAAQQQAA4EAAAOBAAACAQQAAoEAAAMBAAABAQQAAIEEAADBBAACAQAAAwEAAAOBAAACAQAAAQEAAAMBAAACgQAAAAEEAAIBAAABAQQAAAEEAAOBAAACgQAAAQEEAAABBAADgQAAAwEAAADBBAADAQAAAMEEAABBBAACAQAAAEEEAAGBBAADgQAAAEEEAAIBAAABAQAAAwEAAAKBAAACAQAAAoEAAACBBAAAwQQAAEEEAAOBAAACgQAAAgD8AAEBBAAAQQQAA4EAAAKBAAACgQAAAEEEAAEBAAADAQAAA4EAAACBBAAAAQQAAIEEAAHBBAAAAQQAA4EAAABBBAADAQAAAwEAAAABBAACgQAAAgEAAABBBAAAAQQAAQEEAAKBAAADgQAAAwEAAACBBAACAQQAAwEAAAEBBAADAQAAAoEAAAKBAAABAQAAAgD8AAKBAAAAgQQAAoEAAAMBAAAAAQQAAAEEAAEBBAADgQAAA4EAAAIBAAADAQAAAoEAAAABAAAAwQQAA4EAAAEBAAAAAQQAAAEEAAABBAABAQAAA4EAAAKBAAAAAQQAAIEEAAMBAAABQQQAAoEAAAOBAAADAQAAAIEEAAOBAAAAwQQAAEEEAABBBAADgQAAAwEAAAMBAAAAAQQAAwEAAAIBAAAAwQQAAoEAAAABBAADAQAAAIEEAAIBAAAAAQQAAoEAAAMBAAACgQAAAEEEAAABBAACAPwAAQEAAAMBAAACgQAAAgD8AAIA/AAAAQAAAoEAAAAAAAACAPwAAgEAAAEBAAAAAQAAAQEAAAABAAACAPwAAgD8AAABAAACAQAAAAEAAAEBAAACAPwAAwEAAAMBAAACgQAAAQEAAAAAAAAAAQAAAAEAAAIA/AACAPwAAQEAAAIBAAAAAQAAAQEAAAEBAAACgQAAAQEAAAABAAACAPwAAgEAAAABAAACgQAAAAEAAAABAAACAPwAAwEAAAMBAAAAAQAAAAAAAAIA/AAAAAAAAAEAAAAAAAACAPwAAAAAAAKBAAACAQAAAgEAAAABAAACAQAAAQEAAAEBAAACAPwAAQEAAAIA/AAAAQAAAwEAAAKBAAAAAQAAAAAAAAAAAAACAQAAAgD8AAABAAACAPwAAgD8AAABAAAAAQAAAQEAAAEBAAAAAQAAAgD8AAEBAAAAAQAAAgEAAAEBAAACAPwAAQEAAAMBAAACAPwAAQEAAAAAAAABAQAAAgEAAAIA/AABAQAAAAEAAAIA/AACAPwAAAEAAAKBAAABAQAAAgEAAAIA/AACAPwAAQEAAAAAAAACAPwAAQEAAAAAAAAAAQAAAAEAAAIA/AAAAQAAAwEAAAAAAAADgQAAAgD8AAIA/AACAPwAAgD8AAIA/AACAQAAAgEAAAKBAAAAAQAAAQEAAAABAAAAAQAAAQEAAAIBAAABAQAAAQEAAAKBAAADgQAAAAEAAAAAAAAAAAAAAAEAAAAAAAACAQAAAoEAAAEBAAACAPwAAAEAAAIA/AAAAQAAAQEAAAIA/AAAAAAAAAAAAAIA/AABAQAAAAEAAAABAAABAQAAAAAAAAMBAAAAAAAAAgEAAAIBAAAAAQAAAgD8AAEBAAABAQAAAAEAAAEBAAACgQAAAQEAAAIA/AABAQAAAAEAAAEBAAACAPwAAgEAAAKBAAABAQAAAgEAAAEBAAAAAQAAAAEAAAEBAAAAAAAAAAAAAAIA/AAAAQAAAAAAAAIA/AACAPwAAAAAAAIA/AACAPwAAgD8AAABAAABAQAAAgD8AAABAAAAAQAAAQEAAAABAAACAPwAAgEAAAIA/AACAPwAAgD8AAIA/AACAPwAAAEAAAIA/AAAAQAAAAAAAAAAAAACAPwAAgD8AAIBAAACAPwAAAEAAAIA/AACAPwAAAAAAAAAAAABAQAAAAEAAAAAAAAAAAAAAAAAAAABAAAAAAAAAAEAAAEBAAAAAAAAAAAAAAABAAAAAQAAAgD8AAIA/AAAAAAAAgD8AAIA/AABAQAAAgD8AAIA/AACAPwAAAEAAAAAAAAAAAAAAAAAAAABAAAAAAAAAAAAAAIA/AACAPwAAAEAAAAAAAACAPwAAAAAAAAAAAACgQAAAAAAAAIBAAAAAQAAAgD8AAAAAAACAPwAAAAAAAIA/AAAAAAAAAAAAAIA/AAAAAAAAgD8AAAAAAACAQAAAQEAAAIA/AAAAAAAAgD8AAEBAAAAAQAAAgD8AAAAAAABAQAAAAAAAAABAAAAAAAAAAAAAAIA/AAAAAAAAgD8AAIA/AAAAAAAAAEAAAAAAAAAAAAAAAAAAAABAAACAPwAAgD8AAAAAAAAAQAAAgD8AAIBAAACAQAAAgD8AAABAAAAAAAAAAAAAAIA/AABAQAAAgD8AAIA/AAAAQAAAAAAAAAAAAAAAAAAAgD8AAAAAAAAAAAAAAEAAAIA/AACAPwAAAAAAAABAAAAAQAAAgD8AAABAAAAAQAAAgD8AAIA/AACAPwAAgD8AAABAAACAPwAAAEAAAAAAAABAQAAAQEAAAAAAAACAPwAAoEAAAIA/AAAAQAAAgD8AAIA/AAAAQAAAgD8AAAAAAAAAAAAAgD8AAAAAAAAAQAAAgD8AAAAAAABAQAAAAEAAAAAAAAAAAAAAgD8AAABAAAAAAAAAgD8AAABAAACAPwAAAAAAAAAAAAAAAAAAAAAAAAAAAAAAAAAAgD8AAAAAAAAAAAAAAEAAAIA/AACAPwAAAAAAAIA/AAAAAAAAgD8AAAAAAAAAAAAAgD8AAAAAAAAAAAAAAAAAAIA/AAAAAAAAgD8AAIA/AAAAAAAAgD8AAIA/AACAPwAAgD8AAAAAAAAAQAAAAAAAAAAAAAAAQAAAAAAAAAAAAAAAAAAAAAAAAIA/AAAAAAAAAAAAAAAAAAAAAAAAgD8AAAAAAAAAAAAAAAAAAAAAAAAAAAAAgD8AAIA/AAAAAAAAAAAAAIA/AAAAAAAAAAAAAIA/AAAAAAAAAEAAAIA/AAAAAAAAAAAAAAAAAABAQAAAAEAAAIA/AACAPwAAgD8AAIA/AACAPwAAAAAAAAAAAAAAAAAAAAAAAAAAAAAAAAAAAAAAAIA/AACAPwAAgD8AAAAAAACAPwAAgD8AAIA/AAAAAAAAAAAAAIA/AACAPwAAgD8AAIA/AAAAAAAAAAAAAAAAAAAAAAAAAAAAAABAAACAPwAAAAAAAIA/AAAAAAAAAAAAAIA/AABAQAAAAAAAAAAAAAAAAAAAAAAAAAAAAAAAAAAAAEAAAAAAAAAAAAAAAAAAAAAAAACAPwAAgD8AAIA/AAAAAAAAAEAAAIA/AACAPwAAAAAAAAAAAAAAAAAAAAAAAABAAACAPwAAgD8AAAAAAAAAAAAAgD8AAAAAAAAAAAAAAAAAAAAAAAAAAAAAAAAAAAAAAAAAAAAAAAAAAAAAAACAPwAAAEAAAIA/AACAPwAAgD8AAIA/AAAAAAAAAAAAAABAAAAAQAAAAAAAAIA/AAAAAAAAAAAAAIA/AAAAAAAAAAAAAAAAAACAPwAAgD8AAAAAAABAQAAAAAAAAIA/AACAPwAAgD8AAAAAAAAAAAAAAAAAAAAAAAAAAAAAAEAAAIA/AACAPwAAAAAAAAAAAAAAAAAAAAAAAAAAAAAAAAAAAEAAAAAAAAAAAAAAgD8AAIA/AACAPwAAAAAAAAAAAAAAAAAAAAAAAAAAAAAAAAAAAAAAAAAAAAAAAAAAAAAAAAAAAACAPwAAgD8AAAAAAAAAAAAAAAAAAAAAAAAAAAAAAAAAAAAAAAAAAAAAAAAAAAAAAACAPwAAAAAAAIA/AAAAAAAAAAAAAAAAAACAPwAAAAAAAAAAAAAAAAAAAAAAAIA/AAAAAAAAAAAAAAAAAACAPwAAAAAAAAAAAAAAAAAAAAAAAAAAAACAPwAAgD8AAIA/AAAAAAAAAAAAAAAAAACAPwAAAAAAAAAAAAAAAAAAAAAAAAAAAACAPwAAAAAAAAAAAAAAAAAAAAAAAAAAAAAAAAAAAAAAAAAAAAAAAAAAAAAAAAAAAAAAAAAAgD8AAAAAAAAAAAAAAAAAAAAAAACAPwAAgD8AAIA/AAAAAAAAgD8AAIA/AAAAAAAAAAAAAAAAAAAAAAAAAAAAAAAAAAAAAAAAAAAAAAAAAACAPwAAAAAAAAAAAAAAAAAAAAAAAAAAAAAAAAAAAAAAAIA/AAAAAAAAgD8AAAAAAAAAAAAAAAAAAAAAAAAAAAAAgD8AAAAAAAAAAAAAAAAAAIA/AAAAQAAAAAAAAIA/AAAAAAAAAEAAAAAAAAAAAAAAgD8AAAAAAAAAAAAAAAAAAAAAAAAAAAAAAAAAAAAAAAAAAAAAgD8AAAAAAAAAAAAAAAAAAAAAAACAPwAAAAAAAAAAAAAAAAAAAAAAAIA/AAAAAAAAAAAAAAAAAACAPwAAAAAAAAAAAABAQAAAAAAAAAAAAAAAAAAAAAAAAAAAAAAAAAAAAAAAAAAAAAAAAAAAAAAAAIA/AAAAAAAAgD8AAAAAAAAAAAAAgD8AAAAAAAAAAAAAgD8AAAAAAAAAAAAAAAAAAAAAAAAAAAAAAAAAAAAAAAAAAAAAAAAAAAAAAAAAAAAAAAAAAAAAAAAAAAAAAAAAAAAAAAAAAAAAAAAAAAAAAACAPwAAAAAAAAAAAAAAAAAAAAAAAAAAAAAAAAAAgD8AAAAAAAAAAAAAAAAAAAAAAAAAAAAAAAAAAIA/AAAAAAAAAAAAAAAAAACAPwAAAAAAAIA/AAAAAAAAAAAAAAAAAAAAAAAAAAAAAIA/AAAAAAAAAAAAAAAAAAAAAAAAAAAAAAAAAAAAAAAAgD8AAAAAAAAAAAAAAAAAAIA/AAAAAAAAAAAAAIA/AACAPwAAAAAAAAAAAAAAAAAAgD8AAAAAAAAAAAAAgD8AAAAAAAAAAAAAgD8AAAAAAAAAAAAAgD8AAAAAAAAAAAAAAAAAAAAAAAAAAAAAAAAAAAAAAAAAAAAAAAAAAAAAAAAAAAAAgD8AAAAAAAAAAAAAAAAAAAAAAACAPwAAAAAAAAAAAAAAAAAAAAAAAAAAAAAAAAAAAAAAAAAAAAAAAAAAAAAAAAAAAAAAAAAAAAAAAAAAAAAAAAAAAAAAAAAAAAAAAAAAAAAAAAAAAAAAAAAAAAAAAAAAAAAAAAAAAAAAAAAAAAAAAAAAAAAAAIA/AAAAAAAAAAAAAAAAAAAAAAAAAAAAAAAAAAAAAAAAAAAAAAAAAAAAAAAAAAAAAAAAAAAAAAAAAAAAAAAAAAAAAAAAAAAAAIA/AAAAAAAAAAAAAAAAAAAAAAAAAAAAAAAAAACAPwAAAAAAAIA/AAAAAAAAAAAAAAAAAAAAAAAAgD8AAAAAAAAAAAAAAAAAAAAAAAAAAAAAAAAAAAAAAAAAAAAAAAAAAAAAAAAAAAAAAAAAAAAAAAAAAAAAAAAAAAAAAAAAAAAAAAAAAAAAAAAAAAAAAAAAAAAAAAAAAAAAAAAAAAAAAAAAAAAAAAAAAAAAAAAAAAAAAAAAAAAAAAAAAAAAAAAAAAAAAAAAAAAAAAAAAAAAAAAAAAAAAAAAAAAAAAAAAAAAAAAAAAAAAAAAAAAAAAAAAAAAAAAAAAAAAAAAAAAAAAAAAAAAAAAAAAAAAAAAAAAAAAAAAAAAAAAAAAAAgD8AAAAAAAAAAAAAAAAAAAAAAAAAAAAAAAAAAAAAAAAAAAAAAAAAAAAAAAAAAAAAAAAAAAAAAAAAAAAAAAAAAAAAAAAAAAAAAAAAAAAAAAAAAAAAAAAAAAAAAAAAAAAAAAAAAAAAAAAAAAAAAAAAAAAAAAAAAAAAAAAAAAAAAAAAAAAAAAAAAAAAAAAAAAAAAAAAAAAAAAAAAAAAAAAAAAAAAAAAAAAAAAAAAAAAAAAAAAAAAAAAAAAAAAAAAAAAAAAAAIA/AAAAAAAAAAAAAAAAAAAAAAAAAAAAAAAAAAAAAAAAAAAAAAAAAAAAAAAAAAAAAAAAAAAAAAAAAAAAAAAAAAAAAAAAAAAAAAAAAAAAAAAAAAAAAAAAAACAPwAAAAAAAAAAAACAPwAAAAAAAAAAAAAAAAAAAAAAAAAAAAAAAAAAgD8AAAAAAAAAAAAAAAAAAAAAAAAAAAAAAAAAAAAAAAAAAAAAAAAAAAAAAAAAAAAAgD8AAAAAAAAAAAAAAAAAAAAAAAAAAAAAAAAAAAAAAAAAAAAAAAAAAAAAAAAAAAAAAAAAAAAAAAAAAAAAAAAAAAAAAAAAAAAAAAAAAAAAAAAAAAAAAAAAAAAAAAAAAAAAAAAAAAAAAAAAAAAAAAAAAAAAAAAAAAAAAAAAAAAAAAAAAAAAAAAAAAAAAACAPwAAAAAAAAAAAAAAAAAAAAAAAAAAAAAAAAAAAAAAAAAAAAAAAAAAAAAAAAAAAAAAAAAAAAAAAIA/AAAAAAAAAAAAAAAAAAAAAAAAAAAAAAAAAAAAAAAAAAAAAAAAAAAAAAAAAAAAAAAAAAAAAAAAAAAAAAAAAAAAAAAAAAAAAAAAAAAAAAAAAAAAAAAAAAAAAAAAAAAAAAAAAAAAAAAAAAAAAAAAAAAAAAAAAAAAAAAAAAAAAAAAAAAAAAAAAAAAAAAAAAAAAAAAAAAAAAAAgD8AAAAAAAAAAAAAAAAAAAAAAAAAAAAAAAAAAAAAAAAAAAAAAAAAAAAAAAAAAAAAAAAAAAAAAAAAAAAAAAAAAAAAAAAAAAAAAAAAAAAAAAAAAAAAAAAAAAAAAAAAAAAAAAAAAAAAAAAAAAAAAAAAAAAAAAAAAAAAAAAAAAAAAAAAAAAAAAAAAAAAAAAAAAAAAAAAAAAAAAAAAAAAAAAAAAAAAAAAAAAAAAAAAAAAAAAAAAAAAAAAAAAAAAAAAAAAAAAAAAAAAAAAAAAAAAAAAAAAAAAAAAAAAAAAAAAAAAAAAAAAAAAAAAAAAAAAAAAAAAAAAAAAAAAAAAAAAAAAAAAAAAAAAAAAAAAAAAAAAAAAAAAAAAAAAAAAAAAAAAAAAAAAAAAAAAAAAAAAAAAAAAAAAAAAAAAAAAAAAAAAAAAAAAAAAAAAAAAAAAAAAAAAAAAAAAAAAAAAAAAAAAAAAAAAAAAAAAAAAAAAAAAAAAAAAAAAAAAAAAAAAAAAAAAAAAAAAAAAAAAAAAAAAAAAAAAAAAAAAAAAAAAAAAAAAAAAAAAAAAAAAAAAAAAAAAAAAAAAAAAAAAAAAAAAAAAAAAAAAAAAAAAAAAAAAAAAAAAAAAAAAAAAAAAAAAAAAAAAAAAAAAAAAAAAAAAAAAAAAAAAAAAAAAAAAAAAAAAAAAAAAAAAAAAAAAAAAAAAAAAAAAAAAAAAAAAAAAAAAAAAAAAAAAAAAAAAAAAAAAAAAAAAAAAAAAAAAAAAAAAAAAAAAAAAAAAAAAAAAAAAAAAAAAAAAAAAAAAAAAAAAAAAAAAAAAAAAAAAAAAAAAAAAAAAAAAAAAAAAAAAAAAAAAAAAAAAAAAAAAAAAAAAAAAAAAAAAAAAAAAAAAAAAAAAAAAAAAAAAAAAAAAAAAAAAAAAAAAAAAAAAAAAAAAAAAAAAAAAAAAAAAAAAAAAAAAAAAAAAAAAAAAAAAAAAAAAAAAAAAAAAAAAAAAAAAAAAAAAAAAAAAAAAAAAAAAAAAAAAAAAAAAAAAAAAAAAAAAAAAAAAAAAAAAAAAAAAAAAAAAAAAAAAAAAAAAAAAAAAAAAAAAAAAAAAAAAAAAAAAAAAAAAAAAAAAAAAAAAAAAAAAAAAAAAAAAAAAAAAAAAAAAAAAAAAAAAAAAAAAAAAAAAAAAAAAAAAAAAAAAAAAAAAAAAAAAAAAAAAAAAAAAAAAAAAAAAAAAAAAAAAAAAAAAAAAAAAIA/AAAAAAAAAAAAAAAAAAAAAAAAAAAAAAAAAAAAAAAAAAAAAAAAAAAAAAAAAAAAAAAAAAAAAAAAAAAAAAAAAAAAAAAAAAAAAAAAAAAAAAAAAAAAAAAAAAAAAAAAAAAAAAAAAAAAAAAAAAAAAAAAAAAAAAAAAAAAAAAAAAAAAAAAAAAAAAAAAAAAAAAAAAAAAAAAAAAAAAAAAAAAAAAAAAAAAAAAAAAAAAAAAAAAAAAAAAAAAAAAAAAAAAAAAAAAAAAAAAAAAAAAAAAAAAAAAAAAAAAAAAAAAAAAAAAAAAAAAAAAAAAAAAAAAAAAAAAAAAAAAAAAAAAAAAAAAAAAAAAAAAAAAAAAAAAAAAAAAAAAAAAAAAAAAAAAAAAAAAAAAAAAAAAAAAAAAAAAAAAAAAAAAAAAAAAAAAAAAAAAAAAAAAAAAAAAAAAAAAAAAAAAAAAAAAAAAAAAAAAAAAAAAAAAAAAAAAAAAAAAAAAAAAAAAAAAAAAAAAAAAAAAAAAAAAAAAAAAAAAAAAAAAAAAAAAAAAAAAAAAAAAAAAAAAAAAAAAAAAAAAAAAAAAAAAAAAAAAAAAAAAAAAAAAAAAAAAAAAAAAAAAAAAAAAAAAAAAAAAAAAAAAAAAAAAAAAAAAAAAAAAAAAAAAAAAAAAAAAAAAAAAAAAAAAAAAAAAAAAAAAAAAAAAAAAAAAAAAAAAAAAAAAAAAAAAAAAAAAAAAAAAAAAAAAAAAAAAAAAAAAAAAAAAAAAAAAAAAAAAAAAAAAAAAAAAAAAAAAAAAAAAAAAAAAAAAAAAAAAAAAAAAAAAAAAAAAAAAAAAAAAAAAAAAAAAAAAAAAAAAAAAAAAAAAAAAAAAAAAAAAAAAAAAAAAAAAAAAAAAAAAAAAAAAAAAAAAAAAAAAAAAAAAAAAAAAAAAAAAAAAAAAAAAAAAAAAAAAAAAAAAAAAAAAAAAAAAAAAAAAAAAAAAAAAAAAAAAAAAAAAAAAAAAAAAAAAAAAAAAAAAAAAAAAAAAAAAAAAAAAAAAAAAAAAAAAAAAAAAAAAAAAAAAAAAAAAAAAAAAAAAAAAAAAAAAAAAAAAAAAAAAAAAAAAAAAAAAAAAAAAAAAAAAAAAAAAAAAAAAAAAAAAAAAAAAAAAAAAAAAAAAAAAAAAAAAAAAAAAAAAAAAAAAAAAAAAAAAAAAAAAAAAAAAAAAAAAAAAAAAAAAAAAAAAAAAAAAAAAAAAAAAAAAAAAAAAAAAAAAAAAAAAAAAAAAAAAAAAAAAAAAAAAAAAAAAAAAAAAAAAAAAAAAAAAAAAAAAAAAAAAAAAAAAAAAAAAAAAAAAAAAAAAAAAAAAAAAAAAAAAAAAAAAAAAAAAAAAAAAAAAAAAAAAAAAAAAAAAAAAAAAAAAAAAAAAAAAAAAAAAAAAAAAAAAAAAAAAAAAAAAAAAAAAAAAAAAAAAAAAAAAAAAAAAAAAAAAAAAAAAAAAAAAAAAAAAAAAAAAAAAAAAAAAAAAAAAAAAAAAAAAAAAAAAAAAAAAAAAAAAAAAAAAAAAAAAAAAAAAAAAAAAAAAAAAAAAAAAAAAAAAAAAAAAAAAAAAAAAAAAAAAAAAAAAAAAAAAAAAAAAAAAAAAAAAAAAAAAAAAAAAAAAAAAAAAAAAAAAAAAAAAAAAAAAAAAAAAAAAAAAAAAAAAAAAAAAAAAAAAAAAAAAAAAAAAAAAAAAAAAAAAAAAAAAAAAAAAAAAAAAAAAAAAAAAAAAAAAAAAAAAAAAAAAAAAAAAAAAAAAAAAAAAAAAAAAAAAAAAAAAAAAAAAAAAAAAAAAAAAAAAAAAAAAAAAAAAAAAAAAAAAAAAAAAAAAAAAAAAAAAAAAAAAAAAAAAAAAAAAAAAAAAAAAAAAAAAAAAAAAAAAAAAAAAAAAAAAAAAAAAAAAAAAAAAAAAAAAAAAAAAAAAAAAAAAAAAAAAAAAAAAAAAAAAAAAAAAAAAAAAAAAAAAAAAAAAAAAAAAAAAAAAAAAAAAAAAAAAAAAAAAAAAAAAAAAAAAAAAAAAAAAAAAAAAAAAAAAAAAAAAAAAAAAAAAAAAAAAAAAAAAAAAAAAAAAAAAAAAAAAAAAAAAAAAAAAAAAAAAAAAAAAAAAAAAAAAAAAAAAAAAAAAAAAAAAAAAAAAAAAAAAAAAAAAAAAAAAAAAAAAAAAAAAAAAAAAAAAAAAAAAAAAAAAAAAAAAAAAAAAAAAAAAAAAAAAAAAAAAAAAAAAAAAAAAAAAAAAAAAAAAAAAAAAAAAAAAAAAAAAAAAAAAAAAAAAAAAAAAAAAAAAAAAAAAAAAAAAAAAAAAAAAAAAAAAAAAAAAAAAAAAAAAAAAAAAAAAAAAAAAAAAAAAAAAAAAAAAAAAAAAAAAAAAAAAAAAAAAAAAAAAAAAAAAAAAAAAAAAAAAAAAAAAAAAAAAAAAAAAAAAAAAAAAAAAAAAAAAAAAAAAAAAAAAAAAAAAAAAAAAAAAAAAAAAAAAAAAAAAAAAAAAAAAAAAAAAAAAAAAAAAAAAAAAAAAAAAAAAAAAAAAAAAAAAAAAAAAAAAAAAAAAAAAAAAAAAAAAAAAAAAAAAAAAAAAAAAAAAAAAAAAAAAAAAAAAAAAAAAAAAAAAAAAAAAAAAAAAAAAAAAAAAAAAAAAAAAAAAAAAAAAAAAAAAAAAAAAAAAAAAAAAAAAAAAAAAAAAAAAAAAAAAAAAAAAAAAAAAAAAAAAAAAAAAAAAAAAAAAAAAAAAAAAAAAAAAAAAAAAAAAAAAAAAAAAAAAAAAAAAAAAAAAAAAAAAAAAAAAAAAAAAAAAAAAAAAAAAAAAAAAAAAAAAAAAAAAAAAAAAAAAAAAAAAAAAAAAAAAAAAAAAAAAAAAAAAAAAAAAAAAAAAAAAAAAAAAAAAAAAAAAAAAAAAAAAAAAAAAAAAAAAAAAAAAAAAAAAAAAAAAAAAAAAAAAAAAAAAAAAAAAAAAAAAAAAAAAAAAAAAAAAAAAAAAAAAAAAAAAAAAAAAAAAAAAAAAAAAAAAAAAAAAAAAAAAAAAAAAAAAAAAAAAAAAAAAAAAAAAAAAAAAAAAAAAAAAAAAAAAAAAAAAAAAAAAAAAAAAAAAAAAAAAAAAAAAAAAAAAAAAAAAAAAAAAAAAAAAAAAAAAAAAAAAAAAAAAAAAAAAAAAAAAAAAAAAAAAAAAAAAAAAAAAAAAAAAAAAAAAAAAAAAAAAAAAAAAAAAAAAAAAAAAAAAAAAAAAAAAAAAAAAAAAAAAAAAAAAAAAAAAAAAAAAAAAAAAAAAAAAAAAAAAAAAAAAAAAAAAAAAAAAAAAAAAAAAAAAAAAAAAAAAAAAAAAAAAAAAAAAAAAAAAAAAAAAAAAAAAAAAAAAAAAAAAAAAAAAAAAAAAAAAAAAAAAAAAAAAAAAAAAAAAAAAAAAAAAAAAAAAAAAAAAAAAAAAAAAAAAAAAAAAAAAAAAAAAAAAAAAAAAAAAAAAAAAAAAAAAAAAAAAAAAAAAAAAAAAAAAAAAAAAAAAAAAAAAAAAAAAAAAAAAAAAAAAAAAAAAAAAAAAAAAAAAAAAAAAAAAAAAAAAAAAAAAAAAAAAAAAAAAAAAAAAAAAAAAAAAAAAAAAAAAAAAAAAAAAAAAAAAAAAAAAAAAAAAAAAAAAAAAAAAAAAAAAAAAAAAAAAAAAAAAAAAAAAAAAAAAAAAAAAAAAAAAAAAAAAAAAAAAAAAAAAAAAAAAAAAAAAAAAAAAAAAAAAAAAAAAAAAAAAAAAAAAAAAAAAAAAAAAAAAAAAAAAAAAAAAAAAAAAAAAAAAAAAAAAAAAAAAAAAAAAAAAAAAAAAAAAAAAAAAAAAAAAAAAAAAAAAAAAAAAAAAAAAAAAAAAAAAAAAAAAAAAAAAAAAAAAAAAAAAAAAAAAAAAAAAAAAAAAAAAAAAAAAAAAAAAAAAAAAAAAAAAAAAAAAAAAAAAAAAAAAAAAAAAAAAAAAAAAAAAAAAAAAAAAAAAAAAAAAAAAAAAAAAAAAAAAAAAAAAAAAAAAAAAAAAAAAAAAAAAAAAAAAAAAAAAAAAAAAAAAAAAAAAAAAAAAAAAAAAAAAAAAAAAAAAAAAAAAAAAAAAAAAAAAAAAAAAAAAAAAAAAAAAAAAAAAAAAAAAAAAAAAAAAAAAAAAAAAAAAAAAAAAAAAAAAAAAAAAAAAAAAAAAAAAAAAAAAAAAAAAAAAAAAAAAAAAAAAAAAAAAAAAAAAAAAAAAAAAAAAAAAAAAAAAAAAAAAAAAAAAAAAAAAAAAAAAAAAAAAAAAAAAAAAAAAAAAAAAAAAAAAAAAAAAAAAAAAAAAAAAAAAAAAAAAAAAAAAAAAAAAAAAAAAAAAAAAAAAAAAAAAAAAAAAAAAAAAAAAAAAAAAAAAAAAAAAAAAAAAAAAAAAAAAAAAAAAAAAAAAAAAAAAAAAAAAAAAAAAAAAAAAAAAAAAAAAAAAAAAAAAAAAAAAAAAAAAAAAAAAAAAAAAAAAAAAAAAAAAAAAAAAAAAAAAAAAAAAAAAAAAAAAAAAAAAAAAAAAAAAAAAAAAAAAAAAAAAAAAAAAAAAAAAAAAAAAAAAAAAAAAAAAAAAAAAAAAAAAAAAAAAAAAAAAAAAAAAAAAAAAAAAAAAAAAAAAAAAAAAAAAAAAAAAAAAAAAAAAAAAAAAAAAAAAAAAAAAAAAAAAAAAAAAAAAAAAAAAAAAAAAAAAAAAAAAAAAAAAAAAAAAAAAAAAAAAAAAAAAAAAAAAAAAAAAAAAAAAAAAAAAAAAAAAAAAAAAAAAAAAAAAAAAAAAAAAAAAAAAAAAAAAAAAAAAAAAAAAAAAAAAAAAAAAAAAAAAAAAAAAAAAAAAAAAAAAAAAAAAAAAAAAAAAAAAAAAAAAAAAAAAAAAAAAAAAAAAAAAAAAAAAAAAAAAAAAAAAAAAAAAAAAAAAAAAAAAAAAAAAAAAAAAAAAAAAAAAAAAAAAAAAAAAAAAAAAAAAAAAAAAAAAAAAAAAAAAAAAAAAAAAAAAAAAAAAAAAAAAAAAAAAAAAAAAAAAAAAAAAAAAAAAAAAAAAAAAAAAAAAAAAAAAAAAAAAAAAAAAAAAAAAAAAAAAAAAAAAAAAAAAAAAAAAAAAAAAAAAAAAAAAAAAAAAAAAAAAAAAAAAAAAAAAAAAAAAAAAAAAAAAAAAAAAAAAAAAAAAAAAAAAAAAAAAAAAAAAAAAAAAAAAAAAAAAAAAAAAAAAAAAAAAAAAAAAAAAAAAAAAAAAAAAAAAAAAAAAAAAAAAAAAAAAAAAAAAAAAAAAAAAAAAAAAAAAAAAAAAAAAAAAAAAAAAAAAAAAAAAAAAAAAAAAAAAAAAAAAAAAAAAAAAAAAAAAAAAAAAAAAAAAAAAAAAAAAAAAAAAAAAAAAAAAAAAAAAAAAAAAAAAAAAAAAAAAAAAAAAAAAAAAAAAAAAAAAAAAAAAAAAAAAAAAAAAAAAAAAAAAAAAAAAAAAAAAAAAAAAAAAAAAAAAAAAAAAAAAAAAAAAAAAAAAAAAAAAAAAAAAAAAAAAAAAAAAAAAAAAAAAAAAAAAAAAAAAAAAAAAAAAAAAAAAAAAAAAAAAAAAAAAAAAAAAAAAAAAAAAAAAAAAAAAAAAAAAAAAAAAAAAAAAAAAAAAAAAAAAAAAAAAAAAAAAAAAAAAAAAAAAAAAAAAAAAAAAAAAAAAAAAAAAAAAAAAAAAAAAAAAAAAAAAAAAAAAAAAAAAAAAAAAAAAAAAAAAAAAAAAAAAAAAAAAAAAAAAAAAAAAAAAAAAAAAAAAAAAAAAAAAAAAAAAAAAAAAAAAAAAAAAAAAAAAAAAAAAAAAAAAAAAAAAAAAAAAAAAAAAAAAAAAAAAAAAAAAAAAAAAAAAAAAAAAAAAAAAAAAAAAAAAAAAAAAAAAAAAAAAAAAAAAAAAAAAAAAAAAAAAAAAAAAAAAAAAAAAAAAAAAAAAAAAAAAAAAAAAAAAAAAAAAAAAAAAAAAAAAAAAAAAAAAAAAAAAAAAAAAAAAAAAAAAAAAAAAAAAAAAAAAAAAAAAAAAAAAAAAAAAAAAAAAAAAAAAAAAAAAAAAAAAAAAAAAAAAAAAAAAAAAAAAAAAAAAAAAAAAAAAAAAAAAAAAAAAAAAAAAAAAAAAAAAAAAAAAAAAAAAAAAAAAAAAAAAAAAAAAAAAAAAAAAAAAAAAAAAAAAAAAAAAAAAAAAAAAAAAAAAAAAAAAAAAAAAAAAAAAAAAAAAAAAAAAAAAAAAAAAAAAAAAAAAAAAAAAAAAAAAAAAAAAAAAAAAAAAAAAAAAAAAAAAAAAAAAAAAAAAAAAAAAAAAAAAAAAAAAAAAAAAAAAAAAAAAAAAA",
          "dtype": "f4",
          "shape": "139, 180"
         }
        },
        {
         "colorbar": {
          "len": 0.8,
          "title": {
           "text": "Counts"
          },
          "x": 1.02
         },
         "hovertemplate": "<b>Polar Angle: %{x:.1f}°</b><br><b>Axial Position: %{y:.1f} mm</b><br><b>Count: %{z:.3f}</b><extra></extra>",
         "showscale": true,
         "type": "heatmap",
         "x": {
          "bdata": "AAAAAO4RgT/uEQFA5JpBQO4RgUBoVqFA5JrBQF/f4UDuEQFBKzQRQWhWIUGmeDFB5JpBQSK9UUFf32FBnAFyQe4RgUEMI4lBKzSRQUpFmUFoVqFBh2epQaZ4sUHGiblB5JrBQQOsyUEivdFBQM7ZQV/f4UF/8OlBnAHyQbsS+kHuEQFCfRoFQgwjCUKbKw1CKzQRQrs8FUJKRRlC2U0dQmhWIUL4XiVCh2cpQhdwLUKmeDFCNoE1QsaJOUJUkj1C5JpBQnSjRUIDrElCk7RNQiO9UUKyxVVCQs5ZQtLWXUJg32FC7+dlQn/waUIP+W1CnwFyQiwKdkK8EnpCTBt+Qu4RgUI1FoNCfRqFQsUeh0INI4lCVCeLQpwrjULkL49CKzSRQnM4k0K7PJVCA0GXQktFmUKSSZtC2k2dQiJSn0JoVqFCsVqjQvhepUJBY6dCiGepQtBrq0IXcK1CYHSvQqZ4sULufLNCNoG1Qn6Ft0LGiblCDY67QlSSvUKdlr9C5JrBQiyfw0J0o8VC",
          "dtype": "f4"
         },
         "xaxis": "x2",
         "y": {
          "bdata": "eNITwzLGD8PruQvDpa0Hw1+hA8MwKv/CpBH3whf57sKK4ObC/sfewnGv1sLkls7CWH7GwstlvsI+TbbCsjSuwiUcpsKYA57CDOuVwn/SjcLyuYXCzEJ7wrIRa8KY4FrCgK9KwmZ+OsJMTSrCMhwawhrrCcIAdPPBzBHTwZyvssFoTZLBcNZjwQASI8FAm8TAACUGwADZ+T8A/79A4MMgQVCIYUFYJpFBjIixQbzq0UHwTPJBklcJQqqIGULEuSlC3uo5QvgbSkIQTVpCKn5qQkSvekIucIVCu4iNQkihlULUuZ1CYdKlQu7qrUJ6A7ZCBxy+QpQ0xkIgTc5CrWXWQjp+3kLGluZCU6/uQuDH9kJs4P5CfXwDQ8OIB0MJlQtDUKEPQ5atE0M=",
          "dtype": "f4"
         },
         "yaxis": "y2",
         "z": {
          "bdata": "AADAQQAA4EAAAABAAACAQAAAAEAAAIA/AAAAAAAAAAAAAIA/AAAAAAAAAAAAAAAAAACAPwAAAAAAAAAAAAAAAAAAAAAAAAAAAAAAAAAAAAAAAAAAAAAAAAAAAAAAAAAAAAAAAAAAAAAAAAAAAAAAAAAAAAAAAAAAAAAAAAAAAAAAAAAAAACAPwAAAAAAAAAAAAAAAAAAAAAAAAAAAAAAAAAAAAAAAAAAAAAAAAAAAAAAAAAAAAAAAAAAAAAAAAAAAAAAAAAAAAAAAAAAAAAAAAAAAAAAAAAAAAAAAAAAAAAAAAAAAAAAAAAAAAAAAAAAAAAAAAAAAAAAAAAAAAAAAAAAAAAAAAAAAAAAAAAAAAAAAAAAAAAAAAAAAAAAAAAAAAAAAAAAAAAAAAAAAAAAAAAAAAAAAAAAAAAAAAAAAAAAAAAAAAAAAAAAAAAAAAAAAAAAAAAAAAAAAAAAAAAAAAAAAAAAAAAAAAAAAAAAAAAAAAAAAAAAAAAAAAAAAAAAAAAAAAAAAAAAAAAAAABwQQAAMEEAACBBAAAgQQAAAEAAAIA/AAAAAAAAgEAAAABAAACAPwAAgD8AAAAAAAAAAAAAAAAAAIA/AAAAAAAAAAAAAIA/AACAPwAAAAAAAAAAAAAAAAAAAAAAAAAAAAAAAAAAAAAAAAAAAAAAAAAAAAAAAAAAAAAAAAAAAAAAAAAAAAAAAAAAAAAAAAAAAACAPwAAAAAAAAAAAAAAAAAAAAAAAAAAAAAAAAAAAAAAAAAAAAAAAAAAAAAAAIA/AAAAAAAAAAAAAAAAAAAAAAAAAAAAAIA/AAAAAAAAAAAAAAAAAAAAAAAAAAAAAAAAAAAAAAAAgD8AAAAAAAAAAAAAAAAAAAAAAAAAAAAAAAAAAAAAAAAAAAAAAAAAAAAAAAAAAAAAAAAAAAAAAAAAAAAAAAAAAAAAAAAAAAAAAAAAAAAAAAAAAAAAAAAAAAAAAAAAAAAAAAAAAAAAAAAAAAAAAAAAAAAAAAAAAAAAAAAAAAAAAAAAAAAAAAAAAAAAAAAAAAAAAAAAAAAAAABQQQAAyEEAAMBAAADgQAAAgD8AACBBAABAQAAAgEAAAABAAACgQAAAAEAAAEBAAACAPwAAAEAAAAAAAACAPwAAQEAAAAAAAACAPwAAAAAAAIA/AAAAAAAAgD8AAABAAACAPwAAgD8AAAAAAACAPwAAAEAAAAAAAAAAAAAAAAAAAAAAAACAPwAAAAAAAAAAAAAAAAAAAAAAAAAAAAAAAAAAAAAAAAAAAAAAAAAAAAAAAAAAAAAAAAAAAAAAAAAAAAAAAAAAAAAAAIA/AAAAAAAAAAAAAAAAAAAAAAAAAAAAAAAAAAAAAAAAAAAAAAAAAAAAAAAAAAAAAAAAAAAAAAAAAAAAAAAAAAAAAAAAAAAAAAAAAAAAAAAAAAAAAAAAAAAAAAAAAAAAAAAAAAAAAAAAAAAAAAAAAAAAAAAAAAAAAAAAAAAAAAAAAAAAAAAAAAAAAAAAAAAAAAAAAAAAAAAAAAAAAAAAAAAAAAAAAAAAAAAAAAAAAAAAAAAAAAAAAAAAAAAAAAAAAAAAAABAQQAAAEEAAJhBAACAQQAAAEEAAEBBAACgQAAAAEAAAABAAACgQAAAwEAAAEBAAAAAQAAAAEAAAKBAAACAPwAAAEAAAABAAABAQAAAAAAAAIA/AAAAQAAAAAAAAIA/AAAAAAAAAAAAAIA/AAAAQAAAAAAAAIA/AAAAAAAAAAAAAIA/AAAAAAAAgD8AAIA/AAAAAAAAAEAAAAAAAAAAQAAAAAAAAAAAAAAAAAAAAAAAAIA/AAAAAAAAAAAAAAAAAAAAAAAAAAAAAIA/AACAPwAAAAAAAAAAAACAPwAAAAAAAAAAAAAAAAAAAAAAAAAAAAAAAAAAAAAAAAAAAAAAAAAAAAAAAAAAAAAAAAAAAAAAAAAAAACAPwAAAAAAAIA/AAAAAAAAAAAAAAAAAAAAAAAAAAAAAAAAAACAPwAAAAAAAAAAAAAAAAAAAAAAAAAAAAAAAAAAAAAAAAAAAAAAAAAAAAAAAAAAAAAAAAAAAAAAAAAAAAAAAAAAAAAAAAAAAAAAAAAAAAAAAAAAAACIQQAAcEEAAHBBAAAwQQAAgEEAACBBAAAAQQAAwEAAAOBAAACAQAAAwEAAAEBAAAAAQAAAQEAAAEBAAACAQAAAAAAAAKBAAACgQAAAAEAAAABAAABAQAAAAAAAAABAAAAAQAAAAEAAAAAAAAAAAAAAgD8AAAAAAAAAQAAAAAAAAIA/AACAPwAAAAAAAEBAAABAQAAAgD8AAAAAAAAAAAAAAAAAAABAAAAAAAAAgD8AAIA/AAAAAAAAAAAAAAAAAAAAAAAAAAAAAAAAAAAAAAAAgD8AAIA/AACAPwAAAAAAAAAAAACAPwAAgD8AAIA/AAAAAAAAAEAAAAAAAAAAAAAAgD8AAAAAAACAPwAAAAAAAAAAAAAAAAAAAAAAAAAAAAAAAAAAAAAAAAAAAAAAAAAAAAAAAAAAAAAAAAAAAAAAAAAAAAAAAAAAAAAAAIA/AAAAAAAAAAAAAAAAAAAAAAAAAAAAAAAAAAAAAAAAAAAAAAAAAAAAAAAAAAAAAAAAAAAAAAAAAAAAAAAAAACQQQAAgEEAAJhBAABgQQAAgEEAAFBBAABgQQAAEEEAAABBAADgQAAAwEAAAABAAACgQAAAoEAAAIBAAAAAQAAAoEAAAEBAAACAPwAAgEAAAIA/AACAQAAAAEAAAIA/AACAPwAAgD8AAAAAAAAAAAAAgD8AAABAAAAAQAAAAAAAAABAAAAAAAAAAAAAAIA/AAAAQAAAAAAAAEBAAACAPwAAAAAAAABAAACAPwAAgD8AAIA/AAAAQAAAAAAAAAAAAACAPwAAAAAAAIA/AACAPwAAAAAAAAAAAACAPwAAAAAAAABAAACAPwAAAAAAAIA/AAAAAAAAgD8AAIA/AAAAAAAAgD8AAIA/AACAPwAAgD8AAAAAAABAQAAAAAAAAAAAAAAAAAAAAAAAAAAAAAAAAAAAgD8AAIA/AAAAAAAAAAAAAAAAAAAAAAAAgD8AAAAAAACAPwAAAAAAAAAAAAAAAAAAAAAAAAAAAAAAAAAAAAAAAAAAAAAAAAAAAAAAAAAAAAAAAAAAAAAAAAAAAACQQQAAgEEAAGBBAAAwQQAAkEEAAJBBAACYQQAAEEEAABBBAADgQAAA4EAAACBBAADAQAAAgEAAAKBAAABAQAAAgD8AAEBAAABAQAAAgD8AAABBAACAPwAAgD8AAEBAAACAPwAAgEAAAAAAAABAQAAAAAAAAIA/AACAPwAAgD8AAIA/AAAAAAAAAAAAAIA/AAAAAAAAgD8AAABAAAAAQAAAQEAAAIA/AACAPwAAAEAAAABAAACAPwAAgD8AAAAAAACAPwAAAAAAAAAAAAAAAAAAAAAAAAAAAACAPwAAgD8AAAAAAACAPwAAAAAAAIA/AACAPwAAgD8AAABAAAAAQAAAgD8AAIA/AAAAQAAAAAAAAAAAAACAPwAAAAAAAAAAAAAAAAAAAAAAAAAAAAAAAAAAAAAAAAAAAAAAAAAAAAAAAAAAAACAPwAAAAAAAAAAAAAAAAAAgD8AAIA/AAAAAAAAAAAAAAAAAAAAAAAAAAAAAAAAAAAAAAAAAAAAAAAAAAAAAAAAAAAAAAAAAABwQQAAMEEAADBBAABwQQAAkEEAAJBBAACAQQAAgEEAAGBBAAAwQQAAQEAAABBBAAAAQQAAAEEAAKBAAABAQAAAwEAAAKBAAACgQAAAoEAAAIBAAAAAQAAAAEAAAEBAAABAQAAAAEAAAIBAAACAPwAAgD8AAIA/AACAPwAAgD8AAEBAAAAAAAAAQEAAAABAAACAPwAAAAAAAAAAAACAPwAAAEAAAAAAAAAAAAAAgD8AAAAAAAAAQAAAAEAAAAAAAACAPwAAgEAAAIA/AACAQAAAAAAAAABAAACAPwAAAAAAAAAAAACAPwAAgD8AAIA/AABAQAAAgD8AAAAAAAAAAAAAAAAAAIA/AAAAAAAAAAAAAAAAAACAPwAAAAAAAAAAAACAPwAAAAAAAAAAAAAAAAAAAAAAAAAAAAAAAAAAAAAAAEBAAACAPwAAAAAAAAAAAAAAAAAAAAAAAAAAAAAAAAAAAAAAAAAAAAAAAAAAAAAAAAAAAAAAAAAAAAAAAAAAAAAAAAAAAAAAAAAAAAC4QQAAkEEAAKhBAACwQQAAUEEAAKBBAABAQQAAmEEAADBBAACwQQAAIEEAADBBAABwQQAAAEEAAOBAAABgQQAAgEAAAOBAAADgQAAAgEAAAAAAAADAQAAAQEAAAABAAAAAQAAAgD8AAKBAAAAAAAAAgEAAAEBAAABAQAAAQEAAAIBAAACAPwAAgD8AAMBAAAAAAAAAAAAAAIA/AAAAAAAAQEAAAABAAAAAQAAAQEAAAABAAAAAQAAAAEAAAAAAAAAAAAAAAAAAAABAAAAAQAAAgD8AAAAAAAAAAAAAAAAAAIA/AAAAQAAAAAAAAIA/AACAPwAAAAAAAAAAAACAPwAAgD8AAAAAAACAPwAAAAAAAABAAAAAAAAAgD8AAEBAAAAAAAAAAAAAAAAAAAAAAAAAgD8AAABAAACAPwAAAAAAAIA/AAAAAAAAAAAAAAAAAACAPwAAAAAAAAAAAAAAAAAAAAAAAAAAAAAAAAAAAAAAAAAAAAAAAAAAAAAAAAAAAAAAAAAAAAAAAAAAAACwQQAAkEEAAJhBAAAQQQAAkEEAACBBAABAQQAAUEEAAGBBAABQQQAAQEEAADBBAAAgQQAAMEEAAFBBAABAQAAAwEAAAIBAAADAQAAA4EAAABBBAABAQAAAoEAAAIBAAACAQAAAQEAAAOBAAAAAQAAAAAAAAAAAAACAQAAAoEAAAIA/AACAQAAAAEAAAEBAAACAPwAAgD8AAIA/AACAPwAAgD8AAIA/AABAQAAAQEAAAIA/AAAAAAAAAEAAAIA/AACAPwAAgD8AAIA/AAAAQAAAAAAAAIA/AACAPwAAAEAAAIA/AAAAQAAAgD8AAAAAAACAPwAAAAAAAAAAAAAAAAAAAAAAAAAAAAAAAAAAAEAAAIA/AAAAAAAAAAAAAAAAAACAQAAAAAAAAAAAAAAAAAAAgD8AAAAAAAAAAAAAAAAAAAAAAABAQAAAgD8AAAAAAACAPwAAgD8AAAAAAAAAQAAAAAAAAAAAAAAAAAAAAAAAAAAAAAAAAAAAAAAAAAAAAAAAAAAAAAAAAAAAAACQQQAAYEEAAIhBAABQQQAAYEEAAEBBAACYQQAAIEEAAKBBAABAQQAAiEEAACBBAABAQQAAEEEAAABBAAAQQQAAwEAAAOBAAAAAQQAAgEAAAEBAAAAAQAAAAEAAAIA/AACAQAAAgEAAAIBAAAAAQAAAgEAAAIBAAACgQAAAgD8AAIA/AACAPwAAgEAAAIBAAABAQAAAAEAAAIBAAAAAQAAAgD8AAIA/AABAQAAAQEAAAIA/AACAQAAAAAAAAEBAAAAAQAAAgD8AAAAAAAAAQAAAgD8AAABAAACAPwAAAEAAAABAAABAQAAAAEAAAAAAAAAAQAAAAEAAAAAAAAAAAAAAAEAAAAAAAAAAAAAAgD8AAAAAAACAPwAAgD8AAABAAACAPwAAgD8AAAAAAAAAAAAAAAAAAAAAAAAAAAAAgD8AAAAAAACAPwAAgD8AAAAAAAAAAAAAAEAAAAAAAACAPwAAAAAAAAAAAAAAAAAAAAAAAAAAAAAAAAAAAAAAAAAAAAAAAAAAAAAAAAAAAACIQQAAiEEAALBBAACAQQAAYEEAAKBBAACAQQAAkEEAAEBBAACAQQAAuEEAADBBAAAQQQAAAEEAAEBAAAAAQQAAAEEAACBBAADAQAAAAEAAAMBAAADAQAAAAEAAAABBAAAQQQAAoEAAAMBAAACAQAAAQEAAAIBAAACAQAAAAEAAAKBAAACAQAAAgD8AAMBAAAAAQAAAgEAAAEBAAACAPwAAAAAAAIBAAACAPwAAAAAAAIBAAAAAQAAAAEAAAIA/AACAPwAAgD8AAAAAAACAPwAAwEAAAAAAAAAAAAAAAAAAAIA/AAAAAAAAAAAAAIA/AAAAAAAAAEAAAIA/AACAPwAAgD8AAEBAAABAQAAAAEAAAEBAAACAPwAAAAAAAABAAAAAAAAAAAAAAIA/AACAPwAAgD8AAABAAAAAAAAAAEAAAAAAAABAQAAAgD8AAIA/AACAPwAAAAAAAAAAAAAAAAAAAAAAAAAAAAAAAAAAAAAAAAAAAAAAAAAAAAAAAAAAAAAAAAAAAAAAAAAAAACwQQAAuEEAAIhBAACwQQAAkEEAAKBBAACwQQAAkEEAAKhBAACoQQAAUEEAAIhBAACQQQAAQEEAACBBAAAgQQAAIEEAAHBBAADAQAAAEEEAAKBAAADAQAAAoEAAAIBAAAAQQQAAgEAAAIBAAAAAQAAAQEAAAOBAAACgQAAAoEAAAEBAAACgQAAAAEAAAEBAAAAAQAAAAEAAAABAAAAAQAAAQEAAAEBAAACAPwAAgD8AAAAAAABAQAAAgEAAAIA/AAAAAAAAgD8AAABAAAAAAAAAAEAAAIBAAABAQAAAgD8AAABAAACAPwAAAAAAAABAAABAQAAAAEAAAEBAAAAAAAAAQEAAAAAAAACAPwAAQEAAAEBAAAAAAAAAgD8AAEBAAACAPwAAAAAAAIBAAACAPwAAQEAAAEBAAAAAAAAAgD8AAABAAAAAAAAAgD8AAAAAAAAAAAAAgD8AAAAAAAAAAAAAAAAAAAAAAAAAAAAAAAAAAAAAAAAAAAAAAAAAAAAAAAAAAAAAAAAAAAAAAACYQQAAcEEAAMBBAACwQQAAcEEAAJhBAACIQQAAAEEAAIhBAADAQQAAUEEAALBBAADIQQAAcEEAAEBBAADAQAAAMEEAACBBAAAgQQAAAEEAAABBAAAwQQAAoEAAAEBAAACAQAAAgEAAAMBAAAAQQQAAAEAAAIBAAACAQAAAAEAAABBBAABAQAAA4EAAAIBAAABAQAAAwEAAAIBAAAAAAAAAQEAAAAAAAAAAAAAAgD8AAEBAAACAPwAAoEAAAAAAAACAPwAAAEAAAIA/AACAQAAAAEAAAIA/AAAAQAAAQEAAAIBAAAAAAAAAgD8AAIA/AAAAQAAAgD8AAKBAAABAQAAAAEAAAIA/AACAPwAAAEAAAABAAAAAQAAAAEAAAABAAABAQAAAgEAAAIA/AACAPwAAgD8AAIA/AAAAAAAAAAAAAABAAACAPwAAQEAAAAAAAABAQAAAAAAAAIA/AACAPwAAAAAAAAAAAAAAAAAAAAAAAAAAAAAAAAAAAAAAAAAAAAAAAAAAAAAAAAAAAACYQQAAiEEAAMBBAACAQQAAgEEAAJhBAACAQQAAiEEAAGBBAABQQQAAIEEAAIBBAABwQQAAcEEAAABBAABQQQAAYEEAACBBAAAQQQAAIEEAAOBAAAAQQQAAAEEAAMBAAADgQAAAgD8AAIBAAACgQAAAQEEAAKBAAACAQAAAAEAAAIA/AAAAQAAAgD8AAMBAAABAQAAAoEAAAEBAAAAAQQAAQEAAAABAAACAPwAAoEAAAIBAAAAAQAAAoEAAAMBAAABAQAAAgD8AAIBAAABAQAAAAAAAAEBAAACAPwAAgEAAAABAAAAAQAAAgEAAAEBAAAAAQAAAAEAAAIA/AAAAQAAAgD8AAABAAAAAQAAAAAAAAABAAAAAQAAAAEAAAABAAAAAQAAAAEAAAIA/AACAPwAAgD8AAAAAAAAAAAAAgD8AAIA/AACAPwAAQEAAAABAAACAPwAAgD8AAAAAAAAAAAAAgD8AAAAAAAAAAAAAAAAAAAAAAAAAAAAAAAAAAAAAAAAAAAAAAAAAAAAAAAAwQQAAYEEAAHBBAACYQQAAgEEAAKhBAABgQQAAqEEAAIhBAAAwQQAAIEEAAKBBAACwQQAAmEEAALBBAABQQQAAgEEAAGBBAABAQQAAYEEAAOBAAADAQAAA4EAAAIBAAADAQAAAgD8AAMBAAAAQQQAAQEAAABBBAACAQAAAgEAAAABAAADAQAAA4EAAAABAAABAQAAAoEAAAABAAACAQAAAgD8AAABAAADgQAAAAAAAAMBAAAAAQAAAAEAAAIA/AAAAQAAAgEAAAABAAACgQAAAAEAAAABAAAAAQAAAgD8AAABAAAAAQAAAgEAAAIBAAACgQAAAAEAAAAAAAACAPwAAQEAAAIA/AAAAQAAAAAAAAABAAABAQAAAgD8AAABAAABAQAAAgD8AAIA/AAAAAAAAgEAAAIBAAAAAAAAAAAAAAABAAACAPwAAAAAAAAAAAAAAAAAAAAAAAIA/AAAAQAAAgD8AAAAAAAAAAAAAAAAAAAAAAAAAAAAAAAAAAAAAAAAAAAAAAAAAAAAAAACQQQAA6EEAAIBBAACwQQAAoEEAAJBBAADYQQAAcEEAADBBAABAQQAAmEEAALBBAACIQQAAgEEAAGBBAABAQQAAYEEAACBBAACIQQAAoEAAAMBAAAAgQQAAAEEAACBBAAAgQQAAIEEAAIBAAABAQQAAwEAAAMBAAABAQAAAIEEAAOBAAACAQAAAAAAAAOBAAADgQAAAQEAAAMBAAACAPwAA4EAAAIA/AACAPwAAAEAAAIA/AAAAQAAAQEAAAIA/AAAAQAAAAEAAAABAAADAQAAAgD8AAIA/AABAQAAAAEAAAABAAAAAQAAAQEAAAABAAAAAQAAAAEAAAKBAAABAQAAAAEAAAMBAAAAAQAAAAEAAAEBAAACgQAAAgD8AAIA/AAAAAAAAQEAAAABAAABAQAAAAEAAAIA/AABAQAAAAAAAAKBAAAAAAAAAgD8AAEBAAAAAAAAAAAAAAIA/AAAAAAAAAAAAAAAAAAAAAAAAAAAAAAAAAAAAAAAAAAAAAAAAAAAAAAAAAAAAAAAAAABwQQAAYEEAACBBAADAQQAAQEEAAJhBAABwQQAAuEEAAIhBAABAQQAAgEEAAKhBAACAQQAAcEEAALhBAACYQQAAIEEAAABBAACAQQAAEEEAAFBBAAAQQQAAQEEAAABBAAAAQQAAAEEAAKBAAADAQAAAgEAAAOBAAACgQAAAgD8AAABBAACAQAAAAEEAAEBAAAAAQAAAQEAAAEBAAABAQAAAAEAAAKBAAACAPwAAAAAAAMBAAABAQAAAQEAAAIBAAADAQAAAwEAAAABAAAAAQAAA4EAAAABAAADgQAAAQEAAAIBAAACAPwAAQEAAAABAAACgQAAAQEAAAIBAAACAPwAAgD8AAIA/AACAPwAAQEAAAIA/AACAPwAAQEAAAIA/AABAQAAAAAAAAABAAACAPwAAgD8AAIA/AACAPwAAAEAAAABAAADAQAAAQEAAAABAAAAAAAAAgD8AAIA/AAAAAAAAgD8AAIA/AAAAAAAAAAAAAAAAAAAAAAAAAAAAAAAAAAAAAAAAAAAAAAAAAABgQQAAYEEAAJhBAABwQQAAoEEAAIhBAACAQQAA2EEAAIhBAACoQQAAQEEAALBBAACoQQAAoEEAALBBAACYQQAAcEEAAJBBAABQQQAAQEEAAKBAAADgQAAAUEEAAEBBAAAAQQAAwEAAACBBAABAQQAAQEEAAABBAAAAQQAAEEEAAEBAAAAAQQAAwEAAAIBAAACAQAAAUEEAAEBAAABAQAAAQEAAAMBAAAAAQAAAgD8AAEBAAAAAQAAAgEAAAABAAADAQAAAQEAAAKBAAACgQAAAAEAAAIA/AADgQAAAAEAAAEBAAACAPwAAQEAAAABAAACAQAAAgEAAAABAAACAQAAAgD8AAIBAAABAQAAAAEAAAABAAACAPwAAgD8AAABAAABAQAAAAAAAAABAAAAAAAAAQEAAAIBAAACAPwAAAEAAAIA/AACgQAAAAEAAAIBAAAAAQAAAAAAAAAAAAACAPwAAAEAAAAAAAAAAAAAAAAAAAAAAAAAAAAAAAAAAAAAAAAAAAAAAAAAAAAAAAACIQQAAiEEAAKBBAACwQQAAwEEAAEBBAACoQQAAuEEAAJBBAABwQQAAUEEAAJBBAACIQQAAqEEAAKBBAABgQQAAYEEAAIBBAACwQQAA4EAAABBBAACgQAAAMEEAAJBBAABAQQAAUEEAAMBAAADAQAAAMEEAAMBAAACAQAAAgEAAAKBAAACgQAAAgEAAAMBAAAAgQQAAoEAAAEBAAACAQAAA4EAAAEBAAAAAQAAAgEAAAKBAAACgQAAAAEAAAEBAAACAQAAAgEAAAABAAADAQAAAgEAAAEBAAACAQAAAgEAAAIBAAACgQAAAAAAAAIBAAABAQAAAQEAAAIA/AACAQAAAQEAAAIA/AADAQAAAAEAAAAAAAAAAQAAAAEAAAABAAABAQAAAQEAAAAAAAABAQAAAQEAAAAAAAAAAQAAAQEAAAIA/AABAQAAAQEAAAIA/AAAAAAAAgD8AAIA/AACAPwAAAAAAAAAAAAAAAAAAAAAAAAAAAAAAAAAAAAAAAAAAAAAAAAAAAAAAAAAAAADQQQAAkEEAAKBBAABwQQAAgEEAALhBAACIQQAAYEEAAGBBAADQQQAAqEEAAABCAACwQQAAYEEAAIhBAACgQQAAiEEAAHBBAACYQQAAcEEAAOBAAABQQQAA4EAAADBBAADAQAAAAEEAADBBAAAAQQAAAEEAAOBAAAAAQAAA4EAAADBBAAAQQQAAAEEAAIBAAAAAQAAAgEAAAMBAAACgQAAAgEAAAIA/AACgQAAAAEAAAKBAAAAAQAAA4EAAAMBAAACgQAAAQEAAAIBAAACAQAAAQEAAAABAAACAQAAAwEAAAAAAAACgQAAAwEAAAABAAACAQAAAgEAAAEBAAAAAQAAAQEAAAIBAAACAQAAAAAAAAKBAAADAQAAAgD8AAABAAAAAQAAAgEAAAABAAACAPwAAAEAAAIBAAABAQAAAgD8AAIA/AAAAQAAAgD8AAABAAACAPwAAgD8AAAAAAAAAQAAAAAAAAAAAAAAAAAAAAAAAAAAAAAAAAAAAAAAAAAAAAAAAAAAAAAAAAAAAAACYQQAAiEEAAIBBAAC4QQAAuEEAAMBBAACAQQAAmEEAABBBAACoQQAAwEEAAMBBAABwQQAAiEEAAEBBAACoQQAAiEEAAJhBAABgQQAAgEEAADBBAACoQQAAAEEAADBBAADgQAAAiEEAAEBAAACgQAAAgEEAABBBAADgQAAAEEEAABBBAAAAQQAA4EAAAABBAACAQAAAMEEAAIBAAACAQAAAwEAAAIA/AABAQAAAAEAAAMBAAADAQAAAgEAAAKBAAADAQAAAoEAAAIA/AAAAQAAAQEAAAABAAAAAQAAA4EAAAKBAAAAAQAAAoEAAAIA/AACAQAAAQEAAAIBAAAAAQQAAQEAAAABAAACgQAAAQEAAAIBAAACAQAAAAEAAAEBAAACAPwAAQEAAAKBAAABAQAAAAEAAAEBAAACgQAAAQEAAAEBAAAAAQAAAQEAAAABAAABAQAAAQEAAAEBAAACAPwAAAAAAAAAAAAAAAAAAAAAAAAAAAAAAAAAAAAAAAAAAAAAAAAAAAAAAAAAAAACwQQAAkEEAAIBBAADYQQAAiEEAAIhBAACgQQAA2EEAALBBAAC4QQAA2EEAAIhBAADAQQAAkEEAAKBBAADAQQAAgEEAANBBAAAwQQAAkEEAAEBBAAAgQQAAkEEAADBBAAAwQQAAYEEAADBBAADgQAAAEEEAAABBAAAAQQAAMEEAADBBAAAgQQAAwEAAAMBAAACAQAAAAEEAAMBAAABAQAAAAEEAAABBAACgQAAAQEAAAKBAAAAAQQAAgEAAAABBAABAQAAAgEAAAIBAAADgQAAAAEEAAABAAABAQAAAQEAAAKBAAACAPwAAQEAAAKBAAAAAQAAAoEAAAIBAAADAQAAAgEAAAOBAAACAQAAAgEAAAABAAABAQAAAQEAAAEBAAACgQAAAoEAAAEBAAADgQAAAQEAAAABAAAAAAAAAgD8AAABAAABAQAAAgD8AAABAAACAQAAAAEAAAAAAAAAAQAAAAAAAAAAAAAAAAAAAAAAAAAAAAAAAAAAAAAAAAAAAAAAAAAAAAAAAAAAAAACIQQAAsEEAAIhBAACYQQAAsEEAACBBAACIQQAAyEEAALhBAACIQQAAiEEAAIBBAACIQQAAyEEAALhBAACIQQAAqEEAAHBBAACQQQAAoEEAAIBBAABgQQAAYEEAAEBBAACIQQAAUEEAAABBAABAQQAAIEEAACBBAADAQAAA4EAAAOBAAABQQQAA4EAAABBBAABAQAAA4EAAAOBAAABwQQAAgEAAACBBAACAQAAAAEAAABBBAADAQAAAoEAAAKBAAACgQAAAgD8AAMBAAAAAQAAAoEAAAABAAACAQAAAwEAAAOBAAACAPwAAQEAAAIA/AACgQAAAoEAAAEBAAABAQAAAwEAAAOBAAABAQAAAQEAAAAAAAAAAQAAAgD8AAIBAAAAAQQAAAEAAAKBAAACAPwAAgEAAAEBAAABAQAAAwEAAAEBAAABAQAAAgEAAAIA/AACAPwAAQEAAAAAAAAAAQAAAgEAAAIA/AAAAAAAAAAAAAAAAAAAAAAAAAAAAAAAAAAAAAAAAAAAAAAAAAACYQQAAsEEAAHBBAAC4QQAAyEEAAKhBAADAQQAAkEEAAMBBAACwQQAAwEEAAIBBAACAQQAAkEEAAIBBAADgQQAAIEEAAIhBAACIQQAAqEEAAKhBAACIQQAAgEEAAGBBAABwQQAAIEEAAKBAAACAQAAAEEEAABBBAABgQQAAAEEAAABBAABgQQAAwEAAACBBAADgQAAAoEAAACBBAADAQAAA4EAAAOBAAACgQAAAoEAAAKBAAACgQAAAoEAAAMBAAACgQAAAoEAAAIBAAADAQAAAoEAAAIBAAAAAQAAAwEAAAIA/AACgQAAAQEAAAMBAAADgQAAAgD8AAKBAAAAgQQAAgD8AAEBAAAAAQAAAoEAAAIA/AAAAQAAAQEAAAABAAACgQAAA4EAAAMBAAABAQAAAwEAAAIA/AAAAQAAAgEAAAABAAABAQAAAAEAAAABAAACAPwAAQEAAAIBAAAAAAAAAAEAAAIA/AAAAAAAAAAAAAAAAAAAAAAAAAAAAAAAAAAAAAAAAAAAAAAAAAABgQQAAyEEAAKBBAACIQQAAqEEAALBBAABAQQAAoEEAABBBAAC4QQAAkEEAAJBBAABAQQAAsEEAAEBBAACYQQAAiEEAAHBBAAC4QQAAgEEAAHBBAABQQQAAiEEAAJBBAABQQQAAoEAAABBBAAAgQQAAQEEAAGBBAAAwQQAAMEEAAOBAAAAQQQAAMEEAAKBAAADgQAAAgEAAAKBAAAAgQQAAcEEAAKBAAABAQQAA4EAAAEBAAADgQAAAwEAAAKBAAADAQAAAgEAAAABAAABAQAAAgEAAAOBAAADgQAAA4EAAAIBAAADgQAAAgEAAABBBAADAQAAAQEAAAEBAAACgQAAAoEAAAEBAAABAQAAAgD8AAEBAAAAAQAAAoEAAAEBAAACAPwAAgEAAAABAAACAQAAAwEAAAABAAABAQAAAgEAAAIA/AABAQAAAgD8AAIA/AABAQAAAQEAAAEBAAACAPwAAgD8AAAAAAAAAAAAAAAAAAAAAAAAAAAAAAAAAAAAAAAAAAAAAAAAAAAAAAACYQQAAoEEAAJhBAACYQQAAoEEAAMhBAAAgQQAAoEEAADBBAACgQQAAYEEAAHBBAACIQQAAYEEAAJBBAACIQQAAmEEAAIBBAAC4QQAAcEEAADBBAACgQQAAiEEAAHBBAABgQQAAQEEAAOBAAABAQQAAMEEAADBBAAAgQQAAQEEAAEBBAAAAQQAAoEAAAIBAAACgQAAAMEEAAFBBAACAQAAAAEEAACBBAADgQAAAgEAAAKBAAABAQAAAMEEAAIA/AAAAQAAAoEAAAEBAAAAAQAAAQEAAAEBAAABAQAAAoEAAAEBAAACgQAAAoEAAAEBAAADgQAAAEEEAAMBAAAAAQAAAgEAAAIBAAAAAQAAAQEAAAIBAAACgQAAAoEAAAIBAAADgQAAAgEAAAEBAAACAPwAAAEAAAOBAAAAAQAAAAEAAAEBAAADAQAAAgD8AAAAAAAAAAAAAoEAAAAAAAACAQAAAAEAAAAAAAAAAAAAAAAAAAAAAAAAAAAAAAAAAAAAAAAAAAAAAAAAAAAAAAACQQQAAqEEAAKBBAAC4QQAAmEEAAEBBAADIQQAAiEEAAJBBAABAQQAAcEEAAIBBAACwQQAAcEEAAHBBAAC4QQAAsEEAAJBBAABwQQAAkEEAAHBBAABwQQAAmEEAAIBBAABQQQAAiEEAAFBBAACAQQAAAEEAAABBAABAQQAAQEEAADBBAACAQAAAUEEAAMBAAAAQQQAAoEAAAEBBAADgQAAAAEEAAOBAAADAQAAAEEEAAOBAAADgQAAAAEEAAKBAAAAQQQAA4EAAAOBAAADAQAAA4EAAAEBAAAAAQAAAAEEAAEBAAACAQAAAQEAAAMBAAADAQAAAgEAAAABAAACAQAAAAEAAAEBAAACAQAAAgEAAAIBAAABAQAAAwEAAAKBAAAAAQAAAQEAAAIBAAADAQAAAoEAAAKBAAADAQAAAoEAAAMBAAAAAQQAAoEAAAIBAAACAQAAAwEAAAEBAAACAQAAAAEAAAAAAAAAAAAAAAAAAAAAAAAAAAAAAAAAAAAAAAAAAAAAAAAAAAAAAAABwQQAAuEEAAFBBAABAQQAAkEEAANhBAACwQQAAgEEAAIhBAACQQQAAsEEAALBBAACAQQAAAEEAANBBAABwQQAAgEEAALhBAACgQQAAcEEAAIBBAABgQQAAwEEAAGBBAAC4QQAAAEEAAJhBAAAAQQAAcEEAAGBBAABQQQAAcEEAAFBBAAAwQQAAQEEAABBBAAAwQQAAoEAAAKBAAADAQAAAAEEAAEBAAAAAQAAAgEAAAEBBAAAAQQAAgEAAAMBAAADAQAAAgEAAAOBAAADAQAAAoEAAAIBAAABAQAAAIEEAAMBAAACAPwAAgEAAAABBAACgQAAAoEAAAMBAAAAAQQAA4EAAAEBAAACAQAAAoEAAAKBAAADAQAAAoEAAAIBAAAAAQAAAgEAAAIA/AAAAQAAAgEAAAIBAAACAQAAAQEAAAIBAAAAAQAAAQEAAAOBAAABAQAAAAEAAAEBAAACAPwAAgD8AAAAAAAAAAAAAAAAAAAAAAAAAAAAAAAAAAAAAAAAAAAAAAAAAAAAAAADIQQAAiEEAAKBBAABwQQAAUEEAAKhBAACQQQAAUEEAAIBBAACYQQAAgEEAAJBBAACQQQAAwEEAAEBBAACoQQAAsEEAAKBBAABgQQAAsEEAAEBBAABwQQAAIEEAAKhBAABwQQAAkEEAAJBBAABgQQAAMEEAADBBAAAwQQAAoEAAAGBBAABAQAAAQEEAAEBBAAAQQQAAIEEAAIBAAAAQQQAA4EAAAABBAADgQAAAwEAAAKBAAADAQAAAgEAAAMBAAAAQQQAAgD8AAABBAABAQAAA4EAAAOBAAADAQAAAwEAAAKBAAAAAQQAA4EAAAABBAACgQAAAAAAAAMBAAAAAQQAAAEAAAMBAAADAQAAAgD8AAEBAAABAQAAAgEAAAEBAAACgQAAAgEAAAKBAAAAQQQAAgEAAAOBAAABAQAAAgEAAAKBAAACAQAAAoEAAAKBAAAAAQAAAgD8AAEBAAAAAQAAAgD8AAAAAAAAAAAAAAAAAAAAAAAAAAAAAAAAAAAAAAAAAAAAAAAAAAAAAAAC4QQAAcEEAAKBBAACwQQAAiEEAAGBBAACgQQAAcEEAAJBBAACoQQAAgEEAAHBBAACIQQAAcEEAAKhBAAC4QQAAsEEAAJBBAACoQQAAQEEAAIBBAADYQQAAmEEAAFBBAABgQQAAoEEAALBBAAAgQQAAgEEAAIhBAACIQQAAkEEAAHBBAAAQQQAAEEEAACBBAABQQQAA4EAAAFBBAAAgQQAAgEAAAEBAAAAgQQAAEEEAAEBAAACAQAAAIEEAAOBAAAAAQQAAoEAAAMBAAACgQAAAQEAAAEBAAACAQAAAAEAAAMBAAADAQAAAoEAAAEBAAAAQQQAAAEAAAIA/AADAQAAAgEAAAEBAAACgQAAAgEAAAKBAAACAQAAAoEAAABBBAADgQAAAIEEAAABAAACgQAAAgEAAAABBAAAAQAAAAEEAAOBAAAAAQAAAgEAAAEBAAAAAQAAAoEAAAMBAAACAPwAAAEAAAAAAAAAAAAAAAAAAAAAAAAAAAAAAAAAAAAAAAAAAAAAAAAAAAAAAAACgQQAAsEEAALBBAACAQQAAmEEAAKhBAACoQQAAiEEAAMhBAADIQQAAiEEAAKBBAABgQQAAgEEAALBBAACIQQAAYEEAALhBAACoQQAAcEEAAGBBAACgQQAA0EEAAGBBAABQQQAAiEEAAFBBAACYQQAAQEEAALBBAACgQQAAiEEAACBBAAAAQQAAUEEAAOBAAABAQQAAIEEAACBBAADAQAAAQEEAAEBBAAAAQQAAQEEAAMBAAABAQQAAEEEAAOBAAAAAQQAAEEEAAKBAAADgQAAAAEEAAMBAAADAQAAAoEAAAKBAAADAQAAAQEAAAOBAAABAQAAAIEEAAABBAACAQAAAAEAAAIBAAABAQAAAEEEAAABAAACgQAAAEEEAAEBAAACgQAAAAEAAAIA/AAAAAAAAQEAAAKBAAACgQAAAAEAAAMBAAABAQAAAQEAAAIBAAACAQAAAoEAAAIBAAACAQAAAAEAAAAAAAAAAAAAAAAAAAAAAAAAAAAAAAAAAAAAAAAAAAAAAAAAAAAAAAACgQQAAsEEAAJhBAADoQQAAgEEAAMhBAACQQQAA0EEAAIhBAACgQQAAoEEAAMBBAACgQQAAoEEAANBBAABgQQAAuEEAAJhBAABwQQAAkEEAAJBBAACgQQAAkEEAAIBBAAC4QQAAsEEAAEBBAACIQQAAYEEAACBBAABAQQAAIEEAAFBBAAAgQQAAMEEAAOBAAAAQQQAAAEEAAOBAAADAQAAAIEEAACBBAAAAQQAAgEAAAEBAAADAQAAAEEEAAKBAAAAwQQAA4EAAABBBAAAgQQAA4EAAAMBAAADAQAAAwEAAAKBAAAAQQQAA4EAAAOBAAAAQQQAA4EAAAEBAAADgQAAAAEAAAEBAAACgQAAAgEAAADBBAACAPwAAAEEAAKBAAADgQAAAoEAAAEBAAADAQAAAgEAAAIBAAADgQAAA4EAAAIA/AAAAAAAAQEAAAEBAAADAQAAAgEAAAKBAAAAAQAAAgD8AAIA/AAAAAAAAAAAAAAAAAAAAAAAAAAAAAAAAAAAAAAAAAAAAAAAAAACAQQAAkEEAAIBBAACwQQAAuEEAALBBAADAQQAAcEEAAGBBAABgQQAAIEEAALhBAABAQQAAwEEAAIhBAACAQQAAqEEAAFBBAACAQQAAmEEAAJhBAAAwQQAAuEEAAGBBAABAQQAAuEEAAIhBAACIQQAAmEEAAEBBAABQQQAAYEEAAEBBAABQQQAAYEEAABBBAACAQAAAMEEAAFBBAAAAQQAAoEAAAIBBAACAQAAAAEEAAABAAABAQAAAgEAAAMBAAADgQAAAgEAAAABBAAAwQQAAAEEAAABBAAAAQQAAoEAAAMBAAADgQAAAwEAAAIBAAACgQAAAwEAAAOBAAADgQAAAgEAAAIBAAABAQAAAgEAAAMBAAADAQAAAQEAAAKBAAACAQAAAoEAAAMBAAAAAQAAAQEAAAMBAAADgQAAAgEAAAIBAAADAQAAAgEAAAEBAAABAQAAAwEAAAEBAAAAAQAAAgD8AAAAAAAAAAAAAAAAAAAAAAAAAAAAAAAAAAAAAAAAAAAAAAAAAAAAAAACoQQAAQEEAAIBBAADoQQAAgEEAAKBBAABQQQAAoEEAAHBBAAAwQQAAuEEAANBBAABwQQAAUEEAAIBBAACoQQAAYEEAAIBBAAAgQQAAwEEAAEBBAADIQQAAyEEAADBBAACAQQAAYEEAAJBBAABQQQAAgEEAAFBBAACQQQAAoEEAAHBBAABAQQAAYEEAAIBAAACgQAAAEEEAACBBAAAQQQAA4EAAADBBAAAAQQAAAEEAAMBAAAAAQQAAQEAAAOBAAABAQAAA4EAAAABAAACgQAAAEEEAAMBAAADAQAAAgEAAAMBAAAAAQQAAoEAAACBBAAAQQQAAgEAAAMBAAACgQAAAAAAAAABBAACAPwAAoEAAAMBAAACAQAAAwEAAAMBAAACAQAAAwEAAAKBAAADgQAAAgEAAAOBAAABAQAAAoEAAAOBAAAAAQQAAAEEAAABBAACAPwAAQEAAAIA/AABAQAAAQEAAAAAAAAAAAAAAAAAAAAAAAAAAAAAAAAAAAAAAAAAAAAAAAAAAAAAAAACIQQAA0EEAAJhBAACIQQAAUEEAAJhBAABQQQAAiEEAALhBAADQQQAAqEEAANBBAACoQQAA4EEAAHBBAACYQQAAcEEAAKhBAABwQQAAgEEAADBBAACgQQAAqEEAAIBBAABQQQAAqEEAAKhBAADAQQAAiEEAAJBBAAAwQQAAMEEAADBBAABgQQAAIEEAACBBAABgQQAAgEEAABBBAAAQQQAAEEEAAMBAAAAQQQAAiEEAABBBAAAQQQAAwEAAAOBAAAAwQQAAAEEAAEBAAAAgQQAAIEEAAABAAACgQAAAgEAAAKBAAACgQAAA4EAAAMBAAAAAQAAA4EAAAOBAAABAQAAAoEAAAKBAAACAQAAAwEAAAEBAAAAAQAAAAEAAAABAAACgQAAAgEAAAIBAAACAQAAAAEEAAOBAAAAAQAAAgEAAAKBAAACAQAAAoEAAAIBAAADAQAAAQEAAAEBAAAAAAAAAgD8AAABAAAAAAAAAAAAAAAAAAAAAAAAAAAAAAAAAAAAAAAAAAAAAAAAAAACoQQAAwEEAAHBBAACQQQAAmEEAAGBBAABwQQAAyEEAAPhBAADAQQAAkEEAAJBBAADAQQAAsEEAAJBBAABgQQAAoEEAAJBBAACIQQAAUEEAAGBBAABQQQAAcEEAAKhBAABgQQAAYEEAAIBBAABwQQAAcEEAAEBBAABgQQAAQEEAAJhBAACIQQAAgEEAAHBBAAAQQQAAEEEAAABBAABAQQAAwEAAADBBAAAAQAAAQEEAADBBAAAAQQAAEEEAAKBAAADAQAAAEEEAAOBAAABAQAAAEEEAAKBAAAAQQQAAwEAAAEBAAABAQAAAoEAAAKBAAACgQAAAwEAAABBBAAAAQAAAoEAAAEBAAAAAQAAAQEAAAEBAAABAQAAAAEEAAIBAAACgQAAAgEAAAKBAAABAQAAA4EAAAIA/AACgQAAAAEEAAABAAACAQAAAEEEAAEBAAACgQAAAAEAAAMBAAAAAQAAAAEAAAABAAAAAAAAAAAAAAAAAAAAAAAAAAAAAAAAAAAAAAAAAAAAAAAAAAACYQQAA6EEAADBBAABgQQAAkEEAAJhBAACwQQAAmEEAAHBBAABgQQAAkEEAAJhBAABwQQAA4EEAAMhBAACwQQAAcEEAAHBBAABwQQAAmEEAAJhBAABgQQAAiEEAAHBBAABgQQAAAEEAAHBBAABwQQAAoEEAALBBAAAQQQAAQEEAAGBBAACQQQAAYEEAACBBAAAQQQAAEEEAAFBBAAAAQQAAwEAAAABBAADAQAAAEEEAAEBAAADgQAAAgEAAAEBBAAAQQQAAgD8AAOBAAADAQAAAgEAAAABBAAAwQQAA4EAAAKBAAACgQAAA4EAAADBBAADgQAAAgEAAAABAAAAwQQAA4EAAAMBAAADAQAAAEEEAAABAAACgQAAAwEAAAIBAAACAQAAAoEAAAMBAAAAAQAAAgEAAAKBAAABAQAAAAEAAAIBAAACAQAAAgD8AAEBAAAAAQAAAQEAAAIA/AAAAAAAAAEAAAABAAAAAAAAAAAAAAAAAAAAAAAAAAAAAAAAAAAAAAAAAAAAAAAAAAACAQQAAiEEAALBBAACgQQAAoEEAALBBAACoQQAAqEEAAIhBAABgQQAAsEEAALBBAACoQQAAAEIAAIhBAAC4QQAAgEEAAKhBAABQQQAAuEEAAFBBAACAQQAAQEEAAKhBAACIQQAAoEEAAGBBAACYQQAAkEEAAEBBAABgQQAAUEEAAEBBAABQQQAAAEEAAIBBAACIQQAAEEEAACBBAADAQAAA4EAAAFBBAACIQQAAgEAAACBBAAAgQQAAAEAAABBBAAAAQQAAEEEAAIBAAADAQAAAwEAAAOBAAADgQAAAMEEAAOBAAAAAQAAAoEAAADBBAACgQAAA4EAAAABAAAAAQQAAoEAAAKBAAAAAQAAAQEAAAIBAAACgQAAAwEAAAMBAAABAQAAAgEAAAIBAAACgQAAAAEAAAEBAAACAQAAAQEAAAABAAADAQAAAAEAAAKBAAADAQAAAwEAAAABAAAAAAAAAQEAAAIA/AAAAAAAAAAAAAAAAAAAAAAAAAAAAAAAAAAAAAAAAAAAAAAAAAACwQQAAmEEAAJBBAACQQQAA4EEAALBBAABwQQAAgEEAAKBBAABQQQAAiEEAAHBBAADIQQAAiEEAAGBBAABwQQAAYEEAALhBAACIQQAAkEEAAFBBAACYQQAAwEAAACBBAACoQQAAuEEAAIBBAACYQQAAcEEAAIhBAACAQQAAcEEAAABBAABAQQAAEEEAAEBBAABQQQAAYEEAAEBBAABAQAAAIEEAAOBAAAAAQQAA4EAAAABBAAAQQQAAUEEAAEBAAACgQAAAgEAAAMBAAACAPwAAIEEAAKBAAAAQQQAAgEAAAABBAACgQAAAwEAAAOBAAACAQAAAAEAAABBBAADAQAAAAEEAAEBAAAAQQQAAgEAAAEBAAABAQAAAgEAAAABBAACAPwAAgEAAAEBAAADAQAAA4EAAAABBAAAAQAAAwEAAADBBAACAQAAAAEAAAABAAACgQAAAoEAAAMBAAAAAAAAAAEAAAIA/AAAAAAAAAAAAAAAAAAAAAAAAAAAAAAAAAAAAAAAAAAAAAAAAAACwQQAAoEEAAIhBAACoQQAAgEEAAIhBAABwQQAAsEEAAPBBAABwQQAA8EEAAJhBAAC4QQAAgEEAAIBBAAC4QQAAgEEAAGBBAACAQQAA4EEAALBBAACgQQAAcEEAAFBBAACQQQAAoEEAAEBBAABgQQAAgEEAAMBBAAAAQQAAgEEAAFBBAAAQQQAAYEEAABBBAABAQQAAEEEAAJhBAAAAQQAAUEEAAABAAABAQAAAEEEAABBBAADAQAAAEEEAABBBAAAQQQAAwEAAAMBAAACAQAAAUEEAAOBAAADgQAAA4EAAAIBAAABAQAAAEEEAAMBAAADAQAAAEEEAAIBAAACAQAAA4EAAAMBAAACAQAAAoEAAAMBAAACAQAAAAEAAAMBAAADAQAAAgD8AAAAAAACgQAAAoEAAAKBAAAAAQQAA4EAAAIBAAACAQAAAgD8AAEBAAACAQAAAAEAAAEBAAACAPwAAQEAAAIA/AAAAAAAAAAAAAAAAAAAAAAAAAAAAAAAAAAAAAAAAAAAAAAAAAACwQQAAuEEAANBBAADAQQAAmEEAAJhBAACoQQAAuEEAALBBAAC4QQAAgEEAALBBAACgQQAAmEEAAJhBAACAQQAAuEEAAJhBAADIQQAAEEEAAEBBAACoQQAAuEEAAKhBAACQQQAAUEEAAIhBAACIQQAAMEEAAABBAAAgQQAAwEAAABBBAAAwQQAAkEEAAFBBAAAAQQAAEEEAAEBBAAAAQQAAAEAAAABBAABQQQAAAEEAAMBAAAAwQQAA4EAAABBBAAAQQQAAwEAAAIBAAACgQAAAoEAAAOBAAADgQAAAoEAAABBBAACAQAAAAEEAAIBAAACgQAAAgEAAAOBAAABAQAAAQEAAAKBAAABAQAAAgEAAABBBAACAPwAAAEAAAABAAAAAQAAAAAAAAKBAAACAQAAAoEAAAIBAAACgQAAAgD8AABBBAABAQAAAAEAAAIBAAABAQAAAQEAAAABAAACgQAAAgEAAAABAAAAAAAAAAAAAAAAAAAAAAAAAAAAAAAAAAAAAAAAAAAAAAAAAAACwQQAAiEEAAJhBAACYQQAAcEEAADBBAACgQQAAoEEAAMBBAAAAQgAAcEEAAJhBAACgQQAAcEEAAJBBAACIQQAAqEEAABBBAACoQQAAgEEAALhBAACAQQAAQEEAAGBBAABwQQAA6EEAAIBBAACgQQAAYEEAAGBBAADgQAAAQEEAACBBAAAwQQAAoEAAABBBAAAgQQAAEEEAAABBAADgQAAAQEAAAKBAAADAQAAAoEAAABBBAAAAQQAAoEAAAKBAAAAAQQAAgEAAAMBAAAAAQQAAoEAAAMBAAADgQAAA4EAAAEBAAACgQAAAAEEAAMBAAAAAQAAAoEAAAEBAAAAgQQAA4EAAABBBAAAAQQAAQEAAAEBBAAAAQAAAgEAAAIBAAADAQAAAQEAAAOBAAABAQAAAgD8AAOBAAACAPwAAAEAAAIBAAAAAQAAAAAAAAIBAAACAPwAAgEAAAEBAAABAQAAAAEAAAEBAAAAAAAAAAAAAAAAAAAAAAAAAAAAAAAAAAAAAAAAAAAAAAAAAAAC4QQAA6EEAAIBBAACgQQAAoEEAAJhBAACoQQAAuEEAAJBBAABQQQAAiEEAAJhBAACIQQAAiEEAAIhBAACQQQAAkEEAAJBBAACAQQAAiEEAAHBBAACoQQAAqEEAAIBBAABAQQAA2EEAAJhBAABQQQAAMEEAACBBAABAQQAAQEEAADBBAABQQQAAQEEAACBBAABgQQAAoEAAAIBAAABQQQAA4EAAAHBBAADgQAAAMEEAAABBAAAAQQAAoEAAAEBAAADAQAAAgEAAAIBAAADgQAAAgEAAAKBAAADgQAAAgEAAAEBAAABAQAAAQEAAAIBAAAAAQQAAQEAAAMBAAACgQAAAMEEAAIBAAACAQAAAAEAAAOBAAADgQAAAoEAAABBBAACAQAAAgD8AAIBAAABAQAAAAEAAAEBAAACgQAAAwEAAAIBAAABAQAAAQEAAAEBAAAAAQAAAgD8AAABAAACAPwAAAEAAAAAAAACAPwAAAAAAAAAAAAAAAAAAAAAAAAAAAAAAAAAAAAAAAAAAAACYQQAA0EEAAGBBAADAQQAAkEEAAEBBAAC4QQAAcEEAALhBAADgQQAAcEEAAKBBAACIQQAAiEEAAGBBAADIQQAAgEEAAGBBAACAQQAAgEEAAKhBAABAQQAAgEEAACBBAACQQQAAsEEAAEBBAABQQQAAQEEAAIBBAAAgQQAAwEAAAEBBAACQQQAAIEEAAABBAABAQQAAUEEAAIA/AABAQQAAEEEAAMBAAAAgQQAAIEEAAABBAADgQAAAoEAAABBBAAAQQQAAAEEAAEBAAABAQAAAgEAAAMBAAAAAQAAA4EAAAIBAAACAQAAAgEAAAABAAABAQAAAgD8AAMBAAABAQAAAQEAAAKBAAACAPwAAAEAAAIBAAADAQAAAgEAAAOBAAACAQAAAQEAAAEBAAACgQAAAoEAAAKBAAADgQAAAAEAAAIA/AABAQAAAoEAAAMBAAADAQAAAQEAAAIBAAAAAQAAAgEAAAIA/AAAAAAAAAAAAAAAAAAAAAAAAAAAAAAAAAAAAAAAAAAAAAAAAAADQQQAAEEEAAEBBAABgQQAAiEEAAMBBAACYQQAAQEEAAIhBAACQQQAAmEEAAABCAADoQQAAcEEAANBBAAAQQQAAwEEAAMhBAACgQQAAsEEAAJhBAAC4QQAAgEEAAEBBAACgQQAAQEEAAGBBAAAQQQAAQEEAAEBBAAAwQQAAAEEAABBBAACAQQAAQEEAACBBAADgQAAAwEAAAGBBAADgQAAAwEAAAOBAAACgQAAAoEAAAMBAAAAgQQAAQEAAAABBAADgQAAA4EAAAMBAAADAQAAAwEAAAMBAAADAQAAAgD8AAIBAAACAQAAAgD8AAABAAACAQAAAgEAAAEBAAACgQAAAwEAAAEBAAACgQAAAwEAAAKBAAACAQAAAAEAAAIBAAABAQAAAgD8AAIA/AACgQAAAEEEAAABAAABAQAAAAEAAAKBAAAAAAAAAQEAAAABAAAAAQAAAgEAAAEBAAAAAQAAAwEAAAAAAAAAAAAAAAAAAAAAAAAAAAAAAAAAAAAAAAAAAAAAAAAAAAAAAAACIQQAAyEEAAMhBAACQQQAA4EAAAOhBAACwQQAAmEEAAHBBAACgQQAAYEEAAIBBAACoQQAAgEEAAIBBAAAwQQAAgEEAALhBAACIQQAAqEEAAFBBAACQQQAAcEEAAIhBAACgQQAAIEEAAHBBAABwQQAAYEEAADBBAABAQQAAgEAAAABBAAAgQQAAoEAAAABBAABgQQAA4EAAADBBAAAAQQAAEEEAAKBAAACAQAAAAEEAAOBAAADAQAAAAEEAAIA/AACAQAAAgD8AAOBAAACgQAAAoEAAAABBAADAQAAAgD8AAEBAAADAQAAAQEAAAIBAAABAQAAAgEAAAIBAAABAQAAAgD8AAKBAAAAAAAAAQEAAAIA/AAAAQAAAoEAAAKBAAACgQAAAgD8AAABAAABAQAAAQEAAAIA/AACgQAAAgEAAAOBAAAAAQQAAgEAAAABAAAAAAAAAoEAAAABAAACAPwAAgD8AAIA/AAAAAAAAAAAAAAAAAAAAAAAAAAAAAAAAAAAAAAAAAAAAAAAAAAC4QQAAcEEAAKhBAADAQQAAYEEAANBBAACQQQAA0EEAAMBBAABQQQAAcEEAAOBBAAC4QQAAoEEAAKhBAACYQQAAsEEAAHBBAAAwQQAAiEEAAIBBAACoQQAAsEEAAIhBAAAgQQAAiEEAAGBBAADgQAAAcEEAAHBBAAAQQQAAUEEAACBBAABAQQAAMEEAADBBAAAAQQAAEEEAAMBAAAAQQQAAoEAAAMBAAAAgQQAAoEAAAEBAAAAAQAAAQEAAAMBAAAAAQQAAgEAAAOBAAABAQAAAQEAAAABBAADAQAAAgEAAAMBAAADAQAAAQEAAAIA/AABAQAAAAEEAAMBAAABAQAAAgEAAAEBAAADAQAAAAEAAAKBAAAAAAAAAgEAAAKBAAABAQAAAgEAAAEBAAABAQAAAAEAAAKBAAABAQAAAAEAAAIA/AAAAAAAAQEAAAIA/AABAQAAAgD8AAABAAACAPwAAAAAAAIA/AAAAAAAAAAAAAAAAAAAAAAAAAAAAAAAAAAAAAAAAAAAAAAAAAACQQQAAcEEAAKhBAACQQQAAmEEAAJBBAACoQQAAqEEAAKhBAAAgQQAAgEEAAMBBAACYQQAAYEEAAHBBAACQQQAAcEEAALBBAACgQQAAoEEAAJBBAAAQQQAAUEEAAHBBAACAQQAAUEEAAKhBAADAQAAA4EAAADBBAAAgQQAAcEEAADBBAAAQQQAA4EAAAMBAAACgQAAAAEEAABBBAACgQAAAgEAAAKBAAACgQAAAoEAAAKBAAABAQAAAEEEAAIBAAADAQAAA4EAAAKBAAACgQAAA4EAAAOBAAAAAQAAAAEEAAMBAAABAQAAAAEAAAOBAAADAQAAAEEEAAMBAAACAPwAAAEAAAABBAACAPwAAQEAAAEBAAACAPwAAAEAAAABBAADAQAAAwEAAAABAAACAPwAAAEAAAEBAAADAQAAAQEAAAABAAACAQAAAgD8AAABAAACAPwAAQEAAAAAAAACAPwAAAEAAAABAAAAAAAAAAAAAAAAAAAAAAAAAAAAAAAAAAAAAAAAAAAAAAAAAAADAQQAAqEEAALBBAACQQQAAUEEAAIhBAACgQQAA8EEAAKBBAACwQQAAsEEAAJBBAABAQQAAsEEAAIhBAACAQQAAoEEAALBBAACAQQAAiEEAAIhBAADIQQAAkEEAAHBBAACAQQAAYEEAADBBAABAQQAAoEAAAABBAACgQAAAqEEAAMBAAADgQAAA4EAAAMBAAADAQAAAAEEAAOBAAAAgQQAAAEAAACBBAADAQAAAgEAAAABBAABAQAAAwEAAAEBAAACgQAAAgD8AAEBAAAAAQAAAoEAAAKBAAACAQAAAAEEAAIBAAACAQAAA4EAAAOBAAACgQAAAQEAAAIBAAADgQAAAwEAAAIBAAACAQAAAAAAAAIBAAAAAQAAAAAAAAIBAAACAQAAAgEAAAABAAABAQAAAgEAAAEBAAACgQAAAgEAAAEBAAADAQAAAAAAAAABAAACAPwAAAEAAAABAAAAAQAAAAAAAAAAAAAAAAAAAAAAAAAAAAAAAAAAAAAAAAAAAAAAAAAAAAAAAAAAAAABgQQAAwEEAAJBBAACoQQAAwEEAAFBBAABwQQAA0EEAANBBAACIQQAAoEEAAMhBAACQQQAAiEEAAKhBAAAQQQAAcEEAAEBBAABAQQAAkEEAAIBBAACYQQAAmEEAAFBBAABAQQAAIEEAAJhBAABQQQAAYEEAADBBAADAQAAAEEEAAKBAAAAwQQAAoEAAAMBAAAAwQQAAgEAAAKBAAACAQAAA4EAAAIBAAABAQAAA4EAAAIBAAACAQAAAgEAAAEBAAADgQAAAoEAAAABAAADgQAAAIEEAAABAAACAQAAAoEAAAEBAAACAQAAAgEAAAIBAAACgQAAAgEAAAIBAAACAPwAA4EAAAABAAAAAQQAAoEAAAEBAAAAQQQAAgEAAAIA/AACAQAAAQEAAAABAAABAQAAAgD8AAEBAAACAPwAAAAAAAIBAAAAAQAAAgEAAAIBAAAAAQAAAAEAAAIA/AABAQAAAAEAAAAAAAAAAAAAAAAAAAAAAAAAAAAAAAAAAAAAAAAAAAAAAAAAAAAAAAAC4QQAAoEEAALhBAACIQQAADEIAAIhBAACQQQAAcEEAAFBBAACYQQAAiEEAALhBAACQQQAAqEEAAABBAABQQQAAsEEAAIBBAABQQQAAsEEAADBBAACAQQAAUEEAACBBAAAwQQAAIEEAAGBBAAAQQQAAgEAAAKBAAAAwQQAAQEEAADBBAADgQAAAIEEAAIBAAACAQAAAwEAAAEBAAAAAQQAAQEAAAMBAAAAQQQAAIEEAAABAAACAPwAAAEAAACBBAACAQAAAgD8AAMBAAAAAQAAAwEAAAEBAAAAAQAAAAEAAAIBAAADAQAAAwEAAAAAAAAAAQAAAQEAAAEBAAACAQAAAAEAAAIA/AADgQAAAQEAAAEBAAAAAQAAAAEAAAIBAAADAQAAAgEAAAIA/AABAQAAAAEAAAKBAAAAAQAAAoEAAAMBAAACAPwAAAEAAAABAAACAPwAAQEAAAIA/AAAAQAAAAAAAAIA/AAAAAAAAAAAAAAAAAAAAAAAAAAAAAAAAAAAAAAAAAAAAAAAAAACYQQAAsEEAAIhBAADwQQAA4EAAANBBAABgQQAAsEEAAKBBAACoQQAAUEEAAIhBAACIQQAAiEEAAJBBAAC4QQAAcEEAAEBBAAC4QQAAgEEAACBBAACIQQAAgEEAAFBBAAAAQQAAQEEAABBBAAAgQQAAoEAAACBBAAAAQQAAIEEAAEBAAADAQAAAoEAAADBBAACgQAAAoEAAAOBAAADAQAAAoEAAACBBAACgQAAAwEAAAKBAAACAQAAA4EAAAABAAACgQAAAAEAAAAAAAAAQQQAAwEAAAEBAAADAQAAAAEAAAIBAAABAQAAAAAAAAIBAAAAAAAAAgD8AAIBAAACAPwAAAEAAAIA/AAAAQAAAgD8AAEBAAAAAQAAAgEAAAEBAAAAAQAAAAAAAAMBAAAAAQAAAAEAAAMBAAACAPwAAQEAAAAAAAADgQAAAoEAAAEBAAAAAQAAAQEAAAEBAAAAAQAAAgD8AAIA/AAAAAAAAAAAAAAAAAAAAAAAAAAAAAAAAAAAAAAAAAAAAAAAAAACoQQAAYEEAAJBBAADAQQAAmEEAAEBBAACYQQAAgEEAALBBAADIQQAA0EEAAIhBAABgQQAAEEEAAIBBAABwQQAAYEEAAIhBAACAQQAAMEEAAIBBAACYQQAAMEEAACBBAABgQQAAEEEAABBBAADAQAAAoEAAABBBAADAQAAAEEEAAOBAAADgQAAAoEAAAOBAAABAQAAAwEAAAMBAAABAQQAAQEAAAKBAAABAQQAA4EAAAKBAAADAQAAAQEAAAKBAAACAPwAAgEAAAEBAAACgQAAAgEAAAMBAAABAQAAAAEAAAABAAACAQAAAAEAAAMBAAACgQAAAAEAAAIA/AACAPwAAAEAAAEBAAABAQAAAQEAAAIBAAACAPwAAQEAAAAAAAABAQAAAQEAAAAAAAACAQAAAAEAAAKBAAACAPwAAAAAAAEBAAACAPwAAgD8AAABAAACAPwAAgD8AAIA/AACAPwAAgEAAAAAAAAAAAAAAAAAAAAAAAAAAAAAAAAAAAAAAAAAAAAAAAAAAAAAAAACoQQAAsEEAAIBBAADIQQAAqEEAAJBBAADAQQAAwEEAAMhBAABwQQAAgEEAALhBAACIQQAAkEEAAHBBAADQQQAAYEEAAKhBAACAQQAAAEEAACBBAABAQAAAQEEAABBBAADgQAAAAEEAADBBAABwQQAAMEEAAMBAAABAQQAAEEEAAEBAAAAAQQAAEEEAAIBAAABAQAAAQEAAAKBAAAAAQQAA4EAAAABAAAAAQQAAwEAAAIA/AABAQAAAAEAAAKBAAABAQAAAEEEAAIA/AACgQAAAQEAAAMBAAABAQAAAoEAAAIBAAABAQAAAgD8AAIA/AACAQAAAQEAAAEBAAAAAQAAAAEAAAABAAACAPwAAAAAAAABAAABAQAAAQEAAAIBAAADAQAAAgEAAAABAAABAQAAAAEAAAAAAAACAQAAAAEAAAABAAACAPwAAAEAAAEBAAACAPwAAAAAAAIA/AAAAQAAAAAAAAAAAAAAAAAAAAAAAAAAAAAAAAAAAAAAAAAAAAAAAAAAAAAAAAAAAAAC4QQAAEEEAALBBAADAQQAAwEEAAIhBAAC4QQAA8EEAAOBBAACgQQAAUEEAAGBBAABQQQAAqEEAAKhBAABAQQAAkEEAALhBAACYQQAAMEEAAABBAAAwQQAAAEEAAEBBAABgQQAAIEEAAKBAAAAAQQAAQEAAAIBAAACgQAAAAEEAACBBAABAQAAA4EAAAOBAAAAQQQAAIEEAAAAAAACgQAAA4EAAAEBAAACAQAAAAEAAAOBAAACAQAAAgD8AAEBAAACAPwAAgD8AAIA/AADAQAAAQEAAAKBAAACAQAAAAEAAAIA/AABAQAAAgD8AAIA/AACAQAAAQEAAAEBAAABAQAAAoEAAAABAAABAQAAAgD8AAKBAAACAPwAAgD8AAABAAACAPwAAgD8AAABAAADgQAAAAEAAAEBAAACAQAAAgEAAAABAAACAPwAAgD8AAAAAAACAPwAAgD8AAAAAAACAPwAAgD8AAIA/AAAAAAAAAAAAAAAAAAAAAAAAAAAAAAAAAAAAAAAAAAAAAAAAAACYQQAAYEEAAMhBAADQQQAAEEEAAJhBAACQQQAAmEEAAIhBAADAQQAAcEEAADBBAADgQAAAqEEAALBBAABgQQAAcEEAAEBBAACwQQAAIEEAAMBAAAAgQQAAMEEAAIBAAADgQAAAUEEAAMBAAACgQAAAgEAAAOBAAADgQAAAgEAAAIBAAABAQAAA4EAAAMBAAABAQAAAoEAAAAAAAACAQAAAQEAAAIBAAADAQAAAQEAAAIBAAAAAQAAAAEAAAKBAAACAPwAAQEAAAABAAACAQAAAgD8AAIA/AACgQAAAgD8AAABAAAAAQAAAAEAAAABAAACAPwAAwEAAAIA/AACAQAAAQEAAAABAAAAAQAAAgEAAAAAAAAAAQAAAQEAAAEBAAABAQAAAAEAAAEBAAAAAQAAAwEAAAAAAAACAQAAAAEAAAEBAAAAAQAAAAEAAAABAAABAQAAAgD8AAIA/AAAAAAAAAAAAAAAAAAAAAAAAAAAAAAAAAAAAAAAAAAAAAAAAAAAAAAAAAAAAAAAAAABQQQAAmEEAAIBBAACIQQAAgEEAAIBBAACAQQAAiEEAAIBBAACoQQAAoEEAAIBBAABQQQAAqEEAAIhBAACYQQAAkEEAAEBBAAAQQQAAAEEAAMBAAABAQQAAMEEAAMBAAAAgQQAAwEAAABBBAACAQAAAwEAAAOBAAACgQAAAoEAAAIBAAACAQAAA4EAAAOBAAABAQAAAgEAAAKBAAAAAQAAAQEAAAABAAADgQAAA4EAAAABAAACAPwAAgD8AAABAAAAAQAAAgD8AAKBAAACAQAAA4EAAAEBAAACgQAAAoEAAAABAAABAQAAAgD8AAKBAAACgQAAAAEAAAAAAAAAAQAAAAEAAAMBAAAAAQAAAgD8AAEBAAAAAQAAAQEAAAAAAAACAQAAAAAAAAAAAAACAPwAAAEAAAAAAAAAAQAAAAAAAAAAAAACAPwAAgD8AAABAAACAPwAAQEAAAAAAAAAAAAAAAAAAAAAAAAAAAAAAAAAAAAAAAAAAAAAAAAAAAAAAAAAAAAAAAAAAAAAAAADAQQAAkEEAAMhBAACgQQAAiEEAAKBBAACwQQAA4EEAALBBAACYQQAA0EEAAABBAACIQQAAQEEAAHBBAAAwQQAAQEEAADBBAAAQQQAAoEAAAABBAAAwQQAAEEEAAFBBAACgQAAAoEAAAIBAAACAQAAAIEEAAIA/AAAgQQAAgEAAAIBAAABAQAAAQEAAAIA/AACAQAAAQEAAAMBAAACAQAAAoEAAAKBAAAAAAAAAwEAAAAAAAABAQAAAAEAAAABAAACAQAAAAEAAAEBAAAAAQAAAgD8AAAAAAABAQAAAAEAAAIA/AADAQAAAAAAAAEBAAAAAQAAAAAAAAKBAAABAQAAAgD8AAIA/AACAPwAAgD8AAIA/AADAQAAAgD8AAIBAAAAAAAAAgD8AAEBAAACgQAAAgEAAAABAAACAPwAAgD8AAIA/AAAAQAAAgD8AAAAAAACAPwAAgD8AAEBAAACAPwAAAAAAAAAAAAAAAAAAAAAAAAAAAAAAAAAAAAAAAAAAAAAAAAAAAAAAAAAAAAAwQQAAiEEAAKhBAABwQQAAcEEAAIhBAABQQQAAqEEAAIhBAACIQQAAUEEAAIBBAACIQQAAUEEAAEBBAABwQQAAkEEAADBBAAAgQQAAYEEAACBBAAAAQQAAAEEAAABBAAAAQQAAAEAAADBBAADgQAAAwEAAAABAAADAQAAAwEAAAEBAAACAPwAAQEAAAIA/AAAAQAAAoEAAAKBAAACAQAAAQEAAAIA/AACAPwAAAEAAAIA/AADAQAAAAAAAAEBAAACAQAAAAEAAAEBAAACAQAAAAEAAAIA/AABAQAAAgD8AAKBAAAAAQAAA4EAAAABAAACAPwAAgD8AAEBAAACAPwAAoEAAAIA/AACAQAAAgD8AAABAAACAPwAAgD8AAABAAAAAAAAAAEAAAEBAAADAQAAAAEAAAAAAAAAAAAAAgD8AAABAAACAPwAAQEAAAABAAACAPwAAgD8AAIA/AAAAAAAAAAAAAAAAAAAAAAAAAAAAAAAAAAAAAAAAAAAAAAAAAAAAAAAAAAAAAAAAAABgQQAAgEEAADBBAAAwQQAAkEEAAMhBAADAQQAAIEEAAIhBAAAwQQAAIEEAAJBBAACgQQAAiEEAAIBBAAAgQQAAIEEAACBBAAAQQQAAAEEAAOBAAAAgQQAAMEEAAIBAAACgQAAAgEAAAABAAACgQAAAwEAAAMBAAABAQAAAgEAAAEBAAACgQAAAgD8AAOBAAACAQAAAoEAAAKBAAACAPwAAgD8AAEBAAACgQAAAAEAAAIA/AACAPwAAgD8AAEBAAAAAAAAAAEAAAEBAAAAAAAAAgD8AAAAAAAAAQAAAgEAAAABAAAAAQAAAAEAAAABAAAAAQAAAAEAAAEBAAACAPwAAgD8AAMBAAAAAQAAAAEAAAAAAAABAQAAAAAAAAABAAACAPwAAgD8AAAAAAACAPwAAAAAAAIA/AAAAQAAAAAAAAABAAAAAQAAAAAAAAAAAAAAAAAAAAAAAAAAAAACAPwAAAAAAAAAAAAAAAAAAAAAAAAAAAAAAAAAAAAAAAAAAAAAAAAAAAAAAAAAAAABwQQAAiEEAAFBBAAAwQQAA2EEAAJBBAABQQQAAiEEAAIhBAACoQQAAkEEAAHBBAACIQQAAMEEAAEBBAABgQQAAgEAAAIBAAACAQAAAoEAAAIBAAAAAQQAAwEAAAIBAAACgQAAAwEAAAMBAAACAPwAAgEAAAIA/AACgQAAAAEAAAIBAAACAQAAAoEAAAEBAAAAAQAAAoEAAAABAAACAPwAAAAAAAABAAACgQAAAAAAAAAAAAAAAAAAAgD8AAABAAABAQAAAoEAAAMBAAAAAQAAAgD8AAABAAAAAAAAAgD8AAEBAAACAPwAAAEAAAAAAAACAPwAAgEAAAIA/AABAQAAAAAAAAAAAAAAAAAAAAEAAAABAAACAPwAAgD8AAABAAAAAAAAAwEAAAAAAAAAAAAAAAAAAAAAAAAAAQAAAgD8AAABAAAAAAAAAAAAAAAAAAAAAAAAAAAAAAIA/AAAAAAAAAAAAAAAAAAAAAAAAAAAAAAAAAAAAAAAAAAAAAAAAAAAAAAAAAAAAAAAAAACYQQAAmEEAAKhBAABQQQAAgEEAAGBBAACgQQAAoEEAAIBBAACoQQAAkEEAAJhBAAAgQQAA4EAAAMBAAACAQQAAMEEAAMBAAABAQQAAAEEAAMBAAACAQAAAoEAAAEBAAABAQAAAwEAAAEBAAACAPwAAoEAAAEBAAACAQAAAQEAAAIBAAAAAQAAAQEAAAABAAACgQAAAQEAAAAAAAACgQAAAAEAAAAAAAAAAQAAAgD8AAABAAABAQAAAQEAAAEBAAABAQAAAgD8AAABAAAAAQAAAgD8AAEBAAABAQAAAgD8AAIA/AACAPwAAAEAAAIA/AAAAAAAAQEAAAABAAAAAAAAAAEAAAAAAAACAPwAAAEAAAAAAAACAPwAAAAAAAAAAAAAAQAAAAAAAAAAAAAAAAAAAgD8AAAAAAAAAAAAAAEAAAAAAAAAAQAAAAAAAAIA/AACAPwAAAAAAAEBAAACAPwAAAEAAAAAAAAAAAAAAAAAAAAAAAAAAAAAAAAAAAAAAAAAAAAAAAAAAAAAAAACoQQAAkEEAAJhBAABQQQAAkEEAAHBBAADIQQAAgEEAAIBBAABwQQAAUEEAABBBAACAQQAAUEEAAEBBAAAwQQAAwEAAAABBAAAAQAAAoEAAAIBAAAAAQQAAQEAAAMBAAACAQAAAQEAAAABAAAAAQAAAQEAAAIA/AAAAQAAAAEAAAABAAAAAAAAAgD8AAABAAACAPwAAAEAAAABAAACAPwAAQEAAAABAAAAAAAAAAEAAAEBAAACAPwAAgEAAAAAAAACAPwAAQEAAAIA/AAAAQAAAAEAAAAAAAACAPwAAAEAAAEBAAAAAAAAAAEAAAABAAAAAAAAAgD8AAIA/AAAAQAAAgD8AAABAAAAAAAAAgD8AAABAAAAAAAAAAEAAAAAAAAAAQAAAgD8AAAAAAAAAQAAAAAAAAIA/AACAPwAAAEAAAAAAAAAAAAAAAAAAAIA/AAAAAAAAgD8AAIA/AAAAAAAAAAAAAAAAAAAAAAAAAAAAAAAAAAAAAAAAAAAAAAAAAAAAAAAAAAAAAAAAAACIQQAAmEEAAIhBAABwQQAAkEEAABBBAABwQQAAYEEAAIhBAACAQQAAgEEAAABBAACAQQAAMEEAAABBAAAQQQAAoEAAAMBAAADgQAAAAEEAAMBAAACgQAAAgEAAAEBAAADgQAAAQEAAAABBAACgQAAAQEAAAMBAAAAAAAAAAEAAAEBAAAAAAAAAQEAAAEBAAACgQAAAgD8AAIBAAACAPwAAAEAAAEBAAABAQAAAwEAAAABAAAAAAAAAgD8AAIA/AABAQAAAAAAAAAAAAACAQAAAAAAAAAAAAACAPwAAAEAAAAAAAAAAAAAAAEAAAABAAACAPwAAAAAAAABAAACAPwAAgD8AAIA/AACAPwAAAAAAAAAAAAAAAAAAAAAAAAAAAAAAAAAAAAAAAIA/AACAPwAAAAAAAAAAAAAAAAAAgD8AAIA/AAAAAAAAAAAAAAAAAAAAAAAAgD8AAAAAAAAAAAAAAAAAAAAAAAAAAAAAAAAAAAAAAAAAAAAAAAAAAAAAAAAAAAAAAAAAAAAAAAC4QQAAUEEAAMhBAABgQQAAmEEAAJhBAACIQQAAkEEAACBBAAAQQQAAYEEAADBBAAAgQQAA4EAAAABBAACAQAAAAEEAAEBAAACAQAAAgEAAAABAAABAQAAAAEAAAIA/AAAAQAAAQEAAAAAAAAAAQAAAgD8AAABAAAAAQAAAgEAAAAAAAACAQAAAAAAAAKBAAACAPwAAAAAAAIBAAAAAAAAAgD8AAIA/AAAAAAAAQEAAAIA/AABAQAAAQEAAAIA/AAAAQAAAgD8AAAAAAACAPwAAgD8AAAAAAACAPwAAAEAAAABAAAAAAAAAgD8AAAAAAACAPwAAgD8AAIA/AACAPwAAAAAAAAAAAACAPwAAAAAAAAAAAABAQAAAgD8AAIA/AACAPwAAAAAAAAAAAACAPwAAgD8AAAAAAAAAAAAAgD8AAAAAAACAPwAAAEAAAAAAAAAAAAAAAAAAAIA/AAAAAAAAAAAAAAAAAAAAAAAAAAAAAAAAAAAAAAAAAAAAAAAAAAAAAAAAAAAAAAAAAAAQQQAAEEEAAJhBAACIQQAAcEEAAJBBAABAQQAAYEEAAFBBAAAAQQAAIEEAADBBAACgQAAAAEAAAEBAAAAAQAAAwEAAAMBAAADgQAAAAEAAAABAAAAAQAAAgD8AAAAAAACAPwAAQEAAAIA/AAAAQAAAAEAAAABAAAAAQAAAAAAAAABAAAAAQAAAAAAAAAAAAAAAAAAAgD8AAEBAAAAAQAAAgD8AAIA/AABAQAAAgEAAAABAAACAPwAAAEAAAIA/AAAAAAAAgD8AAAAAAACAPwAAgD8AAAAAAAAAAAAAgD8AAAAAAACAPwAAAEAAAAAAAACAPwAAgD8AAIA/AACAPwAAAEAAAAAAAACAPwAAAAAAAAAAAAAAAAAAAEAAAABAAAAAQAAAAAAAAIA/AAAAAAAAgD8AAIA/AAAAAAAAAAAAAAAAAACAPwAAgD8AAAAAAAAAAAAAAAAAAAAAAAAAAAAAAAAAAAAAAAAAAAAAAAAAAAAAAAAAAAAAAAAAAAAAAAAAAAAAAAAAAAAAAACoQQAAQEEAAMBAAACgQQAAIEEAAKhBAABwQQAAMEEAACBBAACgQAAAQEEAAMBAAACgQAAA4EAAAIBAAACAQAAAoEAAAEBAAAAAQAAAgEAAAIA/AACAQAAAAEAAAABAAAAAQAAAAEAAAIBAAAAAAAAAQEAAAAAAAAAAQAAAQEAAAIA/AACAPwAAAAAAAABAAAAAAAAAgD8AAIA/AAAAAAAAgEAAAIA/AAAAAAAAAEAAAIA/AAAAQAAAAAAAAAAAAAAAQAAAAAAAAIA/AAAAQAAAAAAAAAAAAAAAAAAAgD8AAAAAAAAAAAAAgEAAAAAAAACAPwAAAEAAAIA/AAAAAAAAAEAAAAAAAAAAAAAAgD8AAAAAAAAAQAAAgD8AAAAAAAAAQAAAgD8AAAAAAAAAAAAAgD8AAAAAAAAAAAAAAAAAAAAAAAAAAAAAAAAAAAAAAAAAAAAAgD8AAAAAAAAAAAAAAAAAAAAAAAAAAAAAAAAAAAAAAAAAAAAAAAAAAAAAAAAAAAAAAAAAAAAAAAAgQQAAiEEAAGBBAAAQQQAAYEEAAJBBAADgQAAAMEEAAABBAABAQAAAgD8AAOBAAACAQAAAAEAAAIBAAABAQAAAgEAAAEBAAABAQAAAAEAAAABAAAAAQAAAgEAAAIA/AAAAAAAAgD8AAIA/AABAQAAAgD8AAABAAAAAAAAAAAAAAAAAAAAAAAAAAAAAAABAAABAQAAAQEAAAIA/AAAAAAAAAEAAAAAAAACAPwAAgD8AAABAAACAPwAAAAAAAAAAAACAPwAAAAAAAAAAAAAAAAAAgD8AAIA/AAAAAAAAAAAAAIA/AAAAAAAAgD8AAABAAAAAAAAAgD8AAAAAAAAAAAAAgD8AAIA/AAAAAAAAAAAAAIA/AAAAAAAAAEAAAAAAAAAAAAAAAAAAAAAAAAAAAAAAAAAAAAAAAAAAAAAAAAAAAAAAAAAAAAAAAAAAAIA/AAAAAAAAAAAAAAAAAAAAAAAAAAAAAAAAAAAAAAAAAAAAAAAAAAAAAAAAAAAAAAAAAAAAAAAAAAAAAAAAAABgQQAAcEEAAJhBAACAQQAAYEEAAFBBAADgQAAAAEEAAABBAACgQAAA4EAAAOBAAAAAAAAAgEAAAIA/AACAPwAAAEAAAIA/AAAAQAAAgD8AAIBAAACAPwAAgEAAAKBAAABAQAAAAEAAAAAAAAAAAAAAgD8AAABAAAAAQAAAAAAAAEBAAAAAAAAAgD8AAAAAAAAAAAAAgD8AAAAAAACAPwAAAAAAAAAAAACAPwAAgD8AAAAAAAAAAAAAAEAAAAAAAAAAAAAAgD8AAIA/AAAAAAAAAAAAAAAAAACAPwAAAAAAAAAAAAAAAAAAgD8AAABAAAAAAAAAAAAAAIA/AAAAAAAAAAAAAAAAAAAAAAAAAAAAAIA/AACAPwAAAAAAAAAAAAAAAAAAAAAAAAAAAAAAAAAAgD8AAAAAAAAAAAAAAAAAAAAAAAAAAAAAAAAAAAAAAAAAAAAAgD8AAAAAAAAAAAAAAAAAAAAAAAAAAAAAAAAAAAAAAAAAAAAAAAAAAAAAAAAAAAAAAAAAAAAAAACIQQAAYEEAAJBBAACIQQAAIEEAAOBAAACgQAAAQEAAAIBAAACAQAAAgD8AAABAAACAQAAAAAAAAAAAAAAAAAAAgD8AAAAAAACAPwAAQEAAAEBAAAAAAAAAAAAAAIA/AACAQAAAgD8AAIA/AACAPwAAAAAAAAAAAAAAAAAAgD8AAAAAAAAAAAAAAAAAAIA/AAAAAAAAAAAAAAAAAAAAAAAAgD8AAAAAAAAAAAAAAAAAAIA/AACAPwAAgD8AAIA/AAAAAAAAAAAAAAAAAAAAAAAAAAAAAIA/AAAAAAAAgD8AAAAAAAAAAAAAAAAAAAAAAAAAAAAAAAAAAAAAAAAAAAAAAAAAAAAAAAAAAAAAAAAAAAAAAAAAAAAAAAAAAAAAAAAAAAAAAAAAAAAAAAAAAAAAgD8AAAAAAAAAAAAAAAAAAAAAAAAAAAAAAAAAAAAAAAAAAAAAAAAAAAAAAAAAAAAAAAAAAAAAAAAAAAAAAAAAAAAAAAAAAAAAAAAAAAAAAAAAAAAAAAAAAAAAAABAQQAAoEEAAHBBAAAQQQAAQEAAAKBAAAAAQAAAAEAAAABAAADgQAAA4EAAAKBAAACgQAAAAEAAAABAAACAPwAAAAAAAABAAAAAAAAAgD8AAAAAAAAAAAAAAAAAAIA/AAAAAAAAAAAAAAAAAACAPwAAgD8AAAAAAAAAAAAAAAAAAAAAAAAAAAAAAAAAAAAAAACAPwAAAAAAAAAAAAAAAAAAAAAAAAAAAAAAQAAAAAAAAAAAAAAAAAAAAAAAAAAAAAAAAAAAAAAAAAAAAAAAAAAAAAAAAAAAAAAAAAAAAAAAAAAAAAAAAAAAAAAAAAAAAAAAAAAAgD8AAAAAAAAAAAAAAAAAAAAAAACAPwAAAAAAAAAAAAAAAAAAAAAAAAAAAAAAAAAAAAAAAAAAAAAAAAAAAAAAAAAAAAAAAAAAAAAAAAAAAAAAAAAAAAAAAAAAAAAAAAAAAAAAAAAAAAAAAAAAAAAAAAAAAAAAAAAAAAAAAAAAAAAAAAAAAAAAAAAAAAAAAAAAAAAAAAAAAADIQQAAgEEAABBBAAAgQQAAAEAAAABAAAAAAAAAQEAAAABAAACAPwAAgD8AAABAAAAAQAAAAAAAAIA/AAAAAAAAAAAAAAAAAAAAAAAAgD8AAAAAAAAAAAAAgD8AAAAAAAAAAAAAAAAAAAAAAAAAAAAAAAAAAAAAAAAAAAAAQEAAAIA/AAAAAAAAAAAAAAAAAAAAAAAAAAAAAAAAAAAAAAAAAAAAAIA/AAAAAAAAAAAAAAAAAACAPwAAgD8AAAAAAAAAAAAAAAAAAAAAAAAAAAAAAAAAAAAAAACAPwAAAAAAAAAAAAAAAAAAAAAAAAAAAAAAAAAAAAAAAAAAAAAAAAAAAAAAAAAAAAAAAAAAAAAAAAAAAAAAAAAAAAAAAAAAAAAAAAAAAAAAAAAAAAAAAAAAAAAAAAAAAAAAAAAAAAAAAAAAAAAAAAAAAAAAAAAAAAAAAAAAAAAAAAAAAAAAAAAAAAAAAAAAAAAAAAAAAAAAAAAAAAAAAAAAAAAAAAAAAAAAAAAAAAAAAAAAAADIQQAAgEAAAIA/AACAQAAAAAAAAEBAAACAPwAAAAAAAIA/AAAAAAAAAAAAAAAAAAAAAAAAAAAAAAAAAAAAAAAAAAAAAAAAAAAAAAAAAAAAAAAAAAAAAAAAAAAAAIA/AAAAAAAAAAAAAAAAAAAAAAAAAAAAAAAAAAAAAAAAAAAAAAAAAAAAAAAAAAAAAAAAAAAAAAAAAAAAAAAAAAAAAAAAAAAAAAAAAAAAAAAAAAAAAAAAAAAAAAAAAAAAAAAAAAAAAAAAAAAAAAAAAAAAAAAAAAAAAAAAAAAAAAAAAAAAAAAAAAAAAAAAAAAAAAAAAAAAAAAAAAAAAAAAAAAAAAAAAAAAAAAAAAAAAAAAAAAAAAAAAAAAAAAAAAAAAAAAAAAAAAAAAAAAAAAAAAAAAAAAAAAAAAAAAAAAAAAAAAAAAAAAAAAAAAAAAAAAAAAAAAAAAAAAAAAAAAAAAAAAAAAAAAAAAAAAAAAAAAAAAAAAAAAAAAAAAAAAAAAAAAAAAAAAAAAAAAAAAAAA",
          "dtype": "f4",
          "shape": "74, 99"
         }
        }
       ],
       "layout": {
        "annotations": [
         {
          "font": {
           "size": 16
          },
          "showarrow": false,
          "text": "Radial Distance vs Azimuthal Angle",
          "x": 0.2125,
          "xanchor": "center",
          "xref": "paper",
          "y": 1,
          "yanchor": "bottom",
          "yref": "paper"
         },
         {
          "font": {
           "size": 16
          },
          "showarrow": false,
          "text": "Axial Position vs Polar Angle",
          "x": 0.7875,
          "xanchor": "center",
          "xref": "paper",
          "y": 1,
          "yanchor": "bottom",
          "yref": "paper"
         }
        ],
        "font": {
         "size": 12
        },
        "height": 500,
        "template": {
         "data": {
          "bar": [
           {
            "error_x": {
             "color": "#2a3f5f"
            },
            "error_y": {
             "color": "#2a3f5f"
            },
            "marker": {
             "line": {
              "color": "#E5ECF6",
              "width": 0.5
             },
             "pattern": {
              "fillmode": "overlay",
              "size": 10,
              "solidity": 0.2
             }
            },
            "type": "bar"
           }
          ],
          "barpolar": [
           {
            "marker": {
             "line": {
              "color": "#E5ECF6",
              "width": 0.5
             },
             "pattern": {
              "fillmode": "overlay",
              "size": 10,
              "solidity": 0.2
             }
            },
            "type": "barpolar"
           }
          ],
          "carpet": [
           {
            "aaxis": {
             "endlinecolor": "#2a3f5f",
             "gridcolor": "white",
             "linecolor": "white",
             "minorgridcolor": "white",
             "startlinecolor": "#2a3f5f"
            },
            "baxis": {
             "endlinecolor": "#2a3f5f",
             "gridcolor": "white",
             "linecolor": "white",
             "minorgridcolor": "white",
             "startlinecolor": "#2a3f5f"
            },
            "type": "carpet"
           }
          ],
          "choropleth": [
           {
            "colorbar": {
             "outlinewidth": 0,
             "ticks": ""
            },
            "type": "choropleth"
           }
          ],
          "contour": [
           {
            "colorbar": {
             "outlinewidth": 0,
             "ticks": ""
            },
            "colorscale": [
             [
              0,
              "#0d0887"
             ],
             [
              0.1111111111111111,
              "#46039f"
             ],
             [
              0.2222222222222222,
              "#7201a8"
             ],
             [
              0.3333333333333333,
              "#9c179e"
             ],
             [
              0.4444444444444444,
              "#bd3786"
             ],
             [
              0.5555555555555556,
              "#d8576b"
             ],
             [
              0.6666666666666666,
              "#ed7953"
             ],
             [
              0.7777777777777778,
              "#fb9f3a"
             ],
             [
              0.8888888888888888,
              "#fdca26"
             ],
             [
              1,
              "#f0f921"
             ]
            ],
            "type": "contour"
           }
          ],
          "contourcarpet": [
           {
            "colorbar": {
             "outlinewidth": 0,
             "ticks": ""
            },
            "type": "contourcarpet"
           }
          ],
          "heatmap": [
           {
            "colorbar": {
             "outlinewidth": 0,
             "ticks": ""
            },
            "colorscale": [
             [
              0,
              "#0d0887"
             ],
             [
              0.1111111111111111,
              "#46039f"
             ],
             [
              0.2222222222222222,
              "#7201a8"
             ],
             [
              0.3333333333333333,
              "#9c179e"
             ],
             [
              0.4444444444444444,
              "#bd3786"
             ],
             [
              0.5555555555555556,
              "#d8576b"
             ],
             [
              0.6666666666666666,
              "#ed7953"
             ],
             [
              0.7777777777777778,
              "#fb9f3a"
             ],
             [
              0.8888888888888888,
              "#fdca26"
             ],
             [
              1,
              "#f0f921"
             ]
            ],
            "type": "heatmap"
           }
          ],
          "histogram": [
           {
            "marker": {
             "pattern": {
              "fillmode": "overlay",
              "size": 10,
              "solidity": 0.2
             }
            },
            "type": "histogram"
           }
          ],
          "histogram2d": [
           {
            "colorbar": {
             "outlinewidth": 0,
             "ticks": ""
            },
            "colorscale": [
             [
              0,
              "#0d0887"
             ],
             [
              0.1111111111111111,
              "#46039f"
             ],
             [
              0.2222222222222222,
              "#7201a8"
             ],
             [
              0.3333333333333333,
              "#9c179e"
             ],
             [
              0.4444444444444444,
              "#bd3786"
             ],
             [
              0.5555555555555556,
              "#d8576b"
             ],
             [
              0.6666666666666666,
              "#ed7953"
             ],
             [
              0.7777777777777778,
              "#fb9f3a"
             ],
             [
              0.8888888888888888,
              "#fdca26"
             ],
             [
              1,
              "#f0f921"
             ]
            ],
            "type": "histogram2d"
           }
          ],
          "histogram2dcontour": [
           {
            "colorbar": {
             "outlinewidth": 0,
             "ticks": ""
            },
            "colorscale": [
             [
              0,
              "#0d0887"
             ],
             [
              0.1111111111111111,
              "#46039f"
             ],
             [
              0.2222222222222222,
              "#7201a8"
             ],
             [
              0.3333333333333333,
              "#9c179e"
             ],
             [
              0.4444444444444444,
              "#bd3786"
             ],
             [
              0.5555555555555556,
              "#d8576b"
             ],
             [
              0.6666666666666666,
              "#ed7953"
             ],
             [
              0.7777777777777778,
              "#fb9f3a"
             ],
             [
              0.8888888888888888,
              "#fdca26"
             ],
             [
              1,
              "#f0f921"
             ]
            ],
            "type": "histogram2dcontour"
           }
          ],
          "mesh3d": [
           {
            "colorbar": {
             "outlinewidth": 0,
             "ticks": ""
            },
            "type": "mesh3d"
           }
          ],
          "parcoords": [
           {
            "line": {
             "colorbar": {
              "outlinewidth": 0,
              "ticks": ""
             }
            },
            "type": "parcoords"
           }
          ],
          "pie": [
           {
            "automargin": true,
            "type": "pie"
           }
          ],
          "scatter": [
           {
            "fillpattern": {
             "fillmode": "overlay",
             "size": 10,
             "solidity": 0.2
            },
            "type": "scatter"
           }
          ],
          "scatter3d": [
           {
            "line": {
             "colorbar": {
              "outlinewidth": 0,
              "ticks": ""
             }
            },
            "marker": {
             "colorbar": {
              "outlinewidth": 0,
              "ticks": ""
             }
            },
            "type": "scatter3d"
           }
          ],
          "scattercarpet": [
           {
            "marker": {
             "colorbar": {
              "outlinewidth": 0,
              "ticks": ""
             }
            },
            "type": "scattercarpet"
           }
          ],
          "scattergeo": [
           {
            "marker": {
             "colorbar": {
              "outlinewidth": 0,
              "ticks": ""
             }
            },
            "type": "scattergeo"
           }
          ],
          "scattergl": [
           {
            "marker": {
             "colorbar": {
              "outlinewidth": 0,
              "ticks": ""
             }
            },
            "type": "scattergl"
           }
          ],
          "scattermap": [
           {
            "marker": {
             "colorbar": {
              "outlinewidth": 0,
              "ticks": ""
             }
            },
            "type": "scattermap"
           }
          ],
          "scattermapbox": [
           {
            "marker": {
             "colorbar": {
              "outlinewidth": 0,
              "ticks": ""
             }
            },
            "type": "scattermapbox"
           }
          ],
          "scatterpolar": [
           {
            "marker": {
             "colorbar": {
              "outlinewidth": 0,
              "ticks": ""
             }
            },
            "type": "scatterpolar"
           }
          ],
          "scatterpolargl": [
           {
            "marker": {
             "colorbar": {
              "outlinewidth": 0,
              "ticks": ""
             }
            },
            "type": "scatterpolargl"
           }
          ],
          "scatterternary": [
           {
            "marker": {
             "colorbar": {
              "outlinewidth": 0,
              "ticks": ""
             }
            },
            "type": "scatterternary"
           }
          ],
          "surface": [
           {
            "colorbar": {
             "outlinewidth": 0,
             "ticks": ""
            },
            "colorscale": [
             [
              0,
              "#0d0887"
             ],
             [
              0.1111111111111111,
              "#46039f"
             ],
             [
              0.2222222222222222,
              "#7201a8"
             ],
             [
              0.3333333333333333,
              "#9c179e"
             ],
             [
              0.4444444444444444,
              "#bd3786"
             ],
             [
              0.5555555555555556,
              "#d8576b"
             ],
             [
              0.6666666666666666,
              "#ed7953"
             ],
             [
              0.7777777777777778,
              "#fb9f3a"
             ],
             [
              0.8888888888888888,
              "#fdca26"
             ],
             [
              1,
              "#f0f921"
             ]
            ],
            "type": "surface"
           }
          ],
          "table": [
           {
            "cells": {
             "fill": {
              "color": "#EBF0F8"
             },
             "line": {
              "color": "white"
             }
            },
            "header": {
             "fill": {
              "color": "#C8D4E3"
             },
             "line": {
              "color": "white"
             }
            },
            "type": "table"
           }
          ]
         },
         "layout": {
          "annotationdefaults": {
           "arrowcolor": "#2a3f5f",
           "arrowhead": 0,
           "arrowwidth": 1
          },
          "autotypenumbers": "strict",
          "coloraxis": {
           "colorbar": {
            "outlinewidth": 0,
            "ticks": ""
           }
          },
          "colorscale": {
           "diverging": [
            [
             0,
             "#8e0152"
            ],
            [
             0.1,
             "#c51b7d"
            ],
            [
             0.2,
             "#de77ae"
            ],
            [
             0.3,
             "#f1b6da"
            ],
            [
             0.4,
             "#fde0ef"
            ],
            [
             0.5,
             "#f7f7f7"
            ],
            [
             0.6,
             "#e6f5d0"
            ],
            [
             0.7,
             "#b8e186"
            ],
            [
             0.8,
             "#7fbc41"
            ],
            [
             0.9,
             "#4d9221"
            ],
            [
             1,
             "#276419"
            ]
           ],
           "sequential": [
            [
             0,
             "#0d0887"
            ],
            [
             0.1111111111111111,
             "#46039f"
            ],
            [
             0.2222222222222222,
             "#7201a8"
            ],
            [
             0.3333333333333333,
             "#9c179e"
            ],
            [
             0.4444444444444444,
             "#bd3786"
            ],
            [
             0.5555555555555556,
             "#d8576b"
            ],
            [
             0.6666666666666666,
             "#ed7953"
            ],
            [
             0.7777777777777778,
             "#fb9f3a"
            ],
            [
             0.8888888888888888,
             "#fdca26"
            ],
            [
             1,
             "#f0f921"
            ]
           ],
           "sequentialminus": [
            [
             0,
             "#0d0887"
            ],
            [
             0.1111111111111111,
             "#46039f"
            ],
            [
             0.2222222222222222,
             "#7201a8"
            ],
            [
             0.3333333333333333,
             "#9c179e"
            ],
            [
             0.4444444444444444,
             "#bd3786"
            ],
            [
             0.5555555555555556,
             "#d8576b"
            ],
            [
             0.6666666666666666,
             "#ed7953"
            ],
            [
             0.7777777777777778,
             "#fb9f3a"
            ],
            [
             0.8888888888888888,
             "#fdca26"
            ],
            [
             1,
             "#f0f921"
            ]
           ]
          },
          "colorway": [
           "#636efa",
           "#EF553B",
           "#00cc96",
           "#ab63fa",
           "#FFA15A",
           "#19d3f3",
           "#FF6692",
           "#B6E880",
           "#FF97FF",
           "#FECB52"
          ],
          "font": {
           "color": "#2a3f5f"
          },
          "geo": {
           "bgcolor": "white",
           "lakecolor": "white",
           "landcolor": "#E5ECF6",
           "showlakes": true,
           "showland": true,
           "subunitcolor": "white"
          },
          "hoverlabel": {
           "align": "left"
          },
          "hovermode": "closest",
          "mapbox": {
           "style": "light"
          },
          "paper_bgcolor": "white",
          "plot_bgcolor": "#E5ECF6",
          "polar": {
           "angularaxis": {
            "gridcolor": "white",
            "linecolor": "white",
            "ticks": ""
           },
           "bgcolor": "#E5ECF6",
           "radialaxis": {
            "gridcolor": "white",
            "linecolor": "white",
            "ticks": ""
           }
          },
          "scene": {
           "xaxis": {
            "backgroundcolor": "#E5ECF6",
            "gridcolor": "white",
            "gridwidth": 2,
            "linecolor": "white",
            "showbackground": true,
            "ticks": "",
            "zerolinecolor": "white"
           },
           "yaxis": {
            "backgroundcolor": "#E5ECF6",
            "gridcolor": "white",
            "gridwidth": 2,
            "linecolor": "white",
            "showbackground": true,
            "ticks": "",
            "zerolinecolor": "white"
           },
           "zaxis": {
            "backgroundcolor": "#E5ECF6",
            "gridcolor": "white",
            "gridwidth": 2,
            "linecolor": "white",
            "showbackground": true,
            "ticks": "",
            "zerolinecolor": "white"
           }
          },
          "shapedefaults": {
           "line": {
            "color": "#2a3f5f"
           }
          },
          "ternary": {
           "aaxis": {
            "gridcolor": "white",
            "linecolor": "white",
            "ticks": ""
           },
           "baxis": {
            "gridcolor": "white",
            "linecolor": "white",
            "ticks": ""
           },
           "bgcolor": "#E5ECF6",
           "caxis": {
            "gridcolor": "white",
            "linecolor": "white",
            "ticks": ""
           }
          },
          "title": {
           "x": 0.05
          },
          "xaxis": {
           "automargin": true,
           "gridcolor": "white",
           "linecolor": "white",
           "ticks": "",
           "title": {
            "standoff": 15
           },
           "zerolinecolor": "white",
           "zerolinewidth": 2
          },
          "yaxis": {
           "automargin": true,
           "gridcolor": "white",
           "linecolor": "white",
           "ticks": "",
           "title": {
            "standoff": 15
           },
           "zerolinecolor": "white",
           "zerolinewidth": 2
          }
         }
        },
        "title": {
         "text": "4D Sinogram Key Projections (Shape: (139, 180, 74, 99))<br>Total Counts: 42640, Non-zero Elements: 42607/183296520"
        },
        "width": 1200,
        "xaxis": {
         "anchor": "y",
         "domain": [
          0,
          0.425
         ],
         "title": {
          "text": "Azimuthal Angle (degrees)"
         }
        },
        "xaxis2": {
         "anchor": "y2",
         "domain": [
          0.575,
          1
         ],
         "title": {
          "text": "Polar Angle (degrees)"
         }
        },
        "yaxis": {
         "anchor": "x",
         "domain": [
          0,
          1
         ],
         "title": {
          "text": "Radial Distance (mm)"
         }
        },
        "yaxis2": {
         "anchor": "x2",
         "domain": [
          0,
          1
         ],
         "title": {
          "text": "Axial Position (mm)"
         }
        }
       }
      }
     },
     "metadata": {},
     "output_type": "display_data"
    },
    {
     "name": "stdout",
     "output_type": "stream",
     "text": [
      "\n",
      "Sinogram Statistics:\n",
      "Shape: (139, 180, 74, 99) (radial, angular, axial, polar)\n",
      "Total counts: 42640\n",
      "Non-zero elements: 42607/183296520 (0.0%)\n",
      "Coordinate ranges:\n",
      "  Radial: -302.3 to 302.3 mm\n",
      "  Angular: 0.0° to 180.0°\n",
      "  Axial: -147.8 to 147.7 mm\n",
      "  Polar: 0.0° to 98.8°\n",
      "Bin sizes: Angular 1.0°, Polar 1.0°\n",
      "\n",
      "Projection Statistics:\n",
      "Radial vs Angular projection:\n",
      "  Max count: 37.0\n",
      "  Non-zero pixels: 14257/25020\n",
      "Axial vs Polar projection:\n",
      "  Max count: 35.0\n",
      "  Non-zero pixels: 5433/7326\n"
     ]
    }
   ],
   "source": [
    "import torch\n",
    "import numpy as np\n",
    "import plotly.graph_objects as go\n",
    "from plotly.subplots import make_subplots\n",
    "from typing import Union, Optional, Tuple\n",
    "\n",
    "def classical_4d_sinogram(\n",
    "    data: Union[torch.Tensor, np.ndarray],\n",
    "    info: Optional[dict] = None,\n",
    "    weights: Optional[Union[torch.Tensor, np.ndarray]] = None,\n",
    "    input_type: str = \"lor_coordinates\",\n",
    "    n_radial_bins: Optional[int] = None,\n",
    "    n_angular_bins: Optional[int] = None,\n",
    "    n_axial_bins: Optional[int] = None,\n",
    "    n_polar_bins: Optional[int] = None,\n",
    "    radial_range: Optional[Tuple[float, float]] = None,\n",
    "    angular_range: Tuple[float, float] = (0.0, np.pi),\n",
    "    axial_range: Optional[Tuple[float, float]] = None,\n",
    "    polar_range: Optional[Tuple[float, float]] = None,\n",
    "    angular_bin_size_deg: float = 1.0,\n",
    "    polar_bin_size_deg: float = 1.0,\n",
    "    device: str = \"cpu\"\n",
    ") -> Tuple[torch.Tensor, dict]:\n",
    "    \"\"\"\n",
    "    Converts PET listmode data to classical 4D sinogram representation.\n",
    "    \n",
    "    The 4D sinogram has dimensions:\n",
    "    - Radial position (s): SIGNED perpendicular distance of LOR from scanner center\n",
    "    - Azimuthal angle (φ): Projection angle within transverse (xy) plane  \n",
    "    - Axial position (z): SIGNED location along scanner length (z-axis)\n",
    "    - Polar angle (δ): Ring difference/oblique angle relative to axial direction\n",
    "    \n",
    "    Args:\n",
    "        data (torch.Tensor or np.ndarray): Input data, either detector IDs (Nx2 or Nx3 for TOF) or \n",
    "                           LOR coordinates (Nx6 as [x1,y1,z1,x2,y2,z2])\n",
    "        info (dict, optional): PET scanner geometry information dictionary. \n",
    "                             Required only for \"detector_ids\" input_type. Defaults to None.\n",
    "        weights (torch.Tensor or np.ndarray, optional): Event weights for binning. Defaults to None.\n",
    "        input_type (str): Either \"detector_ids\" or \"lor_coordinates\". Defaults to \"lor_coordinates\".\n",
    "        n_radial_bins (int, optional): Number of radial bins. Auto-computed if None.\n",
    "        n_angular_bins (int, optional): Number of angular bins. Auto-computed from angular_bin_size_deg if None.\n",
    "        n_axial_bins (int, optional): Number of axial bins. Auto-computed if None.\n",
    "        n_polar_bins (int, optional): Number of polar angle bins. Auto-computed from polar_bin_size_deg if None.\n",
    "        radial_range (Tuple[float, float], optional): (min, max) SIGNED radial distance in mm. Auto-computed if None.\n",
    "        angular_range (Tuple[float, float]): Angular range in radians. Defaults to (0, π).\n",
    "        axial_range (Tuple[float, float], optional): (min, max) SIGNED axial positions in mm. Auto-computed if None.\n",
    "        polar_range (Tuple[float, float], optional): Polar angle range in radians. Auto-computed if None.\n",
    "        angular_bin_size_deg (float): Angular bin size in degrees. Default 1.0°.\n",
    "        polar_bin_size_deg (float): Polar angle bin size in degrees. Default 1.0°.\n",
    "        device (str): Computation device. Defaults to \"cpu\".\n",
    "        \n",
    "    Returns:\n",
    "        Tuple[torch.Tensor, dict]: (4D sinogram, metadata dictionary)\n",
    "            - sinogram: shape (n_radial, n_angular, n_axial, n_polar)\n",
    "            - metadata: coordinate ranges and bin information\n",
    "    \"\"\"\n",
    "    \n",
    "    def detector_ids_to_lor_coordinates(detector_ids: torch.Tensor, scanner_info: dict) -> torch.Tensor:\n",
    "        \"\"\"Convert detector IDs to LOR endpoint coordinates.\"\"\"\n",
    "        if scanner_info is None:\n",
    "            raise ValueError(\"scanner_info (info parameter) is required when input_type='detector_ids'\")\n",
    "            \n",
    "        # Extract scanner parameters\n",
    "        radius = scanner_info['radius']\n",
    "        crystals_per_ring = scanner_info['NrCrystalsPerRing']\n",
    "        n_rings = scanner_info['NrRings']\n",
    "        crystal_axial_spacing = scanner_info['crystalAxialSpacing']\n",
    "        module_axial_spacing = scanner_info['moduleAxialSpacing']\n",
    "        module_axial_nr = scanner_info['moduleAxialNr']\n",
    "        crystals_axial_per_module = scanner_info['crystalAxialNr']\n",
    "        \n",
    "        # Calculate axial positioning\n",
    "        crystals_per_module_axial = crystals_axial_per_module\n",
    "        modules_span = (module_axial_nr - 1) * module_axial_spacing\n",
    "        crystals_within_modules_span = (crystals_per_module_axial - 1) * crystal_axial_spacing * module_axial_nr\n",
    "        total_axial_extent = modules_span + crystals_within_modules_span\n",
    "        \n",
    "        # Convert detector IDs to ring and crystal indices\n",
    "        detector_ids_2d = detector_ids[:, :2]  # Take first two columns for detector pair\n",
    "        ring_ids = (detector_ids_2d // crystals_per_ring).long()\n",
    "        crystal_ids = (detector_ids_2d % crystals_per_ring).long()\n",
    "        \n",
    "        # Calculate coordinates for both detectors\n",
    "        coordinates = torch.zeros(detector_ids.shape[0], 6, device=device)\n",
    "        \n",
    "        for i in range(2):  # For both detectors in the pair\n",
    "            # Angular position\n",
    "            angles = 2 * np.pi * crystal_ids[:, i].float() / crystals_per_ring\n",
    "            \n",
    "            # Cartesian coordinates in transverse plane\n",
    "            coordinates[:, i*3] = radius * torch.cos(angles)     # x\n",
    "            coordinates[:, i*3+1] = radius * torch.sin(angles)   # y\n",
    "            \n",
    "            # Axial position (z)\n",
    "            if n_rings == 1:\n",
    "                coordinates[:, i*3+2] = 0.0\n",
    "            else:\n",
    "                z_positions = -total_axial_extent/2 + ring_ids[:, i].float() * (total_axial_extent / (n_rings - 1))\n",
    "                coordinates[:, i*3+2] = z_positions\n",
    "        \n",
    "        return coordinates\n",
    "    \n",
    "    def lor_coordinates_to_sinogram_params(lor_coords: torch.Tensor) -> Tuple[torch.Tensor, torch.Tensor, torch.Tensor, torch.Tensor]:\n",
    "        \"\"\"Convert LOR coordinates to classical sinogram parameters.\"\"\"\n",
    "        # Extract endpoints\n",
    "        x1, y1, z1 = lor_coords[:, 0], lor_coords[:, 1], lor_coords[:, 2]\n",
    "        x2, y2, z2 = lor_coords[:, 3], lor_coords[:, 4], lor_coords[:, 5]\n",
    "        \n",
    "        # Calculate LOR direction vector\n",
    "        dx = x2 - x1\n",
    "        dy = y2 - y1\n",
    "        dz = z2 - z1\n",
    "        \n",
    "        # 1. SIGNED Radial position (s): perpendicular distance from origin to LOR\n",
    "        # Using formula: s = (x1 * dy - y1 * dx) / sqrt(dx² + dy²)\n",
    "        # This gives proper signed distance\n",
    "        cross_product_z = x1 * dy - y1 * dx  # z-component of cross product (signed)\n",
    "        lor_length_xy = torch.sqrt(dx**2 + dy**2)\n",
    "        radial_pos = cross_product_z / (lor_length_xy + 1e-10)  # Keep sign!\n",
    "        \n",
    "        # 2. Azimuthal angle (φ): projection angle in xy plane\n",
    "        # Angle of the LOR direction (not perpendicular)\n",
    "        azimuthal_angle = torch.atan2(dy, dx)\n",
    "        \n",
    "        # Normalize angle to [0, π] for proper sinogram representation\n",
    "        # This handles the symmetry: LOR from A->B same as B->A\n",
    "        azimuthal_angle = torch.fmod(azimuthal_angle + 2*np.pi, np.pi)\n",
    "        \n",
    "        # Adjust radial sign for angles > π/2 to maintain consistency\n",
    "        mask = azimuthal_angle > np.pi/2\n",
    "        azimuthal_angle[mask] = azimuthal_angle[mask] - np.pi\n",
    "        radial_pos[mask] = -radial_pos[mask]\n",
    "        \n",
    "        # Ensure angles are in [0, π]\n",
    "        azimuthal_angle = torch.fmod(azimuthal_angle + np.pi, np.pi)\n",
    "        \n",
    "        # 3. SIGNED Axial position (z): midpoint along z-axis (keep sign)\n",
    "        axial_pos = (z1 + z2) / 2\n",
    "        \n",
    "        # 4. Polar angle (δ): angle relative to transverse plane\n",
    "        # This captures the \"obliqueness\" of the LOR\n",
    "        lor_length_3d = torch.sqrt(dx**2 + dy**2 + dz**2)\n",
    "        polar_angle = torch.asin(torch.abs(dz) / (lor_length_3d + 1e-10))\n",
    "        \n",
    "        return radial_pos, azimuthal_angle, axial_pos, polar_angle\n",
    "    \n",
    "    # Convert to torch tensor if needed and move to specified device\n",
    "    if isinstance(data, np.ndarray):\n",
    "        data = torch.from_numpy(data).float()\n",
    "    data = data.to(device)\n",
    "    \n",
    "    if weights is not None:\n",
    "        if isinstance(weights, np.ndarray):\n",
    "            weights = torch.from_numpy(weights).float()\n",
    "        weights = weights.to(device)\n",
    "    \n",
    "    # Convert detector IDs to LOR coordinates if needed\n",
    "    if input_type == \"detector_ids\":\n",
    "        if info is None:\n",
    "            raise ValueError(\"info parameter is required when input_type='detector_ids'\")\n",
    "        lor_coords = detector_ids_to_lor_coordinates(data, info)\n",
    "    elif input_type == \"lor_coordinates\":\n",
    "        lor_coords = data\n",
    "    else:\n",
    "        raise ValueError(\"input_type must be 'detector_ids' or 'lor_coordinates'\")\n",
    "    \n",
    "    # Convert to sinogram parameters\n",
    "    radial_pos, azimuthal_angle, axial_pos, polar_angle = lor_coordinates_to_sinogram_params(lor_coords)\n",
    "    \n",
    "    # Determine angular bins from bin size\n",
    "    if n_angular_bins is None:\n",
    "        angular_extent = angular_range[1] - angular_range[0]\n",
    "        angular_extent_deg = angular_extent * 180 / np.pi\n",
    "        n_angular_bins = int(np.ceil(angular_extent_deg / angular_bin_size_deg))\n",
    "    \n",
    "    # Determine polar bins from bin size\n",
    "    if n_polar_bins is None:\n",
    "        if polar_range is None:\n",
    "            # Estimate polar range first\n",
    "            if input_type == \"detector_ids\" and info is not None:\n",
    "                max_z_diff = info['NrRings'] * info['crystalAxialSpacing']\n",
    "                max_polar = np.arctan(max_z_diff / (2 * info['radius']))\n",
    "            else:\n",
    "                max_polar = polar_angle.max().item() * 1.1\n",
    "            polar_extent = max_polar\n",
    "        else:\n",
    "            polar_extent = polar_range[1] - polar_range[0]\n",
    "        \n",
    "        polar_extent_deg = polar_extent * 180 / np.pi\n",
    "        n_polar_bins = int(np.ceil(polar_extent_deg / polar_bin_size_deg))\n",
    "    \n",
    "    # Determine binning parameters if not provided\n",
    "    # For LOR coordinates, estimate reasonable defaults from the data\n",
    "    if input_type == \"lor_coordinates\":\n",
    "        # Estimate scanner dimensions from LOR data\n",
    "        all_coords = lor_coords.reshape(-1, 3)  # Flatten to all endpoint coordinates\n",
    "        estimated_radius = torch.sqrt(all_coords[:, 0]**2 + all_coords[:, 1]**2).max().item()\n",
    "        axial_extent = (all_coords[:, 2].max() - all_coords[:, 2].min()).item()\n",
    "        \n",
    "        if n_radial_bins is None:\n",
    "            n_radial_bins = min(200, int(estimated_radius / 2))  # ~2mm bins\n",
    "        if n_axial_bins is None:\n",
    "            n_axial_bins = min(100, max(20, int(axial_extent / 4)))  # ~4mm bins\n",
    "            \n",
    "    else:  # detector_ids case\n",
    "        if n_radial_bins is None:\n",
    "            n_radial_bins = info['NrCrystalsPerRing'] // 2\n",
    "        if n_axial_bins is None:\n",
    "            n_axial_bins = info['NrRings']\n",
    "    \n",
    "    # Determine ranges if not provided\n",
    "    if radial_range is None:\n",
    "        if input_type == \"detector_ids\" and info is not None:\n",
    "            max_radial = info['radius'] * 0.9\n",
    "            radial_range = (-max_radial, max_radial)  # SIGNED range\n",
    "        else:\n",
    "            # Estimate from data - use full signed range\n",
    "            max_radial = torch.max(torch.abs(radial_pos)).item() * 1.1\n",
    "            radial_range = (-max_radial, max_radial)  # SIGNED range\n",
    "    \n",
    "    if axial_range is None:\n",
    "        if input_type == \"detector_ids\" and info is not None:\n",
    "            total_axial_extent = (info['moduleAxialNr'] - 1) * info['moduleAxialSpacing'] + \\\n",
    "                                (info['crystalAxialNr'] - 1) * info['crystalAxialSpacing'] * info['moduleAxialNr']\n",
    "            axial_range = (-total_axial_extent/2, total_axial_extent/2)  # SIGNED range\n",
    "        else:\n",
    "            # Use data-driven axial range (already signed)\n",
    "            axial_min = axial_pos.min().item()\n",
    "            axial_max = axial_pos.max().item()\n",
    "            axial_range = (axial_min, axial_max)\n",
    "    \n",
    "    if polar_range is None:\n",
    "        if input_type == \"detector_ids\" and info is not None:\n",
    "            # Maximum polar angle based on scanner geometry\n",
    "            max_z_diff = info['NrRings'] * info['crystalAxialSpacing']\n",
    "            max_polar = np.arctan(max_z_diff / (2 * info['radius']))\n",
    "        else:\n",
    "            # Estimate from data\n",
    "            max_polar = polar_angle.max().item() * 1.1\n",
    "        polar_range = (0.0, max_polar)\n",
    "    \n",
    "    # Create bin edges\n",
    "    radial_edges = torch.linspace(radial_range[0], radial_range[1], n_radial_bins + 1, device=device)\n",
    "    angular_edges = torch.linspace(angular_range[0], angular_range[1], n_angular_bins + 1, device=device)\n",
    "    axial_edges = torch.linspace(axial_range[0], axial_range[1], n_axial_bins + 1, device=device)\n",
    "    polar_edges = torch.linspace(polar_range[0], polar_range[1], n_polar_bins + 1, device=device)\n",
    "    \n",
    "    # Stack coordinates for histogramming\n",
    "    coords_4d = torch.stack([radial_pos, azimuthal_angle, axial_pos, polar_angle], dim=1)\n",
    "    \n",
    "    # Create 4D histogram\n",
    "    bin_edges = [radial_edges, angular_edges, axial_edges, polar_edges]\n",
    "    \n",
    "    sinogram_4d = torch.histogramdd(\n",
    "        coords_4d,\n",
    "        bins=bin_edges,\n",
    "        weight=weights\n",
    "    )[0]\n",
    "    \n",
    "    # Create metadata dictionary\n",
    "    metadata = {\n",
    "        'shape': sinogram_4d.shape,\n",
    "        'radial_range': radial_range,\n",
    "        'angular_range': angular_range,\n",
    "        'axial_range': axial_range,\n",
    "        'polar_range': polar_range,\n",
    "        'n_radial_bins': n_radial_bins,\n",
    "        'n_angular_bins': n_angular_bins,\n",
    "        'n_axial_bins': n_axial_bins,\n",
    "        'n_polar_bins': n_polar_bins,\n",
    "        'angular_bin_size_deg': angular_bin_size_deg,\n",
    "        'polar_bin_size_deg': polar_bin_size_deg,\n",
    "        'radial_coords': torch.linspace(radial_range[0], radial_range[1], n_radial_bins),\n",
    "        'angular_coords': torch.linspace(angular_range[0], angular_range[1], n_angular_bins),\n",
    "        'axial_coords': torch.linspace(axial_range[0], axial_range[1], n_axial_bins),\n",
    "        'polar_coords': torch.linspace(polar_range[0], polar_range[1], n_polar_bins),\n",
    "        'input_type': input_type,\n",
    "        'total_counts': float(torch.sum(sinogram_4d)),\n",
    "        'non_zero_elements': int(torch.sum(sinogram_4d > 0))\n",
    "    }\n",
    "    \n",
    "    return sinogram_4d, metadata\n",
    "\n",
    "\n",
    "def plot_sinogram_key_projections(\n",
    "    data: Union[torch.Tensor, np.ndarray] = None,\n",
    "    info: Optional[dict] = None,\n",
    "    weights: Optional[Union[torch.Tensor, np.ndarray]] = None,\n",
    "    input_type: str = \"lor_coordinates\",\n",
    "    angular_bin_size_deg: float = 1.0,\n",
    "    polar_bin_size_deg: float = 1.0,\n",
    "    device: str = \"cpu\",\n",
    "    sinogram_4d: Optional[torch.Tensor] = None,\n",
    "    metadata: Optional[dict] = None,\n",
    "    log_scale: bool = False,\n",
    "    title_prefix: str = \"\"\n",
    "):\n",
    "    \"\"\"\n",
    "    Create two focused plots from 4D sinogram data or generate sinogram from input data:\n",
    "    1. Radial Distance vs Azimuthal Angle (classic sinogram view)\n",
    "    2. Axial Distance vs Polar Angle (oblique LOR view)\n",
    "    \n",
    "    Args:\n",
    "        data (torch.Tensor or np.ndarray, optional): Input data for sinogram generation\n",
    "        info (dict, optional): Scanner geometry (required for detector_ids input_type)\n",
    "        weights (torch.Tensor or np.ndarray, optional): Event weights for binning\n",
    "        input_type (str): \"lor_coordinates\" or \"detector_ids\"\n",
    "        angular_bin_size_deg (float): Angular bin size in degrees\n",
    "        polar_bin_size_deg (float): Polar bin size in degrees  \n",
    "        device (str): Computation device\n",
    "        sinogram_4d (torch.Tensor, optional): Pre-computed 4D sinogram\n",
    "        metadata (dict, optional): Metadata from classical_4d_sinogram function\n",
    "        log_scale (bool): Whether to use log scale for visualization\n",
    "        title_prefix (str): Prefix for plot titles\n",
    "        \n",
    "    Returns:\n",
    "        Tuple[torch.Tensor, dict]: (sinogram_4d, metadata) if generating from data\n",
    "    \"\"\"\n",
    "    \n",
    "    # Generate sinogram if not provided\n",
    "    if sinogram_4d is None:\n",
    "        if data is None:\n",
    "            raise ValueError(\"Either 'data' or 'sinogram_4d' must be provided\")\n",
    "        \n",
    "        sinogram_4d, metadata = classical_4d_sinogram(\n",
    "            data=data,\n",
    "            info=info,\n",
    "            weights=weights,\n",
    "            input_type=input_type,\n",
    "            angular_bin_size_deg=angular_bin_size_deg,\n",
    "            polar_bin_size_deg=polar_bin_size_deg,\n",
    "            device=device\n",
    "        )\n",
    "    \n",
    "    # Convert to numpy if tensor\n",
    "    if torch.is_tensor(sinogram_4d):\n",
    "        sinogram_data = sinogram_4d.cpu().numpy()\n",
    "    else:\n",
    "        sinogram_data = sinogram_4d\n",
    "    \n",
    "    n_radial, n_angular, n_axial, n_polar = sinogram_data.shape\n",
    "    \n",
    "    # Use metadata if provided, otherwise use defaults\n",
    "    if metadata is not None:\n",
    "        radial_coords = metadata['radial_coords'].cpu().numpy() if torch.is_tensor(metadata['radial_coords']) else metadata['radial_coords']\n",
    "        angular_coords = metadata['angular_coords'].cpu().numpy() if torch.is_tensor(metadata['angular_coords']) else metadata['angular_coords']\n",
    "        axial_coords = metadata['axial_coords'].cpu().numpy() if torch.is_tensor(metadata['axial_coords']) else metadata['axial_coords']\n",
    "        polar_coords = metadata['polar_coords'].cpu().numpy() if torch.is_tensor(metadata['polar_coords']) else metadata['polar_coords']\n",
    "        radial_range = metadata['radial_range']\n",
    "        angular_range = metadata['angular_range']\n",
    "        axial_range = metadata['axial_range']\n",
    "        polar_range = metadata['polar_range']\n",
    "    else:\n",
    "        # Default ranges\n",
    "        radial_range = (-300, 300)\n",
    "        angular_range = (0, np.pi)\n",
    "        axial_range = (-100, 100)\n",
    "        polar_range = (0, np.pi/4)\n",
    "        radial_coords = np.linspace(radial_range[0], radial_range[1], n_radial)\n",
    "        angular_coords = np.linspace(angular_range[0], angular_range[1], n_angular)\n",
    "        axial_coords = np.linspace(axial_range[0], axial_range[1], n_axial)\n",
    "        polar_coords = np.linspace(polar_range[0], polar_range[1], n_polar)\n",
    "    \n",
    "    # Create the two key projections\n",
    "    # 1. Radial vs Angular (sum over axial and polar dimensions)\n",
    "    proj_radial_angular = np.sum(sinogram_data, axis=(2, 3))\n",
    "    \n",
    "    # 2. Axial vs Polar (sum over radial and angular dimensions)\n",
    "    proj_axial_polar = np.sum(sinogram_data, axis=(0, 1))\n",
    "    \n",
    "    # Apply log scale if requested\n",
    "    if log_scale:\n",
    "        proj_radial_angular = np.log10(proj_radial_angular + 1e-10)\n",
    "        proj_axial_polar = np.log10(proj_axial_polar + 1e-10)\n",
    "        colorbar_title = \"Log10(Counts)\"\n",
    "        scale_suffix = \" (Log Scale)\"\n",
    "    else:\n",
    "        colorbar_title = \"Counts\"\n",
    "        scale_suffix = \"\"\n",
    "    \n",
    "    # Create subplots with 1 row, 2 columns\n",
    "    fig = make_subplots(\n",
    "        rows=1, cols=2,\n",
    "        subplot_titles=(\n",
    "            f'Radial Distance vs Azimuthal Angle{scale_suffix}',\n",
    "            f'Axial Position vs Polar Angle{scale_suffix}'\n",
    "        ),\n",
    "        horizontal_spacing=0.15\n",
    "    )\n",
    "    \n",
    "    # Plot 1: Radial vs Angular (Classic Sinogram)\n",
    "    fig.add_trace(\n",
    "        go.Heatmap(\n",
    "            z=proj_radial_angular,\n",
    "            x=angular_coords * 180/np.pi,  # Convert to degrees for display\n",
    "            y=radial_coords,\n",
    "            colorbar=dict(\n",
    "                title=colorbar_title,\n",
    "                x=0.42,  # Position between subplots\n",
    "                len=0.8\n",
    "            ),\n",
    "            showscale=True,\n",
    "            hovertemplate='<b>Azimuthal Angle: %{x:.1f}°</b><br>' +\n",
    "                         '<b>Radial Distance: %{y:.1f} mm</b><br>' +\n",
    "                         '<b>Count: %{z:.3f}</b><extra></extra>'\n",
    "        ),\n",
    "        row=1, col=1\n",
    "    )\n",
    "    \n",
    "    # Plot 2: Axial vs Polar\n",
    "    fig.add_trace(\n",
    "        go.Heatmap(\n",
    "            z=proj_axial_polar,\n",
    "            x=polar_coords * 180/np.pi,  # Convert to degrees for display\n",
    "            y=axial_coords,\n",
    "            colorbar=dict(\n",
    "                title=colorbar_title,\n",
    "                x=1.02,  # Position to the right\n",
    "                len=0.8\n",
    "            ),\n",
    "            showscale=True,\n",
    "            hovertemplate='<b>Polar Angle: %{x:.1f}°</b><br>' +\n",
    "                         '<b>Axial Position: %{y:.1f} mm</b><br>' +\n",
    "                         '<b>Count: %{z:.3f}</b><extra></extra>'\n",
    "        ),\n",
    "        row=1, col=2\n",
    "    )\n",
    "    \n",
    "    # Update axes labels and layout\n",
    "    fig.update_xaxes(title_text=\"Azimuthal Angle (degrees)\", row=1, col=1)\n",
    "    fig.update_yaxes(title_text=\"Radial Distance (mm)\", row=1, col=1)\n",
    "    \n",
    "    fig.update_xaxes(title_text=\"Polar Angle (degrees)\", row=1, col=2)\n",
    "    fig.update_yaxes(title_text=\"Axial Position (mm)\", row=1, col=2)\n",
    "    \n",
    "    # Calculate statistics for title\n",
    "    total_counts = np.sum(sinogram_data)\n",
    "    non_zero_elements = np.sum(sinogram_data > 0)\n",
    "    total_elements = sinogram_data.size\n",
    "    \n",
    "    fig.update_layout(\n",
    "        title=f'{title_prefix}4D Sinogram Key Projections (Shape: {sinogram_data.shape})<br>' +\n",
    "              f'Total Counts: {total_counts:.0f}, Non-zero Elements: {non_zero_elements}/{total_elements}',\n",
    "        height=500,\n",
    "        width=1200,\n",
    "        font=dict(size=12)\n",
    "    )\n",
    "    \n",
    "    fig.show()\n",
    "    \n",
    "    # Print summary statistics\n",
    "    print(f\"\\n{title_prefix}Sinogram Statistics:\")\n",
    "    print(f\"Shape: {sinogram_data.shape} (radial, angular, axial, polar)\")\n",
    "    print(f\"Total counts: {total_counts:.0f}\")\n",
    "    print(f\"Non-zero elements: {non_zero_elements}/{total_elements} ({100*non_zero_elements/total_elements:.1f}%)\")\n",
    "    print(f\"Coordinate ranges:\")\n",
    "    print(f\"  Radial: {radial_range[0]:.1f} to {radial_range[1]:.1f} mm\")\n",
    "    print(f\"  Angular: {angular_range[0]*180/np.pi:.1f}° to {angular_range[1]*180/np.pi:.1f}°\")\n",
    "    print(f\"  Axial: {axial_range[0]:.1f} to {axial_range[1]:.1f} mm\")\n",
    "    print(f\"  Polar: {polar_range[0]*180/np.pi:.1f}° to {polar_range[1]*180/np.pi:.1f}°\")\n",
    "    \n",
    "    if metadata is not None:\n",
    "        print(f\"Bin sizes: Angular {metadata['angular_bin_size_deg']:.1f}°, Polar {metadata['polar_bin_size_deg']:.1f}°\")\n",
    "    \n",
    "    # Print projection-specific statistics\n",
    "    print(f\"\\nProjection Statistics:\")\n",
    "    print(f\"Radial vs Angular projection:\")\n",
    "    print(f\"  Max count: {np.max(proj_radial_angular):.1f}\")\n",
    "    print(f\"  Non-zero pixels: {np.sum(proj_radial_angular > 0)}/{proj_radial_angular.size}\")\n",
    "    \n",
    "    print(f\"Axial vs Polar projection:\")\n",
    "    print(f\"  Max count: {np.max(proj_axial_polar):.1f}\")\n",
    "    print(f\"  Non-zero pixels: {np.sum(proj_axial_polar > 0)}/{proj_axial_polar.size}\")\n",
    "    \n",
    "    # Return sinogram and metadata if we generated it\n",
    "    if data is not None:\n",
    "        return sinogram_4d, metadata\n",
    "\n",
    "\n",
    "def visualize_sinogram_projections_comparison(\n",
    "    sinogram_4d: torch.Tensor,\n",
    "    metadata: dict = None,\n",
    "    log_scale: bool = False\n",
    "):\n",
    "    \"\"\"\n",
    "    Create a 2x2 subplot comparison showing different projections of the 4D sinogram.\n",
    "    \n",
    "    Args:\n",
    "        sinogram_4d (torch.Tensor): 4D sinogram data\n",
    "        metadata (dict, optional): Metadata from classical_4d_sinogram function\n",
    "        log_scale (bool): Whether to use log scale\n",
    "    \"\"\"\n",
    "    \n",
    "    # Convert to numpy if tensor\n",
    "    if torch.is_tensor(sinogram_4d):\n",
    "        sinogram_data = sinogram_4d.cpu().numpy()\n",
    "    else:\n",
    "        sinogram_data = sinogram_4d\n",
    "    \n",
    "    n_radial, n_angular, n_axial, n_polar = sinogram_data.shape\n",
    "    \n",
    "    # Use metadata if provided, otherwise use defaults\n",
    "    if metadata is not None:\n",
    "        radial_coords = metadata['radial_coords'].cpu().numpy() if torch.is_tensor(metadata['radial_coords']) else metadata['radial_coords']\n",
    "        angular_coords = metadata['angular_coords'].cpu().numpy() if torch.is_tensor(metadata['angular_coords']) else metadata['angular_coords']\n",
    "        axial_coords = metadata['axial_coords'].cpu().numpy() if torch.is_tensor(metadata['axial_coords']) else metadata['axial_coords']\n",
    "        polar_coords = metadata['polar_coords'].cpu().numpy() if torch.is_tensor(metadata['polar_coords']) else metadata['polar_coords']\n",
    "    else:\n",
    "        # Default ranges\n",
    "        radial_coords = np.linspace(-300, 300, n_radial)\n",
    "        angular_coords = np.linspace(0, np.pi, n_angular)\n",
    "        axial_coords = np.linspace(-100, 100, n_axial)\n",
    "        polar_coords = np.linspace(0, np.pi/4, n_polar)\n",
    "    \n",
    "    # Create projections\n",
    "    proj_radial_angular = np.sum(sinogram_data, axis=(2, 3))  # Sum over axial and polar\n",
    "    proj_axial_polar = np.sum(sinogram_data, axis=(0, 1))     # Sum over radial and angular\n",
    "    proj_radial_axial = np.sum(sinogram_data, axis=(1, 3))    # Sum over angular and polar\n",
    "    proj_angular_polar = np.sum(sinogram_data, axis=(0, 2))   # Sum over radial and axial\n",
    "    \n",
    "    if log_scale:\n",
    "        proj_radial_angular = np.log10(proj_radial_angular + 1e-10)\n",
    "        proj_axial_polar = np.log10(proj_axial_polar + 1e-10)\n",
    "        proj_radial_axial = np.log10(proj_radial_axial + 1e-10)\n",
    "        proj_angular_polar = np.log10(proj_angular_polar + 1e-10)\n",
    "        colorbar_title = \"Log10(Counts)\"\n",
    "    else:\n",
    "        colorbar_title = \"Counts\"\n",
    "    \n",
    "    # Create subplots\n",
    "    from plotly.subplots import make_subplots\n",
    "    \n",
    "    fig = make_subplots(\n",
    "        rows=2, cols=2,\n",
    "        subplot_titles=(\n",
    "            'Radial vs Angular (sum over Axial & Polar)',\n",
    "            'Axial vs Polar (sum over Radial & Angular)',\n",
    "            'Radial vs Axial (sum over Angular & Polar)',\n",
    "            'Angular vs Polar (sum over Radial & Axial)'\n",
    "        ),\n",
    "        horizontal_spacing=0.1,\n",
    "        vertical_spacing=0.15\n",
    "    )\n",
    "    \n",
    "    # Add heatmaps\n",
    "    fig.add_trace(\n",
    "        go.Heatmap(z=proj_radial_angular, x=angular_coords, y=radial_coords, \n",
    "                   colorbar=dict(title=colorbar_title, x=0.45), showscale=True),\n",
    "        row=1, col=1\n",
    "    )\n",
    "    \n",
    "    fig.add_trace(\n",
    "        go.Heatmap(z=proj_axial_polar, x=polar_coords, y=axial_coords, \n",
    "                   colorbar=dict(title=colorbar_title, x=1.02), showscale=True),\n",
    "        row=1, col=2\n",
    "    )\n",
    "    \n",
    "    fig.add_trace(\n",
    "        go.Heatmap(z=proj_radial_axial, x=axial_coords, y=radial_coords, \n",
    "                   colorbar=dict(title=colorbar_title, x=0.45, y=0.25), showscale=True),\n",
    "        row=2, col=1\n",
    "    )\n",
    "    \n",
    "    fig.add_trace(\n",
    "        go.Heatmap(z=proj_angular_polar, x=polar_coords, y=angular_coords, \n",
    "                   colorbar=dict(title=colorbar_title, x=1.02, y=0.25), showscale=True),\n",
    "        row=2, col=2\n",
    "    )\n",
    "    \n",
    "    # Update axes labels\n",
    "    fig.update_xaxes(title_text=\"Angular Position (rad)\", row=1, col=1)\n",
    "    fig.update_yaxes(title_text=\"Radial Distance (mm)\", row=1, col=1)\n",
    "    \n",
    "    fig.update_xaxes(title_text=\"Polar Angle (rad)\", row=1, col=2)\n",
    "    fig.update_yaxes(title_text=\"Axial Position (mm)\", row=1, col=2)\n",
    "    \n",
    "    fig.update_xaxes(title_text=\"Axial Position (mm)\", row=2, col=1)\n",
    "    fig.update_yaxes(title_text=\"Radial Distance (mm)\", row=2, col=1)\n",
    "    \n",
    "    fig.update_xaxes(title_text=\"Polar Angle (rad)\", row=2, col=2)\n",
    "    fig.update_yaxes(title_text=\"Angular Position (rad)\", row=2, col=2)\n",
    "    \n",
    "    fig.update_layout(\n",
    "        title=f'4D Sinogram Projections Overview (Shape: {sinogram_data.shape})',\n",
    "        height=800,\n",
    "        width=1000\n",
    "    )\n",
    "    \n",
    "    fig.show()\n",
    "\n",
    "\n",
    "def compare_sinograms_side_by_side(\n",
    "    sinogram_lor: torch.Tensor,\n",
    "    sinogram_detector: torch.Tensor,\n",
    "    metadata_lor: dict = None,\n",
    "    metadata_detector: dict = None,\n",
    "    log_scale: bool = False\n",
    "):\n",
    "    \"\"\"\n",
    "    Compare LOR-based and Detector ID-based sinograms side by side.\n",
    "    \n",
    "    Args:\n",
    "        sinogram_lor (torch.Tensor): 4D sinogram from LOR coordinates\n",
    "        sinogram_detector (torch.Tensor): 4D sinogram from detector IDs\n",
    "        metadata_lor (dict, optional): Metadata from LOR sinogram generation\n",
    "        metadata_detector (dict, optional): Metadata from detector ID sinogram generation\n",
    "        log_scale (bool): Whether to use log scale for visualization\n",
    "    \"\"\"\n",
    "    \n",
    "    print(\"=== LOR COORDINATE SINOGRAM ===\")\n",
    "    plot_sinogram_key_projections(\n",
    "        sinogram_4d=sinogram_lor, \n",
    "        metadata=metadata_lor,\n",
    "        log_scale=log_scale,\n",
    "        title_prefix=\"LOR Data: \"\n",
    "    )\n",
    "    \n",
    "    print(\"\\n\" + \"=\"*50)\n",
    "    print(\"=== DETECTOR ID SINOGRAM ===\")\n",
    "    plot_sinogram_key_projections(\n",
    "        sinogram_4d=sinogram_detector,\n",
    "        metadata=metadata_detector,\n",
    "        log_scale=log_scale,\n",
    "        title_prefix=\"Detector ID: \"\n",
    "    )\n",
    "\n",
    "\n",
    "def create_sinogram_from_data(\n",
    "    data: Union[torch.Tensor, np.ndarray],\n",
    "    info: Optional[dict] = None,\n",
    "    weights: Optional[Union[torch.Tensor, np.ndarray]] = None,\n",
    "    input_type: str = \"lor_coordinates\",\n",
    "    angular_bin_size_deg: float = 1.0,\n",
    "    polar_bin_size_deg: float = 1.0,\n",
    "    device: str = \"cpu\"\n",
    ") -> Tuple[torch.Tensor, dict]:\n",
    "    \"\"\"\n",
    "    Convenience function to create a 4D sinogram with sensible defaults.\n",
    "    \n",
    "    Args:\n",
    "        data: Input LOR coordinates or detector IDs\n",
    "        info: Scanner geometry (required for detector IDs)\n",
    "        weights: Optional event weights\n",
    "        input_type: \"lor_coordinates\" or \"detector_ids\"\n",
    "        angular_bin_size_deg: Angular bin size in degrees (default 1°)\n",
    "        polar_bin_size_deg: Polar bin size in degrees (default 1°)\n",
    "        device: Computation device\n",
    "        \n",
    "    Returns:\n",
    "        Tuple[torch.Tensor, dict]: (sinogram_4d, metadata)\n",
    "    \"\"\"\n",
    "    \n",
    "    return classical_4d_sinogram(\n",
    "        data=data,\n",
    "        info=info,\n",
    "        weights=weights,\n",
    "        input_type=input_type,\n",
    "        angular_bin_size_deg=angular_bin_size_deg,\n",
    "        polar_bin_size_deg=polar_bin_size_deg,\n",
    "        device=device\n",
    "    )\n",
    "\n",
    "\n",
    "\n",
    "# # Generate 4D sinogram from detector IDs\n",
    "# sinogram_4d, metadata = plot_sinogram_key_projections(\n",
    "#     data=detector_ids,\n",
    "#     info=info,\n",
    "#     input_type=\"detector_ids\",\n",
    "#     device=\"cpu\",\n",
    "# )\n",
    "\n",
    "# # Generate 4D sinogram from LORs\n",
    "sinogram_4d, metadata = plot_sinogram_key_projections(\n",
    "    data=filtered_coordinates,\n",
    "    # info=info,\n",
    "    input_type=\"lor_coordinates\",\n",
    "    device=\"cpu\",\n",
    ")"
   ]
  },
  {
   "cell_type": "code",
   "execution_count": 11,
   "id": "a1efda9d",
   "metadata": {},
   "outputs": [],
   "source": [
    "# Custom ProjectMeta and SystemMatrix classes for xyz LOR \n",
    "# PETLMProjMeta() # <--- Uncomment and crtl+left_click to compare with the custom class structure here \n",
    "\n",
    "class PETLORProjMeta():\n",
    "    \"\"\"Metadata for PET using direct LOR coordinates instead of detector IDs.\n",
    "    \n",
    "    Args:\n",
    "        lor_coords (torch.Tensor): N × 6 tensor containing LOR coordinates as [x1, y1, z1, x2, y2, z2]\n",
    "        tof_meta (PETTOFMeta | None, optional): PET time-of-flight metadata. Defaults to None.\n",
    "        weights (torch.tensor | None, optional): weights for scaling projections. Defaults to None.\n",
    "        lor_coords_sensitivity (torch.Tensor | None, optional): LOR coordinates for sensitivity computation. \n",
    "            If None, uses lor_coords. Defaults to None.\n",
    "        weights_sensitivity (torch.tensor | None, optional): weights for sensitivity computation. Defaults to None.\n",
    "    \"\"\"\n",
    "    def __init__(\n",
    "        self,\n",
    "        lor_coords: torch.Tensor,  # Shape: (N, 6) - [x1,y1,z1,x2,y2,z2]\n",
    "        tof_meta = None,\n",
    "        weights: torch.tensor | None = None,\n",
    "        lor_coords_sensitivity: torch.Tensor | None = None,\n",
    "        weights_sensitivity: torch.tensor | None = None,\n",
    "    ):\n",
    "        self.shape = (lor_coords.shape[0],)\n",
    "        self.lor_coords = lor_coords.cpu()  # N × 6 tensor\n",
    "        \n",
    "        if lor_coords_sensitivity is not None:\n",
    "            self.lor_coords_sensitivity = lor_coords_sensitivity.cpu()\n",
    "        else:\n",
    "            self.lor_coords_sensitivity = None\n",
    "            \n",
    "        self.tof_meta = tof_meta\n",
    "        self.weights = weights\n",
    "        self.weights_sensitivity = weights_sensitivity\n",
    "        \n",
    "        # For compatibility - these won't be used but may be referenced\n",
    "        self.detector_ids = None\n",
    "        self.detector_ids_sensitivity = None\n",
    "        self.scanner_lut = None\n",
    "        self.info = None\n",
    "\n",
    "from pytomography.transforms import Transform\n",
    "from pytomography.projectors import SystemMatrix\n",
    "import parallelproj\n",
    "\n",
    "# PETLMSystemMatrix() # <--- Uncomment and crtl+left_click to compare with the custom class structure here \n",
    "\n",
    "class PETLORSystemMatrix(SystemMatrix):\n",
    "    \"\"\"System matrix for PET using direct LOR coordinates instead of detector IDs.\n",
    "    \n",
    "    Args:\n",
    "        object_meta (ObjectMeta): Metadata of object space\n",
    "        proj_meta (PETLORProjMeta): PET LOR projection space metadata\n",
    "        obj2obj_transforms (list[Transform]): Object space transforms. Defaults to [].\n",
    "        attenuation_map (torch.tensor | None): Attenuation map. Defaults to None.\n",
    "        scale_projection_by_sensitivity (bool): Scale projections by sensitivity. Defaults to False.\n",
    "        N_splits (int): Number of splits for memory management. Defaults to 1.\n",
    "        FOV_scale_enabled (bool): Enable FOV scaling. Defaults to True.\n",
    "        device (str): Output device. Defaults to pytomography.device.\n",
    "    \"\"\"\n",
    "    def __init__(\n",
    "        self,\n",
    "        object_meta: ObjectMeta,\n",
    "        proj_meta,  # PETLORProjMeta\n",
    "        obj2obj_transforms: list[Transform] = [],\n",
    "        attenuation_map: torch.tensor | None = None,\n",
    "        scale_projection_by_sensitivity: bool = False,\n",
    "        N_splits: int = 1,\n",
    "        FOV_scale_enabled: bool = True,\n",
    "        device: str = pytomography.device,\n",
    "    ) -> None:\n",
    "        super(PETLORSystemMatrix, self).__init__(\n",
    "            obj2obj_transforms=obj2obj_transforms,\n",
    "            proj2proj_transforms=[],\n",
    "            object_meta=object_meta,\n",
    "            proj_meta=proj_meta\n",
    "        )\n",
    "        self.output_device = device\n",
    "        self.TOF = proj_meta.tof_meta is not None\n",
    "        self.object_origin = (- np.array(object_meta.shape) / 2 + 0.5) * (np.array(object_meta.dr))\n",
    "        self.obj2obj_transforms = obj2obj_transforms\n",
    "        self.attenuation_map = attenuation_map\n",
    "        self.N_splits = N_splits\n",
    "        self.scale_projection_by_sensitivity = scale_projection_by_sensitivity\n",
    "        self.FOV_scale_enabled = FOV_scale_enabled\n",
    "        \n",
    "        # Compute normalization factor\n",
    "        self.norm_BP = self._backward_full()\n",
    "        self.norm_BP[self.norm_BP < 1e-7] = 1e7\n",
    "\n",
    "    def _get_lor_coordinates(self, lor_coords_tensor, subset_indices=None):\n",
    "        \"\"\"Extract start and end coordinates from LOR tensor.\"\"\"\n",
    "        if subset_indices is not None:\n",
    "            lor_subset = lor_coords_tensor[subset_indices]\n",
    "        else:\n",
    "            lor_subset = lor_coords_tensor\n",
    "            \n",
    "        xstart = lor_subset[:, :3]  # [x1, y1, z1]\n",
    "        xend = lor_subset[:, 3:]    # [x2, y2, z2]\n",
    "        return xstart, xend\n",
    "\n",
    "    def _compute_attenuation_probability_projection(self, lor_coords: torch.tensor) -> torch.tensor:\n",
    "        \"\"\"Computes attenuation probabilities along LORs.\"\"\"\n",
    "        proj = torch.tensor([]).cpu()\n",
    "        \n",
    "        for lor_coords_partial in torch.tensor_split(lor_coords, self.N_splits):\n",
    "            xstart, xend = self._get_lor_coordinates(lor_coords_partial)\n",
    "            \n",
    "            proj_i = torch.exp(-parallelproj.joseph3d_fwd(\n",
    "                xstart.to(pytomography.device),\n",
    "                xend.to(pytomography.device),\n",
    "                self.attenuation_map,\n",
    "                self.object_origin,\n",
    "                self.object_meta.dr,\n",
    "                num_chunks=4)).cpu()\n",
    "            proj = torch.concatenate([proj, proj_i])\n",
    "        return proj.to(self.output_device)\n",
    "\n",
    "    def _compute_sensitivity_projection(self, all_lors: bool = True) -> torch.Tensor:\n",
    "        \"\"\"Computes sensitivity projection for normalization.\"\"\"\n",
    "        if all_lors and self.proj_meta.lor_coords_sensitivity is not None:\n",
    "            lor_coords = self.proj_meta.lor_coords_sensitivity\n",
    "            weights = self.proj_meta.weights_sensitivity\n",
    "        else:\n",
    "            lor_coords = self.proj_meta.lor_coords\n",
    "            weights = self.proj_meta.weights\n",
    "\n",
    "        proj = torch.ones(lor_coords.shape[0])\n",
    "        \n",
    "        if weights is not None:\n",
    "            proj *= weights.cpu()\n",
    "            \n",
    "        if self.attenuation_map is not None:\n",
    "            proj *= self._compute_attenuation_probability_projection(lor_coords).cpu()\n",
    "            \n",
    "        return proj\n",
    "\n",
    "    def _backward_full(self, N_splits: int = 20):\n",
    "        \"\"\"Computes full back projection for normalization.\"\"\"\n",
    "        proj = self._compute_sensitivity_projection()\n",
    "        \n",
    "        # Use sensitivity LORs if available, otherwise use regular LORs\n",
    "        if self.proj_meta.lor_coords_sensitivity is not None:\n",
    "            lor_coords = self.proj_meta.lor_coords_sensitivity\n",
    "        else:\n",
    "            lor_coords = self.proj_meta.lor_coords\n",
    "\n",
    "        norm_BP = 0\n",
    "        for proj_subset, lor_coords_subset in zip(\n",
    "            torch.tensor_split(proj, N_splits), \n",
    "            torch.tensor_split(lor_coords, N_splits)\n",
    "        ):\n",
    "            xstart, xend = self._get_lor_coordinates(lor_coords_subset)\n",
    "            \n",
    "            norm_BP += parallelproj.joseph3d_back(\n",
    "                xstart.to(pytomography.device),\n",
    "                xend.to(pytomography.device),\n",
    "                self.object_meta.shape,\n",
    "                self.object_origin,\n",
    "                self.object_meta.dr,\n",
    "                proj_subset.to(pytomography.device) + pytomography.delta,\n",
    "                num_chunks=4)\n",
    "                \n",
    "        # Apply object transforms\n",
    "        for transform in self.obj2obj_transforms[::-1]:\n",
    "            norm_BP = transform.backward(norm_BP)\n",
    "        return norm_BP.cpu()\n",
    "\n",
    "    def set_n_subsets(self, n_subsets: int) -> list:\n",
    "        \"\"\"Sets up subset indices for ordered subsets algorithms.\"\"\"\n",
    "        indices = torch.arange(self.proj_meta.lor_coords.shape[0]).to(torch.long).cpu()\n",
    "        subset_indices_array = []\n",
    "        for i in range(n_subsets):\n",
    "            subset_indices_array.append(indices[i::n_subsets])\n",
    "        self.subset_indices_array = subset_indices_array\n",
    "\n",
    "    def get_projection_subset(self, projections: torch.Tensor, subset_idx: int) -> torch.tensor:\n",
    "        \"\"\"Gets projection subset for ordered subsets.\"\"\"\n",
    "        if (projections.shape[0] > 1) and (subset_idx is not None):\n",
    "            subset_indices = self.subset_indices_array[subset_idx]\n",
    "            proj_subset = projections[subset_indices]\n",
    "        else:\n",
    "            proj_subset = projections\n",
    "        return proj_subset\n",
    "\n",
    "    def get_weighting_subset(self, subset_idx: int) -> float:\n",
    "        \"\"\"Gets relative weighting for subset.\"\"\"\n",
    "        if subset_idx is None:\n",
    "            return 1\n",
    "        else:\n",
    "            return len(self.subset_indices_array[subset_idx]) / self.proj_meta.lor_coords.shape[0]\n",
    "\n",
    "    def compute_normalization_factor(self, subset_idx: int | None = None) -> torch.tensor:\n",
    "        \"\"\"Computes normalization factor for reconstruction.\"\"\"\n",
    "        if subset_idx is None:\n",
    "            fraction_considered = 1\n",
    "        else:\n",
    "            fraction_considered = (self.subset_indices_array[subset_idx].shape[0] / \n",
    "                                 self.proj_meta.lor_coords.shape[0])\n",
    "        return fraction_considered * self.norm_BP.to(self.output_device)\n",
    "\n",
    "    def forward(self, object: torch.tensor, subset_idx: int = None) -> torch.tensor:\n",
    "        \"\"\"Forward projection using direct LOR coordinates.\n",
    "        \n",
    "        Each LOR just gets an associated line-attenuation,\n",
    "        which is the sum of the attenuations of all voxels along its path,\n",
    "        weighted by how much of the line is actually inside that voxel\n",
    "        i.e. the actual length of line inside the voxel, times that voxels attenuation, summed along the entire LOR\n",
    "        Outputs a 1D array, with one element for every LOR, which is the line integral described here.\n",
    "        \n",
    "        \"\"\"\n",
    "        # Get LOR coordinates (subset if specified)\n",
    "        if subset_idx is not None:\n",
    "            subset_indices = self.subset_indices_array[subset_idx].cpu()\n",
    "            lor_coords = self.proj_meta.lor_coords[subset_indices]\n",
    "        else:\n",
    "            lor_coords = self.proj_meta.lor_coords\n",
    "\n",
    "        # Apply object space transforms\n",
    "        object = object.to(pytomography.device)\n",
    "        for transform in self.obj2obj_transforms:\n",
    "            object = transform.forward(object)\n",
    "\n",
    "        # Project using LOR coordinates\n",
    "        proj = torch.tensor([]).cpu()\n",
    "        for lor_coords_partial in torch.tensor_split(lor_coords, self.N_splits):\n",
    "            xstart, xend = self._get_lor_coordinates(lor_coords_partial)\n",
    "            \n",
    "            if self.TOF:\n",
    "                # TOF version would need TOF bin information added to lor_coords\n",
    "                # This is more complex and would require extending the coordinate format\n",
    "                raise NotImplementedError(\"TOF not yet implemented for direct LOR coordinates\")\n",
    "            else:\n",
    "                proj_i = parallelproj.joseph3d_fwd(\n",
    "                    xstart.to(pytomography.device),\n",
    "                    xend.to(pytomography.device),\n",
    "                    object,\n",
    "                    self.object_origin,\n",
    "                    self.object_meta.dr\n",
    "                )\n",
    "            proj = torch.concatenate([proj, proj_i.cpu()])\n",
    "\n",
    "        if self.scale_projection_by_sensitivity:\n",
    "            if self.proj_meta.weights is None:\n",
    "                raise Exception('If scaling by sensitivity, then `weights` must be provided')\n",
    "            else:\n",
    "                proj = proj * self.get_projection_subset(self.proj_meta.weights, subset_idx).to(proj.device)\n",
    "                \n",
    "        return proj.to(self.output_device)\n",
    "\n",
    "    def backward(self, proj: torch.tensor, subset_idx: int = None, \n",
    "                return_norm_constant: bool = False) -> torch.tensor:\n",
    "        \"\"\"Back projection using direct LOR coordinates.\"\"\"\n",
    "        # Get LOR coordinates (subset if specified)\n",
    "        if subset_idx is not None:\n",
    "            subset_indices = self.subset_indices_array[subset_idx].cpu()\n",
    "            lor_coords = self.proj_meta.lor_coords[subset_indices]\n",
    "        else:\n",
    "            lor_coords = self.proj_meta.lor_coords\n",
    "\n",
    "        # Apply sensitivity scaling if needed\n",
    "        if self.scale_projection_by_sensitivity:\n",
    "            if self.proj_meta.weights is None:\n",
    "                raise Exception('If scaling by sensitivity, then `weights` must be provided')\n",
    "            else:\n",
    "                proj = proj * self.get_projection_subset(self.proj_meta.weights, subset_idx).to(proj.device)\n",
    "\n",
    "        BP = 0\n",
    "        for proj_i, lor_coords_partial in zip(\n",
    "            torch.tensor_split(proj, self.N_splits), \n",
    "            torch.tensor_split(lor_coords, self.N_splits)\n",
    "        ):\n",
    "            proj_i = proj_i.to(pytomography.device)\n",
    "            xstart, xend = self._get_lor_coordinates(lor_coords_partial)\n",
    "            \n",
    "            if self.TOF:\n",
    "                raise NotImplementedError(\"TOF not yet implemented for direct LOR coordinates\")\n",
    "            else:\n",
    "                BP += parallelproj.joseph3d_back(\n",
    "                    xstart.to(pytomography.device),\n",
    "                    xend.to(pytomography.device),\n",
    "                    self.object_meta.shape,\n",
    "                    self.object_origin,\n",
    "                    self.object_meta.dr,\n",
    "                    proj_i\n",
    "                )\n",
    "\n",
    "        # Apply object transforms\n",
    "        norm_constant = self.compute_normalization_factor(subset_idx)\n",
    "        for transform in self.obj2obj_transforms[::-1]:\n",
    "            if return_norm_constant:\n",
    "                BP, norm_constant = transform.backward(BP, norm_constant=norm_constant)\n",
    "            else:\n",
    "                BP = transform.backward(BP)\n",
    "\n",
    "        if return_norm_constant:\n",
    "            return BP.to(self.output_device), norm_constant.to(self.output_device)\n",
    "        else:\n",
    "            return BP.to(self.output_device)\n",
    "\n"
   ]
  },
  {
   "cell_type": "code",
   "execution_count": 12,
   "id": "de7f72f2",
   "metadata": {},
   "outputs": [],
   "source": [
    "# Get or Create attenuation maps\n",
    "\n",
    "# atten_map = gate.get_aligned_attenuation_map(os.path.join(path, 'gate_simulation/simple_phantom/umap_mMR_brainSimplePhantom.hv'), object_meta).to(pytomography.device)\n",
    "\n",
    "# Create a half-rectangular attenuation map\n",
    "half_rect_atten_map = torch.zeros(voxel_space)\n",
    "mid_x = voxel_space[0] // 2\n",
    "half_rect_atten_map[:mid_x, :, :] = torch.linspace(0, 0.1, mid_x).view(-1, 1, 1)\n",
    "\n",
    "# Create a gradient attenuation map\n",
    "coords = torch.stack(torch.meshgrid(\n",
    "    torch.arange(voxel_space[0]),\n",
    "    torch.arange(voxel_space[1]),\n",
    "    torch.arange(voxel_space[2]),\n",
    "    indexing='ij'\n",
    "), dim=-1).float()\n",
    "gradient_atten_map = coords.mean(dim=-1)\n",
    "gradient_atten_map = gradient_atten_map / gradient_atten_map.max()\n",
    "\n",
    "# Create a cylindrical attenuation map with radial gradient\n",
    "radius_mm = 279  # cylinder radius in mm\n",
    "center_x = voxel_space[0] // 2\n",
    "center_y = voxel_space[1] // 2\n",
    "center_z = voxel_space[2] // 2\n",
    "radius_vox = radius_mm / voxel_size\n",
    "\n",
    "# Define z-limits based on your filtered coordinates\n",
    "z_min_mm = z_vals.min()  # From your data\n",
    "z_max_mm = z_vals.max()   # From your data\n",
    "\n",
    "# Convert z-limits to voxel coordinates\n",
    "# Note: Your voxel tensor uses world coordinates, so we need to transform back\n",
    "# Assuming your voxel grid starts at the minimum coordinates\n",
    "voxel_z_min = 0  # Bottom of your voxel space\n",
    "voxel_z_max = voxel_space[2] - 1  # Top of your voxel space\n",
    "\n",
    "# Generate grid of voxel indices\n",
    "x = torch.arange(voxel_space[0]).float()\n",
    "y = torch.arange(voxel_space[1]).float()\n",
    "z = torch.arange(voxel_space[2]).float()\n",
    "xx, yy, zz = torch.meshgrid(x, y, z, indexing='ij')\n",
    "\n",
    "# Compute distance from central axis for each voxel\n",
    "dist_from_axis = torch.sqrt((xx - center_x)**2 + (yy - center_y)**2)\n",
    "\n",
    "# Create gradient cylinder attenuation map\n",
    "gradient_cylindrical_atten_map = torch.zeros(voxel_space)\n",
    "normalized_dist = dist_from_axis / radius_vox  # Normalize distances to [0,1]\n",
    "\n",
    "# Create radial gradient: 0 at center, increasing outward to max_attenuation\n",
    "attenuation_coefficient_per_cm = 0.096 # 0.096 cm^-1 is approx the attenuation coefficient for water.\n",
    "# attenuation_coefficient_per_cm = 0.14 # 0.14 cm^-1 is approx the attenuation coefficient for dense bone.\n",
    "max_attenuation = attenuation_coefficient_per_cm * (voxel_size/10) \n",
    "radial_gradient = normalized_dist * max_attenuation  # Linear increase from center\n",
    "\n",
    "# Apply radial constraint\n",
    "mask = (dist_from_axis <= radius_vox)  # Radial constraint\n",
    "gradient_cylindrical_atten_map[mask] = radial_gradient[mask]\n",
    "\n",
    "# Also create a solid cylinder for comparison\n",
    "cylindrical_atten_map = torch.zeros(voxel_space)\n",
    "cylindrical_atten_map[mask] = max_attenuation  # Constant attenuation\n",
    "\n",
    "\n",
    "# Create a spherical attenuation map centered at origin\n",
    "def create_spherical_atten_map(voxel_space, voxel_size, radius_mm=None, atten_value=0.1):\n",
    "    \"\"\"\n",
    "    Create a spherical attenuation map centered at the midpoint of voxel space.\n",
    "    \n",
    "    Args:\n",
    "        voxel_space: tuple (x, y, z) dimensions of the voxel grid\n",
    "        voxel_size: size of each voxel in mm\n",
    "        radius_mm: sphere radius in mm. If None, defaults to 1/4 of smallest axis\n",
    "        atten_value: attenuation value inside the sphere (default 0.1)\n",
    "    \n",
    "    Returns:\n",
    "        torch.Tensor: spherical attenuation map with shape voxel_space\n",
    "    \"\"\"\n",
    "    # Calculate default radius if not specified\n",
    "    if radius_mm is None:\n",
    "        min_axis_mm = min(voxel_space) * voxel_size\n",
    "        radius_mm = min_axis_mm / 4\n",
    "    \n",
    "    # Convert radius to voxel units\n",
    "    radius_vox = radius_mm / voxel_size\n",
    "    \n",
    "    # Calculate center coordinates\n",
    "    center_x = voxel_space[0] // 2\n",
    "    center_y = voxel_space[1] // 2\n",
    "    center_z = voxel_space[2] // 2\n",
    "    \n",
    "    # Generate grid of voxel indices\n",
    "    x = torch.arange(voxel_space[0]).float()\n",
    "    y = torch.arange(voxel_space[1]).float()\n",
    "    z = torch.arange(voxel_space[2]).float()\n",
    "    xx, yy, zz = torch.meshgrid(x, y, z, indexing='ij')\n",
    "    \n",
    "    # Compute distance from center for each voxel\n",
    "    dist_from_center = torch.sqrt((xx - center_x)**2 + (yy - center_y)**2 + (zz - center_z)**2)\n",
    "    \n",
    "    # Create spherical attenuation map\n",
    "    spherical_atten_map = torch.zeros(voxel_space)\n",
    "    spherical_atten_map[dist_from_center <= radius_vox] = atten_value\n",
    "    \n",
    "    return spherical_atten_map\n",
    "\n",
    "# Usage example with your existing variables:\n",
    "spherical_atten_map = create_spherical_atten_map(voxel_space, voxel_size, atten_value=0.01)\n",
    "# spherical_atten_map = create_spherical_atten_map(voxel_space, voxel_size, radius_mm=100, atten_value=0.1)"
   ]
  },
  {
   "cell_type": "code",
   "execution_count": 13,
   "id": "a89871c8",
   "metadata": {},
   "outputs": [],
   "source": [
    "# Visual to confirm attention map\n",
    "# visualize_voxel_tensor_3d(cylindrical_atten_map.cpu().numpy(),\n",
    "#                            initial_min_threshold=0.0, initial_max_threshold=1.0,\n",
    "#                            voxel_size_mm=voxel_size,\n",
    "#                            min_threshold=0.00005, max_threshold=1.0)"
   ]
  },
  {
   "cell_type": "code",
   "execution_count": 14,
   "id": "a39c5ccb",
   "metadata": {},
   "outputs": [
    {
     "name": "stdout",
     "output_type": "stream",
     "text": [
      "Input image shape: torch.Size([112, 112, 60])\n",
      "Projections shape: torch.Size([42640])\n",
      "Back projected shape: torch.Size([112, 112, 60])\n"
     ]
    },
    {
     "data": {
      "application/vnd.jupyter.widget-view+json": {
       "model_id": "9a88e4b76a524a04a3fe997031e72c00",
       "version_major": 2,
       "version_minor": 0
      },
      "text/plain": [
       "interactive(children=(IntSlider(value=56, description='X index', max=111), IntSlider(value=56, description='Y …"
      ]
     },
     "metadata": {},
     "output_type": "display_data"
    }
   ],
   "source": [
    "# atten_map = half_rect_atten_map.to(pytomography.device)\n",
    "# atten_map = gradient_atten_map.to(pytomography.device)\n",
    "atten_map = cylindrical_atten_map.to(pytomography.device)\n",
    "# atten_map = gradient_cylindrical_atten_map.to(pytomography.device)\n",
    "# atten_map = spherical_atten_map.to(pytomography.device)\n",
    "# atten_map = None\n",
    "\n",
    "# Create PSF transform\n",
    "psf_transform = GaussianFilter(3.) # 3mm gaussian blurring\n",
    "\n",
    "# Create object metadata (same as before)\n",
    "object_meta = ObjectMeta(\n",
    "    shape=voxel_tensor.shape,  # Your image dimensions\n",
    "    dr=(voxel_size, voxel_size, voxel_size),    # Voxel sizes in mm\n",
    ")\n",
    "\n",
    "# Create projection metadata\n",
    "proj_meta = PETLORProjMeta(\n",
    "    lor_coords=filtered_coordinates,\n",
    "    weights=None,  # Optional: weights for detected events\n",
    "    lor_coords_sensitivity=None,  # Optional: different LORs for sensitivity\n",
    "    weights_sensitivity=None,  # Optional: sensitivity weights\n",
    ")\n",
    "\n",
    "# Create system matrix\n",
    "system_matrix = PETLORSystemMatrix(\n",
    "    object_meta=object_meta,\n",
    "    proj_meta=proj_meta,\n",
    "    obj2obj_transforms=[psf_transform],  # Optional transforms\n",
    "    attenuation_map=atten_map,\n",
    "    N_splits=1,   # Memory management\n",
    ")\n",
    "\n",
    "initial_image = torch.ones(object_meta.shape)\n",
    "\n",
    "# Forward projection\n",
    "projections = system_matrix.forward(initial_image)\n",
    "\n",
    "# Back projection\n",
    "back_projected = system_matrix.backward(projections)\n",
    "\n",
    "print(f\"Input image shape: {initial_image.shape}\")\n",
    "print(f\"Projections shape: {projections.shape}\")\n",
    "print(f\"Back projected shape: {back_projected.shape}\")\n",
    "\n",
    "plot_cross_sections_interactive(back_projected.cpu().numpy())"
   ]
  },
  {
   "cell_type": "code",
   "execution_count": 15,
   "id": "13c44498",
   "metadata": {},
   "outputs": [],
   "source": [
    "# Custom functions for LOR coordinate based sampling and smoothing\n",
    "\n",
    "def sample_3d_volume_at_points(\n",
    "    volume: torch.Tensor,\n",
    "    points: torch.Tensor,\n",
    "    grid_bounds: tuple = None,\n",
    "    mode: str = 'bilinear',\n",
    "    padding_mode: str = 'zeros'\n",
    ") -> torch.Tensor:\n",
    "    \"\"\"Sample a 3D volume at arbitrary 3D points using trilinear interpolation.\n",
    "    \n",
    "    Args:\n",
    "        volume (torch.Tensor): 3D volume with shape (nx, ny, nz)\n",
    "        points (torch.Tensor): Points to sample at, shape (n_points, 3) as [x, y, z] coordinates\n",
    "        grid_bounds (tuple, optional): ((x_min, x_max), (y_min, y_max), (z_min, z_max)) in mm.\n",
    "                                     If None, inferred from volume shape assuming unit spacing.\n",
    "        mode (str, optional): Interpolation mode. Defaults to 'bilinear' (trilinear in 3D).\n",
    "        padding_mode (str, optional): Padding mode for out-of-bounds. Defaults to 'zeros'.\n",
    "    \n",
    "    Returns:\n",
    "        torch.Tensor: Sampled values at each point, shape (n_points,)\n",
    "    \"\"\"\n",
    "    device = volume.device\n",
    "    points = points.to(device)\n",
    "    \n",
    "    # Get volume dimensions\n",
    "    nx, ny, nz = volume.shape\n",
    "    \n",
    "    # Set default grid bounds if not provided\n",
    "    if grid_bounds is None:\n",
    "        # Assume unit spacing centered around origin\n",
    "        grid_bounds = (\n",
    "            (-nx/2, nx/2),\n",
    "            (-ny/2, ny/2), \n",
    "            (-nz/2, nz/2)\n",
    "        )\n",
    "    \n",
    "    (x_min, x_max), (y_min, y_max), (z_min, z_max) = grid_bounds\n",
    "    \n",
    "    # Convert physical coordinates to normalized grid coordinates [-1, 1]\n",
    "    # PyTorch's grid_sample expects coordinates in [-1, 1] range\n",
    "    x_norm = 2 * (points[:, 0] - x_min) / (x_max - x_min) - 1\n",
    "    y_norm = 2 * (points[:, 1] - y_min) / (y_max - y_min) - 1\n",
    "    z_norm = 2 * (points[:, 2] - z_min) / (z_max - z_min) - 1\n",
    "    \n",
    "    # Stack normalized coordinates - PyTorch expects [batch, depth, height, width, 3]\n",
    "    # For 3D, grid should be [N, D, H, W, 3] where last dim is [x, y, z]\n",
    "    grid_coords = torch.stack([x_norm, y_norm, z_norm], dim=-1)  # Shape: (n_points, 3)\n",
    "    \n",
    "    # Reshape for grid_sample: need [1, n_points, 1, 1, 3]\n",
    "    grid_coords = grid_coords.unsqueeze(0).unsqueeze(2).unsqueeze(2)  # [1, n_points, 1, 1, 3]\n",
    "    \n",
    "    # Add batch dimension to volume: [1, 1, nx, ny, nz]\n",
    "    volume_batched = volume.unsqueeze(0).unsqueeze(0)\n",
    "    \n",
    "    # Sample using trilinear interpolation\n",
    "    sampled = torch.nn.functional.grid_sample(\n",
    "        volume_batched,\n",
    "        grid_coords,\n",
    "        mode=mode,\n",
    "        padding_mode=padding_mode,\n",
    "        align_corners=True\n",
    "    )\n",
    "    \n",
    "    # Remove batch dimensions and reshape to (n_points,)\n",
    "    sampled = sampled.squeeze(0).squeeze(0).squeeze(-1).squeeze(-1)  # [n_points]\n",
    "    \n",
    "    return sampled\n",
    "\n",
    "\n",
    "def get_smoothed_lor_values(\n",
    "    smoothed_volume: torch.Tensor,\n",
    "    lor_coords: torch.Tensor,\n",
    "    grid_bounds: tuple = None\n",
    ") -> torch.Tensor:\n",
    "    \"\"\"Convert smoothed 3D volume back to per-LOR values by sampling at LOR midpoints.\n",
    "    \n",
    "    Args:\n",
    "        smoothed_volume (torch.Tensor): 3D smoothed volume, shape (nx, ny, nz)\n",
    "        lor_coords (torch.Tensor): LOR coordinates, shape (n_lors, 6) as [x1,y1,z1,x2,y2,z2]\n",
    "        grid_bounds (tuple, optional): Grid bounds used when creating the smoothed volume\n",
    "    \n",
    "    Returns:\n",
    "        torch.Tensor: Smoothed values per LOR, shape (n_lors,)\n",
    "    \"\"\"\n",
    "    # Calculate LOR midpoints\n",
    "    midpoints = (lor_coords[:, :3] + lor_coords[:, 3:]) / 2\n",
    "    \n",
    "    # Sample the smoothed volume at midpoint locations\n",
    "    smoothed_lor_values = sample_3d_volume_at_points(\n",
    "        smoothed_volume,\n",
    "        midpoints,\n",
    "        grid_bounds=grid_bounds\n",
    "    )\n",
    "    \n",
    "    return smoothed_lor_values\n",
    "\n",
    "@torch.no_grad()\n",
    "def smooth_randoms_coordinates(\n",
    "    lor_coordinates: torch.Tensor,\n",
    "    weights: torch.Tensor = None,\n",
    "    bandwidth: float = 10.0,\n",
    "    adaptive: bool = True,\n",
    "    query_points: torch.Tensor = None,\n",
    "    grid_resolution: tuple = (64, 64, 32),\n",
    "    normalization: bool = False\n",
    ") -> torch.Tensor:\n",
    "    \"\"\"Smooths PET randoms using kernel density estimation directly on LOR coordinates\n",
    "    \n",
    "    Args:\n",
    "        lor_coordinates (torch.Tensor): LOR coordinates shaped (pairs, 6) as [x1,y1,z1,x2,y2,z2] in mm\n",
    "        weights (torch.Tensor, optional): Weights for each LOR. Defaults to uniform.\n",
    "        bandwidth (float, optional): Base smoothing bandwidth in mm. Defaults to 10.0.\n",
    "        adaptive (bool, optional): Use adaptive bandwidth based on local density. Defaults to True.\n",
    "        query_points (torch.Tensor, optional): Specific points to evaluate. If None, creates regular grid.\n",
    "        grid_resolution (tuple, optional): Grid resolution (nx, ny, nz) for output. Defaults to (64, 64, 32).\n",
    "        normalization (bool, optional): Apply symmetric normalization. Defaults to False.\n",
    "        \n",
    "    Returns:\n",
    "        torch.Tensor: Smoothed randoms estimate at query points or regular grid\n",
    "    \"\"\"\n",
    "    device = lor_coordinates.device\n",
    "    n_lors = lor_coordinates.shape[0]\n",
    "    \n",
    "    # Use uniform weights if not provided\n",
    "    if weights is None:\n",
    "        weights = torch.ones(n_lors, device=device)\n",
    "    \n",
    "    # Calculate LOR midpoints (representative spatial location)\n",
    "    p1 = lor_coordinates[:, :3]  # [x1, y1, z1]\n",
    "    p2 = lor_coordinates[:, 3:]  # [x2, y2, z2]\n",
    "    midpoints = (p1 + p2) / 2\n",
    "    \n",
    "    # Create query points if not provided\n",
    "    if query_points is None:\n",
    "        # Create regular grid covering the data extent with some padding\n",
    "        mins = midpoints.min(dim=0)[0] - bandwidth * 2\n",
    "        maxs = midpoints.max(dim=0)[0] + bandwidth * 2\n",
    "        \n",
    "        x_grid = torch.linspace(mins[0], maxs[0], grid_resolution[0], device=device)\n",
    "        y_grid = torch.linspace(mins[1], maxs[1], grid_resolution[1], device=device)\n",
    "        z_grid = torch.linspace(mins[2], maxs[2], grid_resolution[2], device=device)\n",
    "        \n",
    "        # Create meshgrid and flatten to query points\n",
    "        X, Y, Z = torch.meshgrid(x_grid, y_grid, z_grid, indexing='ij')\n",
    "        query_points = torch.stack([X.flatten(), Y.flatten(), Z.flatten()], dim=1)\n",
    "        output_shape = grid_resolution\n",
    "    else:\n",
    "        output_shape = (query_points.shape[0],)\n",
    "    \n",
    "    # Calculate adaptive bandwidth if requested\n",
    "    if adaptive:\n",
    "        # Estimate local density using k-nearest neighbors\n",
    "        k = min(20, n_lors // 10)  # adaptive k based on data size\n",
    "        \n",
    "        # Batch processing for memory efficiency\n",
    "        batch_size = min(1000, n_lors)\n",
    "        local_bandwidths = torch.zeros(n_lors, device=device)\n",
    "        \n",
    "        for i in range(0, n_lors, batch_size):\n",
    "            batch_end = min(i + batch_size, n_lors)\n",
    "            batch_points = midpoints[i:batch_end]\n",
    "            \n",
    "            # Calculate distances to all other points\n",
    "            distances = torch.cdist(batch_points, midpoints)\n",
    "            \n",
    "            # Get k-th nearest neighbor distance\n",
    "            kth_distances = torch.kthvalue(distances, k + 1, dim=1)[0]  # +1 to exclude self\n",
    "            \n",
    "            # Adaptive bandwidth: smaller where density is higher\n",
    "            local_bandwidths[i:batch_end] = bandwidth * (kth_distances / kth_distances.median())\n",
    "    else:\n",
    "        local_bandwidths = torch.full((n_lors,), bandwidth, device=device)\n",
    "    \n",
    "    # Kernel density estimation\n",
    "    n_query = query_points.shape[0]\n",
    "    density = torch.zeros(n_query, device=device)\n",
    "    \n",
    "    # Process in batches to manage memory\n",
    "    query_batch_size = min(1000, n_query)\n",
    "    lor_batch_size = min(1000, n_lors)\n",
    "    \n",
    "    for q_start in range(0, n_query, query_batch_size):\n",
    "        q_end = min(q_start + query_batch_size, n_query)\n",
    "        query_batch = query_points[q_start:q_end]\n",
    "        batch_density = torch.zeros(q_end - q_start, device=device)\n",
    "        \n",
    "        for l_start in range(0, n_lors, lor_batch_size):\n",
    "            l_end = min(l_start + lor_batch_size, n_lors)\n",
    "            lor_batch = midpoints[l_start:l_end]\n",
    "            weight_batch = weights[l_start:l_end]\n",
    "            bandwidth_batch = local_bandwidths[l_start:l_end]\n",
    "            \n",
    "            # Calculate squared distances\n",
    "            dist_sq = torch.cdist(query_batch, lor_batch).pow(2)\n",
    "            \n",
    "            # Gaussian kernel with adaptive bandwidth\n",
    "            # K(x) = exp(-0.5 * (dist/bandwidth)^2) / (bandwidth^3 * (2π)^(3/2))\n",
    "            bandwidth_batch_sq = bandwidth_batch.pow(2)\n",
    "            gaussian_weights = torch.exp(-0.5 * dist_sq / bandwidth_batch_sq.unsqueeze(0))\n",
    "            \n",
    "            # Normalize by bandwidth cubed for 3D\n",
    "            normalization_factor = 1.0 / (bandwidth_batch.pow(3) * (2 * torch.pi) ** 1.5)\n",
    "            gaussian_weights = gaussian_weights * normalization_factor.unsqueeze(0)\n",
    "            \n",
    "            # Apply LOR weights and sum\n",
    "            weighted_gaussian = gaussian_weights * weight_batch.unsqueeze(0)\n",
    "            batch_density += weighted_gaussian.sum(dim=1)\n",
    "        \n",
    "        density[q_start:q_end] = batch_density\n",
    "    \n",
    "    # Handle normalization (symmetric estimation)\n",
    "    if normalization:\n",
    "        # For normalization, we'd typically want symmetric treatment\n",
    "        # This could involve flipping coordinates or other geometry-specific operations\n",
    "        # Since we don't have scanner-specific geometry, we'll apply a simple symmetric approach\n",
    "        \n",
    "        # Flip coordinates through origin and repeat estimation\n",
    "        flipped_midpoints = -midpoints\n",
    "        \n",
    "        density_flipped = torch.zeros(n_query, device=device)\n",
    "        \n",
    "        for q_start in range(0, n_query, query_batch_size):\n",
    "            q_end = min(q_start + query_batch_size, n_query)\n",
    "            query_batch = query_points[q_start:q_end]\n",
    "            batch_density = torch.zeros(q_end - q_start, device=device)\n",
    "            \n",
    "            for l_start in range(0, n_lors, lor_batch_size):\n",
    "                l_end = min(l_start + lor_batch_size, n_lors)\n",
    "                lor_batch = flipped_midpoints[l_start:l_end]\n",
    "                weight_batch = weights[l_start:l_end]\n",
    "                bandwidth_batch = local_bandwidths[l_start:l_end]\n",
    "                \n",
    "                dist_sq = torch.cdist(query_batch, lor_batch).pow(2)\n",
    "                bandwidth_batch_sq = bandwidth_batch.pow(2)\n",
    "                gaussian_weights = torch.exp(-0.5 * dist_sq / bandwidth_batch_sq.unsqueeze(0))\n",
    "                normalization_factor = 1.0 / (bandwidth_batch.pow(3) * (2 * torch.pi) ** 1.5)\n",
    "                gaussian_weights = gaussian_weights * normalization_factor.unsqueeze(0)\n",
    "                weighted_gaussian = gaussian_weights * weight_batch.unsqueeze(0)\n",
    "                batch_density += weighted_gaussian.sum(dim=1)\n",
    "            \n",
    "            density_flipped[q_start:q_end] = batch_density\n",
    "        \n",
    "        density = (density + density_flipped) / 2\n",
    "    \n",
    "    # Reshape to output format\n",
    "    if len(output_shape) > 1:\n",
    "        density = density.reshape(output_shape)\n",
    "    \n",
    "    return density\n"
   ]
  },
  {
   "cell_type": "code",
   "execution_count": 16,
   "id": "af8168a8",
   "metadata": {},
   "outputs": [
    {
     "name": "stdout",
     "output_type": "stream",
     "text": [
      "LM sensitivity shape: torch.Size([42640])\n",
      "Smoothed LM shape, called sinogram delays: torch.Size([112, 112, 60])\n",
      "Grid bounds: ((-292.2544860839844, 290.0920104980469), (-289.61700439453125, 282.5825500488281), (-167.8221435546875, 167.67807006835938))\n"
     ]
    }
   ],
   "source": [
    "# Get gaussian blurred midpoint cloud (without scatter term)\n",
    "sinogram_delays = smooth_randoms_coordinates(filtered_coordinates, weights=None, bandwidth=10.0, adaptive=True, grid_resolution=voxel_space)\n",
    "\n",
    "# Get additive term (without scatter term)\n",
    "lm_sensitivity = system_matrix._compute_sensitivity_projection()\n",
    "\n",
    "print(f\"LM sensitivity shape: {lm_sensitivity.shape}\")\n",
    "print(f\"Smoothed LM shape, called sinogram delays: {sinogram_delays.shape}\")\n",
    "\n",
    "# Get the grid bounds that were used to create the smoothed volume\n",
    "# This should match what was used in smooth_randoms_coordinates\n",
    "lor_coords = proj_meta.lor_coords\n",
    "midpoints = (lor_coords[:, :3] + lor_coords[:, 3:]) / 2\n",
    "bandwidth = 10.0  # Same as used in smoothing\n",
    "\n",
    "mins = midpoints.min(dim=0)[0] - bandwidth * 2\n",
    "maxs = midpoints.max(dim=0)[0] + bandwidth * 2\n",
    "grid_bounds = (\n",
    "    (mins[0].item(), maxs[0].item()),\n",
    "    (mins[1].item(), maxs[1].item()),\n",
    "    (mins[2].item(), maxs[2].item())\n",
    ")\n",
    "\n",
    "print(f\"Grid bounds: {grid_bounds}\")\n",
    "\n",
    "# Sample the smoothed volume at LOR midpoint locations\n",
    "lm_delays = get_smoothed_lor_values(\n",
    "    sinogram_delays, # smoothed volume \n",
    "    lor_coords, \n",
    "    grid_bounds=grid_bounds\n",
    ")"
   ]
  },
  {
   "cell_type": "code",
   "execution_count": 17,
   "id": "76c83ce6",
   "metadata": {},
   "outputs": [
    {
     "data": {
      "application/vnd.jupyter.widget-view+json": {
       "model_id": "456d121228444e399f2317a589a8b616",
       "version_major": 2,
       "version_minor": 0
      },
      "text/plain": [
       "interactive(children=(IntSlider(value=56, description='X index', max=111), IntSlider(value=56, description='Y …"
      ]
     },
     "metadata": {},
     "output_type": "display_data"
    }
   ],
   "source": [
    "# Get additive term (without scatter term):\n",
    "lm_sensitivity = system_matrix._compute_sensitivity_projection()\n",
    "additive_term = lm_delays / lm_sensitivity\n",
    "additive_term[additive_term.isnan()] = 0\n",
    "\n",
    "# Recon\n",
    "likelihood = PoissonLogLikelihood(\n",
    "        system_matrix,\n",
    "        # projections, # For listmode reconstruction, projections don't need to be provided, since all detection events are stored in proj_meta\n",
    "        additive_term = additive_term\n",
    "    )\n",
    "\n",
    "# recon_algorithm = OSEM(likelihood)\n",
    "recon_algorithm = OSEM(likelihood, object_initial=torch.tensor(back_projected.cpu().numpy().copy()))\n",
    "recon_without_scatter_estimation = recon_algorithm(n_iters=14, n_subsets=1)\n",
    "\n",
    "plot_cross_sections_interactive(recon_without_scatter_estimation.cpu().numpy())"
   ]
  },
  {
   "cell_type": "code",
   "execution_count": null,
   "id": "ba89dfcd",
   "metadata": {},
   "outputs": [
    {
     "name": "stdout",
     "output_type": "stream",
     "text": [
      "Using 20 scatter points\n"
     ]
    }
   ],
   "source": [
    "import torch\n",
    "import numpy as np\n",
    "from typing import Tuple, Optional\n",
    "import parallelproj\n",
    "\n",
    "def get_lor_scatter_estimate(\n",
    "    object_meta,  # ObjectMeta\n",
    "    proj_meta,    # PETLORProjMeta  \n",
    "    pet_image: torch.Tensor,\n",
    "    system_matrix,  # PETLORSystemMatrix\n",
    "    attenuation_image: Optional[torch.Tensor] = None,\n",
    "    image_stepsize: int = 4,\n",
    "    attenuation_cutoff: float = 0.004,\n",
    "    scatter_stepsize: int = 4,\n",
    "    num_scatter_points: int = 1000,\n",
    "    energy_window_fraction: float = 0.2,\n",
    "    compton_fraction: float = 0.8,\n",
    "    N_splits: int = 1\n",
    ") -> torch.Tensor:\n",
    "    \"\"\"\n",
    "    Estimate scatter for LOR-based PET data using simplified single scatter simulation.\n",
    "    \n",
    "    Args:\n",
    "        object_meta: Object metadata\n",
    "        proj_meta: PETLORProjMeta with LOR coordinates\n",
    "        pet_image: Reconstructed PET image for scatter estimation\n",
    "        system_matrix: PETLORSystemMatrix\n",
    "        attenuation_image: Optional attenuation map (linear attenuation coefficient).\n",
    "                          If None, assumes uniform medium with minimal attenuation.\n",
    "        image_stepsize: Subsampling factor for image voxels used as scatter points\n",
    "        attenuation_cutoff: Minimum attenuation value to consider as scatter point\n",
    "                           (ignored if attenuation_image is None)\n",
    "        scatter_stepsize: Subsampling of LORs for scatter calculation\n",
    "        num_scatter_points: Maximum number of scatter points to use\n",
    "        energy_window_fraction: Fraction of scattered photons accepted\n",
    "        compton_fraction: Fraction of scattered events that are Compton scatter\n",
    "        N_splits: Number of splits for memory management\n",
    "        \n",
    "    Returns:\n",
    "        torch.Tensor: Estimated scatter for each LOR\n",
    "    \"\"\"\n",
    "    device = pet_image.device\n",
    "    \n",
    "    # Create uniform attenuation map if none provided\n",
    "    if attenuation_image is None:\n",
    "        # Assume water-like attenuation (0.096 cm^-1 at 511 keV)\n",
    "        attenuation_image = torch.full_like(pet_image, 0.001)  # Very low uniform attenuation\n",
    "        attenuation_cutoff = 0.0001  # Lower cutoff since we have uniform low attenuation\n",
    "        print(\"No attenuation map provided - using uniform low attenuation\")\n",
    "    \n",
    "    # Get valid scatter points from the image\n",
    "    scatter_points, scatter_activities = _get_scatter_points(\n",
    "        pet_image, attenuation_image, object_meta, \n",
    "        image_stepsize, attenuation_cutoff, num_scatter_points\n",
    "    )\n",
    "    \n",
    "    if scatter_points.shape[0] == 0:\n",
    "        print(\"No valid scatter points found\")\n",
    "        return torch.zeros(proj_meta.lor_coords.shape[0], device=device)\n",
    "    \n",
    "    print(f\"Using {scatter_points.shape[0]} scatter points\")\n",
    "    \n",
    "    # Subsample LORs for computational efficiency\n",
    "    n_lors = proj_meta.lor_coords.shape[0]\n",
    "    lor_indices = torch.arange(0, n_lors, scatter_stepsize)\n",
    "    sampled_lor_coords = proj_meta.lor_coords[lor_indices]\n",
    "    \n",
    "    # Calculate scatter for sampled LORs\n",
    "    scatter_sampled = _calculate_single_scatter(\n",
    "        sampled_lor_coords, scatter_points, scatter_activities,\n",
    "        attenuation_image, object_meta, energy_window_fraction, \n",
    "        compton_fraction, N_splits\n",
    "    )\n",
    "    \n",
    "    # Interpolate scatter to all LORs\n",
    "    scatter_full = _interpolate_scatter_to_full_lors(\n",
    "        scatter_sampled, lor_indices, n_lors, proj_meta.lor_coords\n",
    "    )\n",
    "    \n",
    "    return scatter_full.to(device)\n",
    "\n",
    "\n",
    "def _get_scatter_points(\n",
    "    pet_image: torch.Tensor,\n",
    "    attenuation_image: torch.Tensor,\n",
    "    object_meta,\n",
    "    stepsize: int,\n",
    "    attenuation_cutoff: float,\n",
    "    max_points: int\n",
    ") -> Tuple[torch.Tensor, torch.Tensor]:\n",
    "    \"\"\"Extract valid scatter points from the image.\"\"\"\n",
    "    \n",
    "    # Subsample image for computational efficiency\n",
    "    pet_sub = pet_image[::stepsize, ::stepsize, ::stepsize]\n",
    "    atten_sub = attenuation_image[::stepsize, ::stepsize, ::stepsize]\n",
    "    \n",
    "    # Find voxels with sufficient activity and attenuation\n",
    "    # If attenuation is very uniform/low, just use activity threshold\n",
    "    if attenuation_cutoff > 0:\n",
    "        valid_mask = (atten_sub > attenuation_cutoff) & (pet_sub > 0)\n",
    "    else:\n",
    "        # Use activity-only threshold when attenuation is uniform\n",
    "        activity_threshold = pet_sub.max() * 0.01  # 1% of max activity\n",
    "        valid_mask = pet_sub > activity_threshold\n",
    "    \n",
    "    if not valid_mask.any():\n",
    "        return torch.empty((0, 3)), torch.empty(0)\n",
    "    \n",
    "    # Get indices of valid voxels\n",
    "    valid_indices = torch.where(valid_mask)\n",
    "    \n",
    "    # Convert to physical coordinates\n",
    "    origin = np.array(object_meta.shape) / 2 * np.array(object_meta.dr)\n",
    "    scatter_coords = torch.stack([\n",
    "        (valid_indices[0] * stepsize - object_meta.shape[0]/2 + 0.5) * object_meta.dr[0],\n",
    "        (valid_indices[1] * stepsize - object_meta.shape[1]/2 + 0.5) * object_meta.dr[1], \n",
    "        (valid_indices[2] * stepsize - object_meta.shape[2]/2 + 0.5) * object_meta.dr[2]\n",
    "    ], dim=1)\n",
    "    \n",
    "    # Get activities at these points\n",
    "    activities = pet_sub[valid_mask]\n",
    "    \n",
    "    # Limit number of points if too many\n",
    "    if scatter_coords.shape[0] > max_points:\n",
    "        # Sample based on activity (higher activity = higher probability)\n",
    "        probs = activities / activities.sum()\n",
    "        selected_indices = torch.multinomial(probs, max_points, replacement=False)\n",
    "        scatter_coords = scatter_coords[selected_indices]\n",
    "        activities = activities[selected_indices]\n",
    "    \n",
    "    return scatter_coords, activities\n",
    "\n",
    "\n",
    "def _calculate_single_scatter(\n",
    "    lor_coords: torch.Tensor,\n",
    "    scatter_points: torch.Tensor,\n",
    "    scatter_activities: torch.Tensor,\n",
    "    attenuation_image: torch.Tensor,\n",
    "    object_meta,\n",
    "    energy_fraction: float,\n",
    "    compton_fraction: float,\n",
    "    N_splits: int\n",
    ") -> torch.Tensor:\n",
    "    \"\"\"Calculate single scatter contribution for given LORs.\"\"\"\n",
    "    \n",
    "    device = lor_coords.device\n",
    "    n_lors = lor_coords.shape[0]\n",
    "    n_scatter = scatter_points.shape[0]\n",
    "    \n",
    "    scatter_estimate = torch.zeros(n_lors, device=device)\n",
    "    object_origin = (- np.array(object_meta.shape) / 2 + 0.5) * (np.array(object_meta.dr))\n",
    "    \n",
    "    # Process in batches to manage memory\n",
    "    batch_size = min(100, n_lors)\n",
    "    \n",
    "    for lor_start in range(0, n_lors, batch_size):\n",
    "        lor_end = min(lor_start + batch_size, n_lors)\n",
    "        lor_batch = lor_coords[lor_start:lor_end]\n",
    "        \n",
    "        batch_scatter = torch.zeros(lor_end - lor_start, device=device)\n",
    "        \n",
    "        # For each LOR in the batch\n",
    "        for i, lor in enumerate(lor_batch):\n",
    "            p1 = lor[:3]  # Start point\n",
    "            p2 = lor[3:]  # End point\n",
    "            \n",
    "            # Calculate scatter contribution from each scatter point\n",
    "            for j in range(n_scatter):\n",
    "                scatter_point = scatter_points[j]\n",
    "                activity = scatter_activities[j]\n",
    "                \n",
    "                # Calculate scatter probability\n",
    "                scatter_prob = _calculate_scatter_probability(\n",
    "                    p1, p2, scatter_point, attenuation_image, \n",
    "                    object_origin, object_meta.dr, energy_fraction, compton_fraction\n",
    "                )\n",
    "                \n",
    "                batch_scatter[i] += activity * scatter_prob\n",
    "        \n",
    "        scatter_estimate[lor_start:lor_end] = batch_scatter\n",
    "    \n",
    "    return scatter_estimate\n",
    "\n",
    "\n",
    "def _calculate_scatter_probability(\n",
    "    p1: torch.Tensor,\n",
    "    p2: torch.Tensor, \n",
    "    scatter_point: torch.Tensor,\n",
    "    attenuation_image: torch.Tensor,\n",
    "    object_origin: np.ndarray,\n",
    "    dr: tuple,\n",
    "    energy_fraction: float,\n",
    "    compton_fraction: float\n",
    ") -> float:\n",
    "    \"\"\"Calculate the probability of scatter from a point contributing to a LOR.\"\"\"\n",
    "    \n",
    "    # Calculate distances\n",
    "    d1 = torch.norm(scatter_point - p1)  # Distance from p1 to scatter point\n",
    "    d2 = torch.norm(p2 - scatter_point)  # Distance from scatter point to p2\n",
    "    \n",
    "    if d1 == 0 or d2 == 0:\n",
    "        return 0.0\n",
    "    \n",
    "    # Calculate scattering angle using cosine rule\n",
    "    d12 = torch.norm(p2 - p1)  # Direct distance\n",
    "    cos_theta = (d1**2 + d2**2 - d12**2) / (2 * d1 * d2)\n",
    "    cos_theta = torch.clamp(cos_theta, -1, 1)  # Ensure valid range\n",
    "    \n",
    "    # Klein-Nishina formula for Compton scattering (simplified)\n",
    "    # For 511 keV photons\n",
    "    alpha = 1.022  # 511 keV / 511 keV\n",
    "    compton_prob = (1 + cos_theta + (alpha * (1 - cos_theta))**2 / (1 + alpha * (1 - cos_theta)))\n",
    "    \n",
    "    # Geometric probability (inverse square law)\n",
    "    geometric_prob = 1.0 / (4 * np.pi * d1**2) * 1.0 / (4 * np.pi * d2**2)\n",
    "    \n",
    "    # Attenuation along paths\n",
    "    # Path from p1 to scatter point\n",
    "    atten1 = _calculate_line_integral(\n",
    "        p1, scatter_point, attenuation_image, object_origin, dr\n",
    "    )\n",
    "    \n",
    "    # Path from scatter point to p2  \n",
    "    atten2 = _calculate_line_integral(\n",
    "        scatter_point, p2, attenuation_image, object_origin, dr\n",
    "    )\n",
    "    \n",
    "    attenuation_factor = torch.exp(-(atten1 + atten2))\n",
    "    \n",
    "    # Combine all factors\n",
    "    scatter_prob = (compton_fraction * energy_fraction * \n",
    "                   compton_prob * geometric_prob * attenuation_factor)\n",
    "    \n",
    "    return scatter_prob.item()\n",
    "\n",
    "\n",
    "def _calculate_line_integral(\n",
    "    p1: torch.Tensor,\n",
    "    p2: torch.Tensor,\n",
    "    image: torch.Tensor,\n",
    "    origin: np.ndarray,\n",
    "    dr: tuple\n",
    ") -> torch.Tensor:\n",
    "    \"\"\"Calculate line integral of image along path from p1 to p2.\"\"\"\n",
    "    \n",
    "    # Use parallelproj for line integral calculation\n",
    "    try:\n",
    "        integral = parallelproj.joseph3d_fwd(\n",
    "            p1.unsqueeze(0).to(image.device),\n",
    "            p2.unsqueeze(0).to(image.device),\n",
    "            image.to(image.device),\n",
    "            origin,\n",
    "            dr\n",
    "        )[0]\n",
    "        return integral\n",
    "    except:\n",
    "        # Fallback: simple approximation\n",
    "        return torch.norm(p2 - p1) * 0.01  # Rough approximation\n",
    "\n",
    "\n",
    "def _interpolate_scatter_to_full_lors(\n",
    "    scatter_sampled: torch.Tensor,\n",
    "    sampled_indices: torch.Tensor,\n",
    "    total_lors: int,\n",
    "    all_lor_coords: torch.Tensor\n",
    ") -> torch.Tensor:\n",
    "    \"\"\"Interpolate scattered estimates from sampled LORs to all LORs.\"\"\"\n",
    "    \n",
    "    device = scatter_sampled.device\n",
    "    scatter_full = torch.zeros(total_lors, device=device)\n",
    "    \n",
    "    if len(scatter_sampled) == 0:\n",
    "        return scatter_full\n",
    "    \n",
    "    # Simple approach: assign sampled values to their positions\n",
    "    scatter_full[sampled_indices] = scatter_sampled\n",
    "    \n",
    "    # For non-sampled LORs, use nearest neighbor interpolation\n",
    "    # based on LOR midpoint proximity\n",
    "    sampled_midpoints = (all_lor_coords[sampled_indices, :3] + \n",
    "                        all_lor_coords[sampled_indices, 3:]) / 2\n",
    "    \n",
    "    for i in range(total_lors):\n",
    "        if i not in sampled_indices:\n",
    "            # Find nearest sampled LOR\n",
    "            lor_midpoint = (all_lor_coords[i, :3] + all_lor_coords[i, 3:]) / 2\n",
    "            distances = torch.norm(sampled_midpoints - lor_midpoint.unsqueeze(0), dim=1)\n",
    "            nearest_idx = torch.argmin(distances)\n",
    "            scatter_full[i] = scatter_sampled[nearest_idx]\n",
    "    \n",
    "    return scatter_full\n",
    "\n",
    "\n",
    "scatter_estimate = get_lor_scatter_estimate(\n",
    "        object_meta=object_meta,\n",
    "        proj_meta=proj_meta,\n",
    "        pet_image=recon_without_scatter_estimation,\n",
    "        attenuation_image=atten_map,\n",
    "        system_matrix=system_matrix,\n",
    "        # image_stepsize=16,\n",
    "        image_stepsize=4,\n",
    "        attenuation_cutoff=0.004,\n",
    "        # scatter_stepsize=16,\n",
    "        scatter_stepsize=4,\n",
    "        num_scatter_points=20\n",
    "    )\n",
    "\n"
   ]
  },
  {
   "cell_type": "code",
   "execution_count": null,
   "id": "0ac9d1ad",
   "metadata": {},
   "outputs": [
    {
     "data": {
      "application/vnd.jupyter.widget-view+json": {
       "model_id": "75d6ac39c6044592906a2cecb4cf33ac",
       "version_major": 2,
       "version_minor": 0
      },
      "text/plain": [
       "interactive(children=(IntSlider(value=47, description='X index', max=93), IntSlider(value=47, description='Y i…"
      ]
     },
     "metadata": {},
     "output_type": "display_data"
    }
   ],
   "source": [
    "# Get additive term (with scatter estimation)\n",
    "lm_sensitivity = system_matrix._compute_sensitivity_projection()\n",
    "additive_term = (scatter_estimate + lm_delays) / lm_sensitivity\n",
    "additive_term[additive_term.isnan()] = 0\n",
    "\n",
    "# Create likelihood. For listmode reconstruction, projections don't need to be provided, since all detection events are stored in proj_meta\n",
    "likelihood = PoissonLogLikelihood(\n",
    "    system_matrix,\n",
    "    # recon_algorithm = OSEM(likelihood, object_initial=back_projected)\n",
    "    additive_term=additive_term,  # Additive term for randoms\n",
    ")\n",
    "\n",
    "# recon_algorithm = OSEM(likelihood, object_initial=None)\n",
    "recon_algorithm = OSEM(likelihood, object_initial=torch.tensor(back_projected.cpu().numpy().copy()))\n",
    "recon_with_scatter_estimation = recon_algorithm(n_iters=14, n_subsets=1)\n",
    "\n",
    "plot_cross_sections_interactive(recon_with_scatter_estimation.cpu().numpy())"
   ]
  },
  {
   "cell_type": "code",
   "execution_count": null,
   "id": "e9cc07ce",
   "metadata": {},
   "outputs": [
    {
     "data": {
      "image/png": "[encoded data removed]",
      "text/plain": [
       "<Figure size 1300x300 with 1 Axes>"
      ]
     },
     "metadata": {},
     "output_type": "display_data"
    }
   ],
   "source": [
    "# # Pixel values distribution\n",
    "# print(recon_without_scatter_estimation.cpu().numpy().shape)\n",
    "\n",
    "intensity_range = (0,0.03)\n",
    "voxel_values = recon_without_scatter_estimation.cpu().numpy().flatten()\n",
    "\n",
    "plt.figure(figsize=(13, 3))\n",
    "plt.hist(voxel_values, bins=200, color='blue', alpha=0.7, range=intensity_range)\n",
    "plt.xlabel('Voxel Intensity')\n",
    "plt.ylabel('Count')\n",
    "plt.title(f'Distribution of Voxel Intensities (Bounded {intensity_range})')\n",
    "plt.grid(True)\n",
    "plt.xlim(intensity_range)\n",
    "plt.show()\n"
   ]
  },
  {
   "cell_type": "code",
   "execution_count": null,
   "id": "9c2fe3f7",
   "metadata": {},
   "outputs": [
    {
     "data": {
      "application/vnd.plotly.v1+json": {
       "config": {
        "plotlyServerURL": "https://plot.ly"
       },
       "data": [
        {
         "colorbar": {
          "len": 0.8,
          "title": {
           "text": "Counts"
          },
          "x": 0.42
         },
         "hovertemplate": "<b>Azimuthal Angle: %{x:.1f}°</b><br><b>Radial Distance: %{y:.1f} mm</b><br><b>Count: %{z:.3f}</b><extra></extra>",
         "showscale": true,
         "type": "heatmap",
         "x": {
          "bdata": "AAAAABC3gD8QtwBAmRJBQBC3gEDU5KBAmRLBQFxA4UAQtwBB8s0QQdTkIEG2+zBBmRJBQXspUUFcQGFBPldxQRC3gEGBwohB8s2QQWPZmEHU5KBBRfCoQbb7sEEnB7lBmRLBQQkeyUF7KdFB7DTZQVxA4UHMS+lBPlfxQa5i+UEQtwBCybwEQoHCCEI6yAxC8s0QQqvTFEJj2RhCHN8cQtTkIEKM6iRCRfAoQv71LEK2+zBCbwE1QicHOULgDD1CmRJBQlAYRUIJHklCwiNNQnspUUIzL1VC7DRZQqM6XUJcQGFCFUZlQsxLaUKFUW1CPldxQvdcdUKuYnlCZ2h9QhC3gELtuYJCybyEQqS/hkKBwohCXcWKQjrIjEIWy45C8s2QQs/QkkKr05RChtaWQmPZmEI/3JpCHN+cQvjhnkLU5KBCsOeiQozqpEJp7aZCRfCoQiLzqkL+9axC2/iuQrb7sEKS/rJCbgG1QkoEt0IlB7lCAgq7Qt4MvUK7D79ClxLBQnQVw0JQGMVCLRvHQgkeyULkIMtCwSPNQp0mz0J6KdFCVSzTQjEv1UIOMtdC6jTZQsY320KiOt1Cfz3fQltA4UI4Q+NCFEblQu9I50LMS+lCqk7rQoNR7UJhVO9CPlfxQhpa80L1XPVC01/3Qq5i+UKKZftCZ2j9QkJr/0IPtwBDfrgBQ+u5AkNauwNDyLwEQze+BUOkvwZDE8EHQ4HCCEPvwwlDXcUKQ8vGC0M5yAxDp8kNQxbLDkODzA9D8c0QQ2DPEUPN0BJDPNITQ6rTFEMZ1RVDhtYWQ/TXF0Nj2RhD0doZQz/cGkOt3RtDG98cQ4rgHUP44R5DZeMfQ9TkIENC5iFDsOciQx/pI0OM6iRD+uslQ2ntJkPW7idDRfAoQ7PxKUMi8ypDj/QrQ/31LENs9y1D2fguQ0f6L0O2+zBDJP0xQ5L+MkMAADRD",
          "dtype": "f4"
         },
         "xaxis": "x",
         "y": {
          "bdata": "aMGYw6mKlsPrU5TDLB2Sw23mj8Our43D8HiLwzFCicNyC4fDtNSEw/WdgsM2Z4DD72B8w3Hzd8P0hXPDdhhvw/mqasN8PWbD/s9hw4BiXcMD9VjDhodUwwgaUMOLrEvDDj9Hw5DRQsMSZD7DlfY5wxiJNcOaGzHDHa4sw59AKMMi0yPDpWUfwyf4GsOqihbDLB0Sw6+vDcMxQgnDtNQEwzZnAMNy8/fCeBjvwnw95sKCYt3ChofUwoysy8KQ0cLClva5wpwbscKgQKjCpmWfwqqKlsKwr43CtNSEwnTzd8KAPWbCiIdUwpDRQsKgGzHCqGUfwrCvDcJw8/fBkIfUwaAbscGwr43BoIdUwcCvDcHAr43AAAAAAMCvjUDArw1BoIdUQbCvjUGgG7FBkIfUQXDz90Gwrw1CqGUfQqAbMUKQ0UJCiIdUQoA9ZkJ083dCtNSEQrCvjUKqipZCpmWfQqBAqEKcG7FClva5QpDRwkKMrMtChofUQoJi3UJ8PeZCeBjvQnLz90I2ZwBDtNQEQzFCCUOvrw1DLB0SQ6qKFkMn+BpDpWUfQyLTI0OfQChDHa4sQ5obMUMYiTVDlfY5QxJkPkOQ0UJDDj9HQ4usS0MIGlBDhodUQwP1WEOAYl1D/s9hQ3w9ZkP5qmpDdhhvQ/SFc0Nx83dD72B8QzZngEP1nYJDtNSEQ3ILh0MxQolD8HiLQ66vjUNt5o9DLB2SQ+tTlEOpipZDaMGYQw==",
          "dtype": "f4"
         },
         "yaxis": "y",
         "z": {
          "bdata": "AAAAAAAAAAAAAAAAAAAAAAAAAAAAAAAAAAAAAAAAAAAAAAAAAAAAAAAAAAAAAAAAAAAAAAAAAAAAAAAAAAAAAAAAAAAAAAAAAAAAAAAAAAAAAAAAAAAAAAAAAAAAAAAAAAAAAAAAAAAAAAAAAAAAAAAAAAAAAAAAAAAAAAAAAAAAAAAAAAAAAAAAAAAAAAAAAAAAAAAAAAAAAAAAAAAAAAAAAAAAAAAAAAAAAAAAAAAAAAAAAAAAAAAAAAAAAAAAAAAAAAAAAAAAAAAAAAAAAAAAAAAAAAAAAAAAAAAAAAAAAAAAAAAAAAAAAAAAAAAAAAAAAAAAAAAAAAAAAAAAAAAAAAAAAAAAAAAAAAAAAAAAAAAAAAAAAAAAAAAAAAAAAAAAAAAAAAAAAAAAAAAAAAAAAAAAAAAAAAAAAAAAAAAAAAAAAAAAAAAAAAAAAAAAAAAAAAAAAAAAAAAAAAAAAAAAAAAAAAAAAAAAAAAAAAAAAAAAAAAAAAAAAAAAAAAAAAAAAAAAAAAAAAAAAAAAAAAAAAAAAAAAAAAAAAAAAAAAAAAAAAAAAAAAAAAAAAAAAAAAAAAAAAAAAAAAAAAAAAAAAAAAAAAAAAAAAAAAAAAAAAAAAAAAAAAAAAAAAAAAAAAAAAAAAAAAAAAAAAAAAAAAAAAAAAAAAAAAAAAAAAAAAAAAAAAAAAAAAAAAAAAAAAAAAAAAAAAAAAAAAAAAAAAAAAAAAAAAAAAAAAAAAAAAAAAAAAAAAAAAAAAAAAAAAAAAAAAAAAAAAAAAAAAAAAAAAAAAAAAAAAAAAAAAAAAAAAAAAAAAAAAAAAAAAAAAAAAAAAAAAAAAAAAAAAAAAAAAAAAAAAAAAAAAAAAAAAAAAAAAAAAAAAAAAAAAAAAAAAAAAAAAAAAAAAAAAAAAAAAAAAAAAAAAAAAAAAAAAAAAAAAAAAAAAAAAAAAAAAAAAAAAAAAAAAAAAAAAAAAAAAAAAAAAAAAAAAAAAAAAAAAAAAAAAAAAAAAAAAAAAAAAAAAAAAAAAAAAAAAAAAAAAAAAAAAAAAAAAAAAAAAAAAAAAAAAAAAAAAAAAAAAAAAAAAAAAAAAAAAAAAAAAAAAAAAAAAAAAAAAAAAAAAAAAAAAAAAAAAAAAAAAAAAAAAAAAAAAAAAAAAAAAAAAAAAAAAAAAAAAAAAAAAAAAAAAAAAAAAAAAAAAAAAAAAAAAAAAAAAAAAAAAAAAAAAAAAAAAAAAAAAAAAAAAAAAAAAAAAAAAAAAAAAAAAAAAAAAAAAAAAAAAAAAAAAAAAAAAAAAAAAAAAAAAAAAAAAAAAAAAAAAAAAAAAAAAAAAAAAAAAAAAAAAAAAAAAAAAAAAAAAAAAAAAAAAAAAAAAAAAAAAAAAAAAAAAAAAAAAAAAAAAAAAAAAAAAAAAAAAAAAAAAAAAAAAAAAAAAAAAAAAAAAAAAAAAAAAAAAAAAAAAAAAAAAAAAAAAAAAAAAAAAAAAAAAAAAAAAAAAAAAAAAAAAAAAAAAAAAAAAAAAAAAAAAAAAAAAAAAAAAAAAAAAAAAAAAAAAAAAAAAAAAAAAAAAAAAAAAAAAAAAAAAAAAAAAAAAAAAAAAAAAAAAAAAAAAAAAAAAAAAAAAAAAAAAAAAAAAAAAAAAAAAAAAAAAAAAAAAAAAAAAAAAAAAAAAAAAAAAAAAAAAAAAAAAAAAAAAAAAAAAAAAAAAAAAAAAAAAAAAAAAAAAAAAAAAAAAAAAAAAAAAAAAAAAAAAAAAAAAAAAAAAAAAAAAAAAAAAAAAAAAAAAAAAAAAAAAAAAAAAAAAAAAAAAAAAAAAAAAAAAAAAAAAAAAAAAAAAAAAAAAAAAAAAAAAAAAAAAAAAAAAAAAAAAAAAAAAAAAAAAAAAAAAAAAAAAAAAAAAAAAAAAAAAAAAAAAAAAAAAAAAAAAAAAAAAAAAAAAAAAAAAAAAAAAAAAAAAAAAAAAAAAAAAAAAAAAAAAAAAAAAAAAAAAAAAAAAAAAAAAAAAAAAAAAAAAAAAAAAAAAAAAAAAAAAAAAAAAAAAAAAAAAAAAAAAAAAAAAAAAAAAAAAAAAAAAAAAAAAAAAAAAAAAAAAAAAAAAAAAAAAAAAAAAAAAAAAAAAAAAAAAAAAAAAAAAAAAAAAAAAAAAAAAAAAAAAAAAAAAAAAAAAAAAAAAAAAAAAAAAAAAAAAAAAAAAAAAAAAAAAAAAAAAAAAAAAAAAAAAAAAAAAAAAAAAAAAAAAAAAAAAAAAAAAAAAAAAAAAAAAAAAAAAAAAAAAAAAAAAAAAAAAAAAAAAAAAAAAAAAAAAAAAAAAAAAAAAAAAAAAAAAAAAAAAAAAAAAAAAAAAAAAAAAAAAAAAAAAAAAAAAAAAAAAAAAAAAAAAAAAAAAAAAAAAAAAAAAAAAAAAAAAAAAAAAAAAAAAAAAAAAAAAAAAAAAAAAAAAAAAAAAAAAAAAAAAAAAAAAAAAAAAAAAAAAAAAAAAAAAAAAAAAAAAAAAAAAAAAAAAAAAAAAAAAAAAAAAAAAAAAAAAAAAAAAAAAAAAAAAAAAAAAAAAAAAAAAAAAAAAAAAAAAAAAAAAAAAAAAAAAAAAAAAAAAAAAAAAAAAAAAAAAAAAAAAAAAAAAAAAAAAAAAAAAAAAAAAAAAAAAAAAAAAAAAAAAAAAAAAAAAAAAAAAAAAAAAAAAAAAAAAAAAAAAAAAAAAAAAAAAAAAAAAAAAAAAAAAAAAAAAAAAAAAAAAAAAAAAAAAAAAAAAAAAAAAAAAAAAAAAAAAAAAAAAAAAAAAAAAAAAAAAAAAAAAAAAAAAAAAAAAAAAAAAAAAAAAAAAAAAAAAAAAAAAAAAAAAAAAAAAAAAAAAAAAAAAAAAAAAAAAAAAAAAAAAAAAAAAAAAAAAAAAAAAAAAAAAAAAAAAAAAAAAAAAAAAAAAAAAAAAAAAAAAAAAAAAAAAAAAAAAAAAAAAAAAAAAAAAAAAAAAAAAAAAAAAAAAAAAAAAAAAAAAAAAAAAAAAAAAAAAAAAAAAAAAAAAAAAAAAAAAAAAAAAAAAAAAAAAAAAAAAAAAAAAAAAAAAAAAAAAAAAAAAAAAAAAAAAAAAAAAAAAAAAAAAAAAAAAAAAAAAAAAAAAAAAAAAAAAAAAAAAAAAAAAAAAAAAAAAAAAAAAAAAAAAAAAAAAAAAAAAAAAAAAAAAAAAAAAAAAAAAAAAAAAAAAAAAAAAAAAAAAAAAAAAAAAAAAAAAAAAAAAAAAAAAAAAAAAAAAAAAAAAAAAAAAAAAAAAAAAAAAAAAAAAAAAAAAAAAAAAAAAAAAAAAAAAAAAAAAAAAAAAAAAAAAAAAAAAAAAAAAAAAAAAAAAAAAAAAAAAAAAAAAAAAAAAAAAAAAAAAAAAAAAAAAAAAAAAAAAAAAAAAAAAAAAAAAAAAAAAAAAAAAAAAAAAAAAAAAAAAAAAAAAAAAAAAAAAAAAAAAAAAAAAAAAAAAAAAAAAAAAAAAAAAAAAAAAAAAAAAAAAAAAAAAAAAAAAAAAAAAAAAAAAAAAAAAAAAAAAAAAAAAAAAAAAAAAAAAAAAAAAAAAAAAAAAAAAAAAAAAAAAAAAAAAAAAAAAAAAAAAAAAAAAAAAAAAAAAAAAAAAAAAAAAAAAAAAAAAAAAAAAAAAAAAAAAAAAAAAAAAAAAAAAAAAAAAAAAAAAAAAAAAAAAAAAAAAAAAAAAAAAAAAAAAAAAAAAAAAAAAAAAAAAAAAAAAAAAAAAAAAAAAAAAAAAAAAAAAAAAAAAAAAAAAAAAAAAAAAAAAAAAAAAAAAAAAAAAAAAAAAAAAAAAAAAAAAAAAAAAAAAAAAAAAAAAAAAAAAAAAAAAAAAAAAAAAAAAAAAAAAAAAAAAAAAAAAAAAAAAAAAAAAAAAAAAAAAAAAAAAAAAAAAAAAAAAAAAAAAAAAAAAAAAAAAAAAAAAAAAAAAAAAAAAAAAAAAAAAAAAAAAAAAAAAAAAAAAAAAAAAAAAAAAAAAAAAAAAAAAAAAAAAAAAAAAAAAAAAAAAAAAAAAAAAAAAAAAAAAAAAAAAAAAAAAAAAAAAAAAAAAAAAAAAAAAAAAAAAAAAAAAAAAAAAAAAAAAAAAAAAAAAAAAAAAAAAAAAAAAAAAAAAAAAAAAAAAAAAAAAAAAAAAAAAAAAAAAAAAAAAAAAAAAAAAAAAAAAAAAAAAAAAAAAAAAAAAAAAAAAAAAAAAAAAAAAAAAAAAAAAAAAAAAAAAAAAAAAAAAAAAAAAAAAAAAAAAAAAAAAAAAAAAAAAAAAAAAAAAAAAAAAAAAAAAAAAAAAAAAAAAAAAAAAAAAAAAAAAAAAAAAAAAAAAAAAAAAAAAAAAAAAAAAAAAAAAAAAAAAAAAAAAAAAAAAAAAAAAAAAAAAAAAAAAAAAAAAAAAAAAAAAAAAAAAAAAAAAAAAAAAAAAAAAAAAAAAAAAAAAAAAAAAAAAAAAAAAAAAAAAAAAAAAAAAAAAAAAAAAAAAAAAAAAAAAAAAAAAAAAAAAAAAAAAAAAAAAAAAAAAAAAAAAAAAAAAAAAAAAAAAAAAAAAAAAAAAAAAAAAAAAAAAAAAAAAAAAAAAAAAAAAAAAAAAAAAAAAAAAAAAAAAAAAAAAAAAAAAAAAAAAAAAAAAAAAAAAAAAAAAAAAAAAAAAAAAAAAAAAAAAAAAAAAAAAAAAAAAAAAAAAAAAAAAAAAAAAAAAAAAAAAAAAAAAAAAAAAAAAAAAAAAAAAAAAAAAAAAAAAAAAAAAAAAAAAAAAAAAAAAAAAAAAAAAAAAAAAAAAAAAAAAAAAAAAAAAAAAAAAAAAAAAAAAAAAAAAAAAAAAAAAAAAAAAAAAAAAAAAAAAAAAAAAAAAAAAAAAAAAAAAAAAAAAAAAAAAAAAAAAAAAAAAAAAAAAAAAAAAAAAAAAAAAAAAAAAAAAAAAAAAAAAAAAAAAAAAAAAAAAAAAAAAAAAAAAAAAAAAAAAAAAAAAAAAAAAAAAAAAAAAAAAAAAAAAAAAAAAAAAAAAAAAAAAAAAAAAAAAAAAAAAAAAAAAAAAAAAAAAAAAAAAAAAAAAAAAAAAAAAAAAAAAAAAAAAAAAAAAAAAAAAAAAAAAAAAAAAAAAAAAAAAAAAAAAAAAAAAAAAAAAAAAAAAAAAAAAAAAAAAAAAAAAAAAAAAAAAAAAAAAAAAAAAAAAAAAAAAAAAAAAAAAAAAAAAAAAAAAAAAAAAAAAAAAAAAAAAAAAAAAAAAAAAAAAAAAAAAAAAAAAAAAAAAAAAAAAAAAAAAAAAAAAAAAAAAAAAAAAAAAAAAAAAAAAAAAAAAAAAAAAAAAAAAAAAAAAAAAAAAAAAAAAAAAAAAAAAAAAAAAAAAAAAAAAAAAAAAAAAAAAAAAAAAAAAAAAAAAAAAAAAAAAAAAAAAAAAAAAAAAAAAAAAAAAAAAAAAAAAAAAAAAAAAAAAAAAAAAAAAAAAAAAAAAAAAAAAAAAAAAAAAAAAAAAAAAAAAAAAAAAAAAAAAAAAAAAAAAAAAAAAAAAAAAAAAAAAAAAAAAAAAAAAAAAAAAAAAAAAAAAAAAAAAAAAAAAAAAAAAAAAAAAAAAAAAAAAAAAAAAAAAAAAAAAAAAAAAAAAAAAAAAAAAAAAAAAAAAAAAAAAAAAAAAAAAAAAAAAAAAAAAAAAAAAAAAAAAAAAAAAAAAAAAAAAAAAAAAAAAAAAAAAAAAAAAAAAAAAAAAAAAAAAAAAAAAAAAAAAAAAAAAAAAAAAAAAAAAAAAAAAAAAAAAAAAAAAAAAAAAAAAAAAAAAAAAAAAAAAAACAPwAAAAAAAAAAAAAAAAAAAAAAAAAAAAAAAAAAAAAAAAAAAAAAAAAAAAAAAAAAAAAAAAAAAAAAAAAAAAAAAAAAAAAAAIA/AAAAAAAAAAAAAAAAAAAAAAAAAAAAAAAAAAAAAAAAAAAAAAAAAAAAAAAAAAAAAAAAAAAAAAAAAAAAAAAAAAAAAAAAAAAAAAAAAAAAAAAAAAAAAAAAAAAAAAAAAAAAAAAAAAAAAAAAAAAAAAAAAAAAAAAAAAAAAAAAAAAAAAAAAAAAAAAAAAAAAAAAAAAAAAAAAAAAAAAAAAAAAAAAAAAAAAAAAAAAAAAAAAAAAAAAAAAAAAAAAAAAAAAAAAAAAAAAAAAAAAAAAAAAAAAAAACAPwAAAAAAAAAAAAAAAAAAAAAAAAAAAAAAAAAAAAAAAAAAAAAAAAAAgD8AAAAAAAAAAAAAAAAAAAAAAAAAAAAAAAAAAIA/AAAAAAAAgD8AAAAAAAAAAAAAAAAAAAAAAAAAAAAAAAAAAAAAAAAAAAAAAAAAAAAAAAAAAAAAAAAAAAAAAAAAAAAAgD8AAAAAAAAAAAAAAAAAAAAAAAAAAAAAAAAAAAAAAAAAAAAAAAAAAAAAAAAAAAAAAAAAAAAAAAAAAAAAAAAAAAAAAACAPwAAAAAAAAAAAAAAAAAAAAAAAAAAAAAAAAAAAAAAAAAAAAAAAAAAAAAAAAAAAAAAAAAAAAAAAAAAAAAAAAAAgD8AAAAAAAAAAAAAAAAAAIA/AAAAAAAAAAAAAAAAAAAAAAAAAAAAAAAAAAAAAAAAAAAAAAAAAAAAAAAAAAAAAIA/AAAAAAAAAAAAAAAAAAAAAAAAgD8AAAAAAAAAAAAAAAAAAAAAAAAAAAAAAAAAAAAAAAAAAAAAAAAAAAAAAAAAAAAAAAAAAAAAAAAAAAAAAAAAAAAAAAAAAAAAAAAAAAAAAAAAAAAAgD8AAIA/AACAPwAAgD8AAAAAAACAPwAAAAAAAAAAAACAPwAAAEAAAIA/AAAAAAAAAAAAAAAAAAAAQAAAAAAAAAAAAACAPwAAgD8AAEBAAAAAAAAAAAAAAABAAABAQAAAgD8AAAAAAACAPwAAAAAAAIA/AAAAAAAAAAAAAAAAAAAAAAAAgD8AAIA/AACAPwAAgD8AAAAAAACAPwAAgD8AAAAAAAAAQAAAAAAAAAAAAAAAAAAAgD8AAAAAAAAAQAAAgD8AAABAAAAAAAAAgD8AAABAAAAAQAAAAAAAAABAAAAAAAAAgD8AAAAAAACAPwAAAAAAAIA/AACAPwAAAEAAAAAAAACAPwAAAAAAAAAAAAAAQAAAgD8AAABAAACAPwAAAEAAAAAAAACAPwAAAAAAAAAAAAAAQAAAAEAAAAAAAAAAAAAAAAAAAAAAAACAPwAAAAAAAAAAAACAPwAAAAAAAAAAAAAAAAAAgD8AAABAAABAQAAAAAAAAAAAAAAAAAAAgD8AAIA/AAAAAAAAgD8AAIA/AACAPwAAgD8AAIA/AACAPwAAQEAAAABAAACAPwAAQEAAAIA/AAAAAAAAgD8AAIBAAACAPwAAgD8AAAAAAAAAAAAAAAAAAEBAAAAAAAAAAEAAAIA/AACAPwAAAAAAAEBAAACAPwAAAAAAAAAAAABAQAAAAAAAAABAAAAAQAAAgD8AAIA/AAAAQAAAAAAAAAAAAAAAAAAAAAAAAEBAAAAAQAAAQEAAAABAAAAAAAAAgD8AAAAAAAAAAAAAAEAAAABAAAAAQAAAgD8AAIA/AACAPwAAgD8AAABAAABAQAAAAAAAAABAAAAAAAAAQEAAAAAAAACAPwAAAEAAAEBAAACAPwAAgD8AAAAAAAAAAAAAgD8AAEBAAACAPwAAAAAAAEBAAAAAAAAAgD8AAAAAAAAAAAAAgD8AAAAAAABAQAAAAEAAAIA/AAAAAAAAgEAAAABAAAAAQAAAgD8AAIA/AAAAQAAAAEAAAIA/AAAAAAAAAEAAAABAAACAPwAAAEAAAABAAACAPwAAAAAAAEBAAACAPwAAgD8AAIA/AAAAQAAAAAAAAIA/AAAAAAAAAAAAAABAAAAAQAAAAAAAAIA/AACAPwAAAAAAAIBAAAAAAAAAAEAAAIA/AAAAQAAAAAAAAABAAABAQAAAgD8AAABAAABAQAAAgD8AAAAAAAAAAAAAQEAAAIA/AAAAAAAAgD8AAIA/AACAPwAAAAAAAIA/AAAAQAAAQEAAAEBAAAAAQAAAAEAAAAAAAABAQAAAAAAAAAAAAAAAQAAAgD8AAABAAACAPwAAQEAAAEBAAAAAAAAAgD8AAIA/AAAAAAAAAEAAAAAAAABAQAAAAAAAAIA/AAAAAAAAAEAAAABAAACAPwAAAEAAAABAAAAAAAAAAAAAAABAAACAPwAAQEAAAEBAAACAPwAAgEAAAAAAAAAAAAAAgD8AAIA/AAAAQAAAgD8AAABAAAAAQAAAgD8AAAAAAABAQAAAQEAAAIA/AACAPwAAAEAAAABAAAAAQAAAgD8AAIA/AACAPwAAAAAAAEBAAAAAQAAAAEAAAIA/AABAQAAAAEAAAIA/AACAPwAAAAAAAAAAAACAPwAAgD8AAEBAAACAPwAAAEAAAEBAAACAPwAAQEAAAAAAAAAAAAAAAAAAAEBAAAAAAAAAgD8AAIA/AAAAAAAAAAAAAABAAAAAAAAAgD8AAIA/AABAQAAAgD8AAAAAAACAPwAAQEAAAIA/AACAPwAAAAAAAIA/AACAPwAAAAAAAAAAAAAAQAAAAEAAAIA/AAAAQAAAAAAAAAAAAACAPwAAQEAAAABAAABAQAAAgD8AAIA/AAAAAAAAgEAAAABAAACAPwAAgD8AAEBAAACAPwAAgEAAAIA/AAAAQAAAAAAAAIA/AACAPwAAAAAAAAAAAACAPwAAgD8AAAAAAAAAAAAAgD8AAIA/AACAPwAAgEAAAIA/AAAAQAAAAAAAAAAAAACAPwAAAEAAAIA/AAAAAAAAAEAAAIA/AABAQAAAAEAAAIA/AABAQAAAgD8AAAAAAACAPwAAAEAAAAAAAACAPwAAAEAAAAAAAAAAQAAAAAAAAIA/AABAQAAAgD8AAAAAAACAPwAAAAAAAABAAACAPwAAgD8AAABAAAAAAAAAAAAAAEBAAABAQAAAAAAAAAAAAACAPwAAAAAAAAAAAACAPwAAAAAAAAAAAACAPwAAAAAAAAAAAAAAAAAAAAAAAAAAAAAAAAAAgD8AAAAAAABAQAAAAAAAAABAAACAPwAAAAAAAABAAACAPwAAAAAAAABAAAAAQAAAQEAAAABAAAAAAAAAAEAAAIA/AACAPwAAAAAAAIA/AAAAQAAAAAAAAAAAAACAPwAAgD8AAIA/AACAPwAAgD8AAAAAAABAQAAAgD8AAAAAAABAQAAAQEAAAIA/AACAPwAAAAAAAIA/AACAPwAAgD8AAEBAAAAAAAAAgD8AAIA/AAAAQAAAAEAAAAAAAAAAQAAAAEAAAIA/AACAPwAAAEAAAABAAAAAAAAAAEAAAIA/AAAAAAAAgD8AAAAAAAAAQAAAAAAAAAAAAACAPwAAAAAAAAAAAAAAAAAAAEAAAABAAAAAAAAAAAAAAAAAAAAAAAAAAAAAAAAAAAAAAAAAgD8AAIA/AAAAAAAAAAAAAIA/AACAPwAAgD8AAABAAAAAQAAAgD8AAIA/AAAAAAAAAEAAAIA/AACAPwAAgD8AAAAAAACAPwAAAAAAAABAAAAAQAAAAEAAAAAAAAAAQAAAAAAAAEBAAAAAQAAAAEAAAABAAACAPwAAAAAAAIA/AACAPwAAgD8AAABAAAAAAAAAAEAAAAAAAACAPwAAgD8AAIA/AAAAQAAAAAAAAAAAAACAPwAAAAAAAAAAAAAAAAAAAAAAAAAAAAAAAAAAgD8AAAAAAACAPwAAgD8AAAAAAAAAAAAAgD8AAIA/AAAAAAAAAEAAAAAAAAAAAAAAgD8AAABAAAAAQAAAgD8AAAAAAAAAQAAAAAAAAIA/AAAAAAAAgD8AAIA/AAAAAAAAAAAAAAAAAACAPwAAgD8AAEBAAAAAQAAAgD8AAABAAACAPwAAAAAAAAAAAAAAAAAAgD8AAAAAAAAAAAAAAAAAAIA/AACAPwAAAAAAAAAAAAAAAAAAAAAAAIA/AAAAAAAAAEAAAIA/AAAAAAAAgD8AAAAAAAAAAAAAgD8AAIA/AAAAQAAAAAAAAEBAAACAPwAAAEAAAIA/AAAAAAAAAAAAAAAAAACAPwAAAAAAAAAAAACAPwAAAEAAAIA/AACAPwAAAAAAAIA/AAAAQAAAgD8AAAAAAAAAQAAAAEAAAEBAAAAAAAAAgD8AAAAAAAAAAAAAAAAAAAAAAAAAAAAAAAAAAIA/AACAPwAAAEAAAIA/AAAAQAAAgD8AAAAAAABAQAAAAAAAAAAAAAAAAAAAAAAAAAAAAAAAAAAAAEAAAAAAAAAAQAAAAAAAAIA/AAAAAAAAAAAAAIA/AAAAQAAAAEAAAABAAAAAAAAAgD8AAAAAAAAAQAAAAAAAAAAAAAAAAAAAAAAAAAAAAACAPwAAgD8AAIA/AACAPwAAgD8AAEBAAAAAQAAAgD8AAAAAAACAPwAAgD8AAAAAAAAAAAAAgD8AAAAAAAAAQAAAgD8AAAAAAACAPwAAAAAAAABAAAAAAAAAgEAAAABAAACAPwAAQEAAAAAAAAAAAAAAAAAAAIA/AAAAAAAAgD8AAAAAAACAPwAAAAAAAABAAACAPwAAAAAAAABAAAAAAAAAgD8AAABAAAAAAAAAQEAAAAAAAACAPwAAAEAAAAAAAAAAQAAAAAAAAAAAAAAAAAAAgD8AAAAAAACAPwAAgD8AAAAAAAAAAAAAAAAAAAAAAAAAAAAAgD8AAIA/AAAAAAAAAAAAAABAAACAPwAAAAAAAAAAAAAAAAAAgD8AAAAAAACAPwAAAEAAAAAAAAAAAAAAAAAAAABAAACAPwAAgD8AAAAAAACAPwAAgD8AAIA/AAAAAAAAAEAAAAAAAACAPwAAAEAAAIA/AACAPwAAQEAAAIA/AAAAQAAAgD8AAIA/AAAAAAAAgD8AAAAAAACAPwAAAAAAAIA/AAAAAAAAAAAAAIA/AAAAAAAAgD8AAAAAAAAAQAAAAAAAAAAAAAAAAAAAAAAAAABAAAAAAAAAgD8AAAAAAACAPwAAgD8AAEBAAABAQAAAAAAAAEBAAAAAAAAAgD8AAIA/AAAAAAAAAAAAAIA/AAAAAAAAAAAAAAAAAAAAAAAAgD8AAAAAAAAAQAAAgD8AAAAAAAAAAAAAAEAAAIA/AACAPwAAAAAAAAAAAAAAAAAAAAAAAIA/AAAAAAAAgD8AAAAAAAAAQAAAAAAAAAAAAACAQAAAAEAAAAAAAACAPwAAAAAAAAAAAAAAAAAAAAAAAAAAAAAAAAAAgD8AAIA/AAAAAAAAAAAAAIA/AAAAAAAAAEAAAAAAAAAAQAAAgD8AAAAAAAAAAAAAAAAAAAAAAAAAQAAAAEAAAAAAAACAPwAAgD8AAAAAAAAAAAAAgD8AAABAAAAAAAAAAEAAAEBAAAAAQAAAAEAAAIA/AAAAQAAAAAAAAIA/AAAAAAAAgD8AAAAAAAAAAAAAAEAAAABAAACAPwAAQEAAAIA/AAAAAAAAgD8AAAAAAAAAAAAAgD8AAAAAAAAAAAAAAAAAAAAAAACAPwAAgD8AAIA/AACAPwAAAAAAAAAAAAAAAAAAQEAAAAAAAAAAAAAAAAAAAAAAAAAAAAAAAEAAAAAAAAAAAAAAgD8AAAAAAAAAAAAAgD8AAAAAAACAPwAAgD8AAAAAAAAAAAAAgD8AAABAAAAAAAAAgD8AAAAAAACAPwAAgD8AAIA/AAAAAAAAAAAAAABAAACAPwAAAEAAAAAAAAAAAAAAAAAAAIA/AACAPwAAgD8AAAAAAACAPwAAAAAAAIA/AAAAQAAAAAAAAABAAAAAAAAAAAAAAAAAAAAAAAAAAAAAAIA/AAAAAAAAAEAAAIA/AAAAAAAAAAAAAAAAAACAPwAAAEAAAAAAAAAAAAAAAAAAAIA/AACAPwAAAEAAAAAAAAAAQAAAgD8AAABAAAAAAAAAAAAAAIA/AAAAAAAAAAAAAIA/AAAAAAAAAEAAAAAAAACAPwAAAAAAAABAAAAAQAAAAAAAAAAAAACAPwAAAAAAAAAAAACAPwAAAAAAAAAAAAAAAAAAAAAAAAAAAACAPwAAgD8AAAAAAAAAQAAAAAAAAIA/AAAAAAAAAAAAAIA/AACAPwAAAAAAAIA/AAAAAAAAAAAAAAAAAAAAAAAAAAAAAEBAAAAAAAAAgD8AAIA/AAAAAAAAgD8AAIA/AAAAAAAAgD8AAEBAAACAPwAAAAAAAAAAAAAAQAAAgD8AAAAAAAAAAAAAgD8AAIA/AACAPwAAAAAAAIA/AAAAAAAAgD8AAABAAACAPwAAgD8AAAAAAAAAAAAAAEAAAAAAAAAAAAAAAAAAAIA/AABAQAAAAAAAAAAAAAAAAAAAgD8AAAAAAACAPwAAgD8AAIA/AAAAAAAAgD8AAABAAAAAQAAAAAAAAAAAAAAAQAAAgD8AAIA/AAAAQAAAAAAAAAAAAACAPwAAgD8AAAAAAAAAAAAAAEAAAAAAAAAAQAAAAAAAAAAAAAAAAAAAgD8AAIA/AAAAQAAAAAAAAABAAACAPwAAAAAAAAAAAAAAQAAAgD8AAABAAAAAQAAAgD8AAAAAAAAAAAAAAAAAAAAAAABAQAAAAAAAAEBAAACAQAAAgD8AAAAAAAAAAAAAQEAAAIA/AAAAAAAAAAAAAIA/AACAPwAAgD8AAABAAACAPwAAgD8AAIA/AAAAQAAAgD8AAAAAAACAPwAAAEAAAABAAACAPwAAgD8AAAAAAACAPwAAAAAAAIA/AAAAQAAAAAAAAAAAAAAAAAAAgD8AAIA/AAAAAAAAgD8AAAAAAACAPwAAAAAAAAAAAAAAAAAAAAAAAAAAAACAPwAAAEAAAAAAAAAAQAAAAAAAAAAAAACAPwAAgD8AAIA/AAAAAAAAAEAAAIA/AACAPwAAgD8AAAAAAAAAAAAAgD8AAAAAAAAAQAAAAAAAAAAAAAAAAAAAgD8AAIA/AAAAAAAAAEAAAIA/AAAAAAAAAAAAAAAAAAAAAAAAgD8AAIA/AAAAAAAAgD8AAAAAAAAAQAAAAAAAAAAAAAAAAAAAgD8AAIA/AAAAAAAAAEAAAABAAACAPwAAgD8AAIA/AACAPwAAAEAAAAAAAAAAAAAAAEAAAAAAAACAPwAAAAAAAIA/AAAAAAAAAAAAAAAAAACAPwAAAAAAAABAAACAPwAAAAAAAAAAAAAAQAAAgD8AAIA/AACAPwAAgD8AAAAAAAAAAAAAAAAAAIA/AAAAAAAAgD8AAAAAAACAPwAAAAAAAIA/AACAPwAAAAAAAABAAACAPwAAQEAAAIA/AAAAQAAAAAAAAIA/AACAPwAAQEAAAABAAAAAAAAAAAAAAAAAAAAAAAAAAAAAAIA/AACAPwAAAAAAAAAAAACAPwAAAAAAAAAAAACAPwAAAAAAAIA/AACgQAAAgD8AAAAAAAAAAAAAAAAAAIA/AACAPwAAgD8AAEBAAAAAAAAAQEAAAAAAAACAPwAAAAAAAIA/AAAAAAAAAAAAAAAAAACAPwAAAEAAAAAAAABAQAAAgD8AAAAAAAAAQAAAAEAAAAAAAAAAAAAAgD8AAIBAAACAPwAAAAAAAIA/AACAQAAAgD8AAIA/AACAPwAAAAAAAIA/AAAAAAAAAAAAAAAAAACAPwAAAAAAAEBAAABAQAAAgD8AAAAAAAAAAAAAAEAAAAAAAAAAAAAAgD8AAAAAAACAPwAAAAAAAIA/AAAAAAAAgD8AAIA/AAAAQAAAQEAAAAAAAACAPwAAgD8AAAAAAACAPwAAAAAAAIA/AABAQAAAAAAAAABAAAAAQAAAAEAAAABAAACAPwAAgD8AAIBAAAAAAAAAgD8AAAAAAACAPwAAAEAAAAAAAACAPwAAAAAAAAAAAAAAQAAAgD8AAAAAAACAPwAAgD8AAAAAAAAAAAAAgD8AAIA/AAAAAAAAgD8AAAAAAACAQAAAAAAAAIA/AACAPwAAQEAAAAAAAAAAQAAAgD8AAABAAAAAQAAAAEAAAABAAACAPwAAgD8AAIA/AACAPwAAgD8AAIA/AACAPwAAgD8AAIA/AAAAQAAAgD8AAAAAAAAAAAAAgD8AAIA/AAAAAAAAAEAAAIA/AAAAAAAAAAAAAAAAAAAAQAAAgD8AAAAAAAAAAAAAAAAAAIA/AABAQAAAAAAAAABAAACAPwAAAEAAAAAAAABAQAAAAEAAAIA/AAAAQAAAAAAAAAAAAAAAAAAAgD8AAIA/AAAAAAAAgD8AAIA/AACAPwAAQEAAAIA/AAAAQAAAAAAAAIA/AACAPwAAAAAAAIA/AAAAAAAAQEAAAEBAAAAAQAAAgD8AAIA/AAAAAAAAAEAAAAAAAACAPwAAgD8AAEBAAAAAQAAAAAAAAAAAAABAQAAAAAAAAEBAAAAAQAAAgD8AAAAAAAAAQAAAAAAAAIA/AAAAAAAAgD8AAIA/AAAAAAAAgEAAAIA/AAAAAAAAAAAAAAAAAAAAAAAAAAAAAAAAAACAPwAAAAAAAEBAAAAAAAAAgD8AAIA/AAAAAAAAAAAAAAAAAABAQAAAgEAAAEBAAACAPwAAAAAAAABAAACAPwAAQEAAAIA/AACAPwAAAAAAAABAAAAAQAAAAEAAAIA/AACAQAAAgD8AAIA/AACAPwAAgD8AAABAAACAQAAAgD8AAIA/AAAAAAAAgD8AAAAAAAAAQAAAAEAAAIA/AAAAAAAAgD8AAIA/AACAPwAAgD8AAIA/AAAAQAAAgD8AAABAAACAPwAAAEAAAAAAAAAAAAAAgD8AAIA/AACAPwAAQEAAAAAAAACAPwAAAAAAAIA/AACAPwAAgD8AAAAAAAAAAAAAQEAAAIA/AAAAAAAAAAAAAABAAAAAAAAAgD8AAIA/AACAPwAAgD8AAAAAAAAAQAAAAAAAAAAAAACAPwAAAEAAAAAAAACAPwAAAEAAAIA/AAAAQAAAgD8AAAAAAAAAAAAAAEAAAAAAAACAPwAAAEAAAIA/AACAPwAAgD8AAIA/AAAAAAAAgD8AAIA/AACAPwAAAEAAAIA/AAAAQAAAgD8AAAAAAAAAAAAAgD8AAAAAAAAAAAAAgD8AAIA/AACAPwAAAAAAAAAAAACAPwAAgD8AAIA/AAAAAAAAAAAAAABAAACAPwAAAAAAAEBAAABAQAAAAEAAAEBAAACAPwAAgD8AAABAAACAPwAAAAAAAAAAAACAPwAAAEAAAAAAAABAQAAAAAAAAAAAAAAAAAAAAEAAAIA/AAAAQAAAAEAAAABAAACAPwAAgD8AAABAAAAAAAAAgD8AAAAAAACAPwAAAAAAAIA/AAAAAAAAQEAAAIA/AAAAQAAAAAAAAAAAAACAPwAAgD8AAAAAAABAQAAAQEAAAAAAAAAAAAAAgD8AAABAAACAPwAAAAAAAABAAAAAQAAAAAAAAABAAAAAQAAAAAAAAAAAAAAAAAAAQEAAAIA/AACAPwAAAAAAAAAAAAAAQAAAAAAAAAAAAAAAAAAAQEAAAIA/AAAAQAAAAAAAAIA/AACAPwAAgD8AAIA/AACAPwAAgD8AAAAAAACAPwAAAEAAAIA/AAAAAAAAAEAAAAAAAAAAAAAAAAAAAABAAAAAAAAAgD8AAAAAAACAPwAAAAAAAABAAABAQAAAAAAAAIA/AACAPwAAAAAAAIA/AACAPwAAAAAAAAAAAABAQAAAgD8AAAAAAAAAAAAAAAAAAIA/AABAQAAAAAAAAIA/AAAAAAAAQEAAAIA/AAAAQAAAQEAAAAAAAAAAAAAAAEAAAIA/AAAAAAAAgEAAAAAAAABAQAAAAAAAAIA/AAAAAAAAAAAAAIA/AAAAAAAAgD8AAIA/AACAPwAAgD8AAEBAAAAAAAAAAEAAAEBAAAAAQAAAgD8AAIA/AAAAAAAAAAAAAAAAAAAAAAAAAAAAAABAAAAAAAAAQEAAAAAAAAAAQAAAgD8AAABAAACAPwAAgD8AAAAAAAAAQAAAAAAAAIA/AAAAQAAAgD8AAIA/AACAQAAAAAAAAIA/AAAAAAAAgD8AAAAAAACAPwAAAAAAAIA/AAAAQAAAAAAAAABAAAAAAAAAAEAAAAAAAABAQAAAAAAAAIA/AAAAQAAAAAAAAIA/AACAPwAAAEAAAABAAAAAQAAAgD8AAAAAAAAAAAAAgD8AAABAAAAAQAAAgD8AAEBAAACAPwAAgD8AAIA/AACAPwAAAAAAAEBAAACAPwAAAAAAAIA/AACAPwAAAAAAAAAAAABAQAAAgD8AAIA/AAAAQAAAQEAAAIA/AACAPwAAgEAAAIA/AACAPwAAgD8AAIA/AAAAAAAAAAAAAAAAAAAAQAAAAAAAAIA/AACAPwAAAAAAAIA/AACAPwAAgD8AAIA/AABAQAAAQEAAAIA/AAAAAAAAAEAAAAAAAAAAAAAAQEAAAAAAAAAAQAAAgD8AAEBAAAAAAAAAgD8AAIA/AAAAQAAAgD8AAAAAAACAPwAAAEAAAAAAAACAPwAAAEAAAAAAAACAPwAAgD8AAIA/AAAAAAAAgD8AAIA/AACAPwAAAAAAAIA/AAAAQAAAgD8AAABAAAAAQAAAAAAAAAAAAACAPwAAgD8AAIA/AAAAAAAAAAAAAIA/AAAAAAAAAAAAAABAAAAAAAAAgD8AAAAAAABAQAAAgD8AAAAAAAAAQAAAAAAAAAAAAAAAQAAAAAAAAABAAAAAAAAAAAAAAAAAAAAAAAAAAAAAAEBAAACAPwAAAAAAAIA/AACAPwAAAEAAAIA/AAAAAAAAAAAAAIA/AAAAAAAAAAAAAAAAAACAPwAAAAAAAIA/AAAAQAAAgD8AAIA/AACAPwAAAAAAAAAAAAAAAAAAgD8AAIA/AAAAQAAAgEAAAAAAAACAPwAAAAAAAIA/AACAPwAAAAAAAAAAAAAAAAAAAEAAAIA/AACAPwAAAAAAAIA/AACAPwAAAAAAAAAAAACAPwAAAAAAAIA/AAAAAAAAAAAAAIA/AAAAAAAAAAAAAAAAAACAPwAAgD8AAIA/AAAAAAAAAAAAAIA/AAAAAAAAAAAAAABAAAAAQAAAAAAAAEBAAAAAAAAAAEAAAIA/AABAQAAAgD8AAAAAAAAAAAAAgD8AAAAAAAAAAAAAAEAAAIA/AAAAAAAAAAAAAAAAAAAAAAAAAAAAAAAAAAAAQAAAgD8AAIA/AAAAQAAAAAAAAIA/AAAAAAAAAAAAAABAAAAAAAAAgD8AAAAAAACAPwAAgD8AAAAAAAAAAAAAAAAAAAAAAAAAQAAAAAAAAEBAAACAPwAAgD8AAIA/AACAPwAAAAAAAAAAAACAPwAAgD8AAAAAAACAPwAAAAAAAAAAAACAPwAAgD8AAAAAAACAPwAAgD8AAAAAAAAAAAAAgD8AAIA/AABAQAAAgD8AAAAAAACAPwAAgD8AAIA/AAAAAAAAAAAAAABAAAAAAAAAgD8AAAAAAACAPwAAAAAAAIA/AAAAAAAAgD8AAAAAAACAPwAAgD8AAAAAAAAAAAAAAAAAAAAAAACAPwAAAAAAAAAAAAAAAAAAAAAAAIA/AAAAAAAAgD8AAAAAAAAAAAAAgD8AAIA/AAAAAAAAQEAAAIA/AAAAAAAAAAAAAIA/AAAAAAAAAAAAAAAAAACAPwAAQEAAAABAAAAAAAAAAAAAAAAAAAAAAAAAgD8AAAAAAAAAAAAAAAAAAAAAAAAAAAAAAAAAAIA/AAAAAAAAgD8AAIA/AAAAAAAAAAAAAAAAAACAPwAAQEAAAIA/AAAAAAAAgD8AAAAAAAAAAAAAgD8AAAAAAACAPwAAAAAAAAAAAAAAQAAAAAAAAABAAACAPwAAAAAAAAAAAAAAAAAAgD8AAIA/AACAPwAAAAAAAABAAAAAQAAAgD8AAAAAAACAPwAAgD8AAIA/AAAAAAAAAAAAAIA/AAAAAAAAAEAAAIA/AACAPwAAAAAAAIA/AAAAAAAAAAAAAIA/AAAAQAAAAAAAAAAAAAAAAAAAAAAAAAAAAACAPwAAAAAAAIA/AAAAAAAAAEAAAAAAAACAPwAAAAAAAIA/AAAAAAAAgD8AAAAAAAAAQAAAgD8AAAAAAAAAAAAAgD8AAAAAAAAAAAAAgD8AAIA/AAAAAAAAAAAAAAAAAACAQAAAAAAAAIA/AAAAAAAAgD8AAIA/AAAAQAAAAAAAAAAAAACAPwAAgD8AAIA/AACAPwAAAAAAAIA/AAAAAAAAAAAAAAAAAAAAAAAAAAAAAAAAAAAAAAAAgD8AAAAAAACAPwAAAAAAAABAAAAAAAAAAAAAAIA/AACAPwAAAAAAAAAAAAAAQAAAAAAAAAAAAAAAAAAAQEAAAAAAAAAAAAAAAAAAAAAAAACAPwAAAAAAAIA/AAAAAAAAgD8AAAAAAAAAAAAAgD8AAAAAAAAAAAAAAAAAAIA/AAAAAAAAAEAAAIA/AACAPwAAAAAAAABAAAAAAAAAAAAAAAAAAACAPwAAAAAAAAAAAACAPwAAAAAAAEBAAACAPwAAAAAAAABAAAAAAAAAAAAAAAAAAACAPwAAAAAAAABAAACAPwAAAAAAAIA/AACAPwAAAAAAAAAAAAAAQAAAgD8AAAAAAACAPwAAgD8AAAAAAAAAAAAAAAAAAAAAAAAAAAAAgD8AAAAAAAAAAAAAAAAAAAAAAAAAAAAAAAAAAIA/AAAAAAAAAAAAAEBAAAAAAAAAAAAAAIA/AAAAAAAAgD8AAAAAAAAAAAAAgD8AAAAAAAAAAAAAgD8AAAAAAAAAQAAAAAAAAIA/AAAAAAAAAAAAAIA/AAAAAAAAgD8AAAAAAAAAAAAAgD8AAIA/AAAAQAAAAAAAAABAAAAAAAAAgD8AAAAAAAAAAAAAAAAAAAAAAAAAQAAAAAAAAAAAAAAAAAAAAAAAAIA/AAAAAAAAAAAAAAAAAAAAAAAAgD8AAIA/AACAPwAAAAAAAAAAAAAAQAAAAAAAAIA/AAAAQAAAAAAAAIA/AACAPwAAAAAAAAAAAACAPwAAAAAAAAAAAAAAAAAAAEAAAAAAAAAAQAAAgD8AAAAAAABAQAAAAAAAAAAAAAAAAAAAgD8AAAAAAACAPwAAAAAAAAAAAAAAAAAAgD8AAAAAAAAAAAAAAAAAAABAAAAAAAAAAEAAAAAAAAAAAAAAAAAAAAAAAACAPwAAgEAAAAAAAAAAAAAAAAAAAAAAAACAPwAAgD8AAAAAAAAAAAAAAAAAAAAAAAAAAAAAAAAAAAAAAACAPwAAAAAAAAAAAAAAAAAAAAAAAAAAAAAAAAAAgD8AAAAAAACAQAAAgD8AAAAAAACAPwAAgD8AAAAAAAAAAAAAAAAAAAAAAAAAAAAAAAAAAAAAAAAAAAAAgD8AAAAAAAAAAAAAAAAAAAAAAAAAAAAAAAAAAAAAAAAAAAAAgD8AAIA/AACAPwAAAAAAAIA/AACAPwAAAAAAAIA/AAAAAAAAAAAAAAAAAAAAAAAAAAAAAIA/AAAAAAAAgD8AAIA/AAAAAAAAAAAAAAAAAACAPwAAAAAAAAAAAACAPwAAAAAAAAAAAAAAAAAAAAAAAAAAAAAAAAAAAAAAAAAAAAAAQAAAAAAAAAAAAAAAAAAAAAAAAAAAAACAPwAAgD8AAAAAAACAPwAAAAAAAAAAAABAQAAAAAAAAAAAAAAAAAAAAEAAAAAAAAAAAAAAAEAAAAAAAACAPwAAAAAAAAAAAAAAAAAAgD8AAIA/AACAPwAAgEAAAIA/AAAAAAAAAEAAAAAAAAAAAAAAAAAAAAAAAAAAAAAAAAAAAIA/AAAAQAAAAAAAAEBAAACAPwAAAAAAAAAAAAAAAAAAgD8AAIA/AAAAAAAAAEAAAAAAAAAAAAAAAAAAAIA/AAAAAAAAAEAAAAAAAACAPwAAAAAAAAAAAAAAQAAAAAAAAIA/AAAAQAAAAAAAAAAAAAAAAAAAAEAAAIA/AAAAAAAAAAAAAAAAAAAAAAAAAAAAAIA/AACAPwAAAAAAAIA/AAAAAAAAAAAAAAAAAAAAAAAAgD8AAIA/AAAAAAAAAAAAAAAAAAAAAAAAAAAAAAAAAAAAAAAAgD8AAIA/AAAAAAAAAAAAAABAAAAAAAAAAAAAAAAAAACAPwAAAAAAAAAAAAAAAAAAgD8AAIA/AAAAAAAAgD8AAIA/AAAAAAAAAAAAAAAAAAAAAAAAgD8AAAAAAAAAAAAAAAAAAAAAAAAAAAAAAAAAAIA/AACAPwAAAAAAAIA/AAAAAAAAAAAAAAAAAAAAAAAAAAAAAAAAAAAAAAAAAAAAAAAAAAAAAAAAAAAAAAAAAAAAAAAAAAAAAIA/AAAAAAAAAAAAAIA/AAAAAAAAgD8AAAAAAAAAAAAAAAAAAIA/AAAAAAAAgD8AAAAAAAAAQAAAAAAAAIA/AACAPwAAAAAAAABAAAAAAAAAgD8AAAAAAAAAAAAAAAAAAAAAAACAPwAAAAAAAIA/AAAAAAAAAAAAAABAAAAAAAAAgD8AAAAAAACAPwAAAAAAAAAAAAAAAAAAgD8AAAAAAAAAAAAAAEAAAAAAAAAAAAAAAAAAAAAAAAAAAAAAAAAAAIA/AAAAAAAAAAAAAIA/AAAAAAAAgD8AAAAAAAAAAAAAAAAAAIA/AAAAAAAAAAAAAAAAAACAPwAAAAAAAIA/AAAAAAAAAAAAAAAAAAAAAAAAAAAAAAAAAACAPwAAAAAAAAAAAACAPwAAAAAAAAAAAAAAAAAAAAAAAAAAAAAAAAAAAAAAAIA/AAAAAAAAAAAAAABAAACAPwAAgD8AAAAAAAAAAAAAAAAAAAAAAAAAAAAAgD8AAIA/AAAAAAAAgD8AAAAAAAAAAAAAAAAAAAAAAAAAAAAAAAAAAAAAAACAPwAAAAAAAAAAAAAAAAAAAAAAAAAAAACAPwAAAEAAAAAAAAAAAAAAAAAAAAAAAAAAAAAAAAAAAAAAAAAAAAAAAAAAAAAAAACAPwAAAAAAAIA/AAAAAAAAAAAAAAAAAAAAAAAAgD8AAAAAAACAPwAAAAAAAIA/AAAAQAAAAAAAAAAAAAAAAAAAAAAAAIA/AACAPwAAgD8AAAAAAAAAAAAAAAAAAAAAAAAAAAAAgD8AAAAAAAAAAAAAgD8AAAAAAACAPwAAAEAAAAAAAAAAAAAAAAAAAIA/AACAPwAAgD8AAAAAAAAAAAAAgD8AAAAAAAAAAAAAAAAAAAAAAAAAAAAAgD8AAAAAAACAPwAAAAAAAAAAAAAAAAAAAAAAAAAAAAAAAAAAAAAAAAAAAAAAAAAAAEAAAAAAAAAAAAAAAAAAAAAAAAAAAAAAAAAAAAAAAAAAAAAAAAAAAAAAAAAAAAAAAAAAAAAAAAAAAAAAAEAAAIA/AAAAAAAAAAAAAAAAAACAPwAAAAAAAABAAAAAAAAAAAAAAAAAAAAAAAAAAAAAAIA/AAAAAAAAgD8AAAAAAAAAAAAAgD8AAAAAAAAAAAAAAAAAAAAAAAAAAAAAAAAAAAAAAAAAAAAAAAAAAAAAAAAAAAAAAAAAAABAAAAAAAAAAAAAAAAAAACAPwAAAAAAAIA/AAAAAAAAgD8AAAAAAAAAAAAAAAAAAIA/AAAAAAAAAAAAAAAAAAAAAAAAAAAAAAAAAAAAAAAAAAAAAAAAAAAAAAAAAAAAAAAAAACAPwAAAAAAAIA/AAAAAAAAAAAAAIA/AAAAAAAAAAAAAAAAAACAPwAAAAAAAAAAAACAPwAAAAAAAAAAAAAAAAAAgD8AAAAAAAAAAAAAAEAAAABAAAAAAAAAAAAAAIA/AAAAAAAAAAAAAIA/AACAPwAAAAAAAAAAAAAAAAAAAAAAAAAAAAAAAAAAgD8AAAAAAAAAAAAAAAAAAIA/AACAPwAAAEAAAAAAAACAPwAAgD8AAAAAAAAAAAAAAAAAAAAAAACAPwAAAAAAAIA/AAAAAAAAAAAAAABAAAAAAAAAgD8AAIA/AAAAAAAAAAAAAAAAAAAAAAAAgD8AAIA/AAAAAAAAAAAAAIA/AAAAAAAAAAAAAAAAAAAAAAAAAAAAAIA/AACAPwAAgD8AAAAAAAAAAAAAgD8AAAAAAAAAAAAAAAAAAIA/AAAAQAAAAAAAAABAAAAAAAAAAAAAAAAAAAAAQAAAAAAAAAAAAAAAAAAAgD8AAIA/AAAAAAAAAAAAAAAAAACAPwAAgD8AAAAAAAAAAAAAAAAAAIA/AACAPwAAgD8AAIA/AAAAAAAAgD8AAIA/AAAAAAAAgD8AAAAAAAAAAAAAAAAAAAAAAAAAAAAAAAAAAAAAAAAAAAAAAAAAAIA/AAAAAAAAAAAAAAAAAAAAAAAAAAAAAIA/AAAAAAAAAAAAAAAAAACAPwAAAEAAAAAAAACAPwAAAAAAAIA/AAAAAAAAAAAAAABAAAAAAAAAAAAAAAAAAAAAAAAAAAAAAIA/AAAAAAAAAAAAAAAAAACAPwAAAAAAAAAAAACAPwAAAAAAAAAAAACAPwAAgD8AAAAAAAAAAAAAgD8AAAAAAAAAAAAAAAAAAIA/AAAAAAAAAAAAAAAAAAAAQAAAAAAAAAAAAACAPwAAgD8AAIA/AACAPwAAAAAAAAAAAACAPwAAAAAAAAAAAACAPwAAAAAAAAAAAAAAAAAAAAAAAABAAACAPwAAAAAAAAAAAACAPwAAAAAAAAAAAAAAAAAAAAAAAIA/AACAPwAAAAAAAAAAAAAAAAAAgD8AAAAAAAAAAAAAQEAAAIA/AAAAAAAAgD8AAIA/AAAAAAAAAAAAAAAAAAAAAAAAAAAAAAAAAABAQAAAAAAAAAAAAAAAAAAAAAAAAAAAAAAAAAAAAAAAAAAAAACAPwAAAAAAAIA/AAAAAAAAAAAAAAAAAAAAAAAAgD8AAIA/AAAAAAAAAAAAAIA/AAAAAAAAAAAAAIA/AACAPwAAAAAAAAAAAAAAAAAAAAAAAIA/AACAPwAAAAAAAAAAAAAAAAAAAAAAAAAAAAAAAAAAAAAAAAAAAACAPwAAgD8AAABAAACAPwAAAAAAAAAAAAAAQAAAAAAAAAAAAAAAAAAAgD8AAIA/AAAAAAAAAAAAAAAAAAAAAAAAgD8AAAAAAAAAAAAAAAAAAIA/AAAAAAAAgD8AAAAAAAAAAAAAAAAAAAAAAAAAAAAAAAAAAIA/AAAAAAAAgD8AAAAAAAAAAAAAAAAAAAAAAAAAAAAAAAAAAIA/AAAAAAAAAAAAAAAAAAAAAAAAAAAAAAAAAAAAAAAAAAAAAIA/AAAAAAAAgD8AAAAAAAAAAAAAAAAAAIA/AAAAAAAAgD8AAAAAAAAAQAAAAAAAAAAAAAAAAAAAAAAAAAAAAAAAAAAAAAAAAIA/AAAAAAAAAAAAAAAAAAAAAAAAAAAAAIA/AAAAAAAAAAAAAIA/AACAPwAAAAAAAAAAAACAPwAAAAAAAAAAAAAAAAAAAAAAAAAAAACAPwAAAAAAAIA/AACAPwAAAAAAAAAAAAAAAAAAgD8AAAAAAAAAAAAAAAAAAAAAAAAAQAAAAAAAAIA/AAAAAAAAgD8AAAAAAAAAAAAAAAAAAAAAAACAPwAAAAAAAAAAAACAPwAAgD8AAAAAAAAAAAAAAAAAAAAAAAAAAAAAAAAAAAAAAAAAAAAAAAAAAAAAAAAAAAAAgD8AAAAAAAAAAAAAAAAAAAAAAAAAAAAAAAAAAABAAABAQAAAgD8AAAAAAACAPwAAAAAAAAAAAAAAAAAAAAAAAAAAAAAAAAAAAAAAAAAAAAAAAAAAAAAAAAAAAAAAAAAAAAAAAIA/AAAAAAAAAAAAAAAAAACAPwAAAAAAAAAAAAAAAAAAgD8AAAAAAAAAAAAAAAAAAAAAAAAAAAAAgD8AAIA/AABAQAAAAAAAAAAAAAAAAAAAAAAAAAAAAAAAAAAAAAAAAIA/AACAPwAAAAAAAIA/AAAAAAAAAAAAAIA/AAAAAAAAAAAAAAAAAAAAAAAAgD8AAIA/AACAPwAAAAAAAAAAAAAAAAAAAAAAAIA/AAAAAAAAAAAAAAAAAAAAAAAAAAAAAAAAAAAAAAAAAAAAAIA/AACAPwAAAAAAAAAAAAAAAAAAAAAAAAAAAAAAAAAAgD8AAIA/AAAAAAAAAAAAAAAAAAAAAAAAgD8AAABAAAAAAAAAAAAAAAAAAAAAAAAAgD8AAIA/AAAAAAAAAAAAAAAAAACAPwAAgD8AAAAAAAAAAAAAAAAAAAAAAAAAAAAAAAAAAAAAAAAAAAAAAAAAAIA/AAAAAAAAgD8AAAAAAAAAAAAAAAAAAAAAAAAAAAAAAAAAAABAAACAPwAAAAAAAAAAAAAAAAAAAAAAAAAAAAAAAAAAgD8AAAAAAAAAAAAAAAAAAAAAAAAAAAAAAAAAAAAAAACAPwAAAAAAAAAAAACAPwAAAAAAAIA/AACAPwAAAAAAAIA/AAAAAAAAAAAAAIA/AACAPwAAAAAAAAAAAAAAAAAAAAAAAAAAAACAPwAAgD8AAAAAAACAPwAAAAAAAIA/AACAPwAAAAAAAAAAAACAPwAAAAAAAAAAAAAAAAAAAEAAAAAAAAAAAAAAAAAAAAAAAAAAAAAAAAAAAAAAAAAAAAAAAAAAAIA/AAAAAAAAAAAAAAAAAACAPwAAgD8AAAAAAAAAAAAAAAAAAAAAAAAAAAAAgD8AAAAAAAAAAAAAAAAAAAAAAAAAAAAAAAAAAAAAAAAAAAAAAAAAAAAAAAAAAAAAAAAAAAAAAACAPwAAAAAAAAAAAACAPwAAAAAAAAAAAAAAAAAAAAAAAAAAAAAAAAAAAAAAAAAAAAAAAAAAAAAAAAAAAACAPwAAgD8AAAAAAACAPwAAgD8AAAAAAACAPwAAAAAAAAAAAACAPwAAAAAAAAAAAAAAAAAAAAAAAAAAAAAAAAAAAAAAAEBAAACAPwAAAAAAAAAAAAAAAAAAAAAAAAAAAAAAAAAAAAAAAABAAACAPwAAAAAAAIA/AACAPwAAAAAAAAAAAAAAAAAAAAAAAAAAAACAPwAAAAAAAIA/AAAAAAAAAAAAAAAAAAAAAAAAgD8AAAAAAAAAAAAAgD8AAAAAAAAAAAAAAAAAAAAAAAAAAAAAgD8AAIA/AAAAAAAAgD8AAAAAAAAAAAAAAAAAAAAAAACAPwAAAAAAAAAAAACAPwAAgD8AAAAAAACAPwAAAAAAAAAAAACAPwAAgD8AAAAAAAAAAAAAAAAAAAAAAAAAAAAAAAAAAAAAAACAPwAAAAAAAIA/AAAAAAAAAAAAAAAAAACAPwAAAAAAAIA/AACAPwAAAAAAAAAAAAAAAAAAAAAAAAAAAAAAAAAAgD8AAAAAAAAAQAAAAEAAAAAAAAAAAAAAAAAAAAAAAACAPwAAAAAAAIA/AAAAAAAAAAAAAAAAAAAAAAAAAEAAAAAAAACAPwAAgD8AAAAAAAAAAAAAgD8AAAAAAAAAAAAAAAAAAIA/AACAPwAAAAAAAAAAAAAAAAAAAAAAAAAAAAAAAAAAgD8AAAAAAAAAAAAAAAAAAABAAAAAAAAAAAAAAAAAAAAAAAAAAAAAAIA/AAAAAAAAAAAAAAAAAACAPwAAAAAAAAAAAAAAAAAAgD8AAAAAAAAAAAAAAAAAAAAAAACAPwAAAAAAAAAAAAAAAAAAgD8AAAAAAAAAAAAAAAAAAAAAAAAAAAAAAAAAAAAAAAAAAAAAgD8AAIA/AACAPwAAAAAAAAAAAAAAAAAAAEAAAAAAAAAAAAAAgD8AAIA/AACAPwAAAAAAAIA/AAAAAAAAAAAAAEBAAAAAAAAAgD8AAAAAAAAAAAAAAAAAAAAAAAAAAAAAAAAAAAAAAAAAAAAAAAAAAAAAAAAAAAAAAAAAAAAAAACAPwAAAAAAAAAAAAAAAAAAAAAAAAAAAAAAAAAAAAAAAAAAAAAAAAAAgD8AAAAAAAAAAAAAAAAAAAAAAAAAAAAAAAAAAAAAAAAAAAAAAAAAAAAAAAAAAAAAAAAAAAAAAAAAAAAAAAAAAAAAAAAAAAAAAAAAAAAAAAAAAAAAAAAAAAAAAAAAAAAAAAAAAAAAAAAAAAAAgD8AAAAAAAAAAAAAAAAAAAAAAAAAAAAAAAAAAAAAAAAAAAAAAAAAAIA/AAAAAAAAAEAAAAAAAAAAAAAAgD8AAAAAAAAAAAAAAAAAAIA/AAAAAAAAAAAAAAAAAACAPwAAAAAAAAAAAAAAAAAAAAAAAAAAAAAAAAAAgD8AAAAAAAAAAAAAgD8AAAAAAACAPwAAAAAAAAAAAAAAAAAAgD8AAIA/AAAAAAAAAAAAAAAAAAAAAAAAAAAAAAAAAAAAAAAAAAAAAAAAAACAPwAAAAAAAAAAAAAAAAAAAAAAAAAAAAAAAAAAgD8AAAAAAACAPwAAgD8AAAAAAAAAAAAAAAAAAAAAAAAAAAAAgD8AAIA/AAAAAAAAAAAAAIA/AAAAAAAAAAAAAAAAAAAAAAAAAAAAAAAAAAAAAAAAAAAAAAAAAAAAAAAAAAAAAAAAAAAAAAAAAAAAAIA/AAAAAAAAAAAAAAAAAAAAAAAAAAAAAIA/AAAAAAAAAAAAAAAAAAAAAAAAAAAAAAAAAAAAAAAAAAAAAIA/AAAAAAAAAAAAAAAAAAAAAAAAAAAAAAAAAACAPwAAAAAAAAAAAAAAAAAAAAAAAAAAAAAAAAAAAAAAAAAAAAAAAAAAAAAAAAAAAAAAAAAAAAAAAAAAAACAPwAAAAAAAAAAAAAAAAAAAAAAAAAAAAAAAAAAAAAAAAAAAAAAAAAAAAAAAAAAAAAAAAAAAAAAAIA/AAAAAAAAAAAAAAAAAAAAAAAAAAAAAAAAAAAAAAAAAAAAAAAAAAAAAAAAAAAAAAAAAAAAAAAAAAAAAIA/AACAPwAAAAAAAAAAAAAAAAAAAAAAAAAAAAAAAAAAAAAAAAAAAACAPwAAAAAAAAAAAAAAAAAAAAAAAAAAAACAPwAAAAAAAAAAAAAAAAAAAAAAAAAAAAAAAAAAAAAAAEBAAAAAAAAAAAAAAAAAAAAAAAAAAAAAAAAAAAAAAAAAAAAAAAAAAACAPwAAAAAAAAAAAAAAAAAAAAAAAAAAAAAAAAAAAAAAAAAAAAAAAAAAAAAAAAAAAAAAAAAAAAAAAAAAAACAPwAAAAAAAAAAAAAAAAAAAAAAAIA/AAAAAAAAAAAAAAAAAAAAAAAAAAAAAAAAAACAPwAAAAAAAAAAAACAPwAAAAAAAAAAAAAAAAAAgD8AAAAAAAAAAAAAgD8AAAAAAAAAAAAAAAAAAAAAAAAAAAAAAAAAAIA/AAAAAAAAAAAAAIA/AAAAAAAAAAAAAAAAAACAPwAAAAAAAAAAAAAAAAAAAAAAAAAAAAAAAAAAAAAAAAAAAAAAAAAAAAAAAAAAAAAAAAAAAAAAAAAAAAAAAAAAAAAAAAAAAAAAAAAAgD8AAIA/AACAPwAAAAAAAAAAAAAAAAAAAAAAAAAAAAAAAAAAAAAAAAAAAAAAAAAAAAAAAAAAAAAAAAAAAAAAAAAAAAAAAAAAAEAAAAAAAAAAAAAAAAAAAIA/AAAAAAAAgD8AAIA/AACAPwAAgD8AAAAAAAAAAAAAAAAAAABAAAAAAAAAgD8AAAAAAACAPwAAAAAAAAAAAAAAAAAAAAAAAIA/AAAAAAAAAAAAAAAAAAAAAAAAAAAAAAAAAAAAQAAAgD8AAAAAAAAAAAAAAAAAAAAAAAAAAAAAAEAAAAAAAAAAAAAAAAAAAAAAAAAAAAAAgD8AAAAAAAAAAAAAAAAAAIA/AAAAAAAAAAAAAAAAAAAAAAAAAAAAAAAAAAAAAAAAAAAAAAAAAAAAAAAAgD8AAAAAAACAPwAAAAAAAAAAAAAAAAAAAAAAAABAAACAPwAAgD8AAAAAAACAPwAAgD8AAAAAAAAAAAAAAAAAAAAAAAAAAAAAAAAAAAAAAACAPwAAAAAAAAAAAAAAAAAAgD8AAAAAAAAAQAAAAAAAAAAAAACAPwAAAAAAAAAAAACAPwAAAAAAAIA/AACAPwAAAAAAAAAAAAAAAAAAAAAAAAAAAAAAAAAAAAAAAIA/AACAPwAAAAAAAAAAAAAAAAAAAAAAAIA/AAAAAAAAAAAAAAAAAAAAAAAAAAAAAAAAAAAAAAAAAAAAAIA/AACAPwAAAAAAAAAAAAAAAAAAAAAAAAAAAACAPwAAAAAAAIA/AAAAAAAAAAAAAAAAAAAAAAAAAEAAAAAAAAAAAAAAAAAAAIA/AAAAAAAAAAAAAAAAAAAAQAAAgD8AAIA/AAAAAAAAAAAAAAAAAACAPwAAAAAAAAAAAACAPwAAAAAAAAAAAAAAAAAAAAAAAAAAAAAAAAAAAAAAAAAAAAAAAAAAAAAAAAAAAAAAAAAAAAAAAAAAAAAAAAAAAAAAAAAAAAAAAAAAAAAAAAAAAAAAAAAAAAAAAAAAAAAAQAAAgD8AAAAAAAAAAAAAgD8AAAAAAAAAAAAAAAAAAAAAAAAAAAAAAAAAAAAAAAAAAAAAAAAAAAAAAAAAAAAAAAAAAAAAAACAPwAAAEAAAAAAAAAAAAAAAAAAAAAAAAAAAAAAAAAAAAAAAAAAAAAAAAAAAAAAAAAAAAAAAAAAAAAAAACAPwAAAAAAAAAAAACAPwAAgD8AAAAAAAAAAAAAAAAAAAAAAAAAAAAAAAAAAAAAAAAAAAAAAAAAAAAAAAAAAAAAAAAAAAAAAAAAAAAAAAAAAAAAAAAAAAAAgD8AAAAAAAAAAAAAAAAAAABAAAAAAAAAAAAAAIA/AACAPwAAAAAAAAAAAAAAAAAAAAAAAAAAAAAAAAAAAAAAAAAAAACAPwAAAAAAAAAAAAAAAAAAAAAAAAAAAAAAAAAAAEAAAAAAAACAPwAAgD8AAIA/AAAAAAAAAAAAAAAAAAAAAAAAAAAAAAAAAAAAAAAAAAAAAAAAAAAAAAAAgD8AAAAAAACAPwAAAAAAAAAAAAAAAAAAgD8AAAAAAAAAAAAAgD8AAAAAAAAAAAAAgD8AAAAAAAAAAAAAAAAAAAAAAACAPwAAAAAAAIA/AAAAAAAAAAAAAAAAAAAAAAAAAAAAAAAAAAAAAAAAAAAAAIA/AAAAAAAAgD8AAAAAAAAAAAAAAAAAAAAAAAAAAAAAAAAAAIA/AAAAAAAAgD8AAAAAAAAAAAAAAAAAAAAAAAAAQAAAAAAAAAAAAACAPwAAAAAAAAAAAAAAAAAAgD8AAAAAAAAAAAAAAAAAAAAAAAAAAAAAgD8AAIA/AAAAAAAAAAAAAAAAAAAAAAAAgD8AAAAAAAAAAAAAAAAAAABAAAAAAAAAAAAAAAAAAAAAAAAAAAAAAAAAAAAAAAAAAAAAAAAAAAAAAAAAgD8AAAAAAAAAAAAAgD8AAAAAAAAAAAAAAAAAAAAAAAAAAAAAAAAAAAAAAAAAAAAAAAAAAAAAAAAAAAAAAAAAAAAAAAAAAAAAAAAAAAAAAAAAAAAAAAAAAAAAAAAAAAAAQEAAAIA/AAAAAAAAAAAAAAAAAAAAAAAAgD8AAAAAAAAAAAAAAAAAAAAAAAAAAAAAAAAAAAAAAAAAAAAAAAAAAIA/AAAAAAAAAAAAAAAAAAAAAAAAgD8AAAAAAAAAAAAAAAAAAAAAAAAAAAAAAAAAAIA/AAAAAAAAAAAAAIA/AAAAAAAAAAAAAIA/AAAAAAAAAAAAAAAAAAAAAAAAgD8AAAAAAAAAAAAAAAAAAAAAAAAAAAAAAAAAAAAAAAAAAAAAAAAAAAAAAAAAAAAAAAAAAEBAAACAPwAAAAAAAIA/AAAAAAAAgD8AAIA/AAAAAAAAgD8AAAAAAAAAAAAAAAAAAAAAAAAAAAAAAAAAAAAAAAAAAAAAgD8AAIA/AAAAAAAAAAAAAAAAAAAAAAAAAAAAAAAAAAAAAAAAAAAAAAAAAAAAAAAAAAAAAAAAAAAAAAAAgD8AAAAAAACAPwAAAAAAAAAAAAAAAAAAgD8AAAAAAACAPwAAAAAAAAAAAAAAAAAAAAAAAAAAAAAAAAAAAAAAAAAAAAAAAAAAgD8AAIA/AAAAAAAAAAAAAAAAAACAPwAAAAAAAAAAAACAPwAAAAAAAAAAAAAAAAAAAAAAAAAAAAAAAAAAgD8AAAAAAACAPwAAAAAAAAAAAAAAAAAAAAAAAIA/AAAAAAAAAAAAAAAAAAAAAAAAAAAAAAAAAAAAAAAAAAAAAAAAAAAAAAAAAAAAAAAAAAAAAAAAAAAAAAAAAAAAAAAAAAAAAAAAAAAAAAAAgD8AAAAAAAAAAAAAAAAAAAAAAAAAAAAAAAAAAAAAAAAAAAAAAAAAAAAAAAAAAAAAAAAAAIA/AAAAAAAAAAAAAAAAAAAAAAAAAAAAAAAAAAAAAAAAgD8AAAAAAAAAAAAAAAAAAIA/AAAAAAAAAAAAAAAAAAAAAAAAgD8AAAAAAAAAAAAAAAAAAAAAAAAAAAAAAAAAAAAAAAAAAAAAAAAAAAAAAAAAAAAAAAAAAAAAAAAAAAAAAAAAAIA/AAAAAAAAAAAAAAAAAAAAAAAAgD8AAAAAAAAAQAAAAAAAAAAAAACAPwAAAAAAAAAAAACAPwAAAAAAAAAAAACAPwAAAAAAAAAAAAAAAAAAAAAAAIA/AAAAAAAAAAAAAAAAAACAPwAAAAAAAAAAAAAAAAAAAAAAAAAAAAAAAAAAAAAAAAAAAAAAAAAAAAAAAAAAAAAAAAAAAAAAAAAAAAAAAAAAAAAAAAAAAAAAAAAAgD8AAAAAAAAAAAAAAAAAAAAAAACAPwAAAAAAAAAAAACAPwAAAAAAAAAAAAAAAAAAAAAAAAAAAAAAAAAAgD8AAAAAAACAPwAAgD8AAAAAAAAAAAAAAAAAAIA/AAAAAAAAAAAAAAAAAAAAAAAAAAAAAAAAAAAAAAAAAAAAAAAAAAAAAAAAAAAAAAAAAAAAAAAAAAAAAIA/AAAAAAAAAAAAAAAAAAAAAAAAAAAAAAAAAAAAAAAAAAAAAAAAAAAAAAAAAEAAAAAAAAAAAAAAAAAAAAAAAAAAAAAAAAAAAAAAAAAAAAAAAAAAAAAAAAAAAAAAAAAAAAAAAAAAAAAAAAAAAAAAAAAAAAAAAAAAAAAAAAAAAAAAAAAAAAAAAAAAAAAAAAAAAAAAAAAAAAAAAAAAAAAAAAAAAAAAAAAAAAAAAACAPwAAAEAAAAAAAAAAAAAAAAAAAAAAAAAAAAAAgD8AAAAAAAAAAAAAAAAAAAAAAAAAAAAAgD8AAAAAAAAAAAAAAAAAAAAAAACAPwAAAAAAAIA/AAAAAAAAAAAAAAAAAACAPwAAAAAAAAAAAAAAAAAAAAAAAAAAAAAAAAAAAAAAAAAAAAAAAAAAgD8AAAAAAAAAAAAAAAAAAAAAAAAAAAAAAAAAAAAAAAAAAAAAAAAAAAAAAAAAAAAAAAAAAAAAAACAPwAAAAAAAAAAAAAAAAAAAAAAAAAAAAAAAAAAAAAAAIA/AAAAAAAAAAAAAIA/AAAAAAAAAAAAAAAAAAAAAAAAAAAAAAAAAAAAAAAAAAAAAAAAAAAAAAAAAAAAAAAAAAAAAAAAAAAAAAAAAACAPwAAAAAAAAAAAAAAQAAAAAAAAAAAAAAAAAAAgD8AAAAAAAAAAAAAAAAAAAAAAAAAAAAAgD8AAAAAAAAAAAAAAAAAAAAAAAAAAAAAAAAAAAAAAAAAAAAAAAAAAAAAAACAPwAAAAAAAAAAAAAAAAAAAAAAAIA/AAAAAAAAAAAAAAAAAAAAAAAAAAAAAAAAAAAAAAAAAAAAAAAAAAAAAAAAAAAAAAAAAAAAAAAAAAAAAAAAAAAAAAAAAAAAAAAAAAAAAAAAAAAAAAAAAAAAAAAAAAAAAAAAAAAAAAAAAAAAAAAAAAAAAAAAAAAAAAAAAAAAAAAAAAAAAAAAAAAAAAAAAAAAAAAAAAAAAAAAAAAAAAAAAAAAAAAAgD8AAIA/AACAPwAAAAAAAAAAAAAAAAAAAAAAAAAAAAAAAAAAAAAAAAAAAAAAAAAAAAAAAAAAAAAAAAAAAAAAAAAAAAAAAAAAAAAAAAAAAACAPwAAAAAAAAAAAAAAAAAAAAAAAAAAAAAAAAAAAAAAAAAAAAAAAAAAAAAAAAAAAAAAAAAAAAAAAAAAAAAAAAAAAAAAAAAAAAAAAAAAAAAAAAAAAAAAAAAAgD8AAAAAAAAAAAAAAAAAAAAAAAAAAAAAAAAAAAAAAAAAAAAAgD8AAAAAAAAAAAAAAAAAAAAAAAAAAAAAAAAAAAAAAAAAAAAAAAAAAAAAAAAAAAAAAAAAAAAAAAAAAAAAAAAAAAAAAACAPwAAgD8AAIA/AAAAAAAAAAAAAAAAAAAAAAAAAAAAAAAAAAAAAAAAAAAAAIA/AACAPwAAAAAAAAAAAAAAAAAAAAAAAAAAAAAAAAAAgD8AAAAAAAAAQAAAAAAAAAAAAAAAAAAAgD8AAAAAAAAAAAAAAAAAAAAAAAAAAAAAAAAAAIA/AAAAAAAAAAAAAAAAAAAAAAAAAAAAAAAAAAAAAAAAAAAAAAAAAAAAAAAAAAAAAAAAAAAAAAAAAAAAAAAAAAAAAAAAAAAAAIA/AAAAAAAAAAAAAAAAAAAAAAAAAAAAAAAAAACAPwAAAAAAAAAAAAAAAAAAAAAAAAAAAAAAAAAAAAAAAAAAAAAAAAAAAAAAAAAAAAAAAAAAgD8AAIA/AAAAAAAAAAAAAAAAAAAAAAAAgD8AAIA/AAAAAAAAAAAAAAAAAAAAAAAAAAAAAAAAAAAAAAAAAAAAAIA/AAAAAAAAAAAAAAAAAAAAAAAAAAAAAIA/AAAAAAAAAAAAAAAAAAAAAAAAAAAAAIA/AAAAAAAAAAAAAAAAAAAAAAAAgD8AAAAAAAAAAAAAAAAAAAAAAAAAAAAAAAAAAAAAAAAAAAAAAAAAAAAAAAAAAAAAAAAAAAAAAAAAAAAAAAAAAAAAAAAAAAAAAAAAAAAAAAAAAAAAAAAAAAAAAAAAAAAAAAAAAAAAAAAAAAAAAAAAAIA/AAAAAAAAAAAAAAAAAAAAAAAAAAAAAAAAAAAAAAAAAAAAAAAAAAAAAAAAAAAAAAAAAAAAAAAAAAAAAIA/AAAAAAAAAAAAAAAAAACAPwAAgD8AAAAAAAAAAAAAAAAAAAAAAAAAAAAAgD8AAAAAAAAAAAAAAAAAAAAAAAAAAAAAAAAAAIA/AACAPwAAAAAAAAAAAAAAAAAAAAAAAAAAAAAAAAAAAAAAAAAAAAAAAAAAgD8AAAAAAAAAAAAAAAAAAAAAAAAAAAAAAAAAAAAAAAAAAAAAAAAAAAAAAAAAAAAAAAAAAAAAAAAAAAAAAAAAAAAAAAAAAAAAAAAAAIA/AAAAAAAAAAAAAAAAAAAAAAAAAAAAAAAAAACAPwAAAAAAAAAAAAAAAAAAAAAAAAAAAAAAAAAAAAAAAAAAAAAAAAAAAAAAAAAAAAAAAAAAAAAAAAAAAAAAAAAAAAAAAAAAAAAAAAAAAAAAAAAAAAAAAAAAAAAAAIA/AAAAAAAAgD8AAAAAAAAAAAAAAAAAAAAAAAAAAAAAAAAAAAAAAAAAAAAAAAAAAAAAAAAAAAAAAAAAAAAAAAAAAAAAAAAAAAAAAAAAAAAAAAAAAAAAAAAAAAAAAAAAAAAAAAAAAAAAAAAAAAAAAAAAAAAAAAAAAAAAAAAAAAAAgD8AAAAAAAAAAAAAAAAAAAAAAAAAAAAAAAAAAAAAAAAAAAAAAAAAAAAAAAAAAAAAAAAAAAAAAACAPwAAAAAAAAAAAAAAAAAAAAAAAIA/AAAAAAAAAAAAAIA/AACAPwAAgD8AAAAAAAAAAAAAgD8AAAAAAAAAAAAAAAAAAAAAAAAAAAAAAAAAAIA/AAAAAAAAAAAAAAAAAAAAAAAAAAAAAAAAAAAAAAAAAEAAAAAAAAAAAAAAgD8AAAAAAAAAAAAAgD8AAAAAAACAPwAAAAAAAAAAAAAAAAAAAAAAAAAAAAAAAAAAgD8AAAAAAAAAAAAAgD8AAAAAAACAPwAAgD8AAAAAAAAAAAAAAAAAAAAAAACAPwAAAAAAAAAAAAAAAAAAAAAAAAAAAAAAAAAAAAAAAAAAAAAAAAAAAAAAAIA/AAAAAAAAAAAAAAAAAACAPwAAAAAAAAAAAACAPwAAAAAAAAAAAACAPwAAAAAAAAAAAAAAAAAAAAAAAAAAAAAAAAAAAAAAAAAAAAAAAAAAAAAAAAAAAAAAAAAAAAAAAAAAAAAAAAAAAAAAAAAAAAAAAAAAAAAAAAAAAACAPwAAAAAAAAAAAACAPwAAAAAAAAAAAAAAAAAAAAAAAAAAAAAAAAAAAAAAAAAAAAAAAAAAAAAAAAAAAAAAAAAAAAAAAIA/AAAAAAAAAAAAAAAAAAAAAAAAgD8AAAAAAAAAAAAAAAAAAAAAAAAAAAAAAAAAAAAAAAAAAAAAAAAAAIA/AAAAAAAAgD8AAAAAAAAAAAAAAAAAAAAAAAAAAAAAAAAAAIA/AAAAAAAAAAAAAAAAAACAPwAAAAAAAAAAAAAAAAAAAAAAAIA/AAAAAAAAAAAAAAAAAAAAAAAAAAAAAAAAAAAAAAAAAAAAAAAAAAAAAAAAAAAAAAAAAAAAAAAAAAAAAAAAAAAAAAAAAAAAAAAAAAAAAAAAAAAAAAAAAAAAAAAAAAAAAAAAAAAAAAAAgD8AAAAAAAAAAAAAAAAAAAAAAAAAAAAAgD8AAAAAAAAAAAAAAAAAAAAAAAAAAAAAAAAAAAAAAACAPwAAgD8AAIA/AAAAAAAAAAAAAAAAAAAAAAAAgD8AAAAAAAAAAAAAAAAAAAAAAAAAAAAAAAAAAAAAAAAAAAAAAAAAAAAAAACAPwAAAAAAAABAAAAAAAAAAAAAAAAAAACAPwAAAAAAAIA/AAAAAAAAAAAAAAAAAAAAAAAAAAAAAIA/AAAAAAAAAAAAAIA/AACAPwAAAAAAAAAAAAAAAAAAAAAAAAAAAAAAAAAAAAAAAAAAAAAAAAAAAAAAAIA/AAAAAAAAAAAAAAAAAAAAAAAAgD8AAAAAAAAAAAAAAAAAAAAAAAAAAAAAAAAAAIA/AAAAAAAAAAAAAAAAAAAAAAAAAAAAAAAAAAAAAAAAAAAAAAAAAAAAAAAAAAAAAAAAAAAAAAAAAAAAAAAAAACAPwAAAAAAAAAAAAAAAAAAAAAAAAAAAACAPwAAgD8AAAAAAAAAAAAAAAAAAAAAAAAAAAAAAAAAAAAAAAAAAAAAAAAAAAAAAAAAAAAAAAAAAAAAAAAAAAAAAAAAAAAAAAAAAAAAgD8AAAAAAAAAAAAAAAAAAAAAAAAAAAAAAAAAAAAAAAAAAAAAAAAAAAAAAAAAAAAAAAAAAAAAAACAPwAAAAAAAAAAAAAAAAAAAAAAAAAAAAAAAAAAAAAAAAAAAAAAAAAAgD8AAAAAAAAAAAAAgD8AAAAAAAAAAAAAAAAAAIA/AACAPwAAAAAAAAAAAAAAAAAAAAAAAAAAAAAAAAAAAAAAAAAAAAAAAAAAAAAAAAAAAAAAAAAAAAAAAAAAAAAAAAAAAAAAAAAAAAAAAAAAAAAAAAAAAAAAAAAAAAAAAAAAAAAAAAAAAAAAAAAAAAAAAAAAAAAAAAAAAAAAAAAAAAAAAAAAAAAAAAAAAAAAAAAAAAAAAAAAAAAAAAAAAAAAAAAAAAAAAAAAAAAAAAAAAAAAAIA/AACAPwAAAAAAAIA/AAAAAAAAgD8AAAAAAAAAAAAAAAAAAAAAAAAAAAAAAAAAAAAAAAAAAAAAAAAAAAAAAAAAAAAAAAAAAAAAAACAPwAAAAAAAAAAAAAAAAAAAAAAAIA/AAAAAAAAAAAAAIA/AAAAAAAAAAAAAABAAAAAAAAAAAAAAAAAAAAAAAAAAAAAAAAAAAAAAAAAAAAAAAAAAAAAAAAAAAAAAAAAAAAAAAAAAAAAAAAAAACAPwAAAAAAAAAAAAAAAAAAAAAAAAAAAAAAAAAAgD8AAAAAAAAAAAAAAAAAAIA/AAAAAAAAAAAAAAAAAACAPwAAAAAAAAAAAAAAAAAAAEAAAAAAAAAAAAAAAAAAAAAAAAAAAAAAAAAAAAAAAAAAAAAAAAAAAIA/AAAAAAAAgD8AAAAAAAAAAAAAAAAAAIA/AAAAAAAAAAAAAAAAAACAPwAAAAAAAAAAAAAAAAAAAAAAAAAAAAAAAAAAAAAAAAAAAAAAAAAAAAAAAAAAAAAAAAAAAAAAAAAAAAAAAAAAAAAAAAAAAAAAAAAAgD8AAAAAAAAAAAAAAAAAAAAAAACAPwAAAAAAAAAAAAAAAAAAAAAAAAAAAAAAAAAAgD8AAAAAAAAAAAAAgD8AAAAAAACAPwAAAAAAAAAAAAAAAAAAAAAAAIA/AAAAAAAAgD8AAAAAAAAAAAAAAAAAAAAAAAAAAAAAAAAAAAAAAAAAAAAAgD8AAAAAAAAAAAAAAAAAAAAAAAAAAAAAAAAAAAAAAAAAAAAAAAAAAAAAAACAPwAAAAAAAAAAAAAAAAAAAAAAAAAAAAAAAAAAAAAAAAAAAAAAAAAAAAAAAAAAAAAAAAAAAAAAAAAAAACAPwAAAAAAAAAAAAAAAAAAAAAAAAAAAACAPwAAgD8AAAAAAAAAAAAAAAAAAAAAAAAAAAAAAAAAAAAAAACAPwAAAAAAAIA/AAAAAAAAAAAAAAAAAAAAAAAAAAAAAAAAAAAAAAAAAAAAAAAAAAAAAAAAAAAAAAAAAAAAAAAAAAAAAAAAAAAAAAAAAAAAAAAAAAAAAAAAAAAAAAAAAAAAAAAAgD8AAAAAAACAPwAAAAAAAAAAAAAAAAAAAAAAAAAAAAAAAAAAAAAAAAAAAAAAAAAAAAAAAAAAAAAAAAAAAAAAAAAAAAAAAAAAAAAAAAAAAAAAAAAAAAAAAAAAAACAPwAAgD8AAAAAAAAAAAAAAAAAAAAAAACAPwAAAAAAAAAAAAAAAAAAAAAAAIA/AAAAAAAAAAAAAAAAAAAAAAAAAAAAAAAAAACAPwAAAAAAAAAAAAAAAAAAAAAAAAAAAAAAAAAAAAAAAAAAAAAAAAAAAAAAAAAAAAAAAAAAgD8AAIA/AAAAAAAAAAAAAAAAAAAAAAAAgD8AAAAAAAAAAAAAAAAAAAAAAAAAAAAAAAAAAAAAAAAAAAAAAAAAAAAAAAAAAAAAAAAAAAAAAAAAAAAAAAAAAAAAAACAPwAAgD8AAAAAAAAAAAAAAAAAAAAAAAAAAAAAAEAAAAAAAAAAAAAAgD8AAAAAAAAAAAAAAAAAAAAAAAAAAAAAAAAAAAAAAACAPwAAgD8AAAAAAAAAAAAAgD8AAAAAAAAAAAAAAAAAAAAAAAAAAAAAAAAAAAAAAAAAAAAAgD8AAAAAAAAAAAAAAAAAAAAAAAAAAAAAAAAAAAAAAAAAAAAAAAAAAAAAAAAAAAAAAAAAAAAAAAAAAAAAAAAAAAAAAAAAAAAAAAAAAIA/AACAPwAAAAAAAAAAAAAAAAAAAAAAAAAAAAAAAAAAAAAAAAAAAAAAAAAAAAAAAAAAAAAAAAAAAAAAAAAAAACAPwAAAAAAAAAAAAAAAAAAAAAAAAAAAAAAAAAAAAAAAAAAAAAAAAAAAAAAAAAAAAAAAAAAAAAAAAAAAACAPwAAAAAAAAAAAAAAAAAAAAAAAAAAAAAAAAAAAAAAAAAAAAAAAAAAAAAAAAAAAAAAAAAAAAAAAAAAAAAAAAAAAAAAAAAAAAAAAAAAAAAAAAAAAAAAAAAAAAAAAAAAAAAAAAAAAAAAAAAAAAAAAAAAAAAAAAAAAAAAAAAAAAAAAAAAAACAPwAAAAAAAAAAAAAAAAAAgD8AAAAAAAAAAAAAAAAAAAAAAAAAAAAAAAAAAAAAAACAPwAAAAAAAAAAAAAAAAAAAAAAAAAAAAAAAAAAAAAAAAAAAAAAAAAAAAAAAAAAAAAAAAAAAAAAAAAAAAAAAAAAAAAAAAAAAAAAAAAAAAAAAAAAAAAAAAAAgD8AAAAAAAAAAAAAQEAAAAAAAAAAAAAAAAAAAAAAAAAAAAAAgD8AAAAAAAAAAAAAAAAAAAAAAAAAAAAAAAAAAAAAAAAAAAAAAAAAAAAAAAAAAAAAAAAAAAAAAAAAAAAAAAAAAAAAAAAAAAAAAAAAAAAAAAAAAAAAAAAAAAAAAAAAAAAAAAAAAAAAAAAAAAAAAAAAAAAAAAAAAAAAAAAAAAAAAAAAAAAAAAAAAIA/AAAAAAAAAAAAAAAAAACAPwAAAAAAAAAAAAAAAAAAAAAAAAAAAACAPwAAAAAAAAAAAAAAAAAAAAAAAIA/AAAAAAAAAAAAAAAAAACAPwAAAAAAAAAAAACAPwAAAAAAAAAAAACAPwAAAAAAAAAAAAAAAAAAAAAAAAAAAAAAAAAAAAAAAAAAAAAAAAAAAEAAAAAAAAAAAAAAAAAAAAAAAAAAAAAAAAAAAIA/AAAAAAAAAAAAAAAAAAAAAAAAAAAAAAAAAAAAAAAAAAAAAAAAAACAPwAAAAAAAIA/AACAPwAAAAAAAAAAAAAAAAAAAAAAAAAAAAAAAAAAAAAAAAAAAAAAAAAAAAAAAAAAAAAAAAAAAAAAAAAAAAAAAAAAAAAAAAAAAAAAAAAAgD8AAAAAAACAPwAAAAAAAAAAAAAAAAAAAEAAAAAAAAAAAAAAAAAAAAAAAAAAAAAAAAAAAIA/AAAAAAAAAAAAAAAAAAAAAAAAAAAAAAAAAAAAAAAAgD8AAAAAAAAAAAAAAAAAAAAAAAAAAAAAAAAAAAAAAAAAAAAAgD8AAAAAAAAAAAAAAAAAAAAAAAAAAAAAAAAAAAAAAAAAAAAAgD8AAAAAAAAAAAAAAAAAAAAAAAAAAAAAgD8AAAAAAAAAAAAAAAAAAAAAAACAPwAAAAAAAAAAAAAAAAAAAAAAAAAAAAAAAAAAAAAAAAAAAAAAAAAAAAAAAIA/AAAAAAAAAAAAAAAAAAAAAAAAAAAAAIA/AACAPwAAAAAAAAAAAAAAAAAAAAAAAAAAAAAAAAAAAAAAAAAAAACAPwAAAAAAAAAAAAAAAAAAAAAAAAAAAACAPwAAAAAAAAAAAAAAAAAAAAAAAAAAAAAAAAAAAAAAAAAAAAAAAAAAAAAAAAAAAACAPwAAgD8AAAAAAAAAAAAAAAAAAIA/AAAAAAAAAAAAAAAAAAAAAAAAAAAAAAAAAAAAAAAAAAAAAAAAAAAAAAAAAAAAAAAAAAAAAAAAAAAAAAAAAAAAAAAAAAAAAAAAAAAAAAAAAAAAAIA/AAAAAAAAAAAAAABAAAAAAAAAAAAAAAAAAAAAAAAAAAAAAAAAAAAAAAAAAAAAAAAAAAAAAAAAAAAAAAAAAAAAAAAAAAAAAAAAAAAAAAAAAAAAAAAAAAAAAAAAAAAAAAAAAAAAAAAAAAAAAAAAAACAPwAAAAAAAAAAAAAAAAAAAAAAAAAAAAAAAAAAAAAAAAAAAAAAAAAAgD8AAAAAAAAAAAAAAAAAAAAAAAAAAAAAAAAAAAAAAAAAAAAAgD8AAAAAAAAAAAAAAAAAAAAAAAAAAAAAAAAAAAAAAACAPwAAgD8AAAAAAAAAAAAAAAAAAIA/AAAAAAAAAAAAAAAAAAAAAAAAAAAAAAAAAAAAAAAAAAAAAAAAAAAAAAAAAAAAAAAAAAAAAAAAAAAAAIA/AACAPwAAAAAAAAAAAAAAAAAAAAAAAAAAAACAPwAAAAAAAAAAAAAAQAAAAAAAAAAAAAAAAAAAAAAAAAAAAAAAAAAAAAAAAAAAAAAAAAAAAAAAAIA/AAAAAAAAAAAAAAAAAAAAAAAAAAAAAAAAAAAAAAAAAAAAAAAAAACAPwAAAAAAAAAAAAAAAAAAAAAAAAAAAAAAAAAAAAAAAAAAAAAAAAAAAAAAAAAAAAAAAAAAAAAAAAAAAAAAAAAAAAAAAIA/AACAPwAAAAAAAIA/AAAAAAAAgD8AAAAAAACAPwAAgD8AAAAAAAAAAAAAAAAAAAAAAACAPwAAAAAAAAAAAAAAAAAAgD8AAAAAAAAAAAAAAAAAAAAAAAAAAAAAAAAAAAAAAAAAAAAAAAAAAAAAAAAAAAAAAAAAAAAAAAAAAAAAAAAAAAAAAAAAAAAAAAAAAAAAAAAAAAAAAAAAAAAAAAAAAAAAAAAAAAAAAAAAAAAAAAAAAAAAAAAAAAAAAAAAAAAAAAAAAAAAgD8AAAAAAAAAAAAAAAAAAAAAAAAAAAAAAAAAAAAAAAAAAAAAAAAAAAAAAAAAAAAAAAAAAAAAAAAAAAAAAAAAAAAAAAAAAAAAgD8AAAAAAACAPwAAAAAAAAAAAAAAAAAAAAAAAAAAAAAAAAAAAAAAAAAAAAAAAAAAAAAAAAAAAACAPwAAAAAAAAAAAAAAAAAAAAAAAAAAAAAAAAAAAAAAAAAAAAAAAAAAAAAAAAAAAAAAAAAAAAAAAAAAAAAAAAAAAAAAAAAAAAAAAAAAgD8AAAAAAAAAAAAAAAAAAAAAAACAPwAAAAAAAAAAAAAAAAAAAAAAAAAAAAAAAAAAAAAAAAAAAAAAAAAAAAAAAAAAAAAAAAAAAAAAAAAAAAAAAAAAAAAAAAAAAAAAAAAAAAAAAAAAAACAPwAAAAAAAAAAAAAAAAAAAAAAAAAAAAAAAAAAAAAAAAAAAAAAAAAAAAAAAAAAAAAAAAAAAAAAAAAAAAAAAAAAAAAAAIA/AAAAAAAAAAAAAAAAAAAAAAAAAAAAAAAAAAAAAAAAAAAAAAAAAAAAAAAAAAAAAAAAAAAAAAAAgD8AAAAAAAAAAAAAAAAAAAAAAAAAAAAAAAAAAAAAAAAAAAAAAAAAAAAAAACAPwAAAAAAAAAAAAAAAAAAAAAAAAAAAAAAAAAAAAAAAAAAAAAAAAAAgD8AAAAAAAAAAAAAAAAAAIA/AAAAAAAAAAAAAAAAAAAAAAAAAAAAAAAAAAAAAAAAAAAAAAAAAAAAAAAAAAAAAAAAAAAAAAAAAAAAAAAAAAAAAAAAAAAAAAAAAAAAAAAAAAAAAAAAAAAAAAAAAAAAAAAAAAAAAAAAAAAAAAAAAAAAAAAAgD8AAAAAAAAAAAAAAAAAAAAAAAAAAAAAAAAAAAAAAAAAAAAAAAAAAAAAAAAAAAAAAAAAAAAAAAAAAAAAAAAAAAAAAAAAAAAAAEAAAAAAAAAAAAAAAAAAAAAAAAAAAAAAAAAAAAAAAAAAAAAAgD8AAAAAAAAAAAAAAAAAAAAAAAAAAAAAAAAAAAAAAAAAAAAAAAAAAAAAAAAAAAAAAAAAAAAAAAAAAAAAgD8AAAAAAAAAAAAAAAAAAAAAAAAAAAAAAAAAAAAAAAAAAAAAAAAAAAAAAAAAAAAAAAAAAAAAAACAPwAAAAAAAAAAAAAAAAAAAAAAAAAAAAAAAAAAAAAAAAAAAACAPwAAAAAAAAAAAAAAAAAAAAAAAAAAAAAAAAAAAAAAAAAAAAAAAAAAAAAAAAAAAAAAAAAAAAAAAAAAAAAAAAAAAAAAAAAAAAAAAAAAAAAAAAAAAAAAAAAAAAAAAAAAAAAAAAAAAAAAAAAAAAAAAAAAAAAAAAAAAAAAAAAAAAAAAAAAAAAAAAAAAAAAAAAAAAAAAAAAAAAAAAAAAAAAAAAAAAAAAAAAAACAPwAAAAAAAAAAAAAAAAAAAAAAAAAAAAAAAAAAAAAAAAAAAAAAAAAAAAAAAAAAAAAAAAAAAAAAAAAAAAAAAAAAAAAAAIA/AAAAAAAAAAAAAAAAAAAAAAAAAAAAAAAAAACAPwAAAAAAAAAAAAAAAAAAAAAAAAAAAAAAAAAAgD8AAAAAAAAAAAAAAAAAAAAAAAAAAAAAAAAAAAAAAAAAAAAAAAAAAAAAAAAAAAAAAAAAAAAAAAAAAAAAAAAAAAAAAACAPwAAAAAAAAAAAAAAAAAAAAAAAAAAAAAAAAAAAAAAAAAAAAAAAAAAAAAAAAAAAAAAAAAAAAAAAAAAAAAAAAAAAAAAAAAAAACAPwAAAAAAAAAAAAAAAAAAAAAAAAAAAAAAAAAAAAAAAIA/AAAAAAAAAAAAAAAAAAAAAAAAAAAAAAAAAAAAAAAAAAAAAAAAAAAAAAAAAAAAAAAAAAAAAAAAAAAAAAAAAAAAAAAAAAAAAAAAAAAAAAAAAAAAAAAAAAAAAAAAAAAAAAAAAAAAAAAAAAAAAAAAAAAAAAAAAAAAAAAAAAAAAAAAAAAAAAAAAAAAAAAAAAAAAAAAAACAPwAAAAAAAIA/AAAAAAAAAAAAAAAAAAAAAAAAAAAAAAAAAAAAAAAAAAAAAAAAAAAAAAAAAAAAAAAAAAAAAAAAAAAAAAAAAACAPwAAAAAAAAAAAAAAAAAAAAAAAAAAAAAAAAAAAAAAAAAAAAAAAAAAAAAAAAAAAAAAAAAAgD8AAIA/AAAAAAAAAAAAAAAAAAAAAAAAAAAAAAAAAAAAAAAAAAAAAAAAAAAAAAAAAAAAAAAAAAAAAAAAAAAAAAAAAAAAAAAAAAAAAAAAAAAAAAAAAAAAAAAAAAAAAAAAAAAAAAAAAAAAAAAAAAAAAAAAAAAAAAAAAAAAAAAAAAAAAAAAAAAAAAAAAAAAAAAAAAAAAAAAAAAAAAAAAAAAAIA/AAAAAAAAAAAAAAAAAAAAAAAAAAAAAIA/AAAAAAAAAAAAAAAAAAAAAAAAAAAAAAAAAAAAAAAAgD8AAAAAAAAAAAAAAAAAAAAAAAAAAAAAAAAAAAAAAAAAAAAAAAAAAIA/AAAAAAAAAAAAAAAAAACAPwAAAAAAAAAAAAAAAAAAAAAAAAAAAAAAAAAAAAAAAIA/AACAPwAAAAAAAAAAAAAAAAAAAAAAAAAAAAAAAAAAAAAAAAAAAAAAAAAAgD8AAAAAAAAAAAAAAAAAAAAAAAAAAAAAAAAAAAAAAAAAAAAAAAAAAAAAAAAAAAAAAAAAAAAAAAAAAAAAAAAAAAAAAAAAAAAAAAAAAAAAAAAAAAAAAAAAAAAAAAAAAAAAAAAAAAAAAAAAAAAAAAAAAAAAAAAAAAAAAAAAAAAAAAAAAAAAgD8AAIA/AACAPwAAAAAAAAAAAAAAAAAAgD8AAAAAAAAAAAAAAAAAAAAAAAAAAAAAAAAAAAAAAAAAAAAAAAAAAAAAAAAAAAAAAAAAAAAAAAAAAAAAgD8AAAAAAAAAAAAAAAAAAAAAAAAAAAAAAAAAAAAAAAAAAAAAAAAAAAAAAAAAAAAAAAAAAAAAAAAAAAAAAAAAAIA/AAAAAAAAgD8AAAAAAAAAAAAAAAAAAAAAAAAAAAAAAAAAAAAAAAAAAAAAAAAAAAAAAAAAAAAAAAAAAAAAAAAAAAAAAAAAAAAAAAAAAAAAAAAAAIA/AAAAAAAAAAAAAAAAAAAAAAAAAAAAAIA/AAAAAAAAAAAAAAAAAAAAAAAAAAAAAAAAAAAAAAAAAAAAAAAAAACAPwAAAAAAAAAAAAAAAAAAAAAAAAAAAAAAAAAAAAAAAAAAAAAAAAAAAAAAAAAAAAAAAAAAAAAAAAAAAAAAAAAAgD8AAAAAAAAAAAAAAAAAAAAAAAAAAAAAAAAAAAAAAAAAAAAAAAAAAAAAAAAAAAAAAAAAAAAAAAAAAAAAAAAAAAAAAAAAAAAAAAAAAAAAAAAAAAAAAAAAAAAAAAAAAAAAAAAAAAAAAAAAAAAAAAAAAAAAAAAAAAAAAAAAAAAAAACAPwAAAAAAAAAAAAAAAAAAAAAAAAAAAAAAAAAAAAAAAIA/AAAAAAAAAAAAAAAAAAAAAAAAAAAAAAAAAAAAAAAAAAAAAAAAAAAAAAAAgD8AAAAAAAAAAAAAAAAAAAAAAAAAAAAAgD8AAAAAAAAAAAAAAAAAAAAAAAAAAAAAAAAAAAAAAAAAAAAAAAAAAAAAAAAAAAAAAAAAAAAAAAAAAAAAAAAAAAAAAAAAAAAAAAAAAAAAAAAAAAAAAAAAAAAAAAAAAAAAAAAAAAAAAAAAAAAAAAAAAAAAAAAAAAAAAAAAAAAAAAAAAAAAAAAAAAAAAAAAAAAAAAAAAAAAAAAAAAAAAAAAAAAAAAAAAAAAAAAAAAAAAAAAAAAAAAAAAAAAAAAAAAAAAAAAAIA/AACAPwAAAAAAAAAAAAAAAAAAAAAAAAAAAAAAAAAAAAAAAAAAAAAAAAAAAAAAAAAAAAAAAAAAAAAAAIA/AAAAAAAAAAAAAAAAAAAAAAAAAAAAAAAAAAAAAAAAAAAAAAAAAAAAAAAAAAAAAAAAAAAAAAAAAAAAAAAAAAAAAAAAAAAAAAAAAAAAAAAAAAAAAAAAAAAAAAAAAAAAAIA/AAAAAAAAgD8AAAAAAAAAAAAAAAAAAAAAAACAPwAAAAAAAAAAAAAAAAAAAAAAAAAAAACAPwAAAAAAAAAAAAAAAAAAAAAAAAAAAAAAAAAAAAAAAAAAAAAAAAAAAAAAAAAAAAAAAAAAAAAAAAAAAACAPwAAgD8AAAAAAAAAAAAAAAAAAAAAAAAAAAAAAAAAAAAAAAAAAAAAAAAAAAAAAACAPwAAAAAAAAAAAACAPwAAAAAAAAAAAAAAAAAAAAAAAAAAAACAPwAAAAAAAAAAAAAAAAAAgD8AAAAAAAAAAAAAAAAAAIA/AAAAAAAAAAAAAAAAAAAAAAAAAAAAAIA/AAAAAAAAAAAAAAAAAAAAAAAAAAAAAAAAAAAAAAAAAAAAAAAAAAAAAAAAAAAAAAAAAAAAAAAAAAAAAAAAAAAAAAAAAAAAAAAAAAAAAAAAAAAAAAAAAAAAAAAAAAAAAAAAAAAAAAAAAAAAAAAAAAAAAAAAAAAAAAAAAACAPwAAAAAAAAAAAAAAAAAAAAAAAAAAAAAAAAAAAAAAAAAAAAAAAAAAAAAAAAAAAACAPwAAAAAAAAAAAAAAAAAAAAAAAAAAAACAPwAAAAAAAAAAAAAAAAAAgD8AAAAAAAAAAAAAAAAAAAAAAACAPwAAAAAAAAAAAAAAAAAAAAAAAAAAAAAAAAAAAAAAAAAAAAAAAAAAAAAAAIA/AAAAAAAAAAAAAAAAAAAAAAAAAAAAAAAAAAAAAAAAgD8AAAAAAAAAQAAAgD8AAAAAAAAAAAAAgD8AAAAAAAAAAAAAAAAAAAAAAAAAAAAAgD8AAAAAAAAAAAAAgD8AAAAAAACAPwAAAAAAAAAAAAAAAAAAAAAAAAAAAACAPwAAAAAAAAAAAAAAAAAAAAAAAAAAAAAAAAAAAAAAAAAAAAAAAAAAAAAAAAAAAAAAAAAAAAAAAAAAAAAAAAAAAAAAAAAAAAAAAAAAAAAAAAAAAACAPwAAAAAAAAAAAAAAAAAAgD8AAIA/AAAAAAAAAAAAAIA/AAAAAAAAAAAAAAAAAAAAAAAAAAAAAAAAAACAPwAAAAAAAAAAAAAAAAAAAAAAAAAAAAAAAAAAAAAAAIA/AAAAAAAAAAAAAABAAAAAAAAAAAAAAAAAAAAAAAAAAAAAAEBAAAAAAAAAAAAAAAAAAAAAAAAAAAAAAIA/AAAAAAAAgD8AAAAAAAAAAAAAAAAAAAAAAAAAAAAAAAAAAAAAAACAPwAAAAAAAAAAAAAAAAAAAAAAAAAAAAAAAAAAAAAAAAAAAAAAAAAAgD8AAAAAAAAAAAAAAAAAAAAAAAAAAAAAAAAAAAAAAAAAAAAAAAAAAIA/AAAAAAAAAAAAAAAAAAAAAAAAAAAAAAAAAACAPwAAAAAAAAAAAAAAAAAAAAAAAAAAAAAAAAAAAAAAAAAAAAAAAAAAAAAAAAAAAAAAAAAAAAAAAAAAAACAPwAAAAAAAAAAAAAAAAAAAAAAAIA/AAAAAAAAgD8AAAAAAAAAAAAAAAAAAAAAAAAAAAAAAAAAAAAAAAAAAAAAgD8AAAAAAAAAAAAAAAAAAAAAAAAAAAAAAAAAAAAAAAAAAAAAAAAAAAAAAAAAAAAAAAAAAAAAAAAAAAAAAAAAAAAAAAAAAAAAAAAAAAAAAAAAAAAAAAAAAIA/AAAAAAAAgD8AAAAAAAAAAAAAAAAAAAAAAAAAAAAAAAAAAAAAAAAAAAAAAAAAAAAAAAAAAAAAAAAAAAAAAAAAAAAAAAAAAAAAAAAAAAAAAAAAAAAAAAAAAAAAAAAAAAAAAAAAAAAAAAAAAAAAAAAAAAAAAAAAAAAAAAAAAAAAAAAAAAAAAAAAAAAAAAAAAAAAAAAAQAAAAAAAAIA/AAAAAAAAgD8AAAAAAAAAAAAAAAAAAAAAAAAAAAAAAAAAAAAAAAAAAAAAAAAAAAAAAAAAAAAAAAAAAAAAAAAAAAAAAAAAAAAAAAAAAAAAAAAAAAAAAAAAAAAAgD8AAAAAAACAPwAAAAAAAAAAAAAAAAAAAAAAAAAAAAAAAAAAAAAAAAAAAAAAAAAAAAAAAAAAAAAAAAAAAAAAAAAAAACAPwAAAAAAAAAAAAAAAAAAAAAAAIA/AAAAAAAAAAAAAAAAAAAAAAAAAAAAAAAAAAAAAAAAAAAAAAAAAAAAAAAAAAAAAAAAAAAAAAAAAAAAAAAAAACAPwAAgD8AAAAAAACAPwAAgD8AAAAAAAAAAAAAAAAAAAAAAAAAAAAAAAAAAAAAAAAAAAAAAAAAAAAAAAAAAAAAAAAAAAAAAAAAAAAAAAAAAAAAAAAAAAAAAAAAAAAAAAAAAAAAAAAAAAAAAAAAAAAAAAAAAIA/AAAAAAAAAAAAAAAAAAAAAAAAAAAAAAAAAAAAAAAAAAAAAAAAAAAAAAAAAAAAAAAAAAAAAAAAAAAAAAAAAACAPwAAgD8AAAAAAAAAAAAAAAAAAIA/AAAAAAAAAAAAAAAAAAAAAAAAAAAAAAAAAAAAAAAAAAAAAAAAAAAAAAAAAAAAAAAAAAAAAAAAAAAAAAAAAAAAAAAAAAAAAAAAAAAAAAAAAAAAAAAAAAAAAAAAAAAAAAAAAAAAAAAAAAAAAAAAAAAAAAAAgD8AAAAAAACAPwAAAAAAAAAAAAAAAAAAAAAAAAAAAAAAAAAAAAAAAAAAAAAAAAAAAAAAAAAAAAAAAAAAAAAAAAAAAAAAAAAAAAAAAAAAAAAAAAAAAAAAAAAAAAAAAAAAAAAAAAAAAAAAAAAAAAAAAAAAAAAAAAAAAAAAAAAAAAAAAAAAAAAAAAAAAAAAAAAAAAAAAAAAAAAAAAAAAAAAAAAAAAAAAAAAAAAAAAAAAAAAAAAAAAAAAAAAAAAAAAAAAAAAAAAAAAAAAAAAAAAAAAAAAAAAAAAAAAAAAAAAAAAAAAAAAAAAAIA/AAAAAAAAAAAAAAAAAAAAAAAAAAAAAAAAAAAAAAAAgD8AAIA/AAAAAAAAAAAAAAAAAAAAAAAAAAAAAAAAAAAAAAAAAAAAAAAAAAAAAAAAAAAAAAAAAAAAAAAAAAAAAIA/AAAAAAAAAAAAAIA/AAAAAAAAAAAAAIA/AAAAAAAAAAAAAAAAAAAAAAAAAAAAAAAAAAAAAAAAgD8AAAAAAAAAAAAAAAAAAAAAAAAAAAAAAAAAAAAAAAAAAAAAAAAAAIA/AAAAAAAAAAAAAAAAAAAAAAAAAAAAAAAAAAAAAAAAAAAAAAAAAAAAAAAAAAAAAAAAAACAPwAAAAAAAAAAAAAAAAAAAAAAAAAAAAAAAAAAAAAAAAAAAAAAAAAAAAAAAAAAAACAPwAAAAAAAAAAAAAAAAAAAAAAAAAAAAAAAAAAAAAAAAAAAAAAAAAAAAAAAAAAAAAAAAAAAAAAAAAAAAAAAAAAAAAAAAAAAAAAAAAAAAAAAAAAAAAAAAAAAAAAAAAAAAAAAAAAAAAAAIA/AAAAAAAAAAAAAAAAAAAAAAAAAAAAAAAAAAAAAAAAAAAAAAAAAAAAAAAAAAAAAAAAAAAAAAAAAAAAAIA/AAAAAAAAAAAAAAAAAAAAAAAAAAAAAAAAAAAAAAAAAAAAAAAAAAAAAAAAAAAAAAAAAAAAAAAAAAAAAAAAAAAAAAAAAAAAAAAAAAAAAAAAAAAAAAAAAAAAAAAAgD8AAAAAAACAPwAAAAAAAAAAAAAAAAAAAAAAAAAAAAAAAAAAAAAAAAAAAAAAAAAAAAAAAAAAAAAAAAAAAAAAAAAAAAAAAAAAAAAAAIA/AAAAAAAAgD8AAAAAAAAAAAAAAAAAAAAAAAAAAAAAAAAAAIA/AAAAAAAAAAAAAAAAAAAAAAAAAAAAAIA/AAAAAAAAAAAAAAAAAACAPwAAAAAAAAAAAAAAAAAAAAAAAAAAAACAPwAAAAAAAAAAAAAAAAAAAAAAAAAAAAAAAAAAAAAAAAAAAAAAAAAAAAAAAIA/AAAAAAAAAAAAAAAAAAAAAAAAAAAAAIA/AAAAAAAAAAAAAAAAAAAAAAAAAAAAAAAAAAAAAAAAAAAAAAAAAAAAAAAAAAAAAAAAAAAAAAAAAAAAAAAAAAAAAAAAAAAAAAAAAACAPwAAAAAAAAAAAAAAAAAAAAAAAAAAAAAAAAAAAAAAAAAAAAAAAAAAAAAAAAAAAAAAAAAAgD8AAAAAAAAAAAAAAAAAAAAAAAAAAAAAAAAAAIA/AAAAAAAAAAAAAIA/AAAAAAAAAAAAAAAAAAAAAAAAAAAAAAAAAAAAAAAAAAAAAAAAAAAAAAAAAAAAAAAAAAAAAAAAAAAAAAAAAAAAAAAAAAAAAAAAAAAAAAAAAAAAAAAAAAAAAAAAAAAAAAAAAAAAAAAAAAAAAAAAAAAAAAAAAAAAAAAAAAAAAAAAgD8AAAAAAAAAAAAAgD8AAAAAAAAAAAAAAAAAAAAAAACAPwAAAAAAAAAAAAAAAAAAAAAAAAAAAAAAAAAAAAAAAAAAAAAAAAAAAAAAAAAAAAAAAAAAAAAAAAAAAAAAAAAAAAAAAAAAAACAPwAAAAAAAAAAAAAAAAAAAAAAAAAAAAAAAAAAAAAAAAAAAAAAAAAAAAAAAAAAAAAAAAAAAAAAAAAAAAAAAAAAAAAAAIA/AAAAAAAAAAAAAAAAAAAAAAAAAAAAAAAAAAAAAAAAAAAAAIA/AAAAAAAAAAAAAAAAAAAAAAAAAAAAAAAAAAAAAAAAAAAAAAAAAACAPwAAAAAAAAAAAAAAAAAAAAAAAAAAAAAAAAAAAAAAAAAAAAAAAAAAAAAAAAAAAAAAAAAAAAAAAAAAAAAAAAAAAAAAAAAAAAAAAAAAAAAAAAAAAAAAAAAAAAAAAAAAAAAAAAAAAAAAAAAAAAAAAAAAAAAAAAAAAAAAAAAAAAAAAAAAAAAAAAAAAAAAAAAAAAAAAAAAAAAAAAAAAAAAAAAAAAAAAIA/AAAAAAAAAAAAAAAAAAAAAAAAAAAAAAAAAAAAAAAAAAAAAAAAAAAAAAAAAAAAAAAAAAAAAAAAgD8AAAAAAAAAAAAAAAAAAAAAAAAAAAAAgD8AAAAAAACAPwAAAAAAAAAAAACAPwAAAAAAAAAAAAAAAAAAAAAAAAAAAAAAAAAAAAAAAAAAAAAAAAAAAAAAAAAAAAAAAAAAAAAAAAAAAAAAAAAAAAAAAAAAAAAAAAAAAAAAAAAAAAAAAAAAAAAAAAAAAAAAAAAAgD8AAAAAAAAAAAAAAAAAAIA/AAAAAAAAAAAAAAAAAACAPwAAAAAAAAAAAAAAAAAAAAAAAAAAAAAAAAAAAAAAAAAAAAAAAAAAAAAAAAAAAAAAAAAAAAAAAAAAAAAAAAAAAAAAAAAAAAAAAAAAAAAAAAAAAAAAAAAAAAAAAAAAAAAAAAAAAAAAAAAAAAAAAAAAgD8AAAAAAAAAAAAAAAAAAAAAAAAAAAAAAAAAAAAAAACAPwAAAAAAAAAAAAAAAAAAAAAAAAAAAAAAAAAAAAAAAAAAAAAAAAAAAAAAAAAAAAAAAAAAAAAAAAAAAAAAAAAAAAAAAAAAAAAAAAAAAAAAAAAAAAAAAAAAgD8AAAAAAAAAAAAAAAAAAAAAAAAAAAAAAEAAAAAAAAAAAAAAAAAAAAAAAAAAAAAAAAAAAAAAAAAAAAAAAAAAAAAAAAAAAAAAAAAAAAAAAAAAAAAAAAAAAAAAAAAAAAAAAAAAAAAAAAAAAAAAAAAAAAAAAAAAAAAAAAAAAAAAAAAAAAAAAAAAAAAAAAAAAAAAAAAAAAAAAAAAAAAAAAAAAAAAAAAAAAAAAAAAAAAAAAAAAAAAAAAAAAAAAAAAAAAAAAAAAAAAAAAAAAAAAAAAAAAAAAAAAAAAAAAAAAAAAAAAAAAAAAAAAAAAAAAAAAAAAAAAAAAAAAAAAAAAAAAAAAAAAAAAAAAAAAAAAAAAAAAAAAAAAAAAAAAAAACAPwAAAAAAAAAAAACAPwAAAAAAAAAAAAAAAAAAAAAAAIA/AAAAAAAAAAAAAAAAAAAAAAAAAAAAAAAAAAAAAAAAAAAAAAAAAAAAAAAAAAAAAAAAAAAAAAAAAAAAAAAAAAAAAAAAAAAAAAAAAAAAAAAAgD8AAAAAAAAAAAAAAAAAAIA/AAAAAAAAAAAAAAAAAAAAAAAAgD8AAAAAAAAAAAAAAAAAAAAAAAAAAAAAAAAAAAAAAAAAAAAAAAAAAAAAAAAAAAAAAAAAAAAAAAAAAAAAAAAAAAAAAAAAAAAAgD8AAAAAAAAAAAAAAAAAAABAAAAAAAAAAAAAAAAAAAAAAAAAAAAAAAAAAAAAAAAAAAAAAAAAAAAAAAAAAAAAAAAAAAAAAAAAAAAAAAAAAAAAAAAAAAAAAAAAAAAAAAAAAAAAAAAAAAAAAAAAAAAAAAAAAAAAAAAAAAAAAAAAAAAAAAAAAAAAAAAAAAAAAAAAAAAAAAAAAAAAAAAAAAAAAAAAAAAAAAAAAAAAAAAAAAAAAAAAAAAAAAAAAAAAAAAAAAAAAAAAAAAAAAAAAAAAAAAAAAAAAAAAAAAAAAAAAAAAAAAAAAAAAAAAAAAAAAAAAAAAAAAAAAAAAAAAAAAAAIA/AACAPwAAAAAAAAAAAAAAAAAAAAAAAAAAAAAAAAAAAAAAAAAAAAAAAAAAAAAAAIA/AAAAAAAAAAAAAAAAAAAAAAAAAAAAAAAAAAAAAAAAAAAAAAAAAAAAAAAAAAAAAAAAAAAAAAAAgD8AAAAAAAAAAAAAgD8AAAAAAAAAAAAAAAAAAAAAAAAAAAAAAAAAAIA/AAAAAAAAAAAAAAAAAAAAAAAAAAAAAIA/AAAAAAAAAAAAAAAAAAAAAAAAAAAAAAAAAAAAAAAAAAAAAAAAAAAAAAAAAAAAAAAAAAAAAAAAAAAAAIA/AAAAAAAAAAAAAAAAAAAAAAAAAAAAAIA/AAAAAAAAAAAAAAAAAAAAAAAAAAAAAAAAAAAAAAAAgD8AAIA/AAAAAAAAgD8AAAAAAAAAAAAAgD8AAAAAAACAPwAAAAAAAAAAAAAAAAAAAAAAAAAAAAAAAAAAAAAAAIA/AAAAAAAAAAAAAAAAAAAAAAAAAAAAAAAAAAAAAAAAAAAAAAAAAAAAAAAAAAAAAAAAAAAAAAAAAAAAAAAAAAAAAAAAAAAAAAAAAAAAAAAAAAAAAAAAAACAPwAAAAAAAAAAAAAAAAAAAAAAAAAAAAAAAAAAAAAAAAAAAAAAAAAAAAAAAAAAAAAAAAAAAAAAAIA/AAAAAAAAgD8AAAAAAAAAAAAAAAAAAAAAAAAAAAAAAAAAAAAAAAAAAAAAAAAAAAAAAACAPwAAAAAAAAAAAAAAAAAAAAAAAAAAAACAPwAAgD8AAAAAAAAAAAAAAAAAAIA/AAAAAAAAAAAAAAAAAACAPwAAAAAAAAAAAAAAAAAAAAAAAAAAAAAAAAAAAAAAAAAAAAAAAAAAAAAAAAAAAAAAAAAAAAAAAAAAAAAAAAAAgD8AAAAAAAAAAAAAAAAAAAAAAAAAAAAAAAAAAAAAAAAAAAAAAAAAAAAAAAAAAAAAAAAAAAAAAAAAAAAAAAAAAIA/AAAAAAAAAAAAAIA/AAAAAAAAAAAAAAAAAAAAAAAAAAAAAAAAAAAAAAAAAAAAAAAAAAAAAAAAAAAAAIA/AAAAAAAAAAAAAAAAAAAAAAAAAAAAAAAAAAAAAAAAAAAAAAAAAAAAAAAAAAAAAAAAAAAAAAAAAAAAAAAAAAAAAAAAAAAAAAAAAAAAAAAAAAAAAAAAAAAAAAAAAAAAAAAAAAAAAAAAAAAAAAAAAAAAAAAAAAAAAAAAAAAAAAAAAAAAAAAAAAAAAAAAAAAAAAAAAAAAAAAAAAAAAAAAAACAPwAAAAAAAABAAAAAAAAAAAAAAAAAAAAAAAAAgD8AAAAAAAAAAAAAAAAAAIA/AAAAAAAAAAAAAAAAAAAAAAAAAAAAAAAAAACAPwAAAAAAAAAAAAAAAAAAAAAAAAAAAAAAAAAAAAAAAAAAAAAAAAAAAAAAAAAAAAAAAAAAAAAAAAAAAAAAAAAAAAAAAAAAAAAAAAAAAAAAAAAAAAAAAAAAAAAAAAAAAAAAAAAAAAAAAAAAAAAAAAAAAAAAAAAAAAAAAAAAAAAAAAAAAAAAAAAAAAAAAAAAAACAPwAAAAAAAAAAAAAAAAAAAAAAAAAAAAAAAAAAAAAAAIA/AAAAAAAAAAAAAAAAAAAAAAAAAAAAAIA/AAAAAAAAAAAAAAAAAAAAAAAAAAAAAAAAAACAPwAAAAAAAAAAAAAAAAAAAAAAAAAAAAAAAAAAAAAAAAAAAAAAAAAAAAAAAAAAAAAAAAAAAAAAAAAAAAAAAAAAAAAAAAAAAAAAAAAAAAAAAAAAAAAAAAAAAAAAAAAAAAAAAAAAAAAAAAAAAAAAAAAAAAAAAAAAAAAAAAAAAAAAAAAAAAAAAAAAAAAAAAAAAAAAAAAAAAAAAAAAAAAAAAAAAAAAAAAAAAAAAAAAAAAAAAAAAAAAAAAAAAAAAAAAAAAAAAAAAAAAAAAAAAAAAAAAAAAAAAAAAACAPwAAAAAAAAAAAAAAAAAAAAAAAAAAAAAAAAAAAAAAAAAAAAAAAAAAAAAAAAAAAAAAAAAAAAAAAAAAAAAAAAAAAAAAAAAAAAAAAAAAgD8AAAAAAAAAAAAAAAAAAAAAAAAAAAAAAAAAAAAAAAAAAAAAAAAAAIA/AAAAAAAAAAAAAAAAAAAAAAAAAAAAAAAAAAAAAAAAAAAAAAAAAAAAAAAAAAAAAAAAAAAAAAAAAAAAAABAAAAAAAAAAAAAAAAAAAAAAAAAAAAAAAAAAAAAAAAAAAAAAAAAAAAAAAAAAAAAAAAAAAAAAAAAAAAAAAAAAAAAAAAAAAAAAAAAAAAAAAAAAAAAAAAAAAAAAAAAAAAAAAAAAAAAAAAAAAAAAAAAAAAAAAAAAAAAAAAAAAAAAAAAAAAAAAAAAAAAAAAAAAAAAAAAAAAAAAAAAAAAAAAAAAAAAAAAAAAAAAAAAAAAAAAAAAAAAAAAAAAAAAAAAAAAAAAAAAAAAAAAAAAAAAAAAAAAAAAAAAAAAAAAAAAAAAAAAAAAAAAAAAAAAAAAAAAAAAAAAAAAAAAAAAAAAAAAAAAAAAAAAAAAAAAAAAAAAAAAAAAAAAAAAAAAAAAAAAAAAAAAAAAAAAAAAAAAAAAAAAAAAAAAAAAAAAAAAAAAAAAAAAAAAAAAAAAAAAAAgD8AAAAAAAAAAAAAAAAAAAAAAAAAAAAAAAAAAIA/AAAAAAAAAAAAAAAAAAAAAAAAAAAAAAAAAAAAAAAAAAAAAAAAAAAAAAAAAAAAAAAAAAAAAAAAAAAAAAAAAAAAAAAAAAAAAAAAAAAAAAAAAAAAAAAAAAAAAAAAAAAAAIA/AAAAAAAAAAAAAAAAAAAAAAAAAAAAAAAAAAAAAAAAAAAAAAAAAAAAAAAAAAAAAAAAAACAPwAAgD8AAAAAAAAAAAAAAAAAAIA/AAAAAAAAAAAAAIA/AAAAAAAAAAAAAAAAAAAAAAAAAAAAAAAAAAAAAAAAAAAAAAAAAAAAAAAAAAAAAAAAAAAAAAAAAAAAAAAAAAAAAAAAAAAAAAAAAACAPwAAAAAAAAAAAAAAAAAAAAAAAAAAAAAAAAAAAAAAAIA/AAAAAAAAAAAAAAAAAAAAAAAAAAAAAAAAAAAAAAAAAAAAAAAAAAAAAAAAAAAAAAAAAAAAAAAAAAAAAAAAAAAAAAAAAAAAAAAAAACAPwAAAAAAAAAAAAAAAAAAAAAAAAAAAAAAAAAAAAAAAAAAAACAPwAAAAAAAIA/AAAAAAAAAAAAAAAAAAAAAAAAAAAAAAAAAAAAAAAAAAAAAAAAAAAAAAAAAAAAAAAAAAAAAAAAAAAAAAAAAAAAAAAAAAAAAAAAAAAAAAAAAAAAAAAAAAAAAAAAAAAAAAAAAAAAAAAAAAAAAAAAAAAAAAAAAAAAAAAAAAAAAAAAAAAAAAAAAAAAAAAAgD8AAIA/AAAAAAAAgD8AAAAAAAAAAAAAAAAAAAAAAAAAAAAAAAAAAAAAAAAAAAAAAAAAAAAAAAAAAAAAAAAAAAAAAAAAAAAAAAAAAAAAAAAAAAAAAAAAAAAAAAAAAAAAAAAAAAAAAAAAAAAAAAAAAAAAAACAPwAAAAAAAAAAAAAAAAAAAAAAAAAAAAAAAAAAAAAAAAAAAAAAAAAAAAAAAAAAAAAAAAAAgD8AAAAAAAAAAAAAAAAAAAAAAAAAAAAAAAAAAAAAAAAAAAAAAAAAAAAAAAAAAAAAAAAAAAAAAACAPwAAAAAAAAAAAAAAAAAAAAAAAAAAAAAAAAAAAAAAAAAAAAAAAAAAAAAAAIA/AAAAAAAAAAAAAIA/AAAAAAAAAAAAAAAAAAAAQAAAAAAAAAAAAAAAAAAAAAAAAAAAAAAAAAAAAAAAAAAAAAAAAAAAAAAAAAAAAAAAAAAAAAAAAAAAAAAAAAAAAAAAAAAAAACAPwAAAAAAAAAAAAAAAAAAAAAAAAAAAAAAAAAAAAAAAIA/AAAAAAAAAAAAAAAAAAAAAAAAAAAAAAAAAAAAAAAAAAAAAAAAAAAAAAAAAAAAAAAAAAAAAAAAAAAAAAAAAAAAAAAAAAAAAAAAAAAAAAAAAAAAAIA/AAAAAAAAAAAAAAAAAAAAAAAAAAAAAAAAAAAAAAAAAAAAAAAAAAAAAAAAAAAAAAAAAAAAAAAAAAAAAAAAAACAPwAAAAAAAAAAAAAAAAAAAAAAAAAAAAAAAAAAAAAAAAAAAAAAAAAAAAAAAAAAAAAAAAAAAAAAAAAAAAAAAAAAAAAAAAAAAACAPwAAgD8AAAAAAAAAAAAAAAAAAAAAAAAAAAAAAAAAAAAAAAAAAAAAAAAAAIA/AAAAAAAAAAAAAAAAAAAAAAAAAAAAAAAAAACAPwAAAAAAAAAAAAAAAAAAAAAAAAAAAAAAAAAAAAAAAAAAAAAAAAAAAAAAAAAAAAAAAAAAAAAAAIA/AAAAAAAAAAAAAAAAAAAAAAAAAAAAAAAAAAAAAAAAAAAAAAAAAACAPwAAAAAAAAAAAAAAAAAAAAAAAAAAAAAAAAAAAAAAAAAAAACAPwAAAAAAAIA/AAAAAAAAAAAAAAAAAAAAAAAAAAAAAAAAAAAAAAAAAAAAAAAAAAAAAAAAAAAAAAAAAAAAAAAAAAAAAAAAAAAAAAAAAAAAAAAAAAAAAAAAAAAAAAAAAAAAAAAAAAAAAAAAAAAAAAAAAAAAAAAAAAAAAAAAAAAAAAAAAAAAAAAAAAAAAAAAAAAAAAAAgD8AAAAAAAAAAAAAAAAAAAAAAAAAAAAAAAAAAIA/AAAAAAAAAAAAAAAAAACAPwAAgD8AAAAAAAAAAAAAAAAAAAAAAAAAAAAAAAAAAAAAAAAAAAAAAAAAAAAAAAAAAAAAAEAAAAAAAAAAAAAAAAAAAAAAAAAAAAAAAAAAAAAAAAAAAAAAAAAAAAAAAAAAAAAAAAAAAAAAAAAAAAAAAAAAAAAAAAAAAAAAAAAAAAAAAACAPwAAAAAAAAAAAAAAAAAAAAAAAAAAAAAAAAAAAAAAAIA/AAAAAAAAAAAAAAAAAAAAAAAAAAAAAAAAAAAAAAAAAAAAAAAAAACAPwAAgD8AAAAAAAAAAAAAAAAAAIA/AAAAAAAAAAAAAAAAAAAAAAAAAAAAAAAAAAAAAAAAAAAAAAAAAACAPwAAAAAAAAAAAAAAAAAAAAAAAAAAAAAAAAAAAAAAAAAAAAAAAAAAAAAAAAAAAAAAAAAAAAAAAAAAAAAAAAAAAAAAAAAAAAAAAAAAAAAAAAAAAAAAAAAAAAAAAAAAAAAAAAAAAAAAAAAAAAAAAAAAAAAAAAAAAAAAAAAAAAAAAAAAAAAAAAAAAAAAAAAAAAAAAAAAAAAAAAAAAAAAAAAAAAAAAAAAAAAAAAAAAAAAAAAAAAAAAAAAAAAAAAAAAAAAAAAAAAAAAAAAAAAAAAAAgD8AAAAAAAAAAAAAAAAAAAAAAAAAAAAAAAAAAAAAAACAPwAAAAAAAAAAAAAAAAAAAAAAAAAAAAAAAAAAAAAAAAAAAAAAAAAAAAAAAAAAAAAAAAAAAAAAAAAAAAAAAAAAAAAAAAAAAAAAAAAAAAAAAAAAAAAAAAAAAAAAAAAAAAAAAAAAAAAAAAAAAAAAAAAAAAAAAAAAAAAAAAAAAAAAAAAAAAAAAAAAAAAAAAAAAAAAAAAAAAAAAAAAAAAAAAAAAAAAAAAAAAAAAAAAAAAAAAAAAAAAAAAAAAAAAAAAAAAAAAAAAAAAAAAAAAAAAAAAAAAAAAAAAAAAAAAAAAAAAAAAAAAAAAAAAAAAAAAAAAAAAAAAAAAAAAAAAAAAAAAAAAAAAAAAAACAPwAAAAAAAAAAAAAAAAAAgD8AAIA/AAAAAAAAAAAAAAAAAAAAAAAAAAAAAAAAAAAAAAAAAAAAAAAAAAAAAAAAAAAAAAAAAAAAAAAAAAAAAAAAAAAAAAAAAAAAAAAAAAAAAAAAAAAAAIA/AAAAAAAAAAAAAAAAAACAPwAAAAAAAAAAAAAAAAAAAAAAAIA/AAAAAAAAgD8AAAAAAACAPwAAAAAAAAAAAAAAAAAAAAAAAAAAAAAAAAAAAAAAAAAAAAAAAAAAAAAAAAAAAAAAAAAAAAAAAAAAAAAAAAAAAAAAAAAAAAAAAAAAAAAAAAAAAAAAAAAAgD8AAAAAAAAAAAAAAAAAAAAAAAAAAAAAAAAAAAAAAAAAAAAAAAAAAAAAAAAAAAAAAAAAAAAAAAAAAAAAgD8AAAAAAAAAAAAAAAAAAIA/AAAAAAAAAAAAAAAAAAAAAAAAAAAAAAAAAAAAAAAAgD8AAAAAAAAAAAAAAAAAAAAAAAAAAAAAAAAAAAAAAAAAAAAAAAAAAAAAAAAAAAAAAAAAAAAAAAAAAAAAAAAAAAAAAAAAAAAAAAAAAAAAAAAAAAAAAAAAAAAAAAAAAAAAAAAAAAAAAAAAAAAAAAAAAAAAAAAAAAAAAAAAAAAAAAAAAAAAAAAAAAAAAAAAAAAAAAAAAAAAAAAAAAAAAAAAAAAAAAAAAAAAAAAAAAAAAAAAAAAAAAAAAAAAAAAAAAAAAAAAAAAAAACAPwAAAAAAAAAAAAAAAAAAgD8AAAAAAAAAAAAAAAAAAIA/AAAAAAAAAAAAAAAAAAAAAAAAAAAAAAAAAAAAAAAAAAAAAAAAAAAAAAAAAAAAAAAAAAAAAAAAAAAAAAAAAAAAAAAAAAAAAAAAAAAAAAAAAAAAAAAAAAAAAAAAAAAAAAAAAAAAAAAAAAAAAAAAAAAAAAAAAAAAAAAAAAAAAAAAAAAAAAAAAACAPwAAAAAAAAAAAAAAAAAAAAAAAAAAAAAAAAAAAAAAAAAAAAAAAAAAAAAAAAAAAAAAAAAAAAAAAAAAAAAAAAAAAAAAAAAAAAAAAAAAAAAAAAAAAAAAAAAAAAAAAAAAAAAAAAAAAAAAAAAAAAAAAAAAAAAAAAAAAAAAAAAAAAAAAAAAAAAAAAAAAAAAAAAAAACAPwAAAAAAAAAAAAAAAAAAgD8AAAAAAAAAAAAAAAAAAAAAAAAAAAAAAAAAAAAAAAAAAAAAAAAAAAAAAAAAAAAAAAAAAAAAAAAAAAAAAAAAAAAAAAAAAAAAAAAAAAAAAAAAAAAAAAAAAAAAAAAAAAAAAAAAAAAAAAAAAAAAAAAAAAAAAAAAAAAAAAAAAAAAAACAPwAAAAAAAAAAAAAAAAAAAAAAAIA/AAAAAAAAAAAAAIA/AAAAAAAAAAAAAAAAAAAAAAAAAAAAAAAAAAAAAAAAAAAAAAAAAAAAAAAAAAAAAAAAAACAPwAAAAAAAAAAAAAAAAAAAAAAAIA/AAAAAAAAAAAAAAAAAAAAAAAAAAAAAAAAAAAAAAAAAAAAAIA/AAAAAAAAAAAAAAAAAAAAAAAAAAAAAAAAAAAAAAAAAAAAAAAAAAAAAAAAAAAAAAAAAAAAAAAAAAAAAAAAAAAAAAAAAAAAAAAAAACAPwAAAAAAAAAAAAAAAAAAgD8AAAAAAAAAAAAAAAAAAIA/AAAAAAAAAAAAAAAAAAAAAAAAAAAAAAAAAACAPwAAAAAAAIA/AAAAAAAAAAAAAAAAAAAAAAAAgD8AAAAAAAAAAAAAAAAAAAAAAAAAAAAAAAAAAAAAAAAAAAAAAAAAAAAAAAAAAAAAAAAAAAAAAAAAAAAAAAAAAAAAAAAAAAAAAAAAAAAAAAAAAAAAAAAAAAAAAAAAAAAAAAAAAAAAAACAPwAAAAAAAAAAAAAAAAAAAAAAAAAAAAAAAAAAAAAAAAAAAAAAAAAAAAAAAAAAAAAAAAAAAAAAAAAAAAAAAAAAAAAAAAAAAAAAAAAAAAAAAAAAAAAAAAAAAAAAAAAAAAAAAAAAAAAAAAAAAAAAAAAAAAAAAAAAAAAAAAAAAAAAAAAAAAAAAAAAgD8AAAAAAAAAAAAAAAAAAAAAAAAAAAAAAAAAAAAAAAAAAAAAAAAAAAAAAAAAAAAAAAAAAAAAAAAAAAAAAAAAAAAAAAAAAAAAAAAAAIA/AAAAAAAAAAAAAAAAAAAAAAAAAAAAAAAAAAAAAAAAAAAAAAAAAAAAAAAAAAAAAAAAAACAPwAAgD8AAAAAAAAAAAAAAAAAAAAAAAAAAAAAAAAAAAAAAAAAAAAAAAAAAAAAAAAAAAAAgD8AAAAAAAAAAAAAAAAAAAAAAAAAAAAAgD8AAAAAAAAAAAAAAAAAAAAAAAAAAAAAAAAAAAAAAAAAAAAAAAAAAAAAAAAAAAAAAAAAAIA/AAAAAAAAAAAAAIA/AAAAAAAAAAAAAAAAAAAAAAAAAAAAAAAAAAAAAAAAAAAAAAAAAAAAAAAAAAAAAAAAAAAAAAAAAAAAAAAAAAAAAAAAAAAAAAAAAAAAAAAAAAAAAAAAAAAAAAAAAAAAAAAAAAAAAAAAAAAAAAAAAAAAAAAAAAAAAAAAAAAAAAAAAAAAAAAAAAAAAAAAAAAAAAAAAAAAAAAAAAAAAIA/AAAAAAAAAAAAAAAAAACAPwAAAAAAAIA/AAAAAAAAAAAAAIA/AAAAAAAAAAAAAAAAAACAPwAAgD8AAAAAAAAAAAAAAAAAAAAAAAAAAAAAAAAAAAAAAAAAAAAAAAAAAAAAAAAAAAAAgD8AAAAAAAAAAAAAAAAAAIA/AAAAAAAAAAAAAIA/AAAAAAAAAAAAAAAAAAAAAAAAAAAAAAAAAAAAAAAAgD8AAAAAAACAPwAAAAAAAAAAAAAAAAAAAAAAAAAAAAAAAAAAAAAAAIA/AACAPwAAAAAAAAAAAAAAAAAAAAAAAAAAAAAAAAAAAAAAAAAAAAAAAAAAAAAAAIA/AAAAAAAAAAAAAAAAAAAAAAAAAAAAAAAAAAAAAAAAAAAAAAAAAAAAAAAAAAAAAAAAAAAAAAAAAAAAAAAAAAAAAAAAAAAAAAAAAAAAAAAAAAAAAAAAAACAPwAAAAAAAAAAAAAAAAAAAAAAAIA/AACAPwAAAAAAAABAAAAAAAAAAAAAAAAAAAAAAAAAAAAAAAAAAAAAAAAAAAAAAAAAAAAAAAAAAAAAAAAAAAAAAAAAAAAAAAAAAAAAAAAAAAAAAAAAAAAAAAAAAAAAAAAAAAAAAAAAgD8AAAAAAAAAAAAAAAAAAAAAAAAAAAAAAAAAAAAAAACAPwAAAAAAAAAAAAAAAAAAAAAAAAAAAAAAAAAAAAAAAAAAAAAAAAAAAAAAAAAAAAAAAAAAAAAAAABAAAAAAAAAAAAAAAAAAAAAAAAAAAAAAAAAAAAAAAAAAAAAAAAAAACAPwAAAAAAAIA/AAAAAAAAAAAAAIA/AAAAAAAAAAAAAAAAAAAAAAAAAAAAAAAAAAAAAAAAAAAAAAAAAAAAAAAAAAAAAAAAAAAAAAAAAAAAAAAAAAAAAAAAAAAAAAAAAAAAAAAAAAAAAAAAAAAAAAAAAAAAAAAAAAAAAAAAAAAAAAAAAAAAAAAAAAAAAAAAAAAAAAAAgD8AAAAAAAAAAAAAAAAAAAAAAAAAAAAAAAAAAAAAAAAAAAAAgD8AAAAAAAAAAAAAAAAAAAAAAAAAAAAAAAAAAAAAAAAAAAAAAAAAAAAAAAAAAAAAAAAAAAAAAACAPwAAAAAAAAAAAAAAAAAAAAAAAAAAAAAAAAAAAAAAAAAAAAAAAAAAAAAAAAAAAAAAAAAAAAAAAAAAAAAAAAAAAAAAAAAAAAAAAAAAAAAAAAAAAAAAAAAAAAAAAAAAAAAAAAAAAAAAAAAAAAAAAAAAAAAAAAAAAACAPwAAAAAAAAAAAAAAAAAAAAAAAAAAAAAAAAAAAEAAAAAAAACAPwAAAAAAAAAAAAAAAAAAgD8AAAAAAAAAAAAAAAAAAAAAAAAAAAAAAAAAAAAAAAAAAAAAAAAAAAAAAAAAAAAAAAAAAAAAAACAPwAAAAAAAAAAAAAAAAAAgD8AAAAAAAAAAAAAAAAAAAAAAAAAAAAAAAAAAAAAAAAAAAAAAAAAAAAAAAAAAAAAgD8AAIA/AAAAAAAAAAAAAAAAAAAAAAAAAAAAAAAAAAAAAAAAAAAAAAAAAAAAAAAAAAAAAAAAAAAAAAAAAAAAAAAAAAAAAAAAAAAAAAAAAAAAAAAAAAAAAAAAAAAAAAAAAAAAAAAAAAAAAAAAAAAAAAAAAAAAAAAAAAAAAAAAAAAAAAAAAAAAAAAAAAAAAAAAAAAAAAAAAAAAAAAAAAAAAAAAAAAAAAAAAAAAAAAAAAAAAAAAAAAAAAAAAAAAAAAAAAAAAAAAAAAAAAAAAAAAAAAAAAAAAAAAAAAAAAAAAAAAAAAAAAAAAIA/AAAAAAAAAAAAAAAAAAAAAAAAAAAAAAAAAAAAAAAAAAAAAAAAAAAAAAAAAAAAAAAAAAAAAAAAAAAAAAAAAAAAAAAAAAAAAAAAAAAAAAAAAAAAAAAAAAAAAAAAAAAAAAAAAAAAAAAAAAAAAAAAAACAPwAAAAAAAAAAAAAAAAAAAAAAAAAAAAAAAAAAAAAAAAAAAAAAAAAAAAAAAAAAAAAAAAAAAAAAAAAAAAAAAAAAAAAAAIA/AAAAAAAAAAAAAAAAAAAAAAAAAAAAAAAAAAAAAAAAAAAAAAAAAAAAAAAAAAAAAAAAAAAAAAAAAAAAAAAAAAAAAAAAAAAAAAAAAAAAAAAAAAAAAAAAAAAAAAAAAAAAAAAAAAAAAAAAAAAAAAAAAAAAAAAAAAAAAAAAAAAAAAAAAAAAAAAAAACAPwAAAAAAAAAAAAAAAAAAAAAAAAAAAAAAAAAAAAAAAAAAAAAAAAAAAAAAAAAAAAAAAAAAAAAAAAAAAAAAAAAAAAAAAAAAAAAAAAAAAAAAAAAAAAAAAAAAAAAAAAAAAAAAAAAAAAAAAAAAAAAAAAAAAAAAAAAAAAAAAAAAAAAAAAAAAAAAAAAAAAAAAAAAAAAAAAAAAAAAAAAAAAAAAAAAAAAAAAAAAAAAAAAAAAAAAAAAAAAAAAAAgD8AAAAAAAAAAAAAAAAAAAAAAAAAAAAAAAAAAAAAAAAAAAAAAAAAAAAAAAAAAAAAAAAAAAAAAAAAAAAAAAAAAAAAAAAAAAAAAAAAAAAAAAAAAAAAAAAAAAAAAAAAAAAAAAAAAAAAAAAAAAAAAAAAAAAAAAAAAAAAAAAAAAAAAACAPwAAAAAAAAAAAAAAAAAAAAAAAIA/AACAPwAAgD8AAAAAAAAAAAAAAAAAAAAAAAAAAAAAAAAAAAAAAAAAAAAAAAAAAAAAAAAAAAAAAAAAAAAAAAAAAAAAAAAAAAAAAAAAAAAAAAAAAAAAAAAAAAAAAAAAAAAAAAAAAAAAgD8AAAAAAAAAAAAAAAAAAAAAAAAAAAAAAAAAAAAAAAAAAAAAAAAAAAAAAAAAAAAAAAAAAAAAAAAAAAAAAAAAAAAAAAAAAAAAAAAAAAAAAAAAAAAAAAAAAAAAAAAAAAAAAAAAAAAAAAAAAAAAAAAAAAAAAAAAAAAAAAAAAAAAAAAAAAAAAAAAAAAAAACAPwAAAAAAAAAAAAAAAAAAAAAAAAAAAAAAAAAAAAAAAAAAAACAPwAAAAAAAAAAAAAAAAAAAEAAAAAAAAAAAAAAgD8AAAAAAAAAAAAAAAAAAIA/AAAAAAAAAAAAAAAAAAAAAAAAAAAAAAAAAAAAAAAAAAAAAAAAAAAAQAAAAAAAAAAAAAAAAAAAAAAAAAAAAAAAAAAAAAAAAIA/AAAAAAAAAAAAAAAAAAAAAAAAAAAAAAAAAAAAAAAAAAAAAAAAAAAAAAAAAAAAAAAAAAAAAAAAgD8AAAAAAAAAAAAAAAAAAAAAAAAAAAAAAAAAAAAAAAAAAAAAgD8AAAAAAACAPwAAAAAAAAAAAAAAAAAAAAAAAIA/AAAAAAAAAAAAAAAAAAAAAAAAAAAAAAAAAAAAAAAAAAAAAAAAAAAAAAAAAAAAAAAAAAAAAAAAAAAAAAAAAAAAAAAAAAAAAAAAAAAAAAAAAAAAAAAAAACAPwAAAAAAAAAAAAAAAAAAAAAAAAAAAAAAAAAAAAAAAAAAAAAAAAAAAAAAAAAAAAAAAAAAgD8AAAAAAACAPwAAAAAAAAAAAACAPwAAAAAAAAAAAAAAAAAAgD8AAAAAAAAAAAAAAAAAAAAAAACAPwAAAAAAAAAAAAAAAAAAAAAAAAAAAAAAAAAAAAAAAAAAAAAAAAAAAAAAAAAAAAAAAAAAAAAAAAAAAAAAAAAAAAAAAAAAAAAAAAAAAAAAAAAAAAAAAAAAAAAAAAAAAAAAAAAAAAAAAAAAAAAAAAAAAAAAAAAAAAAAAAAAAAAAAAAAAAAAAAAAAAAAAAAAAAAAAAAAAAAAAIA/AAAAAAAAAAAAAAAAAACAPwAAAAAAAAAAAAAAAAAAAAAAAAAAAAAAAAAAAAAAAAAAAAAAAAAAAAAAAAAAAAAAAAAAAAAAAAAAAAAAAAAAAAAAAAAAAAAAAAAAAAAAAAAAAAAAAAAAAAAAAIA/AAAAAAAAAAAAAAAAAAAAAAAAAAAAAAAAAAAAAAAAAAAAAAAAAAAAAAAAgD8AAAAAAAAAAAAAgD8AAAAAAAAAAAAAAAAAAAAAAAAAQAAAAAAAAAAAAAAAAAAAAAAAAAAAAAAAAAAAAAAAAAAAAAAAAAAAAAAAAAAAAAAAAAAAAAAAAAAAAAAAAAAAAAAAAAAAAAAAAAAAAAAAAAAAAAAAAAAAAAAAAAAAAAAAAAAAAAAAAAAAAAAAAAAAAAAAAAAAAAAAAAAAAAAAAAAAAAAAAAAAAAAAAAAAAAAAAAAAAAAAAAAAAAAAAAAAAAAAAAAAAAAAAAAAAAAAAAAAAAAAAAAAAAAAAAAAAAAAAAAAAAAAAAAAAAAAAAAAAAAAAAAAAAAAAAAAAAAAAAAAAAAAAAAAAAAAAAAAAAAAAAAAAAAAAAAAAAAAAAAAAAAAAAAAAAAAAAAAgD8AAAAAAAAAAAAAAAAAAAAAAAAAAAAAAAAAAAAAAAAAAAAAAAAAAAAAAAAAAAAAAAAAAAAAAAAAAAAAAAAAAAAAAAAAAAAAAAAAAAAAAAAAAAAAAAAAAAAAAACAPwAAAAAAAAAAAAAAAAAAAAAAAAAAAAAAAAAAAAAAAAAAAAAAAAAAAAAAAAAAAAAAAAAAAAAAAIA/AAAAAAAAAAAAAAAAAAAAAAAAAAAAAAAAAAAAAAAAAAAAAAAAAAAAAAAAAAAAAAAAAAAAAAAAAAAAAAAAAACAPwAAAAAAAAAAAAAAAAAAAAAAAAAAAAAAAAAAAAAAAAAAAAAAAAAAAAAAAAAAAAAAAAAAgD8AAIA/AAAAAAAAgD8AAAAAAAAAAAAAAAAAAAAAAAAAAAAAAAAAAAAAAAAAAAAAAAAAAAAAAAAAAAAAAAAAAAAAAAAAAAAAAAAAAAAAAAAAAAAAgD8AAAAAAAAAAAAAAAAAAAAAAAAAAAAAAAAAAAAAAAAAAAAAAAAAAAAAAAAAAAAAAAAAAAAAAAAAAAAAAAAAAIA/AACAPwAAAAAAAAAAAAAAAAAAAAAAAAAAAAAAAAAAAAAAAAAAAAAAAAAAAAAAAAAAAAAAAAAAAAAAAAAAAAAAAAAAAAAAAAAAAAAAAAAAAAAAAAAAAAAAAAAAAAAAAAAAAAAAAAAAAAAAAAAAAAAAAAAAAAAAAAAAAAAAAAAAgD8AAAAAAAAAAAAAAAAAAAAAAAAAAAAAAAAAAAAAAAAAAAAAAAAAAAAAAAAAAAAAAAAAAAAAAAAAAAAAAAAAAAAAAAAAAAAAgD8AAAAAAAAAAAAAAAAAAAAAAAAAAAAAgD8AAAAAAAAAAAAAAAAAAAAAAACAPwAAAAAAAAAAAAAAAAAAAAAAAAAAAAAAAAAAAAAAAAAAAAAAAAAAAAAAAAAAAAAAAAAAAAAAAAAAAAAAAAAAAAAAAAAAAAAAAAAAAAAAAAAAAAAAAAAAAAAAAAAAAAAAAAAAAAAAAAAAAAAAAAAAAAAAAAAAAAAAAAAAgD8AAAAAAAAAAAAAgD8AAAAAAAAAAAAAAAAAAAAAAAAAAAAAAAAAAAAAAAAAAAAAAAAAAAAAAAAAAAAAAAAAAAAAAAAAAAAAAAAAAAAAAACAPwAAAAAAAAAAAAAAAAAAAAAAAAAAAAAAAAAAgD8AAAAAAAAAAAAAAAAAAAAAAAAAAAAAAAAAAAAAAAAAAAAAAAAAAAAAAAAAAAAAAAAAAAAAAAAAAAAAAAAAAAAAAAAAAAAAAAAAAAAAAAAAAAAAAAAAAIA/AAAAAAAAgD8AAAAAAAAAAAAAAAAAAAAAAAAAAAAAAAAAAAAAAACAPwAAAAAAAIA/AAAAAAAAAAAAAAAAAAAAAAAAgD8AAIA/AAAAAAAAAAAAAAAAAAAAAAAAAAAAAAAAAAAAAAAAgD8AAAAAAAAAAAAAAAAAAAAAAAAAAAAAAAAAAAAAAAAAAAAAAAAAAAAAAAAAAAAAgD8AAAAAAAAAAAAAAAAAAAAAAAAAAAAAAAAAAAAAAAAAAAAAAAAAAAAAAAAAAAAAAAAAAAAAAAAAAAAAAAAAAAAAAAAAAAAAAAAAAAAAAAAAAAAAAAAAAAAAAACAPwAAAAAAAAAAAAAAAAAAAAAAAAAAAAAAAAAAAAAAAIA/AAAAAAAAAAAAAIA/AAAAAAAAAAAAAAAAAAAAAAAAAAAAAAAAAAAAAAAAAAAAAIA/AAAAAAAAAAAAAAAAAAAAAAAAgD8AAAAAAAAAAAAAAAAAAAAAAAAAAAAAAAAAAAAAAAAAAAAAAAAAAAAAAAAAAAAAAAAAAAAAAAAAQAAAAAAAAAAAAAAAAAAAAAAAAAAAAAAAAAAAAAAAAAAAAAAAAAAAAAAAAAAAAAAAAAAAAAAAAAAAAAAAAAAAgD8AAAAAAAAAAAAAAAAAAAAAAAAAAAAAAAAAAAAAAAAAAAAAAAAAAAAAAAAAAAAAgD8AAIA/AAAAAAAAAAAAAAAAAAAAAAAAAAAAAAAAAAAAAAAAAAAAAAAAAAAAAAAAAAAAAAAAAAAAAAAAAAAAAAAAAAAAAAAAgD8AAAAAAAAAAAAAAAAAAAAAAACAPwAAAAAAAAAAAAAAAAAAAAAAAAAAAAAAAAAAAAAAAAAAAAAAAAAAAAAAAAAAAAAAAAAAAAAAAAAAAAAAAAAAAAAAAAAAAAAAAAAAAAAAAAAAAAAAAAAAAAAAAIA/AAAAAAAAAAAAAAAAAAAAAAAAAAAAAAAAAAAAAAAAAAAAAAAAAAAAAAAAAAAAAAAAAAAAAAAAAAAAAAAAAAAAAAAAAAAAAAAAAAAAAAAAAAAAAAAAAACAPwAAAAAAAAAAAAAAAAAAAAAAAAAAAAAAAAAAAAAAAAAAAAAAAAAAgD8AAAAAAAAAAAAAAAAAAAAAAAAAAAAAAAAAAAAAAACAPwAAAAAAAAAAAAAAAAAAAAAAAAAAAAAAAAAAAAAAAAAAAAAAAAAAAAAAAAAAAAAAAAAAAAAAAAAAAAAAAAAAAAAAAAAAAAAAAAAAAAAAAAAAAAAAAAAAAAAAAAAAAAAAAAAAAAAAAAAAAAAAAAAAAAAAAAAAAAAAAAAAAAAAAAAAAAAAAAAAAAAAAAAAAAAAAAAAAAAAAAAAAAAAAAAAAAAAAAAAAAAAAAAAAAAAAAAAAAAAAAAAAAAAAAAAAAAAAAAAAAAAAAAAAAAAAAAAAAAAAAAAAAAAAAAAAAAAAAAAAAAAAAAAAAAAAIA/AAAAAAAAAAAAAIA/AAAAAAAAAAAAAAAAAAAAAAAAAAAAAAAAAAAAAAAAAAAAAAAAAAAAAAAAAAAAAAAAAAAAAAAAAAAAAAAAAACAPwAAAAAAAAAAAAAAAAAAAAAAAAAAAAAAAAAAAAAAAAAAAACAPwAAAAAAAAAAAAAAAAAAAAAAAAAAAAAAAAAAAAAAAAAAAAAAAAAAAAAAAAAAAAAAAAAAAAAAAAAAAAAAAAAAAAAAAAAAAAAAAAAAAAAAAAAAAACAPwAAAAAAAAAAAAAAAAAAAAAAAAAAAAAAAAAAAAAAAAAAAAAAAAAAAAAAAAAAAAAAAAAAAAAAAAAAAAAAAAAAAAAAAAAAAAAAAAAAAAAAAAAAAAAAAAAAAAAAAAAAAAAAAAAAAAAAAAAAAAAAAAAAAAAAAAAAAAAAAAAAAAAAAAAAAAAAAAAAAAAAAAAAAAAAAAAAAAAAAAAAAAAAAAAAAAAAAAAAAAAAAAAAAAAAAAAAAACAPwAAAAAAAAAAAAAAAAAAAAAAAAAAAAAAAAAAAAAAAIA/AAAAAAAAAAAAAAAAAAAAAAAAAAAAAAAAAAAAAAAAAAAAAAAAAAAAAAAAAAAAAAAAAAAAAAAAAAAAAAAAAAAAAAAAAAAAAAAAAAAAAAAAAAAAAAAAAAAAAAAAAAAAAAAAAAAAAAAAAAAAAAAAAAAAAAAAAAAAAAAAAAAAAAAAAAAAAAAAAAAAAAAAAAAAAAAAAAAAAAAAAAAAAAAAAAAAAAAAAAAAAAAAAAAAAAAAAAAAAAAAAAAAAAAAAAAAAAAAAAAAAAAAAAAAAAAAAAAAAAAAAAAAAAAAAACAPwAAAAAAAAAAAAAAAAAAAAAAAAAAAACAPwAAgD8AAAAAAAAAAAAAAAAAAAAAAAAAAAAAAAAAAAAAAAAAAAAAAAAAAAAAAAAAAAAAAAAAAAAAAAAAAAAAAAAAAAAAAAAAAAAAAAAAAAAAAAAAAAAAAAAAAAAAAAAAAAAAAAAAAAAAAAAAAAAAAAAAAAAAAAAAAAAAAAAAAAAAAAAAAAAAgD8AAAAAAAAAAAAAAAAAAAAAAAAAAAAAAAAAAAAAAAAAAAAAAAAAAAAAAAAAAAAAAAAAAAAAAAAAAAAAAAAAAAAAAAAAAAAAAAAAAAAAAAAAAAAAgD8AAAAAAAAAAAAAAAAAAAAAAAAAAAAAAAAAAAAAAAAAAAAAAAAAAAAAAAAAAAAAAAAAAAAAAAAAAAAAAAAAAAAAAAAAAAAAAAAAAAAAAAAAAAAAAAAAAAAAAAAAAAAAAAAAAAAAAAAAAAAAAAAAAAAAAAAAAAAAAAAAAAAAAAAAAAAAAAAAAAAAAAAAAAAAgD8AAAAAAAAAAAAAAAAAAAAAAAAAAAAAAAAAAAAAAAAAAAAAgD8AAAAAAAAAAAAAAAAAAAAAAAAAAAAAAAAAAAAAAAAAAAAAAAAAAAAAAAAAAAAAAAAAAAAAAAAAAAAAAAAAAAAAAAAAAAAAAAAAAAAAAAAAAAAAAAAAAAAAAAAAAAAAAAAAAAAAAAAAAAAAAAAAAAAAAAAAAAAAAAAAAAAAAAAAAAAAAAAAAAAAAAAAAAAAAAAAAAAAAAAAAAAAAAAAAAAAAAAAQAAAAAAAAAAAAAAAAAAAAAAAAAAAAAAAAAAAgD8AAAAAAAAAAAAAAAAAAAAAAAAAAAAAAAAAAAAAAAAAAAAAAAAAAAAAAAAAAAAAAAAAAAAAAAAAAAAAgD8AAAAAAAAAAAAAAAAAAAAAAAAAAAAAAAAAAAAAAAAAAAAAAAAAAAAAAACAPwAAAAAAAAAAAAAAAAAAAAAAAAAAAAAAAAAAAAAAAAAAAAAAAAAAAAAAAAAAAAAAAAAAAAAAAAAAAAAAAAAAAAAAAAAAAAAAAAAAAAAAAAAAAAAAAAAAAAAAAAAAAAAAAAAAAAAAAAAAAACAPwAAAAAAAIA/AAAAAAAAAAAAAAAAAAAAAAAAAAAAAAAAAAAAAAAAAAAAAAAAAAAAAAAAAAAAAAAAAAAAAAAAAAAAAAAAAAAAAAAAAAAAAAAAAAAAAAAAAAAAAAAAAAAAAAAAAAAAAAAAAAAAAAAAAAAAAAAAAAAAAAAAAAAAAAAAAAAAAAAAAAAAAAAAAAAAAAAAAAAAAAAAAAAAAAAAAAAAAAAAAAAAAAAAAAAAAAAAAAAAAAAAAAAAAAAAAAAAAAAAAAAAAAAAAAAAAAAAAAAAAAAAAAAAAAAAAAAAAIA/AAAAAAAAAAAAAAAAAAAAAAAAAAAAAAAAAAAAAAAAAAAAAAAAAAAAAAAAAAAAAAAAAAAAAAAAAAAAAAAAAACAPwAAAAAAAAAAAAAAAAAAAAAAAAAAAAAAAAAAAAAAAAAAAAAAAAAAAAAAAAAAAAAAAAAAAAAAAAAAAAAAAAAAAAAAAAAAAAAAAAAAAAAAAAAAAAAAAAAAgD8AAAAAAAAAAAAAAAAAAAAAAAAAAAAAAAAAAIA/AAAAAAAAAAAAAAAAAAAAAAAAAAAAAAAAAAAAAAAAAAAAAIA/AACAPwAAAAAAAAAAAAAAAAAAAAAAAAAAAAAAAAAAAAAAAAAAAAAAAAAAAAAAAAAAAACAPwAAAAAAAAAAAAAAAAAAAAAAAAAAAAAAAAAAAAAAAAAAAAAAAAAAAAAAAAAAAAAAAAAAAAAAAAAAAAAAAAAAAAAAAAAAAAAAAAAAAAAAAAAAAAAAAAAAAAAAAAAAAAAAAAAAAAAAAIA/AAAAAAAAAAAAAAAAAAAAAAAAAAAAAAAAAAAAAAAAAAAAAAAAAAAAAAAAAAAAAAAAAAAAAAAAAAAAAAAAAAAAAAAAAAAAAAAAAAAAAAAAAAAAAAAAAAAAAAAAAAAAAAAAAAAAAAAAAAAAAAAAAAAAAAAAAAAAAAAAAAAAAAAAAAAAAAAAAAAAAAAAgD8AAAAAAACAPwAAAAAAAAAAAAAAAAAAAAAAAAAAAACAPwAAAAAAAIA/AAAAAAAAAAAAAAAAAAAAAAAAAAAAAAAAAAAAAAAAAAAAAAAAAAAAAAAAAAAAAIA/AAAAAAAAAAAAAAAAAAAAAAAAAAAAAAAAAAAAAAAAAAAAAAAAAAAAAAAAAAAAAAAAAAAAAAAAAAAAAAAAAAAAAAAAAAAAAAAAAAAAAAAAAAAAAAAAAAAAAAAAAAAAAAAAAAAAAAAAAAAAAIA/AAAAAAAAAAAAAIA/AACAPwAAAAAAAAAAAAAAAAAAAAAAAAAAAAAAAAAAAAAAAAAAAACAPwAAAAAAAAAAAACAPwAAAAAAAAAAAAAAAAAAAAAAAIA/AAAAAAAAAAAAAAAAAAAAAAAAAAAAAAAAAAAAAAAAAAAAAIA/AAAAAAAAAAAAAAAAAAAAAAAAAAAAAAAAAAAAAAAAAAAAAAAAAACAPwAAAAAAAAAAAAAAAAAAAAAAAAAAAAAAAAAAAAAAAIA/AAAAAAAAAAAAAAAAAAAAAAAAAAAAAIA/AAAAAAAAAAAAAAAAAAAAAAAAgD8AAAAAAAAAAAAAAAAAAAAAAAAAAAAAAAAAAAAAAAAAAAAAAAAAAAAAAAAAAAAAAAAAAAAAAAAAAAAAAAAAAAAAAAAAAAAAAAAAAAAAAAAAAAAAAAAAAAAAAAAAAAAAAAAAAAAAAAAAAAAAAAAAAAAAAAAAAAAAAAAAAAAAAAAAAAAAAAAAAAAAAAAAAAAAAAAAAAAAAAAAAAAAAAAAAAAAAAAAAAAAAAAAAAAAAAAAAAAAAAAAAAAAAACAPwAAAAAAAAAAAAAAAAAAAAAAAAAAAACAPwAAAAAAAAAAAAAAAAAAAAAAAAAAAAAAAAAAAAAAAAAAAAAAAAAAAAAAAAAAAAAAAAAAAAAAAAAAAAAAAAAAAAAAAAAAAACAPwAAAAAAAAAAAAAAAAAAAAAAAAAAAAAAAAAAAAAAAIA/AAAAAAAAAAAAAAAAAAAAAAAAAAAAAAAAAACAPwAAAAAAAAAAAAAAAAAAAAAAAAAAAAAAAAAAAAAAAAAAAAAAAAAAAAAAAAAAAAAAAAAAAAAAAAAAAAAAAAAAAAAAAAAAAAAAAAAAAAAAAAAAAAAAAAAAAAAAAAAAAAAAAAAAAAAAAAAAAAAAAAAAAAAAAAAAAAAAAAAAAAAAAAAAAAAAAAAAAAAAAAAAAAAAAAAAAAAAAAAAAAAAAAAAAAAAAAAAAAAAAAAAAAAAAAAAAAAAAAAAAAAAAAAAAAAAAAAAAAAAAAAAAAAAAAAAAAAAAAAAAACAPwAAAAAAAAAAAAAAAAAAAAAAAAAAAAAAAAAAAAAAAAAAAAAAAAAAAAAAAAAAAAAAAAAAAAAAAAAAAAAAAAAAAAAAAAAAAAAAAAAAgD8AAAAAAAAAAAAAAAAAAIA/AAAAAAAAAAAAAAAAAAAAAAAAgD8AAAAAAAAAAAAAAAAAAAAAAAAAAAAAAAAAAAAAAAAAAAAAAAAAAAAAAACAPwAAAAAAAAAAAACAPwAAAAAAAAAAAAAAAAAAAAAAAAAAAAAAAAAAgD8AAAAAAAAAAAAAAAAAAAAAAAAAAAAAAAAAAAAAAAAAAAAAAAAAAIA/AAAAAAAAAAAAAAAAAAAAAAAAAAAAAAAAAAAAAAAAgD8AAAAAAAAAAAAAAAAAAAAAAAAAAAAAAAAAAAAAAAAAAAAAAAAAAAAAAAAAAAAAAAAAAAAAAAAAAAAAAAAAAAAAAAAAAAAAAAAAAAAAAAAAAAAAAAAAAAAAAAAAAAAAAAAAAAAAAACAPwAAAAAAAAAAAAAAAAAAAAAAAAAAAAAAAAAAAAAAAIA/AAAAAAAAAAAAAAAAAAAAAAAAAAAAAAAAAAAAAAAAAAAAAIA/AAAAAAAAAAAAAAAAAAAAAAAAAAAAAAAAAAAAAAAAgD8AAAAAAAAAAAAAAAAAAAAAAAAAAAAAAAAAAAAAAAAAAAAAAAAAAAAAAAAAAAAAAAAAAAAAAAAAAAAAAAAAAAAAAAAAAAAAAEAAAAAAAAAAAAAAAAAAAAAAAAAAAAAAAAAAAAAAAAAAAAAAAAAAAAAAAAAAAAAAgD8AAAAAAAAAAAAAAAAAAAAAAAAAAAAAAAAAAAAAAAAAAAAAAAAAAAAAAACAPwAAAAAAAAAAAAAAAAAAAAAAAAAAAAAAAAAAAAAAAAAAAAAAAAAAAAAAAAAAAAAAAAAAAAAAAAAAAAAAAAAAAAAAAAAAAAAAAAAAAAAAAAAAAAAAAAAAAAAAAAAAAACAPwAAAAAAAAAAAAAAAAAAAAAAAAAAAAAAAAAAgD8AAAAAAAAAAAAAAAAAAAAAAAAAAAAAAAAAAAAAAAAAAAAAAAAAAAAAAACAPwAAAAAAAAAAAAAAAAAAAAAAAAAAAAAAAAAAgD8AAAAAAAAAAAAAgD8AAAAAAAAAAAAAAAAAAIA/AAAAAAAAAAAAAAAAAAAAAAAAAAAAAIA/AAAAAAAAAAAAAAAAAAAAAAAAAAAAAAAAAAAAAAAAAAAAAAAAAAAAAAAAAAAAAAAAAAAAAAAAAAAAAAAAAAAAAAAAAAAAAAAAAAAAAAAAAAAAAAAAAAAAAAAAAAAAAAAAAAAAAAAAAAAAAAAAAAAAAAAAgD8AAAAAAAAAAAAAAAAAAAAAAAAAAAAAAAAAAAAAAAAAAAAAAAAAAAAAAAAAAAAAAAAAAAAAAAAAAAAAAAAAAAAAAAAAAAAAAAAAAAAAAAAAAAAAAAAAAAAAAAAAAAAAAAAAAAAAAAAAAAAAAAAAAAAAAAAAAAAAAAAAAAAAAAAAAAAAAAAAAAAAAAAAAAAAAAAAAAAAAAAAAAAAAAAAAAAAAAAAAAAAAAAAAAAAAAAAAAAAAAAAAAAAAAAAAAAAAAAAAAAAAAAAAAAAAAAAAAAAAAAAAAAAAAAAAAAAAAAAAAAAAAAAAAAAAAAAAAAAAAAAAAAAAAAAAAAAAAAAAAAAAAAAAAAAAAAAAAAAAAAAAAAAAAAAAAAAAAAAAAAAAAAAAAAAAAAAAAAAAAAAAAAAAAAAAAAAAAAAAAAAAAAAAAAAAAAAAAAAAAAAAAAAAAAAAAAAAAAAAAAAAAAAAAAAAAAAAAAAAAAAAAAAAAAAAAAAAAAAAAAAAAAAAAAAAAAAAAAAAAAAAAAAAAAAAAAAAACAPwAAAAAAAAAAAAAAAAAAgD8AAAAAAAAAAAAAAAAAAAAAAAAAAAAAAAAAAAAAAACAPwAAAAAAAAAAAAAAAAAAAAAAAAAAAAAAAAAAAAAAAAAAAAAAAAAAAAAAAAAAAAAAAAAAAAAAAAAAAAAAAAAAAAAAAAAAAACAPwAAAAAAAAAAAAAAAAAAAAAAAAAAAAAAAAAAAAAAAIA/AAAAAAAAAAAAAAAAAAAAAAAAAAAAAAAAAAAAAAAAAAAAAAAAAACAPwAAAAAAAAAAAACAPwAAAAAAAAAAAAAAAAAAAAAAAAAAAAAAAAAAAAAAAAAAAACAPwAAAAAAAAAAAAAAAAAAAAAAAAAAAAAAAAAAAAAAAAAAAAAAAAAAgD8AAAAAAAAAAAAAAAAAAAAAAACAPwAAAAAAAAAAAAAAAAAAAAAAAAAAAAAAAAAAAAAAAAAAAAAAAAAAAAAAAAAAAAAAAAAAAAAAAAAAAAAAAAAAAAAAAAAAAACAPwAAAAAAAAAAAACAPwAAAAAAAAAAAAAAAAAAAAAAAAAAAAAAAAAAAAAAAAAAAAAAAAAAAAAAAAAAAACAPwAAAAAAAAAAAAAAAAAAAAAAAAAAAAAAAAAAAAAAAAAAAAAAAAAAgD8AAAAAAAAAAAAAAAAAAAAAAAAAAAAAAAAAAAAAAAAAAAAAAAAAAAAAAAAAAAAAgD8AAAAAAAAAAAAAAAAAAAAAAAAAAAAAAAAAAAAAAAAAAAAAAAAAAAAAAAAAAAAAAAAAAAAAAAAAAAAAAAAAAAAAAACAPwAAAAAAAAAAAAAAAAAAgD8AAAAAAAAAAAAAAAAAAAAAAAAAAAAAAAAAAAAAAAAAAAAAAAAAAAAAAAAAAAAAAAAAAAAAAAAAAAAAAAAAAAAAAAAAAAAAAAAAAAAAAAAAAAAAAAAAAAAAAAAAAAAAAAAAAAAAAAAAAAAAAAAAAAAAAAAAAAAAAAAAAAAAAAAAAAAAgD8AAAAAAAAAAAAAAAAAAAAAAAAAAAAAAAAAAAAAAAAAAAAAAAAAAAAAAAAAAAAAAAAAAAAAAAAAAAAAAAAAAAAAAAAAAAAAAAAAAAAAAAAAAAAAAAAAAAAAAAAAAAAAAAAAAAAAAAAAAAAAAAAAAAAAAAAAAAAAAAAAAAAAAAAAAAAAgD8AAAAAAAAAAAAAAAAAAAAAAAAAAAAAAAAAAAAAAAAAAAAAAAAAAAAAAAAAAAAAAAAAAAAAAAAAAAAAAAAAAAAAAAAAAAAAAAAAAAAAAAAAAAAAAAAAAAAAAAAAAAAAAAAAAAAAAAAAAAAAAAAAAAAAAAAAAAAAAAAAAAAAAAAAAAAAAAAAAAAAAAAAAAAAAAAAAAAAAAAAAAAAAAAAAAAAAAAAAAAAAAAAAAAAAAAAAAAAAAAAAAAAAAAAAAAAAAAAAIA/AAAAAAAAAAAAAAAAAAAAQAAAAAAAAAAAAAAAAAAAAAAAAAAAAAAAAAAAAAAAAIA/AAAAAAAAAAAAAAAAAAAAAAAAAAAAAAAAAAAAAAAAAAAAAAAAAAAAAAAAAAAAAAAAAAAAAAAAAAAAAAAAAAAAAAAAAAAAAIA/AAAAAAAAAAAAAAAAAAAAAAAAAAAAAAAAAAAAAAAAAAAAAAAAAAAAAAAAAAAAAAAAAACAPwAAAAAAAAAAAAAAAAAAgD8AAAAAAACAPwAAAAAAAAAAAAAAAAAAAAAAAAAAAAAAAAAAAAAAAAAAAAAAAAAAAAAAAAAAAAAAAAAAAAAAAAAAAAAAAAAAAAAAAAAAAAAAAAAAAAAAAAAAAAAAAAAAAAAAAAAAAAAAAAAAAAAAAAAAAACAPwAAAAAAAAAAAAAAAAAAAAAAAAAAAAAAQAAAAAAAAAAAAAAAAAAAAAAAAAAAAAAAAAAAAAAAAAAAAACAPwAAAAAAAAAAAAAAAAAAAAAAAAAAAAAAAAAAAAAAAAAAAAAAAAAAAAAAAAAAAAAAAAAAAAAAAAAAAACAPwAAAAAAAAAAAAAAAAAAAAAAAAAAAAAAAAAAAAAAAAAAAAAAAAAAAAAAAAAAAAAAAAAAAAAAAAAAAAAAAAAAAAAAAAAAAACAPwAAgD8AAAAAAAAAAAAAAAAAAAAAAACAPwAAgD8AAAAAAAAAAAAAAAAAAAAAAAAAAAAAAAAAAAAAAAAAAAAAAAAAAIA/AAAAAAAAAAAAAAAAAAAAAAAAAAAAAAAAAAAAAAAAAAAAAAAAAAAAAAAAAAAAAAAAAAAAAAAAAAAAAAAAAAAAAAAAgD8AAAAAAAAAAAAAAAAAAAAAAAAAAAAAAAAAAAAAAAAAAAAAAAAAAAAAAAAAAAAAAAAAAAAAAAAAAAAAAAAAAAAAAAAAAAAAAAAAAAAAAAAAAAAAAAAAAAAAAAAAAAAAAAAAAAAAAAAAAAAAAAAAAAAAAAAAAAAAAAAAAAAAAAAAAAAAAAAAAAAAAAAAAAAAAAAAAAAAAAAAAAAAAAAAAAAAAAAAAAAAAAAAAAAAAAAAAAAAAAAAAAAAAAAAAAAAAAAAAAAAAAAAAAAAAAAAAAAAAAAAAAAAAAAAAAAAAAAAAAAAAAAAAAAAAAAAAAAAAAAAAAAAAAAAAAAAAAAAAAAAAAAAAAAAAAAAAAAAAAAAAAAAAAAAAAAAAAAAAAAAAAAAAAAAAAAAAAAAAAAAAAAAAAAAAAAAAAAAAAAAAAAAAAAAAAAAAAAAAAAAAAAAAAAAAAAAAAAAAAAAAAAAAAAAAAAAAAAAgD8AAAAAAAAAAAAAAEAAAAAAAAAAAAAAAAAAAAAAAAAAAAAAAAAAAAAAAAAAAAAAAAAAAAAAAAAAAAAAAAAAAAAAAAAAAAAAAAAAAAAAAAAAAAAAAAAAAAAAAAAAAAAAAAAAAAAAAAAAAAAAAAAAAAAAAAAAAAAAAAAAAAAAAAAAAAAAAAAAAAAAAAAAAAAAAAAAAAAAAAAAAAAAAAAAAAAAAAAAAAAAAAAAAAAAAACAPwAAAAAAAAAAAAAAAAAAAAAAAAAAAAAAAAAAAAAAAAAAAAAAAAAAAAAAAAAAAAAAAAAAAAAAAAAAAAAAAAAAgD8AAAAAAAAAAAAAAAAAAAAAAAAAAAAAAAAAAIA/AAAAAAAAAAAAAAAAAAAAAAAAAAAAAAAAAAAAAAAAAAAAAAAAAAAAAAAAAAAAAAAAAAAAAAAAAAAAAAAAAAAAAAAAAAAAAAAAAACAPwAAAAAAAAAAAAAAAAAAAAAAAAAAAAAAAAAAgD8AAAAAAAAAAAAAAAAAAAAAAAAAAAAAAAAAAAAAAAAAAAAAAAAAAAAAAAAAAAAAAAAAAAAAAAAAAAAAAAAAAAAAAAAAAAAAAAAAAAAAAAAAAAAAAAAAAAAAAAAAAAAAAAAAAAAAAACAPwAAgD8AAAAAAAAAAAAAAAAAAIA/AAAAAAAAAAAAAAAAAACAPwAAAAAAAAAAAAAAAAAAAAAAAAAAAAAAAAAAAAAAAAAAAAAAAAAAAAAAAAAAAAAAAAAAAAAAAAAAAAAAAAAAAAAAAAAAAAAAAAAAAAAAAAAAAAAAAAAAAAAAAAAAAAAAAAAAAAAAAAAAAAAAAAAAAAAAAAAAAAAAAAAAAAAAAAAAAAAAAAAAAAAAAAAAAAAAAAAAAAAAAAAAAAAAAAAAAAAAAAAAAAAAAAAAAAAAAAAAAACAPwAAAAAAAAAAAAAAAAAAAAAAAAAAAAAAAAAAAAAAAIA/AAAAAAAAAAAAAAAAAACAPwAAAAAAAAAAAAAAAAAAAAAAAAAAAAAAAAAAAAAAAAAAAAAAAAAAAAAAAAAAAAAAAAAAAAAAAAAAAAAAAAAAAAAAAIA/AAAAAAAAAAAAAAAAAAAAAAAAAAAAAAAAAAAAAAAAAAAAAAAAAAAAAAAAAAAAAAAAAAAAAAAAAAAAAIA/AAAAAAAAAAAAAAAAAAAAAAAAgD8AAAAAAAAAAAAAAAAAAAAAAAAAAAAAAAAAAAAAAAAAAAAAAAAAAAAAAAAAAAAAAAAAAAAAAAAAAAAAAAAAAAAAAACAPwAAAAAAAAAAAAAAAAAAAAAAAAAAAAAAAAAAAAAAAAAAAAAAAAAAAAAAAAAAAAAAAAAAAAAAAAAAAAAAAAAAAAAAAAAAAAAAAAAAAAAAAAAAAAAAAAAAAAAAAAAAAAAAAAAAAAAAAAAAAAAAAAAAAAAAAAAAAAAAAAAAAAAAAAAAAAAAAAAAAAAAAAAAAAAAAAAAAAAAAAAAAAAAAAAAAAAAAAAAAAAAAAAAAAAAAIA/AAAAAAAAAAAAAAAAAAAAAAAAAAAAAAAAAAAAAAAAAAAAAAAAAAAAAAAAAAAAAAAAAAAAAAAAAAAAAAAAAAAAAAAAAAAAAAAAAAAAAAAAAAAAAAAAAAAAAAAAAAAAAAAAAAAAAAAAAAAAAAAAAAAAAAAAAAAAAAAAAAAAAAAAAAAAAAAAAAAAAAAAAAAAAAAAAAAAAAAAAAAAAAAAAAAAAAAAAAAAAAAAAAAAAAAAAAAAAAAAAAAAAAAAAAAAAAAAAAAAAAAAAAAAAAAAAAAAAAAAAAAAAAAAAAAAAAAAAAAAAAAAAAAAAAAAAAAAAAAAAAAAAAAAAAAAAAAAAAAAAAAAAAAAAAAAAAAAAAAAAAAAAAAAAACAPwAAAAAAAAAAAAAAAAAAAAAAAAAAAAAAAAAAgD8AAAAAAAAAAAAAAAAAAAAAAAAAAAAAAAAAAAAAAAAAAAAAAAAAAAAAAAAAAAAAAAAAAIA/AAAAAAAAAAAAAAAAAAAAAAAAAAAAAAAAAAAAAAAAAAAAAAAAAAAAAAAAAAAAAAAAAAAAAAAAAAAAAAAAAAAAAAAAAAAAAAAAAAAAAAAAAAAAAAAAAAAAAAAAAAAAAAAAAAAAAAAAAAAAAAAAAAAAAAAAAAAAAAAAAAAAAAAAAAAAAAAAAAAAAAAAAAAAAAAAAAAAAAAAAAAAAAAAAAAAAAAAAAAAAAAAAACAPwAAAAAAAAAAAAAAAAAAAAAAAAAAAAAAAAAAAAAAAAAAAAAAAAAAAAAAAAAAAAAAAAAAAAAAAAAAAACAPwAAgD8AAIA/AAAAAAAAAAAAAAAAAAAAAAAAAAAAAAAAAAAAAAAAAAAAAAAAAAAAAAAAAAAAAAAAAAAAAAAAAAAAAIA/AAAAAAAAgD8AAAAAAAAAAAAAAAAAAAAAAAAAAAAAAAAAAAAAAAAAAAAAAAAAAAAAAAAAAAAAAAAAAAAAAAAAAAAAAAAAAAAAAAAAAAAAAAAAAAAAAAAAAAAAAAAAAAAAAAAAAAAAAAAAAAAAAAAAAAAAAAAAAAAAAAAAAAAAAAAAAAAAAACAPwAAAAAAAAAAAAAAAAAAAAAAAAAAAAAAAAAAAAAAAAAAAAAAAAAAAAAAAAAAAAAAAAAAAAAAAAAAAAAAAAAAAAAAAAAAAAAAAAAAAAAAAAAAAAAAAAAAAAAAAAAAAAAAAAAAAAAAAAAAAAAAAAAAAAAAAAAAAAAAAAAAAAAAAAAAAAAAAAAAAAAAAAAAAAAAAAAAAAAAAAAAAAAAAAAAAAAAAAAAAAAAAAAAAAAAAAAAAAAAAAAAAAAAAAAAAAAAAAAAAAAAAAAAAAAAAAAAAAAAAAAAAAAAAAAAAAAAAAAAAAAAAAAAAAAAAAAAAAAAAAAAAAAAAAAAAAAAAAAAAAAAAAAAAAAAAAAAAAAAAAAAAAAAAAAAAAAAAAAAAAAAAAAAAAAAAAAAAAAAAAAAAAAAAAAAAAAAAAAAAAAAAAAAAAAAAAAAAEAAAAAAAAAAAAAAAAAAAAAAAAAAAAAAAAAAAAAAAAAAAAAAAAAAAAAAAAAAAAAAAAAAAAAAAAAAAAAAAAAAAAAAAAAAAAAAAAAAAAAAAACAPwAAAAAAAAAAAAAAAAAAAAAAAIA/AACAPwAAgD8AAAAAAAAAAAAAAAAAAAAAAAAAAAAAAAAAAAAAAAAAAAAAAAAAAAAAAAAAAAAAAAAAAAAAAAAAQAAAAAAAAAAAAAAAAAAAAAAAAAAAAAAAAAAAgD8AAAAAAAAAAAAAAAAAAAAAAAAAAAAAAAAAAAAAAAAAAAAAAAAAAAAAAAAAAAAAAAAAAAAAAACAPwAAAAAAAAAAAAAAAAAAAAAAAAAAAAAAAAAAgD8AAAAAAACAPwAAgD8AAAAAAAAAAAAAAAAAAAAAAAAAAAAAAAAAAAAAAAAAAAAAAAAAAAAAAAAAAAAAAEAAAAAAAAAAAAAAAAAAAAAAAAAAAAAAAAAAAAAAAAAAAAAAgD8AAAAAAAAAAAAAAAAAAAAAAAAAAAAAAAAAAAAAAAAAAAAAAAAAAAAAAAAAAAAAAAAAAAAAAAAAAAAAAAAAAAAAAAAAAAAAAAAAAAAAAAAAAAAAAAAAAAAAAAAAAAAAAAAAAAAAAAAAAAAAAAAAAAAAAAAAAAAAAAAAAAAAAAAAAAAAAAAAAAAAAAAAAAAAAAAAAAAAAAAAAAAAAAAAAAAAAAAAAAAAAAAAAAAAAAAAAAAAgD8AAAAAAAAAAAAAAAAAAAAAAAAAAAAAAAAAAAAAAAAAAAAAAAAAAAAAAAAAAAAAAAAAAAAAAAAAAAAAAAAAAAAAAAAAAAAAAAAAAAAAAACAPwAAAAAAAABAAAAAAAAAAAAAAAAAAAAAAAAAAAAAAAAAAAAAAAAAAAAAAAAAAAAAAAAAAAAAAAAAAAAAAAAAAAAAAAAAAAAAAAAAAAAAAAAAAAAAAAAAAAAAAAAAAAAAAAAAAAAAAAAAAAAAAAAAAAAAAAAAAAAAAAAAAAAAAAAAAAAAAAAAAAAAAAAAAAAAAAAAAAAAAAAAAAAAAAAAAAAAAAAAAAAAAAAAAAAAAAAAAAAAAAAAAAAAAAAAAAAAAAAAAAAAAAAAAAAAAAAAAAAAAAAAAAAAAAAAAAAAAAAAAAAAAAAAgD8AAAAAAAAAAAAAAAAAAAAAAAAAAAAAAAAAAAAAAAAAAAAAAAAAAAAAAAAAAAAAAAAAAAAAAAAAAAAAAAAAAAAAAAAAAAAAAAAAAAAAAAAAAAAAAAAAAAAAAAAAAAAAAAAAAAAAAAAAAAAAAAAAAAAAAAAAAAAAAAAAAAAAAAAAAAAAAAAAAAAAAAAAAAAAAAAAAAAAAAAAAAAAAAAAAAAAAAAAAAAAAAAAAAAAAAAAAAAAAAAAAAAAAAAAAAAAAAAAAIA/AAAAAAAAAAAAAAAAAAAAAAAAAAAAAAAAAAAAAAAAAAAAAAAAAAAAAAAAgD8AAAAAAAAAAAAAAAAAAAAAAAAAAAAAAAAAAAAAAAAAAAAAAAAAAAAAAAAAAAAAAAAAAAAAAAAAAAAAAAAAAAAAAAAAAAAAgD8AAAAAAAAAAAAAAAAAAAAAAAAAAAAAAAAAAAAAAACAPwAAAAAAAAAAAAAAAAAAAAAAAAAAAAAAAAAAAAAAAAAAAAAAAAAAAAAAAAAAAAAAAAAAAAAAAAAAAAAAAAAAAAAAAAAAAAAAAAAAAAAAAAAAAAAAAAAAAAAAAAAAAACAPwAAAAAAAAAAAAAAAAAAAAAAAAAAAAAAAAAAAAAAAAAAAAAAAAAAAAAAAAAAAAAAAAAAAAAAAAAAAAAAAAAAAAAAAAAAAAAAAAAAAAAAAAAAAAAAAAAAAAAAAAAAAAAAAAAAgD8AAAAAAAAAAAAAAAAAAAAAAAAAAAAAAAAAAAAAAAAAAAAAAAAAAAAAAAAAAAAAAAAAAAAAAAAAAAAAAAAAAAAAAACAPwAAAAAAAAAAAAAAAAAAAAAAAIA/AAAAAAAAAAAAAAAAAAAAAAAAAAAAAAAAAAAAAAAAAAAAAAAAAAAAAAAAAAAAAAAAAAAAAAAAAAAAAAAAAAAAAAAAAAAAAAAAAAAAAAAAAAAAAAAAAAAAAAAAAAAAAAAAAAAAAAAAAAAAAAAAAAAAAAAAAAAAAAAAAAAAAAAAAAAAAAAAAAAAAAAAAAAAAAAAAAAAAAAAAAAAAAAAAAAAAAAAAAAAAAAAAAAAAAAAAAAAAAAAAAAAAAAAgD8AAAAAAAAAAAAAAAAAAAAAAAAAAAAAAAAAAAAAAAAAAAAAgD8AAAAAAAAAAAAAAAAAAAAAAAAAAAAAAAAAAIA/AACAPwAAAAAAAAAAAAAAAAAAAAAAAAAAAAAAAAAAAAAAAAAAAAAAAAAAAAAAAAAAAAAAAAAAAAAAAAAAAAAAAAAAAAAAAAAAAAAAAAAAAAAAAAAAAAAAAAAAAAAAAIA/AAAAAAAAAAAAAAAAAAAAAAAAAAAAAAAAAAAAAAAAAAAAAAAAAAAAAAAAAAAAAAAAAAAAAAAAAAAAAAAAAAAAAAAAAAAAAAAAAAAAAAAAAAAAAAAAAAAAAAAAAAAAAAAAAAAAAAAAgD8AAAAAAAAAAAAAAAAAAAAAAAAAAAAAAAAAAAAAAAAAAAAAAAAAAAAAAAAAAAAAAAAAAAAAAAAAAAAAAAAAAAAAAAAAAAAAAAAAAAAAAAAAAAAAAAAAAAAAAAAAAAAAAAAAAAAAAAAAAAAAAAAAAAAAAAAAAAAAAAAAAAAAAAAAAAAAAAAAAAAAAAAAAAAAAAAAAIA/AAAAAAAAAAAAAAAAAAAAAAAAAAAAAAAAAAAAAAAAAAAAAAAAAAAAAAAAAAAAAAAAAAAAAAAAAAAAAAAAAAAAAAAAAAAAAAAAAAAAAAAAAAAAAAAAAAAAAAAAAAAAAAAAAAAAAAAAAAAAAAAAAAAAAAAAAAAAAAAAAAAAAAAAAAAAAAAAAAAAAAAAAAAAAAAAAAAAAAAAAAAAAAAAAAAAAAAAgD8AAAAAAAAAAAAAAAAAAAAAAAAAAAAAAAAAAIA/AAAAAAAAAAAAAAAAAAAAAAAAAAAAAAAAAAAAAAAAAAAAAAAAAAAAAAAAAAAAAAAAAAAAAAAAAAAAAAAAAAAAAAAAAAAAAAAAAAAAAAAAAAAAAAAAAACAPwAAAAAAAAAAAAAAAAAAAAAAAAAAAAAAAAAAAAAAAAAAAAAAAAAAAAAAAAAAAAAAAAAAAAAAAIA/AACAPwAAAAAAAAAAAAAAAAAAAAAAAAAAAAAAAAAAAAAAAAAAAAAAAAAAAAAAAAAAAACAPwAAAAAAAAAAAAAAAAAAAAAAAAAAAAAAAAAAAAAAAAAAAAAAAAAAAAAAAAAAAAAAAAAAAAAAAAAAAAAAAAAAAAAAAAAAAAAAAAAAAAAAAAAAAAAAAAAAAAAAAAAAAACAPwAAAAAAAAAAAACAPwAAAAAAAAAAAAAAAAAAAAAAAAAAAAAAAAAAAAAAAAAAAAAAAAAAgD8AAAAAAAAAAAAAAAAAAAAAAAAAAAAAgD8AAAAAAAAAAAAAgD8AAAAAAAAAAAAAAAAAAAAAAAAAAAAAAAAAAAAAAAAAAAAAAAAAAAAAAAAAAAAAAAAAAAAAAAAAAAAAAAAAAAAAAAAAAAAAAAAAAAAAAAAAAAAAAAAAAAAAAAAAAAAAgD8AAAAAAAAAAAAAAAAAAAAAAAAAAAAAgD8AAAAAAAAAAAAAAAAAAAAAAAAAAAAAAAAAAAAAAAAAAAAAAAAAAAAAAAAAAAAAAAAAAAAAAAAAAAAAAAAAAAAAAAAAAAAAAAAAAAAAAAAAAAAAAAAAAAAAAAAAAAAAAAAAAIA/AAAAAAAAAAAAAAAAAAAAAAAAAAAAAAAAAAAAAAAAAAAAAAAAAAAAAAAAAAAAAAAAAAAAAAAAAAAAAAAAAAAAAAAAAAAAAIA/AAAAAAAAAAAAAAAAAAAAAAAAAAAAAAAAAAAAAAAAAAAAAAAAAAAAQAAAAAAAAIA/AAAAAAAAAAAAAIA/AAAAAAAAAAAAAAAAAAAAAAAAgD8AAAAAAAAAAAAAAAAAAAAAAAAAAAAAAAAAAAAAAAAAAAAAAAAAAAAAAACAPwAAAAAAAIA/AAAAAAAAAAAAAIA/AAAAAAAAAAAAAAAAAAAAAAAAAAAAAIA/AAAAAAAAAAAAAAAAAACAPwAAAAAAAAAAAAAAAAAAAAAAAAAAAAAAAAAAAAAAAAAAAAAAAAAAgD8AAAAAAAAAAAAAAAAAAAAAAAAAAAAAAAAAAAAAAAAAAAAAAAAAAAAAAAAAAAAAAAAAAAAAAAAAAAAAgD8AAAAAAAAAAAAAAAAAAAAAAAAAAAAAAAAAAAAAAAAAAAAAAAAAAAAAAAAAAAAAAAAAAAAAAAAAAAAAAAAAAAAAAAAAAAAAAAAAAAAAAAAAAAAAAAAAAAAAAACAPwAAAAAAAAAAAAAAAAAAAAAAAAAAAAAAAAAAAAAAAAAAAAAAAAAAAAAAAAAAAACAPwAAAAAAAAAAAACAPwAAAAAAAAAAAAAAAAAAAAAAAAAAAAAAQAAAAAAAAAAAAAAAAAAAAAAAAAAAAAAAAAAAAAAAAAAAAAAAAAAAAAAAAAAAAAAAAAAAAAAAAAAAAAAAAAAAAAAAAAAAAAAAAAAAAAAAAAAAAAAAAAAAAAAAAAAAAACAPwAAAAAAAAAAAAAAAAAAAAAAAAAAAAAAAAAAAAAAAAAAAAAAAAAAAAAAAAAAAAAAAAAAAAAAAAAAAAAAAAAAAAAAAAAAAAAAAAAAAAAAAAAAAACAPwAAgD8AAAAAAAAAAAAAAAAAAAAAAAAAAAAAAAAAAAAAAACAPwAAAAAAAAAAAAAAAAAAAAAAAAAAAAAAAAAAAAAAAAAAAAAAAAAAAAAAAAAAAAAAAAAAAAAAAAAAAAAAAAAAAAAAAAAAAAAAAAAAAAAAAAAAAAAAAAAAAAAAAAAAAAAAAAAAAAAAAAAAAAAAAAAAAAAAAAAAAAAAAAAAAAAAAAAAAAAAAAAAAAAAAAAAAAAAAAAAAAAAAAAAAAAAAAAAAAAAAAAAAAAAAAAAAAAAAAAAAAAAAAAAAAAAAAAAAAAAAAAAAAAAAAAAAAAAAAAAAAAAAAAAAAAAAAAAAAAAAAAAAACAPwAAgD8AAAAAAAAAAAAAAAAAAAAAAAAAAAAAAAAAAAAAAAAAAAAAAAAAAAAAAAAAAAAAAAAAAIA/AACAPwAAAAAAAAAAAAAAAAAAAAAAAAAAAAAAAAAAAAAAAAAAAACAPwAAAAAAAAAAAAAAAAAAAAAAAAAAAAAAAAAAAAAAAAAAAAAAAAAAAAAAAAAAAAAAAAAAAAAAAAAAAAAAAAAAAAAAAAAAAAAAAAAAAAAAAAAAAAAAAAAAAAAAAAAAAAAAAAAAAAAAAAAAAAAAAAAAAAAAAAAAAAAAAAAAAAAAAAAAAAAAAAAAAAAAAAAAAAAAAAAAAAAAAAAAAAAAAAAAAAAAAAAAAAAAAAAAAAAAAAAAAAAAAAAAAAAAAIA/AAAAAAAAAAAAAIA/AAAAAAAAAAAAAAAAAAAAAAAAAAAAAAAAAAAAAAAAAAAAAAAAAAAAAAAAAAAAAAAAAAAAAAAAAAAAAAAAAAAAAAAAAAAAAAAAAAAAAAAAAAAAAAAAAAAAAAAAAAAAAAAAAAAAAAAAAAAAAAAAAAAAAAAAAAAAAAAAAACAPwAAAAAAAAAAAAAAAAAAAAAAAAAAAAAAAAAAAAAAAAAAAAAAAAAAAAAAAAAAAAAAAAAAAAAAAAAAAAAAAAAAAAAAAAAAAACAPwAAAAAAAAAAAAAAAAAAAAAAAAAAAAAAAAAAAAAAAAAAAAAAAAAAAAAAAAAAAAAAAAAAAAAAAAAAAAAAAAAAAAAAAAAAAAAAAAAAAAAAAAAAAAAAAAAAAAAAAAAAAAAAAAAAgD8AAAAAAAAAAAAAAAAAAAAAAAAAAAAAAAAAAIA/AAAAAAAAAAAAAAAAAAAAAAAAAAAAAAAAAAAAAAAAAAAAAAAAAAAAAAAAAAAAAAAAAAAAAAAAAAAAAAAAAAAAAAAAAAAAAAAAAAAAAAAAAAAAAIA/AAAAAAAAAAAAAAAAAAAAAAAAAAAAAAAAAAAAAAAAAAAAAAAAAAAAAAAAAAAAAIA/AAAAAAAAAAAAAAAAAAAAAAAAAAAAAAAAAAAAAAAAAAAAAAAAAAAAAAAAAAAAAAAAAAAAAAAAAAAAAAAAAAAAAAAAAAAAAAAAAAAAAAAAAAAAAAAAAAAAAAAAAAAAAIA/AAAAAAAAAAAAAAAAAAAAAAAAAAAAAAAAAAAAAAAAAAAAAAAAAAAAAAAAAAAAAAAAAAAAAAAAAAAAAAAAAAAAAAAAAAAAAAAAAAAAAAAAAAAAAAAAAAAAAAAAAAAAAAAAAAAAAAAAAAAAAAAAAAAAAAAAAAAAAAAAAAAAAAAAAAAAAAAAAAAAAAAAAAAAAAAAAAAAAAAAAAAAAAAAAAAAAAAAAAAAAAAAAAAAAAAAAAAAAIA/AAAAAAAAgD8AAAAAAAAAAAAAAAAAAAAAAAAAAAAAAAAAAIA/AAAAAAAAAAAAAAAAAAAAAAAAAAAAAAAAAAAAAAAAAAAAAAAAAAAAAAAAAAAAAAAAAAAAAAAAgD8AAIA/AAAAAAAAAAAAAAAAAAAAAAAAAAAAAAAAAACAPwAAAAAAAAAAAAAAAAAAAAAAAAAAAAAAAAAAAAAAAAAAAAAAAAAAAAAAAAAAAAAAAAAAAAAAAAAAAAAAAAAAAAAAAAAAAAAAAAAAAAAAAAAAAAAAAAAAAAAAAAAAAAAAAAAAAAAAAAAAAAAAAAAAAAAAAAAAAAAAAAAAAAAAAAAAAAAAAAAAAAAAAAAAAAAAAAAAAAAAAAAAAAAAAAAAAAAAAAAAAAAAAAAAAAAAAAAAAAAAAAAAAAAAAAAAAAAAAAAAAAAAAIA/AAAAAAAAAAAAAAAAAACAPwAAAAAAAIA/AAAAAAAAAAAAAAAAAAAAAAAAAAAAAAAAAAAAAAAAAAAAAAAAAAAAAAAAAAAAAAAAAAAAAAAAgD8AAAAAAAAAAAAAAAAAAAAAAAAAAAAAAAAAAAAAAAAAAAAAAAAAAAAAAAAAAAAAgD8AAAAAAAAAAAAAAAAAAAAAAAAAAAAAAAAAAIA/AAAAAAAAAAAAAAAAAAAAAAAAAAAAAAAAAACAPwAAAAAAAAAAAAAAAAAAAAAAAAAAAAAAAAAAAAAAAAAAAAAAAAAAAAAAAAAAAAAAAAAAgD8AAIA/AAAAAAAAAAAAAAAAAAAAAAAAAAAAAAAAAAAAAAAAAAAAAAAAAAAAAAAAAAAAAAAAAAAAAAAAgD8AAAAAAAAAAAAAAAAAAAAAAAAAAAAAgD8AAAAAAAAAAAAAAAAAAAAAAAAAAAAAAAAAAAAAAAAAAAAAAAAAAAAAAAAAAAAAAAAAAAAAAAAAAAAAAAAAAAAAAAAAAAAAAAAAAAAAAAAAAAAAAAAAAAAAAAAAAAAAgD8AAAAAAAAAAAAAAAAAAAAAAAAAAAAAAAAAAAAAAAAAAAAAAAAAAIA/AAAAAAAAAAAAAAAAAAAAAAAAAAAAAAAAAAAAAAAAgD8AAAAAAAAAAAAAAAAAAAAAAAAAAAAAAAAAAAAAAACAPwAAAAAAAAAAAAAAAAAAAAAAAAAAAAAAAAAAAAAAAAAAAAAAAAAAAAAAAAAAAAAAAAAAAAAAAAAAAAAAAAAAAAAAAAAAAAAAAAAAAAAAAIA/AAAAAAAAAAAAAAAAAAAAAAAAAAAAAAAAAAAAAAAAAAAAAAAAAAAAAAAAAAAAAAAAAAAAAAAAAAAAAAAAAAAAAAAAAAAAAAAAAAAAAAAAAAAAAAAAAAAAAAAAAAAAAAAAAAAAAAAAAAAAAAAAAAAAAAAAAAAAAAAAAAAAAAAAAAAAAAAAAAAAAAAAAAAAAAAAAAAAAAAAAAAAAAAAAAAAAAAAAAAAAAAAAAAAAAAAAAAAAAAAAAAAAAAAgD8AAAAAAAAAAAAAAAAAAAAAAAAAAAAAAAAAAAAAAAAAAAAAAAAAAAAAAAAAAAAAAAAAAIA/AAAAAAAAAAAAAAAAAAAAAAAAAAAAAAAAAAAAAAAAAAAAAAAAAAAAAAAAAAAAAAAAAACAPwAAAAAAAAAAAAAAAAAAAAAAAAAAAACAPwAAAAAAAAAAAAAAAAAAAAAAAAAAAAAAAAAAAAAAAAAAAAAAAAAAAAAAAAAAAAAAAAAAAAAAAAAAAAAAAAAAAAAAAAAAAAAAAAAAAAAAAAAAAAAAAAAAAAAAAAAAAAAAAAAAAAAAAAAAAACAPwAAAAAAAAAAAAAAAAAAAAAAAAAAAACAPwAAAAAAAAAAAACAPwAAAAAAAAAAAACAPwAAAAAAAIA/AAAAAAAAAAAAAAAAAAAAAAAAAAAAAAAAAAAAAAAAgD8AAAAAAAAAAAAAgD8AAAAAAAAAAAAAAAAAAAAAAAAAAAAAAAAAAAAAAACAPwAAAAAAAAAAAAAAAAAAAAAAAAAAAAAAAAAAAEAAAAAAAAAAAAAAAAAAAAAAAAAAAAAAgD8AAAAAAAAAAAAAAAAAAAAAAAAAAAAAgD8AAAAAAAAAAAAAAAAAAIA/AAAAAAAAAAAAAAAAAAAAAAAAAAAAAAAAAAAAAAAAAAAAAAAAAAAAAAAAgD8AAAAAAAAAAAAAAAAAAAAAAAAAAAAAgD8AAIA/AAAAAAAAAAAAAAAAAAAAAAAAAAAAAAAAAAAAAAAAAAAAAAAAAAAAAAAAAAAAAAAAAAAAAAAAAAAAAAAAAAAAAAAAAAAAAAAAAACAPwAAAAAAAAAAAAAAAAAAAAAAAAAAAAAAAAAAgD8AAAAAAAAAAAAAAAAAAAAAAACAPwAAAAAAAAAAAAAAAAAAAAAAAAAAAAAAAAAAAAAAAAAAAAAAAAAAAAAAAAAAAAAAAAAAAAAAAAAAAAAAAAAAAAAAAAAAAAAAAAAAAAAAAAAAAAAAAAAAAAAAAAAAAACAPwAAAAAAAAAAAAAAAAAAAAAAAAAAAAAAAAAAAAAAAIA/AAAAAAAAAAAAAAAAAAAAAAAAAAAAAAAAAAAAAAAAAAAAAAAAAAAAAAAAAAAAAAAAAAAAAAAAAAAAAAAAAAAAAAAAAAAAAAAAAACAPwAAAAAAAAAAAAAAAAAAAAAAAAAAAAAAAAAAAAAAAAAAAACAPwAAAAAAAAAAAAAAAAAAAAAAAIA/AAAAAAAAAAAAAAAAAAAAAAAAAAAAAIA/AAAAAAAAAAAAAAAAAAAAAAAAAAAAAAAAAACAPwAAAAAAAAAAAAAAAAAAgD8AAAAAAAAAAAAAAAAAAAAAAAAAAAAAAAAAAAAAAAAAAAAAgD8AAAAAAAAAAAAAAAAAAAAAAACAPwAAAAAAAIA/AAAAAAAAgD8AAAAAAAAAAAAAAAAAAAAAAAAAAAAAAAAAAAAAAAAAAAAAAAAAAAAAAAAAAAAAAEAAAAAAAAAAAAAAAAAAAAAAAAAAAAAAAAAAAAAAAAAAAAAAAAAAAAAAAAAAAAAAAAAAAAAAAAAAAAAAAAAAAAAAAAAAAAAAAAAAAAAAAAAAAAAAAAAAAAAAAAAAAAAAAAAAAAAAAAAAAAAAAAAAAAAAAAAAAAAAAAAAAAAAAAAAAAAAAAAAAAAAAAAAAAAAAAAAAAAAAAAAAAAAAAAAAAAAAAAAAAAAAAAAAAAAAAAAAAAAAAAAAAAAAAAAAAAAAAAAAAAAAAAAAAAAAAAAAAAAAAAAAAAAAAAAAAAAAAAAAAAAAAAAAAAAAAAAAAAAAAAAAAAAAAAAAAAAAAAAAAAAAACAPwAAgD8AAAAAAAAAAAAAAAAAAAAAAAAAAAAAAAAAAIA/AAAAAAAAAAAAAAAAAAAAAAAAAAAAAAAAAAAAAAAAAAAAAIA/AAAAAAAAAAAAAAAAAAAAAAAAAAAAAAAAAAAAAAAAAAAAAAAAAAAAAAAAAAAAAAAAAAAAAAAAAAAAAAAAAAAAAAAAAAAAAAAAAAAAAAAAAAAAAAAAAAAAAAAAAAAAAAAAAAAAAAAAAAAAAAAAAAAAAAAAAAAAAAAAAAAAAAAAAAAAAAAAAAAAAAAAAAAAAAAAAAAAAAAAAAAAAAAAAAAAAAAAAAAAAAAAAAAAAAAAAAAAAAAAAAAAAAAAAAAAAAAAAAAAAAAAAAAAAAAAAAAAAAAAAAAAAAAAAAAAAAAAAAAAAAAAAAAAAAAAAAAAAAAAAAAAAAAAAAAAAIA/AAAAAAAAAAAAAAAAAACAPwAAAAAAAAAAAAAAAAAAAAAAAAAAAAAAAAAAAAAAAAAAAAAAAAAAAAAAAAAAAAAAAAAAAAAAAAAAAAAAAAAAAAAAAAAAAAAAAAAAAAAAAAAAAAAAQAAAAAAAAAAAAAAAAAAAAAAAAAAAAAAAAAAAAAAAAAAAAAAAAAAAAAAAAAAAAAAAAAAAAAAAAAAAAAAAAAAAgD8AAAAAAAAAAAAAAAAAAAAAAAAAAAAAAAAAAAAAAAAAAAAAAAAAAAAAAAAAAAAAAAAAAAAAAAAAAAAAAAAAAAAAAAAAAAAAgD8AAAAAAAAAAAAAAAAAAAAAAAAAAAAAgD8AAAAAAAAAAAAAAAAAAAAAAAAAAAAAAAAAAIA/AAAAAAAAAAAAAAAAAAAAAAAAAAAAAAAAAAAAAAAAAAAAAAAAAAAAAAAAgD8AAAAAAAAAAAAAAAAAAAAAAAAAAAAAAAAAAAAAAAAAAAAAAAAAAAAAAAAAAAAAAAAAAIA/AAAAAAAAAAAAAAAAAAAAAAAAAAAAAAAAAACAPwAAAAAAAAAAAAAAAAAAAAAAAAAAAAAAAAAAAAAAAAAAAAAAAAAAAAAAAAAAAAAAAAAAAAAAAAAAAAAAAAAAgD8AAAAAAAAAAAAAAAAAAAAAAAAAAAAAAAAAAIA/AAAAAAAAAAAAAAAAAAAAAAAAAAAAAAAAAAAAAAAAAAAAAAAAAAAAAAAAAAAAAAAAAAAAAAAAAAAAAIA/AAAAAAAAAAAAAAAAAAAAAAAAAAAAAAAAAAAAAAAAAAAAAAAAAAAAAAAAAAAAAAAAAAAAAAAAAAAAAAAAAAAAAAAAAAAAAAAAAAAAAAAAAAAAAAAAAAAAAAAAAAAAAAAAAAAAAAAAAAAAAAAAAAAAAAAAAAAAAAAAAAAAAAAAAAAAAAAAAAAAAAAAAAAAAAAAAAAAAAAAAAAAAAAAAAAAAAAAAAAAAAAAAAAAAAAAAAAAAAAAAAAAAAAAgD8AAAAAAAAAAAAAAAAAAAAAAACAPwAAAAAAAAAAAAAAAAAAAAAAAAAAAAAAAAAAAAAAAAAAAAAAAAAAAAAAAAAAAAAAAAAAAAAAAIA/AAAAAAAAAAAAAAAAAAAAAAAAAAAAAAAAAAAAAAAAAAAAAAAAAAAAAAAAAAAAAAAAAACAPwAAAAAAAAAAAAAAAAAAAAAAAAAAAAAAAAAAAAAAAAAAAAAAAAAAAAAAAAAAAAAAAAAAAAAAAAAAAAAAAAAAAAAAAAAAAAAAAAAAAAAAAAAAAAAAAAAAAAAAAAAAAAAAAAAAAAAAAAAAAAAAAAAAAAAAAAAAAAAAAAAAAAAAAAAAAAAAAAAAAAAAAAAAAAAAAAAAAAAAAAAAAAAAAAAAAAAAAAAAAAAAAAAAAAAAAAAAAAAAAAAAAAAAAAAAAAAAAAAAAAAAAAAAAAAAAAAAAAAAAIA/AAAAAAAAAAAAAAAAAAAAAAAAAAAAAAAAAAAAAAAAAAAAAIA/AAAAAAAAgD8AAAAAAAAAAAAAAAAAAAAAAAAAAAAAAAAAAAAAAAAAAAAAAAAAAAAAAAAAAAAAAAAAAAAAAAAAAAAAAAAAAAAAAAAAAAAAAAAAAAAAAAAAAAAAAAAAAAAAAAAAAAAAAAAAAAAAAAAAAAAAAAAAAAAAAAAAAAAAAAAAAAAAAAAAAAAAAAAAAAAAAAAAAAAAAAAAAAAAAAAAAAAAAAAAAAAAAAAAAAAAAAAAAAAAAAAAAAAAgD8AAAAAAAAAAAAAAAAAAAAAAAAAAAAAAAAAAIA/AAAAAAAAAAAAAAAAAAAAAAAAAAAAAAAAAAAAAAAAAAAAAAAAAAAAAAAAAAAAAAAAAAAAAAAAAAAAAAAAAAAAAAAAAAAAAAAAAACAPwAAAAAAAAAAAAAAAAAAAEAAAAAAAAAAAAAAgD8AAIA/AAAAAAAAAAAAAAAAAAAAAAAAAAAAAAAAAAAAAAAAAAAAAAAAAAAAAAAAAAAAAAAAAAAAAAAAgD8AAAAAAAAAAAAAAAAAAIA/AAAAAAAAAAAAAABAAAAAAAAAAAAAAAAAAAAAAAAAAAAAAAAAAAAAAAAAAAAAAAAAAAAAAAAAAAAAAAAAAAAAAAAAAAAAAAAAAAAAAAAAAAAAAAAAAAAAAAAAAAAAAAAAAAAAAAAAAAAAAAAAAAAAAAAAAAAAAAAAAAAAAAAAgD8AAIA/AAAAAAAAAAAAAAAAAAAAAAAAAAAAAAAAAAAAAAAAgD8AAAAAAAAAAAAAAAAAAAAAAAAAAAAAAAAAAAAAAAAAAAAAAAAAAAAAAAAAAAAAAAAAAAAAAAAAAAAAAAAAAAAAAAAAAAAAAAAAAAAAAAAAAAAAAAAAAIA/AAAAAAAAAAAAAAAAAAAAAAAAAAAAAAAAAAAAAAAAAAAAAAAAAAAAAAAAAAAAAAAAAAAAAAAAgD8AAAAAAACAPwAAAAAAAAAAAAAAAAAAAAAAAAAAAAAAAAAAAAAAAAAAAAAAAAAAAAAAAAAAAAAAAAAAAAAAAAAAAACAPwAAAAAAAAAAAACAPwAAAAAAAAAAAAAAAAAAgD8AAAAAAACAPwAAAAAAAAAAAACAPwAAAAAAAAAAAAAAAAAAAAAAAAAAAAAAAAAAAAAAAAAAAAAAAAAAAAAAAAAAAAAAAAAAAAAAAAAAAAAAAAAAAAAAAAAAAAAAAAAAAAAAAAAAAAAAAAAAAAAAAAAAAAAAAAAAAAAAAAAAAAAAAAAAAAAAAAAAAACAPwAAAAAAAAAAAAAAAAAAAAAAAAAAAAAAAAAAAAAAAAAAAAAAAAAAAAAAAAAAAAAAAAAAAAAAAAAAAAAAAAAAgD8AAAAAAAAAAAAAAAAAAAAAAAAAAAAAAAAAAAAAAACAPwAAAAAAAAAAAAAAAAAAAAAAAAAAAAAAAAAAAAAAAAAAAAAAAAAAAAAAAAAAAAAAAAAAAAAAAAAAAAAAAAAAAAAAAIA/AAAAAAAAAAAAAAAAAAAAAAAAAAAAAAAAAACAPwAAgD8AAAAAAAAAAAAAAAAAAAAAAAAAAAAAAAAAAAAAAAAAAAAAAAAAAAAAAAAAAAAAAAAAAAAAAAAAAAAAAAAAAAAAAAAAAAAAAAAAAAAAAAAAAAAAAAAAAAAAAAAAAAAAAAAAAAAAAAAAAAAAAAAAAAAAAAAAAAAAAAAAAAAAAAAAAAAAAAAAAAAAAAAAAAAAAAAAAAAAAAAAAAAAAAAAAAAAAAAAAAAAAAAAAAAAAAAAAAAAAAAAAAAAAAAAAAAAAAAAAAAAAAAAAAAAAAAAAAAAAACAPwAAAAAAAAAAAAAAAAAAAAAAAAAAAAAAAAAAAAAAAAAAAAAAQAAAAAAAAIA/AAAAAAAAAAAAAAAAAAAAAAAAAAAAAAAAAAAAAAAAAAAAAAAAAAAAAAAAgD8AAAAAAAAAAAAAAAAAAAAAAAAAAAAAAAAAAAAAAAAAAAAAAAAAAAAAAAAAAAAAgD8AAAAAAAAAAAAAAAAAAAAAAAAAAAAAAAAAAAAAAAAAAAAAAAAAAAAAAAAAAAAAAAAAAAAAAAAAAAAAAAAAAAAAAAAAAAAAgD8AAAAAAAAAAAAAAAAAAAAAAAAAAAAAgD8AAAAAAAAAAAAAAAAAAAAAAAAAAAAAgD8AAAAAAAAAAAAAAAAAAAAAAAAAAAAAgD8AAAAAAAAAAAAAAAAAAAAAAAAAAAAAAAAAAAAAAAAAAAAAgD8AAAAAAAAAAAAAAAAAAIA/AAAAAAAAAAAAAAAAAAAAAAAAAAAAAAAAAAAAAAAAAAAAAAAAAAAAAAAAAAAAAAAAAAAAAAAAAAAAAAAAAAAAAAAAAAAAAAAAAAAAAAAAAAAAAAAAAACAPwAAAAAAAIA/AAAAAAAAAAAAAAAAAAAAAAAAAAAAAAAAAAAAAAAAAAAAAAAAAAAAAAAAAAAAAAAAAAAAAAAAAAAAAAAAAAAAAAAAAAAAAAAAAACAPwAAAAAAAAAAAAAAAAAAgD8AAAAAAAAAAAAAAAAAAAAAAAAAAAAAAAAAAAAAAAAAAAAAAAAAAAAAAAAAAAAAAAAAAIA/AAAAAAAAAAAAAAAAAAAAAAAAAAAAAAAAAAAAAAAAAAAAAAAAAAAAAAAAAAAAAAAAAAAAAAAAAAAAAAAAAAAAAAAAAAAAAAAAAAAAAAAAAAAAAAAAAAAAAAAAAAAAAAAAAACAPwAAAAAAAAAAAAAAAAAAAAAAAAAAAAAAAAAAAAAAAAAAAACAPwAAAAAAAAAAAAAAAAAAAAAAAIA/AAAAAAAAAAAAAAAAAAAAAAAAAAAAAAAAAACAPwAAAAAAAAAAAACAPwAAAAAAAAAAAAAAAAAAAAAAAAAAAAAAAAAAAAAAAAAAAAAAAAAAAAAAAAAAAAAAAAAAAAAAAAAAAAAAAAAAgD8AAIA/AAAAAAAAgD8AAAAAAAAAAAAAAAAAAAAAAAAAAAAAAAAAAAAAAACAPwAAAAAAAAAAAAAAAAAAgD8AAAAAAAAAAAAAAAAAAAAAAAAAAAAAAAAAAAAAAACAPwAAAAAAAAAAAAAAAAAAAAAAAAAAAAAAAAAAAAAAAAAAAAAAAAAAAAAAAAAAAAAAAAAAAAAAAAAAAAAAAAAAAAAAAAAAAAAAAAAAAAAAAAAAAAAAAAAAAAAAAAAAAAAAAAAAAAAAAAAAAAAAAAAAAAAAAAAAAAAAAAAAAAAAAAAAAAAAAAAAAAAAAAAAAAAAAAAAAAAAAAAAAAAAAAAAAAAAAAAAAAAAAAAAAAAAAAAAAAAAAAAAAAAAAAAAAAAAAAAAAAAAAAAAAAAAAAAAAAAAAAAAAAAAAAAAAAAAAAAAAAAAAAAAAAAAAAAAAAAAAAAAAAAAAAAAAAAAAAAAAAAAAAAAAAAAAAAAAAAAAIA/AAAAAAAAAAAAAAAAAAAAAAAAAAAAAAAAAAAAAAAAAAAAAAAAAAAAAAAAAAAAAAAAAAAAAAAAAAAAAAAAAAAAAAAAgD8AAAAAAAAAAAAAAAAAAIA/AAAAAAAAAAAAAAAAAACAPwAAgD8AAAAAAAAAAAAAAAAAAAAAAAAAAAAAAAAAAAAAAAAAAAAAAAAAAAAAAAAAAAAAAAAAAAAAAAAAAAAAAAAAAAAAAAAAAAAAAAAAAAAAAAAAAAAAAAAAAAAAAAAAAAAAAAAAAAAAAAAAAAAAgD8AAAAAAAAAAAAAAAAAAIA/AAAAAAAAAAAAAAAAAAAAAAAAgD8AAAAAAAAAAAAAAAAAAIA/AACAPwAAAAAAAAAAAAAAAAAAAAAAAAAAAAAAAAAAAAAAAAAAAAAAAAAAgD8AAAAAAAAAAAAAAAAAAIA/AAAAAAAAAAAAAAAAAAAAAAAAgD8AAAAAAAAAAAAAAAAAAIA/AAAAAAAAgD8AAAAAAAAAAAAAAAAAAAAAAAAAAAAAAAAAAAAAAAAAAAAAAAAAAAAAAACAPwAAAAAAAIA/AAAAAAAAAAAAAAAAAAAAAAAAAAAAAAAAAAAAAAAAAAAAAAAAAAAAAAAAAAAAAAAAAAAAQAAAAAAAAAAAAAAAAAAAAAAAAAAAAAAAAAAAAAAAAAAAAAAAAAAAAAAAAAAAAAAAAAAAAAAAAAAAAAAAAAAAAAAAAAAAAAAAAAAAgD8AAAAAAAAAAAAAAAAAAAAAAAAAAAAAAAAAAAAAAAAAAAAAgD8AAIA/AAAAAAAAAAAAAAAAAAAAAAAAgD8AAAAAAAAAAAAAAAAAAAAAAAAAAAAAAAAAAAAAAAAAAAAAAAAAAAAAAAAAAAAAAAAAAAAAAACAPwAAAAAAAAAAAAAAAAAAAAAAAAAAAACAPwAAAAAAAAAAAAAAAAAAAAAAAAAAAAAAAAAAAAAAAAAAAAAAAAAAAAAAAAAAAAAAAAAAAAAAAAAAAACAPwAAAAAAAAAAAAAAAAAAAAAAAAAAAAAAAAAAAAAAAAAAAAAAAAAAAAAAAAAAAAAAAAAAAAAAAAAAAAAAAAAAAAAAAAAAAAAAAAAAAAAAAAAAAAAAAAAAAAAAAIA/AAAAAAAAAAAAAAAAAAAAAAAAAAAAAAAAAAAAAAAAgD8AAAAAAACAPwAAAAAAAAAAAAAAAAAAAAAAAAAAAAAAAAAAAAAAAAAAAACAPwAAAAAAAAAAAAAAAAAAAAAAAAAAAAAAAAAAAAAAAAAAAAAAAAAAAAAAAAAAAAAAAAAAAAAAAAAAAACAPwAAAAAAAAAAAAAAAAAAAAAAAAAAAACAPwAAAAAAAIA/AAAAAAAAAAAAAAAAAAAAAAAAAAAAAAAAAAAAAAAAgD8AAAAAAAAAAAAAAAAAAAAAAAAAAAAAAAAAAAAAAAAAAAAAAAAAAAAAAAAAAAAAAAAAAAAAAAAAAAAAAAAAAAAAAAAAAAAAAAAAAAAAAAAAAAAAAAAAAAAAAAAAAAAAAAAAAIA/AAAAAAAAAAAAAAAAAAAAAAAAAAAAAAAAAAAAAAAAAAAAAAAAAAAAAAAAAAAAAAAAAAAAAAAAAAAAAAAAAAAAAAAAAAAAAAAAAAAAAAAAAAAAAAAAAAAAAAAAAAAAAAAAAAAAAAAAAAAAAAAAAACAPwAAAAAAAAAAAAAAAAAAAAAAAAAAAAAAAAAAAAAAAIA/AAAAAAAAAAAAAAAAAACAPwAAAAAAAAAAAAAAAAAAgD8AAAAAAAAAAAAAAAAAAAAAAAAAAAAAAAAAAAAAAAAAAAAAAAAAAAAAAAAAAAAAgD8AAAAAAAAAAAAAgD8AAAAAAAAAAAAAAAAAAIA/AAAAAAAAgD8AAAAAAAAAAAAAgD8AAAAAAAAAAAAAAAAAAAAAAACAPwAAAAAAAAAAAAAAAAAAAAAAAIA/AAAAAAAAAAAAAIA/AAAAQAAAAAAAAAAAAAAAAAAAAAAAAIA/AAAAAAAAAAAAAAAAAAAAAAAAAAAAAAAAAAAAAAAAAAAAAAAAAAAAAAAAAAAAAAAAAAAAAAAAAAAAAAAAAAAAAAAAAAAAAAAAAAAAAAAAAAAAAAAAAAAAAAAAAAAAAAAAAACAPwAAAAAAAAAAAAAAAAAAAAAAAAAAAAAAAAAAAAAAAAAAAAAAAAAAAAAAAAAAAAAAAAAAAAAAAAAAAAAAAAAAAAAAAAAAAAAAAAAAAAAAAAAAAAAAAAAAAAAAAAAAAAAAAAAAgD8AAAAAAACAPwAAAAAAAAAAAAAAAAAAAAAAAAAAAAAAAAAAAAAAAABAAAAAAAAAAAAAAAAAAAAAAAAAAAAAAAAAAACAPwAAAAAAAIA/AAAAAAAAAAAAAAAAAAAAAAAAAAAAAAAAAAAAAAAAAAAAAAAAAAAAAAAAAAAAAIA/AAAAAAAAAAAAAAAAAAAAAAAAgD8AAAAAAAAAAAAAAAAAAAAAAAAAAAAAAAAAAIA/AAAAAAAAAAAAAAAAAAAAAAAAAAAAAAAAAAAAAAAAAAAAAAAAAAAAAAAAAAAAAAAAAACAPwAAAAAAAAAAAAAAAAAAAAAAAAAAAAAAAAAAAAAAAIA/AAAAAAAAAAAAAAAAAACAPwAAAAAAAAAAAAAAAAAAAAAAAAAAAAAAAAAAAAAAAAAAAAAAAAAAAAAAAAAAAAAAAAAAAAAAAAAAAAAAAAAAAAAAAAAAAAAAAAAAAAAAAAAAAAAAAAAAAAAAAAAAAAAAAAAAAAAAAAAAAAAAAAAAAAAAAIA/AAAAAAAAAAAAAAAAAAAAAAAAAAAAAAAAAAAAAAAAAAAAAIA/AACAPwAAAAAAAAAAAAAAAAAAAAAAAAAAAAAAAAAAAAAAAAAAAAAAAAAAAAAAAIA/AAAAAAAAgD8AAIA/AAAAAAAAAAAAAAAAAAAAAAAAAAAAAAAAAAAAAAAAAAAAAAAAAAAAAAAAAAAAAAAAAAAAAAAAAAAAAIA/AAAAAAAAAAAAAAAAAACAPwAAAAAAAAAAAAAAAAAAAAAAAAAAAAAAAAAAAAAAAAAAAAAAAAAAAAAAAAAAAAAAAAAAAAAAAABAAAAAAAAAAAAAAAAAAAAAAAAAAAAAAAAAAAAAAAAAAAAAAAAAAAAAAAAAAAAAAAAAAAAAAAAAgD8AAABAAAAAAAAAgD8AAAAAAAAAAAAAAAAAAAAAAAAAAAAAAAAAAAAAAAAAAAAAAAAAAAAAAAAAAAAAAAAAAAAAAAAAAAAAAAAAAAAAAAAAAAAAAAAAAAAAAAAAAAAAAAAAAAAAAAAAAAAAAAAAAAAAAAAAAAAAAAAAAAAAAAAAAAAAAAAAAAAAAAAAAAAAAAAAAAAAAAAAAAAAgD8AAAAAAAAAAAAAAAAAAAAAAAAAAAAAAAAAAAAAAAAAAAAAAAAAAAAAAAAAAAAAAAAAAAAAAACAPwAAAAAAAAAAAAAAAAAAAAAAAAAAAAAAAAAAAAAAAAAAAAAAAAAAAAAAAAAAAAAAAAAAAAAAAAAAAAAAAAAAAAAAAAAAAAAAAAAAAAAAAAAAAAAAAAAAgD8AAAAAAAAAAAAAAAAAAAAAAAAAAAAAAAAAAAAAAAAAAAAAgD8AAAAAAAAAAAAAAAAAAAAAAAAAAAAAAAAAAAAAAAAAAAAAAAAAAIA/AAAAAAAAAAAAAAAAAAAAAAAAAAAAAAAAAAAAAAAAAAAAAAAAAAAAAAAAAAAAAIA/AAAAAAAAAAAAAAAAAAAAAAAAAAAAAAAAAAAAAAAAAAAAAAAAAAAAAAAAAAAAAAAAAAAAAAAAAAAAAAAAAAAAAAAAAAAAAIA/AAAAAAAAAAAAAAAAAAAAAAAAAAAAAAAAAAAAAAAAAAAAAAAAAAAAAAAAAAAAAAAAAAAAAAAAAAAAAAAAAAAAAAAAAAAAAAAAAAAAAAAAAAAAAAAAAAAAAAAAAAAAAAAAAACAPwAAAAAAAIA/AACAPwAAAAAAAAAAAAAAAAAAAAAAAAAAAAAAAAAAgD8AAAAAAAAAAAAAAAAAAAAAAAAAAAAAAAAAAAAAAAAAAAAAAAAAAAAAAAAAAAAAAAAAAAAAAAAAAAAAAAAAAAAAAAAAAAAAgD8AAAAAAAAAAAAAAAAAAAAAAAAAAAAAAAAAAAAAAAAAAAAAAAAAAAAAAACAPwAAAAAAAAAAAAAAAAAAAAAAAAAAAAAAAAAAgD8AAAAAAAAAAAAAAAAAAAAAAAAAAAAAAAAAAAAAAAAAAAAAAAAAAAAAAACAPwAAAAAAAIA/AAAAAAAAAAAAAIA/AAAAAAAAAAAAAAAAAAAAAAAAAAAAAAAAAAAAAAAAAAAAAAAAAAAAAAAAAAAAAAAAAAAAAAAAAAAAAAAAAAAAAAAAAAAAAAAAAAAAAAAAAAAAAAAAAAAAAAAAAAAAAAAAAAAAAAAAAAAAAIA/AAAAAAAAAAAAAAAAAAAAAAAAAAAAAAAAAAAAAAAAAAAAAAAAAAAAAAAAAAAAAAAAAAAAAAAAAAAAAAAAAAAAAAAAAAAAAAAAAAAAAAAAAAAAAAAAAAAAAAAAAAAAAAAAAAAAAAAAAAAAAAAAAAAAAAAAAAAAAAAAAACAPwAAAAAAAAAAAAAAAAAAAAAAAAAAAAAAAAAAAAAAAAAAAAAAAAAAAAAAAAAAAAAAAAAAAAAAAIA/AAAAAAAAAAAAAAAAAAAAAAAAAAAAAAAAAAAAAAAAAAAAAAAAAAAAAAAAAAAAAAAAAAAAAAAAAAAAAAAAAAAAAAAAAAAAAAAAAACAPwAAAAAAAAAAAACAPwAAAAAAAAAAAAAAAAAAgD8AAAAAAAAAAAAAAAAAAAAAAAAAAAAAAAAAAAAAAAAAAAAAAAAAAAAAAAAAAAAAAAAAAAAAAAAAAAAAAAAAAAAAAAAAAAAAAAAAAAAAAACAPwAAAAAAAAAAAAAAAAAAAAAAAAAAAAAAAAAAAAAAAAAAAAAAAAAAAAAAAAAAAAAAAAAAAAAAAIA/AAAAAAAAAAAAAAAAAAAAAAAAAAAAAAAAAAAAAAAAgD8AAAAAAACAPwAAAAAAAIA/AAAAAAAAAAAAAIA/AACAPwAAAAAAAAAAAAAAAAAAAAAAAAAAAAAAAAAAAAAAAIA/AAAAAAAAAAAAAAAAAAAAAAAAAAAAAIA/AAAAAAAAAAAAAAAAAACAPwAAgD8AAAAAAAAAAAAAAAAAAAAAAAAAAAAAAAAAAABAAAAAAAAAAAAAAAAAAAAAAAAAAAAAAAAAAAAAAAAAAAAAAAAAAACAPwAAAAAAAAAAAAAAAAAAAAAAAAAAAAAAAAAAAAAAAAAAAAAAAAAAgD8AAAAAAACAPwAAAAAAAAAAAAAAAAAAAAAAAAAAAAAAAAAAAAAAAAAAAAAAAAAAAAAAAAAAAAAAAAAAAAAAAAAAAAAAAAAAgD8AAAAAAAAAAAAAAAAAAAAAAAAAAAAAAAAAAAAAAACAPwAAAAAAAAAAAAAAAAAAAAAAAAAAAACAPwAAAAAAAAAAAAAAAAAAAAAAAAAAAAAAAAAAAAAAAAAAAAAAAAAAAAAAAAAAAAAAAAAAAAAAAIA/AACAPwAAAAAAAAAAAAAAAAAAAAAAAAAAAAAAAAAAAAAAAAAAAAAAAAAAAAAAAAAAAAAAAAAAAAAAAAAAAACAPwAAgD8AAAAAAAAAAAAAAAAAAAAAAAAAAAAAAAAAAAAAAAAAAAAAAAAAAAAAAAAAAAAAAAAAAAAAAAAAAAAAAAAAAAAAAACAPwAAAAAAAAAAAAAAAAAAAAAAAAAAAAAAAAAAAAAAAAAAAAAAAAAAAAAAAAAAAAAAAAAAAAAAAAAAAAAAAAAAAAAAAIA/AACAPwAAgD8AAAAAAAAAAAAAAAAAAIA/AACAPwAAAAAAAAAAAAAAAAAAAAAAAAAAAAAAAAAAAAAAAAAAAAAAAAAAAAAAAAAAAAAAAAAAAAAAAAAAAAAAAAAAAAAAAAAAAAAAAAAAAAAAAAAAAAAAAAAAAAAAAAAAAAAAAAAAgD8AAIA/AAAAAAAAAAAAAIA/AAAAAAAAAAAAAAAAAAAAAAAAAAAAAAAAAAAAAAAAAAAAAAAAAACAPwAAAAAAAIA/AAAAAAAAAAAAAAAAAAAAAAAAAAAAAIA/AAAAAAAAAAAAAAAAAAAAAAAAgD8AAAAAAAAAAAAAAAAAAAAAAAAAAAAAAAAAAAAAAAAAAAAAAAAAAAAAAAAAAAAAAAAAAAAAAACAPwAAAAAAAAAAAAAAAAAAgD8AAABAAAAAAAAAAAAAAAAAAAAAAAAAAAAAAIA/AACAPwAAAAAAAAAAAAAAAAAAAAAAAAAAAAAAAAAAAAAAAAAAAAAAAAAAAAAAAAAAAAAAAAAAAAAAAIA/AAAAAAAAAAAAAIA/AAAAAAAAAAAAAIA/AAAAAAAAAAAAAAAAAAAAAAAAAAAAAAAAAAAAAAAAgD8AAAAAAAAAAAAAAAAAAAAAAAAAAAAAAAAAAIA/AAAAAAAAAAAAAAAAAAAAAAAAAAAAAAAAAAAAAAAAAAAAAIA/AAAAAAAAAAAAAAAAAAAAAAAAAAAAAAAAAAAAAAAAgD8AAAAAAAAAAAAAAAAAAAAAAAAAAAAAAAAAAIA/AAAAAAAAAAAAAAAAAAAAAAAAgD8AAAAAAAAAAAAAAAAAAAAAAAAAAAAAAAAAAAAAAAAAAAAAAAAAAAAAAAAAAAAAAAAAAIA/AAAAAAAAAAAAAIA/AAAAAAAAAAAAAAAAAAAAAAAAAAAAAAAAAAAAAAAAAAAAAAAAAAAAAAAAAAAAAAAAAAAAAAAAAAAAAAAAAAAAAAAAAAAAAAAAAAAAAAAAAAAAAAAAAAAAAAAAAAAAAAAAAAAAAAAAAAAAAAAAAAAAAAAAAAAAAAAAAAAAAAAAgD8AAAAAAAAAAAAAAAAAAIA/AAAAAAAAAAAAAAAAAAAAAAAAAAAAAIA/AAAAAAAAAAAAAAAAAAAAAAAAAAAAAAAAAAAAAAAAAAAAAAAAAAAAAAAAAAAAAIA/AAAAAAAAAAAAAAAAAAAAAAAAgD8AAAAAAAAAAAAAAAAAAAAAAAAAAAAAAAAAAIA/AAAAAAAAAAAAAAAAAAAAAAAAAAAAAAAAAAAAAAAAAAAAAAAAAAAAAAAAAAAAAAAAAACAPwAAAAAAAAAAAAAAAAAAAAAAAAAAAAAAAAAAAAAAAAAAAACAPwAAAAAAAIA/AAAAAAAAAAAAAAAAAAAAAAAAAAAAAAAAAAAAAAAAAAAAAAAAAAAAAAAAAAAAAAAAAAAAAAAAAAAAAAAAAAAAAAAAAAAAAAAAAAAAAAAAAAAAAAAAAAAAAAAAAAAAAAAAAAAAAAAAAAAAAAAAAAAAAAAAAAAAAAAAAAAAAAAAAAAAAAAAAAAAAAAAgD8AAAAAAAAAAAAAAAAAAAAAAAAAAAAAAAAAAAAAAAAAAAAAAAAAAAAAAAAAAAAAAAAAAAAAAACAPwAAAAAAAAAAAAAAAAAAAAAAAAAAAAAAAAAAAAAAAAAAAAAAAAAAAAAAAAAAAAAAAAAAAAAAAAAAAAAAAAAAAAAAAAAAAAAAAAAAAAAAAAAAAAAAAAAAAAAAAAAAAAAAAAAAAAAAAAAAAACAPwAAAAAAAAAAAAAAAAAAAAAAAAAAAAAAAAAAAAAAAIA/AAAAAAAAAAAAAAAAAAAAAAAAAAAAAAAAAAAAAAAAAAAAAAAAAAAAAAAAgD8AAAAAAAAAAAAAAAAAAAAAAAAAAAAAAAAAAAAAAAAAAAAAAAAAAAAAAACAPwAAAAAAAAAAAAAAAAAAAAAAAAAAAAAAAAAAAAAAAAAAAAAAAAAAgD8AAAAAAAAAAAAAAAAAAAAAAACAPwAAAAAAAAAAAAAAAAAAAAAAAAAAAAAAAAAAAAAAAAAAAABAQAAAAAAAAAAAAACAPwAAAAAAAAAAAAAAAAAAAAAAAAAAAAAAAAAAgD8AAAAAAAAAAAAAAAAAAAAAAAAAAAAAAAAAAAAAAACAPwAAAAAAAAAAAAAAAAAAAAAAAAAAAAAAAAAAAAAAAAAAAAAAAAAAAAAAAAAAAAAAAAAAAAAAAAAAAAAAAAAAAAAAAAAAAAAAAAAAAAAAAAAAAAAAAAAAAAAAAAAAAAAAAAAAAAAAAAAAAAAAAAAAAAAAAIA/AAAAAAAAAAAAAIA/AAAAAAAAAAAAAAAAAAAAAAAAAAAAAAAAAAAAAAAAgD8AAAAAAAAAAAAAAAAAAAAAAAAAAAAAAAAAAAAAAAAAAAAAAAAAAAAAAAAAAAAAAAAAAAAAAAAAAAAAAAAAAAAAAAAAAAAAAAAAAAAAAAAAAAAAAAAAAAAAAACAPwAAAAAAAAAAAAAAQAAAAAAAAAAAAAAAAAAAAAAAAAAAAACAPwAAAAAAAAAAAAAAAAAAAAAAAAAAAAAAAAAAAAAAAAAAAAAAAAAAAAAAAAAAAAAAAAAAAAAAAAAAAAAAAAAAAAAAAIA/AAAAAAAAAAAAAAAAAAAAAAAAAAAAAAAAAAAAAAAAAAAAAAAAAAAAAAAAAAAAAAAAAAAAAAAAAAAAAAAAAACAPwAAAAAAAAAAAAAAAAAAAAAAAAAAAAAAAAAAAAAAAAAAAACAPwAAAAAAAAAAAAAAAAAAAAAAAAAAAAAAAAAAgD8AAAAAAAAAAAAAAAAAAIA/AACAPwAAAAAAAIA/AAAAAAAAAAAAAAAAAAAAAAAAAAAAAIA/AAAAAAAAAAAAAAAAAAAAAAAAAAAAAAAAAAAAAAAAAAAAAAAAAACAPwAAAAAAAAAAAAAAAAAAAAAAAAAAAAAAAAAAAAAAAAAAAAAAAAAAAAAAAAAAAAAAAAAAAAAAAAAAAAAAAAAAAAAAAAAAAAAAAAAAAAAAAAAAAAAAAAAAAAAAAAAAAAAAAAAAAAAAAAAAAAAAAAAAAAAAAAAAAAAAAAAAAAAAAAAAAAAAAAAAAAAAAAAAAAAAAAAAAAAAAAAAAAAAAAAAAAAAAAAAAAAAAAAAAAAAAAAAAAAAAAAAAAAAAIA/AAAAAAAAAAAAAAAAAAAAAAAAAAAAAAAAAAAAAAAAAAAAAAAAAAAAAAAAAAAAAAAAAACAPwAAAAAAAAAAAAAAAAAAAAAAAIA/AAAAAAAAAAAAAIA/AAAAAAAAAAAAAAAAAAAAAAAAAAAAAAAAAAAAAAAAAAAAAAAAAAAAAAAAAAAAAAAAAAAAAAAAAAAAAAAAAAAAAAAAgD8AAAAAAAAAAAAAAAAAAIA/AAAAAAAAAAAAAAAAAACAPwAAAAAAAAAAAAAAAAAAAAAAAIA/AAAAAAAAAAAAAAAAAAAAAAAAAAAAAAAAAAAAAAAAAAAAAAAAAACAPwAAAAAAAAAAAAAAAAAAAAAAAAAAAAAAAAAAAAAAAAAAAAAAAAAAAAAAAAAAAAAAAAAAAAAAAAAAAAAAAAAAAAAAAAAAAAAAAAAAAAAAAAAAAAAAAAAAAAAAAAAAAAAAAAAAAAAAAIA/AAAAAAAAAAAAAAAAAAAAAAAAAAAAAIA/AAAAAAAAgD8AAAAAAAAAAAAAgD8AAAAAAAAAAAAAAAAAAIA/AAAAAAAAgD8AAAAAAAAAAAAAAAAAAAAAAAAAAAAAAAAAAAAAAAAAAAAAAAAAAAAAAAAAAAAAAAAAAIA/AAAAAAAAgD8AAAAAAAAAAAAAAAAAAAAAAAAAAAAAAAAAAEBAAACAPwAAgD8AAAAAAAAAAAAAgD8AAAAAAAAAAAAAAAAAAAAAAAAAAAAAAAAAAAAAAAAAAAAAgD8AAAAAAACAPwAAAAAAAAAAAAAAAAAAAAAAAAAAAACAPwAAgD8AAAAAAACAPwAAAAAAAAAAAAAAAAAAAAAAAAAAAAAAAAAAAAAAAAAAAAAAAAAAAAAAAAAAAAAAAAAAAAAAAAAAAAAAAAAAAAAAAAAAAAAAAAAAgD8AAAAAAAAAAAAAAAAAAAAAAAAAAAAAAAAAAAAAAAAAAAAAgD8AAIA/AAAAAAAAAAAAAAAAAAAAAAAAAAAAAAAAAAAAAAAAAAAAAAAAAAAAAAAAAAAAAAAAAAAAAAAAAAAAAAAAAAAAAAAAAAAAAIA/AAAAAAAAAAAAAAAAAACAPwAAAAAAAAAAAAAAAAAAAAAAAIA/AACAPwAAAAAAAAAAAAAAAAAAAAAAAAAAAAAAAAAAAAAAAAAAAAAAAAAAAAAAAAAAAAAAAAAAgD8AAAAAAAAAAAAAAAAAAAAAAAAAAAAAAAAAAAAAAAAAAAAAAAAAAAAAAAAAAAAAAAAAAAAAAAAAAAAAgD8AAAAAAAAAAAAAgD8AAAAAAAAAAAAAAAAAAAAAAAAAAAAAAAAAAIA/AAAAAAAAAAAAAAAAAAAAAAAAgD8AAAAAAAAAAAAAgD8AAAAAAACAPwAAAAAAAIA/AACAPwAAAAAAAAAAAAAAAAAAAAAAAAAAAAAAAAAAAAAAAAAAAAAAAAAAAAAAAABAAAAAAAAAAAAAAAAAAAAAAAAAAAAAAAAAAAAAAAAAAAAAAAAAAAAAAAAAAAAAAAAAAAAAAAAAgD8AAAAAAACAPwAAgD8AAAAAAAAAAAAAAAAAAAAAAACAPwAAAAAAAAAAAAAAAAAAAAAAAAAAAACAPwAAgD8AAIA/AAAAAAAAAAAAAAAAAAAAAAAAAAAAAAAAAAAAAAAAAAAAAAAAAAAAAAAAAAAAAAAAAAAAAAAAAAAAAAAAAAAAAAAAAAAAAAAAAACAPwAAAAAAAAAAAAAAAAAAAAAAAAAAAAAAAAAAAAAAAAAAAAAAAAAAAAAAAAAAAAAAAAAAgD8AAAAAAAAAAAAAAAAAAAAAAAAAAAAAAAAAAIA/AAAAAAAAAAAAAAAAAAAAQAAAAAAAAAAAAAAAAAAAAAAAAAAAAACAPwAAgD8AAAAAAAAAAAAAAAAAAAAAAAAAAAAAAAAAAAAAAAAAAAAAAAAAAAAAAAAAAAAAAAAAAAAAAAAAAAAAAAAAAAAAAAAAAAAAAAAAAAAAAAAAAAAAAAAAAAAAAAAAAAAAAAAAAAAAAAAAAAAAgD8AAAAAAAAAAAAAAAAAAAAAAAAAAAAAAAAAAAAAAAAAAAAAAAAAAAAAAACAPwAAgD8AAAAAAAAAAAAAAAAAAAAAAAAAAAAAAAAAAAAAAACAPwAAAAAAAAAAAACAPwAAAAAAAAAAAAAAAAAAAAAAAAAAAAAAAAAAAAAAAAAAAAAAAAAAAAAAAAAAAAAAAAAAgD8AAAAAAAAAAAAAAAAAAAAAAACAPwAAAAAAAAAAAAAAAAAAAAAAAAAAAAAAAAAAAAAAAAAAAAAAAAAAAAAAAAAAAAAAAAAAAAAAAAAAAAAAAAAAAAAAAIA/AAAAAAAAgD8AAAAAAAAAAAAAAAAAAAAAAAAAAAAAAAAAAAAAAAAAAAAAAAAAAAAAAAAAAAAAAAAAAAAAAAAAAAAAAAAAAAAAAACAPwAAAAAAAAAAAAAAAAAAAAAAAAAAAAAAAAAAAAAAAAAAAAAAAAAAAAAAAABAAAAAAAAAAAAAAAAAAAAAAAAAAAAAAAAAAAAAAAAAgD8AAAAAAAAAAAAAAAAAAAAAAAAAAAAAAAAAAIA/AACAPwAAAAAAAAAAAAAAAAAAAAAAAAAAAAAAAAAAgD8AAAAAAAAAAAAAAAAAAAAAAAAAAAAAAAAAAAAAAAAAAAAAAAAAAAAAAAAAAAAAAAAAAIA/AAAAAAAAAAAAAAAAAAAAAAAAAAAAAIA/AAAAAAAAAAAAAAAAAAAAAAAAAAAAAAAAAAAAAAAAAAAAAAAAAACAPwAAAAAAAAAAAAAAQAAAAAAAAAAAAAAAAAAAAAAAAAAAAAAAAAAAAAAAAAAAAAAAAAAAAAAAAAAAAAAAAAAAAAAAAAAAAACAPwAAAAAAAAAAAAAAAAAAAAAAAAAAAACAPwAAAAAAAAAAAAAAAAAAgD8AAAAAAAAAAAAAgD8AAAAAAAAAAAAAAAAAAIA/AAAAAAAAAAAAAAAAAAAAAAAAAAAAAAAAAACAPwAAAAAAAAAAAAAAAAAAAAAAAAAAAAAAAAAAAAAAAAAAAAAAAAAAAAAAAIA/AAAAAAAAAAAAAAAAAAAAAAAAAAAAAAAAAAAAAAAAAAAAAIA/AAAAAAAAAAAAAAAAAAAAAAAAAAAAAAAAAAAAAAAAAAAAAAAAAACAPwAAAAAAAAAAAAAAAAAAAAAAAAAAAACAPwAAAAAAAAAAAACAPwAAAAAAAAAAAACAPwAAAAAAAAAAAAAAAAAAAAAAAAAAAAAAAAAAAAAAAAAAAAAAAAAAAAAAAIA/AACAPwAAgD8AAAAAAAAAAAAAAAAAAAAAAACAPwAAgD8AAAAAAAAAAAAAAAAAAABAAAAAAAAAAAAAAAAAAAAAAAAAAAAAAAAAAAAAAAAAAAAAAAAAAAAAAAAAAAAAAAAAAAAAAAAAAAAAAAAAAAAAAAAAAAAAAAAAAAAAAAAAAAAAAAAAAAAAAAAAAAAAAAAAAAAAAAAAAAAAAAAAAAAAAAAAgD8AAIA/AAAAAAAAAAAAAAAAAAAAAAAAAAAAAAAAAAAAAAAAAAAAAIA/AAAAAAAAgD8AAIA/AAAAAAAAAAAAAAAAAAAAAAAAgD8AAAAAAAAAAAAAAAAAAAAAAAAAAAAAAAAAAAAAAAAAAAAAAAAAAAAAAAAAAAAAAAAAAAAAAAAAAAAAAAAAAAAAAAAAAAAAAAAAAAAAAAAAAAAAAAAAAAAAAACAPwAAAAAAAIA/AAAAAAAAgD8AAAAAAAAAAAAAAAAAAAAAAAAAAAAAgD8AAAAAAAAAAAAAAAAAAIA/AAAAAAAAgD8AAIA/AAAAAAAAAAAAAIA/AAAAAAAAAAAAAAAAAAAAQAAAAAAAAAAAAACAPwAAAAAAAAAAAACAPwAAgD8AAIA/AACAPwAAAAAAAAAAAACAPwAAgD8AAAAAAAAAAAAAAAAAAAAAAAAAAAAAAAAAAAAAAAAAAAAAgD8AAAAAAAAAAAAAgD8AAAAAAACAPwAAAAAAAAAAAAAAAAAAAAAAAAAAAACAPwAAAAAAAAAAAAAAAAAAAAAAAAAAAAAAAAAAgD8AAAAAAAAAAAAAAAAAAAAAAAAAAAAAAAAAAIA/AAAAAAAAAAAAAAAAAAAAAAAAAAAAAIA/AACAPwAAAAAAAAAAAAAAAAAAAEAAAAAAAAAAAAAAAAAAAAAAAACAPwAAAAAAAAAAAAAAAAAAAAAAAAAAAAAAAAAAAAAAAABAAAAAAAAAAAAAAAAAAAAAAAAAgD8AAAAAAACAPwAAAAAAAABAAACAPwAAAAAAAAAAAAAAAAAAAAAAAAAAAAAAAAAAAAAAAAAAAAAAAAAAgD8AAAAAAAAAAAAAAAAAAAAAAAAAAAAAgD8AAIA/AAAAAAAAAAAAAAAAAAAAAAAAAAAAAAAAAAAAAAAAgD8AAAAAAAAAAAAAAAAAAAAAAAAAAAAAAAAAAAAAAAAAAAAAAAAAAAAAAAAAAAAAAAAAAAAAAAAAAAAAAAAAAAAAAAAAAAAAAAAAAAAAAAAAAAAAAAAAAAAAAAAAAAAAAAAAAIA/AAAAAAAAAAAAAIA/AAAAAAAAAAAAAAAAAAAAAAAAAAAAAIA/AAAAAAAAAAAAAAAAAACAPwAAgD8AAAAAAAAAAAAAAAAAAAAAAAAAAAAAAAAAAIA/AAAAAAAAAAAAAAAAAAAAAAAAAAAAAAAAAACAPwAAAAAAAAAAAAAAAAAAAAAAAAAAAAAAAAAAAAAAAAAAAACAPwAAAAAAAAAAAAAAAAAAAAAAAAAAAACAPwAAAAAAAAAAAAAAAAAAAAAAAAAAAAAAAAAAAAAAAAAAAAAAAAAAAAAAAAAAAACAPwAAAAAAAAAAAACAPwAAAAAAAIA/AAAAAAAAAAAAAAAAAACAPwAAAAAAAAAAAAAAAAAAgD8AAIA/AAAAAAAAAAAAAIA/AAAAAAAAAAAAAAAAAAAAAAAAAAAAAIA/AACAPwAAAAAAAAAAAAAAAAAAgD8AAAAAAAAAAAAAAAAAAAAAAAAAAAAAAAAAAIA/AACAPwAAAAAAAAAAAAAAAAAAAAAAAAAAAAAAAAAAAAAAAAAAAAAAAAAAAAAAAAAAAAAAAAAAAAAAAAAAAAAAAAAAAAAAAAAAAAAAAAAAAAAAAIA/AACAPwAAAAAAAAAAAAAAAAAAAAAAAAAAAAAAAAAAAAAAAAAAAACAPwAAAAAAAAAAAAAAAAAAAAAAAAAAAAAAAAAAgD8AAAAAAACAPwAAAAAAAAAAAAAAAAAAAAAAAAAAAACAPwAAAAAAAAAAAACAPwAAAAAAAAAAAAAAAAAAAAAAAIA/AAAAAAAAAAAAAAAAAACAPwAAAAAAAAAAAAAAAAAAgD8AAAAAAAAAAAAAAAAAAAAAAAAAAAAAAAAAAAAAAAAAQAAAAAAAAAAAAACAPwAAAAAAAAAAAAAAAAAAAAAAAAAAAACAPwAAAAAAAAAAAAAAAAAAgD8AAAAAAAAAAAAAAAAAAAAAAAAAAAAAAAAAAABAAAAAAAAAAAAAAAAAAAAAAAAAAAAAAAAAAAAAAAAAgD8AAIA/AAAAAAAAAAAAAAAAAAAAAAAAAAAAAAAAAAAAAAAAAAAAAIA/AAAAAAAAAAAAAIA/AAAAAAAAAAAAAAAAAAAAAAAAAAAAAAAAAAAAAAAAAAAAAAAAAAAAAAAAgD8AAAAAAAAAAAAAAAAAAIA/AAAAAAAAAAAAAAAAAAAAAAAAAEAAAAAAAAAAAAAAAEAAAIA/AAAAAAAAAAAAAAAAAAAAAAAAAAAAAIA/AAAAAAAAgD8AAAAAAAAAAAAAAAAAAAAAAAAAAAAAAAAAAAAAAACAPwAAAAAAAAAAAAAAAAAAAAAAAIA/AAAAAAAAAAAAAAAAAAAAAAAAAAAAAAAAAAAAAAAAAAAAAAAAAACAPwAAAAAAAAAAAAAAAAAAgD8AAAAAAAAAAAAAAAAAAAAAAAAAAAAAAAAAAIA/AAAAAAAAgD8AAAAAAAAAAAAAAAAAAAAAAAAAAAAAAAAAAAAAAACAPwAAAAAAAAAAAACAPwAAgD8AAAAAAAAAAAAAgD8AAAAAAACAPwAAAAAAAAAAAAAAAAAAgD8AAAAAAAAAAAAAAAAAAAAAAAAAAAAAAAAAAAAAAAAAAAAAAAAAAAAAAAAAAAAAgD8AAAAAAAAAAAAAAAAAAAAAAAAAAAAAgD8AAAAAAACAPwAAAAAAAAAAAAAAAAAAAAAAAIA/AACAPwAAAAAAAAAAAAAAAAAAAAAAAAAAAAAAAAAAgD8AAAAAAACAPwAAAAAAAAAAAAAAAAAAAAAAAAAAAAAAAAAAAAAAAAAAAAAAAAAAAAAAAIA/AAAAAAAAgD8AAAAAAAAAAAAAAAAAAAAAAAAAAAAAAAAAAAAAAAAAAAAAAAAAAAAAAAAAAAAAAAAAAIA/AAAAAAAAAAAAAAAAAAAAAAAAgD8AAAAAAAAAAAAAAAAAAAAAAAAAAAAAgD8AAAAAAAAAAAAAAAAAAAAAAAAAAAAAAAAAAAAAAAAAAAAAAAAAAAAAAAAAAAAAAAAAAAAAAAAAQAAAAAAAAAAAAAAAAAAAgD8AAAAAAAAAQAAAgD8AAAAAAAAAAAAAAAAAAIA/AAAAAAAAgD8AAIA/AAAAAAAAAAAAAIA/AAAAAAAAAAAAAAAAAAAAAAAAAAAAAIA/AAAAAAAAAAAAAAAAAACAPwAAAAAAAAAAAAAAAAAAAAAAAAAAAAAAAAAAAAAAAAAAAACAPwAAAAAAAIA/AAAAAAAAAEAAAAAAAAAAAAAAAAAAAAAAAACAPwAAAAAAAAAAAAAAAAAAAAAAAAAAAAAAAAAAAAAAAABAAAAAAAAAAAAAAAAAAACAPwAAAAAAAAAAAACAPwAAgD8AAAAAAACAPwAAgD8AAAAAAAAAAAAAAAAAAAAAAAAAAAAAAAAAAAAAAAAAAAAAAAAAAIA/AAAAAAAAAAAAAIA/AAAAAAAAAAAAAIA/AAAAAAAAgD8AAAAAAAAAAAAAgD8AAIA/AAAAAAAAAAAAAAAAAAAAAAAAAAAAAAAAAAAAAAAAAAAAAAAAAAAAAAAAAAAAAAAAAAAAAAAAgD8AAAAAAAAAAAAAgD8AAAAAAAAAAAAAAAAAAAAAAAAAAAAAAAAAAIA/AAAAAAAAAAAAAAAAAAAAAAAAAAAAAAAAAACAPwAAAAAAAIA/AAAAAAAAgD8AAIA/AACAPwAAgD8AAIA/AACAPwAAgD8AAAAAAACAPwAAAAAAAIA/AAAAAAAAgD8AAAAAAACAPwAAgD8AAAAAAAAAAAAAAAAAAAAAAAAAAAAAAAAAAIA/AACAPwAAAAAAAAAAAACAPwAAAAAAAIA/AAAAAAAAAAAAAAAAAAAAAAAAAAAAAAAAAAAAAAAAgD8AAIA/AAAAAAAAAAAAAAAAAAAAAAAAAAAAAAAAAACAPwAAAAAAAAAAAACAPwAAAAAAAAAAAAAAAAAAAAAAAAAAAAAAAAAAAAAAAAAAAAAAAAAAAAAAAAAAAAAAAAAAgD8AAAAAAAAAAAAAAAAAAAAAAAAAAAAAAAAAAAAAAAAAAAAAgD8AAABAAAAAAAAAAAAAAAAAAAAAAAAAAAAAAIA/AACAPwAAAAAAAAAAAAAAAAAAAEAAAAAAAACAPwAAgD8AAAAAAACAPwAAAAAAAAAAAAAAAAAAAAAAAAAAAACAPwAAAAAAAAAAAAAAAAAAAAAAAAAAAAAAAAAAAAAAAABAAAAAAAAAAAAAAAAAAAAAAAAAgD8AAAAAAAAAAAAAgD8AAAAAAAAAAAAAAAAAAAAAAAAAAAAAgD8AAAAAAAAAAAAAAAAAAIA/AACAPwAAAAAAAAAAAAAAAAAAAAAAAAAAAAAAAAAAAAAAAAAAAAAAAAAAAAAAAAAAAAAAAAAAAAAAAAAAAAAAAAAAAAAAAAAAAAAAAAAAAAAAAAAAAAAAAAAAAAAAAAAAAAAAAAAAgD8AAAAAAAAAQAAAAAAAAIA/AACAPwAAAAAAAIA/AACAPwAAgD8AAIA/AAAAAAAAgD8AAAAAAAAAAAAAAAAAAAAAAAAAQAAAgD8AAIA/AACAPwAAAAAAAAAAAAAAAAAAAAAAAIA/AAAAAAAAAAAAAIA/AACAPwAAAAAAAIA/AAAAAAAAAAAAAAAAAAAAAAAAAAAAAAAAAACAPwAAAAAAAAAAAAAAAAAAAAAAAAAAAAAAAAAAAAAAAAAAAACAPwAAgD8AAAAAAAAAAAAAAAAAAAAAAAAAAAAAAAAAAAAAAAAAAAAAAAAAAAAAAAAAAAAAgD8AAIA/AAAAAAAAAAAAAAAAAAAAAAAAAAAAAABAAAAAAAAAAAAAAIA/AACAPwAAgD8AAAAAAAAAAAAAAAAAAAAAAACAPwAAAAAAAAAAAACAPwAAgD8AAAAAAAAAAAAAAAAAAAAAAACAPwAAAAAAAAAAAAAAAAAAAAAAAIA/AAAAAAAAAAAAAAAAAAAAQAAAAAAAAAAAAAAAAAAAgD8AAIA/AAAAAAAAAAAAAABAAAAAQAAAAAAAAAAAAAAAAAAAAAAAAAAAAACAPwAAAAAAAAAAAACAPwAAAAAAAAAAAAAAAAAAAAAAAAAAAAAAAAAAAAAAAAAAAAAAAAAAgD8AAAAAAAAAAAAAAAAAAAAAAACAPwAAAAAAAAAAAAAAAAAAAAAAAAAAAAAAAAAAAAAAAAAAAAAAAAAAAAAAAAAAAAAAAAAAAAAAAIA/AACAPwAAAAAAAIA/AAAAAAAAAAAAAAAAAAAAAAAAAAAAAAAAAACAPwAAAAAAAIA/AACAPwAAAAAAAAAAAACAPwAAAAAAAAAAAAAAAAAAAAAAAIA/AAAAQAAAAAAAAABAAAAAAAAAAAAAAAAAAAAAQAAAAAAAAAAAAACAPwAAAEAAAAAAAAAAAAAAgD8AAAAAAAAAAAAAAAAAAAAAAAAAAAAAgD8AAAAAAACAPwAAAAAAAAAAAAAAAAAAAAAAAAAAAAAAAAAAAAAAAAAAAACAPwAAAAAAAIA/AACAPwAAAAAAAAAAAAAAAAAAgD8AAAAAAAAAAAAAAAAAAIA/AAAAAAAAAAAAAIA/AACAPwAAAAAAAAAAAAAAAAAAgD8AAIA/AAAAAAAAgD8AAAAAAACAPwAAAAAAAIA/AAAAAAAAAAAAAAAAAAAAAAAAAAAAAAAAAAAAAAAAAAAAAAAAAACAPwAAAAAAAAAAAAAAAAAAAAAAAAAAAAAAAAAAAAAAAAAAAACAPwAAAAAAAIA/AAAAAAAAAAAAAAAAAAAAAAAAgD8AAIA/AAAAAAAAAAAAAAAAAAAAAAAAAAAAAAAAAACAPwAAgD8AAAAAAAAAAAAAAAAAAAAAAAAAAAAAAAAAAAAAAACAPwAAAAAAAAAAAAAAQAAAAAAAAIA/AAAAAAAAAAAAAAAAAAAAAAAAgD8AAAAAAACAPwAAAAAAAAAAAACAPwAAAAAAAIA/AAAAAAAAAEAAAIA/AACAPwAAAAAAAAAAAAAAQAAAAAAAAAAAAAAAAAAAgD8AAIA/AAAAAAAAAAAAAAAAAAAAAAAAgD8AAAAAAAAAQAAAAAAAAAAAAAAAAAAAgD8AAABAAAAAAAAAAAAAAAAAAAAAAAAAgD8AAAAAAAAAAAAAAAAAAAAAAAAAAAAAAAAAAAAAAACAPwAAAAAAAAAAAAAAAAAAAEAAAIA/AAAAAAAAAAAAAAAAAACAPwAAAAAAAAAAAAAAQAAAAAAAAAAAAAAAAAAAAAAAAAAAAAAAAAAAAAAAAAAAAAAAAAAAAAAAAIA/AACAPwAAAAAAAIA/AACAPwAAAAAAAAAAAACAPwAAAAAAAIA/AAAAAAAAgD8AAAAAAAAAAAAAAAAAAIA/AACAPwAAgD8AAAAAAAAAAAAAAAAAAAAAAACAPwAAAAAAAAAAAAAAAAAAAAAAAAAAAAAAQAAAAAAAAIA/AAAAAAAAAAAAAAAAAAAAAAAAAAAAAAAAAACAPwAAAAAAAAAAAAAAAAAAAAAAAAAAAAAAAAAAgD8AAAAAAAAAAAAAAAAAAAAAAAAAAAAAAAAAAAAAAAAAAAAAAAAAAIA/AACAPwAAAAAAAAAAAAAAQAAAAAAAAIA/AAAAAAAAAAAAAIA/AAAAAAAAAAAAAAAAAACAPwAAAAAAAIA/AACAPwAAAAAAAAAAAAAAAAAAAAAAAAAAAAAAAAAAgD8AAIA/AAAAAAAAAAAAAIA/AAAAAAAAAAAAAAAAAAAAAAAAgD8AAAAAAAAAAAAAAAAAAAAAAAAAAAAAgD8AAIA/AAAAAAAAAAAAAAAAAAAAAAAAAAAAAAAAAACAPwAAgD8AAAAAAAAAAAAAAAAAAIA/AAAAAAAAAAAAAAAAAACAPwAAAAAAAAAAAACAPwAAAAAAAAAAAAAAAAAAAAAAAAAAAAAAAAAAAAAAAABAAAAAAAAAAAAAAIA/AAAAAAAAAAAAAAAAAACAPwAAAAAAAAAAAAAAAAAAgD8AAAAAAAAAAAAAgD8AAAAAAAAAAAAAAEAAAAAAAAAAAAAAAAAAAAAAAAAAAAAAgD8AAAAAAAAAAAAAAAAAAAAAAACAPwAAAAAAAAAAAAAAAAAAAAAAAABAAAAAAAAAAAAAAAAAAAAAAAAAAAAAAAAAAACAPwAAAAAAAAAAAAAAAAAAgD8AAAAAAAAAAAAAgD8AAIA/AAAAAAAAgD8AAIA/AAAAAAAAAAAAAIA/AACAPwAAAAAAAAAAAAAAAAAAAAAAAAAAAAAAAAAAAAAAAAAAAAAAAAAAAAAAAIA/AACAPwAAgD8AAAAAAAAAAAAAAAAAAAAAAACAPwAAAAAAAAAAAAAAAAAAAAAAAAAAAAAAAAAAgD8AAAAAAAAAAAAAgD8AAIA/AAAAAAAAAAAAAAAAAACAPwAAgD8AAIA/AACAPwAAAAAAAAAAAAAAAAAAgD8AAAAAAAAAAAAAgD8AAAAAAAAAAAAAAAAAAAAAAAAAAAAAgD8AAAAAAAAAAAAAgD8AAAAAAACAPwAAgD8AAAAAAABAQAAAAAAAAAAAAAAAAAAAAAAAAAAAAAAAAAAAAAAAAIA/AAAAAAAAAAAAAAAAAACAPwAAgD8AAAAAAAAAAAAAgD8AAAAAAAAAAAAAAAAAAIA/AAAAAAAAAAAAAAAAAACAPwAAAAAAAAAAAACAPwAAgD8AAIA/AAAAAAAAAAAAAAAAAAAAAAAAgD8AAAAAAAAAAAAAAAAAAAAAAAAAAAAAgD8AAAAAAACAPwAAAAAAAAAAAACAPwAAgD8AAIA/AACAPwAAAAAAAAAAAAAAAAAAAAAAAIA/AAAAAAAAgD8AAAAAAAAAAAAAgD8AAAAAAAAAAAAAAAAAAAAAAAAAQAAAAAAAAAAAAAAAAAAAAAAAAIA/AAAAAAAAAAAAAAAAAAAAAAAAAAAAAAAAAAAAAAAAAAAAAAAAAACAPwAAQEAAAAAAAAAAAAAAAAAAAAAAAAAAAAAAAAAAAAAAAAAAAAAAAAAAAAAAAAAAAAAAgD8AAAAAAAAAAAAAAAAAAAAAAAAAAAAAAAAAAAAAAAAAAAAAAAAAAIA/AACAPwAAAAAAAAAAAAAAAAAAAAAAAAAAAAAAAAAAAAAAAIA/AAAAAAAAgD8AAIA/AAAAAAAAAAAAAABAAAAAAAAAgD8AAIA/AAAAAAAAgD8AAAAAAAAAAAAAAAAAAABAAAAAAAAAAAAAAAAAAAAAQAAAAAAAAAAAAAAAAAAAAAAAAAAAAACAPwAAAAAAAAAAAAAAAAAAAAAAAAAAAACAPwAAgD8AAAAAAACAPwAAAAAAAAAAAAAAAAAAgD8AAAAAAACAPwAAAAAAAAAAAAAAAAAAAAAAAAAAAAAAAAAAAAAAAAAAAAAAAAAAgD8AAAAAAAAAAAAAgD8AAAAAAAAAAAAAAAAAAAAAAACAPwAAgD8AAIA/AACAPwAAAAAAAIA/AAAAAAAAAAAAAAAAAACAPwAAAAAAAIA/AACAPwAAAAAAAAAAAAAAQAAAAAAAAIA/AAAAAAAAAAAAAAAAAACAPwAAAAAAAIA/AAAAAAAAAAAAAIA/AAAAAAAAgD8AAIA/AAAAAAAAAAAAAIA/AACAPwAAgD8AAAAAAACAPwAAAEAAAIA/AAAAAAAAAAAAAAAAAAAAAAAAgD8AAAAAAACAPwAAgD8AAAAAAACAPwAAgD8AAIA/AAAAAAAAgD8AAIA/AAAAAAAAAAAAAAAAAACAPwAAAAAAAIA/AAAAAAAAAAAAAAAAAAAAQAAAAAAAAAAAAAAAAAAAAAAAAAAAAAAAAAAAAAAAAABAAACAPwAAAAAAAAAAAAAAAAAAgD8AAAAAAAAAAAAAAAAAAIA/AACAPwAAQEAAAAAAAAAAAAAAgD8AAAAAAAAAAAAAAAAAAAAAAACAPwAAAAAAAAAAAAAAAAAAAAAAAAAAAAAAAAAAAEAAAAAAAAAAAAAAAAAAAAAAAACAPwAAgD8AAAAAAACAPwAAgD8AAIA/AAAAQAAAAAAAAAAAAAAAAAAAAAAAAIA/AAAAAAAAAAAAAABAAACAPwAAAEAAAAAAAAAAAAAAAAAAAIA/AACAPwAAgD8AAAAAAAAAAAAAgD8AAAAAAAAAAAAAAAAAAAAAAAAAAAAAgD8AAAAAAAAAAAAAgD8AAIA/AACAPwAAAAAAAIA/AAAAAAAAAAAAAAAAAAAAAAAAAAAAAIA/AAAAAAAAAAAAAAAAAACAPwAAAAAAAIA/AAAAAAAAgD8AAIA/AAAAQAAAAAAAAIA/AAAAAAAAAAAAAAAAAAAAAAAAAAAAAAAAAACAPwAAAAAAAAAAAACAPwAAAAAAAAAAAAAAAAAAAAAAAAAAAAAAAAAAgD8AAAAAAACAPwAAAAAAAABAAAAAAAAAAAAAAIA/AACAPwAAgD8AAIA/AAAAAAAAAAAAAIA/AAAAQAAAAAAAAAAAAAAAAAAAgD8AAAAAAAAAAAAAAAAAAAAAAACAPwAAgD8AAAAAAACAPwAAAAAAAAAAAACAPwAAgD8AAABAAAAAQAAAAAAAAIA/AACAPwAAgD8AAAAAAAAAAAAAAAAAAABAAAAAQAAAAAAAAAAAAAAAAAAAAAAAAIBAAAAAAAAAgD8AAAAAAACAPwAAgD8AAAAAAAAAQAAAgD8AAAAAAACAPwAAAAAAAAAAAACAPwAAAAAAAAAAAAAAAAAAgD8AAABAAAAAAAAAAAAAAAAAAACAPwAAAAAAAAAAAAAAQAAAgD8AAABAAAAAAAAAAAAAAAAAAACAPwAAAAAAAIA/AAAAAAAAAAAAAAAAAAAAAAAAAEAAAAAAAACAPwAAAAAAAABAAAAAAAAAAAAAAAAAAACAPwAAAAAAAAAAAABAQAAAAAAAAIA/AACAPwAAAAAAAIA/AAAAAAAAAAAAAAAAAACAPwAAgD8AAAAAAAAAQAAAAAAAAIA/AAAAAAAAAAAAAABAAAAAAAAAAAAAAAAAAAAAAAAAgD8AAAAAAAAAAAAAgD8AAAAAAAAAAAAAgD8AAAAAAACAPwAAAAAAAAAAAAAAAAAAgD8AAABAAAAAAAAAAAAAAABAAAAAAAAAAAAAAAAAAACAPwAAAAAAAAAAAAAAAAAAAAAAAAAAAAAAAAAAAAAAAIA/AAAAAAAAgD8AAAAAAACAPwAAAAAAAAAAAAAAAAAAAEAAAAAAAAAAAAAAgD8AAAAAAACAPwAAQEAAAAAAAAAAAAAAgD8AAIA/AAAAAAAAAAAAAAAAAACAPwAAgD8AAABAAAAAQAAAgD8AAIA/AACAPwAAAAAAAABAAAAAAAAAAAAAAAAAAACAPwAAAAAAAAAAAACAPwAAAEAAAABAAAAAAAAAAAAAAAAAAAAAAAAAgD8AAAAAAAAAAAAAgD8AAABAAAAAAAAAgD8AAAAAAACAPwAAgD8AAAAAAACAPwAAAAAAAAAAAAAAAAAAAAAAAAAAAACAPwAAAEAAAIA/AACAPwAAAAAAAAAAAAAAAAAAgD8AAABAAAAAAAAAAEAAAIA/AAAAAAAAAEAAAAAAAACAPwAAAAAAAIA/AAAAAAAAAAAAAIA/AAAAAAAAgD8AAIA/AACAPwAAAEAAAIA/AACAPwAAAEAAAAAAAACAPwAAgD8AAAAAAABAQAAAgD8AAIA/AAAAQAAAAEAAAABAAAAAAAAAAAAAAAAAAAAAQAAAAAAAAAAAAAAAQAAAAAAAAIA/AAAAAAAAAAAAAAAAAAAAAAAAAAAAAAAAAAAAQAAAAEAAAAAAAAAAAAAAAEAAAIA/AAAAQAAAAAAAAAAAAABAQAAAAAAAAIA/AAAAAAAAAAAAAAAAAACAPwAAgD8AAIA/AAAAAAAAgD8AAAAAAACAPwAAgD8AAAAAAAAAAAAAAAAAAIA/AAAAAAAAAAAAAAAAAAAAAAAAAAAAAAAAAACAPwAAAEAAAAAAAAAAAAAAAEAAAAAAAAAAAAAAgD8AAIBAAAAAQAAAAEAAAABAAAAAAAAAgD8AAAAAAAAAAAAAAAAAAABAAAAAAAAAAAAAAAAAAAAAAAAAAAAAAAAAAACAPwAAAAAAAABAAAAAQAAAAAAAAAAAAAAAAAAAAEAAAIA/AACAPwAAAAAAAAAAAAAAAAAAAEAAAAAAAABAQAAAAAAAAAAAAAAAAAAAAAAAAIA/AAAAAAAAgD8AAABAAAAAAAAAgD8AAAAAAAAAAAAAgD8AAAAAAACAPwAAgD8AAAAAAACAPwAAAAAAAABAAAAAAAAAgD8AAAAAAAAAAAAAAAAAAAAAAACAPwAAAAAAAAAAAABAQAAAgD8AAIA/AACAPwAAAEAAAABAAACAPwAAAAAAAIA/AAAAAAAAAAAAAIA/AAAAAAAAgD8AAIA/AAAAAAAAgD8AAIA/AAAAAAAAAAAAAAAAAACAPwAAgD8AAIA/AAAAQAAAAAAAAIA/AAAAAAAAAAAAAAAAAAAAAAAAAEAAAABAAACgQAAAAAAAAAAAAACAPwAAAAAAAAAAAAAAAAAAAEAAAIA/AAAAAAAAgD8AAIA/AACAPwAAAAAAAIA/AACAPwAAAAAAAAAAAACAPwAAAAAAAIA/AAAAAAAAgD8AAIA/AAAAAAAAAEAAAABAAABAQAAAgD8AAIA/AABAQAAAAAAAAIA/AABAQAAAAAAAAAAAAABAQAAAAAAAAABAAAAAQAAAAAAAAABAAAAAQAAAAAAAAIBAAACAPwAAAAAAAAAAAAAAAAAAAAAAAAAAAAAAQAAAgD8AAAAAAAAAAAAAgD8AAIA/AAAAAAAAgD8AAIA/AAAAQAAAAAAAAAAAAACAPwAAgD8AAABAAABAQAAAgD8AAABAAAAAQAAAAAAAAIA/AAAAAAAAAEAAAABAAACAPwAAgD8AAAAAAAAAQAAAAAAAAAAAAAAAQAAAAAAAAAAAAACAPwAAAAAAAABAAACAPwAAAAAAAABAAAAAAAAAAAAAAABAAACAPwAAAEAAAAAAAACAPwAAgD8AAABAAACAPwAAAEAAAAAAAAAAQAAAAEAAAABAAACAPwAAAEAAAABAAACAPwAAAAAAAIBAAAAAAAAAgD8AAAAAAAAAQAAAAAAAAIA/AAAAAAAAAEAAAAAAAAAAAAAAAEAAAAAAAAAAQAAAAAAAAEBAAAAAAAAAoEAAAAAAAACAPwAAgD8AAIA/AACAPwAAAAAAAABAAACAPwAAgD8AAAAAAAAAAAAAgD8AAAAAAAAAAAAAAAAAAAAAAACAQAAAAAAAAAAAAAAAAAAAgD8AAAAAAAAAQAAAgD8AAEBAAAAAQAAAAAAAAIA/AACAPwAAAAAAAIA/AABAQAAAgD8AAAAAAACAPwAAAAAAAIA/AAAAQAAAgD8AAAAAAACAPwAAAAAAAAAAAACAPwAAgD8AAIA/AAAAAAAAAAAAAAAAAABAQAAAgD8AAIA/AAAAAAAAgD8AAIA/AACAPwAAgD8AAABAAAAAAAAAgD8AAIA/AAAAAAAAAEAAAIA/AACAPwAAgD8AAIA/AACAPwAAgD8AAIA/AAAAQAAAAEAAAABAAAAAAAAAAEAAAIA/AAAAAAAAgD8AAIBAAABAQAAAgD8AAABAAACAPwAAQEAAAAAAAABAQAAAAEAAAAAAAAAAAAAAAAAAAABAAACAPwAAgEAAAIA/AAAAQAAAgD8AAIA/AACAPwAAgD8AAIA/AAAAAAAAgD8AAIBAAAAAAAAAgD8AAAAAAABAQAAAAAAAAAAAAACAQAAAgD8AAABAAACAPwAAAAAAAAAAAACAPwAAgD8AAIA/AAAAAAAAgD8AAIA/AAAAQAAAgD8AAABAAABAQAAAAAAAAAAAAACAPwAAAEAAAAAAAAAAQAAAAAAAAAAAAACAPwAAgD8AAIBAAAAAAAAAgD8AAIA/AACAPwAAgD8AAIA/AACAPwAAAAAAAIA/AAAAAAAAQEAAAABAAACAPwAAAAAAAAAAAAAAQAAAAAAAAIA/AACAPwAAAEAAAIA/AACAQAAAAAAAAIA/AACAPwAAgD8AAIBAAACAPwAAgD8AAIA/AAAAQAAAAEAAAIA/AAAAAAAAgEAAAIA/AACAPwAAQEAAAEBAAABAQAAAgD8AAAAAAAAAAAAAAAAAAIA/AAAAQAAAgD8AAABAAABAQAAAAAAAAABAAACAPwAAQEAAAABAAAAAAAAAgD8AAABAAACAPwAAAAAAAAAAAAAAQAAAgD8AAIA/AACAPwAAQEAAAAAAAACAPwAAAAAAAAAAAAAAAAAAAEAAAIA/AAAAAAAAAAAAAIA/AAAAAAAAAEAAAIA/AACgQAAAgD8AAABAAABAQAAAgD8AAIA/AAAAQAAAgD8AAEBAAACAPwAAgD8AAIA/AABAQAAAgEAAAIA/AABAQAAAgD8AAAAAAAAAAAAAAAAAAIA/AAAAAAAAgD8AAIA/AACAPwAAgD8AAIA/AAAAQAAAAAAAAIA/AACAPwAAAAAAAIA/AACAPwAAAEAAAAAAAAAAQAAAAAAAAIA/AAAAAAAAgD8AAABAAAAAAAAAAAAAAAAAAAAAQAAAAAAAAABAAAAAAAAAAAAAAABAAACAPwAAAAAAAIA/AAAAAAAAgD8AAEBAAACAPwAAAAAAAIA/AACAPwAAgD8AAABAAAAAQAAAAAAAAAAAAAAAQAAAgD8AAIA/AAAAAAAAAAAAAIA/AAAAQAAAAEAAAABAAABAQAAAAEAAAIA/AAAAQAAAgD8AAABAAAAAAAAAgD8AAAAAAAAAAAAAgD8AAIA/AACAPwAAAAAAAAAAAAAAQAAAgD8AAIA/AAAAAAAAAEAAAABAAAAAAAAAQEAAAIA/AAAAAAAAAAAAAIA/AAAAQAAAgD8AAIA/AACAPwAAAEAAAAAAAAAAAAAAAAAAAAAAAAAAQAAAAAAAAEBAAACAPwAAAEAAAAAAAACAPwAAAEAAAAAAAACAPwAAAEAAAAAAAACAPwAAAAAAAAAAAAAAAAAAAEAAAAAAAAAAQAAAQEAAAAAAAAAAAAAAAEAAAABAAACAPwAAAAAAAAAAAAAAQAAAgD8AAABAAABAQAAAAAAAAIBAAAAAAAAAAAAAAAAAAABAQAAAgD8AAABAAAAAAAAAAAAAAIA/AAAAAAAAgD8AAIA/AAAAAAAAgD8AAAAAAAAAQAAAAAAAAIA/AACAPwAAgD8AAAAAAACAPwAAAAAAAABAAACAPwAAgD8AAIA/AACAPwAAAAAAAIA/AAAAAAAAAAAAAAAAAABAQAAAAAAAAABAAAAAAAAAgD8AAIA/AAAAAAAAgD8AAIA/AACAPwAAAAAAAIA/AAAAAAAAgD8AAAAAAAAAAAAAgD8AAAAAAAAAAAAAAAAAAAAAAAAAAAAAAAAAAAAAAAAAAAAAAAAAAAAAAAAAAAAAAAAAAIA/AAAAAAAAAAAAAABAAAAAAAAAAEAAAABAAAAAAAAAgD8AAAAAAAAAQAAAgD8AAEBAAAAAAAAAAEAAAEBAAACAPwAAgD8AAIA/AACAQAAAAAAAAAAAAAAAAAAAgD8AAAAAAACAPwAAgD8AAIA/AAAAAAAAAAAAAAAAAAAAAAAAgD8AAAAAAAAAAAAAAAAAAAAAAAAAAAAAAAAAAIA/AACAPwAAAAAAAAAAAAAAAAAAAAAAAAAAAACAQAAAAAAAAIA/AAAAQAAAgD8AAAAAAAAAAAAAAAAAAIBAAAAAAAAAAAAAAIA/AAAAAAAAAEAAAABAAACAPwAAgD8AAIA/AACAPwAAAAAAAAAAAAAAAAAAAEAAAABAAAAAAAAAAAAAAIA/AABAQAAAAAAAAIA/AAAAQAAAgD8AAIA/AACAPwAAAEAAAABAAAAAAAAAAAAAAEBAAACAPwAAAAAAAABAAACAPwAAAAAAAABAAACAPwAAAAAAAABAAAAAAAAAgEAAAAAAAAAAAAAAgD8AAIA/AAAAAAAAgD8AAABAAACAPwAAAAAAAAAAAACAPwAAAAAAAABAAAAAAAAAAAAAAABAAAAAAAAAAAAAAABAAACAPwAAAAAAAAAAAAAAAAAAgD8AAABAAACAPwAAgD8AAIA/AACAPwAAAAAAAAAAAAAAAAAAgD8AAIA/AAAAAAAAAEAAAIA/AAAAQAAAgD8AAAAAAAAAAAAAAAAAAIA/AAAAAAAAAAAAAIA/AAAAAAAAAAAAAAAAAAAAAAAAgD8AAIA/AACAPwAAAEAAAIA/AABAQAAAgD8AAAAAAAAAAAAAAAAAAAAAAACAPwAAAEAAAABAAAAAQAAAgD8AAIA/AAAAAAAAAAAAAIA/AABAQAAAgD8AAKBAAACAPwAAgD8AAAAAAACAPwAAAEAAAIA/AAAAAAAAAAAAAABAAAAAAAAAAAAAAIA/AAAAQAAAAAAAAIA/AACAPwAAAAAAAAAAAAAAAAAAAEAAAABAAAAAAAAAAAAAAIA/AAAAAAAAAAAAAAAAAACAPwAAgD8AAEBAAAAAQAAAAEAAAIA/AAAAAAAAAAAAAAAAAAAAQAAAgD8AAAAAAAAAAAAAgD8AAIA/AAAAAAAAgD8AAAAAAACAPwAAAEAAAABAAACAPwAAAEAAAIA/AACAPwAAgD8AAIA/AACAPwAAAEAAAIA/AACAPwAAAAAAAAAAAACAPwAAAAAAAABAAAAAAAAAgD8AAIA/AAAAAAAAAAAAAAAAAACAPwAAAEAAAIA/AAAAAAAAgD8AAIA/AACAPwAAAAAAAIA/AAAAQAAAAAAAAAAAAAAAAAAAAEAAAAAAAAAAAAAAAAAAAIA/AAAAAAAAAEAAAABAAAAAQAAAgD8AAABAAAAAAAAAgD8AAABAAACAPwAAAEAAAIA/AABAQAAAQEAAAABAAAAAAAAAAEAAAIA/AABAQAAAAEAAAAAAAACAPwAAgD8AAIA/AAAAAAAAAAAAAABAAACAPwAAAEAAAAAAAAAAQAAAAAAAAAAAAACAPwAAgD8AAAAAAAAAAAAAgD8AAAAAAAAAAAAAAEAAAIA/AACAPwAAgD8AAIA/AACAPwAAgD8AAABAAAAAAAAAgD8AAIA/AAAAAAAAgD8AAIA/AACAPwAAgEAAAAAAAABAQAAAAAAAAAAAAAAAAAAAgD8AAAAAAAAAQAAAgD8AAIA/AACAPwAAAAAAAABAAACAQAAAAEAAAAAAAAAAQAAAAAAAAAAAAAAAAAAAAAAAAIA/AACAPwAAgD8AAIA/AACAPwAAAEAAAABAAAAAAAAAgD8AAABAAAAAQAAAgD8AAAAAAACAPwAAAEAAAIA/AACAPwAAAAAAAIA/AACAPwAAAAAAAAAAAAAAQAAAgD8AAAAAAAAAAAAAAAAAAABAAACAPwAAAAAAAAAAAAAAAAAAAAAAAABAAACAPwAAgD8AAIA/AAAAAAAAAAAAAIA/AAAAAAAAAAAAAAAAAACAPwAAAAAAAIA/AACAPwAAgEAAAABAAAAAAAAAAAAAAAAAAAAAAAAAAAAAAABAAAAAAAAAAEAAAAAAAACAPwAAAEAAAABAAACAPwAAAEAAAABAAAAAAAAAAAAAAAAAAAAAAAAAgD8AAIA/AAAAAAAAQEAAAIBAAACAPwAAgD8AAIA/AAAAQAAAAAAAAAAAAAAAAAAAgD8AAAAAAAAAAAAAAAAAAIA/AAAAQAAAAEAAAIA/AAAAQAAAgD8AAAAAAACAPwAAAAAAAIA/AACAPwAAAAAAAAAAAACAPwAAAEAAAIA/AACAPwAAgD8AAIA/AAAAQAAAAAAAAAAAAAAAAAAAAAAAAAAAAAAAAAAAAAAAAIA/AAAAAAAAQEAAAAAAAAAAAAAAAAAAAIA/AACAPwAAAAAAAIA/AAAAQAAAgD8AAABAAACAPwAAAEAAAIA/AAAAQAAAgD8AAAAAAACAPwAAAAAAAAAAAAAAAAAAAAAAAIA/AAAAAAAAgD8AAAAAAAAAAAAAgD8AAAAAAAAAAAAAgD8AAIA/AACAPwAAgD8AAAAAAABAQAAAgD8AAAAAAAAAQAAAgD8AAIA/AACAPwAAgD8AAIA/AACAPwAAgD8AAAAAAAAAAAAAAEAAAEBAAAAAAAAAgD8AAAAAAAAAAAAAAAAAAIA/AAAAAAAAAAAAAAAAAACAPwAAAEAAAIA/AACAPwAAgD8AAAAAAAAAAAAAgD8AAEBAAAAAAAAAAAAAAIA/AACAPwAAgD8AAAAAAACAPwAAAAAAAIA/AAAAAAAAAAAAAAAAAACAPwAAgD8AAAAAAACAPwAAAEAAAAAAAACAPwAAAEAAAIA/AAAAAAAAAEAAAAAAAAAAQAAAgD8AAAAAAACAPwAAAAAAAAAAAAAAAAAAAAAAAAAAAAAAAAAAgD8AAIA/AACAPwAAgD8AAABAAACAPwAAAAAAAAAAAACAPwAAgD8AAAAAAAAAAAAAAEAAAAAAAAAAAAAAAAAAAEBAAAAAAAAAAAAAAABAAAAAAAAAAAAAAIA/AAAAQAAAgD8AAIA/AAAAAAAAAEAAAAAAAACAPwAAAAAAAAAAAACAPwAAAAAAAIA/AACAPwAAAAAAAIA/AACAPwAAgD8AAABAAACAPwAAAAAAAIA/AAAAQAAAgD8AAIA/AACAPwAAgD8AAIA/AAAAAAAAAAAAAAAAAACAPwAAgD8AAAAAAACAPwAAgD8AAAAAAACAPwAAAAAAAABAAACAPwAAgD8AAIA/AAAAAAAAAAAAAIA/AAAAAAAAAAAAAAAAAACAPwAAgD8AAAAAAAAAQAAAgD8AAAAAAAAAAAAAgD8AAAAAAAAAAAAAgD8AAEBAAAAAQAAAQEAAAIBAAACAPwAAAAAAAAAAAACAPwAAAAAAAIA/AAAAQAAAAEAAAABAAAAAQAAAgD8AAABAAACAPwAAgD8AAEBAAAAAAAAAAAAAAIA/AACAPwAAgD8AAIA/AABAQAAAAAAAAIA/AAAAQAAAAAAAAAAAAAAAQAAAAAAAAAAAAACAPwAAAAAAAEBAAAAAAAAAgD8AAAAAAAAAAAAAgD8AAABAAACAPwAAAAAAAABAAAAAQAAAAAAAAAAAAAAAQAAAAAAAAIA/AAAAAAAAgD8AAAAAAAAAAAAAQEAAAIA/AAAAQAAAgD8AAIA/AACAPwAAgD8AAAAAAAAAAAAAgD8AAAAAAAAAQAAAAAAAAEBAAAAAQAAAAEAAAAAAAAAAAAAAAAAAAIBAAAAAAAAAAAAAAIA/AACAPwAAAEAAAAAAAABAQAAAAAAAAAAAAAAAQAAAAAAAAAAAAAAAAAAAAEAAAAAAAACAPwAAAAAAAAAAAACAPwAAAAAAAIA/AAAAQAAAgD8AAEBAAAAAQAAAAAAAAAAAAAAAQAAAAAAAAABAAAAAQAAAAAAAAABAAABAQAAAgD8AAIA/AAAAAAAAAAAAAEBAAACAPwAAAEAAAIA/AAAAAAAAgD8AAAAAAAAAAAAAgD8AAIA/AAAAQAAAAEAAAEBAAAAAQAAAgD8AAABAAAAAQAAAgD8AAIA/AAAAAAAAAAAAAIA/AAAAAAAAAEAAAAAAAAAAAAAAAAAAAAAAAAAAQAAAgD8AAIA/AAAAAAAAAEAAAIA/AAAAAAAAgD8AAABAAAAAAAAAAAAAAIA/AAAAAAAAAAAAAAAAAACAPwAAQEAAAIA/AAAAQAAAAEAAAABAAAAAAAAAAAAAAEBAAACAQAAAQEAAAAAAAACAPwAAAAAAAABAAAAAAAAAAEAAAAAAAAAAQAAAgD8AAAAAAAAAAAAAAEAAAAAAAAAAQAAAAAAAAABAAAAAAAAAAEAAAEBAAAAAAAAAgD8AAIA/AACAPwAAgD8AAAAAAACAPwAAAEAAAABAAACAPwAAAEAAAAAAAAAAAAAAgD8AAAAAAAAAAAAAgD8AAAAAAACAPwAAgD8AAIA/AAAAAAAAAAAAAAAAAACAPwAAgD8AAABAAAAAAAAAAAAAAIA/AAAAAAAAQEAAAIA/AAAAAAAAgD8AAEBAAAAAQAAAgD8AAAAAAAAAAAAAgD8AAABAAAAAAAAAQEAAAABAAAAAQAAAgD8AAAAAAAAAQAAAAAAAAABAAACAPwAAAAAAAAAAAACAPwAAgD8AAIA/AACAPwAAAAAAAIA/AACAPwAAgD8AAAAAAACAPwAAAAAAAAAAAAAAAAAAAAAAAIA/AAAAAAAAAAAAAIA/AACAPwAAwEAAAABAAABAQAAAgD8AAEBAAACAPwAAAAAAAEBAAAAAQAAAgD8AAAAAAAAAAAAAAEAAAABAAAAAAAAAQEAAAAAAAAAAQAAAQEAAAABAAAAAAAAAgD8AAABAAACAPwAAAEAAAAAAAAAAQAAAAEAAAABAAACAPwAAQEAAAEBAAACAPwAAAAAAAAAAAAAAQAAAgD8AAABAAABAQAAAgEAAAIA/AACAPwAAgD8AAABAAABAQAAAAEAAAABAAABAQAAAAEAAAIA/AACAPwAAAEAAAIA/AACAPwAAQEAAAAAAAACAPwAAgD8AAAAAAACAPwAAgD8AAABAAACAPwAAgD8AAEBAAAAAAAAAAAAAAEBAAAAAAAAAgD8AAAAAAACAPwAAAEAAAIA/AABAQAAAgD8AAIBAAACAPwAAgD8AAAAAAACAPwAAAAAAAIA/AAAAAAAAQEAAAABAAACAPwAAAEAAAAAAAAAAQAAAgEAAAABAAAAAAAAAoEAAAAAAAACAQAAAgD8AAAAAAACAPwAAAAAAAIA/AACAQAAAgD8AAABAAAAAQAAAQEAAAIA/AABAQAAAgD8AAIA/AABAQAAAAAAAAABAAAAAQAAAAAAAAIA/AAAAQAAAAAAAAIA/AAAAQAAA4EAAAIA/AACAPwAAgD8AAIA/AACAPwAAAEAAAIA/AACAPwAAgD8AAIA/AAAAAAAAQEAAAABAAACAQAAAAAAAAABAAACAPwAAAAAAAEBAAAAAAAAAgD8AAIA/AACAPwAAQEAAAIA/AAAAAAAAgEAAAABAAAAAAAAAAEAAAKBAAAAAAAAAAAAAAABAAACAPwAAQEAAAMBAAAAAQAAAAAAAAIA/AACAPwAAAEAAAAAAAACAPwAAgD8AAABAAAAAQAAAAEAAAIA/AACAPwAAAEAAAABAAAAAQAAAAAAAAIA/AACAPwAAgD8AAABAAAAAQAAAgD8AAIA/AAAAAAAAgD8AAAAAAACAPwAAAAAAAIA/AAAAAAAAgD8AAIA/AACAPwAAAAAAAIA/AAAAAAAAgD8AAIA/AACAPwAAAAAAAIA/AAAAAAAAAAAAAAAAAAAAAAAAAAAAAEBAAACAPwAAgD8AAAAAAAAAQAAAAEAAAAAAAAAAQAAAAAAAAAAAAACAPwAAAAAAAABAAAAAQAAAgD8AAABAAABAQAAAgD8AAIA/AAAAAAAAAEAAAIA/AACAPwAAAAAAAABAAACAQAAAgD8AAIA/AACAPwAAAAAAAAAAAAAAAAAAgD8AAIA/AACAPwAAAAAAAAAAAACAPwAAgD8AAIA/AAAAAAAAgD8AAAAAAAAAQAAAgD8AAABAAACAPwAAAEAAAEBAAACAPwAAAAAAAAAAAAAAAAAAgD8AAIA/AAAAAAAAgD8AAIA/AAAAQAAAgD8AAABAAAAAAAAAgD8AAIA/AAAAAAAAgD8AAAAAAAAAQAAAgD8AAAAAAAAAAAAAAEAAAIBAAAAAQAAAgD8AAAAAAACAPwAAAEAAAAAAAACAPwAAAEAAAABAAACAPwAAAAAAAAAAAACAQAAAgD8AAEBAAAAAAAAAAAAAAIA/AABAQAAAgD8AAABAAAAAQAAAAEAAAIA/AAAAQAAAgD8AAAAAAAAAAAAAgD8AAAAAAAAAAAAAgD8AAABAAAAAQAAAAAAAAIA/AACAQAAAAAAAAAAAAAAAQAAAAEAAAIA/AAAAQAAAAAAAAAAAAAAAQAAAgD8AAIA/AACAPwAAAAAAAIA/AACAPwAAgD8AAABAAAAAAAAAAAAAAIA/AAAAAAAAgD8AAABAAAAAQAAAQEAAAAAAAAAAAAAAAEAAAIA/AACAPwAAgD8AAAAAAAAAAAAAAEAAAIA/AAAAAAAAQEAAAABAAACAPwAAAEAAAIA/AACAPwAAAAAAAABAAAAAAAAAAAAAAAAAAAAAAAAAAAAAAAAAAAAAAAAAAAAAAAAAAAAAAAAAAAAAAAAAAACAPwAAAAAAAAAAAAAAAAAAAAAAAAAAAAAAAAAAAAAAAAAAAAAAAAAAgD8AAAAAAAAAAAAAAAAAAAAAAAAAAAAAAAAAAAAAAAAAAAAAAAAAAAAAAACAPwAAAAAAAAAAAAAAAAAAAAAAAAAAAACAPwAAAAAAAAAAAAAAAAAAAAAAAIA/AAAAAAAAAAAAAAAAAAAAAAAAAAAAAAAAAAAAAAAAAAAAAAAAAAAAAAAAAAAAAAAAAAAAAAAAAAAAAAAAAAAAAAAAAAAAAAAAAAAAAAAAAAAAAAAAAAAAAAAAAAAAAAAAAACAPwAAAAAAAAAAAAAAAAAAgD8AAAAAAAAAAAAAAAAAAAAAAAAAAAAAAAAAAAAAAAAAAAAAgD8AAAAAAAAAAAAAAAAAAAAAAAAAAAAAAAAAAAAAAAAAAAAAAAAAAAAAAAAAAAAAAAAAAIA/AAAAAAAAAAAAAIA/AAAAAAAAAAAAAAAAAAAAAAAAAAAAAAAAAAAAAAAAAAAAAAAAAAAAAAAAAAAAAAAAAAAAAAAAAAAAAIA/AAAAAAAAAAAAAAAAAAAAAAAAAAAAAIA/AAAAAAAAAAAAAAAAAAAAAAAAAAAAAAAAAAAAAAAAAAAAAAAAAAAAAAAAAAAAAAAAAAAAAAAAAAAAAAAAAACAPwAAgD8AAAAAAAAAAAAAAAAAAAAAAAAAAAAAAAAAAIA/AAAAAAAAgD8AAAAAAACAPwAAAAAAAAAAAAAAAAAAAAAAAAAAAAAAAAAAAAAAAAAAAAAAAAAAAAAAAAAAAACAPwAAAAAAAAAAAAAAAAAAAAAAAAAAAAAAAAAAAAAAAAAAAAAAAAAAAAAAAAAAAAAAAAAAAAAAAAAAAAAAAAAAAAAAAAAAAAAAAAAAAAAAAAAAAAAAAAAAAAAAAAAAAAAAAAAAAAAAAAAAAAAAAAAAAAAAAAAAAAAAAAAAAAAAAAAAAAAAAAAAAAAAAAAAAAAAAAAAAAAAAAAAAAAAAAAAAAAAAAAAAAAAAAAAAAAAAAAAAAAAAAAAAAAAAAAAAAAAAAAAAAAAAAAAAAAAAAAAAAAAAAAAAAAAAAAAAAAAAAAAAAAAAAAAAAAAAAAAAAAAAAAAAAAAAAAAAAAAAAAAAAAAAAAAAAAAAAAAAAAAAAAAAAAAAAAAAAAAAAAAAAAAAAAAAAAAAAAAAAAAAAAAAAAAAAAAAAAAAAAAAAAAAAAAAAAAAAAAAAAAAAAAAAAAAAAAAAAAAAAAAAAAAAAAAAAAAAAAAAAAAAAAAAAAAAAAAAAAAAAAAAAAAAAAAAAAAAAAAAAAAAAAAAAAAAAAAAAAAAAAAAAAAAAAAAAAAAAAAAAAAAAAAAAAAAAAAAAAAAAAAAAAAAAAAAAAAAAAAAAAAAAAAAAAAAAAAAAAAAAAAAAAAAAAAAAAAAAAAAAAAAAAAAAAAAAAAAAAAAAAAAAAAAAAAAAAAAAAAAAAAAAAAAAAAAAAAAAAAAAAAAAAAAAAAAAAAAAAAAAAAAAAAAAAAAAAAAAAAAAAAAAAAAAAAAAAAAAAAAAAAAAAAAAAAAAAAAAAAAAAAAAAAAAAAAAAAAAAAAAAAAAAAAAAAAAAAAAAAAAAAAAAAAAAAAAAAAAAAAAAAAAAAAAAAAAAAAAAAAAAAAAAAAAAAAAAAAAAAAAAAAAAAAAAAAAAAAAAAAAAAAAAAAAAAAAAAAAAAAAAAAAAAAAAAAAAAAAAAAAAAAAAAAAAAAAAAAAAAAAAAAAAAAAAAAAAAAAAAAAAAAAAAAAAAAAAAAAAAAAAAAAAAAAAAAAAAAAAAAAAAAAAAAAAAAAAAAAAAAAAAAAAAAAAAAAAAAAAAAAAAAAAAAAAAAAAAAAAAAAAAAAAAAAAAAAAAAAAAAAAAAAAAAAAAAAAAAAAAAAAAAAAAAAAAAAAAAAAAAAAAAAAAAAAAAAAAAAAAAAAAAAAAAAAAAAAAAAAAAAAAAAAAAAAAAAAAAAAAAAAAAAAAAAAAAAAAAAAAAAAAAAAAAAAAAAAAAAAAAAAAAAAAAAAAAAAAAAAAAAAAAAAAAAAAAAAAAAAAAAAAAAAAAAAAAAAAAAAAAAAAAAAAAAAAAAAAAAAAAAAAAAAAAAAAAAAAAAAAAAAAAAAAAAAAAAAAAAAAAAAAAAAAAAAAAAAAAAAAAAAAAAAAAAAAAAAAAAAAAAAAAAAAAAAAAAAAAAAAAAAAAAAAAAAAAAAAAAAAAAAAAAAAAAAAAAAAAAAAAAAAAAAAAAAAAAAAAAAAAAAAAAAAAAAAAAAAAAAAAAAAAAAAAAAAAAAAAAAAAAAAAAAAAAAAAAAAAAAAAAAAAAAAAAAAAAAAAAAAAAAAAAAAAAAAAAAAAAAAAAAAAAAAAAAAAAAAAAAAAAAAAAAAAAAAAAAAAAAAAAAAAAAAAAAAAAAAAAAAAAAAAAAAAAAAAAAAAAAAAAAAAAAAAAAAAAAAAAAAAAAAAAAAAAAAAAAAAAAAAAAAAAAAAAAAAAAAAAAAAAAAAAAAAAAAAAAAAAAAAAAAAAAAAAAAAAAAAAAAAAAAAAAAAAAAAAAAAAAAAAAAAAAAAAAAAAAAAAAAAAAAAAAAAAAAAAAAAAAAAAAAAAAAAAAAAAAAAAAAAAAAAAAAAAAAAAAAAAAAAAAAAAAAAAAAAAAAAAAAAAAAAAAAAAAAAAAAAAAAAAAAAAAAAAAAAAAAAAAAAAAAAAAAAAAAAAAAAAAAAAAAAAAAAAAAAAAAAAAAAAAAAAAAAAAAAAAAAAAAAAAAAAAAAAAAAAAAAAAAAAAAAAAAAAAAAAAAAAAAAAAAAAAAAAAAAAAAAAAAAAAAAAAAAAAAAAAAAAAAAAAAAAAAAAAAAAAAAAAAAAAAAAAAAAAAAAAAAAAAAAAAAAAAAAAAAAAAAAAAAAAAAAAAAAAAAAAAAAAAAAAAAAAAAAAAAAAAAAAAAAAAAAAAAAAAAAAAAAAAAAAAAAAAAAAAAAAAAAAAAAAAAAAAAAAAAAAAAAAAAAAAAAAAAAAAAAAAAAAAAAAAAAAAAAAAAAAAAAAAAAAAAAAAAAAAAAAAAAAAAAAAAAAAAAAAAAAAAAAAAAAAAAAAAAAAAAAAAAAAAAAAAAAAAAAAAAAAAAAAAAAAAAAAAAAAAAAAAAAAAAAAAAAAAAAAAAAAAAAAAAAAAAAAAAAAAAAAAAAAAAAAAAAAAAAAAAAAAAAAAAAAAAAAAAAAAAAAAAAAAAAAAAAAAAAAAAAAAAAAAAAAAAAAAAAAAAAAAAAAAAAAAAAAAAAAAAAAAAAAAAAAAAAAAAAAAAAAAAAAAAAAAAAAAAAAAAAAAAAAAAAAAAAAAAAAAAAAAAAAAAAAAAAAAAAAAAAAAAAAAAAAAAAAAAAAAAAAAAAAAAAAAAAAAAAAAAAAAAAAAAAAAAAAAAAAAAAAAAAAAAAAAAAAAAAAAAAAAAAAAAAAAAAAAAAAAAAAAAAAAAAAAAAAAAAAAAAAAAAAAAAAAAAAAAAAAAAAAAAAAAAAAAAAAAAAAAAAAAAAAAAAAAAAAAAAAAAAAAAAAAAAAAAAAAAAAAAAAAAAAAAAAAAAAAAAAAAAAAAAAAAAAAAAAAAAAAAAAAAAAAAAAAAAAAAAAAAAAAAAAAAAAAAAAAAAAAAAAAAAAAAAAAAAAAAAAAAAAAAAAAAAAAAAAAAAAAAAAAAAAAAAAAAAAAAAAAAAAAAAAAAAAAAAAAAAAAAAAAAAAAAAAAAAAAAAAAAAAAAAAAAAAAAAAAAAAAAAAAAAAAAAAAAAAAAAAAAAAAAAAAAAAAAAAAAAAAAAAAAAAAAAAAAAAAAAAAAAAAAAAAAAAAAAAAAAAAAAAAAAAAAAAAAAAAAAAAAAAAAAAAAAAAAAAAAAAAAAAAAAAAAAAAAAAAAAAAAAAAAAAAAAAAAAAAAAAAAAAAAAAAAAAAAAAAAAAAAAAAAAAAAAAAAAAAAAAAAAAAAAAAAAAAAAAAAAAAAAAAAAAAAAAAAAAAAAAAAAAAAAAAAAAAAAAAAAAAAAAAAAAAAAAAAAAAAAAAAAAAAAAAAAAAAAAAAAAAAAAAAAAAAAAAAAAAAAAAAAAAAAAAAAAAAAAAAAAAAAAAAAAAAAAAAAAAAAAAAAAAAAAAAAAAAAAAAAAAAAAAAAAAAAAAAAAAAAAAAAAAAAAAAAAAAAAAAAAAAAAAAAAAAAAAAAAAAAAAAAAAAAAAAAAAAAAAAAAAAAAAAAAAAAAAAAAAAAAAAAAAAAAAAAAAAAAAAAAAAAAAAAAAAAAAAAAAAAAAAAAAAAAAAAAAAAAAAAAAAAAAAAAAAAAAAAAAAAAAAAAAAAAAAAAAAAAAAAAAAAAAAAAAAAAAAAAAAAAAAAAAAAAAAAAAAAAAAAAAAAAAAAAAAAAAAAAAAAAAAAAAAAAAAAAAAAAAAAAAAAAAAAAAAAAAAAAAAAAAAAAAAAAAAAAAAAAAAAAAAAAAAAAAAAAAAAAAAAAAAAAAAAAAAAAAAAAAAAAAAAAAAAAAAAAAAAAAAAAAAAAAAAAAAAAAAAAAAAAAAAAAAAAAAAAAAAAAAAAAAAAAAAAAAAAAAAAAAAAAAAAAAAAAAAAAAAAAAAAAAAAAAAAAAAAAAAAAAAAAAAAAAAAAAAAAAAAAAAAAAAAAAAAAAAAAAAAAAAAAAAAAAAAAAAAAAAAAAAAAAAAAAAAAAAAAAAAAAAAAAAAAAAAAAAAAAAAAAAAAAAAAAAAAAAAAAAAAAAAAAAAAAAAAAAAAAAAAAAAAAAAAAAAAAAAAAAAAAAAAAAAAAAAAAAAAAAAAAAAAAAAAAAAAAAAAAAAAAAAAAAAAAAAAAAAAAAAAAAAAAAAAAAAAAAAAAAAAAAAAAAAAAAAAAAAAAAAAAAAAAAAAAAAAAAAAAAAAAAAAAAAAAAAAAAAAAAAAAAAAAAAAAAAAAAAAAAAAAAAAAAAAAAAAAAAAAAAAAAAAAAAAAAAAAAAAAAAAAAAAAAAAAAAAAAAAAAAAAAAAAAAAAAAAAAAAAAAAAAAAAAAAAAAAAAAAAAAAAAAAAAAAAAAAAAAAAAAAAAAAAAAAAAAAAAAAAAAAAAAAAAAAAAAAAAAAAAAAAAAAAAAAAAAAAAAAAAAAAAAAAAAAAAAAAAAAAAAAAAAAAAAAAAAAAAAAAAAAAAAAAAAAAAAAAAAAAAAAAAAAAAAAAAAAAAAAAAAAAAAAAAAAAAAAAAAAAAAAAAAAAAAAAAAAAAAAAAAAAAAAAAAAAAAAAAAAAAAAAAAAAAAAAAAAAAAAAAAAAAAAAAAAAAAAAAAAAAAAAAAAAAAAAAAAAAAAAAAAAAAAAAAAAAAAAAAAAAAAAAAAAAAAAAAAAAAAAAAAAAAAAAAAAAAAAAAAAAAAAAAAAAAAAAAAAAAAAAAAAAAAAAAAAAAAAAAAAAAAAAAAAAAAAAAAAAAAAAAAAAAAAAAAAAAAAAAAAAAAAAAAAAAAAAAAAAAAAAAAAAAAAAAAAAAAAAAAAAAAAAAAAAAAAAAAAAAAAAAAAAAAAAAAAAAAAAAAAAAAAAAAAAAAAAAAAAAAAAAAAAAAAAAAAAAAAAAAAAAAAAAAAAAAAAAAAAAAAAAAAAAAAAAAAAAAAAAAAAAAAAAAAAAAAAAAAAAAAAAAAAAAAAAAAAAAAAAAAAAAAAAAAAAAAAAAAAAAAAAAAAAAAAAAAAAAAAAAAAAAAAAAAAAAAAAAAAAAAAAAAAAAAAAAAAAAAAAAAAAAAAAAAAAAAAAAAAAAAAAAAAAAAAAAAAAAAAAAAAAAAAAAAAAAAAAAAAAAAAAAAAAAAAAAAAAAAAAAAAAAAAAAAAAAAAAAAAAAAAAAAAAAAAAAAAAAAAAAAAAAAAAAAAAAAAAAAAAAAAAAAAAAAAAAAAAAAAAAAAAAAAAAAAAAAAAAAAAAAAAAAAAAAAAAAAAAAAAAAAAAAAAAAAAAAAAAAAAAAAAAAAAAAAAAAAAAAAAAAAAAAAAAAAAAAAAAAAAAAAAAAAAAAAAAAAAAAAAAAAAAAAAAAAAAAAAAAAAAAAAAAAAAAAAAAAAAAAAAAAAAAAAAAAAAAAAAAAAAAAAAAAAAAAAAAAAAAAAAAAAAAAAAAAAAAAAAAAAAAAAAAAAAAAAAAAAAAAAAAAAAAAAAAAAAAAAAAAAAAAAAAAAAAAAAAAAAAAAAAAAAAAAAAAAAAAAAAAAAAAAAAAAAAAAAAAAAAAAAAAAAAAAAAAAAAAAAAAAAAAAAAAAAAAAAAAAAAAAAAAAAAAAAAAAAAAAAAAAAAAAAAAAAAAAAAAAAAAAAAAAAAAAAAAAAAAAAAAAAAAAAAAAAAAAAAAAAAAAAAAAAAAAAAAAAAAAAAAAAAAAAAAAAAAAAAAAAAAAAAAAAAAAAAAAAAAAAAAAAAAAAAAAAAAAAAAAAAAAAAAAAAAAAAAAAAAAAAAAAAAAAAAAAAAAAAAAAAAAAAAAAAAAAAAAAAAAAAAAAAAAAAAAAAAAAAAAAAAAAAAAAAAAAAAAAAAAAAAAAAAAAAAAAAAAAAAAAAAAAAAAAAAAAAAAAAAAAAAAAAAAAAAAAAAAAAAAAAAAAAAAAAAAAAAAAAAAAAAAAAAAAAAAAAAAAAAAAAAAAAAAAAAAAAAAAAAAAAAAAAAAAAAAAAAAAAAAAAAAAAAAAA",
          "dtype": "f4",
          "shape": "139, 180"
         }
        },
        {
         "colorbar": {
          "len": 0.8,
          "title": {
           "text": "Counts"
          },
          "x": 1.02
         },
         "hovertemplate": "<b>Polar Angle: %{x:.1f}°</b><br><b>Axial Position: %{y:.1f} mm</b><br><b>Count: %{z:.3f}</b><extra></extra>",
         "showscale": true,
         "type": "heatmap",
         "x": {
          "bdata": "AAAAAOxhgD/sYQBA4pJAQOxhgEBoeqBA4pLAQF6r4EDsYQBBKm4QQWh6IEGmhjBB4pJAQSCfUEFeq2BBnLdwQexhgEEKaIhBKm6QQUh0mEFoeqBBhoCoQaaGsEHEjLhB4pLAQQKZyEEgn9BBQKXYQV6r4EF8sehBnLfwQbq9+EHsYQBC/GQEQgpoCEIaawxCKm4QQjpxFEJIdBhCWHccQmh6IEJ2fSRChoAoQpaDLEKmhjBCtIk0QsSMOELUjzxC4pJAQvKVREICmUhCEJxMQiCfUEIwolRCPqVYQk6oXEJeq2BCbq5kQnuxaEKMtGxCnLdwQqq6dEK6vXhCycB8QuxhgEJ0Y4JC/GSEQoNmhkIKaIhCkmmKQhprjEKhbI5CKm6QQrFvkkI5cZRCwXKWQkh0mELRdZpCWHecQt94nkJneqBC73uiQnZ9pEL/fqZChoCoQg2CqkKWg6xCHYWuQqSGsEItiLJCtIm0QjuLtkLEjLhCS466QtSPvEJbkb5C4pLAQmuUwkLylcRC",
          "dtype": "f4"
         },
         "xaxis": "x2",
         "y": {
          "bdata": "qLMNw/OzCcM+tAXDiLQBw6Zp+8I8avPC0mrrwmdr48L8a9vCkmzTwihty8K9bcPCU267wuhus8J+b6vCFHCjwqlwm8I/cZPC1HGLwmpyg8L+5XbCKudmwlToVsKA6UbCrOo2wtbrJsIC7RbCLO4GwrDe7cEE4c3BXOOtwbDljcEQ0FvBwNQbweCyt8CA8N6/AHUQQCAxyEDwEyRBQA9kQUgFkkHwArJBnADSQUT+8UH4/QhCzPwYQqL7KEJ2+jhCTPlIQiD4WEL09mhCyvV4Qk96hEK6eYxCJHmUQo94nEL5d6RCZHesQs52tEI4drxCo3XEQg11zEJ4dNRC4nPcQkxz5EK3cuxCInL0Qoxx/EJ7OAJDMDgGQ+Y3CkObNw5DUDcSQw==",
          "dtype": "f4"
         },
         "yaxis": "y2",
         "z": {
          "bdata": "AABAQAAAQEAAAABAAACAPwAAgD8AAAAAAAAAAAAAAAAAAAAAAACAPwAAAAAAAAAAAAAAAAAAAAAAAAAAAAAAAAAAAAAAAAAAAAAAAAAAAAAAAAAAAAAAAAAAAAAAAAAAAAAAAAAAAAAAAAAAAAAAAAAAAAAAAAAAAAAAAAAAAAAAAAAAAAAAAAAAAAAAAAAAAAAAAAAAAAAAAAAAAAAAAAAAAAAAAAAAAAAAAAAAAAAAAAAAAAAAAAAAAAAAAAAAAAAAAAAAAAAAAAAAAAAAAAAAAAAAAAAAAAAAAAAAAAAAAAAAAAAAAAAAAAAAAAAAAAAAAAAAAAAAAAAAAAAAAAAAAAAAAAAAAAAAAAAAAAAAAAAAAAAAAAAAAAAAAAAAAAAAAAAAAAAAAAAAAAAAAAAAAAAAAAAAAAAAAAAAAAAAAAAAAAAAAAAAAAAAAAAAAAAAAAAAAAAAAAAAAAAAAAAAAAAAAAAAAAAAAAAAAAAAAAAAAAAAAAAAAAAAAAAAAAAAAAAAAAAAAAAAAAAAQAAAgEAAAIBAAAAAAAAAAAAAAAAAAAAAAAAAgD8AAIA/AAAAAAAAgD8AAAAAAAAAAAAAAAAAAAAAAAAAAAAAAAAAAAAAAACAPwAAAAAAAAAAAAAAAAAAAAAAAAAAAAAAAAAAAAAAAAAAAAAAAAAAAAAAAAAAAAAAAAAAAAAAAAAAAAAAAAAAAAAAAAAAAAAAAAAAAAAAAAAAAAAAAAAAAAAAAAAAAAAAAAAAAAAAAAAAAAAAAAAAAAAAAAAAAAAAAAAAAAAAAAAAAAAAAAAAAAAAAAAAAAAAAAAAAAAAAAAAAAAAAAAAAAAAAAAAAAAAAAAAAAAAAAAAAAAAAAAAAAAAAAAAAAAAAAAAAAAAAAAAAAAAAAAAAAAAAAAAAAAAAAAAAAAAAAAAAAAAAAAAAAAAAAAAAAAAAAAAAAAAAAAAAAAAAAAAAAAAAAAAAAAAAAAAAAAAAAAAAAAAAAAAAAAAAAAAAAAAAAAAAAAAAAAAAAAAAAAAAAAAAAAAAAAAAAAAAAAAAAAAAABAQAAAAEAAAEBAAAAAQAAAAAAAAAAAAAAAAAAAgD8AAABAAAAAAAAAgD8AAAAAAAAAAAAAgD8AAAAAAAAAAAAAgD8AAAAAAAAAAAAAgD8AAAAAAAAAAAAAAAAAAAAAAACAPwAAAAAAAAAAAAAAAAAAAAAAAIA/AAAAAAAAAAAAAAAAAAAAAAAAAAAAAAAAAAAAAAAAAAAAAAAAAAAAAAAAAAAAAAAAAAAAAAAAAAAAAAAAAAAAAAAAAAAAAAAAAAAAAAAAAAAAAAAAAAAAAAAAAAAAAAAAAAAAAAAAAAAAAAAAAAAAAAAAAAAAAAAAAAAAAAAAAAAAAAAAAAAAAAAAAAAAAAAAAAAAAAAAAAAAAAAAAAAAAAAAAAAAAAAAAAAAAAAAAAAAAAAAAAAAAAAAAAAAAAAAAAAAAAAAAAAAAAAAAAAAAAAAAAAAAAAAAAAAAAAAAAAAAAAAAAAAAAAAAAAAAAAAAAAAAAAAAAAAAAAAAAAAAAAAAAAAAAAAAAAAAAAAAAAAAAAAAACAQAAAQEAAAIA/AACAPwAAgD8AAABAAACAPwAAAAAAAAAAAACAPwAAgD8AAIA/AAAAAAAAAAAAAABAAAAAAAAAAAAAAABAAAAAAAAAAAAAAAAAAAAAAAAAAAAAAAAAAAAAAAAAAAAAAAAAAAAAAAAAAAAAAAAAAAAAAAAAAAAAAIA/AAAAAAAAAAAAAIA/AAAAAAAAAAAAAAAAAAAAAAAAAAAAAAAAAAAAAAAAAAAAAAAAAAAAAAAAAAAAAAAAAAAAAAAAAAAAAAAAAAAAAAAAAAAAAAAAAAAAAAAAAAAAAAAAAAAAAAAAAAAAAAAAAAAAAAAAAAAAAAAAAAAAAAAAAAAAAIA/AAAAAAAAAAAAAAAAAAAAAAAAAAAAAAAAAAAAAAAAAAAAAAAAAAAAAAAAAAAAAAAAAAAAAAAAAAAAAAAAAAAAAAAAAAAAAAAAAAAAAAAAAAAAAAAAAAAAAAAAAAAAAAAAAAAAAAAAAAAAAAAAAAAAAAAAAAAAAAAAAAAAAAAAAAAAAAAAAABAQAAAoEAAAAAAAACgQAAAgD8AAIBAAACgQAAAQEAAAAAAAACAPwAAAAAAAABAAAAAAAAAAAAAAIA/AACAPwAAgD8AAAAAAAAAAAAAgD8AAIA/AAAAAAAAAAAAAAAAAACAPwAAAAAAAAAAAAAAAAAAAAAAAAAAAAAAAAAAAAAAAAAAAAAAAAAAAAAAAAAAAAAAAAAAAAAAAAAAAAAAAAAAAAAAAAAAAAAAAAAAAAAAAAAAAAAAAAAAAAAAAIA/AAAAAAAAAAAAAAAAAAAAAAAAAAAAAAAAAAAAAAAAAAAAAAAAAAAAAAAAgD8AAAAAAAAAAAAAgD8AAAAAAAAAAAAAAAAAAAAAAAAAAAAAAAAAAAAAAAAAAAAAAAAAAAAAAAAAAAAAAAAAAAAAAAAAAAAAAAAAAAAAAAAAAAAAAAAAAAAAAAAAAAAAAAAAAIA/AAAAAAAAAAAAAAAAAAAAAAAAAAAAAAAAAAAAAAAAAAAAAAAAAAAAAAAAAAAAAAAAAAAAAAAAAAAAAAAAAACAPwAAoEAAAEBAAAAAQAAAAEEAAABBAAAAQAAAQEAAAIBAAADAQAAAQEAAAIA/AACAQAAAAAAAAIA/AAAAAAAAAAAAAIA/AAAAAAAAgD8AAAAAAAAAAAAAAAAAAAAAAAAAAAAAgD8AAIA/AAAAAAAAgD8AAIA/AAAAAAAAgD8AAAAAAAAAAAAAgD8AAAAAAAAAAAAAgD8AAAAAAAAAAAAAAAAAAAAAAACAPwAAgD8AAAAAAAAAAAAAAAAAAAAAAAAAAAAAAEAAAAAAAACAPwAAAAAAAAAAAAAAAAAAAAAAAAAAAAAAAAAAAAAAAAAAAAAAAAAAAAAAAAAAAAAAAAAAgD8AAAAAAAAAAAAAAAAAAIA/AAAAAAAAAAAAAAAAAAAAAAAAAAAAAIA/AAAAAAAAAAAAAAAAAAAAAAAAAAAAAAAAAAAAAAAAAAAAAAAAAAAAAAAAAAAAAAAAAAAAAAAAAAAAAAAAAAAAAAAAAAAAAAAAAAAAAAAAAAAAAAAAAAAAAAAAAAAAAAAAAACgQAAAQEAAAKBAAAAAQAAAQEAAAKBAAAAAQAAAgD8AAABAAAAAQAAAAAAAAAAAAACAPwAAgD8AAABAAACAPwAAAAAAAAAAAACAPwAAAAAAAABAAAAAAAAAAAAAAIA/AACAPwAAAAAAAAAAAAAAAAAAAAAAAIA/AACAPwAAAAAAAAAAAAAAAAAAAAAAAAAAAAAAQAAAgD8AAAAAAAAAAAAAAAAAAAAAAAAAAAAAAAAAAAAAAAAAAAAAAAAAAAAAAAAAAAAAAAAAAAAAAAAAAAAAAAAAAAAAAAAAAAAAAAAAAAAAAAAAAAAAgD8AAAAAAAAAAAAAgD8AAAAAAAAAAAAAAAAAAAAAAAAAAAAAAAAAAIA/AAAAAAAAAAAAAAAAAAAAAAAAAAAAAAAAAACAPwAAAAAAAAAAAAAAAAAAAAAAAAAAAAAAAAAAAAAAAAAAAAAAAAAAAAAAAAAAAAAAAAAAAAAAAAAAAAAAAAAAAAAAAAAAAAAAAAAAAAAAAAAAAAAAAAAAAAAAAAAAAADAQAAA4EAAAIBAAABAQAAAgD8AAABAAABAQAAAQEAAAIBAAAAAQAAAAAAAAEBAAAAAAAAAAAAAAIA/AAAAAAAAgD8AAIA/AAAAAAAAAEAAAIA/AAAAAAAAgD8AAAAAAAAAAAAAAAAAAABAAACAPwAAAEAAAAAAAAAAAAAAAAAAAAAAAAAAAAAAAAAAAAAAAACAPwAAAAAAAAAAAACAPwAAgD8AAAAAAAAAAAAAAAAAAAAAAAAAAAAAAAAAAAAAAACAPwAAAAAAAAAAAAAAAAAAAAAAAIA/AACAPwAAAAAAAAAAAAAAAAAAAAAAAAAAAAAAAAAAAAAAAAAAAACAPwAAAAAAAAAAAAAAAAAAAAAAAAAAAAAAAAAAAAAAAAAAAAAAAAAAAAAAAAAAAAAAAAAAAAAAAAAAAAAAAAAAAAAAAAAAAAAAAAAAAAAAAAAAAAAAAAAAAAAAAAAAAAAAAAAAAAAAAAAAAAAAAAAAAAAAAAAAAAAAAAAAAAAAAAAAAAAAAAAAAAAAAAAAAAAwQQAAAEEAAOBAAAAAQAAAQEAAAMBAAACAPwAAoEAAAAAAAABAQAAAQEAAAEBAAABAQAAAAAAAAABAAACAPwAAAAAAAEBAAAAAAAAAAEAAAIA/AAAAAAAAAAAAAAAAAAAAAAAAgD8AAAAAAAAAAAAAgD8AAIA/AACAPwAAgD8AAAAAAACAPwAAgD8AAAAAAAAAAAAAAAAAAAAAAAAAQAAAAAAAAAAAAAAAAAAAAAAAAAAAAACAPwAAAAAAAAAAAACAPwAAAAAAAAAAAAAAAAAAgD8AAAAAAAAAAAAAAAAAAIA/AAAAAAAAAAAAAAAAAAAAAAAAAAAAAAAAAAAAAAAAAAAAAIA/AAAAAAAAAAAAAAAAAAAAAAAAAAAAAAAAAACAPwAAAAAAAAAAAAAAAAAAAAAAAAAAAAAAAAAAAAAAAAAAAAAAAAAAAAAAAAAAAAAAAAAAAAAAAAAAAAAAAAAAAAAAAAAAAAAAAAAAAAAAAAAAAAAAAAAAAAAAAAAAAAAAAAAAAAAAAAAAAABwQQAAEEEAAMBAAABAQAAAIEEAAABAAAAAQAAAQEAAAABAAAAAQAAAAAAAAEBAAACAQAAAgD8AAABAAAAAQAAAgD8AAAAAAACAPwAAgD8AAIA/AACAPwAAAAAAAABAAACAPwAAAAAAAIA/AAAAAAAAgD8AAAAAAAAAAAAAgD8AAAAAAAAAAAAAgD8AAIA/AAAAAAAAAAAAAAAAAAAAAAAAAAAAAAAAAAAAAAAAAAAAAAAAAAAAAAAAgD8AAAAAAACAPwAAAAAAAIA/AAAAAAAAAAAAAAAAAAAAAAAAAAAAAIA/AAAAAAAAgD8AAAAAAACAPwAAAAAAAAAAAAAAAAAAgD8AAAAAAAAAAAAAAAAAAAAAAAAAAAAAAAAAAAAAAAAAAAAAAAAAAAAAAAAAAAAAAAAAAAAAAAAAAAAAAAAAAAAAAAAAAAAAAAAAAAAAAACAPwAAAAAAAAAAAAAAAAAAAAAAAAAAAAAAAAAAAAAAAAAAAAAAAAAAAAAAAAAAAAAAAAAAAAAAAAAAAACIQQAAoEAAAIBAAAAQQQAAQEAAAABAAACAQAAAQEAAAIBAAAAAQAAAQEAAAKBAAAAAQAAAAAAAAIA/AAAAQAAAAEAAAEBAAAAAAAAAgD8AAABAAACAPwAAAAAAAABAAACAPwAAgD8AAIA/AAAAAAAAQEAAAIA/AACAPwAAgD8AAAAAAAAAQAAAgD8AAAAAAACAPwAAAAAAAAAAAAAAAAAAgD8AAAAAAAAAAAAAAAAAAIA/AAAAAAAAAAAAAAAAAAAAAAAAAAAAAAAAAAAAAAAAAAAAAAAAAAAAAAAAAAAAAIA/AAAAAAAAAAAAAIA/AAAAAAAAAAAAAAAAAAAAAAAAAAAAAAAAAAAAAAAAAAAAAAAAAAAAAAAAAAAAAAAAAACAPwAAAAAAAAAAAAAAAAAAAAAAAAAAAAAAAAAAAAAAAAAAAACAPwAAAAAAAAAAAAAAAAAAAAAAAAAAAAAAAAAAAAAAAAAAAAAAAAAAAAAAAAAAAAAAAAAAAAAAAAAAAAAAAAAAAAAAAAAAAAAAQAAAoEAAAIBAAAAAQAAAQEAAAAAAAACAPwAAAEAAAEBAAACAQAAAQEAAAABAAABAQAAAAEAAAIBAAACAPwAAAEAAAABAAACgQAAAAEAAAIA/AACAPwAAgD8AAABAAACAPwAAgD8AAIA/AAAAAAAAgD8AAAAAAACAPwAAAAAAAABAAAAAAAAAgD8AAIA/AAAAAAAAAEAAAAAAAAAAAAAAAEAAAAAAAACAPwAAAAAAAAAAAAAAAAAAQEAAAAAAAAAAAAAAAAAAAAAAAAAAAAAAAAAAAIA/AACAPwAAAAAAAAAAAAAAAAAAAAAAAAAAAACAPwAAAAAAAAAAAAAAAAAAAAAAAAAAAACAPwAAgD8AAAAAAAAAAAAAAAAAAAAAAAAAAAAAAAAAAAAAAAAAAAAAAAAAAAAAAAAAAAAAAAAAAAAAAAAAAAAAAAAAAAAAAAAAAAAAAAAAAAAAAAAAAAAAAAAAAAAAAAAAAAAAAAAAAAAAAAAAAAAAAAAAAAAAAAAAAAAAAAAAAAAAAAAAAAAAAAAAAIA/AAAAQAAAAAAAAKBAAACgQAAAAEAAAIBAAACgQAAAAEAAAIA/AAAAAAAAQEAAAIA/AACAQAAAAAAAAIA/AACAPwAAAAAAAIA/AAAAQAAAAAAAAABAAAAAQAAAAEAAAAAAAAAAQAAAgD8AAAAAAACAPwAAgD8AAIA/AAAAAAAAgD8AAAAAAAAAQAAAgD8AAAAAAAAAAAAAAAAAAIA/AAAAQAAAgD8AAAAAAABAQAAAAAAAAAAAAAAAAAAAAAAAAAAAAACAPwAAgD8AAAAAAAAAAAAAAEAAAAAAAAAAAAAAgD8AAAAAAACAPwAAAAAAAAAAAAAAAAAAAAAAAAAAAAAAAAAAAAAAAAAAAAAAAAAAAAAAAAAAAAAAAAAAAAAAAAAAAACAPwAAAAAAAAAAAACAPwAAgD8AAAAAAAAAAAAAAAAAAAAAAAAAAAAAAAAAAAAAAAAAAAAAAAAAAAAAAAAAAAAAAAAAAAAAAAAAAAAAAAAAAAAAAAAAAAAAAAAAAAAAAACAPwAAAEAAAAAAAAAAQAAAgD8AAKBAAAAAQAAAAEAAABBBAABAQAAAAAAAAAAAAACgQAAAAAAAAABAAACAPwAAgEAAAIA/AACAPwAAgD8AAABAAACAPwAAgD8AAIA/AACAPwAAgD8AAIA/AAAAQAAAAEAAAABAAAAAAAAAgD8AAABAAAAAAAAAAEAAAIA/AAAAQAAAQEAAAIA/AAAAAAAAgD8AAAAAAAAAAAAAAEAAAIA/AAAAAAAAgD8AAAAAAACAPwAAAAAAAAAAAAAAAAAAAAAAAAAAAAAAAAAAgD8AAABAAAAAAAAAgD8AAAAAAAAAAAAAgD8AAIA/AACAPwAAAAAAAAAAAAAAAAAAgD8AAAAAAAAAAAAAAAAAAAAAAACAPwAAgD8AAAAAAAAAAAAAAAAAAAAAAACAPwAAgD8AAAAAAAAAAAAAAAAAAAAAAAAAAAAAAAAAAAAAAAAAAAAAAAAAAAAAAAAAAAAAAAAAAAAAAAAAAAAAAAAAAAAAAAAAAAAAAAAAAAAAAACAPwAAgD8AAEBAAACAPwAAgD8AAIA/AACAQAAAAEAAAIA/AABAQAAAAAAAAABAAABAQAAAAEAAAEBAAAAAQAAAAAAAAIBAAACAPwAAgD8AAIA/AAAAQAAAAAAAAABAAACAPwAAgD8AAABAAAAAQAAAAAAAAIA/AACAPwAAAEAAAIA/AAAAQAAAgD8AAABAAACAPwAAAAAAAAAAAAAAAAAAgD8AAAAAAABAQAAAgD8AAIA/AAAAQAAAgD8AAAAAAACAPwAAAAAAAIA/AACAPwAAAAAAAIA/AACAPwAAAAAAAAAAAACAPwAAAAAAAABAAAAAAAAAAAAAAIA/AACAPwAAgD8AAIA/AACAPwAAgD8AAIA/AAAAAAAAAAAAAAAAAAAAQAAAgD8AAIA/AAAAAAAAAAAAAIA/AAAAAAAAAAAAAAAAAAAAAAAAAAAAAAAAAAAAAAAAgD8AAAAAAAAAAAAAAAAAAAAAAAAAAAAAAAAAAAAAAAAAAAAAAAAAAAAAAAAAAAAAAAAAAAAAAAAAAAAAAEAAAAAAAAAAAAAAQEAAAABAAACgQAAAAEAAAABAAACAQAAAAAAAAKBAAABAQAAAAAAAAEBAAACAPwAAoEAAAAAAAACAPwAAgD8AAAAAAACAPwAAgD8AAIA/AACAPwAAgEAAAAAAAACAPwAAgD8AAAAAAACAPwAAgD8AAAAAAAAAQAAAgD8AAABAAACAPwAAgD8AAAAAAABAQAAAAEAAAABAAACAPwAAgD8AAIA/AAAAQAAAAAAAAIA/AACAPwAAgD8AAAAAAAAAAAAAgD8AAAAAAACAPwAAAAAAAAAAAAAAAAAAAAAAAAAAAACAPwAAgD8AAABAAABAQAAAAAAAAAAAAACAPwAAAAAAAIA/AACAPwAAAAAAAAAAAAAAAAAAgD8AAAAAAAAAAAAAgD8AAAAAAACAPwAAAAAAAAAAAAAAAAAAAAAAAIA/AAAAAAAAAAAAAAAAAAAAAAAAAAAAAAAAAAAAAAAAAAAAAAAAAAAAAAAAAAAAAAAAAAAAAAAAAAAAAAAAAAAAAAAAAAAAAAAAAACAPwAAAEAAAEBAAAAAQAAAQEAAAIA/AACAPwAAAEAAAMBAAAAAAAAAQEAAAKBAAACAPwAAgD8AAAAAAADgQAAAgD8AAAAAAACAPwAAAEAAAIA/AACAPwAAgD8AAEBAAACAPwAAgD8AAEBAAAAAQAAAAAAAAEBAAAAAQAAAQEAAAIA/AAAAAAAAgD8AAAAAAAAAAAAAAAAAAIA/AAAAAAAAQEAAAIA/AACAPwAAAEAAAAAAAAAAQAAAgD8AAIA/AAAAQAAAgD8AAIA/AAAAQAAAQEAAAAAAAABAQAAAAAAAAEBAAAAAQAAAAAAAAAAAAACAPwAAAAAAAAAAAAAAAAAAAAAAAAAAAAAAAAAAAAAAAAAAAAAAAAAAAAAAAAAAAAAAAAAAAAAAAAAAAAAAAAAAAAAAAAAAAAAAAAAAAEAAAAAAAAAAAAAAAAAAAAAAAAAAAAAAgD8AAAAAAAAAAAAAAAAAAAAAAAAAAAAAAAAAAAAAAAAAAAAAAAAAAAAAAACAPwAAAAAAAIA/AAAAAAAAAAAAAIA/AAAAQAAAgD8AAABAAACAPwAAAEAAAIBAAACAQAAAQEAAAABAAACAQAAAAEAAAABAAADgQAAAgD8AAIA/AACAPwAAAAAAAMBAAABAQAAAAEAAAIA/AACAPwAAAEAAAAAAAACAPwAAAEAAAAAAAAAAQAAAgD8AAAAAAAAAAAAAgD8AAIA/AACAPwAAAEAAAIA/AAAAQAAAgD8AAIA/AACAPwAAgD8AAIA/AACAPwAAAEAAAIA/AAAAAAAAgD8AAAAAAACAPwAAgD8AAIA/AAAAAAAAAAAAAABAAAAAAAAAAAAAAAAAAAAAQAAAAAAAAAAAAAAAQAAAAAAAAAAAAACAPwAAAAAAAAAAAAAAAAAAgD8AAAAAAAAAAAAAAAAAAAAAAACAPwAAAAAAAAAAAAAAAAAAAAAAAAAAAACAPwAAAAAAAAAAAAAAAAAAAAAAAAAAAAAAAAAAAAAAAAAAAAAAAAAAAAAAAAAAAAAAAAAAAAAAAAAAAACAPwAAAEAAAIA/AACAQAAAgD8AAIA/AACAPwAAAEAAAABAAACAQAAAQEAAAIA/AAAAAAAAQEAAAAAAAABAQAAAQEAAAIA/AAAAAAAAAEAAAIBAAACAQAAAAAAAAIA/AAAAAAAAAAAAAIA/AACAPwAAAAAAAEBAAAAAAAAAgD8AAAAAAACAQAAAAAAAAIA/AACAPwAAAAAAAAAAAAAAAAAAQEAAAABAAAAAAAAAAAAAAAAAAACAQAAAQEAAAIA/AAAAAAAAgD8AAIA/AAAAAAAAAAAAAAAAAACAPwAAgD8AAAAAAACAPwAAAAAAAEBAAAAAQAAAgD8AAEBAAAAAQAAAAAAAAAAAAAAAAAAAgD8AAIA/AAAAQAAAgD8AAIBAAACAPwAAAAAAAABAAAAAAAAAAAAAAAAAAAAAAAAAgD8AAAAAAAAAAAAAAAAAAIA/AAAAAAAAAAAAAAAAAAAAAAAAAAAAAAAAAAAAAAAAAAAAAAAAAAAAAAAAAAAAAAAAAAAAAAAAAAAAAAAAAACAPwAAQEAAAIA/AACAPwAAAAAAAIA/AACAPwAAgD8AAEBAAACAPwAAQEAAAABAAAAAQAAAQEAAAEBAAAAAQAAAQEAAAIBAAACAQAAAgD8AAKBAAADAQAAAgD8AAAAAAAAAQAAAgD8AAABAAAAAQAAAAAAAAABAAACAPwAAgD8AAEBAAACAPwAAgD8AAIA/AACAPwAAAAAAAABAAAAAQAAAAAAAAIA/AACAPwAAgD8AAABAAAAAQAAAAEAAAIA/AAAAAAAAAAAAAEBAAAAAAAAAgD8AAIA/AAAAAAAAgD8AAIA/AAAAAAAAgD8AAIA/AACAPwAAAAAAAIA/AAAAAAAAAAAAAIA/AACAPwAAAAAAAIA/AACAPwAAAAAAAAAAAACAPwAAQEAAAAAAAAAAQAAAAAAAAAAAAACAPwAAAAAAAAAAAACAPwAAgD8AAAAAAAAAAAAAAAAAAIA/AAAAAAAAAAAAAAAAAAAAAAAAAAAAAAAAAAAAAAAAAAAAAAAAAAAAAAAAAAAAAAAAAAAAQAAAgD8AAABAAAAAAAAAAEAAAABAAAAAQAAAgD8AAEBAAACgQAAAAEAAAEBAAAAAQAAAAEAAAEBAAAAAQAAAQEAAAIA/AACAQAAAoEAAAABAAACAPwAAgEAAAEBAAACAPwAAQEAAAIA/AACAPwAAgEAAAABAAAAAQAAAgD8AAIBAAABAQAAAgD8AAAAAAACAPwAAAAAAAAAAAAAAAAAAQEAAAAAAAACAPwAAgD8AAIA/AACAPwAAAAAAAABAAAAAAAAAgD8AAAAAAAAAAAAAgD8AAABAAAAAAAAAgD8AAIA/AAAAAAAAAAAAAEBAAAAAAAAAAEAAAEBAAACAPwAAAEAAAAAAAACAPwAAgD8AAAAAAAAAQAAAAEAAAIA/AACAPwAAgD8AAIA/AACAPwAAAEAAAABAAAAAAAAAgD8AAIA/AACAPwAAgD8AAIA/AACAPwAAAAAAAAAAAAAAAAAAAAAAAAAAAAAAAAAAAAAAAAAAAAAAAAAAAAAAAAAAAAAAAAAAAAAAAAAAAAAAQAAAAAAAAIA/AACAPwAAAEAAAIA/AACAPwAAQEAAAIA/AACAPwAAQEAAAABAAABAQAAAgEAAAKBAAACAQAAAAAAAAEBAAAAAQAAAAAAAAAAAAAAAAAAAgEAAAAAAAABAQAAAAEAAAABAAAAAAAAAgD8AAIA/AAAAAAAAgD8AAIA/AAAAQAAAgEAAAIA/AABAQAAAQEAAAIA/AAAAAAAAAEAAAABAAAAAQAAAAAAAAIA/AACAPwAAgD8AAABAAACAPwAAAAAAAAAAAAAAAAAAAAAAAABAAAAAAAAAAAAAAABAAAAAAAAAQEAAAAAAAAAAQAAAgD8AAAAAAACgQAAAAEAAAAAAAACAPwAAgD8AAEBAAACAPwAAAAAAAAAAAAAAAAAAAAAAAAAAAAAAQAAAAAAAAABAAAAAQAAAAAAAAABAAAAAAAAAAAAAAAAAAAAAAAAAAAAAAAAAAAAAAAAAAAAAAAAAAAAAAAAAAAAAAAAAAAAAAAAAAAAAAAAAAAAAAAAAAAAAAAAAAAAAAAAAAEAAAEBAAACAPwAAAAAAAAAAAACAPwAAAEAAAABAAAAAQAAAgD8AAABAAAAAQAAAAEAAAIA/AAAAQAAAoEAAAABAAAAAQAAAgEAAAABAAABAQAAAAAAAAEBAAAAAAAAAgEAAAEBAAAAAQAAAgD8AAAAAAAAAQAAAgEAAAABAAACAPwAAAEAAAAAAAACAPwAAgD8AAIBAAACAQAAAAEAAAAAAAACAPwAAgD8AAAAAAACAPwAAAAAAAABAAAAAAAAAAAAAAABAAAAAAAAAAEAAAIA/AAAAAAAAAEAAAIA/AACAPwAAAEAAAIA/AACAPwAAAAAAAAAAAACAPwAAAEAAAIA/AACAPwAAAEAAAABAAAAAQAAAgD8AAIA/AABAQAAAAEAAAIA/AACAPwAAAAAAAIBAAAAAAAAAAEAAAAAAAAAAAAAAgD8AAAAAAAAAAAAAAAAAAAAAAAAAAAAAAAAAAAAAAAAAAAAAAAAAAAAAAAAAAAAAAAAAAAAAAAAAAAAAAAAAAAAAAAAAQAAAAAAAAAAAAACAPwAAgD8AAIA/AACAPwAAgD8AAABAAAAAAAAAAEAAAABAAABAQAAAwEAAAIBAAAAAAAAAgD8AAIA/AABAQAAAgD8AAIA/AAAAAAAAoEAAAABAAABAQAAAgD8AAAAAAACAPwAAAAAAAABAAAAAQAAAgD8AAABAAACAPwAAgEAAAIA/AACAPwAAAEAAAAAAAAAAQAAAAEAAAAAAAACAPwAAAAAAAIBAAACAPwAAgEAAAIA/AAAAAAAAAAAAAAAAAACAPwAAAAAAAAAAAACAPwAAgEAAAAAAAAAAAAAAAAAAAAAAAAAAQAAAAEAAAIA/AACAPwAAgD8AAIA/AACAPwAAgD8AAIA/AAAAAAAAAAAAAAAAAACAPwAAgD8AAIA/AABAQAAAAAAAAAAAAACAPwAAAAAAAAAAAAAAQAAAAAAAAAAAAAAAAAAAgD8AAAAAAAAAAAAAAAAAAAAAAAAAAAAAAAAAAAAAAAAAAAAAAAAAAAAAAAAAAAAAAAAAAAAAAAAAQAAAQEAAAIA/AACAPwAAQEAAAAAAAAAAQAAAgD8AAABAAAAAAAAAgD8AAAAAAACAPwAAQEAAAEBAAACAPwAAAEAAAABAAACgQAAAQEAAAEBAAAAAQAAAQEAAAEBAAAAAAAAAAAAAAIA/AAAAAAAAAEAAAABAAABAQAAAQEAAAABAAAAAQAAAAAAAAIA/AACAPwAAgD8AAABAAACAPwAAAAAAAABAAACAPwAAAAAAAABAAACAPwAAgD8AAAAAAAAAAAAAAAAAAAAAAAAAQAAAAEAAAAAAAABAQAAAAAAAAAAAAAAAAAAAAAAAAABAAAAAAAAAAEAAAIA/AACAPwAAAAAAAIA/AACAPwAAAAAAAABAAACAPwAAAAAAAIA/AACAPwAAAEAAAABAAAAAAAAAQEAAAAAAAACAPwAAAAAAAIA/AACAPwAAAAAAAAAAAAAAAAAAAEAAAAAAAAAAAAAAgD8AAAAAAAAAAAAAAAAAAAAAAAAAAAAAAAAAAAAAAAAAAAAAAAAAAAAAAACAPwAAAAAAAIA/AACAPwAAgD8AAABAAACAPwAAgD8AAAAAAACAPwAAAEAAAAAAAAAAQAAAAEAAAAAAAACAPwAAQEAAAAAAAACAPwAAgEAAAAAAAACAPwAAAEAAAABAAAAAQAAAQEAAAABAAACAPwAAAEAAAAAAAAAAQAAAgD8AAIA/AACAPwAAgD8AAEBAAACAPwAAQEAAAAAAAAAAQAAAAEAAAAAAAACAPwAAQEAAAIA/AAAAQAAAQEAAAIA/AACAPwAAAEAAAAAAAACAPwAAgD8AAAAAAAAAAAAAAAAAAABAAACAPwAAgEAAAIA/AAAAAAAAAAAAAIA/AAAAQAAAgD8AAIA/AACAPwAAAEAAAAAAAABAQAAAAEAAAIA/AACAPwAAgD8AAABAAAAAAAAAAAAAAAAAAACAPwAAQEAAAAAAAAAAAAAAAAAAAAAAAAAAAAAAAAAAAAAAAAAAAAAAAAAAAAAAAAAAAAAAAAAAAAAAAAAAAAAAAAAAAAAAAAAAAAAAAAAAAAAAAAAAAAAAAAAAAAAAAAAAQAAAAAAAAABAAACAPwAAAEAAAEBAAAAAAAAAgD8AAIA/AACAPwAAAEAAAABAAACAPwAAQEAAAIA/AAAAQAAAgD8AAEBAAABAQAAAAAAAAABAAACAPwAAAAAAAABAAAAAAAAAAAAAAABAAAAAQAAAAEAAAIA/AACAPwAAQEAAAIBAAAAAQAAAAEAAAAAAAAAAAAAAAEAAAABAAAAAQAAAgD8AAABAAAAAQAAAgD8AAIA/AAAAAAAAgD8AAIA/AAAAAAAAgD8AAIA/AACAPwAAgEAAAAAAAACAPwAAgD8AAAAAAACAPwAAgD8AAIA/AAAAAAAAgD8AAIA/AAAAQAAAgD8AAIA/AAAAAAAAQEAAAIA/AAAAAAAAAEAAAAAAAAAAAAAAAEAAAAAAAAAAAAAAAAAAAAAAAAAAQAAAAEAAAABAAACAPwAAAAAAAAAAAAAAAAAAAAAAAIA/AAAAAAAAAAAAAAAAAAAAAAAAAAAAAAAAAAAAAAAAAAAAAAAAAAAAQAAAAEAAAEBAAACAPwAAgD8AAAAAAABAQAAAgD8AAABAAAAAQAAAgD8AAEBAAACAQAAAAAAAAABAAAAAAAAAoEAAAEBAAACAPwAAgEAAAKBAAABAQAAAQEAAAIBAAACAPwAAgD8AAIA/AAAAQAAAAAAAAABAAACAPwAAgD8AAIBAAACAPwAAgD8AAAAAAAAAAAAAgD8AAIA/AAAAQAAAgD8AAAAAAABAQAAAgD8AAAAAAAAAAAAAgD8AAEBAAACAPwAAQEAAAIA/AAAAQAAAAEAAAAAAAABAQAAAgD8AAAAAAACAPwAAAAAAAAAAAAAAAAAAgD8AAAAAAAAAAAAAAAAAAIA/AACAPwAAgD8AAIA/AACAPwAAAEAAAIA/AAAAAAAAAAAAAIA/AAAAAAAAgD8AAIA/AACAPwAAgD8AAIA/AAAAAAAAAAAAAAAAAAAAAAAAgD8AAAAAAACAPwAAgD8AAAAAAAAAAAAAAAAAAAAAAAAAAAAAAAAAAAAAAAAAAAAAAAAAAAAAAACAPwAAAEAAAABAAACAPwAAAAAAAIA/AAAAAAAAgD8AAIA/AACAPwAAgD8AAABAAABAQAAAgD8AAABAAAAAAAAAAAAAAAAAAAAAAAAAQEAAAEBAAABAQAAAAEAAAABAAABAQAAAAEAAAEBAAACAPwAAAAAAAABAAAAAQAAAwEAAAAAAAAAAQAAAgD8AAABAAABAQAAAQEAAAABAAAAAAAAAAAAAAIA/AABAQAAAAEAAAKBAAACAPwAAAAAAAIA/AACAPwAAgD8AAEBAAAAAQAAAAEAAAAAAAAAAQAAAAAAAAAAAAAAAAAAAgD8AAEBAAAAAQAAAAAAAAAAAAAAAQAAAAAAAAIA/AACAQAAAgD8AAAAAAAAAAAAAgD8AAAAAAAAAQAAAAEAAAABAAACAPwAAAAAAAABAAACAPwAAAEAAAIA/AACAQAAAgD8AAAAAAAAAQAAAAAAAAAAAAAAAAAAAgD8AAAAAAAAAAAAAAAAAAAAAAAAAAAAAAAAAAAAAAAAAAAAAAAAAAAAAAABAQAAAgD8AAAAAAABAQAAAQEAAAABAAACAPwAAgD8AAABAAACAPwAAAEAAAABAAACAPwAAgEAAAIA/AAAAQAAAQEAAAAAAAAAAQAAAQEAAAAAAAAAAQAAAQEAAAAAAAABAQAAAwEAAAABAAAAAQAAAgEAAAAAAAACAPwAAgD8AAIA/AAAAQAAAgD8AAEBAAAAAAAAAgD8AAAAAAAAAAAAAAAAAAIA/AACAPwAAgD8AAAAAAAAAQAAAAEAAAABAAAAAAAAAAEAAAAAAAAAAQAAAAEAAAABAAAAAAAAAgD8AAAAAAAAAAAAAgD8AAIA/AAAAAAAAAAAAAAAAAAAAQAAAAAAAAABAAAAAAAAAgD8AAAAAAAAAAAAAAAAAAAAAAAAAAAAAAAAAAAAAAACAPwAAAEAAAEBAAABAQAAAAEAAAIA/AAAAAAAAAEAAAIA/AAAAAAAAAAAAAAAAAAAAAAAAAAAAAAAAAAAAAAAAAAAAAAAAAAAAAAAAAAAAAAAAAAAAAAAAAAAAAAAAAACgQAAAAEAAAIA/AAAAAAAAQEAAAABAAABAQAAAQEAAAIA/AABAQAAAAEAAAABAAACAPwAAgD8AAABAAABAQAAAQEAAAEBAAAAAQAAAAEAAAIA/AACAQAAAgD8AAAAAAAAAAAAAwEAAAIA/AAAAQAAAgEAAAEBAAAAAQAAAAEAAAEBAAAAAQAAAAEAAAEBAAACAPwAAAAAAAEBAAACAPwAAgD8AAIA/AAAAQAAAgD8AAABAAACAPwAAAAAAAABAAAAAQAAAAAAAAAAAAACAPwAAAEAAAIA/AACAPwAAAAAAAAAAAACAPwAAAAAAAIA/AACAPwAAgD8AAAAAAAAAAAAAgD8AAAAAAAAAAAAAgD8AAABAAACAPwAAAAAAAIA/AACAPwAAgD8AAABAAAAAAAAAgD8AAIA/AACAPwAAQEAAAIBAAACAPwAAAEAAAEBAAACAPwAAAAAAAIA/AAAAAAAAAAAAAAAAAAAAAAAAAAAAAAAAAAAAAAAAAAAAAAAAAAAAAAAAAAAAAAAAAACAPwAAAEAAAIBAAACAPwAAQEAAAABAAAAAQAAAAAAAAABAAABAQAAAgD8AAABAAACAPwAAQEAAAIA/AACAPwAAgEAAAABAAACAPwAAgEAAAABAAACAQAAAAEAAAIA/AABAQAAAQEAAAKBAAAAAQAAAAEAAAEBAAAAAAAAAAEAAAEBAAAAAAAAAAEAAAIA/AABAQAAAAEAAAAAAAACAPwAAQEAAAIA/AAAAAAAAgD8AAAAAAAAAQAAAAAAAAIA/AABAQAAAAAAAAABAAACAPwAAgD8AAIA/AABAQAAAgD8AAABAAAAAAAAAAEAAAABAAAAAAAAAAAAAAAAAAACAQAAAAAAAAABAAAAAAAAAAEAAAAAAAACAPwAAAAAAAAAAAAAAAAAAgD8AAAAAAACAPwAAgD8AAEBAAABAQAAAAAAAAABAAAAAQAAAAAAAAIA/AACAPwAAAAAAAAAAAAAAAAAAAAAAAAAAAAAAAAAAAAAAAAAAAAAAAAAAAAAAAAAAAAAAAAAAAAAAAAAAAACAPwAAgD8AAIA/AACAPwAAgD8AAEBAAAAAQAAAAAAAAKBAAACAPwAAQEAAAAAAAAAAAAAAAAAAAAAAAAAAAAAAQEAAAIA/AAAAQAAAAEAAAEBAAAAAAAAAQEAAAAAAAACAPwAAAEAAAIA/AAAAAAAAgEAAAEBAAACAQAAAgD8AAABAAACAPwAAAEAAAIA/AAAAAAAAgD8AAIA/AABAQAAAAEAAAIA/AACAPwAAgD8AAIA/AAAAAAAAgD8AAABAAAAAQAAAgD8AAABAAAAAAAAAgD8AAABAAAAAQAAAAAAAAABAAAAAQAAAQEAAAAAAAACAPwAAAEAAAIA/AAAAQAAAAAAAAIA/AAAAAAAAAEAAAIA/AAAAAAAAgD8AAIA/AABAQAAAAAAAAABAAABAQAAAAAAAAAAAAAAAQAAAQEAAAAAAAAAAQAAAgD8AAIBAAACAPwAAAAAAAAAAAAAAAAAAgD8AAAAAAAAAAAAAAAAAAAAAAAAAAAAAAAAAAAAAAAAAAAAAAAAAAAAAAAAAAAAAAEAAAABAAACAPwAAgD8AAIA/AAAAQAAAAEAAAAAAAACAPwAAQEAAAAAAAACAPwAAQEAAAABAAABAQAAAAEAAAAAAAAAAAAAAgD8AAAAAAABAQAAAgD8AAAAAAAAAQAAAAEAAAKBAAABAQAAAwEAAAABAAAAAQAAAAEAAAMBAAABAQAAAAAAAAAAAAACAPwAAAEAAAIA/AACAPwAAgD8AAAAAAAAAAAAAAEAAAAAAAAAAAAAAgEAAAIA/AACAPwAAgEAAAAAAAACAPwAAgD8AAIA/AACAPwAAgD8AAIA/AABAQAAAgD8AAIA/AACAPwAAgD8AAIA/AACAQAAAgD8AAIBAAAAAQAAAAAAAAABAAAAAQAAAgD8AAIA/AAAAAAAAAAAAAABAAACAPwAAAEAAAAAAAACAPwAAgD8AAABAAACAPwAAAEAAAABAAACAPwAAgD8AAAAAAAAAAAAAAAAAAAAAAAAAAAAAAAAAAAAAAAAAAAAAAAAAAAAAAAAAAAAAAAAAAAAAAACAPwAAAEAAAIA/AACAPwAAAAAAAIA/AAAAAAAAAEAAAABAAACAPwAAgD8AAEBAAACAPwAAgEAAAAAAAAAAQAAAQEAAAIA/AAAAQAAAgEAAAAAAAAAAQAAAAEAAAKBAAABAQAAAAEAAAIA/AACgQAAAAAAAAMBAAABAQAAAAEAAAIA/AADgQAAAgD8AAABAAACAQAAAQEAAAIBAAABAQAAAgD8AAIBAAACAPwAAgD8AAKBAAAAAAAAAAEAAAABAAAAAQAAAoEAAAEBAAABAQAAAAAAAAAAAAACAPwAAQEAAAAAAAAAAQAAAAAAAAEBAAABAQAAAgD8AAAAAAABAQAAAAEAAAIA/AABAQAAAAAAAAIA/AACAPwAAQEAAAAAAAACAPwAAAAAAAEBAAAAAAAAAQEAAAABAAAAAQAAAAAAAAEBAAACAPwAAQEAAAAAAAACAPwAAAAAAAAAAAAAAAAAAgD8AAAAAAAAAAAAAAAAAAAAAAAAAAAAAAAAAAAAAAAAAAAAAAAAAAAAAAAAAAAAAAAAAAABAAAAAQAAAAEAAAEBAAABAQAAAAEAAAEBAAACAPwAAAEAAAIA/AACAPwAAAEAAAIA/AABAQAAAQEAAAIA/AAAAAAAAAAAAAIA/AACAQAAAAEAAAABAAACAPwAAwEAAAIA/AADgQAAAQEAAAABAAABAQAAAQEAAAABAAACAQAAAgEAAAIA/AAAAAAAAAAAAAIA/AACAPwAAQEAAAIA/AAAAQAAAgEAAAABAAACgQAAAQEAAAIA/AACAPwAAAAAAAIA/AADAQAAAAEAAAIA/AAAAAAAAAAAAAAAAAABAQAAAgD8AAAAAAACAPwAAAAAAAIA/AACAQAAAQEAAAEBAAACAPwAAgD8AAIA/AAAAAAAAgEAAAABAAABAQAAAgD8AAIA/AACAPwAAAEAAAIBAAAAAQAAAAAAAAAAAAACAQAAAQEAAAABAAACAPwAAAAAAAIA/AACAPwAAAEAAAIA/AAAAAAAAAAAAAAAAAAAAAAAAAAAAAAAAAAAAAAAAAAAAAAAAAAAAQAAAAEAAAABAAACAPwAAgD8AAAAAAACAPwAAAEAAAEBAAACAPwAAAEAAAABAAAAAQAAAAEAAAAAAAACAPwAAAEAAAAAAAAAAAAAAgD8AAIBAAAAAAAAAgD8AAIBAAACAQAAAgD8AAIA/AAAAAAAAQEAAAIA/AABAQAAAQEAAAMBAAABAQAAAgEAAAABAAAAAQAAAAEAAAAAAAAAAAAAAgD8AAABAAAAAQAAAAAAAAAAAAAAAQAAAgD8AAKBAAABAQAAAAEAAAIA/AADAQAAAgEAAAEBAAAAAQAAAgD8AAIBAAAAAQAAAAEAAAABAAAAAAAAAgD8AAIBAAABAQAAAgD8AAABAAAAAQAAAgD8AAIA/AABAQAAAAEAAAAAAAACAQAAAQEAAAIA/AACAPwAAoEAAAIBAAAAAQAAAgD8AAIA/AAAAAAAAAEAAAEBAAACAPwAAAAAAAKBAAACAPwAAAEAAAIA/AAAAAAAAAAAAAAAAAAAAAAAAAAAAAAAAAAAAAAAAAAAAAAAAAABAQAAAgEAAAABAAABAQAAAAAAAAIA/AACAPwAAAEAAAABAAAAAQAAAAEAAAIA/AACAPwAAgD8AAAAAAACAPwAAgD8AAABAAAAAAAAAAAAAAIA/AAAAAAAAQEAAAABAAACAQAAAQEAAAIA/AACAPwAAAEAAAABAAACAQAAAgD8AAABAAACAPwAAQEAAAAAAAACAQAAAgD8AAIBAAABAQAAAAEAAAEBAAACAPwAAAEAAAABAAAAAAAAAgD8AAKBAAAAAAAAAAEAAAIBAAAAAAAAAgD8AAABAAACAPwAAgD8AAEBAAABAQAAAAAAAAABAAAAAQAAAgD8AAIA/AACAPwAAAAAAAIA/AACAPwAAQEAAAEBAAACAPwAAQEAAAIA/AAAAQAAAgD8AAEBAAAAAAAAAAEAAAIA/AAAAAAAAgD8AAAAAAAAAQAAAAAAAAEBAAACAPwAAgD8AAIA/AACAPwAAAEAAAIA/AAAAAAAAAAAAAAAAAAAAAAAAAAAAAAAAAAAAAAAAAAAAAAAAAAAAQAAAgD8AAIA/AACAPwAAoEAAAEBAAAAAQAAAgD8AAAAAAACAPwAAgD8AAABAAAAAAAAAAEAAAAAAAAAAAAAAAEAAAIA/AACAPwAAQEAAAAAAAACAPwAAgD8AAIA/AAAAQAAAgD8AAEBAAACAPwAAoEAAAKBAAACAPwAAgD8AAABAAABAQAAAAAAAAIBAAAAAQAAAoEAAAABAAABAQAAAAEAAAIA/AACAPwAAgD8AAIA/AAAAQAAAgD8AAAAAAAAAQAAAAAAAAABAAAAAAAAAQEAAAIA/AABAQAAAAEAAAIA/AACAPwAAAAAAAAAAAACAPwAAgEAAAIA/AABAQAAAAEAAAIA/AAAAAAAAAAAAAEBAAACAPwAAAAAAAAAAAAAAQAAAgD8AAABAAAAAAAAAgEAAAIA/AAAAAAAAgEAAAEBAAAAAAAAAQEAAAABAAACAPwAAAAAAAEBAAAAAAAAAAAAAAAAAAAAAAAAAAAAAAAAAAAAAAAAAAAAAAAAAAAAAAAAAAAAAAAAAAACgQAAAAAAAAIA/AACAPwAAoEAAAIA/AABAQAAAAAAAAAAAAAAAQAAAgD8AAIA/AAAAQAAAgEAAAIA/AAAAAAAAAEAAAIA/AAAAQAAAAEAAAABAAAAAAAAAgD8AAEBAAABAQAAAQEAAAIBAAACAPwAAwEAAAABAAACAPwAAAEAAAEBAAABAQAAAAAAAAIBAAAAAQAAAAAAAAEBAAACgQAAAgD8AAEBAAAAAQAAAgD8AAABAAAAAAAAAQEAAAAAAAAAAQAAAgD8AAIA/AAAAAAAAgEAAAABAAAAAQAAAQEAAAIA/AAAAAAAAgD8AAEBAAACAQAAAAAAAAIBAAABAQAAAAAAAAIA/AACAPwAAgD8AAABAAABAQAAAAEAAAABAAACAPwAAgD8AAIA/AACAPwAAgD8AAIA/AAAAQAAAAAAAAIA/AAAAAAAAAAAAAEBAAACAPwAAAEAAAIA/AAAAAAAAgD8AAIA/AAAAAAAAAAAAAAAAAAAAAAAAAAAAAAAAAAAAAAAAAAAAAAAAAABAQAAAAEAAAEBAAAAAQAAAAEAAAEBAAAAAAAAAgD8AAEBAAACAPwAAAAAAAAAAAAAAAAAAAAAAAABAAABAQAAAAAAAAIBAAACAPwAAQEAAAIA/AACAPwAAAEAAAABAAAAAQAAAQEAAAABAAAAAQAAAgEAAAAAAAACAPwAAAAAAAIA/AAAAQAAAgD8AAABAAAAAQAAAgD8AAIA/AACAPwAAAAAAAAAAAACAPwAAAAAAAIA/AAAAQAAAQEAAAAAAAAAAQAAAgD8AAABAAABAQAAAAEAAAIA/AACAPwAAAEAAAIA/AACAQAAAQEAAAIA/AAAAQAAAAEAAAAAAAAAAQAAAgD8AAIA/AACAPwAAgD8AAIA/AACAPwAAAAAAAABAAAAAAAAAgD8AAABAAACAPwAAgD8AAIA/AACAPwAAAEAAAAAAAAAAQAAAAAAAAIA/AACAPwAAAAAAAIBAAAAAAAAAAAAAAAAAAAAAAAAAAAAAAAAAAAAAAAAAAAAAAAAAAAAAAAAAAAAAAAAAAACAPwAAgD8AAAAAAACgQAAAgD8AAIA/AAAAAAAAAEAAAAAAAAAAAAAAgD8AAABAAAAAQAAAAAAAAAAAAAAAAAAAAEAAAAAAAAAAAAAAAAAAAAAAAAAAQAAAgD8AAAAAAAAAQAAAQEAAAABAAAAAQAAAAEAAAABAAACAQAAAQEAAAIA/AACAPwAAgD8AAIA/AAAAQAAAgD8AAABAAACAPwAAAAAAAIA/AAAAAAAAAAAAAABAAAAAAAAAAAAAAABAAAAAQAAAQEAAAEBAAAAAAAAAAAAAAABAAAAAAAAAgD8AAAAAAACAPwAAAAAAAEBAAACAQAAAgD8AAAAAAACAPwAAAAAAAAAAAACAPwAAAAAAAAAAAAAAAAAAgD8AAAAAAAAAAAAAAAAAAIA/AACAPwAAgD8AAAAAAACAPwAAQEAAAIA/AAAAQAAAAAAAAAAAAAAAAAAAAAAAAAAAAAAAAAAAgD8AAIA/AAAAAAAAAAAAAAAAAAAAAAAAAAAAAAAAAAAAAAAAAAAAAAAAAABAQAAAAAAAAABAAAAAAAAAAAAAAIA/AACAPwAAgEAAAIA/AAAAAAAAAAAAAIA/AACAPwAAAEAAAAAAAABAQAAAQEAAAABAAACAQAAAQEAAAIBAAACAPwAAAEAAAIA/AACAPwAAAEAAAIA/AACAPwAAAEAAAAAAAACAPwAAAAAAAIA/AAAAQAAAAAAAAIA/AAAAAAAAAAAAAIA/AAAAAAAAQEAAAAAAAACAPwAAgD8AAIA/AAAAQAAAAAAAAAAAAACAPwAAAEAAAABAAACAPwAAgD8AAIA/AAAAQAAAgD8AAABAAACAQAAAAAAAAEBAAAAAQAAAgD8AAEBAAACAPwAAAEAAAAAAAAAAAAAAAAAAAABAAAAAQAAAAAAAAIA/AAAAAAAAgD8AAAAAAAAAAAAAAAAAAIBAAACAPwAAAAAAAIA/AAAAAAAAAAAAAIA/AAAAAAAAAEAAAAAAAAAAAAAAAAAAAAAAAAAAAAAAAAAAAAAAAAAAAAAAAAAAAAAAAAAAAAAAAAAAAAAAAABAQAAAgD8AAIA/AABAQAAAAAAAAIA/AACAPwAAQEAAAIA/AAAAAAAAgD8AAABAAACAPwAAQEAAAAAAAACAPwAAQEAAAABAAACAPwAAoEAAAABAAACgQAAAQEAAAAAAAABAQAAAAAAAAIA/AAAAAAAAgD8AAABAAAAAQAAAAEAAAIA/AAAAQAAAAEAAAIBAAAAAQAAAAEAAAAAAAACAPwAAQEAAAIA/AACAPwAAAAAAAEBAAACAPwAAAEAAAIA/AAAAAAAAgD8AAABAAAAAQAAAAAAAAIA/AACAPwAAAEAAAAAAAABAQAAAAAAAAIA/AAAAQAAAAEAAAAAAAAAAAAAAgD8AAEBAAAAAQAAAAEAAAAAAAAAAQAAAAAAAAABAAAAAAAAAgD8AAIA/AAAAAAAAAAAAAAAAAACAPwAAQEAAAIA/AACAPwAAgD8AAIA/AACAPwAAgD8AAIBAAACAPwAAAAAAAAAAAAAAAAAAAAAAAAAAAAAAAAAAAAAAAAAAAAAAAAAAAAAAAAAAAABAQAAAQEAAAIA/AAAAQAAAAAAAAAAAAAAAQAAAgD8AAAAAAABAQAAAQEAAAABAAACAPwAAgD8AAAAAAACAQAAAQEAAAIA/AABAQAAAgD8AAABAAACAPwAAgD8AAABAAAAAQAAAAAAAAABAAAAAQAAAgD8AAIBAAAAAQAAAQEAAAIA/AACAPwAAgD8AAIA/AAAAQAAAAAAAAABAAACAPwAAAEAAAABAAACAPwAAAAAAAIBAAACAPwAAgD8AAAAAAAAAAAAAAEAAAAAAAACAPwAAgD8AAAAAAACAPwAAAEAAAAAAAAAAAAAAAAAAAIBAAACAPwAAAEAAAAAAAAAAQAAAAAAAAAAAAAAAAAAAgEAAAAAAAAAAQAAAQEAAAAAAAACAPwAAAAAAAAAAAAAAQAAAgD8AAABAAACAPwAAgD8AAIA/AAAAAAAAAAAAAIA/AACAPwAAgD8AAAAAAAAAAAAAAAAAAIA/AAAAAAAAAAAAAAAAAAAAAAAAAAAAAAAAAAAAAAAAAAAAAAAAAACAPwAAgD8AAEBAAACAQAAAAEAAAAAAAAAAQAAAAAAAAIA/AAAAQAAAQEAAAABAAAAAAAAAAEAAAEBAAAAAAAAAgD8AAIBAAAAAQAAAgEAAAIBAAACAPwAAAEAAAABAAAAAQAAAQEAAAEBAAACAPwAAgD8AAEBAAAAAAAAAAAAAAIA/AACAPwAAgD8AAABAAAAAAAAAAAAAAABAAACAPwAAAAAAAIA/AACAPwAAAAAAAIA/AACAPwAAAAAAAAAAAAAAAAAAAAAAAAAAAAAAQAAAgD8AAAAAAABAQAAAQEAAAAAAAAAAAAAAAAAAAIA/AACAPwAAQEAAAIA/AAAAAAAAgD8AAAAAAABAQAAAgD8AAAAAAAAAAAAAgD8AAAAAAACAPwAAAEAAAAAAAAAAAAAAgD8AAAAAAAAAAAAAAAAAAIA/AACAPwAAAAAAAAAAAAAAQAAAAAAAAAAAAACAPwAAAAAAAABAAAAAAAAAAAAAAAAAAAAAAAAAAAAAAAAAAAAAAAAAAAAAAAAAAAAAAAAAgEAAAAAAAAAAQAAAQEAAAAAAAAAAQAAAAEAAAAAAAACAPwAAgD8AAIA/AAAAAAAAAAAAAABAAABAQAAAAEAAAABAAAAAQAAAgD8AAAAAAACAPwAAQEAAAIA/AAAAQAAAgD8AAIA/AACAPwAAoEAAAAAAAACAPwAAQEAAAAAAAACAPwAAgD8AAIA/AACAPwAAQEAAAAAAAABAQAAAAAAAAAAAAAAAQAAAgD8AAAAAAACAPwAAAEAAAAAAAACAQAAAAEAAAIA/AACAPwAAgD8AAAAAAACAPwAAgD8AAIA/AAAAAAAAAAAAAAAAAAAAQAAAgD8AAAAAAAAAAAAAgD8AAAAAAAAAAAAAAAAAAAAAAACAPwAAgD8AAIA/AABAQAAAgD8AAAAAAACAPwAAQEAAAABAAAAAAAAAAAAAAIA/AACAPwAAAAAAAAAAAACAPwAAAAAAAIA/AAAAAAAAgD8AAAAAAAAAAAAAAAAAAAAAAAAAAAAAAAAAAAAAAAAAAAAAAAAAAAAAAACAPwAAAAAAAABAAACAPwAAAAAAAABAAAAAQAAAAEAAAABAAACAPwAAAAAAAIBAAAAAAAAAAAAAAABAAAAAQAAAgEAAAIA/AAAAQAAAQEAAAIA/AAAAQAAAgD8AAMBAAAAAQAAAgEAAAIA/AACAQAAAgEAAAABAAACAPwAAgD8AAIA/AACAPwAAAAAAAABAAAAAAAAAgD8AAABAAAAAAAAAAAAAAABAAACAPwAAAEAAAIA/AAAAAAAAgD8AAABAAACAPwAAQEAAAIA/AABAQAAAgD8AAABAAAAAAAAAgD8AAIA/AACAPwAAgD8AAIA/AAAAQAAAAEAAAABAAACAPwAAgD8AAABAAAAAAAAAgD8AAAAAAAAAAAAAgD8AAABAAABAQAAAAEAAAIA/AACAPwAAAAAAAIA/AAAAAAAAgD8AAAAAAAAAAAAAAEAAAIA/AACAPwAAAAAAAAAAAAAAAAAAgD8AAIA/AAAAAAAAAAAAAAAAAAAAAAAAAAAAAAAAAAAAAAAAAAAAAAAAAACAPwAAQEAAAIBAAACAPwAAgEAAAIA/AACAPwAAAEAAAAAAAACAPwAAQEAAAABAAACgQAAAAEAAAABAAACAPwAAAEAAAIA/AACAPwAAQEAAAIA/AAAAAAAAgEAAAEBAAACAQAAAgD8AAIBAAAAAQAAAQEAAAIA/AAAAQAAAQEAAAAAAAACgQAAAgD8AAABAAACAPwAAAAAAAAAAAACAPwAAQEAAAEBAAACAPwAAgD8AAEBAAAAAAAAAAEAAAIA/AAAAAAAAAAAAAAAAAAAAQAAAAEAAAEBAAAAAAAAAAEAAAIA/AAAAAAAAgD8AAIA/AAAAQAAAAAAAAAAAAAAAAAAAAEAAAAAAAACAPwAAgD8AAAAAAACAPwAAgD8AAAAAAACAQAAAAAAAAAAAAACAPwAAgD8AAABAAACAPwAAgD8AAAAAAACAPwAAgD8AAAAAAAAAAAAAAAAAAAAAAACAPwAAgD8AAAAAAAAAAAAAAAAAAAAAAAAAAAAAAAAAAAAAAAAAAAAAAAAAAAAAAAAAQAAAQEAAAABAAAAAQAAAgD8AAIA/AACAPwAAgD8AAAAAAAAAAAAAgD8AAIA/AABAQAAAAEAAAIBAAABAQAAAAEAAAEBAAACAQAAAAEAAAIA/AAAAQAAAgD8AAABAAAAAAAAAgD8AAIA/AACAPwAAAEAAAIA/AAAAAAAAAEAAAIA/AACAPwAAAAAAAABAAACAPwAAAAAAAIA/AABAQAAAAAAAAAAAAACAPwAAAEAAAAAAAACAPwAAgD8AAAAAAACAPwAAAEAAAIA/AACAPwAAgD8AAABAAACAPwAAAAAAAIA/AAAAQAAAgD8AAIA/AAAAQAAAAEAAAIA/AAAAQAAAAEAAAAAAAACAPwAAAEAAAAAAAAAAAAAAAAAAAAAAAAAAAAAAAAAAAIA/AACAPwAAAAAAAAAAAACAPwAAgD8AAAAAAACAPwAAAAAAAIA/AAAAAAAAAAAAAAAAAAAAAAAAAAAAAAAAAAAAAAAAAAAAAAAAAAAAAAAAAAAAAAAAAAAAAAAAAAAAAAAAAABAQAAAgD8AAIA/AAAAQAAAgD8AAIBAAAAAAAAAAAAAAAAAAACAPwAAAAAAAABAAACAQAAAAEAAAIA/AAAAAAAAAEAAAAAAAACAQAAAAEAAAIBAAAAAAAAAQEAAAABAAACAPwAAAEAAAEBAAAAAAAAAAEAAAIA/AAAAAAAAgD8AAIA/AABAQAAAgD8AAAAAAACAPwAAgD8AAAAAAAAAAAAAgD8AAAAAAAAAQAAAAAAAAAAAAAAAAAAAgD8AAIBAAACAPwAAgD8AAIA/AAAAAAAAAEAAAAAAAAAAAAAAgD8AAIA/AACAPwAAgD8AAAAAAAAAAAAAAAAAAAAAAACAPwAAgD8AAABAAAAAAAAAAEAAAABAAABAQAAAAAAAAIA/AAAAAAAAAEAAAABAAAAAAAAAAEAAAAAAAACAPwAAgD8AAABAAAAAAAAAgD8AAAAAAACAPwAAAAAAAIA/AAAAAAAAAAAAAAAAAAAAAAAAAAAAAAAAAAAAAAAAAAAAAAAAAAAAAAAAAAAAAAAAAABAQAAAAEAAAEBAAACgQAAAAAAAAABAAAAAAAAAgD8AAIA/AAAAAAAAgEAAAABAAABAQAAAgD8AAIA/AAAAQAAAgD8AAIBAAADAQAAAgD8AAIBAAACAPwAAQEAAAAAAAAAAQAAAAEAAAABAAACAPwAAgD8AAABAAACAPwAAAEAAAAAAAACAPwAAQEAAAIA/AACAPwAAgD8AAAAAAAAAAAAAAEAAAAAAAAAAQAAAAEAAAABAAAAAAAAAAAAAAAAAAACAPwAAAEAAAAAAAACAPwAAQEAAAABAAACAPwAAAAAAAIA/AAAAAAAAgD8AAAAAAACAPwAAAAAAAAAAAACAPwAAAEAAAABAAACAPwAAAAAAAABAAAAAAAAAgD8AAABAAABAQAAAAEAAAIA/AAAAAAAAAAAAAABAAAAAQAAAAAAAAAAAAACAPwAAgD8AAAAAAACAPwAAAAAAAAAAAAAAAAAAAAAAAAAAAAAAAAAAAAAAAAAAAAAAAAAAAAAAAAAAAAAAAAAAAAAAAAAAAABAQAAAAAAAAIA/AACAPwAAAEAAAAAAAACAPwAAgD8AAAAAAACAPwAAgD8AAABAAACAPwAAQEAAAABAAABAQAAAgEAAAEBAAAAAAAAAAAAAAABAAAAAAAAAQEAAAIA/AAAAAAAAgD8AAEBAAAAAAAAAAEAAAIA/AACAPwAAAAAAAAAAAAAAQAAAgD8AAAAAAAAAAAAAQEAAAABAAAAAQAAAAEAAAAAAAAAAAAAAgD8AAIA/AAAAAAAAAAAAAIA/AABAQAAAAAAAAAAAAAAAAAAAAAAAAAAAAAAAAAAAAAAAAABAAAAAQAAAQEAAAAAAAACgQAAAAAAAAIA/AAAAAAAAgD8AAEBAAAAAQAAAgEAAAIA/AACAPwAAAAAAAIA/AAAAAAAAgD8AAAAAAAAAAAAAAAAAAAAAAAAAQAAAAAAAAAAAAAAAAAAAAAAAAIA/AAAAAAAAAAAAAAAAAACAPwAAAAAAAAAAAAAAAAAAAAAAAAAAAAAAAAAAAAAAAAAAAAAAAAAAAAAAAAAAAABAQAAAAEAAAEBAAACAPwAAAEAAAIA/AABAQAAAAEAAAABAAABAQAAAgD8AAABAAABAQAAAQEAAAIA/AACgQAAAQEAAAIA/AACAQAAAgEAAAEBAAABAQAAAAEAAAABAAABAQAAAQEAAAEBAAAAAAAAAgEAAAAAAAAAAAAAAAEAAAIA/AABAQAAAAEAAAIA/AACAPwAAAAAAAABAAAAAAAAAAAAAAABAAACAPwAAQEAAAAAAAACAPwAAAEAAAIA/AACAPwAAAAAAAIA/AAAAAAAAAAAAAIA/AAAAQAAAAAAAAAAAAAAAAAAAAAAAAAAAAAAAQAAAgD8AAAAAAABAQAAAAAAAAIA/AAAAQAAAgD8AAIA/AAAAAAAAAAAAAAAAAAAAAAAAgD8AAAAAAACAPwAAgD8AAIA/AAAAAAAAAAAAAAAAAAAAAAAAAAAAAIA/AAAAAAAAAAAAAAAAAACAPwAAAAAAAAAAAAAAAAAAAAAAAAAAAAAAAAAAAAAAAAAAAAAAAAAAAAAAAAAAAACAPwAAAAAAAABAAACAPwAAgD8AAAAAAABAQAAAAAAAAAAAAACAQAAAgEAAAIA/AAAAQAAAAEAAAIBAAACAPwAAgD8AAABAAAAAQAAAAEAAAEBAAAAAAAAAgD8AAIA/AAAAAAAAAAAAAEBAAAAAAAAAAEAAAIA/AACAPwAAgD8AAIA/AACgQAAAgD8AAIA/AACAPwAAAAAAAAAAAACAPwAAAEAAAIA/AAAAAAAAgD8AAABAAAAAAAAAAAAAAAAAAABAQAAAAAAAAIA/AACAPwAAgD8AAABAAACAPwAAAAAAAEBAAACAPwAAAEAAAIA/AAAAAAAAAAAAAABAAAAAAAAAgD8AAAAAAACAPwAAAAAAAAAAAACAPwAAAAAAAABAAACAPwAAgD8AAEBAAAAAAAAAAAAAAAAAAAAAAAAAAAAAAAAAAACAPwAAgD8AAABAAAAAAAAAAAAAAAAAAACAPwAAAAAAAAAAAAAAAAAAAAAAAAAAAAAAAAAAAAAAAAAAAAAAAAAAAAAAAAAAAAAAAAAAgD8AAAAAAAAAAAAAAAAAAAAAAACAPwAAgD8AAEBAAABAQAAAgD8AAIA/AACAQAAAgD8AAEBAAAAAQAAAgEAAAEBAAACAPwAAoEAAAABAAABAQAAAQEAAAAAAAAAAAAAAgEAAAAAAAAAAQAAAAAAAAAAAAAAAAAAAAAAAAABAAABAQAAAAEAAAIBAAAAAAAAAQEAAAAAAAAAAQAAAgD8AAAAAAACAPwAAAAAAAAAAAAAAAAAAgD8AAAAAAACAPwAAgD8AAIA/AAAAAAAAAAAAAABAAAAAAAAAAEAAAIA/AAAAAAAAQEAAAAAAAACAPwAAgD8AAIA/AAAAAAAAAAAAAAAAAACAPwAAgD8AAAAAAAAAQAAAgD8AAAAAAAAAQAAAgD8AAAAAAAAAAAAAAAAAAAAAAAAAAAAAgD8AAAAAAAAAAAAAAAAAAAAAAAAAAAAAAAAAAAAAAAAAQAAAAAAAAAAAAAAAAAAAAAAAAAAAAAAAAAAAAAAAAAAAAAAAAAAAAAAAAAAAAAAAAAAAgD8AAIA/AACAPwAAgD8AAIBAAAAAQAAAgEAAAAAAAACAPwAAAEAAAIBAAACAPwAAAEAAAABAAACgQAAAQEAAAABAAACAPwAAAEAAAIBAAAAAQAAAgD8AAABAAAAAQAAAgD8AAAAAAAAAAAAAAAAAAABAAAAAQAAAgD8AAIA/AAAAQAAAAEAAAABAAAAAAAAAgD8AAEBAAACAPwAAQEAAAAAAAACAPwAAgD8AAAAAAACAPwAAAAAAAIA/AAAAAAAAgD8AAAAAAAAAAAAAAAAAAAAAAAAAQAAAgD8AAAAAAAAAAAAAgD8AAAAAAACAPwAAAAAAAIA/AAAAQAAAgD8AAAAAAACAPwAAgD8AAAAAAAAAAAAAgD8AAAAAAACAPwAAAAAAAAAAAAAAAAAAAAAAAIA/AACAPwAAAAAAAAAAAAAAAAAAAAAAAAAAAAAAAAAAAAAAAAAAAAAAAAAAAAAAAAAAAAAAAAAAAAAAAAAAAAAAAAAAAAAAAAAAAAAAAAAAAAAAAAAAAAAAAAAAgD8AAAAAAAAAAAAAAEAAAABAAABAQAAAAEAAAABAAABAQAAAgD8AAKBAAAAAQAAAQEAAAKBAAAAAQAAAAAAAAABAAAAAQAAAgD8AAIBAAAAAAAAAAAAAAIBAAAAAQAAAAEAAAABAAAAAAAAAAEAAAIA/AAAAAAAAAAAAAIA/AACAPwAAgD8AAAAAAACAPwAAgD8AAIA/AAAAAAAAAAAAAABAAACAPwAAAEAAAIA/AABAQAAAAAAAAAAAAAAAAAAAAEAAAIA/AAAAAAAAgD8AAABAAABAQAAAAAAAAAAAAAAAAAAAgD8AAAAAAAAAAAAAAAAAAAAAAACAPwAAAAAAAAAAAAAAAAAAAAAAAAAAAAAAAAAAgD8AAAAAAAAAAAAAgD8AAAAAAAAAAAAAAAAAAAAAAAAAAAAAAAAAAAAAAAAAAAAAAAAAAAAAAAAAAAAAAAAAAAAAAAAAAAAAAAAAAAAAAAAAAAAAAAAAAAAAAAAAAAAAAAAAAAAAAAAAAAAAAAAAAAAAAABAQAAAAEAAAIA/AAAAAAAAAAAAAABAAACgQAAAwEAAAABAAACAQAAAQEAAAEBAAABAQAAAQEAAAIA/AAAAQAAAQEAAAIA/AAAAQAAAQEAAAAAAAAAAAAAAwEAAAABAAAAAQAAAgD8AAEBAAACAPwAAQEAAAAAAAAAAAAAAAAAAAIA/AACAPwAAQEAAAABAAAAAAAAAAEAAAIA/AAAAAAAAQEAAAAAAAACAPwAAgD8AAIA/AACAPwAAgD8AAAAAAAAAAAAAgD8AAIA/AAAAQAAAAAAAAABAAACAPwAAAAAAAAAAAACAPwAAgEAAAIA/AAAAAAAAgD8AAAAAAAAAAAAAgD8AAABAAAAAAAAAgD8AAIA/AAAAAAAAAAAAAAAAAAAAAAAAAAAAAAAAAAAAAAAAAAAAAAAAAAAAAAAAAAAAAAAAAAAAAAAAAAAAAAAAAAAAAAAAAAAAAAAAAAAAAAAAAAAAAAAAAAAAAAAAAAAAAAAAAAAAAAAAAAAAAAAAAAAAAAAAAAAAAAAAAAAAAAAAgD8AAAAAAAAAAAAAQEAAAABAAAAAQAAAAEAAAEBAAACgQAAAAEAAAEBAAACAQAAAgD8AAABAAAAAQAAAAAAAAEBAAACAPwAAgD8AAAAAAAAAAAAAAEAAAAAAAACAPwAAAEAAAAAAAACAPwAAgD8AAAAAAAAAAAAAAEAAAAAAAAAAAAAAAAAAAIA/AAAAAAAAgD8AAAAAAAAAQAAAAEAAAIA/AAAAAAAAAAAAAAAAAAAAAAAAgD8AAAAAAAAAAAAAAAAAAIA/AACAPwAAAAAAAAAAAACAPwAAAAAAAAAAAAAAQAAAAAAAAIA/AACAPwAAgD8AAAAAAAAAAAAAAAAAAAAAAAAAAAAAgD8AAAAAAACAPwAAgD8AAAAAAAAAAAAAgD8AAAAAAACAPwAAAAAAAIA/AAAAAAAAAAAAAAAAAAAAAAAAAAAAAAAAAAAAAAAAAAAAAAAAAAAAAAAAAAAAAAAAAAAAAAAAAAAAAAAAAAAAAAAAAAAAAAAAAAAAAAAAAAAAAAAAAAAAQAAAgD8AAIBAAABAQAAAQEAAAIBAAAAAQAAAgD8AAEBAAACAQAAAgEAAAIBAAAAAQAAAQEAAAIA/AACAPwAAgD8AAABAAAAAQAAAAEAAAAAAAACAPwAAAAAAAAAAAAAAAAAAgD8AAAAAAAAAAAAAAAAAAABAAAAAAAAAgD8AAIA/AAAAAAAAgD8AAABAAACAPwAAAAAAAAAAAAAAAAAAQEAAAIA/AACAPwAAAAAAAAAAAAAAAAAAAAAAAIA/AAAAAAAAAAAAAAAAAAAAAAAAAAAAAAAAAAAAAAAAAAAAAAAAAAAAAAAAgD8AAIA/AACAPwAAgD8AAAAAAAAAAAAAgD8AAAAAAAAAAAAAAAAAAAAAAACAPwAAAAAAAAAAAAAAAAAAAAAAAAAAAAAAAAAAAAAAAAAAAAAAAAAAAAAAAAAAAAAAAAAAAAAAAAAAAAAAAAAAAAAAAAAAAAAAAAAAAAAAAAAAAAAAAAAAAAAAAAAAAAAAAAAAAAAAAAAAAAAAAAAAAAAAAAAAAAAwQQAAEEEAAIBAAAAAQAAAwEAAAKBAAACgQAAAAEAAAIBAAABAQAAAgD8AAIA/AACAPwAAgD8AAAAAAAAAAAAAAEAAAABAAAAAAAAAgD8AAABAAACAPwAAAAAAAIA/AAAAAAAAAAAAAAAAAAAAAAAAAAAAAAAAAAAAQAAAAAAAAAAAAAAAAAAAAAAAAAAAAAAAAAAAAAAAAABAAAAAAAAAAAAAAIA/AAAAAAAAgD8AAAAAAAAAAAAAAAAAAAAAAAAAAAAAAAAAAIA/AAAAAAAAgD8AAABAAAAAAAAAgD8AAAAAAAAAAAAAAAAAAAAAAAAAAAAAAAAAAAAAAAAAAAAAAAAAAAAAAACAPwAAAAAAAAAAAAAAAAAAgD8AAAAAAAAAAAAAAAAAAAAAAAAAAAAAgD8AAAAAAAAAAAAAAAAAAAAAAAAAAAAAAAAAAAAAAAAAAAAAAAAAAAAAAAAAAAAAAAAAAAAAAAAAAAAAAAAAAAAAAAAAAAAAAAAAAAAAAAAAAAAAAAAAAAAAAABQQQAAgEEAAIBAAACgQAAAgEAAAABAAACAPwAAQEAAAEBAAACAPwAAAEAAAIA/AACAPwAAgD8AAABAAACAPwAAgD8AAAAAAAAAAAAAAAAAAIA/AAAAAAAAAEAAAAAAAAAAAAAAAAAAAAAAAAAAAAAAAAAAAIA/AAAAAAAAAAAAAAAAAACAPwAAAAAAAAAAAACAPwAAAAAAAAAAAAAAAAAAgD8AAAAAAAAAAAAAAAAAAABAAAAAAAAAAAAAAIA/AAAAAAAAgD8AAIA/AACAPwAAAAAAAAAAAAAAAAAAAAAAAAAAAAAAAAAAAAAAAAAAAAAAAAAAAAAAAAAAAAAAAAAAAAAAAAAAAAAAAAAAAAAAAAAAAAAAAAAAAAAAAIA/AAAAAAAAAAAAAAAAAAAAAAAAAAAAAAAAAAAAAAAAAAAAAAAAAAAAAAAAAAAAAAAAAAAAAAAAAAAAAIA/AAAAAAAAAAAAAAAAAAAAAAAAAAAAAAAAAAAAAAAAAAAAAAAAAAAAAAAAAAAAAAAAAADAQAAAAEEAAEBBAABAQAAA4EAAAIBAAAAAQAAAAEAAAIBAAACAQAAAgEAAAIA/AACAQAAAgD8AAAAAAAAAQAAAgD8AAAAAAACAPwAAgD8AAAAAAAAAAAAAgD8AAAAAAAAAAAAAgD8AAIA/AAAAAAAAgD8AAAAAAAAAAAAAAAAAAAAAAAAAAAAAAAAAAAAAAAAAQAAAAAAAAIA/AAAAAAAAAAAAAIA/AAAAAAAAAAAAAIA/AAAAAAAAAAAAAAAAAAAAAAAAAAAAAAAAAACAPwAAAAAAAIA/AAAAAAAAAAAAAAAAAAAAAAAAAAAAAAAAAAAAAAAAAAAAAIA/AAAAAAAAAAAAAAAAAAAAAAAAAAAAAAAAAAAAAAAAAAAAAAAAAAAAAAAAAAAAAAAAAACAPwAAAAAAAAAAAAAAAAAAAAAAAIA/AAAAAAAAAAAAAAAAAAAAAAAAAAAAAAAAAAAAAAAAAAAAAAAAAAAAAAAAAAAAAAAAAAAAAAAAAAAAAAAAAAAAAAAAAAAAAAAAAACgQAAAQEAAAOBAAACgQAAAwEAAAIBAAACgQAAAQEAAAEBAAAAAQAAAgD8AAABAAAAAAAAAgD8AAAAAAACAQAAAgD8AAEBAAACAPwAAAAAAAABAAAAAAAAAAEAAAAAAAACAPwAAAAAAAAAAAACAPwAAAAAAAAAAAAAAAAAAAAAAAAAAAAAAAAAAAAAAAAAAAAAAAAAAgD8AAAAAAAAAAAAAAAAAAIA/AAAAAAAAgD8AAAAAAAAAAAAAAAAAAAAAAACAPwAAAAAAAAAAAAAAAAAAgD8AAAAAAAAAAAAAAAAAAAAAAACAPwAAAAAAAIA/AAAAAAAAAAAAAAAAAAAAAAAAAAAAAAAAAAAAAAAAAAAAAAAAAAAAAAAAAAAAAAAAAAAAAAAAAAAAAAAAAAAAAAAAAAAAAAAAAAAAAAAAAAAAAAAAAAAAAAAAAAAAAAAAAAAAAAAAAAAAAAAAAAAAAAAAAAAAAAAAAAAAAAAAAAAAAAAAAAAAAAAAAAAAAAAAAAAAAAAAAAAAAAAAAACAQAAAgD8AAIBAAADAQAAAoEAAAKBAAABAQAAAgEAAAABAAABAQAAAAAAAAIA/AAAAAAAAAAAAAAAAAAAAQAAAAAAAAABAAACAPwAAAAAAAIA/AAAAAAAAAAAAAAAAAACAPwAAAAAAAIA/AAAAAAAAAAAAAAAAAAAAAAAAAAAAAAAAAAAAAAAAAAAAAAAAAAAAAAAAgD8AAAAAAAAAAAAAgD8AAAAAAAAAAAAAAAAAAAAAAAAAAAAAAAAAAAAAAACAPwAAAAAAAAAAAAAAAAAAgD8AAAAAAACAPwAAgD8AAAAAAAAAAAAAAAAAAAAAAACAPwAAAAAAAAAAAAAAAAAAAAAAAAAAAAAAAAAAAAAAAAAAAAAAAAAAgD8AAAAAAAAAAAAAAAAAAAAAAAAAAAAAgD8AAAAAAAAAAAAAAAAAAAAAAAAAAAAAAAAAAAAAAAAAAAAAAAAAAAAAAAAAAAAAAAAAAAAAAAAAAAAAAAAAAAAAAAAAAAAAAAAAAAAAAAAAAAAAAAAAAAAAAABAQAAAAEAAAEBAAABAQAAAwEAAAMBAAAAAQAAAAAAAAEBAAAAAAAAAQEAAAEBAAACAPwAAQEAAAIA/AACAPwAAgD8AAIA/AAAAAAAAAAAAAIA/AABAQAAAgD8AAAAAAAAAQAAAAAAAAAAAAAAAAAAAgD8AAAAAAAAAAAAAAAAAAAAAAAAAAAAAAAAAAAAAAAAAAAAAgD8AAAAAAACAPwAAAAAAAIA/AAAAAAAAAAAAAAAAAAAAAAAAAAAAAIA/AACAPwAAAAAAAAAAAAAAAAAAAAAAAAAAAAAAAAAAAAAAAAAAAAAAAAAAAAAAAAAAAAAAAAAAAAAAAAAAAAAAAAAAAAAAAAAAAAAAAAAAAAAAAAAAAAAAAAAAAAAAAAAAAAAAAAAAAAAAAAAAAACAPwAAAAAAAAAAAAAAAAAAAAAAAAAAAAAAAAAAAAAAAAAAAAAAAAAAAAAAAAAAAAAAAAAAAAAAAAAAAAAAAAAAAAAAAAAAAAAAAAAAAAAAAAAAAAAAAAAAAAAAAAAAAADAQAAAAEAAAIA/AACgQAAAAEAAAKBAAACAQAAAAAAAAIA/AAAAQAAAAAAAAAAAAACAPwAAAAAAAAAAAACAPwAAgD8AAABAAAAAAAAAAAAAAAAAAACAPwAAAAAAAAAAAAAAAAAAAAAAAAAAAAAAAAAAgD8AAAAAAACAPwAAAAAAAAAAAAAAAAAAAAAAAAAAAAAAAAAAAAAAAAAAAAAAAAAAAAAAAAAAAAAAAAAAAAAAAAAAAAAAAAAAAAAAAAAAAAAAAAAAAAAAAAAAAAAAAAAAAAAAAAAAAAAAAAAAgD8AAAAAAAAAQAAAAAAAAAAAAAAAAAAAAAAAAAAAAAAAAAAAAAAAAAAAAAAAAAAAAAAAAAAAAAAAAAAAAAAAAAAAAAAAAAAAAAAAAAAAAAAAAAAAAAAAAAAAAAAAAAAAAAAAAAAAAAAAAAAAAAAAAAAAAAAAAAAAAAAAAAAAAAAAAAAAAAAAAAAAAAAAAAAAAAAAAAAAAAAAAAAAAAAAAAAAAAAAAAAAAAAAAAAAAACAQAAAgEAAAABAAABAQAAAgD8AAABAAAAAQAAAQEAAAAAAAAAAAAAAAAAAAAAAAAAAAAAAAAAAAIA/AACAPwAAAAAAAAAAAAAAAAAAAAAAAAAAAAAAAAAAAAAAAAAAAAAAAAAAAAAAAAAAAAAAAAAAAAAAAAAAAAAAAAAAAAAAAAAAAAAAAAAAAAAAAAAAAAAAAAAAAAAAAAAAAAAAAAAAgD8AAAAAAAAAAAAAAAAAAAAAAAAAAAAAAAAAAAAAAAAAAAAAAAAAAAAAAAAAAAAAAAAAAAAAAAAAAAAAAAAAAAAAAAAAAAAAAAAAAAAAAAAAAAAAAAAAAAAAAAAAAAAAAAAAAAAAAAAAAAAAAAAAAAAAAAAAAAAAAAAAAAAAAAAAAAAAAAAAAAAAAAAAAAAAAAAAAAAAAAAAAAAAAAAAAAAAAAAAAAAAAAAAAAAAAAAAAAAAAAAAAAAAAAAAAAAAAAAAAAAAAAAAAAAAAAAAAAAAAAAAAAAAAAAAAAAAAAAAAAAAAAAAAAAAAACgQAAAAEAAAIA/AAAAQAAAAEAAAAAAAACAPwAAAAAAAIA/AAAAAAAAAAAAAAAAAAAAAAAAAAAAAIA/AAAAAAAAAAAAAAAAAAAAAAAAAAAAAAAAAACAPwAAAAAAAAAAAAAAAAAAAAAAAAAAAAAAAAAAAAAAAAAAAAAAAAAAAAAAAAAAAAAAAAAAAAAAAIA/AAAAAAAAAAAAAAAAAAAAAAAAAAAAAAAAAAAAAAAAAAAAAAAAAAAAAAAAAAAAAAAAAAAAAAAAAAAAAAAAAAAAAAAAAAAAAAAAAAAAAAAAAAAAAAAAAAAAAAAAAAAAAAAAAAAAAAAAAAAAAAAAAAAAAAAAAAAAAAAAAAAAAAAAAAAAAAAAAAAAAAAAAAAAAAAAAAAAAAAAAAAAAAAAAAAAAAAAAAAAAAAAAAAAAAAAAAAAAAAAAAAAAAAAAAAAAAAAAAAAAAAAAAAAAAAAAAAAAAAAAAAAAAAAAAAAAAAAAAAAAAAAAAAAAAAAAAAAAAAAAAAAAAAAAAAAAAAAAAAAQAAAAAAAAABAAAAAAAAAgEAAAAAAAACAPwAAAAAAAAAAAACAPwAAAAAAAIA/AAAAAAAAAAAAAAAAAAAAAAAAAAAAAAAAAAAAAAAAAAAAAAAAAAAAAAAAAAAAAAAAAAAAAAAAAAAAAAAAAAAAAAAAAAAAAAAAAAAAAAAAAAAAAAAAAAAAAAAAAAAAAAAAAAAAAAAAAAAAAAAAAAAAAAAAAAAAAAAAAAAAAAAAAAAAAAAAAAAAAAAAAAAAAAAAAAAAAAAAAAAAAAAAAAAAAAAAAAAAAAAAAAAAAAAAAAAAAAAAAAAAAAAAAAAAAAAAAAAAAAAAAAAAAAAAAAAAAAAAAAAAAAAAAAAAAAAAAAAAAAAAAAAAAAAAAAAAAAAAAAAAAAAAAAAAAAAAAAAAAAAAAAAAAAAAAAAAAAAAAAAAAAAAAAAAAAAAAAAAAAAAAAAAAAAAAAAAAAAAAAAAAAAAAAAAAAAAAAAAAAAAAAAAAAAAAAAAAAAAAAAAAAAAAAAAAAAAAAAAAAAAAACAQAAAQEAAAEBAAACAPwAAgD8AAAAAAAAAAAAAAAAAAAAAAACAPwAAAAAAAAAAAAAAAAAAAAAAAAAAAAAAAAAAAAAAAAAAAAAAAAAAAAAAAAAAAAAAAAAAAAAAAAAAAAAAAAAAAAAAAAAAAAAAAAAAAAAAAAAAAAAAAAAAAAAAAAAAAAAAAAAAAAAAAAAAAAAAAAAAAAAAAAAAAAAAAAAAAAAAAAAAAAAAAAAAAAAAAAAAAAAAAAAAAAAAAAAAAAAAAAAAAAAAAAAAAAAAAAAAAAAAAAAAAAAAAAAAAAAAAAAAAAAAAAAAAAAAAAAAAAAAAAAAAAAAAAAAAAAAAAAAAAAAAAAAAAAAAAAAAAAAAAAAAAAAAAAAAAAAAAAAAAAAAAAAAAAAAAAAAAAAAAAAAAAAAAAAAAAAAAAAAAAAAAAAAAAAAAAAAAAAAAAAAAAAAAAAAAAAAAAAAAAAAAAAAAAAAAAAAAAAAAAAAAAAAAAAAAAAAAAAAAAAAAAAAAAAAAAAAAAAAAAAAAAAQAAAAEAAAAAAAAAAAAAAAAAAAAAAAAAAAAAAAAAAAAAAAAAAAAAAAAAAAAAAAAAAAAAAAAAAAAAAAAAAAAAAAAAAAAAAAAAAAAAAAAAAAAAAAAAAAAAAAAAAAAAAAAAAAAAAAAAAAAAAAAAAAAAAAAAAAAAAAAAAAAAAAAAAAAAAAAAAAAAAAAAAAAAAAAAAAAAAAAAAAAAAAAAAAAAAAAAAAAAAAAAAAAAAAAAAAAAAAAAAAAAAAAAAAAAAAAAAAAAAAAAAAAAAAAAAAAAAAAAAAAAAAAAAAAAAAAAAAAAAAAAAAAAAAAAAAAAAAAAAAAAAAAAAAAAAAAAAAAAAAAAAAAAAAAAAAAAAAAAAAAAAAAAAAAAAAAAAAAAAAAAAAAAAAAAAAAAAAAAAAAAAAAAAAAAAAAAAAAAAAAAAAAAAAAAAAAAAAAAAAAAAAAAAAAAAAAAAAAAAAAAAAAAAAAAAAAAAAAAAAAAAAAAAAAAAAAAAAAAAAAAAAAAAAAAAAAAAAAAAAAAA",
          "dtype": "f4",
          "shape": "73, 99"
         }
        }
       ],
       "layout": {
        "annotations": [
         {
          "font": {
           "size": 16
          },
          "showarrow": false,
          "text": "Radial Distance vs Azimuthal Angle",
          "x": 0.2125,
          "xanchor": "center",
          "xref": "paper",
          "y": 1,
          "yanchor": "bottom",
          "yref": "paper"
         },
         {
          "font": {
           "size": 16
          },
          "showarrow": false,
          "text": "Axial Position vs Polar Angle",
          "x": 0.7875,
          "xanchor": "center",
          "xref": "paper",
          "y": 1,
          "yanchor": "bottom",
          "yref": "paper"
         }
        ],
        "font": {
         "size": 12
        },
        "height": 500,
        "template": {
         "data": {
          "bar": [
           {
            "error_x": {
             "color": "#2a3f5f"
            },
            "error_y": {
             "color": "#2a3f5f"
            },
            "marker": {
             "line": {
              "color": "#E5ECF6",
              "width": 0.5
             },
             "pattern": {
              "fillmode": "overlay",
              "size": 10,
              "solidity": 0.2
             }
            },
            "type": "bar"
           }
          ],
          "barpolar": [
           {
            "marker": {
             "line": {
              "color": "#E5ECF6",
              "width": 0.5
             },
             "pattern": {
              "fillmode": "overlay",
              "size": 10,
              "solidity": 0.2
             }
            },
            "type": "barpolar"
           }
          ],
          "carpet": [
           {
            "aaxis": {
             "endlinecolor": "#2a3f5f",
             "gridcolor": "white",
             "linecolor": "white",
             "minorgridcolor": "white",
             "startlinecolor": "#2a3f5f"
            },
            "baxis": {
             "endlinecolor": "#2a3f5f",
             "gridcolor": "white",
             "linecolor": "white",
             "minorgridcolor": "white",
             "startlinecolor": "#2a3f5f"
            },
            "type": "carpet"
           }
          ],
          "choropleth": [
           {
            "colorbar": {
             "outlinewidth": 0,
             "ticks": ""
            },
            "type": "choropleth"
           }
          ],
          "contour": [
           {
            "colorbar": {
             "outlinewidth": 0,
             "ticks": ""
            },
            "colorscale": [
             [
              0,
              "#0d0887"
             ],
             [
              0.1111111111111111,
              "#46039f"
             ],
             [
              0.2222222222222222,
              "#7201a8"
             ],
             [
              0.3333333333333333,
              "#9c179e"
             ],
             [
              0.4444444444444444,
              "#bd3786"
             ],
             [
              0.5555555555555556,
              "#d8576b"
             ],
             [
              0.6666666666666666,
              "#ed7953"
             ],
             [
              0.7777777777777778,
              "#fb9f3a"
             ],
             [
              0.8888888888888888,
              "#fdca26"
             ],
             [
              1,
              "#f0f921"
             ]
            ],
            "type": "contour"
           }
          ],
          "contourcarpet": [
           {
            "colorbar": {
             "outlinewidth": 0,
             "ticks": ""
            },
            "type": "contourcarpet"
           }
          ],
          "heatmap": [
           {
            "colorbar": {
             "outlinewidth": 0,
             "ticks": ""
            },
            "colorscale": [
             [
              0,
              "#0d0887"
             ],
             [
              0.1111111111111111,
              "#46039f"
             ],
             [
              0.2222222222222222,
              "#7201a8"
             ],
             [
              0.3333333333333333,
              "#9c179e"
             ],
             [
              0.4444444444444444,
              "#bd3786"
             ],
             [
              0.5555555555555556,
              "#d8576b"
             ],
             [
              0.6666666666666666,
              "#ed7953"
             ],
             [
              0.7777777777777778,
              "#fb9f3a"
             ],
             [
              0.8888888888888888,
              "#fdca26"
             ],
             [
              1,
              "#f0f921"
             ]
            ],
            "type": "heatmap"
           }
          ],
          "histogram": [
           {
            "marker": {
             "pattern": {
              "fillmode": "overlay",
              "size": 10,
              "solidity": 0.2
             }
            },
            "type": "histogram"
           }
          ],
          "histogram2d": [
           {
            "colorbar": {
             "outlinewidth": 0,
             "ticks": ""
            },
            "colorscale": [
             [
              0,
              "#0d0887"
             ],
             [
              0.1111111111111111,
              "#46039f"
             ],
             [
              0.2222222222222222,
              "#7201a8"
             ],
             [
              0.3333333333333333,
              "#9c179e"
             ],
             [
              0.4444444444444444,
              "#bd3786"
             ],
             [
              0.5555555555555556,
              "#d8576b"
             ],
             [
              0.6666666666666666,
              "#ed7953"
             ],
             [
              0.7777777777777778,
              "#fb9f3a"
             ],
             [
              0.8888888888888888,
              "#fdca26"
             ],
             [
              1,
              "#f0f921"
             ]
            ],
            "type": "histogram2d"
           }
          ],
          "histogram2dcontour": [
           {
            "colorbar": {
             "outlinewidth": 0,
             "ticks": ""
            },
            "colorscale": [
             [
              0,
              "#0d0887"
             ],
             [
              0.1111111111111111,
              "#46039f"
             ],
             [
              0.2222222222222222,
              "#7201a8"
             ],
             [
              0.3333333333333333,
              "#9c179e"
             ],
             [
              0.4444444444444444,
              "#bd3786"
             ],
             [
              0.5555555555555556,
              "#d8576b"
             ],
             [
              0.6666666666666666,
              "#ed7953"
             ],
             [
              0.7777777777777778,
              "#fb9f3a"
             ],
             [
              0.8888888888888888,
              "#fdca26"
             ],
             [
              1,
              "#f0f921"
             ]
            ],
            "type": "histogram2dcontour"
           }
          ],
          "mesh3d": [
           {
            "colorbar": {
             "outlinewidth": 0,
             "ticks": ""
            },
            "type": "mesh3d"
           }
          ],
          "parcoords": [
           {
            "line": {
             "colorbar": {
              "outlinewidth": 0,
              "ticks": ""
             }
            },
            "type": "parcoords"
           }
          ],
          "pie": [
           {
            "automargin": true,
            "type": "pie"
           }
          ],
          "scatter": [
           {
            "fillpattern": {
             "fillmode": "overlay",
             "size": 10,
             "solidity": 0.2
            },
            "type": "scatter"
           }
          ],
          "scatter3d": [
           {
            "line": {
             "colorbar": {
              "outlinewidth": 0,
              "ticks": ""
             }
            },
            "marker": {
             "colorbar": {
              "outlinewidth": 0,
              "ticks": ""
             }
            },
            "type": "scatter3d"
           }
          ],
          "scattercarpet": [
           {
            "marker": {
             "colorbar": {
              "outlinewidth": 0,
              "ticks": ""
             }
            },
            "type": "scattercarpet"
           }
          ],
          "scattergeo": [
           {
            "marker": {
             "colorbar": {
              "outlinewidth": 0,
              "ticks": ""
             }
            },
            "type": "scattergeo"
           }
          ],
          "scattergl": [
           {
            "marker": {
             "colorbar": {
              "outlinewidth": 0,
              "ticks": ""
             }
            },
            "type": "scattergl"
           }
          ],
          "scattermap": [
           {
            "marker": {
             "colorbar": {
              "outlinewidth": 0,
              "ticks": ""
             }
            },
            "type": "scattermap"
           }
          ],
          "scattermapbox": [
           {
            "marker": {
             "colorbar": {
              "outlinewidth": 0,
              "ticks": ""
             }
            },
            "type": "scattermapbox"
           }
          ],
          "scatterpolar": [
           {
            "marker": {
             "colorbar": {
              "outlinewidth": 0,
              "ticks": ""
             }
            },
            "type": "scatterpolar"
           }
          ],
          "scatterpolargl": [
           {
            "marker": {
             "colorbar": {
              "outlinewidth": 0,
              "ticks": ""
             }
            },
            "type": "scatterpolargl"
           }
          ],
          "scatterternary": [
           {
            "marker": {
             "colorbar": {
              "outlinewidth": 0,
              "ticks": ""
             }
            },
            "type": "scatterternary"
           }
          ],
          "surface": [
           {
            "colorbar": {
             "outlinewidth": 0,
             "ticks": ""
            },
            "colorscale": [
             [
              0,
              "#0d0887"
             ],
             [
              0.1111111111111111,
              "#46039f"
             ],
             [
              0.2222222222222222,
              "#7201a8"
             ],
             [
              0.3333333333333333,
              "#9c179e"
             ],
             [
              0.4444444444444444,
              "#bd3786"
             ],
             [
              0.5555555555555556,
              "#d8576b"
             ],
             [
              0.6666666666666666,
              "#ed7953"
             ],
             [
              0.7777777777777778,
              "#fb9f3a"
             ],
             [
              0.8888888888888888,
              "#fdca26"
             ],
             [
              1,
              "#f0f921"
             ]
            ],
            "type": "surface"
           }
          ],
          "table": [
           {
            "cells": {
             "fill": {
              "color": "#EBF0F8"
             },
             "line": {
              "color": "white"
             }
            },
            "header": {
             "fill": {
              "color": "#C8D4E3"
             },
             "line": {
              "color": "white"
             }
            },
            "type": "table"
           }
          ]
         },
         "layout": {
          "annotationdefaults": {
           "arrowcolor": "#2a3f5f",
           "arrowhead": 0,
           "arrowwidth": 1
          },
          "autotypenumbers": "strict",
          "coloraxis": {
           "colorbar": {
            "outlinewidth": 0,
            "ticks": ""
           }
          },
          "colorscale": {
           "diverging": [
            [
             0,
             "#8e0152"
            ],
            [
             0.1,
             "#c51b7d"
            ],
            [
             0.2,
             "#de77ae"
            ],
            [
             0.3,
             "#f1b6da"
            ],
            [
             0.4,
             "#fde0ef"
            ],
            [
             0.5,
             "#f7f7f7"
            ],
            [
             0.6,
             "#e6f5d0"
            ],
            [
             0.7,
             "#b8e186"
            ],
            [
             0.8,
             "#7fbc41"
            ],
            [
             0.9,
             "#4d9221"
            ],
            [
             1,
             "#276419"
            ]
           ],
           "sequential": [
            [
             0,
             "#0d0887"
            ],
            [
             0.1111111111111111,
             "#46039f"
            ],
            [
             0.2222222222222222,
             "#7201a8"
            ],
            [
             0.3333333333333333,
             "#9c179e"
            ],
            [
             0.4444444444444444,
             "#bd3786"
            ],
            [
             0.5555555555555556,
             "#d8576b"
            ],
            [
             0.6666666666666666,
             "#ed7953"
            ],
            [
             0.7777777777777778,
             "#fb9f3a"
            ],
            [
             0.8888888888888888,
             "#fdca26"
            ],
            [
             1,
             "#f0f921"
            ]
           ],
           "sequentialminus": [
            [
             0,
             "#0d0887"
            ],
            [
             0.1111111111111111,
             "#46039f"
            ],
            [
             0.2222222222222222,
             "#7201a8"
            ],
            [
             0.3333333333333333,
             "#9c179e"
            ],
            [
             0.4444444444444444,
             "#bd3786"
            ],
            [
             0.5555555555555556,
             "#d8576b"
            ],
            [
             0.6666666666666666,
             "#ed7953"
            ],
            [
             0.7777777777777778,
             "#fb9f3a"
            ],
            [
             0.8888888888888888,
             "#fdca26"
            ],
            [
             1,
             "#f0f921"
            ]
           ]
          },
          "colorway": [
           "#636efa",
           "#EF553B",
           "#00cc96",
           "#ab63fa",
           "#FFA15A",
           "#19d3f3",
           "#FF6692",
           "#B6E880",
           "#FF97FF",
           "#FECB52"
          ],
          "font": {
           "color": "#2a3f5f"
          },
          "geo": {
           "bgcolor": "white",
           "lakecolor": "white",
           "landcolor": "#E5ECF6",
           "showlakes": true,
           "showland": true,
           "subunitcolor": "white"
          },
          "hoverlabel": {
           "align": "left"
          },
          "hovermode": "closest",
          "mapbox": {
           "style": "light"
          },
          "paper_bgcolor": "white",
          "plot_bgcolor": "#E5ECF6",
          "polar": {
           "angularaxis": {
            "gridcolor": "white",
            "linecolor": "white",
            "ticks": ""
           },
           "bgcolor": "#E5ECF6",
           "radialaxis": {
            "gridcolor": "white",
            "linecolor": "white",
            "ticks": ""
           }
          },
          "scene": {
           "xaxis": {
            "backgroundcolor": "#E5ECF6",
            "gridcolor": "white",
            "gridwidth": 2,
            "linecolor": "white",
            "showbackground": true,
            "ticks": "",
            "zerolinecolor": "white"
           },
           "yaxis": {
            "backgroundcolor": "#E5ECF6",
            "gridcolor": "white",
            "gridwidth": 2,
            "linecolor": "white",
            "showbackground": true,
            "ticks": "",
            "zerolinecolor": "white"
           },
           "zaxis": {
            "backgroundcolor": "#E5ECF6",
            "gridcolor": "white",
            "gridwidth": 2,
            "linecolor": "white",
            "showbackground": true,
            "ticks": "",
            "zerolinecolor": "white"
           }
          },
          "shapedefaults": {
           "line": {
            "color": "#2a3f5f"
           }
          },
          "ternary": {
           "aaxis": {
            "gridcolor": "white",
            "linecolor": "white",
            "ticks": ""
           },
           "baxis": {
            "gridcolor": "white",
            "linecolor": "white",
            "ticks": ""
           },
           "bgcolor": "#E5ECF6",
           "caxis": {
            "gridcolor": "white",
            "linecolor": "white",
            "ticks": ""
           }
          },
          "title": {
           "x": 0.05
          },
          "xaxis": {
           "automargin": true,
           "gridcolor": "white",
           "linecolor": "white",
           "ticks": "",
           "title": {
            "standoff": 15
           },
           "zerolinecolor": "white",
           "zerolinewidth": 2
          },
          "yaxis": {
           "automargin": true,
           "gridcolor": "white",
           "linecolor": "white",
           "ticks": "",
           "title": {
            "standoff": 15
           },
           "zerolinecolor": "white",
           "zerolinewidth": 2
          }
         }
        },
        "title": {
         "text": "4D Sinogram Key Projections (Shape: (139, 180, 73, 99))<br>Total Counts: 6591, Non-zero Elements: 6589/180819540"
        },
        "width": 1200,
        "xaxis": {
         "anchor": "y",
         "domain": [
          0,
          0.425
         ],
         "title": {
          "text": "Azimuthal Angle (degrees)"
         }
        },
        "xaxis2": {
         "anchor": "y2",
         "domain": [
          0.575,
          1
         ],
         "title": {
          "text": "Polar Angle (degrees)"
         }
        },
        "yaxis": {
         "anchor": "x",
         "domain": [
          0,
          1
         ],
         "title": {
          "text": "Radial Distance (mm)"
         }
        },
        "yaxis2": {
         "anchor": "x2",
         "domain": [
          0,
          1
         ],
         "title": {
          "text": "Axial Position (mm)"
         }
        }
       }
      }
     },
     "metadata": {},
     "output_type": "display_data"
    },
    {
     "name": "stdout",
     "output_type": "stream",
     "text": [
      "\n",
      "Sinogram Statistics:\n",
      "Shape: (139, 180, 73, 99) (radial, angular, axial, polar)\n",
      "Total counts: 6591\n",
      "Non-zero elements: 6589/180819540 (0.0%)\n",
      "Coordinate ranges:\n",
      "  Radial: -305.5 to 305.5 mm\n",
      "  Angular: 0.0° to 180.0°\n",
      "  Axial: -141.7 to 146.2 mm\n",
      "  Polar: 0.0° to 98.3°\n",
      "Bin sizes: Angular 1.0°, Polar 1.0°\n",
      "\n",
      "Projection Statistics:\n",
      "Radial vs Angular projection:\n",
      "  Max count: 7.0\n",
      "  Non-zero pixels: 4916/25020\n",
      "Axial vs Polar projection:\n",
      "  Max count: 17.0\n",
      "  Non-zero pixels: 3406/7227\n"
     ]
    }
   ],
   "source": []
  },
  {
   "cell_type": "code",
   "execution_count": null,
   "id": "b6739339",
   "metadata": {},
   "outputs": [],
   "source": [
    "# # Compare recon before and after scatter estimation\n",
    "# plot_cross_sections_interactive(recon_without_scatter_estimation.cpu().numpy(), title=\"My 3D Data\")\n",
    "# plot_cross_sections_interactive(recon_with_scatter_estimation.cpu().numpy(), title=\"My 3D Data\")\n",
    "# plot_cross_sections_interactive(recon_without_scatter_estimation.cpu().numpy()-recon_with_scatter_estimation.cpu().numpy(), title=\"My 3D Data\")\n"
   ]
  }
 ],
 "metadata": {
  "kernelspec": {
   "display_name": "pytomography_env",
   "language": "python",
   "name": "python3"
  },
  "language_info": {
   "codemirror_mode": {
    "name": "ipython",
    "version": 3
   },
   "file_extension": ".py",
   "mimetype": "text/x-python",
   "name": "python",
   "nbconvert_exporter": "python",
   "pygments_lexer": "ipython3",
   "version": "3.9.23"
  }
 },
 "nbformat": 4,
 "nbformat_minor": 5
}
