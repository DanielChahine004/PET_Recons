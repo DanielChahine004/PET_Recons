{
 "cells": [
  {
   "cell_type": "code",
   "execution_count": 47,
   "id": "9f5ac6ac",
   "metadata": {},
   "outputs": [],
   "source": [
    "import pytomography\n",
    "from pytomography.algorithms import OSEM, MLEM\n",
    "from pytomography.metadata import ObjectMeta, ProjMeta\n",
    "from pytomography.projectors import SystemMatrix\n",
    "from pytomography.likelihoods import NegativeMSELikelihood\n",
    "import matplotlib.pyplot as plt\n",
    "import torch"
   ]
  },
  {
   "cell_type": "code",
   "execution_count": 48,
   "id": "f7ab7b3b",
   "metadata": {},
   "outputs": [],
   "source": [
    "# pytomography.device = 'cuda'\n",
    "pytomography.device = 'cpu'"
   ]
  },
  {
   "cell_type": "code",
   "execution_count": 49,
   "id": "5ad16507",
   "metadata": {},
   "outputs": [],
   "source": [
    "M = 3\n",
    "object_meta = ObjectMeta(dr=(1.5,1.5,1.5), shape=(M,M,M))"
   ]
  },
  {
   "cell_type": "code",
   "execution_count": 50,
   "id": "b4281a64",
   "metadata": {},
   "outputs": [
    {
     "name": "stdout",
     "output_type": "stream",
     "text": [
      "torch.Size([400])\n"
     ]
    },
    {
     "data": {
      "text/plain": [
       "tensor([ 0,  4, 16,  6,  3, 12, 11, 11,  9,  9, 14,  7,  5, 13, 10, 17,  5, 16,\n",
       "         6, 17, 13, 17,  3,  1,  7, 12,  2, 16, 11, 13, 15, 13,  1,  2, 12,  1,\n",
       "         7, 10,  0, 15,  3,  3,  5,  7,  6,  7, 16,  5,  4,  0, 17,  3,  4,  3,\n",
       "         7,  2, 14,  8, 15, 14, 12,  8, 10, 13,  8,  6, 12,  8,  4, 17, 12,  2,\n",
       "         1,  5,  4,  0,  3,  3, 10,  3, 12,  1,  6, 12,  7,  3, 11,  7,  4,  3,\n",
       "         0,  2, 10,  1, 15, 10,  3,  4, 11, 13,  2,  7, 14, 11, 16,  4, 11, 10,\n",
       "        10,  3,  8,  7, 13, 17, 14,  5, 15, 10,  8,  2,  4,  4,  2, 11,  1, 11,\n",
       "         6,  4, 16, 13, 12, 14,  3,  5,  8,  0,  4,  7, 13, 14, 17,  8,  5,  4,\n",
       "        14,  7,  3,  0,  7,  9,  7, 12,  2,  6, 17,  6, 11, 12, 10, 12, 12,  9,\n",
       "        10,  6,  1, 14, 12, 14, 14,  5,  0,  8, 15,  7,  3,  8,  4, 10,  2, 13,\n",
       "         9, 12, 15, 10, 16,  4,  9, 17,  6, 16,  1, 10,  9,  3, 16, 11,  1, 10,\n",
       "        14,  5, 10,  4,  2, 15,  2, 11,  4, 13,  4,  0,  3,  4, 14, 17,  2, 10,\n",
       "         8,  7, 11, 15,  5, 10, 14,  0, 11,  5,  6, 12, 14,  4,  4,  4,  8,  7,\n",
       "        10, 12, 17, 14,  3,  0,  9,  0, 12,  5, 16,  9,  4, 13, 14,  0, 14, 17,\n",
       "         7, 10, 17, 15,  3,  7,  4,  9, 17, 15, 13,  3, 10,  8, 10,  2, 10,  1,\n",
       "         2,  2,  2,  3, 14,  9, 11,  9, 13,  0,  2, 10, 15,  2,  2, 14,  3, 10,\n",
       "         1, 10, 10,  9, 13,  9,  0, 17,  5,  5, 13,  3,  2,  5,  4, 12, 11,  1,\n",
       "        15, 16,  3, 11,  9, 10,  9, 16, 13,  5, 10,  9, 14, 11, 13, 11, 15,  2,\n",
       "        10,  5,  5, 17, 13, 17, 12, 14, 15,  8,  3,  0,  1, 13,  4,  6,  1,  6,\n",
       "         2,  0,  1, 12,  1,  1,  0, 13, 17,  2,  9,  8, 16, 13, 14,  9, 15, 16,\n",
       "         3,  3,  9,  9, 14,  1,  1,  0,  4,  2,  3,  4, 11,  5,  7,  2, 15,  2,\n",
       "        15,  9,  2,  5, 10, 13, 15, 14,  1,  3,  4,  2, 12, 13, 11,  0,  0,  3,\n",
       "         0, 13, 13, 14])"
      ]
     },
     "execution_count": 50,
     "metadata": {},
     "output_type": "execute_result"
    }
   ],
   "source": [
    "# Simulate random events\n",
    "detector_ids = torch.randint(low=0, high=2*M**2, size=(400,))\n",
    "\n",
    "print(detector_ids.shape)\n",
    "detector_ids"
   ]
  },
  {
   "cell_type": "code",
   "execution_count": 51,
   "id": "147ae817",
   "metadata": {},
   "outputs": [
    {
     "data": {
      "text/plain": [
       "tensor([[0, 0, 0],\n",
       "        [0, 0, 1],\n",
       "        [0, 0, 2],\n",
       "        [0, 1, 0],\n",
       "        [0, 1, 1],\n",
       "        [0, 1, 2],\n",
       "        [0, 2, 0],\n",
       "        [0, 2, 1],\n",
       "        [0, 2, 2],\n",
       "        [1, 0, 0],\n",
       "        [1, 0, 1],\n",
       "        [1, 0, 2],\n",
       "        [1, 1, 0],\n",
       "        [1, 1, 1],\n",
       "        [1, 1, 2],\n",
       "        [1, 2, 0],\n",
       "        [1, 2, 1],\n",
       "        [1, 2, 2]])"
      ]
     },
     "execution_count": 51,
     "metadata": {},
     "output_type": "execute_result"
    }
   ],
   "source": [
    "scanner_LUT = torch.cartesian_prod(\n",
    "    torch.tensor([0,1]), # Angle\n",
    "    torch.arange(M), # row\n",
    "    torch.arange(M), # column\n",
    ")\n",
    "scanner_LUT"
   ]
  },
  {
   "cell_type": "code",
   "execution_count": 52,
   "id": "2aae9fc2",
   "metadata": {},
   "outputs": [],
   "source": [
    "class EXSProjMeta(ProjMeta):\n",
    "    def __init__(self, M, sensitivity_factor):\n",
    "        self.M = M\n",
    "        self.sensitivity_factor = sensitivity_factor\n",
    "        if (sensitivity_factor.shape[0]!=M)*(sensitivity_factor.shape[1]!=M):\n",
    "            raise ValueError(\"sensitivity_factor should have side dimensions M\")"
   ]
  },
  {
   "cell_type": "code",
   "execution_count": 53,
   "id": "094d1f18",
   "metadata": {},
   "outputs": [],
   "source": [
    "M = object_meta.shape[0]\n",
    "# Note: the sensitivty factor is the same for each projection angle, a single detector is \"rotating\" between angle 0 and 90\n",
    "sensitivity_factor = torch.ones((M,M))+0.3*torch.rand((M,M))\n",
    "proj_meta = EXSProjMeta(M, sensitivity_factor)"
   ]
  },
  {
   "cell_type": "code",
   "execution_count": 54,
   "id": "b02b49d3",
   "metadata": {},
   "outputs": [
    {
     "data": {
      "text/plain": [
       "tensor([1.1644, 1.2781, 1.1481, 1.1994, 1.2781, 1.1346, 1.1311, 1.1311, 1.1311,\n",
       "        1.1311, 1.1346, 1.1994, 1.2781, 1.1346, 1.1311, 1.1481, 1.2781, 1.1481,\n",
       "        1.1994, 1.1481, 1.1346, 1.1481, 1.2781, 1.1644, 1.1994, 1.1346, 1.1644,\n",
       "        1.1481, 1.1311, 1.1346, 1.1481, 1.1346, 1.1644, 1.1644, 1.1346, 1.1644,\n",
       "        1.1994, 1.1311, 1.1644, 1.1481, 1.2781, 1.2781, 1.2781, 1.1994, 1.1994,\n",
       "        1.1994, 1.1481, 1.2781, 1.2781, 1.1644, 1.1481, 1.2781, 1.2781, 1.2781,\n",
       "        1.1994, 1.1644, 1.1346, 1.1994, 1.1481, 1.1346, 1.1346, 1.1994, 1.1311,\n",
       "        1.1346, 1.1994, 1.1994, 1.1346, 1.1994, 1.2781, 1.1481, 1.1346, 1.1644,\n",
       "        1.1644, 1.2781, 1.2781, 1.1644, 1.2781, 1.2781, 1.1311, 1.2781, 1.1346,\n",
       "        1.1644, 1.1994, 1.1346, 1.1994, 1.2781, 1.1311, 1.1994, 1.2781, 1.2781,\n",
       "        1.1644, 1.1644, 1.1311, 1.1644, 1.1481, 1.1311, 1.2781, 1.2781, 1.1311,\n",
       "        1.1346, 1.1644, 1.1994, 1.1346, 1.1311, 1.1481, 1.2781, 1.1311, 1.1311,\n",
       "        1.1311, 1.2781, 1.1994, 1.1994, 1.1346, 1.1481, 1.1346, 1.2781, 1.1481,\n",
       "        1.1311, 1.1994, 1.1644, 1.2781, 1.2781, 1.1644, 1.1311, 1.1644, 1.1311,\n",
       "        1.1994, 1.2781, 1.1481, 1.1346, 1.1346, 1.1346, 1.2781, 1.2781, 1.1994,\n",
       "        1.1644, 1.2781, 1.1994, 1.1346, 1.1346, 1.1481, 1.1994, 1.2781, 1.2781,\n",
       "        1.1346, 1.1994, 1.2781, 1.1644, 1.1994, 1.1311, 1.1994, 1.1346, 1.1644,\n",
       "        1.1994, 1.1481, 1.1994, 1.1311, 1.1346, 1.1311, 1.1346, 1.1346, 1.1311,\n",
       "        1.1311, 1.1994, 1.1644, 1.1346, 1.1346, 1.1346, 1.1346, 1.2781, 1.1644,\n",
       "        1.1994, 1.1481, 1.1994, 1.2781, 1.1994, 1.2781, 1.1311, 1.1644, 1.1346,\n",
       "        1.1311, 1.1346, 1.1481, 1.1311, 1.1481, 1.2781, 1.1311, 1.1481, 1.1994,\n",
       "        1.1481, 1.1644, 1.1311, 1.1311, 1.2781, 1.1481, 1.1311, 1.1644, 1.1311,\n",
       "        1.1346, 1.2781, 1.1311, 1.2781, 1.1644, 1.1481, 1.1644, 1.1311, 1.2781,\n",
       "        1.1346, 1.2781, 1.1644, 1.2781, 1.2781, 1.1346, 1.1481, 1.1644, 1.1311,\n",
       "        1.1994, 1.1994, 1.1311, 1.1481, 1.2781, 1.1311, 1.1346, 1.1644, 1.1311,\n",
       "        1.2781, 1.1994, 1.1346, 1.1346, 1.2781, 1.2781, 1.2781, 1.1994, 1.1994,\n",
       "        1.1311, 1.1346, 1.1481, 1.1346, 1.2781, 1.1644, 1.1311, 1.1644, 1.1346,\n",
       "        1.2781, 1.1481, 1.1311, 1.2781, 1.1346, 1.1346, 1.1644, 1.1346, 1.1481,\n",
       "        1.1994, 1.1311, 1.1481, 1.1481, 1.2781, 1.1994, 1.2781, 1.1311, 1.1481,\n",
       "        1.1481, 1.1346, 1.2781, 1.1311, 1.1994, 1.1311, 1.1644, 1.1311, 1.1644,\n",
       "        1.1644, 1.1644, 1.1644, 1.2781, 1.1346, 1.1311, 1.1311, 1.1311, 1.1346,\n",
       "        1.1644, 1.1644, 1.1311, 1.1481, 1.1644, 1.1644, 1.1346, 1.2781, 1.1311,\n",
       "        1.1644, 1.1311, 1.1311, 1.1311, 1.1346, 1.1311, 1.1644, 1.1481, 1.2781,\n",
       "        1.2781, 1.1346, 1.2781, 1.1644, 1.2781, 1.2781, 1.1346, 1.1311, 1.1644,\n",
       "        1.1481, 1.1481, 1.2781, 1.1311, 1.1311, 1.1311, 1.1311, 1.1481, 1.1346,\n",
       "        1.2781, 1.1311, 1.1311, 1.1346, 1.1311, 1.1346, 1.1311, 1.1481, 1.1644,\n",
       "        1.1311, 1.2781, 1.2781, 1.1481, 1.1346, 1.1481, 1.1346, 1.1346, 1.1481,\n",
       "        1.1994, 1.2781, 1.1644, 1.1644, 1.1346, 1.2781, 1.1994, 1.1644, 1.1994,\n",
       "        1.1644, 1.1644, 1.1644, 1.1346, 1.1644, 1.1644, 1.1644, 1.1346, 1.1481,\n",
       "        1.1644, 1.1311, 1.1994, 1.1481, 1.1346, 1.1346, 1.1311, 1.1481, 1.1481,\n",
       "        1.2781, 1.2781, 1.1311, 1.1311, 1.1346, 1.1644, 1.1644, 1.1644, 1.2781,\n",
       "        1.1644, 1.2781, 1.2781, 1.1311, 1.2781, 1.1994, 1.1644, 1.1481, 1.1644,\n",
       "        1.1481, 1.1311, 1.1644, 1.2781, 1.1311, 1.1346, 1.1481, 1.1346, 1.1644,\n",
       "        1.2781, 1.2781, 1.1644, 1.1346, 1.1346, 1.1311, 1.1644, 1.1644, 1.2781,\n",
       "        1.1644, 1.1346, 1.1346, 1.1346])"
      ]
     },
     "execution_count": 54,
     "metadata": {},
     "output_type": "execute_result"
    }
   ],
   "source": [
    "sensitivity_factor[*scanner_LUT[detector_ids][:,:2].T]"
   ]
  },
  {
   "cell_type": "code",
   "execution_count": 55,
   "id": "1f5f4ff0",
   "metadata": {},
   "outputs": [],
   "source": [
    "class EXSListmodeProjMeta(ProjMeta):\n",
    "    def __init__(self, shape, scanner_LUT, detector_ids, sensitivity_factor):\n",
    "        self.scanner_LUT = scanner_LUT\n",
    "        self.detector_ids = detector_ids\n",
    "        self.sensitivity_at_ids = sensitivity_factor[*scanner_LUT[:,1:].T]\n",
    "        self.shape = shape\n",
    "        if (sensitivity_factor.shape[0]!=M)*(sensitivity_factor.shape[1]!=M):\n",
    "            raise ValueError(\"sensitivity_factor should have side dimensions M\")\n",
    "proj_meta_listmode = EXSListmodeProjMeta((2,M,M), scanner_LUT, detector_ids, sensitivity_factor)"
   ]
  },
  {
   "cell_type": "code",
   "execution_count": 56,
   "id": "94d9b402",
   "metadata": {},
   "outputs": [],
   "source": [
    "class EXSListmodeSystemMatrix(SystemMatrix):\n",
    "    def forward(self, object, subset_idx = None):\n",
    "        # There is probably a faster implementation, but I am trying to keep it simple for illustration purposes\n",
    "        projections = []\n",
    "        for i, detector_id in enumerate(self.proj_meta.detector_ids):\n",
    "            coord = self.proj_meta.scanner_LUT[detector_id]\n",
    "            sensitivity_factor_i = self.proj_meta.sensitivity_at_ids[detector_id]\n",
    "            if coord[0]==0: # If angle 0:\n",
    "                projections.append(object[:,coord[1],coord[2]].sum() *  sensitivity_factor_i) # sum along x\n",
    "            elif coord[0]==1: # If angle 90:\n",
    "                projections.append(object[coord[1],:,coord[2]].sum() * sensitivity_factor_i)  # sum along y\n",
    "        return torch.tensor(projections)"
   ]
  },
  {
   "cell_type": "code",
   "execution_count": 57,
   "id": "d2ff94ae",
   "metadata": {},
   "outputs": [
    {
     "name": "stdout",
     "output_type": "stream",
     "text": [
      "torch.Size([400])\n"
     ]
    },
    {
     "data": {
      "text/plain": [
       "tensor([1.1379, 0.8070, 1.3997, 0.7729, 2.1227, 1.2636, 1.0776, 1.0776, 1.2205,\n",
       "        1.2205, 0.8719, 1.2484, 0.8615, 1.5146, 0.4318, 0.5528, 0.8615, 1.3997,\n",
       "        0.7729, 0.5528, 1.5146, 0.5528, 2.1227, 1.4017, 1.2484, 1.2636, 1.0682,\n",
       "        1.3997, 1.0776, 1.5146, 1.6089, 1.5146, 1.4017, 1.0682, 1.2636, 1.4017,\n",
       "        1.2484, 0.4318, 1.1379, 1.6089, 2.1227, 2.1227, 0.8615, 1.2484, 0.7729,\n",
       "        1.2484, 1.3997, 0.8615, 0.8070, 1.1379, 0.5528, 2.1227, 0.8070, 2.1227,\n",
       "        1.2484, 1.0682, 0.8719, 0.5712, 1.6089, 0.8719, 1.2636, 0.5712, 0.4318,\n",
       "        1.5146, 0.5712, 0.7729, 1.2636, 0.5712, 0.8070, 0.5528, 1.2636, 1.0682,\n",
       "        1.4017, 0.8615, 0.8070, 1.1379, 2.1227, 2.1227, 0.4318, 2.1227, 1.2636,\n",
       "        1.4017, 0.7729, 1.2636, 1.2484, 2.1227, 1.0776, 1.2484, 0.8070, 2.1227,\n",
       "        1.1379, 1.0682, 0.4318, 1.4017, 1.6089, 0.4318, 2.1227, 0.8070, 1.0776,\n",
       "        1.5146, 1.0682, 1.2484, 0.8719, 1.0776, 1.3997, 0.8070, 1.0776, 0.4318,\n",
       "        0.4318, 2.1227, 0.5712, 1.2484, 1.5146, 0.5528, 0.8719, 0.8615, 1.6089,\n",
       "        0.4318, 0.5712, 1.0682, 0.8070, 0.8070, 1.0682, 1.0776, 1.4017, 1.0776,\n",
       "        0.7729, 0.8070, 1.3997, 1.5146, 1.2636, 0.8719, 2.1227, 0.8615, 0.5712,\n",
       "        1.1379, 0.8070, 1.2484, 1.5146, 0.8719, 0.5528, 0.5712, 0.8615, 0.8070,\n",
       "        0.8719, 1.2484, 2.1227, 1.1379, 1.2484, 1.2205, 1.2484, 1.2636, 1.0682,\n",
       "        0.7729, 0.5528, 0.7729, 1.0776, 1.2636, 0.4318, 1.2636, 1.2636, 1.2205,\n",
       "        0.4318, 0.7729, 1.4017, 0.8719, 1.2636, 0.8719, 0.8719, 0.8615, 1.1379,\n",
       "        0.5712, 1.6089, 1.2484, 2.1227, 0.5712, 0.8070, 0.4318, 1.0682, 1.5146,\n",
       "        1.2205, 1.2636, 1.6089, 0.4318, 1.3997, 0.8070, 1.2205, 0.5528, 0.7729,\n",
       "        1.3997, 1.4017, 0.4318, 1.2205, 2.1227, 1.3997, 1.0776, 1.4017, 0.4318,\n",
       "        0.8719, 0.8615, 0.4318, 0.8070, 1.0682, 1.6089, 1.0682, 1.0776, 0.8070,\n",
       "        1.5146, 0.8070, 1.1379, 2.1227, 0.8070, 0.8719, 0.5528, 1.0682, 0.4318,\n",
       "        0.5712, 1.2484, 1.0776, 1.6089, 0.8615, 0.4318, 0.8719, 1.1379, 1.0776,\n",
       "        0.8615, 0.7729, 1.2636, 0.8719, 0.8070, 0.8070, 0.8070, 0.5712, 1.2484,\n",
       "        0.4318, 1.2636, 0.5528, 0.8719, 2.1227, 1.1379, 1.2205, 1.1379, 1.2636,\n",
       "        0.8615, 1.3997, 1.2205, 0.8070, 1.5146, 0.8719, 1.1379, 0.8719, 0.5528,\n",
       "        1.2484, 0.4318, 0.5528, 1.6089, 2.1227, 1.2484, 0.8070, 1.2205, 0.5528,\n",
       "        1.6089, 1.5146, 2.1227, 0.4318, 0.5712, 0.4318, 1.0682, 0.4318, 1.4017,\n",
       "        1.0682, 1.0682, 1.0682, 2.1227, 0.8719, 1.2205, 1.0776, 1.2205, 1.5146,\n",
       "        1.1379, 1.0682, 0.4318, 1.6089, 1.0682, 1.0682, 0.8719, 2.1227, 0.4318,\n",
       "        1.4017, 0.4318, 0.4318, 1.2205, 1.5146, 1.2205, 1.1379, 0.5528, 0.8615,\n",
       "        0.8615, 1.5146, 2.1227, 1.0682, 0.8615, 0.8070, 1.2636, 1.0776, 1.4017,\n",
       "        1.6089, 1.3997, 2.1227, 1.0776, 1.2205, 0.4318, 1.2205, 1.3997, 1.5146,\n",
       "        0.8615, 0.4318, 1.2205, 0.8719, 1.0776, 1.5146, 1.0776, 1.6089, 1.0682,\n",
       "        0.4318, 0.8615, 0.8615, 0.5528, 1.5146, 0.5528, 1.2636, 0.8719, 1.6089,\n",
       "        0.5712, 2.1227, 1.1379, 1.4017, 1.5146, 0.8070, 0.7729, 1.4017, 0.7729,\n",
       "        1.0682, 1.1379, 1.4017, 1.2636, 1.4017, 1.4017, 1.1379, 1.5146, 0.5528,\n",
       "        1.0682, 1.2205, 0.5712, 1.3997, 1.5146, 0.8719, 1.2205, 1.6089, 1.3997,\n",
       "        2.1227, 2.1227, 1.2205, 1.2205, 0.8719, 1.4017, 1.4017, 1.1379, 0.8070,\n",
       "        1.0682, 2.1227, 0.8070, 1.0776, 0.8615, 1.2484, 1.0682, 1.6089, 1.0682,\n",
       "        1.6089, 1.2205, 1.0682, 0.8615, 0.4318, 1.5146, 1.6089, 0.8719, 1.4017,\n",
       "        2.1227, 0.8070, 1.0682, 1.2636, 1.5146, 1.0776, 1.1379, 1.1379, 2.1227,\n",
       "        1.1379, 1.5146, 1.5146, 0.8719])"
      ]
     },
     "execution_count": 57,
     "metadata": {},
     "output_type": "execute_result"
    }
   ],
   "source": [
    "system_matrix = EXSListmodeSystemMatrix(object_meta=object_meta, proj_meta=proj_meta_listmode)\n",
    "sample_object = torch.rand(object_meta.shape) # object has batch dimension\n",
    "sample_projections = system_matrix.forward(sample_object)\n",
    "\n",
    "print(sample_projections.shape) \n",
    "sample_projections"
   ]
  },
  {
   "cell_type": "code",
   "execution_count": 58,
   "id": "401fd966",
   "metadata": {},
   "outputs": [],
   "source": [
    "class EXSListmodeSystemMatrix(SystemMatrix):\n",
    "    # ----\n",
    "    # SAME AS ABOVE\n",
    "    # ----\n",
    "    def forward(self, object, subset_idx = None):\n",
    "        # There is probably a faster implementation, but I am trying to keep it simple for illustration purposes\n",
    "        projections = []\n",
    "        for i, detector_id in enumerate(self.proj_meta.detector_ids):\n",
    "            coord = self.proj_meta.scanner_LUT[detector_id]\n",
    "            sensitivity_factor_i = self.proj_meta.sensitivity_at_ids[detector_id]\n",
    "            if coord[0]==0: # If angle 0:\n",
    "                projections.append(object[:,coord[1],coord[2]].sum() *  sensitivity_factor_i) # sum along x\n",
    "            elif coord[0]==1: # If angle 90:\n",
    "                projections.append(object[coord[1],:,coord[2]].sum() * sensitivity_factor_i)  # sum along y\n",
    "        return torch.tensor(projections)\n",
    "    # ---\n",
    "    # NEW CODE\n",
    "    # ---\n",
    "    def backward(self, projections, subset_idx = None):\n",
    "        # There is probably a faster implementation, but I am trying to keep it simple for illustration purposes\n",
    "        object = torch.zeros(object_meta.shape)\n",
    "        projections *= self.proj_meta.sensitivity_at_ids[self.proj_meta.detector_ids]\n",
    "        for i, detector_id in enumerate(detector_ids):\n",
    "            coord = self.proj_meta.scanner_LUT[detector_id]\n",
    "            if coord[0]==0: # If angle 0:\n",
    "                object[:,coord[1],coord[2]] += projections[i]\n",
    "            elif coord[0]==1: # If angle 90:\n",
    "                object[coord[1],:,coord[2]] += projections[i]\n",
    "        return object"
   ]
  },
  {
   "cell_type": "code",
   "execution_count": 59,
   "id": "d30119f2",
   "metadata": {},
   "outputs": [],
   "source": [
    "system_matrix = EXSListmodeSystemMatrix(object_meta=object_meta, proj_meta=proj_meta_listmode)\n",
    "sample_object = torch.rand(object_meta.shape) # object has batch dimension\n",
    "FP = system_matrix.forward(sample_object)\n",
    "BP = system_matrix.backward(FP)"
   ]
  },
  {
   "cell_type": "code",
   "execution_count": 60,
   "id": "804de2be",
   "metadata": {},
   "outputs": [],
   "source": [
    "class EXSListmodeSystemMatrix(SystemMatrix):\n",
    "    # ----\n",
    "    # SAME AS ABOVE\n",
    "    # ----\n",
    "    def forward(self, object, subset_idx = None):\n",
    "        # There is probably a faster implementation, but I am trying to keep it simple for illustration purposes\n",
    "        projections = []\n",
    "        for i, detector_id in enumerate(self.proj_meta.detector_ids):\n",
    "            coord = self.proj_meta.scanner_LUT[detector_id]\n",
    "            sensitivity_factor_i = self.proj_meta.sensitivity_at_ids[detector_id]\n",
    "            if coord[0]==0: # If angle 0:\n",
    "                projections.append(object[:,coord[1],coord[2]].sum() *  sensitivity_factor_i) # sum along x\n",
    "            elif coord[0]==1: # If angle 90:\n",
    "                projections.append(object[coord[1],:,coord[2]].sum() * sensitivity_factor_i)  # sum along y\n",
    "        return torch.tensor(projections)\n",
    "    def backward(self, projections, subset_idx = None):\n",
    "        # There is probably a faster implementation, but I am trying to keep it simple for illustration purposes\n",
    "        object = torch.zeros(object_meta.shape)\n",
    "        projections *= self.proj_meta.sensitivity_at_ids[self.proj_meta.detector_ids]\n",
    "        for i, detector_id in enumerate(detector_ids):\n",
    "            coord = self.proj_meta.scanner_LUT[detector_id]\n",
    "            if coord[0]==0: # If angle 0:\n",
    "                object[:,coord[1],coord[2]] += projections[i]\n",
    "            elif coord[0]==1: # If angle 90:\n",
    "                object[coord[1],:,coord[2]] += projections[i]\n",
    "        return object\n",
    "    # ----\n",
    "    # NEW CODE\n",
    "    # ----\n",
    "    def compute_normalization_factor(self):\n",
    "        norm_BP = torch.zeros(object_meta.shape)\n",
    "        # Now we loop through unique detector ids instead\n",
    "        unique_detector_ids = torch.arange(scanner_LUT.shape[0])\n",
    "        for i, detector_id in enumerate(unique_detector_ids):\n",
    "            coord = self.proj_meta.scanner_LUT[detector_id]\n",
    "            sensitivity_factor_i = self.proj_meta.sensitivity_at_ids[detector_id]\n",
    "            if coord[0]==0: # If angle 0:\n",
    "                norm_BP[:,coord[1],coord[2]] += sensitivity_factor_i\n",
    "            elif coord[0]==1: # If angle 90:\n",
    "                norm_BP[coord[1],:,coord[2]] += sensitivity_factor_i\n",
    "        return norm_BP"
   ]
  },
  {
   "cell_type": "code",
   "execution_count": 61,
   "id": "d529a171",
   "metadata": {},
   "outputs": [
    {
     "data": {
      "text/plain": [
       "tensor([[1.1644, 1.2781, 1.1994],\n",
       "        [1.1311, 1.1346, 1.1481],\n",
       "        [1.2142, 1.1189, 1.0945]])"
      ]
     },
     "execution_count": 61,
     "metadata": {},
     "output_type": "execute_result"
    }
   ],
   "source": [
    "sensitivity_factor"
   ]
  },
  {
   "cell_type": "code",
   "execution_count": 62,
   "id": "c566a3fa",
   "metadata": {},
   "outputs": [],
   "source": [
    "system_matrix = EXSListmodeSystemMatrix(object_meta=object_meta, proj_meta=proj_meta_listmode)\n",
    "norm_BP = system_matrix.compute_normalization_factor()"
   ]
  },
  {
   "cell_type": "code",
   "execution_count": 63,
   "id": "d8aa0c1e",
   "metadata": {},
   "outputs": [
    {
     "data": {
      "text/plain": [
       "<matplotlib.colorbar.Colorbar at 0x2166c7b3110>"
      ]
     },
     "execution_count": 63,
     "metadata": {},
     "output_type": "execute_result"
    },
    {
     "data": {
      "image/png": "[encoded data removed]",
      "text/plain": [
       "<Figure size 200x200 with 2 Axes>"
      ]
     },
     "metadata": {},
     "output_type": "display_data"
    }
   ],
   "source": [
    "plt.figure(figsize=(2,2))\n",
    "plt.pcolormesh(norm_BP[:,:,1])\n",
    "plt.colorbar()"
   ]
  },
  {
   "cell_type": "code",
   "execution_count": 64,
   "id": "a269c6ce",
   "metadata": {},
   "outputs": [],
   "source": [
    "system_matrix = EXSListmodeSystemMatrix(object_meta=object_meta, proj_meta=proj_meta_listmode)\n",
    "likelihood = NegativeMSELikelihood(system_matrix, scaling_constant=0.01)\n",
    "reconstruction_algorithm = OSEM(likelihood)"
   ]
  },
  {
   "cell_type": "code",
   "execution_count": 65,
   "id": "d3c58989",
   "metadata": {},
   "outputs": [
    {
     "data": {
      "text/plain": [
       "torch.Size([3, 3, 3])"
      ]
     },
     "execution_count": 65,
     "metadata": {},
     "output_type": "execute_result"
    }
   ],
   "source": [
    "recon = reconstruction_algorithm(n_iters=40)\n",
    "\n",
    "recon.shape"
   ]
  },
  {
   "cell_type": "code",
   "execution_count": 66,
   "id": "1ff92f15",
   "metadata": {},
   "outputs": [
    {
     "data": {
      "text/plain": [
       "<matplotlib.colorbar.Colorbar at 0x2166c845d10>"
      ]
     },
     "execution_count": 66,
     "metadata": {},
     "output_type": "execute_result"
    },
    {
     "data": {
      "image/png": "[encoded data removed]",
      "text/plain": [
       "<Figure size 200x200 with 2 Axes>"
      ]
     },
     "metadata": {},
     "output_type": "display_data"
    }
   ],
   "source": [
    "plt.figure(figsize=(2,2))\n",
    "plt.pcolormesh(recon[:,:,1], vmin=0, cmap='nipy_spectral')\n",
    "plt.axis('off')\n",
    "plt.colorbar()"
   ]
  },
  {
   "cell_type": "code",
   "execution_count": 67,
   "id": "0d58d266",
   "metadata": {},
   "outputs": [],
   "source": [
    "class EXSListmodeSystemMatrix(SystemMatrix):\n",
    "    # ----\n",
    "    # NEW CODE\n",
    "    # ----\n",
    "    def set_n_subsets(self, n_subsets):\n",
    "        self.n_subsets = n_subsets\n",
    "        idx = torch.arange(proj_meta_listmode.detector_ids.shape[0])\n",
    "        self.subset_indices_array = torch.tensor_split(idx, self.n_subsets)\n",
    "    def get_projection_subset(self, projections, subset_idx):\n",
    "        # Needs to consider cases where projection is simply a 1 element tensor in the numerator, but also cases of scatter where it is a longer tensor\n",
    "        if (projections.shape[0]>1)*(subset_idx is not None):\n",
    "            subset_indices = self.subset_indices_array[subset_idx]\n",
    "            proj_subset = projections[subset_indices]\n",
    "        else:\n",
    "            proj_subset = projections\n",
    "        return proj_subset\n",
    "    def get_weighting_subset(self, subset_idx):\n",
    "        if subset_idx is None:\n",
    "            return 1\n",
    "        else:\n",
    "            # Fraction of events in the subset\n",
    "            return self.subset_indices_array[subset_idx].shape[0] / proj_meta_listmode.detector_ids.shape[0]\n",
    "    def forward(self, object, subset_idx = None):\n",
    "        # There is probably a faster implementation, but I am trying to keep it simple for illustration purposes\n",
    "        projections = []\n",
    "        if subset_idx is None:\n",
    "            detector_ids_subset = self.proj_meta.detector_ids\n",
    "        else:\n",
    "            detector_ids_subset = self.proj_meta.detector_ids[self.subset_indices_array[subset_idx]]\n",
    "        for i, detector_id in enumerate(detector_ids_subset):\n",
    "            coord = self.proj_meta.scanner_LUT[detector_id]\n",
    "            sensitivity_factor_i = self.proj_meta.sensitivity_at_ids[detector_id]\n",
    "            if coord[0]==0: # If angle 0:\n",
    "                projections.append(object[:,coord[1],coord[2]].sum() *  sensitivity_factor_i) # sum along x\n",
    "            elif coord[0]==1: # If angle 90:\n",
    "                projections.append(object[coord[1],:,coord[2]].sum() * sensitivity_factor_i)  # sum along y\n",
    "        return torch.tensor(projections)\n",
    "    def backward(self, projections, subset_idx = None):\n",
    "        # There is probably a faster implementation, but I am trying to keep it simple for illustration purposes\n",
    "        object = torch.zeros(object_meta.shape)\n",
    "        if subset_idx is None:\n",
    "            detector_ids_subset = self.proj_meta.detector_ids\n",
    "        else:\n",
    "            detector_ids_subset = self.proj_meta.detector_ids[self.subset_indices_array[subset_idx]]\n",
    "        projections *= self.proj_meta.sensitivity_at_ids[detector_ids_subset]\n",
    "        for i, detector_id in enumerate(detector_ids_subset):\n",
    "            coord = self.proj_meta.scanner_LUT[detector_id]\n",
    "            if coord[0]==0: # If angle 0:\n",
    "                object[:,coord[1],coord[2]] += projections[i]\n",
    "            elif coord[0]==1: # If angle 90:\n",
    "                object[coord[1],:,coord[2]] += projections[i]\n",
    "        return object\n",
    "    def compute_normalization_factor(self, subset_idx=None):\n",
    "        fraction_considered = self.get_weighting_subset(subset_idx)\n",
    "        norm_BP = torch.zeros(object_meta.shape)\n",
    "        # Now we loop through unique detector ids instead\n",
    "        unique_detector_ids = torch.arange(scanner_LUT.shape[0])\n",
    "        for i, detector_id in enumerate(unique_detector_ids):\n",
    "            coord = self.proj_meta.scanner_LUT[detector_id]\n",
    "            sensitivity_factor_i = self.proj_meta.sensitivity_at_ids[detector_id]\n",
    "            if coord[0]==0: # If angle 0:\n",
    "                norm_BP[:,coord[1],coord[2]] += sensitivity_factor_i\n",
    "            elif coord[0]==1: # If angle 90:\n",
    "                norm_BP[coord[1],:,coord[2]] += sensitivity_factor_i\n",
    "        return norm_BP * fraction_considered"
   ]
  },
  {
   "cell_type": "code",
   "execution_count": 81,
   "id": "d104f5a4",
   "metadata": {},
   "outputs": [],
   "source": [
    "system_matrix = EXSListmodeSystemMatrix(object_meta=object_meta, proj_meta=proj_meta_listmode)\n",
    "likelihood = NegativeMSELikelihood(system_matrix, scaling_constant=0.01)\n",
    "reconstruction_algorithm = OSEM(likelihood)"
   ]
  },
  {
   "cell_type": "code",
   "execution_count": 82,
   "id": "2a8badf8",
   "metadata": {},
   "outputs": [],
   "source": [
    "recon_2subsets = reconstruction_algorithm(n_iters=20, n_subsets=2)\n",
    "reconstruction_algorithm = OSEM(likelihood)\n",
    "recon_1subset = reconstruction_algorithm(n_iters=40)"
   ]
  },
  {
   "cell_type": "code",
   "execution_count": 83,
   "id": "15dc520b",
   "metadata": {},
   "outputs": [
    {
     "data": {
      "text/plain": [
       "<matplotlib.colorbar.Colorbar at 0x2166ccd1090>"
      ]
     },
     "execution_count": 83,
     "metadata": {},
     "output_type": "execute_result"
    },
    {
     "data": {
      "image/png": "[encoded data removed]",
      "text/plain": [
       "<Figure size 400x200 with 4 Axes>"
      ]
     },
     "metadata": {},
     "output_type": "display_data"
    }
   ],
   "source": [
    "max_value = max([recon_1subset[:,:,1].max().item(), recon_1subset[:,:,1].max().item()])\n",
    "plt.figure(figsize=(4,2))\n",
    "plt.subplot(121)\n",
    "plt.pcolormesh(recon_1subset[:,:,1], vmin=0, vmax=max_value, cmap='nipy_spectral')\n",
    "plt.axis('off')\n",
    "plt.colorbar()\n",
    "plt.subplot(122)\n",
    "plt.pcolormesh(recon_2subsets[:,:,1], vmin=0, vmax=max_value, cmap='nipy_spectral')\n",
    "plt.axis('off')\n",
    "plt.colorbar()"
   ]
  }
 ],
 "metadata": {
  "kernelspec": {
   "display_name": "base",
   "language": "python",
   "name": "python3"
  },
  "language_info": {
   "codemirror_mode": {
    "name": "ipython",
    "version": 3
   },
   "file_extension": ".py",
   "mimetype": "text/x-python",
   "name": "python",
   "nbconvert_exporter": "python",
   "pygments_lexer": "ipython3",
   "version": "3.13.5"
  }
 },
 "nbformat": 4,
 "nbformat_minor": 5
}
